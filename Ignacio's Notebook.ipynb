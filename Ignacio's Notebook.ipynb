{
 "cells": [
  {
   "cell_type": "code",
   "execution_count": 1,
   "metadata": {},
   "outputs": [],
   "source": [
    "import pandas as pd\n",
    "#import matplotlib as plt\n",
    "import matplotlib.pyplot as plt\n",
    "from sklearn import preprocessing\n",
    "import numpy as np\n",
    "import plotly.express as px\n",
    "import plotly.io as pio\n",
    "import seaborn as sns\n",
    "from string import printable\n",
    "from sklearn.model_selection import train_test_split\n",
    "from sklearn.linear_model import LinearRegression\n",
    "from sklearn import metrics\n",
    "from statsmodels.formula.api import ols\n",
    "import warnings\n",
    "warnings.filterwarnings(\"ignore\")\n",
    "pd.options.display.max_columns=100\n",
    "pd.options.display.max_rows=100"
   ]
  },
  {
   "cell_type": "code",
   "execution_count": 2,
   "metadata": {},
   "outputs": [],
   "source": [
    "df= pd.read_csv('/Users/carlosruiz/Desktop/Animal-Shelter-Project/Data/aac_intakes_outcomes.csv')"
   ]
  },
  {
   "cell_type": "code",
   "execution_count": 3,
   "metadata": {
    "scrolled": true
   },
   "outputs": [
    {
     "data": {
      "text/html": [
       "<div>\n",
       "<style scoped>\n",
       "    .dataframe tbody tr th:only-of-type {\n",
       "        vertical-align: middle;\n",
       "    }\n",
       "\n",
       "    .dataframe tbody tr th {\n",
       "        vertical-align: top;\n",
       "    }\n",
       "\n",
       "    .dataframe thead th {\n",
       "        text-align: right;\n",
       "    }\n",
       "</style>\n",
       "<table border=\"1\" class=\"dataframe\">\n",
       "  <thead>\n",
       "    <tr style=\"text-align: right;\">\n",
       "      <th></th>\n",
       "      <th>age_upon_outcome</th>\n",
       "      <th>animal_id_outcome</th>\n",
       "      <th>date_of_birth</th>\n",
       "      <th>outcome_subtype</th>\n",
       "      <th>outcome_type</th>\n",
       "      <th>sex_upon_outcome</th>\n",
       "      <th>age_upon_outcome_(days)</th>\n",
       "      <th>age_upon_outcome_(years)</th>\n",
       "      <th>age_upon_outcome_age_group</th>\n",
       "      <th>outcome_datetime</th>\n",
       "      <th>outcome_month</th>\n",
       "      <th>outcome_year</th>\n",
       "      <th>outcome_monthyear</th>\n",
       "      <th>outcome_weekday</th>\n",
       "      <th>outcome_hour</th>\n",
       "      <th>outcome_number</th>\n",
       "      <th>dob_year</th>\n",
       "      <th>dob_month</th>\n",
       "      <th>dob_monthyear</th>\n",
       "      <th>age_upon_intake</th>\n",
       "      <th>animal_id_intake</th>\n",
       "      <th>animal_type</th>\n",
       "      <th>breed</th>\n",
       "      <th>color</th>\n",
       "      <th>found_location</th>\n",
       "      <th>intake_condition</th>\n",
       "      <th>intake_type</th>\n",
       "      <th>sex_upon_intake</th>\n",
       "      <th>count</th>\n",
       "      <th>age_upon_intake_(days)</th>\n",
       "      <th>age_upon_intake_(years)</th>\n",
       "      <th>age_upon_intake_age_group</th>\n",
       "      <th>intake_datetime</th>\n",
       "      <th>intake_month</th>\n",
       "      <th>intake_year</th>\n",
       "      <th>intake_monthyear</th>\n",
       "      <th>intake_weekday</th>\n",
       "      <th>intake_hour</th>\n",
       "      <th>intake_number</th>\n",
       "      <th>time_in_shelter</th>\n",
       "      <th>time_in_shelter_days</th>\n",
       "    </tr>\n",
       "  </thead>\n",
       "  <tbody>\n",
       "    <tr>\n",
       "      <th>0</th>\n",
       "      <td>10 years</td>\n",
       "      <td>A006100</td>\n",
       "      <td>2007-07-09 00:00:00</td>\n",
       "      <td>NaN</td>\n",
       "      <td>Return to Owner</td>\n",
       "      <td>Neutered Male</td>\n",
       "      <td>3650</td>\n",
       "      <td>10.000000</td>\n",
       "      <td>(7.5, 10.0]</td>\n",
       "      <td>2017-12-07 14:07:00</td>\n",
       "      <td>12</td>\n",
       "      <td>2017</td>\n",
       "      <td>2017-12</td>\n",
       "      <td>Thursday</td>\n",
       "      <td>0</td>\n",
       "      <td>1.0</td>\n",
       "      <td>2007</td>\n",
       "      <td>7</td>\n",
       "      <td>2017-12</td>\n",
       "      <td>10 years</td>\n",
       "      <td>A006100</td>\n",
       "      <td>Dog</td>\n",
       "      <td>Spinone Italiano Mix</td>\n",
       "      <td>Yellow/White</td>\n",
       "      <td>Colony Creek And Hunters Trace in Austin (TX)</td>\n",
       "      <td>Normal</td>\n",
       "      <td>Stray</td>\n",
       "      <td>Neutered Male</td>\n",
       "      <td>1</td>\n",
       "      <td>3650</td>\n",
       "      <td>10.000000</td>\n",
       "      <td>(7.5, 10.0]</td>\n",
       "      <td>2017-12-07 00:00:00</td>\n",
       "      <td>12</td>\n",
       "      <td>2017</td>\n",
       "      <td>2017-12</td>\n",
       "      <td>Thursday</td>\n",
       "      <td>14</td>\n",
       "      <td>1.0</td>\n",
       "      <td>0 days 14:07:00.000000000</td>\n",
       "      <td>0.588194</td>\n",
       "    </tr>\n",
       "    <tr>\n",
       "      <th>1</th>\n",
       "      <td>7 years</td>\n",
       "      <td>A006100</td>\n",
       "      <td>2007-07-09 00:00:00</td>\n",
       "      <td>NaN</td>\n",
       "      <td>Return to Owner</td>\n",
       "      <td>Neutered Male</td>\n",
       "      <td>2555</td>\n",
       "      <td>7.000000</td>\n",
       "      <td>(5.0, 7.5]</td>\n",
       "      <td>2014-12-20 16:35:00</td>\n",
       "      <td>12</td>\n",
       "      <td>2014</td>\n",
       "      <td>2014-12</td>\n",
       "      <td>Saturday</td>\n",
       "      <td>16</td>\n",
       "      <td>2.0</td>\n",
       "      <td>2007</td>\n",
       "      <td>7</td>\n",
       "      <td>2014-12</td>\n",
       "      <td>7 years</td>\n",
       "      <td>A006100</td>\n",
       "      <td>Dog</td>\n",
       "      <td>Spinone Italiano Mix</td>\n",
       "      <td>Yellow/White</td>\n",
       "      <td>8700 Research Blvd in Austin (TX)</td>\n",
       "      <td>Normal</td>\n",
       "      <td>Public Assist</td>\n",
       "      <td>Neutered Male</td>\n",
       "      <td>1</td>\n",
       "      <td>2555</td>\n",
       "      <td>7.000000</td>\n",
       "      <td>(5.0, 7.5]</td>\n",
       "      <td>2014-12-19 10:21:00</td>\n",
       "      <td>12</td>\n",
       "      <td>2014</td>\n",
       "      <td>2014-12</td>\n",
       "      <td>Friday</td>\n",
       "      <td>10</td>\n",
       "      <td>2.0</td>\n",
       "      <td>1 days 06:14:00.000000000</td>\n",
       "      <td>1.259722</td>\n",
       "    </tr>\n",
       "    <tr>\n",
       "      <th>2</th>\n",
       "      <td>6 years</td>\n",
       "      <td>A006100</td>\n",
       "      <td>2007-07-09 00:00:00</td>\n",
       "      <td>NaN</td>\n",
       "      <td>Return to Owner</td>\n",
       "      <td>Neutered Male</td>\n",
       "      <td>2190</td>\n",
       "      <td>6.000000</td>\n",
       "      <td>(5.0, 7.5]</td>\n",
       "      <td>2014-03-08 17:10:00</td>\n",
       "      <td>3</td>\n",
       "      <td>2014</td>\n",
       "      <td>2014-03</td>\n",
       "      <td>Saturday</td>\n",
       "      <td>17</td>\n",
       "      <td>3.0</td>\n",
       "      <td>2007</td>\n",
       "      <td>7</td>\n",
       "      <td>2014-03</td>\n",
       "      <td>6 years</td>\n",
       "      <td>A006100</td>\n",
       "      <td>Dog</td>\n",
       "      <td>Spinone Italiano Mix</td>\n",
       "      <td>Yellow/White</td>\n",
       "      <td>8700 Research in Austin (TX)</td>\n",
       "      <td>Normal</td>\n",
       "      <td>Public Assist</td>\n",
       "      <td>Neutered Male</td>\n",
       "      <td>1</td>\n",
       "      <td>2190</td>\n",
       "      <td>6.000000</td>\n",
       "      <td>(5.0, 7.5]</td>\n",
       "      <td>2014-03-07 14:26:00</td>\n",
       "      <td>3</td>\n",
       "      <td>2014</td>\n",
       "      <td>2014-03</td>\n",
       "      <td>Friday</td>\n",
       "      <td>14</td>\n",
       "      <td>3.0</td>\n",
       "      <td>1 days 02:44:00.000000000</td>\n",
       "      <td>1.113889</td>\n",
       "    </tr>\n",
       "    <tr>\n",
       "      <th>3</th>\n",
       "      <td>10 years</td>\n",
       "      <td>A047759</td>\n",
       "      <td>2004-04-02 00:00:00</td>\n",
       "      <td>Partner</td>\n",
       "      <td>Transfer</td>\n",
       "      <td>Neutered Male</td>\n",
       "      <td>3650</td>\n",
       "      <td>10.000000</td>\n",
       "      <td>(7.5, 10.0]</td>\n",
       "      <td>2014-04-07 15:12:00</td>\n",
       "      <td>4</td>\n",
       "      <td>2014</td>\n",
       "      <td>2014-04</td>\n",
       "      <td>Monday</td>\n",
       "      <td>15</td>\n",
       "      <td>1.0</td>\n",
       "      <td>2004</td>\n",
       "      <td>4</td>\n",
       "      <td>2014-04</td>\n",
       "      <td>10 years</td>\n",
       "      <td>A047759</td>\n",
       "      <td>Dog</td>\n",
       "      <td>Dachshund</td>\n",
       "      <td>Tricolor</td>\n",
       "      <td>Austin (TX)</td>\n",
       "      <td>Normal</td>\n",
       "      <td>Owner Surrender</td>\n",
       "      <td>Neutered Male</td>\n",
       "      <td>1</td>\n",
       "      <td>3650</td>\n",
       "      <td>10.000000</td>\n",
       "      <td>(7.5, 10.0]</td>\n",
       "      <td>2014-04-02 15:55:00</td>\n",
       "      <td>4</td>\n",
       "      <td>2014</td>\n",
       "      <td>2014-04</td>\n",
       "      <td>Wednesday</td>\n",
       "      <td>15</td>\n",
       "      <td>1.0</td>\n",
       "      <td>4 days 23:17:00.000000000</td>\n",
       "      <td>4.970139</td>\n",
       "    </tr>\n",
       "    <tr>\n",
       "      <th>4</th>\n",
       "      <td>16 years</td>\n",
       "      <td>A134067</td>\n",
       "      <td>1997-10-16 00:00:00</td>\n",
       "      <td>NaN</td>\n",
       "      <td>Return to Owner</td>\n",
       "      <td>Neutered Male</td>\n",
       "      <td>5840</td>\n",
       "      <td>16.000000</td>\n",
       "      <td>(15.0, 17.5]</td>\n",
       "      <td>2013-11-16 11:54:00</td>\n",
       "      <td>11</td>\n",
       "      <td>2013</td>\n",
       "      <td>2013-11</td>\n",
       "      <td>Saturday</td>\n",
       "      <td>11</td>\n",
       "      <td>1.0</td>\n",
       "      <td>1997</td>\n",
       "      <td>10</td>\n",
       "      <td>2013-11</td>\n",
       "      <td>16 years</td>\n",
       "      <td>A134067</td>\n",
       "      <td>Dog</td>\n",
       "      <td>Shetland Sheepdog</td>\n",
       "      <td>Brown/White</td>\n",
       "      <td>12034 Research Blvd in Austin (TX)</td>\n",
       "      <td>Injured</td>\n",
       "      <td>Public Assist</td>\n",
       "      <td>Neutered Male</td>\n",
       "      <td>1</td>\n",
       "      <td>5840</td>\n",
       "      <td>16.000000</td>\n",
       "      <td>(15.0, 17.5]</td>\n",
       "      <td>2013-11-16 09:02:00</td>\n",
       "      <td>11</td>\n",
       "      <td>2013</td>\n",
       "      <td>2013-11</td>\n",
       "      <td>Saturday</td>\n",
       "      <td>9</td>\n",
       "      <td>1.0</td>\n",
       "      <td>0 days 02:52:00.000000000</td>\n",
       "      <td>0.119444</td>\n",
       "    </tr>\n",
       "    <tr>\n",
       "      <th>...</th>\n",
       "      <td>...</td>\n",
       "      <td>...</td>\n",
       "      <td>...</td>\n",
       "      <td>...</td>\n",
       "      <td>...</td>\n",
       "      <td>...</td>\n",
       "      <td>...</td>\n",
       "      <td>...</td>\n",
       "      <td>...</td>\n",
       "      <td>...</td>\n",
       "      <td>...</td>\n",
       "      <td>...</td>\n",
       "      <td>...</td>\n",
       "      <td>...</td>\n",
       "      <td>...</td>\n",
       "      <td>...</td>\n",
       "      <td>...</td>\n",
       "      <td>...</td>\n",
       "      <td>...</td>\n",
       "      <td>...</td>\n",
       "      <td>...</td>\n",
       "      <td>...</td>\n",
       "      <td>...</td>\n",
       "      <td>...</td>\n",
       "      <td>...</td>\n",
       "      <td>...</td>\n",
       "      <td>...</td>\n",
       "      <td>...</td>\n",
       "      <td>...</td>\n",
       "      <td>...</td>\n",
       "      <td>...</td>\n",
       "      <td>...</td>\n",
       "      <td>...</td>\n",
       "      <td>...</td>\n",
       "      <td>...</td>\n",
       "      <td>...</td>\n",
       "      <td>...</td>\n",
       "      <td>...</td>\n",
       "      <td>...</td>\n",
       "      <td>...</td>\n",
       "      <td>...</td>\n",
       "    </tr>\n",
       "    <tr>\n",
       "      <th>79667</th>\n",
       "      <td>2 weeks</td>\n",
       "      <td>A769060</td>\n",
       "      <td>2018-03-14 00:00:00</td>\n",
       "      <td>Partner</td>\n",
       "      <td>Transfer</td>\n",
       "      <td>Unknown</td>\n",
       "      <td>14</td>\n",
       "      <td>0.038356</td>\n",
       "      <td>(-0.025, 2.5]</td>\n",
       "      <td>2018-03-29 18:14:00</td>\n",
       "      <td>3</td>\n",
       "      <td>2018</td>\n",
       "      <td>2018-03</td>\n",
       "      <td>Thursday</td>\n",
       "      <td>18</td>\n",
       "      <td>1.0</td>\n",
       "      <td>2018</td>\n",
       "      <td>3</td>\n",
       "      <td>2018-03</td>\n",
       "      <td>2 weeks</td>\n",
       "      <td>A769060</td>\n",
       "      <td>Cat</td>\n",
       "      <td>Domestic Shorthair Mix</td>\n",
       "      <td>Tortie</td>\n",
       "      <td>1208 Coaches Crossing in Pflugerville (TX)</td>\n",
       "      <td>Normal</td>\n",
       "      <td>Stray</td>\n",
       "      <td>Unknown</td>\n",
       "      <td>1</td>\n",
       "      <td>14</td>\n",
       "      <td>0.038356</td>\n",
       "      <td>(-0.025, 2.5]</td>\n",
       "      <td>2018-03-29 16:23:00</td>\n",
       "      <td>3</td>\n",
       "      <td>2018</td>\n",
       "      <td>2018-03</td>\n",
       "      <td>Thursday</td>\n",
       "      <td>16</td>\n",
       "      <td>1.0</td>\n",
       "      <td>0 days 01:51:00.000000000</td>\n",
       "      <td>0.077083</td>\n",
       "    </tr>\n",
       "    <tr>\n",
       "      <th>79668</th>\n",
       "      <td>2 years</td>\n",
       "      <td>A769064</td>\n",
       "      <td>2016-03-29 00:00:00</td>\n",
       "      <td>Rabies Risk</td>\n",
       "      <td>Euthanasia</td>\n",
       "      <td>Unknown</td>\n",
       "      <td>730</td>\n",
       "      <td>2.000000</td>\n",
       "      <td>(-0.025, 2.5]</td>\n",
       "      <td>2018-03-29 18:30:00</td>\n",
       "      <td>3</td>\n",
       "      <td>2018</td>\n",
       "      <td>2018-03</td>\n",
       "      <td>Thursday</td>\n",
       "      <td>18</td>\n",
       "      <td>1.0</td>\n",
       "      <td>2016</td>\n",
       "      <td>3</td>\n",
       "      <td>2018-03</td>\n",
       "      <td>2 years</td>\n",
       "      <td>A769064</td>\n",
       "      <td>Other</td>\n",
       "      <td>Bat Mix</td>\n",
       "      <td>Brown</td>\n",
       "      <td>2519 Scarbrough Dr in Travis (TX)</td>\n",
       "      <td>Normal</td>\n",
       "      <td>Wildlife</td>\n",
       "      <td>Unknown</td>\n",
       "      <td>1</td>\n",
       "      <td>730</td>\n",
       "      <td>2.000000</td>\n",
       "      <td>(-0.025, 2.5]</td>\n",
       "      <td>2018-03-29 17:13:00</td>\n",
       "      <td>3</td>\n",
       "      <td>2018</td>\n",
       "      <td>2018-03</td>\n",
       "      <td>Thursday</td>\n",
       "      <td>17</td>\n",
       "      <td>1.0</td>\n",
       "      <td>0 days 01:17:00.000000000</td>\n",
       "      <td>0.053472</td>\n",
       "    </tr>\n",
       "    <tr>\n",
       "      <th>79669</th>\n",
       "      <td>1 year</td>\n",
       "      <td>A769065</td>\n",
       "      <td>2017-03-29 00:00:00</td>\n",
       "      <td>Rabies Risk</td>\n",
       "      <td>Euthanasia</td>\n",
       "      <td>Unknown</td>\n",
       "      <td>365</td>\n",
       "      <td>1.000000</td>\n",
       "      <td>(-0.025, 2.5]</td>\n",
       "      <td>2018-03-29 18:28:00</td>\n",
       "      <td>3</td>\n",
       "      <td>2018</td>\n",
       "      <td>2018-03</td>\n",
       "      <td>Thursday</td>\n",
       "      <td>18</td>\n",
       "      <td>1.0</td>\n",
       "      <td>2017</td>\n",
       "      <td>3</td>\n",
       "      <td>2018-03</td>\n",
       "      <td>1 year</td>\n",
       "      <td>A769065</td>\n",
       "      <td>Other</td>\n",
       "      <td>Bat Mix</td>\n",
       "      <td>Brown</td>\n",
       "      <td>1122 Walton Ln in Austin (TX)</td>\n",
       "      <td>Normal</td>\n",
       "      <td>Wildlife</td>\n",
       "      <td>Unknown</td>\n",
       "      <td>1</td>\n",
       "      <td>365</td>\n",
       "      <td>1.000000</td>\n",
       "      <td>(-0.025, 2.5]</td>\n",
       "      <td>2018-03-29 17:19:00</td>\n",
       "      <td>3</td>\n",
       "      <td>2018</td>\n",
       "      <td>2018-03</td>\n",
       "      <td>Thursday</td>\n",
       "      <td>17</td>\n",
       "      <td>1.0</td>\n",
       "      <td>0 days 01:09:00.000000000</td>\n",
       "      <td>0.047917</td>\n",
       "    </tr>\n",
       "    <tr>\n",
       "      <th>79670</th>\n",
       "      <td>10 months</td>\n",
       "      <td>A769066</td>\n",
       "      <td>2017-05-01 00:00:00</td>\n",
       "      <td>NaN</td>\n",
       "      <td>Return to Owner</td>\n",
       "      <td>Intact Male</td>\n",
       "      <td>300</td>\n",
       "      <td>0.821918</td>\n",
       "      <td>(-0.025, 2.5]</td>\n",
       "      <td>2018-03-31 12:37:00</td>\n",
       "      <td>3</td>\n",
       "      <td>2018</td>\n",
       "      <td>2018-03</td>\n",
       "      <td>Saturday</td>\n",
       "      <td>12</td>\n",
       "      <td>1.0</td>\n",
       "      <td>2017</td>\n",
       "      <td>5</td>\n",
       "      <td>2018-03</td>\n",
       "      <td>5 months</td>\n",
       "      <td>A769066</td>\n",
       "      <td>Dog</td>\n",
       "      <td>Labrador Retriever Mix</td>\n",
       "      <td>Black/White</td>\n",
       "      <td>12034 Research Blvd Sb in Austin (TX)</td>\n",
       "      <td>Normal</td>\n",
       "      <td>Stray</td>\n",
       "      <td>Intact Male</td>\n",
       "      <td>1</td>\n",
       "      <td>150</td>\n",
       "      <td>0.410959</td>\n",
       "      <td>(-0.025, 2.5]</td>\n",
       "      <td>2018-03-29 18:19:00</td>\n",
       "      <td>3</td>\n",
       "      <td>2018</td>\n",
       "      <td>2018-03</td>\n",
       "      <td>Thursday</td>\n",
       "      <td>18</td>\n",
       "      <td>1.0</td>\n",
       "      <td>1 days 18:18:00.000000000</td>\n",
       "      <td>1.762500</td>\n",
       "    </tr>\n",
       "    <tr>\n",
       "      <th>79671</th>\n",
       "      <td>10 years</td>\n",
       "      <td>A769067</td>\n",
       "      <td>2008-03-29 00:00:00</td>\n",
       "      <td>Suffering</td>\n",
       "      <td>Euthanasia</td>\n",
       "      <td>Spayed Female</td>\n",
       "      <td>3650</td>\n",
       "      <td>10.000000</td>\n",
       "      <td>(7.5, 10.0]</td>\n",
       "      <td>2018-03-30 13:52:00</td>\n",
       "      <td>3</td>\n",
       "      <td>2018</td>\n",
       "      <td>2018-03</td>\n",
       "      <td>Friday</td>\n",
       "      <td>13</td>\n",
       "      <td>1.0</td>\n",
       "      <td>2008</td>\n",
       "      <td>3</td>\n",
       "      <td>2018-03</td>\n",
       "      <td>10 years</td>\n",
       "      <td>A769067</td>\n",
       "      <td>Dog</td>\n",
       "      <td>Boxer Mix</td>\n",
       "      <td>Brown Brindle</td>\n",
       "      <td>11216 Jollyville Rd 216 in Austin (TX)</td>\n",
       "      <td>Aged</td>\n",
       "      <td>Stray</td>\n",
       "      <td>Spayed Female</td>\n",
       "      <td>1</td>\n",
       "      <td>3650</td>\n",
       "      <td>10.000000</td>\n",
       "      <td>(7.5, 10.0]</td>\n",
       "      <td>2018-03-29 18:20:00</td>\n",
       "      <td>3</td>\n",
       "      <td>2018</td>\n",
       "      <td>2018-03</td>\n",
       "      <td>Thursday</td>\n",
       "      <td>18</td>\n",
       "      <td>1.0</td>\n",
       "      <td>0 days 19:32:00.000000000</td>\n",
       "      <td>0.813889</td>\n",
       "    </tr>\n",
       "  </tbody>\n",
       "</table>\n",
       "<p>79672 rows × 41 columns</p>\n",
       "</div>"
      ],
      "text/plain": [
       "      age_upon_outcome animal_id_outcome        date_of_birth outcome_subtype  \\\n",
       "0             10 years           A006100  2007-07-09 00:00:00             NaN   \n",
       "1              7 years           A006100  2007-07-09 00:00:00             NaN   \n",
       "2              6 years           A006100  2007-07-09 00:00:00             NaN   \n",
       "3             10 years           A047759  2004-04-02 00:00:00         Partner   \n",
       "4             16 years           A134067  1997-10-16 00:00:00             NaN   \n",
       "...                ...               ...                  ...             ...   \n",
       "79667          2 weeks           A769060  2018-03-14 00:00:00         Partner   \n",
       "79668          2 years           A769064  2016-03-29 00:00:00     Rabies Risk   \n",
       "79669           1 year           A769065  2017-03-29 00:00:00     Rabies Risk   \n",
       "79670        10 months           A769066  2017-05-01 00:00:00             NaN   \n",
       "79671         10 years           A769067  2008-03-29 00:00:00       Suffering   \n",
       "\n",
       "          outcome_type sex_upon_outcome  age_upon_outcome_(days)  \\\n",
       "0      Return to Owner    Neutered Male                     3650   \n",
       "1      Return to Owner    Neutered Male                     2555   \n",
       "2      Return to Owner    Neutered Male                     2190   \n",
       "3             Transfer    Neutered Male                     3650   \n",
       "4      Return to Owner    Neutered Male                     5840   \n",
       "...                ...              ...                      ...   \n",
       "79667         Transfer          Unknown                       14   \n",
       "79668       Euthanasia          Unknown                      730   \n",
       "79669       Euthanasia          Unknown                      365   \n",
       "79670  Return to Owner      Intact Male                      300   \n",
       "79671       Euthanasia    Spayed Female                     3650   \n",
       "\n",
       "       age_upon_outcome_(years) age_upon_outcome_age_group  \\\n",
       "0                     10.000000                (7.5, 10.0]   \n",
       "1                      7.000000                 (5.0, 7.5]   \n",
       "2                      6.000000                 (5.0, 7.5]   \n",
       "3                     10.000000                (7.5, 10.0]   \n",
       "4                     16.000000               (15.0, 17.5]   \n",
       "...                         ...                        ...   \n",
       "79667                  0.038356              (-0.025, 2.5]   \n",
       "79668                  2.000000              (-0.025, 2.5]   \n",
       "79669                  1.000000              (-0.025, 2.5]   \n",
       "79670                  0.821918              (-0.025, 2.5]   \n",
       "79671                 10.000000                (7.5, 10.0]   \n",
       "\n",
       "          outcome_datetime  outcome_month  outcome_year outcome_monthyear  \\\n",
       "0      2017-12-07 14:07:00             12          2017           2017-12   \n",
       "1      2014-12-20 16:35:00             12          2014           2014-12   \n",
       "2      2014-03-08 17:10:00              3          2014           2014-03   \n",
       "3      2014-04-07 15:12:00              4          2014           2014-04   \n",
       "4      2013-11-16 11:54:00             11          2013           2013-11   \n",
       "...                    ...            ...           ...               ...   \n",
       "79667  2018-03-29 18:14:00              3          2018           2018-03   \n",
       "79668  2018-03-29 18:30:00              3          2018           2018-03   \n",
       "79669  2018-03-29 18:28:00              3          2018           2018-03   \n",
       "79670  2018-03-31 12:37:00              3          2018           2018-03   \n",
       "79671  2018-03-30 13:52:00              3          2018           2018-03   \n",
       "\n",
       "      outcome_weekday  outcome_hour  outcome_number  dob_year  dob_month  \\\n",
       "0            Thursday             0             1.0      2007          7   \n",
       "1            Saturday            16             2.0      2007          7   \n",
       "2            Saturday            17             3.0      2007          7   \n",
       "3              Monday            15             1.0      2004          4   \n",
       "4            Saturday            11             1.0      1997         10   \n",
       "...               ...           ...             ...       ...        ...   \n",
       "79667        Thursday            18             1.0      2018          3   \n",
       "79668        Thursday            18             1.0      2016          3   \n",
       "79669        Thursday            18             1.0      2017          3   \n",
       "79670        Saturday            12             1.0      2017          5   \n",
       "79671          Friday            13             1.0      2008          3   \n",
       "\n",
       "      dob_monthyear age_upon_intake animal_id_intake animal_type  \\\n",
       "0           2017-12        10 years          A006100         Dog   \n",
       "1           2014-12         7 years          A006100         Dog   \n",
       "2           2014-03         6 years          A006100         Dog   \n",
       "3           2014-04        10 years          A047759         Dog   \n",
       "4           2013-11        16 years          A134067         Dog   \n",
       "...             ...             ...              ...         ...   \n",
       "79667       2018-03         2 weeks          A769060         Cat   \n",
       "79668       2018-03         2 years          A769064       Other   \n",
       "79669       2018-03          1 year          A769065       Other   \n",
       "79670       2018-03        5 months          A769066         Dog   \n",
       "79671       2018-03        10 years          A769067         Dog   \n",
       "\n",
       "                        breed          color  \\\n",
       "0        Spinone Italiano Mix   Yellow/White   \n",
       "1        Spinone Italiano Mix   Yellow/White   \n",
       "2        Spinone Italiano Mix   Yellow/White   \n",
       "3                   Dachshund       Tricolor   \n",
       "4           Shetland Sheepdog    Brown/White   \n",
       "...                       ...            ...   \n",
       "79667  Domestic Shorthair Mix         Tortie   \n",
       "79668                 Bat Mix          Brown   \n",
       "79669                 Bat Mix          Brown   \n",
       "79670  Labrador Retriever Mix    Black/White   \n",
       "79671               Boxer Mix  Brown Brindle   \n",
       "\n",
       "                                      found_location intake_condition  \\\n",
       "0      Colony Creek And Hunters Trace in Austin (TX)           Normal   \n",
       "1                  8700 Research Blvd in Austin (TX)           Normal   \n",
       "2                       8700 Research in Austin (TX)           Normal   \n",
       "3                                        Austin (TX)           Normal   \n",
       "4                 12034 Research Blvd in Austin (TX)          Injured   \n",
       "...                                              ...              ...   \n",
       "79667     1208 Coaches Crossing in Pflugerville (TX)           Normal   \n",
       "79668              2519 Scarbrough Dr in Travis (TX)           Normal   \n",
       "79669                  1122 Walton Ln in Austin (TX)           Normal   \n",
       "79670          12034 Research Blvd Sb in Austin (TX)           Normal   \n",
       "79671         11216 Jollyville Rd 216 in Austin (TX)             Aged   \n",
       "\n",
       "           intake_type sex_upon_intake  count  age_upon_intake_(days)  \\\n",
       "0                Stray   Neutered Male      1                    3650   \n",
       "1        Public Assist   Neutered Male      1                    2555   \n",
       "2        Public Assist   Neutered Male      1                    2190   \n",
       "3      Owner Surrender   Neutered Male      1                    3650   \n",
       "4        Public Assist   Neutered Male      1                    5840   \n",
       "...                ...             ...    ...                     ...   \n",
       "79667            Stray         Unknown      1                      14   \n",
       "79668         Wildlife         Unknown      1                     730   \n",
       "79669         Wildlife         Unknown      1                     365   \n",
       "79670            Stray     Intact Male      1                     150   \n",
       "79671            Stray   Spayed Female      1                    3650   \n",
       "\n",
       "       age_upon_intake_(years) age_upon_intake_age_group      intake_datetime  \\\n",
       "0                    10.000000               (7.5, 10.0]  2017-12-07 00:00:00   \n",
       "1                     7.000000                (5.0, 7.5]  2014-12-19 10:21:00   \n",
       "2                     6.000000                (5.0, 7.5]  2014-03-07 14:26:00   \n",
       "3                    10.000000               (7.5, 10.0]  2014-04-02 15:55:00   \n",
       "4                    16.000000              (15.0, 17.5]  2013-11-16 09:02:00   \n",
       "...                        ...                       ...                  ...   \n",
       "79667                 0.038356             (-0.025, 2.5]  2018-03-29 16:23:00   \n",
       "79668                 2.000000             (-0.025, 2.5]  2018-03-29 17:13:00   \n",
       "79669                 1.000000             (-0.025, 2.5]  2018-03-29 17:19:00   \n",
       "79670                 0.410959             (-0.025, 2.5]  2018-03-29 18:19:00   \n",
       "79671                10.000000               (7.5, 10.0]  2018-03-29 18:20:00   \n",
       "\n",
       "       intake_month  intake_year intake_monthyear intake_weekday  intake_hour  \\\n",
       "0                12         2017          2017-12       Thursday           14   \n",
       "1                12         2014          2014-12         Friday           10   \n",
       "2                 3         2014          2014-03         Friday           14   \n",
       "3                 4         2014          2014-04      Wednesday           15   \n",
       "4                11         2013          2013-11       Saturday            9   \n",
       "...             ...          ...              ...            ...          ...   \n",
       "79667             3         2018          2018-03       Thursday           16   \n",
       "79668             3         2018          2018-03       Thursday           17   \n",
       "79669             3         2018          2018-03       Thursday           17   \n",
       "79670             3         2018          2018-03       Thursday           18   \n",
       "79671             3         2018          2018-03       Thursday           18   \n",
       "\n",
       "       intake_number            time_in_shelter  time_in_shelter_days  \n",
       "0                1.0  0 days 14:07:00.000000000              0.588194  \n",
       "1                2.0  1 days 06:14:00.000000000              1.259722  \n",
       "2                3.0  1 days 02:44:00.000000000              1.113889  \n",
       "3                1.0  4 days 23:17:00.000000000              4.970139  \n",
       "4                1.0  0 days 02:52:00.000000000              0.119444  \n",
       "...              ...                        ...                   ...  \n",
       "79667            1.0  0 days 01:51:00.000000000              0.077083  \n",
       "79668            1.0  0 days 01:17:00.000000000              0.053472  \n",
       "79669            1.0  0 days 01:09:00.000000000              0.047917  \n",
       "79670            1.0  1 days 18:18:00.000000000              1.762500  \n",
       "79671            1.0  0 days 19:32:00.000000000              0.813889  \n",
       "\n",
       "[79672 rows x 41 columns]"
      ]
     },
     "execution_count": 3,
     "metadata": {},
     "output_type": "execute_result"
    }
   ],
   "source": [
    "df"
   ]
  },
  {
   "cell_type": "code",
   "execution_count": 4,
   "metadata": {},
   "outputs": [],
   "source": [
    "df.drop(['count','dob_monthyear'],axis=1,inplace=True)"
   ]
  },
  {
   "cell_type": "code",
   "execution_count": 5,
   "metadata": {},
   "outputs": [],
   "source": [
    "df=df[(df['animal_type']== 'Dog')]\n",
    "df=df[df.outcome_type=='Adoption']"
   ]
  },
  {
   "cell_type": "code",
   "execution_count": 6,
   "metadata": {},
   "outputs": [],
   "source": [
    "df.date_of_birth=df.date_of_birth.apply(lambda x: x[:10])"
   ]
  },
  {
   "cell_type": "code",
   "execution_count": 7,
   "metadata": {},
   "outputs": [],
   "source": [
    "df['outcome_datetime']=pd.to_datetime(df['outcome_datetime'])\n",
    "df['intake_datetime']=pd.to_datetime(df['intake_datetime'])"
   ]
  },
  {
   "cell_type": "code",
   "execution_count": 8,
   "metadata": {},
   "outputs": [],
   "source": [
    "df['time_in_shelter'] = df['outcome_datetime'] - df['intake_datetime']"
   ]
  },
  {
   "cell_type": "code",
   "execution_count": 9,
   "metadata": {},
   "outputs": [],
   "source": [
    "df['outcome_month']=df.outcome_datetime.apply(lambda x: str(x)[5:7])\n",
    "df['outcome_year']=df.outcome_datetime.apply(lambda x: str(x)[:4])\n",
    "df['outcome_weekday']=df.outcome_datetime.dt.dayofweek"
   ]
  },
  {
   "cell_type": "code",
   "execution_count": 10,
   "metadata": {},
   "outputs": [],
   "source": [
    "df['outcome_weekday']=df.outcome_datetime.dt.dayofweek"
   ]
  },
  {
   "cell_type": "code",
   "execution_count": 11,
   "metadata": {},
   "outputs": [],
   "source": [
    "df['intake_month']=df.intake_datetime.apply(lambda x: str(x)[5:7])\n",
    "df['intake_year']=df.intake_datetime.apply(lambda x: str(x)[:4])\n",
    "df['intake_weekday']=df.intake_datetime.dt.dayofweek"
   ]
  },
  {
   "cell_type": "code",
   "execution_count": 12,
   "metadata": {},
   "outputs": [],
   "source": [
    "condition=[\n",
    "    df['intake_condition'] == 'Aged',\n",
    "    df['intake_condition'] == 'Ferral',\n",
    "    df['intake_condition'] == 'Injured',\n",
    "    df['intake_condition'] == 'Normal',\n",
    "    df['intake_condition'] == 'Nursing',\n",
    "    df['intake_condition'] == 'Other',\n",
    "    df['intake_condition'] == 'Pregnant',\n",
    "    df['intake_condition'] == 'Sick'\n",
    "]\n",
    "choises=[\n",
    "    1,\n",
    "    0,\n",
    "    0,\n",
    "    1,\n",
    "    1,\n",
    "    1,\n",
    "    1,\n",
    "    0\n",
    "]\n",
    "df['health']=np.select(condition,choises)"
   ]
  },
  {
   "cell_type": "code",
   "execution_count": 13,
   "metadata": {},
   "outputs": [],
   "source": [
    "def unique_breed_dic (dictionary,column):\n",
    "    df=dictionary.copy()\n",
    "    df.reset_index(drop=True,inplace=True)\n",
    "    \n",
    "    list_of_breeds=[]\n",
    "    for i in range(len(df[column])):\n",
    "        if df[column][i].find('/')==-1:\n",
    "            list_of_breeds.append([df[column][i]])\n",
    "        else:\n",
    "            list_of_breeds.append(df[column][i].split('/'))\n",
    "        \n",
    "    list_of_breeds=[val for sublist in list_of_breeds for val in sublist]\n",
    "    \n",
    "    dup_list=[]\n",
    "    uniqe_list=[]\n",
    "\n",
    "\n",
    "    for i in list_of_breeds:\n",
    "        dup_list.append(i)\n",
    "    unique_list=list(set(dup_list))\n",
    "\n",
    "\n",
    "    for i in list_of_breeds:\n",
    "        dup_list.append(i)\n",
    "    unique_list=list(set(dup_list))\n",
    "    final_dic={}\n",
    "    for company in unique_list:\n",
    "        final_dic[company]=0\n",
    "\n",
    "    for company in dup_list:\n",
    "        final_dic[company]=final_dic[company]+1\n",
    "    return final_dic"
   ]
  },
  {
   "cell_type": "code",
   "execution_count": 14,
   "metadata": {
    "scrolled": true
   },
   "outputs": [
    {
     "data": {
      "text/plain": [
       "{}"
      ]
     },
     "execution_count": 14,
     "metadata": {},
     "output_type": "execute_result"
    }
   ],
   "source": [
    "unique_breed_dic(df[df.animal_type=='Cat'],'breed')"
   ]
  },
  {
   "cell_type": "code",
   "execution_count": 15,
   "metadata": {},
   "outputs": [],
   "source": [
    "conditions=[\n",
    "    (df.intake_type=='Owner Surrender')|(df.intake_type=='Euthanasia Request')\n",
    "]\n",
    "choises=[\n",
    "    1\n",
    "]\n",
    "\n",
    "df['was_owned']=np.select(conditions,choises,default=0)"
   ]
  },
  {
   "cell_type": "code",
   "execution_count": 16,
   "metadata": {},
   "outputs": [
    {
     "name": "stdout",
     "output_type": "stream",
     "text": [
      "CPU times: user 23.8 s, sys: 493 ms, total: 24.3 s\n",
      "Wall time: 23.9 s\n"
     ]
    }
   ],
   "source": [
    "%%time\n",
    "def season_of_date(date):\n",
    "    year = str(date.year)\n",
    "    seasons = {'Spring': pd.date_range(start='21/03/'+year, end='20/06/'+year),\n",
    "               'Summer': pd.date_range(start='21/06/'+year, end='22/09/'+year),\n",
    "               'Fall': pd.date_range(start='23/09/'+year, end='20/12/'+year)}\n",
    "    if date.date() in seasons['Spring']:\n",
    "        return 1\n",
    "    if date.date() in seasons['Summer']:\n",
    "        return 2\n",
    "    if date.date() in seasons['Fall']:\n",
    "        return 3\n",
    "    else:\n",
    "        return 4\n",
    "df['season'] = df.intake_datetime.map(season_of_date)"
   ]
  },
  {
   "cell_type": "code",
   "execution_count": 17,
   "metadata": {},
   "outputs": [],
   "source": [
    "df=pd.get_dummies(df, columns=['intake_month'])"
   ]
  },
  {
   "cell_type": "code",
   "execution_count": 18,
   "metadata": {},
   "outputs": [
    {
     "data": {
      "text/html": [
       "<div>\n",
       "<style scoped>\n",
       "    .dataframe tbody tr th:only-of-type {\n",
       "        vertical-align: middle;\n",
       "    }\n",
       "\n",
       "    .dataframe tbody tr th {\n",
       "        vertical-align: top;\n",
       "    }\n",
       "\n",
       "    .dataframe thead th {\n",
       "        text-align: right;\n",
       "    }\n",
       "</style>\n",
       "<table border=\"1\" class=\"dataframe\">\n",
       "  <thead>\n",
       "    <tr style=\"text-align: right;\">\n",
       "      <th></th>\n",
       "      <th>age_upon_outcome</th>\n",
       "      <th>animal_id_outcome</th>\n",
       "      <th>date_of_birth</th>\n",
       "      <th>outcome_subtype</th>\n",
       "      <th>outcome_type</th>\n",
       "      <th>sex_upon_outcome</th>\n",
       "      <th>age_upon_outcome_(days)</th>\n",
       "      <th>age_upon_outcome_(years)</th>\n",
       "      <th>age_upon_outcome_age_group</th>\n",
       "      <th>outcome_datetime</th>\n",
       "      <th>outcome_month</th>\n",
       "      <th>outcome_year</th>\n",
       "      <th>outcome_monthyear</th>\n",
       "      <th>outcome_weekday</th>\n",
       "      <th>outcome_hour</th>\n",
       "      <th>outcome_number</th>\n",
       "      <th>dob_year</th>\n",
       "      <th>dob_month</th>\n",
       "      <th>age_upon_intake</th>\n",
       "      <th>animal_id_intake</th>\n",
       "      <th>animal_type</th>\n",
       "      <th>breed</th>\n",
       "      <th>color</th>\n",
       "      <th>found_location</th>\n",
       "      <th>intake_condition</th>\n",
       "      <th>intake_type</th>\n",
       "      <th>sex_upon_intake</th>\n",
       "      <th>age_upon_intake_(days)</th>\n",
       "      <th>age_upon_intake_(years)</th>\n",
       "      <th>age_upon_intake_age_group</th>\n",
       "      <th>intake_datetime</th>\n",
       "      <th>intake_year</th>\n",
       "      <th>intake_monthyear</th>\n",
       "      <th>intake_weekday</th>\n",
       "      <th>intake_hour</th>\n",
       "      <th>intake_number</th>\n",
       "      <th>time_in_shelter</th>\n",
       "      <th>time_in_shelter_days</th>\n",
       "      <th>health</th>\n",
       "      <th>was_owned</th>\n",
       "      <th>season</th>\n",
       "      <th>intake_month_01</th>\n",
       "      <th>intake_month_02</th>\n",
       "      <th>intake_month_03</th>\n",
       "      <th>intake_month_04</th>\n",
       "      <th>intake_month_05</th>\n",
       "      <th>intake_month_06</th>\n",
       "      <th>intake_month_07</th>\n",
       "      <th>intake_month_08</th>\n",
       "      <th>intake_month_09</th>\n",
       "      <th>intake_month_10</th>\n",
       "      <th>intake_month_11</th>\n",
       "      <th>intake_month_12</th>\n",
       "    </tr>\n",
       "  </thead>\n",
       "  <tbody>\n",
       "    <tr>\n",
       "      <th>12</th>\n",
       "      <td>16 years</td>\n",
       "      <td>A200922</td>\n",
       "      <td>1997-10-03</td>\n",
       "      <td>Foster</td>\n",
       "      <td>Adoption</td>\n",
       "      <td>Neutered Male</td>\n",
       "      <td>5840</td>\n",
       "      <td>16.000000</td>\n",
       "      <td>(15.0, 17.5]</td>\n",
       "      <td>2013-11-22 09:44:00</td>\n",
       "      <td>11</td>\n",
       "      <td>2013</td>\n",
       "      <td>2013-11</td>\n",
       "      <td>4</td>\n",
       "      <td>9</td>\n",
       "      <td>1.0</td>\n",
       "      <td>1997</td>\n",
       "      <td>10</td>\n",
       "      <td>16 years</td>\n",
       "      <td>A200922</td>\n",
       "      <td>Dog</td>\n",
       "      <td>Dachshund Mix</td>\n",
       "      <td>Black/Tan</td>\n",
       "      <td>Austin (TX)</td>\n",
       "      <td>Normal</td>\n",
       "      <td>Owner Surrender</td>\n",
       "      <td>Neutered Male</td>\n",
       "      <td>5840</td>\n",
       "      <td>16.000000</td>\n",
       "      <td>(15.0, 17.5]</td>\n",
       "      <td>2013-10-03 15:47:00</td>\n",
       "      <td>2013</td>\n",
       "      <td>2013-10</td>\n",
       "      <td>3</td>\n",
       "      <td>15</td>\n",
       "      <td>1.0</td>\n",
       "      <td>49 days 17:57:00</td>\n",
       "      <td>49.747917</td>\n",
       "      <td>1</td>\n",
       "      <td>1</td>\n",
       "      <td>3</td>\n",
       "      <td>0</td>\n",
       "      <td>0</td>\n",
       "      <td>0</td>\n",
       "      <td>0</td>\n",
       "      <td>0</td>\n",
       "      <td>0</td>\n",
       "      <td>0</td>\n",
       "      <td>0</td>\n",
       "      <td>0</td>\n",
       "      <td>1</td>\n",
       "      <td>0</td>\n",
       "      <td>0</td>\n",
       "    </tr>\n",
       "    <tr>\n",
       "      <th>14</th>\n",
       "      <td>17 years</td>\n",
       "      <td>A210457</td>\n",
       "      <td>1999-06-01</td>\n",
       "      <td>Foster</td>\n",
       "      <td>Adoption</td>\n",
       "      <td>Neutered Male</td>\n",
       "      <td>6205</td>\n",
       "      <td>17.000000</td>\n",
       "      <td>(15.0, 17.5]</td>\n",
       "      <td>2016-10-07 12:34:00</td>\n",
       "      <td>10</td>\n",
       "      <td>2016</td>\n",
       "      <td>2016-10</td>\n",
       "      <td>4</td>\n",
       "      <td>12</td>\n",
       "      <td>1.0</td>\n",
       "      <td>1999</td>\n",
       "      <td>6</td>\n",
       "      <td>17 years</td>\n",
       "      <td>A210457</td>\n",
       "      <td>Dog</td>\n",
       "      <td>Chihuahua Shorthair</td>\n",
       "      <td>Tan/Black</td>\n",
       "      <td>4424 S Mopac #412 in Austin (TX)</td>\n",
       "      <td>Aged</td>\n",
       "      <td>Public Assist</td>\n",
       "      <td>Neutered Male</td>\n",
       "      <td>6205</td>\n",
       "      <td>17.000000</td>\n",
       "      <td>(15.0, 17.5]</td>\n",
       "      <td>2016-09-28 12:05:00</td>\n",
       "      <td>2016</td>\n",
       "      <td>2016-09</td>\n",
       "      <td>2</td>\n",
       "      <td>12</td>\n",
       "      <td>1.0</td>\n",
       "      <td>9 days 00:29:00</td>\n",
       "      <td>9.020139</td>\n",
       "      <td>1</td>\n",
       "      <td>0</td>\n",
       "      <td>3</td>\n",
       "      <td>0</td>\n",
       "      <td>0</td>\n",
       "      <td>0</td>\n",
       "      <td>0</td>\n",
       "      <td>0</td>\n",
       "      <td>0</td>\n",
       "      <td>0</td>\n",
       "      <td>0</td>\n",
       "      <td>1</td>\n",
       "      <td>0</td>\n",
       "      <td>0</td>\n",
       "      <td>0</td>\n",
       "    </tr>\n",
       "    <tr>\n",
       "      <th>22</th>\n",
       "      <td>15 years</td>\n",
       "      <td>A226069</td>\n",
       "      <td>2000-06-17</td>\n",
       "      <td>Foster</td>\n",
       "      <td>Adoption</td>\n",
       "      <td>Neutered Male</td>\n",
       "      <td>5475</td>\n",
       "      <td>15.000000</td>\n",
       "      <td>(12.5, 15.0]</td>\n",
       "      <td>2015-10-29 15:00:00</td>\n",
       "      <td>10</td>\n",
       "      <td>2015</td>\n",
       "      <td>2015-10</td>\n",
       "      <td>3</td>\n",
       "      <td>15</td>\n",
       "      <td>1.0</td>\n",
       "      <td>2000</td>\n",
       "      <td>6</td>\n",
       "      <td>15 years</td>\n",
       "      <td>A226069</td>\n",
       "      <td>Dog</td>\n",
       "      <td>Labrador Retriever/Beagle</td>\n",
       "      <td>Sable/White</td>\n",
       "      <td>Wheless Ln And Berkman Dr in Austin (TX)</td>\n",
       "      <td>Normal</td>\n",
       "      <td>Stray</td>\n",
       "      <td>Neutered Male</td>\n",
       "      <td>5475</td>\n",
       "      <td>15.000000</td>\n",
       "      <td>(12.5, 15.0]</td>\n",
       "      <td>2015-10-06 12:29:00</td>\n",
       "      <td>2015</td>\n",
       "      <td>2015-10</td>\n",
       "      <td>1</td>\n",
       "      <td>12</td>\n",
       "      <td>1.0</td>\n",
       "      <td>23 days 02:31:00</td>\n",
       "      <td>23.104861</td>\n",
       "      <td>1</td>\n",
       "      <td>0</td>\n",
       "      <td>3</td>\n",
       "      <td>0</td>\n",
       "      <td>0</td>\n",
       "      <td>0</td>\n",
       "      <td>0</td>\n",
       "      <td>0</td>\n",
       "      <td>0</td>\n",
       "      <td>0</td>\n",
       "      <td>0</td>\n",
       "      <td>0</td>\n",
       "      <td>1</td>\n",
       "      <td>0</td>\n",
       "      <td>0</td>\n",
       "    </tr>\n",
       "    <tr>\n",
       "      <th>32</th>\n",
       "      <td>15 years</td>\n",
       "      <td>A249087</td>\n",
       "      <td>2001-01-02</td>\n",
       "      <td>Foster</td>\n",
       "      <td>Adoption</td>\n",
       "      <td>Spayed Female</td>\n",
       "      <td>5475</td>\n",
       "      <td>15.000000</td>\n",
       "      <td>(12.5, 15.0]</td>\n",
       "      <td>2016-11-15 10:37:00</td>\n",
       "      <td>11</td>\n",
       "      <td>2016</td>\n",
       "      <td>2016-11</td>\n",
       "      <td>1</td>\n",
       "      <td>10</td>\n",
       "      <td>1.0</td>\n",
       "      <td>2001</td>\n",
       "      <td>1</td>\n",
       "      <td>15 years</td>\n",
       "      <td>A249087</td>\n",
       "      <td>Dog</td>\n",
       "      <td>German Shepherd Mix</td>\n",
       "      <td>Black/Brown</td>\n",
       "      <td>E 6Th St And Pedernales in Austin (TX)</td>\n",
       "      <td>Normal</td>\n",
       "      <td>Stray</td>\n",
       "      <td>Spayed Female</td>\n",
       "      <td>5475</td>\n",
       "      <td>15.000000</td>\n",
       "      <td>(12.5, 15.0]</td>\n",
       "      <td>2016-08-17 14:05:00</td>\n",
       "      <td>2016</td>\n",
       "      <td>2016-08</td>\n",
       "      <td>2</td>\n",
       "      <td>14</td>\n",
       "      <td>1.0</td>\n",
       "      <td>89 days 20:32:00</td>\n",
       "      <td>89.855556</td>\n",
       "      <td>1</td>\n",
       "      <td>0</td>\n",
       "      <td>2</td>\n",
       "      <td>0</td>\n",
       "      <td>0</td>\n",
       "      <td>0</td>\n",
       "      <td>0</td>\n",
       "      <td>0</td>\n",
       "      <td>0</td>\n",
       "      <td>0</td>\n",
       "      <td>1</td>\n",
       "      <td>0</td>\n",
       "      <td>0</td>\n",
       "      <td>0</td>\n",
       "      <td>0</td>\n",
       "    </tr>\n",
       "    <tr>\n",
       "      <th>48</th>\n",
       "      <td>11 years</td>\n",
       "      <td>A274546</td>\n",
       "      <td>2002-05-25</td>\n",
       "      <td>NaN</td>\n",
       "      <td>Adoption</td>\n",
       "      <td>Spayed Female</td>\n",
       "      <td>4015</td>\n",
       "      <td>11.000000</td>\n",
       "      <td>(10.0, 12.5]</td>\n",
       "      <td>2013-11-16 12:24:00</td>\n",
       "      <td>11</td>\n",
       "      <td>2013</td>\n",
       "      <td>2013-11</td>\n",
       "      <td>5</td>\n",
       "      <td>12</td>\n",
       "      <td>1.0</td>\n",
       "      <td>2002</td>\n",
       "      <td>5</td>\n",
       "      <td>11 years</td>\n",
       "      <td>A274546</td>\n",
       "      <td>Dog</td>\n",
       "      <td>Pointer Mix</td>\n",
       "      <td>Tricolor</td>\n",
       "      <td>Manchaca And Slaughter in Austin (TX)</td>\n",
       "      <td>Normal</td>\n",
       "      <td>Stray</td>\n",
       "      <td>Spayed Female</td>\n",
       "      <td>4015</td>\n",
       "      <td>11.000000</td>\n",
       "      <td>(10.0, 12.5]</td>\n",
       "      <td>2013-11-13 18:16:00</td>\n",
       "      <td>2013</td>\n",
       "      <td>2013-11</td>\n",
       "      <td>2</td>\n",
       "      <td>18</td>\n",
       "      <td>1.0</td>\n",
       "      <td>2 days 18:08:00</td>\n",
       "      <td>2.755556</td>\n",
       "      <td>1</td>\n",
       "      <td>0</td>\n",
       "      <td>3</td>\n",
       "      <td>0</td>\n",
       "      <td>0</td>\n",
       "      <td>0</td>\n",
       "      <td>0</td>\n",
       "      <td>0</td>\n",
       "      <td>0</td>\n",
       "      <td>0</td>\n",
       "      <td>0</td>\n",
       "      <td>0</td>\n",
       "      <td>0</td>\n",
       "      <td>1</td>\n",
       "      <td>0</td>\n",
       "    </tr>\n",
       "    <tr>\n",
       "      <th>...</th>\n",
       "      <td>...</td>\n",
       "      <td>...</td>\n",
       "      <td>...</td>\n",
       "      <td>...</td>\n",
       "      <td>...</td>\n",
       "      <td>...</td>\n",
       "      <td>...</td>\n",
       "      <td>...</td>\n",
       "      <td>...</td>\n",
       "      <td>...</td>\n",
       "      <td>...</td>\n",
       "      <td>...</td>\n",
       "      <td>...</td>\n",
       "      <td>...</td>\n",
       "      <td>...</td>\n",
       "      <td>...</td>\n",
       "      <td>...</td>\n",
       "      <td>...</td>\n",
       "      <td>...</td>\n",
       "      <td>...</td>\n",
       "      <td>...</td>\n",
       "      <td>...</td>\n",
       "      <td>...</td>\n",
       "      <td>...</td>\n",
       "      <td>...</td>\n",
       "      <td>...</td>\n",
       "      <td>...</td>\n",
       "      <td>...</td>\n",
       "      <td>...</td>\n",
       "      <td>...</td>\n",
       "      <td>...</td>\n",
       "      <td>...</td>\n",
       "      <td>...</td>\n",
       "      <td>...</td>\n",
       "      <td>...</td>\n",
       "      <td>...</td>\n",
       "      <td>...</td>\n",
       "      <td>...</td>\n",
       "      <td>...</td>\n",
       "      <td>...</td>\n",
       "      <td>...</td>\n",
       "      <td>...</td>\n",
       "      <td>...</td>\n",
       "      <td>...</td>\n",
       "      <td>...</td>\n",
       "      <td>...</td>\n",
       "      <td>...</td>\n",
       "      <td>...</td>\n",
       "      <td>...</td>\n",
       "      <td>...</td>\n",
       "      <td>...</td>\n",
       "      <td>...</td>\n",
       "      <td>...</td>\n",
       "    </tr>\n",
       "    <tr>\n",
       "      <th>79647</th>\n",
       "      <td>7 years</td>\n",
       "      <td>A769012</td>\n",
       "      <td>2011-03-29</td>\n",
       "      <td>NaN</td>\n",
       "      <td>Adoption</td>\n",
       "      <td>Spayed Female</td>\n",
       "      <td>2555</td>\n",
       "      <td>7.000000</td>\n",
       "      <td>(5.0, 7.5]</td>\n",
       "      <td>2018-04-01 12:36:00</td>\n",
       "      <td>04</td>\n",
       "      <td>2018</td>\n",
       "      <td>2018-04</td>\n",
       "      <td>6</td>\n",
       "      <td>12</td>\n",
       "      <td>1.0</td>\n",
       "      <td>2011</td>\n",
       "      <td>3</td>\n",
       "      <td>7 years</td>\n",
       "      <td>A769012</td>\n",
       "      <td>Dog</td>\n",
       "      <td>Chihuahua Shorthair Mix</td>\n",
       "      <td>Tan</td>\n",
       "      <td>Springdale And Govalle in Austin (TX)</td>\n",
       "      <td>Normal</td>\n",
       "      <td>Stray</td>\n",
       "      <td>Spayed Female</td>\n",
       "      <td>2555</td>\n",
       "      <td>7.000000</td>\n",
       "      <td>(5.0, 7.5]</td>\n",
       "      <td>2018-03-28 17:48:00</td>\n",
       "      <td>2018</td>\n",
       "      <td>2018-03</td>\n",
       "      <td>2</td>\n",
       "      <td>17</td>\n",
       "      <td>1.0</td>\n",
       "      <td>3 days 18:48:00</td>\n",
       "      <td>3.783333</td>\n",
       "      <td>1</td>\n",
       "      <td>0</td>\n",
       "      <td>1</td>\n",
       "      <td>0</td>\n",
       "      <td>0</td>\n",
       "      <td>1</td>\n",
       "      <td>0</td>\n",
       "      <td>0</td>\n",
       "      <td>0</td>\n",
       "      <td>0</td>\n",
       "      <td>0</td>\n",
       "      <td>0</td>\n",
       "      <td>0</td>\n",
       "      <td>0</td>\n",
       "      <td>0</td>\n",
       "    </tr>\n",
       "    <tr>\n",
       "      <th>79649</th>\n",
       "      <td>2 months</td>\n",
       "      <td>A769014</td>\n",
       "      <td>2018-01-28</td>\n",
       "      <td>NaN</td>\n",
       "      <td>Adoption</td>\n",
       "      <td>Neutered Male</td>\n",
       "      <td>60</td>\n",
       "      <td>0.164384</td>\n",
       "      <td>(-0.025, 2.5]</td>\n",
       "      <td>2018-04-02 19:05:00</td>\n",
       "      <td>04</td>\n",
       "      <td>2018</td>\n",
       "      <td>2018-04</td>\n",
       "      <td>0</td>\n",
       "      <td>19</td>\n",
       "      <td>1.0</td>\n",
       "      <td>2018</td>\n",
       "      <td>1</td>\n",
       "      <td>1 month</td>\n",
       "      <td>A769014</td>\n",
       "      <td>Dog</td>\n",
       "      <td>Pit Bull Mix</td>\n",
       "      <td>Black/White</td>\n",
       "      <td>1044 Norwood Park Boulevard in Austin (TX)</td>\n",
       "      <td>Normal</td>\n",
       "      <td>Stray</td>\n",
       "      <td>Intact Male</td>\n",
       "      <td>30</td>\n",
       "      <td>0.082192</td>\n",
       "      <td>(-0.025, 2.5]</td>\n",
       "      <td>2018-03-28 18:08:00</td>\n",
       "      <td>2018</td>\n",
       "      <td>2018-03</td>\n",
       "      <td>2</td>\n",
       "      <td>18</td>\n",
       "      <td>1.0</td>\n",
       "      <td>5 days 00:57:00</td>\n",
       "      <td>5.039583</td>\n",
       "      <td>1</td>\n",
       "      <td>0</td>\n",
       "      <td>1</td>\n",
       "      <td>0</td>\n",
       "      <td>0</td>\n",
       "      <td>1</td>\n",
       "      <td>0</td>\n",
       "      <td>0</td>\n",
       "      <td>0</td>\n",
       "      <td>0</td>\n",
       "      <td>0</td>\n",
       "      <td>0</td>\n",
       "      <td>0</td>\n",
       "      <td>0</td>\n",
       "      <td>0</td>\n",
       "    </tr>\n",
       "    <tr>\n",
       "      <th>79653</th>\n",
       "      <td>2 months</td>\n",
       "      <td>A769020</td>\n",
       "      <td>2018-01-18</td>\n",
       "      <td>NaN</td>\n",
       "      <td>Adoption</td>\n",
       "      <td>Neutered Male</td>\n",
       "      <td>60</td>\n",
       "      <td>0.164384</td>\n",
       "      <td>(-0.025, 2.5]</td>\n",
       "      <td>2018-04-01 17:27:00</td>\n",
       "      <td>04</td>\n",
       "      <td>2018</td>\n",
       "      <td>2018-04</td>\n",
       "      <td>6</td>\n",
       "      <td>17</td>\n",
       "      <td>1.0</td>\n",
       "      <td>2018</td>\n",
       "      <td>1</td>\n",
       "      <td>2 months</td>\n",
       "      <td>A769020</td>\n",
       "      <td>Dog</td>\n",
       "      <td>German Shepherd</td>\n",
       "      <td>Black/Tan</td>\n",
       "      <td>Austin (TX)</td>\n",
       "      <td>Normal</td>\n",
       "      <td>Stray</td>\n",
       "      <td>Intact Male</td>\n",
       "      <td>60</td>\n",
       "      <td>0.164384</td>\n",
       "      <td>(-0.025, 2.5]</td>\n",
       "      <td>2018-03-28 18:51:00</td>\n",
       "      <td>2018</td>\n",
       "      <td>2018-03</td>\n",
       "      <td>2</td>\n",
       "      <td>18</td>\n",
       "      <td>1.0</td>\n",
       "      <td>3 days 22:36:00</td>\n",
       "      <td>3.941667</td>\n",
       "      <td>1</td>\n",
       "      <td>0</td>\n",
       "      <td>1</td>\n",
       "      <td>0</td>\n",
       "      <td>0</td>\n",
       "      <td>1</td>\n",
       "      <td>0</td>\n",
       "      <td>0</td>\n",
       "      <td>0</td>\n",
       "      <td>0</td>\n",
       "      <td>0</td>\n",
       "      <td>0</td>\n",
       "      <td>0</td>\n",
       "      <td>0</td>\n",
       "      <td>0</td>\n",
       "    </tr>\n",
       "    <tr>\n",
       "      <th>79654</th>\n",
       "      <td>1 year</td>\n",
       "      <td>A769034</td>\n",
       "      <td>2017-03-29</td>\n",
       "      <td>NaN</td>\n",
       "      <td>Adoption</td>\n",
       "      <td>Spayed Female</td>\n",
       "      <td>365</td>\n",
       "      <td>1.000000</td>\n",
       "      <td>(-0.025, 2.5]</td>\n",
       "      <td>2018-04-03 15:23:00</td>\n",
       "      <td>04</td>\n",
       "      <td>2018</td>\n",
       "      <td>2018-04</td>\n",
       "      <td>1</td>\n",
       "      <td>15</td>\n",
       "      <td>1.0</td>\n",
       "      <td>2017</td>\n",
       "      <td>3</td>\n",
       "      <td>1 year</td>\n",
       "      <td>A769034</td>\n",
       "      <td>Dog</td>\n",
       "      <td>Labrador Retriever/German Shepherd</td>\n",
       "      <td>Black/White</td>\n",
       "      <td>Alpine Drive And Vevey Drive in Del Valle (TX)</td>\n",
       "      <td>Normal</td>\n",
       "      <td>Stray</td>\n",
       "      <td>Spayed Female</td>\n",
       "      <td>365</td>\n",
       "      <td>1.000000</td>\n",
       "      <td>(-0.025, 2.5]</td>\n",
       "      <td>2018-03-29 11:44:00</td>\n",
       "      <td>2018</td>\n",
       "      <td>2018-03</td>\n",
       "      <td>3</td>\n",
       "      <td>11</td>\n",
       "      <td>1.0</td>\n",
       "      <td>5 days 03:39:00</td>\n",
       "      <td>5.152083</td>\n",
       "      <td>1</td>\n",
       "      <td>0</td>\n",
       "      <td>1</td>\n",
       "      <td>0</td>\n",
       "      <td>0</td>\n",
       "      <td>1</td>\n",
       "      <td>0</td>\n",
       "      <td>0</td>\n",
       "      <td>0</td>\n",
       "      <td>0</td>\n",
       "      <td>0</td>\n",
       "      <td>0</td>\n",
       "      <td>0</td>\n",
       "      <td>0</td>\n",
       "      <td>0</td>\n",
       "    </tr>\n",
       "    <tr>\n",
       "      <th>79655</th>\n",
       "      <td>1 year</td>\n",
       "      <td>A769036</td>\n",
       "      <td>2017-03-29</td>\n",
       "      <td>NaN</td>\n",
       "      <td>Adoption</td>\n",
       "      <td>Spayed Female</td>\n",
       "      <td>365</td>\n",
       "      <td>1.000000</td>\n",
       "      <td>(-0.025, 2.5]</td>\n",
       "      <td>2018-03-31 18:26:00</td>\n",
       "      <td>03</td>\n",
       "      <td>2018</td>\n",
       "      <td>2018-03</td>\n",
       "      <td>5</td>\n",
       "      <td>18</td>\n",
       "      <td>1.0</td>\n",
       "      <td>2017</td>\n",
       "      <td>3</td>\n",
       "      <td>1 year</td>\n",
       "      <td>A769036</td>\n",
       "      <td>Dog</td>\n",
       "      <td>Labrador Retriever/German Shepherd</td>\n",
       "      <td>Black/Tan</td>\n",
       "      <td>Alpine Drive And Vevey Drive in Del Valle (TX)</td>\n",
       "      <td>Normal</td>\n",
       "      <td>Stray</td>\n",
       "      <td>Spayed Female</td>\n",
       "      <td>365</td>\n",
       "      <td>1.000000</td>\n",
       "      <td>(-0.025, 2.5]</td>\n",
       "      <td>2018-03-29 11:44:00</td>\n",
       "      <td>2018</td>\n",
       "      <td>2018-03</td>\n",
       "      <td>3</td>\n",
       "      <td>11</td>\n",
       "      <td>1.0</td>\n",
       "      <td>2 days 06:42:00</td>\n",
       "      <td>2.279167</td>\n",
       "      <td>1</td>\n",
       "      <td>0</td>\n",
       "      <td>1</td>\n",
       "      <td>0</td>\n",
       "      <td>0</td>\n",
       "      <td>1</td>\n",
       "      <td>0</td>\n",
       "      <td>0</td>\n",
       "      <td>0</td>\n",
       "      <td>0</td>\n",
       "      <td>0</td>\n",
       "      <td>0</td>\n",
       "      <td>0</td>\n",
       "      <td>0</td>\n",
       "      <td>0</td>\n",
       "    </tr>\n",
       "  </tbody>\n",
       "</table>\n",
       "<p>20581 rows × 53 columns</p>\n",
       "</div>"
      ],
      "text/plain": [
       "      age_upon_outcome animal_id_outcome date_of_birth outcome_subtype  \\\n",
       "12            16 years           A200922    1997-10-03          Foster   \n",
       "14            17 years           A210457    1999-06-01          Foster   \n",
       "22            15 years           A226069    2000-06-17          Foster   \n",
       "32            15 years           A249087    2001-01-02          Foster   \n",
       "48            11 years           A274546    2002-05-25             NaN   \n",
       "...                ...               ...           ...             ...   \n",
       "79647          7 years           A769012    2011-03-29             NaN   \n",
       "79649         2 months           A769014    2018-01-28             NaN   \n",
       "79653         2 months           A769020    2018-01-18             NaN   \n",
       "79654           1 year           A769034    2017-03-29             NaN   \n",
       "79655           1 year           A769036    2017-03-29             NaN   \n",
       "\n",
       "      outcome_type sex_upon_outcome  age_upon_outcome_(days)  \\\n",
       "12        Adoption    Neutered Male                     5840   \n",
       "14        Adoption    Neutered Male                     6205   \n",
       "22        Adoption    Neutered Male                     5475   \n",
       "32        Adoption    Spayed Female                     5475   \n",
       "48        Adoption    Spayed Female                     4015   \n",
       "...            ...              ...                      ...   \n",
       "79647     Adoption    Spayed Female                     2555   \n",
       "79649     Adoption    Neutered Male                       60   \n",
       "79653     Adoption    Neutered Male                       60   \n",
       "79654     Adoption    Spayed Female                      365   \n",
       "79655     Adoption    Spayed Female                      365   \n",
       "\n",
       "       age_upon_outcome_(years) age_upon_outcome_age_group  \\\n",
       "12                    16.000000               (15.0, 17.5]   \n",
       "14                    17.000000               (15.0, 17.5]   \n",
       "22                    15.000000               (12.5, 15.0]   \n",
       "32                    15.000000               (12.5, 15.0]   \n",
       "48                    11.000000               (10.0, 12.5]   \n",
       "...                         ...                        ...   \n",
       "79647                  7.000000                 (5.0, 7.5]   \n",
       "79649                  0.164384              (-0.025, 2.5]   \n",
       "79653                  0.164384              (-0.025, 2.5]   \n",
       "79654                  1.000000              (-0.025, 2.5]   \n",
       "79655                  1.000000              (-0.025, 2.5]   \n",
       "\n",
       "         outcome_datetime outcome_month outcome_year outcome_monthyear  \\\n",
       "12    2013-11-22 09:44:00            11         2013           2013-11   \n",
       "14    2016-10-07 12:34:00            10         2016           2016-10   \n",
       "22    2015-10-29 15:00:00            10         2015           2015-10   \n",
       "32    2016-11-15 10:37:00            11         2016           2016-11   \n",
       "48    2013-11-16 12:24:00            11         2013           2013-11   \n",
       "...                   ...           ...          ...               ...   \n",
       "79647 2018-04-01 12:36:00            04         2018           2018-04   \n",
       "79649 2018-04-02 19:05:00            04         2018           2018-04   \n",
       "79653 2018-04-01 17:27:00            04         2018           2018-04   \n",
       "79654 2018-04-03 15:23:00            04         2018           2018-04   \n",
       "79655 2018-03-31 18:26:00            03         2018           2018-03   \n",
       "\n",
       "       outcome_weekday  outcome_hour  outcome_number  dob_year  dob_month  \\\n",
       "12                   4             9             1.0      1997         10   \n",
       "14                   4            12             1.0      1999          6   \n",
       "22                   3            15             1.0      2000          6   \n",
       "32                   1            10             1.0      2001          1   \n",
       "48                   5            12             1.0      2002          5   \n",
       "...                ...           ...             ...       ...        ...   \n",
       "79647                6            12             1.0      2011          3   \n",
       "79649                0            19             1.0      2018          1   \n",
       "79653                6            17             1.0      2018          1   \n",
       "79654                1            15             1.0      2017          3   \n",
       "79655                5            18             1.0      2017          3   \n",
       "\n",
       "      age_upon_intake animal_id_intake animal_type  \\\n",
       "12           16 years          A200922         Dog   \n",
       "14           17 years          A210457         Dog   \n",
       "22           15 years          A226069         Dog   \n",
       "32           15 years          A249087         Dog   \n",
       "48           11 years          A274546         Dog   \n",
       "...               ...              ...         ...   \n",
       "79647         7 years          A769012         Dog   \n",
       "79649         1 month          A769014         Dog   \n",
       "79653        2 months          A769020         Dog   \n",
       "79654          1 year          A769034         Dog   \n",
       "79655          1 year          A769036         Dog   \n",
       "\n",
       "                                    breed        color  \\\n",
       "12                          Dachshund Mix    Black/Tan   \n",
       "14                    Chihuahua Shorthair    Tan/Black   \n",
       "22              Labrador Retriever/Beagle  Sable/White   \n",
       "32                    German Shepherd Mix  Black/Brown   \n",
       "48                            Pointer Mix     Tricolor   \n",
       "...                                   ...          ...   \n",
       "79647             Chihuahua Shorthair Mix          Tan   \n",
       "79649                        Pit Bull Mix  Black/White   \n",
       "79653                     German Shepherd    Black/Tan   \n",
       "79654  Labrador Retriever/German Shepherd  Black/White   \n",
       "79655  Labrador Retriever/German Shepherd    Black/Tan   \n",
       "\n",
       "                                       found_location intake_condition  \\\n",
       "12                                        Austin (TX)           Normal   \n",
       "14                   4424 S Mopac #412 in Austin (TX)             Aged   \n",
       "22           Wheless Ln And Berkman Dr in Austin (TX)           Normal   \n",
       "32             E 6Th St And Pedernales in Austin (TX)           Normal   \n",
       "48              Manchaca And Slaughter in Austin (TX)           Normal   \n",
       "...                                               ...              ...   \n",
       "79647           Springdale And Govalle in Austin (TX)           Normal   \n",
       "79649      1044 Norwood Park Boulevard in Austin (TX)           Normal   \n",
       "79653                                     Austin (TX)           Normal   \n",
       "79654  Alpine Drive And Vevey Drive in Del Valle (TX)           Normal   \n",
       "79655  Alpine Drive And Vevey Drive in Del Valle (TX)           Normal   \n",
       "\n",
       "           intake_type sex_upon_intake  age_upon_intake_(days)  \\\n",
       "12     Owner Surrender   Neutered Male                    5840   \n",
       "14       Public Assist   Neutered Male                    6205   \n",
       "22               Stray   Neutered Male                    5475   \n",
       "32               Stray   Spayed Female                    5475   \n",
       "48               Stray   Spayed Female                    4015   \n",
       "...                ...             ...                     ...   \n",
       "79647            Stray   Spayed Female                    2555   \n",
       "79649            Stray     Intact Male                      30   \n",
       "79653            Stray     Intact Male                      60   \n",
       "79654            Stray   Spayed Female                     365   \n",
       "79655            Stray   Spayed Female                     365   \n",
       "\n",
       "       age_upon_intake_(years) age_upon_intake_age_group     intake_datetime  \\\n",
       "12                   16.000000              (15.0, 17.5] 2013-10-03 15:47:00   \n",
       "14                   17.000000              (15.0, 17.5] 2016-09-28 12:05:00   \n",
       "22                   15.000000              (12.5, 15.0] 2015-10-06 12:29:00   \n",
       "32                   15.000000              (12.5, 15.0] 2016-08-17 14:05:00   \n",
       "48                   11.000000              (10.0, 12.5] 2013-11-13 18:16:00   \n",
       "...                        ...                       ...                 ...   \n",
       "79647                 7.000000                (5.0, 7.5] 2018-03-28 17:48:00   \n",
       "79649                 0.082192             (-0.025, 2.5] 2018-03-28 18:08:00   \n",
       "79653                 0.164384             (-0.025, 2.5] 2018-03-28 18:51:00   \n",
       "79654                 1.000000             (-0.025, 2.5] 2018-03-29 11:44:00   \n",
       "79655                 1.000000             (-0.025, 2.5] 2018-03-29 11:44:00   \n",
       "\n",
       "      intake_year intake_monthyear  intake_weekday  intake_hour  \\\n",
       "12           2013          2013-10               3           15   \n",
       "14           2016          2016-09               2           12   \n",
       "22           2015          2015-10               1           12   \n",
       "32           2016          2016-08               2           14   \n",
       "48           2013          2013-11               2           18   \n",
       "...           ...              ...             ...          ...   \n",
       "79647        2018          2018-03               2           17   \n",
       "79649        2018          2018-03               2           18   \n",
       "79653        2018          2018-03               2           18   \n",
       "79654        2018          2018-03               3           11   \n",
       "79655        2018          2018-03               3           11   \n",
       "\n",
       "       intake_number  time_in_shelter  time_in_shelter_days  health  \\\n",
       "12               1.0 49 days 17:57:00             49.747917       1   \n",
       "14               1.0  9 days 00:29:00              9.020139       1   \n",
       "22               1.0 23 days 02:31:00             23.104861       1   \n",
       "32               1.0 89 days 20:32:00             89.855556       1   \n",
       "48               1.0  2 days 18:08:00              2.755556       1   \n",
       "...              ...              ...                   ...     ...   \n",
       "79647            1.0  3 days 18:48:00              3.783333       1   \n",
       "79649            1.0  5 days 00:57:00              5.039583       1   \n",
       "79653            1.0  3 days 22:36:00              3.941667       1   \n",
       "79654            1.0  5 days 03:39:00              5.152083       1   \n",
       "79655            1.0  2 days 06:42:00              2.279167       1   \n",
       "\n",
       "       was_owned  season  intake_month_01  intake_month_02  intake_month_03  \\\n",
       "12             1       3                0                0                0   \n",
       "14             0       3                0                0                0   \n",
       "22             0       3                0                0                0   \n",
       "32             0       2                0                0                0   \n",
       "48             0       3                0                0                0   \n",
       "...          ...     ...              ...              ...              ...   \n",
       "79647          0       1                0                0                1   \n",
       "79649          0       1                0                0                1   \n",
       "79653          0       1                0                0                1   \n",
       "79654          0       1                0                0                1   \n",
       "79655          0       1                0                0                1   \n",
       "\n",
       "       intake_month_04  intake_month_05  intake_month_06  intake_month_07  \\\n",
       "12                   0                0                0                0   \n",
       "14                   0                0                0                0   \n",
       "22                   0                0                0                0   \n",
       "32                   0                0                0                0   \n",
       "48                   0                0                0                0   \n",
       "...                ...              ...              ...              ...   \n",
       "79647                0                0                0                0   \n",
       "79649                0                0                0                0   \n",
       "79653                0                0                0                0   \n",
       "79654                0                0                0                0   \n",
       "79655                0                0                0                0   \n",
       "\n",
       "       intake_month_08  intake_month_09  intake_month_10  intake_month_11  \\\n",
       "12                   0                0                1                0   \n",
       "14                   0                1                0                0   \n",
       "22                   0                0                1                0   \n",
       "32                   1                0                0                0   \n",
       "48                   0                0                0                1   \n",
       "...                ...              ...              ...              ...   \n",
       "79647                0                0                0                0   \n",
       "79649                0                0                0                0   \n",
       "79653                0                0                0                0   \n",
       "79654                0                0                0                0   \n",
       "79655                0                0                0                0   \n",
       "\n",
       "       intake_month_12  \n",
       "12                   0  \n",
       "14                   0  \n",
       "22                   0  \n",
       "32                   0  \n",
       "48                   0  \n",
       "...                ...  \n",
       "79647                0  \n",
       "79649                0  \n",
       "79653                0  \n",
       "79654                0  \n",
       "79655                0  \n",
       "\n",
       "[20581 rows x 53 columns]"
      ]
     },
     "execution_count": 18,
     "metadata": {},
     "output_type": "execute_result"
    }
   ],
   "source": [
    "df"
   ]
  },
  {
   "cell_type": "code",
   "execution_count": 76,
   "metadata": {
    "scrolled": false
   },
   "outputs": [
    {
     "data": {
      "application/vnd.plotly.v1+json": {
       "config": {
        "plotlyServerURL": "https://plot.ly"
       },
       "data": [
        {
         "alignmentgroup": "True",
         "hovertemplate": "variable=intake_weekday<br>Months=%{x}<br>Amounts=%{y}<extra></extra>",
         "legendgroup": "intake_weekday",
         "marker": {
          "color": "#FF847C"
         },
         "name": "intake_weekday",
         "offsetgroup": "intake_weekday",
         "orientation": "v",
         "showlegend": true,
         "textposition": "auto",
         "type": "bar",
         "x": [
          2,
          5,
          0,
          1,
          3,
          4,
          6
         ],
         "xaxis": "x",
         "y": [
          3155,
          3129,
          2944,
          2929,
          2899,
          2866,
          2659
         ],
         "yaxis": "y"
        }
       ],
       "layout": {
        "barmode": "relative",
        "legend": {
         "title": {
          "text": "variable"
         },
         "tracegroupgap": 0
        },
        "plot_bgcolor": "#6C5B7B",
        "showlegend": false,
        "template": {
         "data": {
          "bar": [
           {
            "error_x": {
             "color": "#2a3f5f"
            },
            "error_y": {
             "color": "#2a3f5f"
            },
            "marker": {
             "line": {
              "color": "#E5ECF6",
              "width": 0.5
             }
            },
            "type": "bar"
           }
          ],
          "barpolar": [
           {
            "marker": {
             "line": {
              "color": "#E5ECF6",
              "width": 0.5
             }
            },
            "type": "barpolar"
           }
          ],
          "carpet": [
           {
            "aaxis": {
             "endlinecolor": "#2a3f5f",
             "gridcolor": "white",
             "linecolor": "white",
             "minorgridcolor": "white",
             "startlinecolor": "#2a3f5f"
            },
            "baxis": {
             "endlinecolor": "#2a3f5f",
             "gridcolor": "white",
             "linecolor": "white",
             "minorgridcolor": "white",
             "startlinecolor": "#2a3f5f"
            },
            "type": "carpet"
           }
          ],
          "choropleth": [
           {
            "colorbar": {
             "outlinewidth": 0,
             "ticks": ""
            },
            "type": "choropleth"
           }
          ],
          "contour": [
           {
            "colorbar": {
             "outlinewidth": 0,
             "ticks": ""
            },
            "colorscale": [
             [
              0,
              "#0d0887"
             ],
             [
              0.1111111111111111,
              "#46039f"
             ],
             [
              0.2222222222222222,
              "#7201a8"
             ],
             [
              0.3333333333333333,
              "#9c179e"
             ],
             [
              0.4444444444444444,
              "#bd3786"
             ],
             [
              0.5555555555555556,
              "#d8576b"
             ],
             [
              0.6666666666666666,
              "#ed7953"
             ],
             [
              0.7777777777777778,
              "#fb9f3a"
             ],
             [
              0.8888888888888888,
              "#fdca26"
             ],
             [
              1,
              "#f0f921"
             ]
            ],
            "type": "contour"
           }
          ],
          "contourcarpet": [
           {
            "colorbar": {
             "outlinewidth": 0,
             "ticks": ""
            },
            "type": "contourcarpet"
           }
          ],
          "heatmap": [
           {
            "colorbar": {
             "outlinewidth": 0,
             "ticks": ""
            },
            "colorscale": [
             [
              0,
              "#0d0887"
             ],
             [
              0.1111111111111111,
              "#46039f"
             ],
             [
              0.2222222222222222,
              "#7201a8"
             ],
             [
              0.3333333333333333,
              "#9c179e"
             ],
             [
              0.4444444444444444,
              "#bd3786"
             ],
             [
              0.5555555555555556,
              "#d8576b"
             ],
             [
              0.6666666666666666,
              "#ed7953"
             ],
             [
              0.7777777777777778,
              "#fb9f3a"
             ],
             [
              0.8888888888888888,
              "#fdca26"
             ],
             [
              1,
              "#f0f921"
             ]
            ],
            "type": "heatmap"
           }
          ],
          "heatmapgl": [
           {
            "colorbar": {
             "outlinewidth": 0,
             "ticks": ""
            },
            "colorscale": [
             [
              0,
              "#0d0887"
             ],
             [
              0.1111111111111111,
              "#46039f"
             ],
             [
              0.2222222222222222,
              "#7201a8"
             ],
             [
              0.3333333333333333,
              "#9c179e"
             ],
             [
              0.4444444444444444,
              "#bd3786"
             ],
             [
              0.5555555555555556,
              "#d8576b"
             ],
             [
              0.6666666666666666,
              "#ed7953"
             ],
             [
              0.7777777777777778,
              "#fb9f3a"
             ],
             [
              0.8888888888888888,
              "#fdca26"
             ],
             [
              1,
              "#f0f921"
             ]
            ],
            "type": "heatmapgl"
           }
          ],
          "histogram": [
           {
            "marker": {
             "colorbar": {
              "outlinewidth": 0,
              "ticks": ""
             }
            },
            "type": "histogram"
           }
          ],
          "histogram2d": [
           {
            "colorbar": {
             "outlinewidth": 0,
             "ticks": ""
            },
            "colorscale": [
             [
              0,
              "#0d0887"
             ],
             [
              0.1111111111111111,
              "#46039f"
             ],
             [
              0.2222222222222222,
              "#7201a8"
             ],
             [
              0.3333333333333333,
              "#9c179e"
             ],
             [
              0.4444444444444444,
              "#bd3786"
             ],
             [
              0.5555555555555556,
              "#d8576b"
             ],
             [
              0.6666666666666666,
              "#ed7953"
             ],
             [
              0.7777777777777778,
              "#fb9f3a"
             ],
             [
              0.8888888888888888,
              "#fdca26"
             ],
             [
              1,
              "#f0f921"
             ]
            ],
            "type": "histogram2d"
           }
          ],
          "histogram2dcontour": [
           {
            "colorbar": {
             "outlinewidth": 0,
             "ticks": ""
            },
            "colorscale": [
             [
              0,
              "#0d0887"
             ],
             [
              0.1111111111111111,
              "#46039f"
             ],
             [
              0.2222222222222222,
              "#7201a8"
             ],
             [
              0.3333333333333333,
              "#9c179e"
             ],
             [
              0.4444444444444444,
              "#bd3786"
             ],
             [
              0.5555555555555556,
              "#d8576b"
             ],
             [
              0.6666666666666666,
              "#ed7953"
             ],
             [
              0.7777777777777778,
              "#fb9f3a"
             ],
             [
              0.8888888888888888,
              "#fdca26"
             ],
             [
              1,
              "#f0f921"
             ]
            ],
            "type": "histogram2dcontour"
           }
          ],
          "mesh3d": [
           {
            "colorbar": {
             "outlinewidth": 0,
             "ticks": ""
            },
            "type": "mesh3d"
           }
          ],
          "parcoords": [
           {
            "line": {
             "colorbar": {
              "outlinewidth": 0,
              "ticks": ""
             }
            },
            "type": "parcoords"
           }
          ],
          "pie": [
           {
            "automargin": true,
            "type": "pie"
           }
          ],
          "scatter": [
           {
            "marker": {
             "colorbar": {
              "outlinewidth": 0,
              "ticks": ""
             }
            },
            "type": "scatter"
           }
          ],
          "scatter3d": [
           {
            "line": {
             "colorbar": {
              "outlinewidth": 0,
              "ticks": ""
             }
            },
            "marker": {
             "colorbar": {
              "outlinewidth": 0,
              "ticks": ""
             }
            },
            "type": "scatter3d"
           }
          ],
          "scattercarpet": [
           {
            "marker": {
             "colorbar": {
              "outlinewidth": 0,
              "ticks": ""
             }
            },
            "type": "scattercarpet"
           }
          ],
          "scattergeo": [
           {
            "marker": {
             "colorbar": {
              "outlinewidth": 0,
              "ticks": ""
             }
            },
            "type": "scattergeo"
           }
          ],
          "scattergl": [
           {
            "marker": {
             "colorbar": {
              "outlinewidth": 0,
              "ticks": ""
             }
            },
            "type": "scattergl"
           }
          ],
          "scattermapbox": [
           {
            "marker": {
             "colorbar": {
              "outlinewidth": 0,
              "ticks": ""
             }
            },
            "type": "scattermapbox"
           }
          ],
          "scatterpolar": [
           {
            "marker": {
             "colorbar": {
              "outlinewidth": 0,
              "ticks": ""
             }
            },
            "type": "scatterpolar"
           }
          ],
          "scatterpolargl": [
           {
            "marker": {
             "colorbar": {
              "outlinewidth": 0,
              "ticks": ""
             }
            },
            "type": "scatterpolargl"
           }
          ],
          "scatterternary": [
           {
            "marker": {
             "colorbar": {
              "outlinewidth": 0,
              "ticks": ""
             }
            },
            "type": "scatterternary"
           }
          ],
          "surface": [
           {
            "colorbar": {
             "outlinewidth": 0,
             "ticks": ""
            },
            "colorscale": [
             [
              0,
              "#0d0887"
             ],
             [
              0.1111111111111111,
              "#46039f"
             ],
             [
              0.2222222222222222,
              "#7201a8"
             ],
             [
              0.3333333333333333,
              "#9c179e"
             ],
             [
              0.4444444444444444,
              "#bd3786"
             ],
             [
              0.5555555555555556,
              "#d8576b"
             ],
             [
              0.6666666666666666,
              "#ed7953"
             ],
             [
              0.7777777777777778,
              "#fb9f3a"
             ],
             [
              0.8888888888888888,
              "#fdca26"
             ],
             [
              1,
              "#f0f921"
             ]
            ],
            "type": "surface"
           }
          ],
          "table": [
           {
            "cells": {
             "fill": {
              "color": "#EBF0F8"
             },
             "line": {
              "color": "white"
             }
            },
            "header": {
             "fill": {
              "color": "#C8D4E3"
             },
             "line": {
              "color": "white"
             }
            },
            "type": "table"
           }
          ]
         },
         "layout": {
          "annotationdefaults": {
           "arrowcolor": "#2a3f5f",
           "arrowhead": 0,
           "arrowwidth": 1
          },
          "coloraxis": {
           "colorbar": {
            "outlinewidth": 0,
            "ticks": ""
           }
          },
          "colorscale": {
           "diverging": [
            [
             0,
             "#8e0152"
            ],
            [
             0.1,
             "#c51b7d"
            ],
            [
             0.2,
             "#de77ae"
            ],
            [
             0.3,
             "#f1b6da"
            ],
            [
             0.4,
             "#fde0ef"
            ],
            [
             0.5,
             "#f7f7f7"
            ],
            [
             0.6,
             "#e6f5d0"
            ],
            [
             0.7,
             "#b8e186"
            ],
            [
             0.8,
             "#7fbc41"
            ],
            [
             0.9,
             "#4d9221"
            ],
            [
             1,
             "#276419"
            ]
           ],
           "sequential": [
            [
             0,
             "#0d0887"
            ],
            [
             0.1111111111111111,
             "#46039f"
            ],
            [
             0.2222222222222222,
             "#7201a8"
            ],
            [
             0.3333333333333333,
             "#9c179e"
            ],
            [
             0.4444444444444444,
             "#bd3786"
            ],
            [
             0.5555555555555556,
             "#d8576b"
            ],
            [
             0.6666666666666666,
             "#ed7953"
            ],
            [
             0.7777777777777778,
             "#fb9f3a"
            ],
            [
             0.8888888888888888,
             "#fdca26"
            ],
            [
             1,
             "#f0f921"
            ]
           ],
           "sequentialminus": [
            [
             0,
             "#0d0887"
            ],
            [
             0.1111111111111111,
             "#46039f"
            ],
            [
             0.2222222222222222,
             "#7201a8"
            ],
            [
             0.3333333333333333,
             "#9c179e"
            ],
            [
             0.4444444444444444,
             "#bd3786"
            ],
            [
             0.5555555555555556,
             "#d8576b"
            ],
            [
             0.6666666666666666,
             "#ed7953"
            ],
            [
             0.7777777777777778,
             "#fb9f3a"
            ],
            [
             0.8888888888888888,
             "#fdca26"
            ],
            [
             1,
             "#f0f921"
            ]
           ]
          },
          "colorway": [
           "#636efa",
           "#EF553B",
           "#00cc96",
           "#ab63fa",
           "#FFA15A",
           "#19d3f3",
           "#FF6692",
           "#B6E880",
           "#FF97FF",
           "#FECB52"
          ],
          "font": {
           "color": "#2a3f5f"
          },
          "geo": {
           "bgcolor": "white",
           "lakecolor": "white",
           "landcolor": "#E5ECF6",
           "showlakes": true,
           "showland": true,
           "subunitcolor": "white"
          },
          "hoverlabel": {
           "align": "left"
          },
          "hovermode": "closest",
          "mapbox": {
           "style": "light"
          },
          "paper_bgcolor": "white",
          "plot_bgcolor": "#E5ECF6",
          "polar": {
           "angularaxis": {
            "gridcolor": "white",
            "linecolor": "white",
            "ticks": ""
           },
           "bgcolor": "#E5ECF6",
           "radialaxis": {
            "gridcolor": "white",
            "linecolor": "white",
            "ticks": ""
           }
          },
          "scene": {
           "xaxis": {
            "backgroundcolor": "#E5ECF6",
            "gridcolor": "white",
            "gridwidth": 2,
            "linecolor": "white",
            "showbackground": true,
            "ticks": "",
            "zerolinecolor": "white"
           },
           "yaxis": {
            "backgroundcolor": "#E5ECF6",
            "gridcolor": "white",
            "gridwidth": 2,
            "linecolor": "white",
            "showbackground": true,
            "ticks": "",
            "zerolinecolor": "white"
           },
           "zaxis": {
            "backgroundcolor": "#E5ECF6",
            "gridcolor": "white",
            "gridwidth": 2,
            "linecolor": "white",
            "showbackground": true,
            "ticks": "",
            "zerolinecolor": "white"
           }
          },
          "shapedefaults": {
           "line": {
            "color": "#2a3f5f"
           }
          },
          "ternary": {
           "aaxis": {
            "gridcolor": "white",
            "linecolor": "white",
            "ticks": ""
           },
           "baxis": {
            "gridcolor": "white",
            "linecolor": "white",
            "ticks": ""
           },
           "bgcolor": "#E5ECF6",
           "caxis": {
            "gridcolor": "white",
            "linecolor": "white",
            "ticks": ""
           }
          },
          "title": {
           "x": 0.05
          },
          "xaxis": {
           "automargin": true,
           "gridcolor": "white",
           "linecolor": "white",
           "ticks": "",
           "title": {
            "standoff": 15
           },
           "zerolinecolor": "white",
           "zerolinewidth": 2
          },
          "yaxis": {
           "automargin": true,
           "gridcolor": "white",
           "linecolor": "white",
           "ticks": "",
           "title": {
            "standoff": 15
           },
           "zerolinecolor": "white",
           "zerolinewidth": 2
          }
         }
        },
        "title": {
         "text": "Amount of intakes per Weekday"
        },
        "xaxis": {
         "anchor": "y",
         "domain": [
          0,
          1
         ],
         "tickfont": {
          "size": 14
         },
         "tickmode": "array",
         "ticktext": [
          "Sunday",
          "Monday",
          "Tuesday",
          "Wednesday",
          "Thursday",
          "Friday",
          "Saturday"
         ],
         "tickvals": [
          0,
          1,
          2,
          3,
          4,
          5,
          6
         ],
         "title": {
          "text": "Months"
         }
        },
        "yaxis": {
         "anchor": "x",
         "domain": [
          0,
          1
         ],
         "title": {
          "text": "Amounts"
         }
        }
       }
      },
      "text/html": [
       "<div>                            <div id=\"8893c91c-34e0-411c-8497-21c706e1f23b\" class=\"plotly-graph-div\" style=\"height:525px; width:100%;\"></div>            <script type=\"text/javascript\">                require([\"plotly\"], function(Plotly) {                    window.PLOTLYENV=window.PLOTLYENV || {};                                    if (document.getElementById(\"8893c91c-34e0-411c-8497-21c706e1f23b\")) {                    Plotly.newPlot(                        \"8893c91c-34e0-411c-8497-21c706e1f23b\",                        [{\"alignmentgroup\": \"True\", \"hovertemplate\": \"variable=intake_weekday<br>Months=%{x}<br>Amounts=%{y}<extra></extra>\", \"legendgroup\": \"intake_weekday\", \"marker\": {\"color\": \"#FF847C\"}, \"name\": \"intake_weekday\", \"offsetgroup\": \"intake_weekday\", \"orientation\": \"v\", \"showlegend\": true, \"textposition\": \"auto\", \"type\": \"bar\", \"x\": [2, 5, 0, 1, 3, 4, 6], \"xaxis\": \"x\", \"y\": [3155, 3129, 2944, 2929, 2899, 2866, 2659], \"yaxis\": \"y\"}],                        {\"barmode\": \"relative\", \"legend\": {\"title\": {\"text\": \"variable\"}, \"tracegroupgap\": 0}, \"plot_bgcolor\": \"#6C5B7B\", \"showlegend\": false, \"template\": {\"data\": {\"bar\": [{\"error_x\": {\"color\": \"#2a3f5f\"}, \"error_y\": {\"color\": \"#2a3f5f\"}, \"marker\": {\"line\": {\"color\": \"#E5ECF6\", \"width\": 0.5}}, \"type\": \"bar\"}], \"barpolar\": [{\"marker\": {\"line\": {\"color\": \"#E5ECF6\", \"width\": 0.5}}, \"type\": \"barpolar\"}], \"carpet\": [{\"aaxis\": {\"endlinecolor\": \"#2a3f5f\", \"gridcolor\": \"white\", \"linecolor\": \"white\", \"minorgridcolor\": \"white\", \"startlinecolor\": \"#2a3f5f\"}, \"baxis\": {\"endlinecolor\": \"#2a3f5f\", \"gridcolor\": \"white\", \"linecolor\": \"white\", \"minorgridcolor\": \"white\", \"startlinecolor\": \"#2a3f5f\"}, \"type\": \"carpet\"}], \"choropleth\": [{\"colorbar\": {\"outlinewidth\": 0, \"ticks\": \"\"}, \"type\": \"choropleth\"}], \"contour\": [{\"colorbar\": {\"outlinewidth\": 0, \"ticks\": \"\"}, \"colorscale\": [[0.0, \"#0d0887\"], [0.1111111111111111, \"#46039f\"], [0.2222222222222222, \"#7201a8\"], [0.3333333333333333, \"#9c179e\"], [0.4444444444444444, \"#bd3786\"], [0.5555555555555556, \"#d8576b\"], [0.6666666666666666, \"#ed7953\"], [0.7777777777777778, \"#fb9f3a\"], [0.8888888888888888, \"#fdca26\"], [1.0, \"#f0f921\"]], \"type\": \"contour\"}], \"contourcarpet\": [{\"colorbar\": {\"outlinewidth\": 0, \"ticks\": \"\"}, \"type\": \"contourcarpet\"}], \"heatmap\": [{\"colorbar\": {\"outlinewidth\": 0, \"ticks\": \"\"}, \"colorscale\": [[0.0, \"#0d0887\"], [0.1111111111111111, \"#46039f\"], [0.2222222222222222, \"#7201a8\"], [0.3333333333333333, \"#9c179e\"], [0.4444444444444444, \"#bd3786\"], [0.5555555555555556, \"#d8576b\"], [0.6666666666666666, \"#ed7953\"], [0.7777777777777778, \"#fb9f3a\"], [0.8888888888888888, \"#fdca26\"], [1.0, \"#f0f921\"]], \"type\": \"heatmap\"}], \"heatmapgl\": [{\"colorbar\": {\"outlinewidth\": 0, \"ticks\": \"\"}, \"colorscale\": [[0.0, \"#0d0887\"], [0.1111111111111111, \"#46039f\"], [0.2222222222222222, \"#7201a8\"], [0.3333333333333333, \"#9c179e\"], [0.4444444444444444, \"#bd3786\"], [0.5555555555555556, \"#d8576b\"], [0.6666666666666666, \"#ed7953\"], [0.7777777777777778, \"#fb9f3a\"], [0.8888888888888888, \"#fdca26\"], [1.0, \"#f0f921\"]], \"type\": \"heatmapgl\"}], \"histogram\": [{\"marker\": {\"colorbar\": {\"outlinewidth\": 0, \"ticks\": \"\"}}, \"type\": \"histogram\"}], \"histogram2d\": [{\"colorbar\": {\"outlinewidth\": 0, \"ticks\": \"\"}, \"colorscale\": [[0.0, \"#0d0887\"], [0.1111111111111111, \"#46039f\"], [0.2222222222222222, \"#7201a8\"], [0.3333333333333333, \"#9c179e\"], [0.4444444444444444, \"#bd3786\"], [0.5555555555555556, \"#d8576b\"], [0.6666666666666666, \"#ed7953\"], [0.7777777777777778, \"#fb9f3a\"], [0.8888888888888888, \"#fdca26\"], [1.0, \"#f0f921\"]], \"type\": \"histogram2d\"}], \"histogram2dcontour\": [{\"colorbar\": {\"outlinewidth\": 0, \"ticks\": \"\"}, \"colorscale\": [[0.0, \"#0d0887\"], [0.1111111111111111, \"#46039f\"], [0.2222222222222222, \"#7201a8\"], [0.3333333333333333, \"#9c179e\"], [0.4444444444444444, \"#bd3786\"], [0.5555555555555556, \"#d8576b\"], [0.6666666666666666, \"#ed7953\"], [0.7777777777777778, \"#fb9f3a\"], [0.8888888888888888, \"#fdca26\"], [1.0, \"#f0f921\"]], \"type\": \"histogram2dcontour\"}], \"mesh3d\": [{\"colorbar\": {\"outlinewidth\": 0, \"ticks\": \"\"}, \"type\": \"mesh3d\"}], \"parcoords\": [{\"line\": {\"colorbar\": {\"outlinewidth\": 0, \"ticks\": \"\"}}, \"type\": \"parcoords\"}], \"pie\": [{\"automargin\": true, \"type\": \"pie\"}], \"scatter\": [{\"marker\": {\"colorbar\": {\"outlinewidth\": 0, \"ticks\": \"\"}}, \"type\": \"scatter\"}], \"scatter3d\": [{\"line\": {\"colorbar\": {\"outlinewidth\": 0, \"ticks\": \"\"}}, \"marker\": {\"colorbar\": {\"outlinewidth\": 0, \"ticks\": \"\"}}, \"type\": \"scatter3d\"}], \"scattercarpet\": [{\"marker\": {\"colorbar\": {\"outlinewidth\": 0, \"ticks\": \"\"}}, \"type\": \"scattercarpet\"}], \"scattergeo\": [{\"marker\": {\"colorbar\": {\"outlinewidth\": 0, \"ticks\": \"\"}}, \"type\": \"scattergeo\"}], \"scattergl\": [{\"marker\": {\"colorbar\": {\"outlinewidth\": 0, \"ticks\": \"\"}}, \"type\": \"scattergl\"}], \"scattermapbox\": [{\"marker\": {\"colorbar\": {\"outlinewidth\": 0, \"ticks\": \"\"}}, \"type\": \"scattermapbox\"}], \"scatterpolar\": [{\"marker\": {\"colorbar\": {\"outlinewidth\": 0, \"ticks\": \"\"}}, \"type\": \"scatterpolar\"}], \"scatterpolargl\": [{\"marker\": {\"colorbar\": {\"outlinewidth\": 0, \"ticks\": \"\"}}, \"type\": \"scatterpolargl\"}], \"scatterternary\": [{\"marker\": {\"colorbar\": {\"outlinewidth\": 0, \"ticks\": \"\"}}, \"type\": \"scatterternary\"}], \"surface\": [{\"colorbar\": {\"outlinewidth\": 0, \"ticks\": \"\"}, \"colorscale\": [[0.0, \"#0d0887\"], [0.1111111111111111, \"#46039f\"], [0.2222222222222222, \"#7201a8\"], [0.3333333333333333, \"#9c179e\"], [0.4444444444444444, \"#bd3786\"], [0.5555555555555556, \"#d8576b\"], [0.6666666666666666, \"#ed7953\"], [0.7777777777777778, \"#fb9f3a\"], [0.8888888888888888, \"#fdca26\"], [1.0, \"#f0f921\"]], \"type\": \"surface\"}], \"table\": [{\"cells\": {\"fill\": {\"color\": \"#EBF0F8\"}, \"line\": {\"color\": \"white\"}}, \"header\": {\"fill\": {\"color\": \"#C8D4E3\"}, \"line\": {\"color\": \"white\"}}, \"type\": \"table\"}]}, \"layout\": {\"annotationdefaults\": {\"arrowcolor\": \"#2a3f5f\", \"arrowhead\": 0, \"arrowwidth\": 1}, \"coloraxis\": {\"colorbar\": {\"outlinewidth\": 0, \"ticks\": \"\"}}, \"colorscale\": {\"diverging\": [[0, \"#8e0152\"], [0.1, \"#c51b7d\"], [0.2, \"#de77ae\"], [0.3, \"#f1b6da\"], [0.4, \"#fde0ef\"], [0.5, \"#f7f7f7\"], [0.6, \"#e6f5d0\"], [0.7, \"#b8e186\"], [0.8, \"#7fbc41\"], [0.9, \"#4d9221\"], [1, \"#276419\"]], \"sequential\": [[0.0, \"#0d0887\"], [0.1111111111111111, \"#46039f\"], [0.2222222222222222, \"#7201a8\"], [0.3333333333333333, \"#9c179e\"], [0.4444444444444444, \"#bd3786\"], [0.5555555555555556, \"#d8576b\"], [0.6666666666666666, \"#ed7953\"], [0.7777777777777778, \"#fb9f3a\"], [0.8888888888888888, \"#fdca26\"], [1.0, \"#f0f921\"]], \"sequentialminus\": [[0.0, \"#0d0887\"], [0.1111111111111111, \"#46039f\"], [0.2222222222222222, \"#7201a8\"], [0.3333333333333333, \"#9c179e\"], [0.4444444444444444, \"#bd3786\"], [0.5555555555555556, \"#d8576b\"], [0.6666666666666666, \"#ed7953\"], [0.7777777777777778, \"#fb9f3a\"], [0.8888888888888888, \"#fdca26\"], [1.0, \"#f0f921\"]]}, \"colorway\": [\"#636efa\", \"#EF553B\", \"#00cc96\", \"#ab63fa\", \"#FFA15A\", \"#19d3f3\", \"#FF6692\", \"#B6E880\", \"#FF97FF\", \"#FECB52\"], \"font\": {\"color\": \"#2a3f5f\"}, \"geo\": {\"bgcolor\": \"white\", \"lakecolor\": \"white\", \"landcolor\": \"#E5ECF6\", \"showlakes\": true, \"showland\": true, \"subunitcolor\": \"white\"}, \"hoverlabel\": {\"align\": \"left\"}, \"hovermode\": \"closest\", \"mapbox\": {\"style\": \"light\"}, \"paper_bgcolor\": \"white\", \"plot_bgcolor\": \"#E5ECF6\", \"polar\": {\"angularaxis\": {\"gridcolor\": \"white\", \"linecolor\": \"white\", \"ticks\": \"\"}, \"bgcolor\": \"#E5ECF6\", \"radialaxis\": {\"gridcolor\": \"white\", \"linecolor\": \"white\", \"ticks\": \"\"}}, \"scene\": {\"xaxis\": {\"backgroundcolor\": \"#E5ECF6\", \"gridcolor\": \"white\", \"gridwidth\": 2, \"linecolor\": \"white\", \"showbackground\": true, \"ticks\": \"\", \"zerolinecolor\": \"white\"}, \"yaxis\": {\"backgroundcolor\": \"#E5ECF6\", \"gridcolor\": \"white\", \"gridwidth\": 2, \"linecolor\": \"white\", \"showbackground\": true, \"ticks\": \"\", \"zerolinecolor\": \"white\"}, \"zaxis\": {\"backgroundcolor\": \"#E5ECF6\", \"gridcolor\": \"white\", \"gridwidth\": 2, \"linecolor\": \"white\", \"showbackground\": true, \"ticks\": \"\", \"zerolinecolor\": \"white\"}}, \"shapedefaults\": {\"line\": {\"color\": \"#2a3f5f\"}}, \"ternary\": {\"aaxis\": {\"gridcolor\": \"white\", \"linecolor\": \"white\", \"ticks\": \"\"}, \"baxis\": {\"gridcolor\": \"white\", \"linecolor\": \"white\", \"ticks\": \"\"}, \"bgcolor\": \"#E5ECF6\", \"caxis\": {\"gridcolor\": \"white\", \"linecolor\": \"white\", \"ticks\": \"\"}}, \"title\": {\"x\": 0.05}, \"xaxis\": {\"automargin\": true, \"gridcolor\": \"white\", \"linecolor\": \"white\", \"ticks\": \"\", \"title\": {\"standoff\": 15}, \"zerolinecolor\": \"white\", \"zerolinewidth\": 2}, \"yaxis\": {\"automargin\": true, \"gridcolor\": \"white\", \"linecolor\": \"white\", \"ticks\": \"\", \"title\": {\"standoff\": 15}, \"zerolinecolor\": \"white\", \"zerolinewidth\": 2}}}, \"title\": {\"text\": \"Amount of intakes per Weekday\"}, \"xaxis\": {\"anchor\": \"y\", \"domain\": [0.0, 1.0], \"tickfont\": {\"size\": 14}, \"tickmode\": \"array\", \"ticktext\": [\"Sunday\", \"Monday\", \"Tuesday\", \"Wednesday\", \"Thursday\", \"Friday\", \"Saturday\"], \"tickvals\": [0, 1, 2, 3, 4, 5, 6], \"title\": {\"text\": \"Months\"}}, \"yaxis\": {\"anchor\": \"x\", \"domain\": [0.0, 1.0], \"title\": {\"text\": \"Amounts\"}}},                        {\"responsive\": true}                    ).then(function(){\n",
       "                            \n",
       "var gd = document.getElementById('8893c91c-34e0-411c-8497-21c706e1f23b');\n",
       "var x = new MutationObserver(function (mutations, observer) {{\n",
       "        var display = window.getComputedStyle(gd).display;\n",
       "        if (!display || display === 'none') {{\n",
       "            console.log([gd, 'removed!']);\n",
       "            Plotly.purge(gd);\n",
       "            observer.disconnect();\n",
       "        }}\n",
       "}});\n",
       "\n",
       "// Listen for the removal of the full notebook cells\n",
       "var notebookContainer = gd.closest('#notebook-container');\n",
       "if (notebookContainer) {{\n",
       "    x.observe(notebookContainer, {childList: true});\n",
       "}}\n",
       "\n",
       "// Listen for the clearing of the current output cell\n",
       "var outputEl = gd.closest('.output');\n",
       "if (outputEl) {{\n",
       "    x.observe(outputEl, {childList: true});\n",
       "}}\n",
       "\n",
       "                        })                };                });            </script>        </div>"
      ]
     },
     "metadata": {},
     "output_type": "display_data"
    }
   ],
   "source": [
    "data=df.intake_weekday.value_counts()\n",
    "fig=px.bar(data, title=\"Amount of intakes per Weekday\",labels={'index': 'Months','value':'Amounts'},color_discrete_sequence=['#FF847C'])\n",
    "fig.update_layout(\n",
    "    xaxis_tickfont_size=14,\n",
    "    xaxis_tickmode='array',\n",
    "    xaxis_tickvals=[0,1,2,3,4,5,6],\n",
    "    xaxis_ticktext=['Sunday','Monday','Tuesday','Wednesday','Thursday','Friday','Saturday'],\n",
    "    showlegend=False,\n",
    "    plot_bgcolor = '#6C5B7B',\n",
    "    )\n",
    "\n",
    "fig.show()"
   ]
  },
  {
   "cell_type": "code",
   "execution_count": 20,
   "metadata": {},
   "outputs": [
    {
     "data": {
      "application/vnd.plotly.v1+json": {
       "config": {
        "plotlyServerURL": "https://plot.ly"
       },
       "data": [
        {
         "alignmentgroup": "True",
         "hovertemplate": "variable=outcome_weekday<br>Months=%{x}<br>Amounts=%{y}<extra></extra>",
         "legendgroup": "outcome_weekday",
         "marker": {
          "color": "lightblue"
         },
         "name": "outcome_weekday",
         "offsetgroup": "outcome_weekday",
         "orientation": "v",
         "showlegend": true,
         "textposition": "auto",
         "type": "bar",
         "x": [
          5,
          6,
          0,
          1,
          4,
          2,
          3
         ],
         "xaxis": "x",
         "y": [
          4088,
          4084,
          2783,
          2560,
          2473,
          2312,
          2281
         ],
         "yaxis": "y"
        }
       ],
       "layout": {
        "barmode": "relative",
        "legend": {
         "title": {
          "text": "variable"
         },
         "tracegroupgap": 0
        },
        "plot_bgcolor": "#6C5B7B",
        "showlegend": false,
        "template": {
         "data": {
          "bar": [
           {
            "error_x": {
             "color": "#2a3f5f"
            },
            "error_y": {
             "color": "#2a3f5f"
            },
            "marker": {
             "line": {
              "color": "#E5ECF6",
              "width": 0.5
             }
            },
            "type": "bar"
           }
          ],
          "barpolar": [
           {
            "marker": {
             "line": {
              "color": "#E5ECF6",
              "width": 0.5
             }
            },
            "type": "barpolar"
           }
          ],
          "carpet": [
           {
            "aaxis": {
             "endlinecolor": "#2a3f5f",
             "gridcolor": "white",
             "linecolor": "white",
             "minorgridcolor": "white",
             "startlinecolor": "#2a3f5f"
            },
            "baxis": {
             "endlinecolor": "#2a3f5f",
             "gridcolor": "white",
             "linecolor": "white",
             "minorgridcolor": "white",
             "startlinecolor": "#2a3f5f"
            },
            "type": "carpet"
           }
          ],
          "choropleth": [
           {
            "colorbar": {
             "outlinewidth": 0,
             "ticks": ""
            },
            "type": "choropleth"
           }
          ],
          "contour": [
           {
            "colorbar": {
             "outlinewidth": 0,
             "ticks": ""
            },
            "colorscale": [
             [
              0,
              "#0d0887"
             ],
             [
              0.1111111111111111,
              "#46039f"
             ],
             [
              0.2222222222222222,
              "#7201a8"
             ],
             [
              0.3333333333333333,
              "#9c179e"
             ],
             [
              0.4444444444444444,
              "#bd3786"
             ],
             [
              0.5555555555555556,
              "#d8576b"
             ],
             [
              0.6666666666666666,
              "#ed7953"
             ],
             [
              0.7777777777777778,
              "#fb9f3a"
             ],
             [
              0.8888888888888888,
              "#fdca26"
             ],
             [
              1,
              "#f0f921"
             ]
            ],
            "type": "contour"
           }
          ],
          "contourcarpet": [
           {
            "colorbar": {
             "outlinewidth": 0,
             "ticks": ""
            },
            "type": "contourcarpet"
           }
          ],
          "heatmap": [
           {
            "colorbar": {
             "outlinewidth": 0,
             "ticks": ""
            },
            "colorscale": [
             [
              0,
              "#0d0887"
             ],
             [
              0.1111111111111111,
              "#46039f"
             ],
             [
              0.2222222222222222,
              "#7201a8"
             ],
             [
              0.3333333333333333,
              "#9c179e"
             ],
             [
              0.4444444444444444,
              "#bd3786"
             ],
             [
              0.5555555555555556,
              "#d8576b"
             ],
             [
              0.6666666666666666,
              "#ed7953"
             ],
             [
              0.7777777777777778,
              "#fb9f3a"
             ],
             [
              0.8888888888888888,
              "#fdca26"
             ],
             [
              1,
              "#f0f921"
             ]
            ],
            "type": "heatmap"
           }
          ],
          "heatmapgl": [
           {
            "colorbar": {
             "outlinewidth": 0,
             "ticks": ""
            },
            "colorscale": [
             [
              0,
              "#0d0887"
             ],
             [
              0.1111111111111111,
              "#46039f"
             ],
             [
              0.2222222222222222,
              "#7201a8"
             ],
             [
              0.3333333333333333,
              "#9c179e"
             ],
             [
              0.4444444444444444,
              "#bd3786"
             ],
             [
              0.5555555555555556,
              "#d8576b"
             ],
             [
              0.6666666666666666,
              "#ed7953"
             ],
             [
              0.7777777777777778,
              "#fb9f3a"
             ],
             [
              0.8888888888888888,
              "#fdca26"
             ],
             [
              1,
              "#f0f921"
             ]
            ],
            "type": "heatmapgl"
           }
          ],
          "histogram": [
           {
            "marker": {
             "colorbar": {
              "outlinewidth": 0,
              "ticks": ""
             }
            },
            "type": "histogram"
           }
          ],
          "histogram2d": [
           {
            "colorbar": {
             "outlinewidth": 0,
             "ticks": ""
            },
            "colorscale": [
             [
              0,
              "#0d0887"
             ],
             [
              0.1111111111111111,
              "#46039f"
             ],
             [
              0.2222222222222222,
              "#7201a8"
             ],
             [
              0.3333333333333333,
              "#9c179e"
             ],
             [
              0.4444444444444444,
              "#bd3786"
             ],
             [
              0.5555555555555556,
              "#d8576b"
             ],
             [
              0.6666666666666666,
              "#ed7953"
             ],
             [
              0.7777777777777778,
              "#fb9f3a"
             ],
             [
              0.8888888888888888,
              "#fdca26"
             ],
             [
              1,
              "#f0f921"
             ]
            ],
            "type": "histogram2d"
           }
          ],
          "histogram2dcontour": [
           {
            "colorbar": {
             "outlinewidth": 0,
             "ticks": ""
            },
            "colorscale": [
             [
              0,
              "#0d0887"
             ],
             [
              0.1111111111111111,
              "#46039f"
             ],
             [
              0.2222222222222222,
              "#7201a8"
             ],
             [
              0.3333333333333333,
              "#9c179e"
             ],
             [
              0.4444444444444444,
              "#bd3786"
             ],
             [
              0.5555555555555556,
              "#d8576b"
             ],
             [
              0.6666666666666666,
              "#ed7953"
             ],
             [
              0.7777777777777778,
              "#fb9f3a"
             ],
             [
              0.8888888888888888,
              "#fdca26"
             ],
             [
              1,
              "#f0f921"
             ]
            ],
            "type": "histogram2dcontour"
           }
          ],
          "mesh3d": [
           {
            "colorbar": {
             "outlinewidth": 0,
             "ticks": ""
            },
            "type": "mesh3d"
           }
          ],
          "parcoords": [
           {
            "line": {
             "colorbar": {
              "outlinewidth": 0,
              "ticks": ""
             }
            },
            "type": "parcoords"
           }
          ],
          "pie": [
           {
            "automargin": true,
            "type": "pie"
           }
          ],
          "scatter": [
           {
            "marker": {
             "colorbar": {
              "outlinewidth": 0,
              "ticks": ""
             }
            },
            "type": "scatter"
           }
          ],
          "scatter3d": [
           {
            "line": {
             "colorbar": {
              "outlinewidth": 0,
              "ticks": ""
             }
            },
            "marker": {
             "colorbar": {
              "outlinewidth": 0,
              "ticks": ""
             }
            },
            "type": "scatter3d"
           }
          ],
          "scattercarpet": [
           {
            "marker": {
             "colorbar": {
              "outlinewidth": 0,
              "ticks": ""
             }
            },
            "type": "scattercarpet"
           }
          ],
          "scattergeo": [
           {
            "marker": {
             "colorbar": {
              "outlinewidth": 0,
              "ticks": ""
             }
            },
            "type": "scattergeo"
           }
          ],
          "scattergl": [
           {
            "marker": {
             "colorbar": {
              "outlinewidth": 0,
              "ticks": ""
             }
            },
            "type": "scattergl"
           }
          ],
          "scattermapbox": [
           {
            "marker": {
             "colorbar": {
              "outlinewidth": 0,
              "ticks": ""
             }
            },
            "type": "scattermapbox"
           }
          ],
          "scatterpolar": [
           {
            "marker": {
             "colorbar": {
              "outlinewidth": 0,
              "ticks": ""
             }
            },
            "type": "scatterpolar"
           }
          ],
          "scatterpolargl": [
           {
            "marker": {
             "colorbar": {
              "outlinewidth": 0,
              "ticks": ""
             }
            },
            "type": "scatterpolargl"
           }
          ],
          "scatterternary": [
           {
            "marker": {
             "colorbar": {
              "outlinewidth": 0,
              "ticks": ""
             }
            },
            "type": "scatterternary"
           }
          ],
          "surface": [
           {
            "colorbar": {
             "outlinewidth": 0,
             "ticks": ""
            },
            "colorscale": [
             [
              0,
              "#0d0887"
             ],
             [
              0.1111111111111111,
              "#46039f"
             ],
             [
              0.2222222222222222,
              "#7201a8"
             ],
             [
              0.3333333333333333,
              "#9c179e"
             ],
             [
              0.4444444444444444,
              "#bd3786"
             ],
             [
              0.5555555555555556,
              "#d8576b"
             ],
             [
              0.6666666666666666,
              "#ed7953"
             ],
             [
              0.7777777777777778,
              "#fb9f3a"
             ],
             [
              0.8888888888888888,
              "#fdca26"
             ],
             [
              1,
              "#f0f921"
             ]
            ],
            "type": "surface"
           }
          ],
          "table": [
           {
            "cells": {
             "fill": {
              "color": "#EBF0F8"
             },
             "line": {
              "color": "white"
             }
            },
            "header": {
             "fill": {
              "color": "#C8D4E3"
             },
             "line": {
              "color": "white"
             }
            },
            "type": "table"
           }
          ]
         },
         "layout": {
          "annotationdefaults": {
           "arrowcolor": "#2a3f5f",
           "arrowhead": 0,
           "arrowwidth": 1
          },
          "coloraxis": {
           "colorbar": {
            "outlinewidth": 0,
            "ticks": ""
           }
          },
          "colorscale": {
           "diverging": [
            [
             0,
             "#8e0152"
            ],
            [
             0.1,
             "#c51b7d"
            ],
            [
             0.2,
             "#de77ae"
            ],
            [
             0.3,
             "#f1b6da"
            ],
            [
             0.4,
             "#fde0ef"
            ],
            [
             0.5,
             "#f7f7f7"
            ],
            [
             0.6,
             "#e6f5d0"
            ],
            [
             0.7,
             "#b8e186"
            ],
            [
             0.8,
             "#7fbc41"
            ],
            [
             0.9,
             "#4d9221"
            ],
            [
             1,
             "#276419"
            ]
           ],
           "sequential": [
            [
             0,
             "#0d0887"
            ],
            [
             0.1111111111111111,
             "#46039f"
            ],
            [
             0.2222222222222222,
             "#7201a8"
            ],
            [
             0.3333333333333333,
             "#9c179e"
            ],
            [
             0.4444444444444444,
             "#bd3786"
            ],
            [
             0.5555555555555556,
             "#d8576b"
            ],
            [
             0.6666666666666666,
             "#ed7953"
            ],
            [
             0.7777777777777778,
             "#fb9f3a"
            ],
            [
             0.8888888888888888,
             "#fdca26"
            ],
            [
             1,
             "#f0f921"
            ]
           ],
           "sequentialminus": [
            [
             0,
             "#0d0887"
            ],
            [
             0.1111111111111111,
             "#46039f"
            ],
            [
             0.2222222222222222,
             "#7201a8"
            ],
            [
             0.3333333333333333,
             "#9c179e"
            ],
            [
             0.4444444444444444,
             "#bd3786"
            ],
            [
             0.5555555555555556,
             "#d8576b"
            ],
            [
             0.6666666666666666,
             "#ed7953"
            ],
            [
             0.7777777777777778,
             "#fb9f3a"
            ],
            [
             0.8888888888888888,
             "#fdca26"
            ],
            [
             1,
             "#f0f921"
            ]
           ]
          },
          "colorway": [
           "#636efa",
           "#EF553B",
           "#00cc96",
           "#ab63fa",
           "#FFA15A",
           "#19d3f3",
           "#FF6692",
           "#B6E880",
           "#FF97FF",
           "#FECB52"
          ],
          "font": {
           "color": "#2a3f5f"
          },
          "geo": {
           "bgcolor": "white",
           "lakecolor": "white",
           "landcolor": "#E5ECF6",
           "showlakes": true,
           "showland": true,
           "subunitcolor": "white"
          },
          "hoverlabel": {
           "align": "left"
          },
          "hovermode": "closest",
          "mapbox": {
           "style": "light"
          },
          "paper_bgcolor": "white",
          "plot_bgcolor": "#E5ECF6",
          "polar": {
           "angularaxis": {
            "gridcolor": "white",
            "linecolor": "white",
            "ticks": ""
           },
           "bgcolor": "#E5ECF6",
           "radialaxis": {
            "gridcolor": "white",
            "linecolor": "white",
            "ticks": ""
           }
          },
          "scene": {
           "xaxis": {
            "backgroundcolor": "#E5ECF6",
            "gridcolor": "white",
            "gridwidth": 2,
            "linecolor": "white",
            "showbackground": true,
            "ticks": "",
            "zerolinecolor": "white"
           },
           "yaxis": {
            "backgroundcolor": "#E5ECF6",
            "gridcolor": "white",
            "gridwidth": 2,
            "linecolor": "white",
            "showbackground": true,
            "ticks": "",
            "zerolinecolor": "white"
           },
           "zaxis": {
            "backgroundcolor": "#E5ECF6",
            "gridcolor": "white",
            "gridwidth": 2,
            "linecolor": "white",
            "showbackground": true,
            "ticks": "",
            "zerolinecolor": "white"
           }
          },
          "shapedefaults": {
           "line": {
            "color": "#2a3f5f"
           }
          },
          "ternary": {
           "aaxis": {
            "gridcolor": "white",
            "linecolor": "white",
            "ticks": ""
           },
           "baxis": {
            "gridcolor": "white",
            "linecolor": "white",
            "ticks": ""
           },
           "bgcolor": "#E5ECF6",
           "caxis": {
            "gridcolor": "white",
            "linecolor": "white",
            "ticks": ""
           }
          },
          "title": {
           "x": 0.05
          },
          "xaxis": {
           "automargin": true,
           "gridcolor": "white",
           "linecolor": "white",
           "ticks": "",
           "title": {
            "standoff": 15
           },
           "zerolinecolor": "white",
           "zerolinewidth": 2
          },
          "yaxis": {
           "automargin": true,
           "gridcolor": "white",
           "linecolor": "white",
           "ticks": "",
           "title": {
            "standoff": 15
           },
           "zerolinecolor": "white",
           "zerolinewidth": 2
          }
         }
        },
        "title": {
         "text": "Amount of adoptions per Weekday"
        },
        "xaxis": {
         "anchor": "y",
         "domain": [
          0,
          1
         ],
         "tickfont": {
          "size": 14
         },
         "tickmode": "array",
         "ticktext": [
          "Sunday",
          "Monday",
          "Tuesday",
          "Wednesday",
          "Thursday",
          "Friday",
          "Saturday"
         ],
         "tickvals": [
          0,
          1,
          2,
          3,
          4,
          5,
          6
         ],
         "title": {
          "text": "Months"
         }
        },
        "yaxis": {
         "anchor": "x",
         "domain": [
          0,
          1
         ],
         "title": {
          "text": "Amounts"
         }
        }
       }
      },
      "text/html": [
       "<div>                            <div id=\"3aa989af-4bfb-4142-8a78-58052d373a9b\" class=\"plotly-graph-div\" style=\"height:525px; width:100%;\"></div>            <script type=\"text/javascript\">                require([\"plotly\"], function(Plotly) {                    window.PLOTLYENV=window.PLOTLYENV || {};                                    if (document.getElementById(\"3aa989af-4bfb-4142-8a78-58052d373a9b\")) {                    Plotly.newPlot(                        \"3aa989af-4bfb-4142-8a78-58052d373a9b\",                        [{\"alignmentgroup\": \"True\", \"hovertemplate\": \"variable=outcome_weekday<br>Months=%{x}<br>Amounts=%{y}<extra></extra>\", \"legendgroup\": \"outcome_weekday\", \"marker\": {\"color\": \"lightblue\"}, \"name\": \"outcome_weekday\", \"offsetgroup\": \"outcome_weekday\", \"orientation\": \"v\", \"showlegend\": true, \"textposition\": \"auto\", \"type\": \"bar\", \"x\": [5, 6, 0, 1, 4, 2, 3], \"xaxis\": \"x\", \"y\": [4088, 4084, 2783, 2560, 2473, 2312, 2281], \"yaxis\": \"y\"}],                        {\"barmode\": \"relative\", \"legend\": {\"title\": {\"text\": \"variable\"}, \"tracegroupgap\": 0}, \"plot_bgcolor\": \"#6C5B7B\", \"showlegend\": false, \"template\": {\"data\": {\"bar\": [{\"error_x\": {\"color\": \"#2a3f5f\"}, \"error_y\": {\"color\": \"#2a3f5f\"}, \"marker\": {\"line\": {\"color\": \"#E5ECF6\", \"width\": 0.5}}, \"type\": \"bar\"}], \"barpolar\": [{\"marker\": {\"line\": {\"color\": \"#E5ECF6\", \"width\": 0.5}}, \"type\": \"barpolar\"}], \"carpet\": [{\"aaxis\": {\"endlinecolor\": \"#2a3f5f\", \"gridcolor\": \"white\", \"linecolor\": \"white\", \"minorgridcolor\": \"white\", \"startlinecolor\": \"#2a3f5f\"}, \"baxis\": {\"endlinecolor\": \"#2a3f5f\", \"gridcolor\": \"white\", \"linecolor\": \"white\", \"minorgridcolor\": \"white\", \"startlinecolor\": \"#2a3f5f\"}, \"type\": \"carpet\"}], \"choropleth\": [{\"colorbar\": {\"outlinewidth\": 0, \"ticks\": \"\"}, \"type\": \"choropleth\"}], \"contour\": [{\"colorbar\": {\"outlinewidth\": 0, \"ticks\": \"\"}, \"colorscale\": [[0.0, \"#0d0887\"], [0.1111111111111111, \"#46039f\"], [0.2222222222222222, \"#7201a8\"], [0.3333333333333333, \"#9c179e\"], [0.4444444444444444, \"#bd3786\"], [0.5555555555555556, \"#d8576b\"], [0.6666666666666666, \"#ed7953\"], [0.7777777777777778, \"#fb9f3a\"], [0.8888888888888888, \"#fdca26\"], [1.0, \"#f0f921\"]], \"type\": \"contour\"}], \"contourcarpet\": [{\"colorbar\": {\"outlinewidth\": 0, \"ticks\": \"\"}, \"type\": \"contourcarpet\"}], \"heatmap\": [{\"colorbar\": {\"outlinewidth\": 0, \"ticks\": \"\"}, \"colorscale\": [[0.0, \"#0d0887\"], [0.1111111111111111, \"#46039f\"], [0.2222222222222222, \"#7201a8\"], [0.3333333333333333, \"#9c179e\"], [0.4444444444444444, \"#bd3786\"], [0.5555555555555556, \"#d8576b\"], [0.6666666666666666, \"#ed7953\"], [0.7777777777777778, \"#fb9f3a\"], [0.8888888888888888, \"#fdca26\"], [1.0, \"#f0f921\"]], \"type\": \"heatmap\"}], \"heatmapgl\": [{\"colorbar\": {\"outlinewidth\": 0, \"ticks\": \"\"}, \"colorscale\": [[0.0, \"#0d0887\"], [0.1111111111111111, \"#46039f\"], [0.2222222222222222, \"#7201a8\"], [0.3333333333333333, \"#9c179e\"], [0.4444444444444444, \"#bd3786\"], [0.5555555555555556, \"#d8576b\"], [0.6666666666666666, \"#ed7953\"], [0.7777777777777778, \"#fb9f3a\"], [0.8888888888888888, \"#fdca26\"], [1.0, \"#f0f921\"]], \"type\": \"heatmapgl\"}], \"histogram\": [{\"marker\": {\"colorbar\": {\"outlinewidth\": 0, \"ticks\": \"\"}}, \"type\": \"histogram\"}], \"histogram2d\": [{\"colorbar\": {\"outlinewidth\": 0, \"ticks\": \"\"}, \"colorscale\": [[0.0, \"#0d0887\"], [0.1111111111111111, \"#46039f\"], [0.2222222222222222, \"#7201a8\"], [0.3333333333333333, \"#9c179e\"], [0.4444444444444444, \"#bd3786\"], [0.5555555555555556, \"#d8576b\"], [0.6666666666666666, \"#ed7953\"], [0.7777777777777778, \"#fb9f3a\"], [0.8888888888888888, \"#fdca26\"], [1.0, \"#f0f921\"]], \"type\": \"histogram2d\"}], \"histogram2dcontour\": [{\"colorbar\": {\"outlinewidth\": 0, \"ticks\": \"\"}, \"colorscale\": [[0.0, \"#0d0887\"], [0.1111111111111111, \"#46039f\"], [0.2222222222222222, \"#7201a8\"], [0.3333333333333333, \"#9c179e\"], [0.4444444444444444, \"#bd3786\"], [0.5555555555555556, \"#d8576b\"], [0.6666666666666666, \"#ed7953\"], [0.7777777777777778, \"#fb9f3a\"], [0.8888888888888888, \"#fdca26\"], [1.0, \"#f0f921\"]], \"type\": \"histogram2dcontour\"}], \"mesh3d\": [{\"colorbar\": {\"outlinewidth\": 0, \"ticks\": \"\"}, \"type\": \"mesh3d\"}], \"parcoords\": [{\"line\": {\"colorbar\": {\"outlinewidth\": 0, \"ticks\": \"\"}}, \"type\": \"parcoords\"}], \"pie\": [{\"automargin\": true, \"type\": \"pie\"}], \"scatter\": [{\"marker\": {\"colorbar\": {\"outlinewidth\": 0, \"ticks\": \"\"}}, \"type\": \"scatter\"}], \"scatter3d\": [{\"line\": {\"colorbar\": {\"outlinewidth\": 0, \"ticks\": \"\"}}, \"marker\": {\"colorbar\": {\"outlinewidth\": 0, \"ticks\": \"\"}}, \"type\": \"scatter3d\"}], \"scattercarpet\": [{\"marker\": {\"colorbar\": {\"outlinewidth\": 0, \"ticks\": \"\"}}, \"type\": \"scattercarpet\"}], \"scattergeo\": [{\"marker\": {\"colorbar\": {\"outlinewidth\": 0, \"ticks\": \"\"}}, \"type\": \"scattergeo\"}], \"scattergl\": [{\"marker\": {\"colorbar\": {\"outlinewidth\": 0, \"ticks\": \"\"}}, \"type\": \"scattergl\"}], \"scattermapbox\": [{\"marker\": {\"colorbar\": {\"outlinewidth\": 0, \"ticks\": \"\"}}, \"type\": \"scattermapbox\"}], \"scatterpolar\": [{\"marker\": {\"colorbar\": {\"outlinewidth\": 0, \"ticks\": \"\"}}, \"type\": \"scatterpolar\"}], \"scatterpolargl\": [{\"marker\": {\"colorbar\": {\"outlinewidth\": 0, \"ticks\": \"\"}}, \"type\": \"scatterpolargl\"}], \"scatterternary\": [{\"marker\": {\"colorbar\": {\"outlinewidth\": 0, \"ticks\": \"\"}}, \"type\": \"scatterternary\"}], \"surface\": [{\"colorbar\": {\"outlinewidth\": 0, \"ticks\": \"\"}, \"colorscale\": [[0.0, \"#0d0887\"], [0.1111111111111111, \"#46039f\"], [0.2222222222222222, \"#7201a8\"], [0.3333333333333333, \"#9c179e\"], [0.4444444444444444, \"#bd3786\"], [0.5555555555555556, \"#d8576b\"], [0.6666666666666666, \"#ed7953\"], [0.7777777777777778, \"#fb9f3a\"], [0.8888888888888888, \"#fdca26\"], [1.0, \"#f0f921\"]], \"type\": \"surface\"}], \"table\": [{\"cells\": {\"fill\": {\"color\": \"#EBF0F8\"}, \"line\": {\"color\": \"white\"}}, \"header\": {\"fill\": {\"color\": \"#C8D4E3\"}, \"line\": {\"color\": \"white\"}}, \"type\": \"table\"}]}, \"layout\": {\"annotationdefaults\": {\"arrowcolor\": \"#2a3f5f\", \"arrowhead\": 0, \"arrowwidth\": 1}, \"coloraxis\": {\"colorbar\": {\"outlinewidth\": 0, \"ticks\": \"\"}}, \"colorscale\": {\"diverging\": [[0, \"#8e0152\"], [0.1, \"#c51b7d\"], [0.2, \"#de77ae\"], [0.3, \"#f1b6da\"], [0.4, \"#fde0ef\"], [0.5, \"#f7f7f7\"], [0.6, \"#e6f5d0\"], [0.7, \"#b8e186\"], [0.8, \"#7fbc41\"], [0.9, \"#4d9221\"], [1, \"#276419\"]], \"sequential\": [[0.0, \"#0d0887\"], [0.1111111111111111, \"#46039f\"], [0.2222222222222222, \"#7201a8\"], [0.3333333333333333, \"#9c179e\"], [0.4444444444444444, \"#bd3786\"], [0.5555555555555556, \"#d8576b\"], [0.6666666666666666, \"#ed7953\"], [0.7777777777777778, \"#fb9f3a\"], [0.8888888888888888, \"#fdca26\"], [1.0, \"#f0f921\"]], \"sequentialminus\": [[0.0, \"#0d0887\"], [0.1111111111111111, \"#46039f\"], [0.2222222222222222, \"#7201a8\"], [0.3333333333333333, \"#9c179e\"], [0.4444444444444444, \"#bd3786\"], [0.5555555555555556, \"#d8576b\"], [0.6666666666666666, \"#ed7953\"], [0.7777777777777778, \"#fb9f3a\"], [0.8888888888888888, \"#fdca26\"], [1.0, \"#f0f921\"]]}, \"colorway\": [\"#636efa\", \"#EF553B\", \"#00cc96\", \"#ab63fa\", \"#FFA15A\", \"#19d3f3\", \"#FF6692\", \"#B6E880\", \"#FF97FF\", \"#FECB52\"], \"font\": {\"color\": \"#2a3f5f\"}, \"geo\": {\"bgcolor\": \"white\", \"lakecolor\": \"white\", \"landcolor\": \"#E5ECF6\", \"showlakes\": true, \"showland\": true, \"subunitcolor\": \"white\"}, \"hoverlabel\": {\"align\": \"left\"}, \"hovermode\": \"closest\", \"mapbox\": {\"style\": \"light\"}, \"paper_bgcolor\": \"white\", \"plot_bgcolor\": \"#E5ECF6\", \"polar\": {\"angularaxis\": {\"gridcolor\": \"white\", \"linecolor\": \"white\", \"ticks\": \"\"}, \"bgcolor\": \"#E5ECF6\", \"radialaxis\": {\"gridcolor\": \"white\", \"linecolor\": \"white\", \"ticks\": \"\"}}, \"scene\": {\"xaxis\": {\"backgroundcolor\": \"#E5ECF6\", \"gridcolor\": \"white\", \"gridwidth\": 2, \"linecolor\": \"white\", \"showbackground\": true, \"ticks\": \"\", \"zerolinecolor\": \"white\"}, \"yaxis\": {\"backgroundcolor\": \"#E5ECF6\", \"gridcolor\": \"white\", \"gridwidth\": 2, \"linecolor\": \"white\", \"showbackground\": true, \"ticks\": \"\", \"zerolinecolor\": \"white\"}, \"zaxis\": {\"backgroundcolor\": \"#E5ECF6\", \"gridcolor\": \"white\", \"gridwidth\": 2, \"linecolor\": \"white\", \"showbackground\": true, \"ticks\": \"\", \"zerolinecolor\": \"white\"}}, \"shapedefaults\": {\"line\": {\"color\": \"#2a3f5f\"}}, \"ternary\": {\"aaxis\": {\"gridcolor\": \"white\", \"linecolor\": \"white\", \"ticks\": \"\"}, \"baxis\": {\"gridcolor\": \"white\", \"linecolor\": \"white\", \"ticks\": \"\"}, \"bgcolor\": \"#E5ECF6\", \"caxis\": {\"gridcolor\": \"white\", \"linecolor\": \"white\", \"ticks\": \"\"}}, \"title\": {\"x\": 0.05}, \"xaxis\": {\"automargin\": true, \"gridcolor\": \"white\", \"linecolor\": \"white\", \"ticks\": \"\", \"title\": {\"standoff\": 15}, \"zerolinecolor\": \"white\", \"zerolinewidth\": 2}, \"yaxis\": {\"automargin\": true, \"gridcolor\": \"white\", \"linecolor\": \"white\", \"ticks\": \"\", \"title\": {\"standoff\": 15}, \"zerolinecolor\": \"white\", \"zerolinewidth\": 2}}}, \"title\": {\"text\": \"Amount of adoptions per Weekday\"}, \"xaxis\": {\"anchor\": \"y\", \"domain\": [0.0, 1.0], \"tickfont\": {\"size\": 14}, \"tickmode\": \"array\", \"ticktext\": [\"Sunday\", \"Monday\", \"Tuesday\", \"Wednesday\", \"Thursday\", \"Friday\", \"Saturday\"], \"tickvals\": [0, 1, 2, 3, 4, 5, 6], \"title\": {\"text\": \"Months\"}}, \"yaxis\": {\"anchor\": \"x\", \"domain\": [0.0, 1.0], \"title\": {\"text\": \"Amounts\"}}},                        {\"responsive\": true}                    ).then(function(){\n",
       "                            \n",
       "var gd = document.getElementById('3aa989af-4bfb-4142-8a78-58052d373a9b');\n",
       "var x = new MutationObserver(function (mutations, observer) {{\n",
       "        var display = window.getComputedStyle(gd).display;\n",
       "        if (!display || display === 'none') {{\n",
       "            console.log([gd, 'removed!']);\n",
       "            Plotly.purge(gd);\n",
       "            observer.disconnect();\n",
       "        }}\n",
       "}});\n",
       "\n",
       "// Listen for the removal of the full notebook cells\n",
       "var notebookContainer = gd.closest('#notebook-container');\n",
       "if (notebookContainer) {{\n",
       "    x.observe(notebookContainer, {childList: true});\n",
       "}}\n",
       "\n",
       "// Listen for the clearing of the current output cell\n",
       "var outputEl = gd.closest('.output');\n",
       "if (outputEl) {{\n",
       "    x.observe(outputEl, {childList: true});\n",
       "}}\n",
       "\n",
       "                        })                };                });            </script>        </div>"
      ]
     },
     "metadata": {},
     "output_type": "display_data"
    }
   ],
   "source": [
    "data=df.outcome_weekday.value_counts()\n",
    "fig=px.bar(data, title=\"Amount of adoptions per Weekday\",labels={'index': 'Months','value':'Amounts'},color_discrete_sequence=['lightblue'])\n",
    "fig.update_layout(\n",
    "    xaxis_tickfont_size=14,\n",
    "    xaxis_tickmode='array',\n",
    "    xaxis_tickvals=[0,1,2,3,4,5,6],\n",
    "    xaxis_ticktext=['Sunday','Monday','Tuesday','Wednesday','Thursday','Friday','Saturday'],\n",
    "    showlegend=False,\n",
    "    plot_bgcolor = '#6C5B7B'\n",
    "    )\n",
    "\n",
    "fig.show()"
   ]
  },
  {
   "cell_type": "code",
   "execution_count": 78,
   "metadata": {},
   "outputs": [
    {
     "data": {
      "application/vnd.plotly.v1+json": {
       "config": {
        "plotlyServerURL": "https://plot.ly"
       },
       "data": [
        {
         "alignmentgroup": "True",
         "hovertemplate": "variable=season<br>Months=%{x}<br>Amounts=%{y}<extra></extra>",
         "legendgroup": "season",
         "marker": {
          "color": "#b9A9a9"
         },
         "name": "season",
         "offsetgroup": "season",
         "orientation": "v",
         "showlegend": true,
         "textposition": "auto",
         "type": "bar",
         "x": [
          4,
          3,
          2,
          1
         ],
         "xaxis": "x",
         "y": [
          5688,
          5181,
          4859,
          4853
         ],
         "yaxis": "y"
        }
       ],
       "layout": {
        "barmode": "relative",
        "legend": {
         "title": {
          "text": "variable"
         },
         "tracegroupgap": 0
        },
        "plot_bgcolor": "#F9CDAD",
        "showlegend": false,
        "template": {
         "data": {
          "bar": [
           {
            "error_x": {
             "color": "#2a3f5f"
            },
            "error_y": {
             "color": "#2a3f5f"
            },
            "marker": {
             "line": {
              "color": "#E5ECF6",
              "width": 0.5
             }
            },
            "type": "bar"
           }
          ],
          "barpolar": [
           {
            "marker": {
             "line": {
              "color": "#E5ECF6",
              "width": 0.5
             }
            },
            "type": "barpolar"
           }
          ],
          "carpet": [
           {
            "aaxis": {
             "endlinecolor": "#2a3f5f",
             "gridcolor": "white",
             "linecolor": "white",
             "minorgridcolor": "white",
             "startlinecolor": "#2a3f5f"
            },
            "baxis": {
             "endlinecolor": "#2a3f5f",
             "gridcolor": "white",
             "linecolor": "white",
             "minorgridcolor": "white",
             "startlinecolor": "#2a3f5f"
            },
            "type": "carpet"
           }
          ],
          "choropleth": [
           {
            "colorbar": {
             "outlinewidth": 0,
             "ticks": ""
            },
            "type": "choropleth"
           }
          ],
          "contour": [
           {
            "colorbar": {
             "outlinewidth": 0,
             "ticks": ""
            },
            "colorscale": [
             [
              0,
              "#0d0887"
             ],
             [
              0.1111111111111111,
              "#46039f"
             ],
             [
              0.2222222222222222,
              "#7201a8"
             ],
             [
              0.3333333333333333,
              "#9c179e"
             ],
             [
              0.4444444444444444,
              "#bd3786"
             ],
             [
              0.5555555555555556,
              "#d8576b"
             ],
             [
              0.6666666666666666,
              "#ed7953"
             ],
             [
              0.7777777777777778,
              "#fb9f3a"
             ],
             [
              0.8888888888888888,
              "#fdca26"
             ],
             [
              1,
              "#f0f921"
             ]
            ],
            "type": "contour"
           }
          ],
          "contourcarpet": [
           {
            "colorbar": {
             "outlinewidth": 0,
             "ticks": ""
            },
            "type": "contourcarpet"
           }
          ],
          "heatmap": [
           {
            "colorbar": {
             "outlinewidth": 0,
             "ticks": ""
            },
            "colorscale": [
             [
              0,
              "#0d0887"
             ],
             [
              0.1111111111111111,
              "#46039f"
             ],
             [
              0.2222222222222222,
              "#7201a8"
             ],
             [
              0.3333333333333333,
              "#9c179e"
             ],
             [
              0.4444444444444444,
              "#bd3786"
             ],
             [
              0.5555555555555556,
              "#d8576b"
             ],
             [
              0.6666666666666666,
              "#ed7953"
             ],
             [
              0.7777777777777778,
              "#fb9f3a"
             ],
             [
              0.8888888888888888,
              "#fdca26"
             ],
             [
              1,
              "#f0f921"
             ]
            ],
            "type": "heatmap"
           }
          ],
          "heatmapgl": [
           {
            "colorbar": {
             "outlinewidth": 0,
             "ticks": ""
            },
            "colorscale": [
             [
              0,
              "#0d0887"
             ],
             [
              0.1111111111111111,
              "#46039f"
             ],
             [
              0.2222222222222222,
              "#7201a8"
             ],
             [
              0.3333333333333333,
              "#9c179e"
             ],
             [
              0.4444444444444444,
              "#bd3786"
             ],
             [
              0.5555555555555556,
              "#d8576b"
             ],
             [
              0.6666666666666666,
              "#ed7953"
             ],
             [
              0.7777777777777778,
              "#fb9f3a"
             ],
             [
              0.8888888888888888,
              "#fdca26"
             ],
             [
              1,
              "#f0f921"
             ]
            ],
            "type": "heatmapgl"
           }
          ],
          "histogram": [
           {
            "marker": {
             "colorbar": {
              "outlinewidth": 0,
              "ticks": ""
             }
            },
            "type": "histogram"
           }
          ],
          "histogram2d": [
           {
            "colorbar": {
             "outlinewidth": 0,
             "ticks": ""
            },
            "colorscale": [
             [
              0,
              "#0d0887"
             ],
             [
              0.1111111111111111,
              "#46039f"
             ],
             [
              0.2222222222222222,
              "#7201a8"
             ],
             [
              0.3333333333333333,
              "#9c179e"
             ],
             [
              0.4444444444444444,
              "#bd3786"
             ],
             [
              0.5555555555555556,
              "#d8576b"
             ],
             [
              0.6666666666666666,
              "#ed7953"
             ],
             [
              0.7777777777777778,
              "#fb9f3a"
             ],
             [
              0.8888888888888888,
              "#fdca26"
             ],
             [
              1,
              "#f0f921"
             ]
            ],
            "type": "histogram2d"
           }
          ],
          "histogram2dcontour": [
           {
            "colorbar": {
             "outlinewidth": 0,
             "ticks": ""
            },
            "colorscale": [
             [
              0,
              "#0d0887"
             ],
             [
              0.1111111111111111,
              "#46039f"
             ],
             [
              0.2222222222222222,
              "#7201a8"
             ],
             [
              0.3333333333333333,
              "#9c179e"
             ],
             [
              0.4444444444444444,
              "#bd3786"
             ],
             [
              0.5555555555555556,
              "#d8576b"
             ],
             [
              0.6666666666666666,
              "#ed7953"
             ],
             [
              0.7777777777777778,
              "#fb9f3a"
             ],
             [
              0.8888888888888888,
              "#fdca26"
             ],
             [
              1,
              "#f0f921"
             ]
            ],
            "type": "histogram2dcontour"
           }
          ],
          "mesh3d": [
           {
            "colorbar": {
             "outlinewidth": 0,
             "ticks": ""
            },
            "type": "mesh3d"
           }
          ],
          "parcoords": [
           {
            "line": {
             "colorbar": {
              "outlinewidth": 0,
              "ticks": ""
             }
            },
            "type": "parcoords"
           }
          ],
          "pie": [
           {
            "automargin": true,
            "type": "pie"
           }
          ],
          "scatter": [
           {
            "marker": {
             "colorbar": {
              "outlinewidth": 0,
              "ticks": ""
             }
            },
            "type": "scatter"
           }
          ],
          "scatter3d": [
           {
            "line": {
             "colorbar": {
              "outlinewidth": 0,
              "ticks": ""
             }
            },
            "marker": {
             "colorbar": {
              "outlinewidth": 0,
              "ticks": ""
             }
            },
            "type": "scatter3d"
           }
          ],
          "scattercarpet": [
           {
            "marker": {
             "colorbar": {
              "outlinewidth": 0,
              "ticks": ""
             }
            },
            "type": "scattercarpet"
           }
          ],
          "scattergeo": [
           {
            "marker": {
             "colorbar": {
              "outlinewidth": 0,
              "ticks": ""
             }
            },
            "type": "scattergeo"
           }
          ],
          "scattergl": [
           {
            "marker": {
             "colorbar": {
              "outlinewidth": 0,
              "ticks": ""
             }
            },
            "type": "scattergl"
           }
          ],
          "scattermapbox": [
           {
            "marker": {
             "colorbar": {
              "outlinewidth": 0,
              "ticks": ""
             }
            },
            "type": "scattermapbox"
           }
          ],
          "scatterpolar": [
           {
            "marker": {
             "colorbar": {
              "outlinewidth": 0,
              "ticks": ""
             }
            },
            "type": "scatterpolar"
           }
          ],
          "scatterpolargl": [
           {
            "marker": {
             "colorbar": {
              "outlinewidth": 0,
              "ticks": ""
             }
            },
            "type": "scatterpolargl"
           }
          ],
          "scatterternary": [
           {
            "marker": {
             "colorbar": {
              "outlinewidth": 0,
              "ticks": ""
             }
            },
            "type": "scatterternary"
           }
          ],
          "surface": [
           {
            "colorbar": {
             "outlinewidth": 0,
             "ticks": ""
            },
            "colorscale": [
             [
              0,
              "#0d0887"
             ],
             [
              0.1111111111111111,
              "#46039f"
             ],
             [
              0.2222222222222222,
              "#7201a8"
             ],
             [
              0.3333333333333333,
              "#9c179e"
             ],
             [
              0.4444444444444444,
              "#bd3786"
             ],
             [
              0.5555555555555556,
              "#d8576b"
             ],
             [
              0.6666666666666666,
              "#ed7953"
             ],
             [
              0.7777777777777778,
              "#fb9f3a"
             ],
             [
              0.8888888888888888,
              "#fdca26"
             ],
             [
              1,
              "#f0f921"
             ]
            ],
            "type": "surface"
           }
          ],
          "table": [
           {
            "cells": {
             "fill": {
              "color": "#EBF0F8"
             },
             "line": {
              "color": "white"
             }
            },
            "header": {
             "fill": {
              "color": "#C8D4E3"
             },
             "line": {
              "color": "white"
             }
            },
            "type": "table"
           }
          ]
         },
         "layout": {
          "annotationdefaults": {
           "arrowcolor": "#2a3f5f",
           "arrowhead": 0,
           "arrowwidth": 1
          },
          "coloraxis": {
           "colorbar": {
            "outlinewidth": 0,
            "ticks": ""
           }
          },
          "colorscale": {
           "diverging": [
            [
             0,
             "#8e0152"
            ],
            [
             0.1,
             "#c51b7d"
            ],
            [
             0.2,
             "#de77ae"
            ],
            [
             0.3,
             "#f1b6da"
            ],
            [
             0.4,
             "#fde0ef"
            ],
            [
             0.5,
             "#f7f7f7"
            ],
            [
             0.6,
             "#e6f5d0"
            ],
            [
             0.7,
             "#b8e186"
            ],
            [
             0.8,
             "#7fbc41"
            ],
            [
             0.9,
             "#4d9221"
            ],
            [
             1,
             "#276419"
            ]
           ],
           "sequential": [
            [
             0,
             "#0d0887"
            ],
            [
             0.1111111111111111,
             "#46039f"
            ],
            [
             0.2222222222222222,
             "#7201a8"
            ],
            [
             0.3333333333333333,
             "#9c179e"
            ],
            [
             0.4444444444444444,
             "#bd3786"
            ],
            [
             0.5555555555555556,
             "#d8576b"
            ],
            [
             0.6666666666666666,
             "#ed7953"
            ],
            [
             0.7777777777777778,
             "#fb9f3a"
            ],
            [
             0.8888888888888888,
             "#fdca26"
            ],
            [
             1,
             "#f0f921"
            ]
           ],
           "sequentialminus": [
            [
             0,
             "#0d0887"
            ],
            [
             0.1111111111111111,
             "#46039f"
            ],
            [
             0.2222222222222222,
             "#7201a8"
            ],
            [
             0.3333333333333333,
             "#9c179e"
            ],
            [
             0.4444444444444444,
             "#bd3786"
            ],
            [
             0.5555555555555556,
             "#d8576b"
            ],
            [
             0.6666666666666666,
             "#ed7953"
            ],
            [
             0.7777777777777778,
             "#fb9f3a"
            ],
            [
             0.8888888888888888,
             "#fdca26"
            ],
            [
             1,
             "#f0f921"
            ]
           ]
          },
          "colorway": [
           "#636efa",
           "#EF553B",
           "#00cc96",
           "#ab63fa",
           "#FFA15A",
           "#19d3f3",
           "#FF6692",
           "#B6E880",
           "#FF97FF",
           "#FECB52"
          ],
          "font": {
           "color": "#2a3f5f"
          },
          "geo": {
           "bgcolor": "white",
           "lakecolor": "white",
           "landcolor": "#E5ECF6",
           "showlakes": true,
           "showland": true,
           "subunitcolor": "white"
          },
          "hoverlabel": {
           "align": "left"
          },
          "hovermode": "closest",
          "mapbox": {
           "style": "light"
          },
          "paper_bgcolor": "white",
          "plot_bgcolor": "#E5ECF6",
          "polar": {
           "angularaxis": {
            "gridcolor": "white",
            "linecolor": "white",
            "ticks": ""
           },
           "bgcolor": "#E5ECF6",
           "radialaxis": {
            "gridcolor": "white",
            "linecolor": "white",
            "ticks": ""
           }
          },
          "scene": {
           "xaxis": {
            "backgroundcolor": "#E5ECF6",
            "gridcolor": "white",
            "gridwidth": 2,
            "linecolor": "white",
            "showbackground": true,
            "ticks": "",
            "zerolinecolor": "white"
           },
           "yaxis": {
            "backgroundcolor": "#E5ECF6",
            "gridcolor": "white",
            "gridwidth": 2,
            "linecolor": "white",
            "showbackground": true,
            "ticks": "",
            "zerolinecolor": "white"
           },
           "zaxis": {
            "backgroundcolor": "#E5ECF6",
            "gridcolor": "white",
            "gridwidth": 2,
            "linecolor": "white",
            "showbackground": true,
            "ticks": "",
            "zerolinecolor": "white"
           }
          },
          "shapedefaults": {
           "line": {
            "color": "#2a3f5f"
           }
          },
          "ternary": {
           "aaxis": {
            "gridcolor": "white",
            "linecolor": "white",
            "ticks": ""
           },
           "baxis": {
            "gridcolor": "white",
            "linecolor": "white",
            "ticks": ""
           },
           "bgcolor": "#E5ECF6",
           "caxis": {
            "gridcolor": "white",
            "linecolor": "white",
            "ticks": ""
           }
          },
          "title": {
           "x": 0.05
          },
          "xaxis": {
           "automargin": true,
           "gridcolor": "white",
           "linecolor": "white",
           "ticks": "",
           "title": {
            "standoff": 15
           },
           "zerolinecolor": "white",
           "zerolinewidth": 2
          },
          "yaxis": {
           "automargin": true,
           "gridcolor": "white",
           "linecolor": "white",
           "ticks": "",
           "title": {
            "standoff": 15
           },
           "zerolinecolor": "white",
           "zerolinewidth": 2
          }
         }
        },
        "title": {
         "text": "Amount of intakes per Season"
        },
        "xaxis": {
         "anchor": "y",
         "domain": [
          0,
          1
         ],
         "ticktext": [
          "Spring",
          "Summer",
          "Fall",
          "Winter"
         ],
         "tickvals": [
          1,
          2,
          3,
          4
         ],
         "title": {
          "text": "Months"
         }
        },
        "yaxis": {
         "anchor": "x",
         "domain": [
          0,
          1
         ],
         "title": {
          "text": "Amounts"
         }
        }
       }
      },
      "text/html": [
       "<div>                            <div id=\"a18b267b-fd6d-4367-b8b3-4e65dec5ce20\" class=\"plotly-graph-div\" style=\"height:525px; width:100%;\"></div>            <script type=\"text/javascript\">                require([\"plotly\"], function(Plotly) {                    window.PLOTLYENV=window.PLOTLYENV || {};                                    if (document.getElementById(\"a18b267b-fd6d-4367-b8b3-4e65dec5ce20\")) {                    Plotly.newPlot(                        \"a18b267b-fd6d-4367-b8b3-4e65dec5ce20\",                        [{\"alignmentgroup\": \"True\", \"hovertemplate\": \"variable=season<br>Months=%{x}<br>Amounts=%{y}<extra></extra>\", \"legendgroup\": \"season\", \"marker\": {\"color\": \"#b9A9a9\"}, \"name\": \"season\", \"offsetgroup\": \"season\", \"orientation\": \"v\", \"showlegend\": true, \"textposition\": \"auto\", \"type\": \"bar\", \"x\": [4, 3, 2, 1], \"xaxis\": \"x\", \"y\": [5688, 5181, 4859, 4853], \"yaxis\": \"y\"}],                        {\"barmode\": \"relative\", \"legend\": {\"title\": {\"text\": \"variable\"}, \"tracegroupgap\": 0}, \"plot_bgcolor\": \"#F9CDAD\", \"showlegend\": false, \"template\": {\"data\": {\"bar\": [{\"error_x\": {\"color\": \"#2a3f5f\"}, \"error_y\": {\"color\": \"#2a3f5f\"}, \"marker\": {\"line\": {\"color\": \"#E5ECF6\", \"width\": 0.5}}, \"type\": \"bar\"}], \"barpolar\": [{\"marker\": {\"line\": {\"color\": \"#E5ECF6\", \"width\": 0.5}}, \"type\": \"barpolar\"}], \"carpet\": [{\"aaxis\": {\"endlinecolor\": \"#2a3f5f\", \"gridcolor\": \"white\", \"linecolor\": \"white\", \"minorgridcolor\": \"white\", \"startlinecolor\": \"#2a3f5f\"}, \"baxis\": {\"endlinecolor\": \"#2a3f5f\", \"gridcolor\": \"white\", \"linecolor\": \"white\", \"minorgridcolor\": \"white\", \"startlinecolor\": \"#2a3f5f\"}, \"type\": \"carpet\"}], \"choropleth\": [{\"colorbar\": {\"outlinewidth\": 0, \"ticks\": \"\"}, \"type\": \"choropleth\"}], \"contour\": [{\"colorbar\": {\"outlinewidth\": 0, \"ticks\": \"\"}, \"colorscale\": [[0.0, \"#0d0887\"], [0.1111111111111111, \"#46039f\"], [0.2222222222222222, \"#7201a8\"], [0.3333333333333333, \"#9c179e\"], [0.4444444444444444, \"#bd3786\"], [0.5555555555555556, \"#d8576b\"], [0.6666666666666666, \"#ed7953\"], [0.7777777777777778, \"#fb9f3a\"], [0.8888888888888888, \"#fdca26\"], [1.0, \"#f0f921\"]], \"type\": \"contour\"}], \"contourcarpet\": [{\"colorbar\": {\"outlinewidth\": 0, \"ticks\": \"\"}, \"type\": \"contourcarpet\"}], \"heatmap\": [{\"colorbar\": {\"outlinewidth\": 0, \"ticks\": \"\"}, \"colorscale\": [[0.0, \"#0d0887\"], [0.1111111111111111, \"#46039f\"], [0.2222222222222222, \"#7201a8\"], [0.3333333333333333, \"#9c179e\"], [0.4444444444444444, \"#bd3786\"], [0.5555555555555556, \"#d8576b\"], [0.6666666666666666, \"#ed7953\"], [0.7777777777777778, \"#fb9f3a\"], [0.8888888888888888, \"#fdca26\"], [1.0, \"#f0f921\"]], \"type\": \"heatmap\"}], \"heatmapgl\": [{\"colorbar\": {\"outlinewidth\": 0, \"ticks\": \"\"}, \"colorscale\": [[0.0, \"#0d0887\"], [0.1111111111111111, \"#46039f\"], [0.2222222222222222, \"#7201a8\"], [0.3333333333333333, \"#9c179e\"], [0.4444444444444444, \"#bd3786\"], [0.5555555555555556, \"#d8576b\"], [0.6666666666666666, \"#ed7953\"], [0.7777777777777778, \"#fb9f3a\"], [0.8888888888888888, \"#fdca26\"], [1.0, \"#f0f921\"]], \"type\": \"heatmapgl\"}], \"histogram\": [{\"marker\": {\"colorbar\": {\"outlinewidth\": 0, \"ticks\": \"\"}}, \"type\": \"histogram\"}], \"histogram2d\": [{\"colorbar\": {\"outlinewidth\": 0, \"ticks\": \"\"}, \"colorscale\": [[0.0, \"#0d0887\"], [0.1111111111111111, \"#46039f\"], [0.2222222222222222, \"#7201a8\"], [0.3333333333333333, \"#9c179e\"], [0.4444444444444444, \"#bd3786\"], [0.5555555555555556, \"#d8576b\"], [0.6666666666666666, \"#ed7953\"], [0.7777777777777778, \"#fb9f3a\"], [0.8888888888888888, \"#fdca26\"], [1.0, \"#f0f921\"]], \"type\": \"histogram2d\"}], \"histogram2dcontour\": [{\"colorbar\": {\"outlinewidth\": 0, \"ticks\": \"\"}, \"colorscale\": [[0.0, \"#0d0887\"], [0.1111111111111111, \"#46039f\"], [0.2222222222222222, \"#7201a8\"], [0.3333333333333333, \"#9c179e\"], [0.4444444444444444, \"#bd3786\"], [0.5555555555555556, \"#d8576b\"], [0.6666666666666666, \"#ed7953\"], [0.7777777777777778, \"#fb9f3a\"], [0.8888888888888888, \"#fdca26\"], [1.0, \"#f0f921\"]], \"type\": \"histogram2dcontour\"}], \"mesh3d\": [{\"colorbar\": {\"outlinewidth\": 0, \"ticks\": \"\"}, \"type\": \"mesh3d\"}], \"parcoords\": [{\"line\": {\"colorbar\": {\"outlinewidth\": 0, \"ticks\": \"\"}}, \"type\": \"parcoords\"}], \"pie\": [{\"automargin\": true, \"type\": \"pie\"}], \"scatter\": [{\"marker\": {\"colorbar\": {\"outlinewidth\": 0, \"ticks\": \"\"}}, \"type\": \"scatter\"}], \"scatter3d\": [{\"line\": {\"colorbar\": {\"outlinewidth\": 0, \"ticks\": \"\"}}, \"marker\": {\"colorbar\": {\"outlinewidth\": 0, \"ticks\": \"\"}}, \"type\": \"scatter3d\"}], \"scattercarpet\": [{\"marker\": {\"colorbar\": {\"outlinewidth\": 0, \"ticks\": \"\"}}, \"type\": \"scattercarpet\"}], \"scattergeo\": [{\"marker\": {\"colorbar\": {\"outlinewidth\": 0, \"ticks\": \"\"}}, \"type\": \"scattergeo\"}], \"scattergl\": [{\"marker\": {\"colorbar\": {\"outlinewidth\": 0, \"ticks\": \"\"}}, \"type\": \"scattergl\"}], \"scattermapbox\": [{\"marker\": {\"colorbar\": {\"outlinewidth\": 0, \"ticks\": \"\"}}, \"type\": \"scattermapbox\"}], \"scatterpolar\": [{\"marker\": {\"colorbar\": {\"outlinewidth\": 0, \"ticks\": \"\"}}, \"type\": \"scatterpolar\"}], \"scatterpolargl\": [{\"marker\": {\"colorbar\": {\"outlinewidth\": 0, \"ticks\": \"\"}}, \"type\": \"scatterpolargl\"}], \"scatterternary\": [{\"marker\": {\"colorbar\": {\"outlinewidth\": 0, \"ticks\": \"\"}}, \"type\": \"scatterternary\"}], \"surface\": [{\"colorbar\": {\"outlinewidth\": 0, \"ticks\": \"\"}, \"colorscale\": [[0.0, \"#0d0887\"], [0.1111111111111111, \"#46039f\"], [0.2222222222222222, \"#7201a8\"], [0.3333333333333333, \"#9c179e\"], [0.4444444444444444, \"#bd3786\"], [0.5555555555555556, \"#d8576b\"], [0.6666666666666666, \"#ed7953\"], [0.7777777777777778, \"#fb9f3a\"], [0.8888888888888888, \"#fdca26\"], [1.0, \"#f0f921\"]], \"type\": \"surface\"}], \"table\": [{\"cells\": {\"fill\": {\"color\": \"#EBF0F8\"}, \"line\": {\"color\": \"white\"}}, \"header\": {\"fill\": {\"color\": \"#C8D4E3\"}, \"line\": {\"color\": \"white\"}}, \"type\": \"table\"}]}, \"layout\": {\"annotationdefaults\": {\"arrowcolor\": \"#2a3f5f\", \"arrowhead\": 0, \"arrowwidth\": 1}, \"coloraxis\": {\"colorbar\": {\"outlinewidth\": 0, \"ticks\": \"\"}}, \"colorscale\": {\"diverging\": [[0, \"#8e0152\"], [0.1, \"#c51b7d\"], [0.2, \"#de77ae\"], [0.3, \"#f1b6da\"], [0.4, \"#fde0ef\"], [0.5, \"#f7f7f7\"], [0.6, \"#e6f5d0\"], [0.7, \"#b8e186\"], [0.8, \"#7fbc41\"], [0.9, \"#4d9221\"], [1, \"#276419\"]], \"sequential\": [[0.0, \"#0d0887\"], [0.1111111111111111, \"#46039f\"], [0.2222222222222222, \"#7201a8\"], [0.3333333333333333, \"#9c179e\"], [0.4444444444444444, \"#bd3786\"], [0.5555555555555556, \"#d8576b\"], [0.6666666666666666, \"#ed7953\"], [0.7777777777777778, \"#fb9f3a\"], [0.8888888888888888, \"#fdca26\"], [1.0, \"#f0f921\"]], \"sequentialminus\": [[0.0, \"#0d0887\"], [0.1111111111111111, \"#46039f\"], [0.2222222222222222, \"#7201a8\"], [0.3333333333333333, \"#9c179e\"], [0.4444444444444444, \"#bd3786\"], [0.5555555555555556, \"#d8576b\"], [0.6666666666666666, \"#ed7953\"], [0.7777777777777778, \"#fb9f3a\"], [0.8888888888888888, \"#fdca26\"], [1.0, \"#f0f921\"]]}, \"colorway\": [\"#636efa\", \"#EF553B\", \"#00cc96\", \"#ab63fa\", \"#FFA15A\", \"#19d3f3\", \"#FF6692\", \"#B6E880\", \"#FF97FF\", \"#FECB52\"], \"font\": {\"color\": \"#2a3f5f\"}, \"geo\": {\"bgcolor\": \"white\", \"lakecolor\": \"white\", \"landcolor\": \"#E5ECF6\", \"showlakes\": true, \"showland\": true, \"subunitcolor\": \"white\"}, \"hoverlabel\": {\"align\": \"left\"}, \"hovermode\": \"closest\", \"mapbox\": {\"style\": \"light\"}, \"paper_bgcolor\": \"white\", \"plot_bgcolor\": \"#E5ECF6\", \"polar\": {\"angularaxis\": {\"gridcolor\": \"white\", \"linecolor\": \"white\", \"ticks\": \"\"}, \"bgcolor\": \"#E5ECF6\", \"radialaxis\": {\"gridcolor\": \"white\", \"linecolor\": \"white\", \"ticks\": \"\"}}, \"scene\": {\"xaxis\": {\"backgroundcolor\": \"#E5ECF6\", \"gridcolor\": \"white\", \"gridwidth\": 2, \"linecolor\": \"white\", \"showbackground\": true, \"ticks\": \"\", \"zerolinecolor\": \"white\"}, \"yaxis\": {\"backgroundcolor\": \"#E5ECF6\", \"gridcolor\": \"white\", \"gridwidth\": 2, \"linecolor\": \"white\", \"showbackground\": true, \"ticks\": \"\", \"zerolinecolor\": \"white\"}, \"zaxis\": {\"backgroundcolor\": \"#E5ECF6\", \"gridcolor\": \"white\", \"gridwidth\": 2, \"linecolor\": \"white\", \"showbackground\": true, \"ticks\": \"\", \"zerolinecolor\": \"white\"}}, \"shapedefaults\": {\"line\": {\"color\": \"#2a3f5f\"}}, \"ternary\": {\"aaxis\": {\"gridcolor\": \"white\", \"linecolor\": \"white\", \"ticks\": \"\"}, \"baxis\": {\"gridcolor\": \"white\", \"linecolor\": \"white\", \"ticks\": \"\"}, \"bgcolor\": \"#E5ECF6\", \"caxis\": {\"gridcolor\": \"white\", \"linecolor\": \"white\", \"ticks\": \"\"}}, \"title\": {\"x\": 0.05}, \"xaxis\": {\"automargin\": true, \"gridcolor\": \"white\", \"linecolor\": \"white\", \"ticks\": \"\", \"title\": {\"standoff\": 15}, \"zerolinecolor\": \"white\", \"zerolinewidth\": 2}, \"yaxis\": {\"automargin\": true, \"gridcolor\": \"white\", \"linecolor\": \"white\", \"ticks\": \"\", \"title\": {\"standoff\": 15}, \"zerolinecolor\": \"white\", \"zerolinewidth\": 2}}}, \"title\": {\"text\": \"Amount of intakes per Season\"}, \"xaxis\": {\"anchor\": \"y\", \"domain\": [0.0, 1.0], \"ticktext\": [\"Spring\", \"Summer\", \"Fall\", \"Winter\"], \"tickvals\": [1, 2, 3, 4], \"title\": {\"text\": \"Months\"}}, \"yaxis\": {\"anchor\": \"x\", \"domain\": [0.0, 1.0], \"title\": {\"text\": \"Amounts\"}}},                        {\"responsive\": true}                    ).then(function(){\n",
       "                            \n",
       "var gd = document.getElementById('a18b267b-fd6d-4367-b8b3-4e65dec5ce20');\n",
       "var x = new MutationObserver(function (mutations, observer) {{\n",
       "        var display = window.getComputedStyle(gd).display;\n",
       "        if (!display || display === 'none') {{\n",
       "            console.log([gd, 'removed!']);\n",
       "            Plotly.purge(gd);\n",
       "            observer.disconnect();\n",
       "        }}\n",
       "}});\n",
       "\n",
       "// Listen for the removal of the full notebook cells\n",
       "var notebookContainer = gd.closest('#notebook-container');\n",
       "if (notebookContainer) {{\n",
       "    x.observe(notebookContainer, {childList: true});\n",
       "}}\n",
       "\n",
       "// Listen for the clearing of the current output cell\n",
       "var outputEl = gd.closest('.output');\n",
       "if (outputEl) {{\n",
       "    x.observe(outputEl, {childList: true});\n",
       "}}\n",
       "\n",
       "                        })                };                });            </script>        </div>"
      ]
     },
     "metadata": {},
     "output_type": "display_data"
    }
   ],
   "source": [
    "data=df.season.value_counts()\n",
    "fig=px.bar(data, title=\"Amount of intakes per Season\",labels={'index': 'Months','value':'Amounts'},color_discrete_sequence=['#b9A9a9'])\n",
    "fig.update_layout(\n",
    "    showlegend=False,\n",
    "    plot_bgcolor = '#F9CDAD',\n",
    "    xaxis_tickvals=[1,2,3,4],\n",
    "    xaxis_ticktext=['Spring',\"Summer\",'Fall','Winter'],\n",
    "    )\n",
    "\n",
    "fig.show()"
   ]
  },
  {
   "cell_type": "code",
   "execution_count": 22,
   "metadata": {},
   "outputs": [
    {
     "data": {
      "text/plain": [
       "Index(['age_upon_outcome', 'animal_id_outcome', 'date_of_birth',\n",
       "       'outcome_subtype', 'outcome_type', 'sex_upon_outcome',\n",
       "       'age_upon_outcome_(days)', 'age_upon_outcome_(years)',\n",
       "       'age_upon_outcome_age_group', 'outcome_datetime', 'outcome_month',\n",
       "       'outcome_year', 'outcome_monthyear', 'outcome_weekday', 'outcome_hour',\n",
       "       'outcome_number', 'dob_year', 'dob_month', 'age_upon_intake',\n",
       "       'animal_id_intake', 'animal_type', 'breed', 'color', 'found_location',\n",
       "       'intake_condition', 'intake_type', 'sex_upon_intake',\n",
       "       'age_upon_intake_(days)', 'age_upon_intake_(years)',\n",
       "       'age_upon_intake_age_group', 'intake_datetime', 'intake_year',\n",
       "       'intake_monthyear', 'intake_weekday', 'intake_hour', 'intake_number',\n",
       "       'time_in_shelter', 'time_in_shelter_days', 'health', 'was_owned',\n",
       "       'season', 'intake_month_01', 'intake_month_02', 'intake_month_03',\n",
       "       'intake_month_04', 'intake_month_05', 'intake_month_06',\n",
       "       'intake_month_07', 'intake_month_08', 'intake_month_09',\n",
       "       'intake_month_10', 'intake_month_11', 'intake_month_12'],\n",
       "      dtype='object')"
      ]
     },
     "execution_count": 22,
     "metadata": {},
     "output_type": "execute_result"
    }
   ],
   "source": [
    "df.columns"
   ]
  },
  {
   "cell_type": "code",
   "execution_count": 23,
   "metadata": {},
   "outputs": [],
   "source": [
    "features=[ 'age_upon_intake', 'breed', 'color', 'found_location',\n",
    "       'intake_condition', 'intake_type', 'sex_upon_intake',\n",
    "       'age_upon_intake_(days)', 'age_upon_intake_(years)',\n",
    "       'age_upon_intake_age_group', 'intake_datetime', 'intake_year',\n",
    "       'intake_monthyear', 'intake_weekday', 'intake_hour', 'intake_number', 'health', 'was_owned',\n",
    "       'season', 'intake_month_01', 'intake_month_02', 'intake_month_03',\n",
    "       'intake_month_04', 'intake_month_05', 'intake_month_06',\n",
    "       'intake_month_07', 'intake_month_08', 'intake_month_09',\n",
    "       'intake_month_10', 'intake_month_11', 'intake_month_12']"
   ]
  },
  {
   "cell_type": "code",
   "execution_count": 24,
   "metadata": {},
   "outputs": [
    {
     "data": {
      "text/plain": [
       "age_upon_intake                      object\n",
       "breed                                object\n",
       "color                                object\n",
       "found_location                       object\n",
       "intake_condition                     object\n",
       "intake_type                          object\n",
       "sex_upon_intake                      object\n",
       "age_upon_intake_(days)                int64\n",
       "age_upon_intake_(years)             float64\n",
       "age_upon_intake_age_group            object\n",
       "intake_datetime              datetime64[ns]\n",
       "intake_year                          object\n",
       "intake_monthyear                     object\n",
       "intake_weekday                        int64\n",
       "intake_hour                           int64\n",
       "intake_number                       float64\n",
       "health                                int64\n",
       "was_owned                             int64\n",
       "season                                int64\n",
       "intake_month_01                       uint8\n",
       "intake_month_02                       uint8\n",
       "intake_month_03                       uint8\n",
       "intake_month_04                       uint8\n",
       "intake_month_05                       uint8\n",
       "intake_month_06                       uint8\n",
       "intake_month_07                       uint8\n",
       "intake_month_08                       uint8\n",
       "intake_month_09                       uint8\n",
       "intake_month_10                       uint8\n",
       "intake_month_11                       uint8\n",
       "intake_month_12                       uint8\n",
       "dtype: object"
      ]
     },
     "execution_count": 24,
     "metadata": {},
     "output_type": "execute_result"
    }
   ],
   "source": [
    "df[features].dtypes"
   ]
  },
  {
   "cell_type": "code",
   "execution_count": 25,
   "metadata": {},
   "outputs": [
    {
     "data": {
      "text/html": [
       "<div>\n",
       "<style scoped>\n",
       "    .dataframe tbody tr th:only-of-type {\n",
       "        vertical-align: middle;\n",
       "    }\n",
       "\n",
       "    .dataframe tbody tr th {\n",
       "        vertical-align: top;\n",
       "    }\n",
       "\n",
       "    .dataframe thead th {\n",
       "        text-align: right;\n",
       "    }\n",
       "</style>\n",
       "<table border=\"1\" class=\"dataframe\">\n",
       "  <thead>\n",
       "    <tr style=\"text-align: right;\">\n",
       "      <th></th>\n",
       "      <th>time_in_shelter</th>\n",
       "      <th>time_in_shelter_days</th>\n",
       "    </tr>\n",
       "  </thead>\n",
       "  <tbody>\n",
       "    <tr>\n",
       "      <th>12</th>\n",
       "      <td>49 days 17:57:00</td>\n",
       "      <td>49.747917</td>\n",
       "    </tr>\n",
       "    <tr>\n",
       "      <th>14</th>\n",
       "      <td>9 days 00:29:00</td>\n",
       "      <td>9.020139</td>\n",
       "    </tr>\n",
       "    <tr>\n",
       "      <th>22</th>\n",
       "      <td>23 days 02:31:00</td>\n",
       "      <td>23.104861</td>\n",
       "    </tr>\n",
       "    <tr>\n",
       "      <th>32</th>\n",
       "      <td>89 days 20:32:00</td>\n",
       "      <td>89.855556</td>\n",
       "    </tr>\n",
       "    <tr>\n",
       "      <th>48</th>\n",
       "      <td>2 days 18:08:00</td>\n",
       "      <td>2.755556</td>\n",
       "    </tr>\n",
       "    <tr>\n",
       "      <th>...</th>\n",
       "      <td>...</td>\n",
       "      <td>...</td>\n",
       "    </tr>\n",
       "    <tr>\n",
       "      <th>79647</th>\n",
       "      <td>3 days 18:48:00</td>\n",
       "      <td>3.783333</td>\n",
       "    </tr>\n",
       "    <tr>\n",
       "      <th>79649</th>\n",
       "      <td>5 days 00:57:00</td>\n",
       "      <td>5.039583</td>\n",
       "    </tr>\n",
       "    <tr>\n",
       "      <th>79653</th>\n",
       "      <td>3 days 22:36:00</td>\n",
       "      <td>3.941667</td>\n",
       "    </tr>\n",
       "    <tr>\n",
       "      <th>79654</th>\n",
       "      <td>5 days 03:39:00</td>\n",
       "      <td>5.152083</td>\n",
       "    </tr>\n",
       "    <tr>\n",
       "      <th>79655</th>\n",
       "      <td>2 days 06:42:00</td>\n",
       "      <td>2.279167</td>\n",
       "    </tr>\n",
       "  </tbody>\n",
       "</table>\n",
       "<p>20581 rows × 2 columns</p>\n",
       "</div>"
      ],
      "text/plain": [
       "       time_in_shelter  time_in_shelter_days\n",
       "12    49 days 17:57:00             49.747917\n",
       "14     9 days 00:29:00              9.020139\n",
       "22    23 days 02:31:00             23.104861\n",
       "32    89 days 20:32:00             89.855556\n",
       "48     2 days 18:08:00              2.755556\n",
       "...                ...                   ...\n",
       "79647  3 days 18:48:00              3.783333\n",
       "79649  5 days 00:57:00              5.039583\n",
       "79653  3 days 22:36:00              3.941667\n",
       "79654  5 days 03:39:00              5.152083\n",
       "79655  2 days 06:42:00              2.279167\n",
       "\n",
       "[20581 rows x 2 columns]"
      ]
     },
     "execution_count": 25,
     "metadata": {},
     "output_type": "execute_result"
    }
   ],
   "source": [
    "df[['time_in_shelter','time_in_shelter_days']]"
   ]
  },
  {
   "cell_type": "code",
   "execution_count": 26,
   "metadata": {},
   "outputs": [
    {
     "data": {
      "text/html": [
       "<div>\n",
       "<style scoped>\n",
       "    .dataframe tbody tr th:only-of-type {\n",
       "        vertical-align: middle;\n",
       "    }\n",
       "\n",
       "    .dataframe tbody tr th {\n",
       "        vertical-align: top;\n",
       "    }\n",
       "\n",
       "    .dataframe thead th {\n",
       "        text-align: right;\n",
       "    }\n",
       "</style>\n",
       "<table border=\"1\" class=\"dataframe\">\n",
       "  <thead>\n",
       "    <tr style=\"text-align: right;\">\n",
       "      <th></th>\n",
       "      <th>age_upon_intake_(days)</th>\n",
       "      <th>age_upon_intake_(years)</th>\n",
       "      <th>intake_weekday</th>\n",
       "      <th>intake_hour</th>\n",
       "      <th>intake_number</th>\n",
       "      <th>health</th>\n",
       "      <th>was_owned</th>\n",
       "      <th>season</th>\n",
       "      <th>intake_month_01</th>\n",
       "      <th>intake_month_02</th>\n",
       "      <th>intake_month_03</th>\n",
       "      <th>intake_month_04</th>\n",
       "      <th>intake_month_05</th>\n",
       "      <th>intake_month_06</th>\n",
       "      <th>intake_month_07</th>\n",
       "      <th>intake_month_08</th>\n",
       "      <th>intake_month_09</th>\n",
       "      <th>intake_month_10</th>\n",
       "      <th>intake_month_11</th>\n",
       "      <th>intake_month_12</th>\n",
       "    </tr>\n",
       "  </thead>\n",
       "  <tbody>\n",
       "    <tr>\n",
       "      <th>age_upon_intake_(days)</th>\n",
       "      <td>1.000000</td>\n",
       "      <td>1.000000</td>\n",
       "      <td>0.010650</td>\n",
       "      <td>-0.012498</td>\n",
       "      <td>0.016435</td>\n",
       "      <td>-0.018021</td>\n",
       "      <td>0.153380</td>\n",
       "      <td>0.009559</td>\n",
       "      <td>0.005403</td>\n",
       "      <td>0.007847</td>\n",
       "      <td>-0.008750</td>\n",
       "      <td>-0.000007</td>\n",
       "      <td>-0.000079</td>\n",
       "      <td>0.002020</td>\n",
       "      <td>-0.009580</td>\n",
       "      <td>-0.000493</td>\n",
       "      <td>0.008560</td>\n",
       "      <td>-0.005066</td>\n",
       "      <td>0.005263</td>\n",
       "      <td>-0.005121</td>\n",
       "    </tr>\n",
       "    <tr>\n",
       "      <th>age_upon_intake_(years)</th>\n",
       "      <td>1.000000</td>\n",
       "      <td>1.000000</td>\n",
       "      <td>0.010650</td>\n",
       "      <td>-0.012498</td>\n",
       "      <td>0.016435</td>\n",
       "      <td>-0.018021</td>\n",
       "      <td>0.153380</td>\n",
       "      <td>0.009559</td>\n",
       "      <td>0.005403</td>\n",
       "      <td>0.007847</td>\n",
       "      <td>-0.008750</td>\n",
       "      <td>-0.000007</td>\n",
       "      <td>-0.000079</td>\n",
       "      <td>0.002020</td>\n",
       "      <td>-0.009580</td>\n",
       "      <td>-0.000493</td>\n",
       "      <td>0.008560</td>\n",
       "      <td>-0.005066</td>\n",
       "      <td>0.005263</td>\n",
       "      <td>-0.005121</td>\n",
       "    </tr>\n",
       "    <tr>\n",
       "      <th>intake_weekday</th>\n",
       "      <td>0.010650</td>\n",
       "      <td>0.010650</td>\n",
       "      <td>1.000000</td>\n",
       "      <td>-0.045480</td>\n",
       "      <td>-0.007115</td>\n",
       "      <td>0.011312</td>\n",
       "      <td>0.009056</td>\n",
       "      <td>0.012615</td>\n",
       "      <td>0.025165</td>\n",
       "      <td>0.000131</td>\n",
       "      <td>-0.006347</td>\n",
       "      <td>0.006767</td>\n",
       "      <td>-0.013084</td>\n",
       "      <td>-0.004838</td>\n",
       "      <td>0.022594</td>\n",
       "      <td>-0.003620</td>\n",
       "      <td>-0.010056</td>\n",
       "      <td>-0.006468</td>\n",
       "      <td>0.006248</td>\n",
       "      <td>-0.016475</td>\n",
       "    </tr>\n",
       "    <tr>\n",
       "      <th>intake_hour</th>\n",
       "      <td>-0.012498</td>\n",
       "      <td>-0.012498</td>\n",
       "      <td>-0.045480</td>\n",
       "      <td>1.000000</td>\n",
       "      <td>-0.003560</td>\n",
       "      <td>0.059818</td>\n",
       "      <td>-0.038636</td>\n",
       "      <td>0.025312</td>\n",
       "      <td>0.009172</td>\n",
       "      <td>0.002492</td>\n",
       "      <td>0.008196</td>\n",
       "      <td>0.004498</td>\n",
       "      <td>-0.014094</td>\n",
       "      <td>-0.000906</td>\n",
       "      <td>-0.040006</td>\n",
       "      <td>-0.016961</td>\n",
       "      <td>-0.015016</td>\n",
       "      <td>0.012962</td>\n",
       "      <td>0.019791</td>\n",
       "      <td>0.024668</td>\n",
       "    </tr>\n",
       "    <tr>\n",
       "      <th>intake_number</th>\n",
       "      <td>0.016435</td>\n",
       "      <td>0.016435</td>\n",
       "      <td>-0.007115</td>\n",
       "      <td>-0.003560</td>\n",
       "      <td>1.000000</td>\n",
       "      <td>0.023459</td>\n",
       "      <td>0.036722</td>\n",
       "      <td>-0.002373</td>\n",
       "      <td>-0.009189</td>\n",
       "      <td>0.007242</td>\n",
       "      <td>-0.003551</td>\n",
       "      <td>0.007694</td>\n",
       "      <td>-0.001427</td>\n",
       "      <td>0.003055</td>\n",
       "      <td>-0.002187</td>\n",
       "      <td>0.007226</td>\n",
       "      <td>0.010520</td>\n",
       "      <td>-0.001954</td>\n",
       "      <td>0.000854</td>\n",
       "      <td>-0.015856</td>\n",
       "    </tr>\n",
       "    <tr>\n",
       "      <th>health</th>\n",
       "      <td>-0.018021</td>\n",
       "      <td>-0.018021</td>\n",
       "      <td>0.011312</td>\n",
       "      <td>0.059818</td>\n",
       "      <td>0.023459</td>\n",
       "      <td>1.000000</td>\n",
       "      <td>0.045681</td>\n",
       "      <td>0.019174</td>\n",
       "      <td>0.015552</td>\n",
       "      <td>0.017123</td>\n",
       "      <td>0.003181</td>\n",
       "      <td>-0.000243</td>\n",
       "      <td>-0.004645</td>\n",
       "      <td>-0.018758</td>\n",
       "      <td>-0.000603</td>\n",
       "      <td>0.003495</td>\n",
       "      <td>-0.007281</td>\n",
       "      <td>-0.006172</td>\n",
       "      <td>0.002044</td>\n",
       "      <td>-0.005758</td>\n",
       "    </tr>\n",
       "    <tr>\n",
       "      <th>was_owned</th>\n",
       "      <td>0.153380</td>\n",
       "      <td>0.153380</td>\n",
       "      <td>0.009056</td>\n",
       "      <td>-0.038636</td>\n",
       "      <td>0.036722</td>\n",
       "      <td>0.045681</td>\n",
       "      <td>1.000000</td>\n",
       "      <td>0.022047</td>\n",
       "      <td>0.004140</td>\n",
       "      <td>0.045754</td>\n",
       "      <td>0.005073</td>\n",
       "      <td>0.013845</td>\n",
       "      <td>-0.013154</td>\n",
       "      <td>-0.014633</td>\n",
       "      <td>-0.026590</td>\n",
       "      <td>-0.002829</td>\n",
       "      <td>0.010214</td>\n",
       "      <td>-0.015763</td>\n",
       "      <td>-0.024924</td>\n",
       "      <td>0.015889</td>\n",
       "    </tr>\n",
       "    <tr>\n",
       "      <th>season</th>\n",
       "      <td>0.009559</td>\n",
       "      <td>0.009559</td>\n",
       "      <td>0.012615</td>\n",
       "      <td>0.025312</td>\n",
       "      <td>-0.002373</td>\n",
       "      <td>0.019174</td>\n",
       "      <td>0.022047</td>\n",
       "      <td>1.000000</td>\n",
       "      <td>0.415367</td>\n",
       "      <td>0.404643</td>\n",
       "      <td>0.112392</td>\n",
       "      <td>-0.384696</td>\n",
       "      <td>-0.413846</td>\n",
       "      <td>-0.324037</td>\n",
       "      <td>-0.144185</td>\n",
       "      <td>-0.147225</td>\n",
       "      <td>-0.076098</td>\n",
       "      <td>0.119477</td>\n",
       "      <td>0.114049</td>\n",
       "      <td>0.212482</td>\n",
       "    </tr>\n",
       "    <tr>\n",
       "      <th>intake_month_01</th>\n",
       "      <td>0.005403</td>\n",
       "      <td>0.005403</td>\n",
       "      <td>0.025165</td>\n",
       "      <td>0.009172</td>\n",
       "      <td>-0.009189</td>\n",
       "      <td>0.015552</td>\n",
       "      <td>0.004140</td>\n",
       "      <td>0.415367</td>\n",
       "      <td>1.000000</td>\n",
       "      <td>-0.104161</td>\n",
       "      <td>-0.101723</td>\n",
       "      <td>-0.090355</td>\n",
       "      <td>-0.097202</td>\n",
       "      <td>-0.097676</td>\n",
       "      <td>-0.093416</td>\n",
       "      <td>-0.095386</td>\n",
       "      <td>-0.091813</td>\n",
       "      <td>-0.102060</td>\n",
       "      <td>-0.097424</td>\n",
       "      <td>-0.103919</td>\n",
       "    </tr>\n",
       "    <tr>\n",
       "      <th>intake_month_02</th>\n",
       "      <td>0.007847</td>\n",
       "      <td>0.007847</td>\n",
       "      <td>0.000131</td>\n",
       "      <td>0.002492</td>\n",
       "      <td>0.007242</td>\n",
       "      <td>0.017123</td>\n",
       "      <td>0.045754</td>\n",
       "      <td>0.404643</td>\n",
       "      <td>-0.104161</td>\n",
       "      <td>1.000000</td>\n",
       "      <td>-0.099096</td>\n",
       "      <td>-0.088023</td>\n",
       "      <td>-0.094692</td>\n",
       "      <td>-0.095154</td>\n",
       "      <td>-0.091004</td>\n",
       "      <td>-0.092923</td>\n",
       "      <td>-0.089442</td>\n",
       "      <td>-0.099425</td>\n",
       "      <td>-0.094908</td>\n",
       "      <td>-0.101236</td>\n",
       "    </tr>\n",
       "    <tr>\n",
       "      <th>intake_month_03</th>\n",
       "      <td>-0.008750</td>\n",
       "      <td>-0.008750</td>\n",
       "      <td>-0.006347</td>\n",
       "      <td>0.008196</td>\n",
       "      <td>-0.003551</td>\n",
       "      <td>0.003181</td>\n",
       "      <td>0.005073</td>\n",
       "      <td>0.112392</td>\n",
       "      <td>-0.101723</td>\n",
       "      <td>-0.099096</td>\n",
       "      <td>1.000000</td>\n",
       "      <td>-0.085962</td>\n",
       "      <td>-0.092475</td>\n",
       "      <td>-0.092926</td>\n",
       "      <td>-0.088874</td>\n",
       "      <td>-0.090748</td>\n",
       "      <td>-0.087348</td>\n",
       "      <td>-0.097097</td>\n",
       "      <td>-0.092686</td>\n",
       "      <td>-0.098866</td>\n",
       "    </tr>\n",
       "    <tr>\n",
       "      <th>intake_month_04</th>\n",
       "      <td>-0.000007</td>\n",
       "      <td>-0.000007</td>\n",
       "      <td>0.006767</td>\n",
       "      <td>0.004498</td>\n",
       "      <td>0.007694</td>\n",
       "      <td>-0.000243</td>\n",
       "      <td>0.013845</td>\n",
       "      <td>-0.384696</td>\n",
       "      <td>-0.090355</td>\n",
       "      <td>-0.088023</td>\n",
       "      <td>-0.085962</td>\n",
       "      <td>1.000000</td>\n",
       "      <td>-0.082142</td>\n",
       "      <td>-0.082542</td>\n",
       "      <td>-0.078942</td>\n",
       "      <td>-0.080607</td>\n",
       "      <td>-0.077587</td>\n",
       "      <td>-0.086247</td>\n",
       "      <td>-0.082329</td>\n",
       "      <td>-0.087818</td>\n",
       "    </tr>\n",
       "    <tr>\n",
       "      <th>intake_month_05</th>\n",
       "      <td>-0.000079</td>\n",
       "      <td>-0.000079</td>\n",
       "      <td>-0.013084</td>\n",
       "      <td>-0.014094</td>\n",
       "      <td>-0.001427</td>\n",
       "      <td>-0.004645</td>\n",
       "      <td>-0.013154</td>\n",
       "      <td>-0.413846</td>\n",
       "      <td>-0.097202</td>\n",
       "      <td>-0.094692</td>\n",
       "      <td>-0.092475</td>\n",
       "      <td>-0.082142</td>\n",
       "      <td>1.000000</td>\n",
       "      <td>-0.088797</td>\n",
       "      <td>-0.084924</td>\n",
       "      <td>-0.086715</td>\n",
       "      <td>-0.083466</td>\n",
       "      <td>-0.092782</td>\n",
       "      <td>-0.088567</td>\n",
       "      <td>-0.094472</td>\n",
       "    </tr>\n",
       "    <tr>\n",
       "      <th>intake_month_06</th>\n",
       "      <td>0.002020</td>\n",
       "      <td>0.002020</td>\n",
       "      <td>-0.004838</td>\n",
       "      <td>-0.000906</td>\n",
       "      <td>0.003055</td>\n",
       "      <td>-0.018758</td>\n",
       "      <td>-0.014633</td>\n",
       "      <td>-0.324037</td>\n",
       "      <td>-0.097676</td>\n",
       "      <td>-0.095154</td>\n",
       "      <td>-0.092926</td>\n",
       "      <td>-0.082542</td>\n",
       "      <td>-0.088797</td>\n",
       "      <td>1.000000</td>\n",
       "      <td>-0.085338</td>\n",
       "      <td>-0.087138</td>\n",
       "      <td>-0.083873</td>\n",
       "      <td>-0.093235</td>\n",
       "      <td>-0.088999</td>\n",
       "      <td>-0.094933</td>\n",
       "    </tr>\n",
       "    <tr>\n",
       "      <th>intake_month_07</th>\n",
       "      <td>-0.009580</td>\n",
       "      <td>-0.009580</td>\n",
       "      <td>0.022594</td>\n",
       "      <td>-0.040006</td>\n",
       "      <td>-0.002187</td>\n",
       "      <td>-0.000603</td>\n",
       "      <td>-0.026590</td>\n",
       "      <td>-0.144185</td>\n",
       "      <td>-0.093416</td>\n",
       "      <td>-0.091004</td>\n",
       "      <td>-0.088874</td>\n",
       "      <td>-0.078942</td>\n",
       "      <td>-0.084924</td>\n",
       "      <td>-0.085338</td>\n",
       "      <td>1.000000</td>\n",
       "      <td>-0.083338</td>\n",
       "      <td>-0.080215</td>\n",
       "      <td>-0.089169</td>\n",
       "      <td>-0.085118</td>\n",
       "      <td>-0.090793</td>\n",
       "    </tr>\n",
       "    <tr>\n",
       "      <th>intake_month_08</th>\n",
       "      <td>-0.000493</td>\n",
       "      <td>-0.000493</td>\n",
       "      <td>-0.003620</td>\n",
       "      <td>-0.016961</td>\n",
       "      <td>0.007226</td>\n",
       "      <td>0.003495</td>\n",
       "      <td>-0.002829</td>\n",
       "      <td>-0.147225</td>\n",
       "      <td>-0.095386</td>\n",
       "      <td>-0.092923</td>\n",
       "      <td>-0.090748</td>\n",
       "      <td>-0.080607</td>\n",
       "      <td>-0.086715</td>\n",
       "      <td>-0.087138</td>\n",
       "      <td>-0.083338</td>\n",
       "      <td>1.000000</td>\n",
       "      <td>-0.081907</td>\n",
       "      <td>-0.091049</td>\n",
       "      <td>-0.086913</td>\n",
       "      <td>-0.092707</td>\n",
       "    </tr>\n",
       "    <tr>\n",
       "      <th>intake_month_09</th>\n",
       "      <td>0.008560</td>\n",
       "      <td>0.008560</td>\n",
       "      <td>-0.010056</td>\n",
       "      <td>-0.015016</td>\n",
       "      <td>0.010520</td>\n",
       "      <td>-0.007281</td>\n",
       "      <td>0.010214</td>\n",
       "      <td>-0.076098</td>\n",
       "      <td>-0.091813</td>\n",
       "      <td>-0.089442</td>\n",
       "      <td>-0.087348</td>\n",
       "      <td>-0.077587</td>\n",
       "      <td>-0.083466</td>\n",
       "      <td>-0.083873</td>\n",
       "      <td>-0.080215</td>\n",
       "      <td>-0.081907</td>\n",
       "      <td>1.000000</td>\n",
       "      <td>-0.087638</td>\n",
       "      <td>-0.083656</td>\n",
       "      <td>-0.089234</td>\n",
       "    </tr>\n",
       "    <tr>\n",
       "      <th>intake_month_10</th>\n",
       "      <td>-0.005066</td>\n",
       "      <td>-0.005066</td>\n",
       "      <td>-0.006468</td>\n",
       "      <td>0.012962</td>\n",
       "      <td>-0.001954</td>\n",
       "      <td>-0.006172</td>\n",
       "      <td>-0.015763</td>\n",
       "      <td>0.119477</td>\n",
       "      <td>-0.102060</td>\n",
       "      <td>-0.099425</td>\n",
       "      <td>-0.097097</td>\n",
       "      <td>-0.086247</td>\n",
       "      <td>-0.092782</td>\n",
       "      <td>-0.093235</td>\n",
       "      <td>-0.089169</td>\n",
       "      <td>-0.091049</td>\n",
       "      <td>-0.087638</td>\n",
       "      <td>1.000000</td>\n",
       "      <td>-0.092994</td>\n",
       "      <td>-0.099194</td>\n",
       "    </tr>\n",
       "    <tr>\n",
       "      <th>intake_month_11</th>\n",
       "      <td>0.005263</td>\n",
       "      <td>0.005263</td>\n",
       "      <td>0.006248</td>\n",
       "      <td>0.019791</td>\n",
       "      <td>0.000854</td>\n",
       "      <td>0.002044</td>\n",
       "      <td>-0.024924</td>\n",
       "      <td>0.114049</td>\n",
       "      <td>-0.097424</td>\n",
       "      <td>-0.094908</td>\n",
       "      <td>-0.092686</td>\n",
       "      <td>-0.082329</td>\n",
       "      <td>-0.088567</td>\n",
       "      <td>-0.088999</td>\n",
       "      <td>-0.085118</td>\n",
       "      <td>-0.086913</td>\n",
       "      <td>-0.083656</td>\n",
       "      <td>-0.092994</td>\n",
       "      <td>1.000000</td>\n",
       "      <td>-0.094687</td>\n",
       "    </tr>\n",
       "    <tr>\n",
       "      <th>intake_month_12</th>\n",
       "      <td>-0.005121</td>\n",
       "      <td>-0.005121</td>\n",
       "      <td>-0.016475</td>\n",
       "      <td>0.024668</td>\n",
       "      <td>-0.015856</td>\n",
       "      <td>-0.005758</td>\n",
       "      <td>0.015889</td>\n",
       "      <td>0.212482</td>\n",
       "      <td>-0.103919</td>\n",
       "      <td>-0.101236</td>\n",
       "      <td>-0.098866</td>\n",
       "      <td>-0.087818</td>\n",
       "      <td>-0.094472</td>\n",
       "      <td>-0.094933</td>\n",
       "      <td>-0.090793</td>\n",
       "      <td>-0.092707</td>\n",
       "      <td>-0.089234</td>\n",
       "      <td>-0.099194</td>\n",
       "      <td>-0.094687</td>\n",
       "      <td>1.000000</td>\n",
       "    </tr>\n",
       "  </tbody>\n",
       "</table>\n",
       "</div>"
      ],
      "text/plain": [
       "                         age_upon_intake_(days)  age_upon_intake_(years)  \\\n",
       "age_upon_intake_(days)                 1.000000                 1.000000   \n",
       "age_upon_intake_(years)                1.000000                 1.000000   \n",
       "intake_weekday                         0.010650                 0.010650   \n",
       "intake_hour                           -0.012498                -0.012498   \n",
       "intake_number                          0.016435                 0.016435   \n",
       "health                                -0.018021                -0.018021   \n",
       "was_owned                              0.153380                 0.153380   \n",
       "season                                 0.009559                 0.009559   \n",
       "intake_month_01                        0.005403                 0.005403   \n",
       "intake_month_02                        0.007847                 0.007847   \n",
       "intake_month_03                       -0.008750                -0.008750   \n",
       "intake_month_04                       -0.000007                -0.000007   \n",
       "intake_month_05                       -0.000079                -0.000079   \n",
       "intake_month_06                        0.002020                 0.002020   \n",
       "intake_month_07                       -0.009580                -0.009580   \n",
       "intake_month_08                       -0.000493                -0.000493   \n",
       "intake_month_09                        0.008560                 0.008560   \n",
       "intake_month_10                       -0.005066                -0.005066   \n",
       "intake_month_11                        0.005263                 0.005263   \n",
       "intake_month_12                       -0.005121                -0.005121   \n",
       "\n",
       "                         intake_weekday  intake_hour  intake_number    health  \\\n",
       "age_upon_intake_(days)         0.010650    -0.012498       0.016435 -0.018021   \n",
       "age_upon_intake_(years)        0.010650    -0.012498       0.016435 -0.018021   \n",
       "intake_weekday                 1.000000    -0.045480      -0.007115  0.011312   \n",
       "intake_hour                   -0.045480     1.000000      -0.003560  0.059818   \n",
       "intake_number                 -0.007115    -0.003560       1.000000  0.023459   \n",
       "health                         0.011312     0.059818       0.023459  1.000000   \n",
       "was_owned                      0.009056    -0.038636       0.036722  0.045681   \n",
       "season                         0.012615     0.025312      -0.002373  0.019174   \n",
       "intake_month_01                0.025165     0.009172      -0.009189  0.015552   \n",
       "intake_month_02                0.000131     0.002492       0.007242  0.017123   \n",
       "intake_month_03               -0.006347     0.008196      -0.003551  0.003181   \n",
       "intake_month_04                0.006767     0.004498       0.007694 -0.000243   \n",
       "intake_month_05               -0.013084    -0.014094      -0.001427 -0.004645   \n",
       "intake_month_06               -0.004838    -0.000906       0.003055 -0.018758   \n",
       "intake_month_07                0.022594    -0.040006      -0.002187 -0.000603   \n",
       "intake_month_08               -0.003620    -0.016961       0.007226  0.003495   \n",
       "intake_month_09               -0.010056    -0.015016       0.010520 -0.007281   \n",
       "intake_month_10               -0.006468     0.012962      -0.001954 -0.006172   \n",
       "intake_month_11                0.006248     0.019791       0.000854  0.002044   \n",
       "intake_month_12               -0.016475     0.024668      -0.015856 -0.005758   \n",
       "\n",
       "                         was_owned    season  intake_month_01  \\\n",
       "age_upon_intake_(days)    0.153380  0.009559         0.005403   \n",
       "age_upon_intake_(years)   0.153380  0.009559         0.005403   \n",
       "intake_weekday            0.009056  0.012615         0.025165   \n",
       "intake_hour              -0.038636  0.025312         0.009172   \n",
       "intake_number             0.036722 -0.002373        -0.009189   \n",
       "health                    0.045681  0.019174         0.015552   \n",
       "was_owned                 1.000000  0.022047         0.004140   \n",
       "season                    0.022047  1.000000         0.415367   \n",
       "intake_month_01           0.004140  0.415367         1.000000   \n",
       "intake_month_02           0.045754  0.404643        -0.104161   \n",
       "intake_month_03           0.005073  0.112392        -0.101723   \n",
       "intake_month_04           0.013845 -0.384696        -0.090355   \n",
       "intake_month_05          -0.013154 -0.413846        -0.097202   \n",
       "intake_month_06          -0.014633 -0.324037        -0.097676   \n",
       "intake_month_07          -0.026590 -0.144185        -0.093416   \n",
       "intake_month_08          -0.002829 -0.147225        -0.095386   \n",
       "intake_month_09           0.010214 -0.076098        -0.091813   \n",
       "intake_month_10          -0.015763  0.119477        -0.102060   \n",
       "intake_month_11          -0.024924  0.114049        -0.097424   \n",
       "intake_month_12           0.015889  0.212482        -0.103919   \n",
       "\n",
       "                         intake_month_02  intake_month_03  intake_month_04  \\\n",
       "age_upon_intake_(days)          0.007847        -0.008750        -0.000007   \n",
       "age_upon_intake_(years)         0.007847        -0.008750        -0.000007   \n",
       "intake_weekday                  0.000131        -0.006347         0.006767   \n",
       "intake_hour                     0.002492         0.008196         0.004498   \n",
       "intake_number                   0.007242        -0.003551         0.007694   \n",
       "health                          0.017123         0.003181        -0.000243   \n",
       "was_owned                       0.045754         0.005073         0.013845   \n",
       "season                          0.404643         0.112392        -0.384696   \n",
       "intake_month_01                -0.104161        -0.101723        -0.090355   \n",
       "intake_month_02                 1.000000        -0.099096        -0.088023   \n",
       "intake_month_03                -0.099096         1.000000        -0.085962   \n",
       "intake_month_04                -0.088023        -0.085962         1.000000   \n",
       "intake_month_05                -0.094692        -0.092475        -0.082142   \n",
       "intake_month_06                -0.095154        -0.092926        -0.082542   \n",
       "intake_month_07                -0.091004        -0.088874        -0.078942   \n",
       "intake_month_08                -0.092923        -0.090748        -0.080607   \n",
       "intake_month_09                -0.089442        -0.087348        -0.077587   \n",
       "intake_month_10                -0.099425        -0.097097        -0.086247   \n",
       "intake_month_11                -0.094908        -0.092686        -0.082329   \n",
       "intake_month_12                -0.101236        -0.098866        -0.087818   \n",
       "\n",
       "                         intake_month_05  intake_month_06  intake_month_07  \\\n",
       "age_upon_intake_(days)         -0.000079         0.002020        -0.009580   \n",
       "age_upon_intake_(years)        -0.000079         0.002020        -0.009580   \n",
       "intake_weekday                 -0.013084        -0.004838         0.022594   \n",
       "intake_hour                    -0.014094        -0.000906        -0.040006   \n",
       "intake_number                  -0.001427         0.003055        -0.002187   \n",
       "health                         -0.004645        -0.018758        -0.000603   \n",
       "was_owned                      -0.013154        -0.014633        -0.026590   \n",
       "season                         -0.413846        -0.324037        -0.144185   \n",
       "intake_month_01                -0.097202        -0.097676        -0.093416   \n",
       "intake_month_02                -0.094692        -0.095154        -0.091004   \n",
       "intake_month_03                -0.092475        -0.092926        -0.088874   \n",
       "intake_month_04                -0.082142        -0.082542        -0.078942   \n",
       "intake_month_05                 1.000000        -0.088797        -0.084924   \n",
       "intake_month_06                -0.088797         1.000000        -0.085338   \n",
       "intake_month_07                -0.084924        -0.085338         1.000000   \n",
       "intake_month_08                -0.086715        -0.087138        -0.083338   \n",
       "intake_month_09                -0.083466        -0.083873        -0.080215   \n",
       "intake_month_10                -0.092782        -0.093235        -0.089169   \n",
       "intake_month_11                -0.088567        -0.088999        -0.085118   \n",
       "intake_month_12                -0.094472        -0.094933        -0.090793   \n",
       "\n",
       "                         intake_month_08  intake_month_09  intake_month_10  \\\n",
       "age_upon_intake_(days)         -0.000493         0.008560        -0.005066   \n",
       "age_upon_intake_(years)        -0.000493         0.008560        -0.005066   \n",
       "intake_weekday                 -0.003620        -0.010056        -0.006468   \n",
       "intake_hour                    -0.016961        -0.015016         0.012962   \n",
       "intake_number                   0.007226         0.010520        -0.001954   \n",
       "health                          0.003495        -0.007281        -0.006172   \n",
       "was_owned                      -0.002829         0.010214        -0.015763   \n",
       "season                         -0.147225        -0.076098         0.119477   \n",
       "intake_month_01                -0.095386        -0.091813        -0.102060   \n",
       "intake_month_02                -0.092923        -0.089442        -0.099425   \n",
       "intake_month_03                -0.090748        -0.087348        -0.097097   \n",
       "intake_month_04                -0.080607        -0.077587        -0.086247   \n",
       "intake_month_05                -0.086715        -0.083466        -0.092782   \n",
       "intake_month_06                -0.087138        -0.083873        -0.093235   \n",
       "intake_month_07                -0.083338        -0.080215        -0.089169   \n",
       "intake_month_08                 1.000000        -0.081907        -0.091049   \n",
       "intake_month_09                -0.081907         1.000000        -0.087638   \n",
       "intake_month_10                -0.091049        -0.087638         1.000000   \n",
       "intake_month_11                -0.086913        -0.083656        -0.092994   \n",
       "intake_month_12                -0.092707        -0.089234        -0.099194   \n",
       "\n",
       "                         intake_month_11  intake_month_12  \n",
       "age_upon_intake_(days)          0.005263        -0.005121  \n",
       "age_upon_intake_(years)         0.005263        -0.005121  \n",
       "intake_weekday                  0.006248        -0.016475  \n",
       "intake_hour                     0.019791         0.024668  \n",
       "intake_number                   0.000854        -0.015856  \n",
       "health                          0.002044        -0.005758  \n",
       "was_owned                      -0.024924         0.015889  \n",
       "season                          0.114049         0.212482  \n",
       "intake_month_01                -0.097424        -0.103919  \n",
       "intake_month_02                -0.094908        -0.101236  \n",
       "intake_month_03                -0.092686        -0.098866  \n",
       "intake_month_04                -0.082329        -0.087818  \n",
       "intake_month_05                -0.088567        -0.094472  \n",
       "intake_month_06                -0.088999        -0.094933  \n",
       "intake_month_07                -0.085118        -0.090793  \n",
       "intake_month_08                -0.086913        -0.092707  \n",
       "intake_month_09                -0.083656        -0.089234  \n",
       "intake_month_10                -0.092994        -0.099194  \n",
       "intake_month_11                 1.000000        -0.094687  \n",
       "intake_month_12                -0.094687         1.000000  "
      ]
     },
     "execution_count": 26,
     "metadata": {},
     "output_type": "execute_result"
    }
   ],
   "source": [
    "df[features].corr()"
   ]
  },
  {
   "cell_type": "code",
   "execution_count": 27,
   "metadata": {},
   "outputs": [],
   "source": [
    "# n = 4\n",
    "# row_groups= [features[i:i+n] for i in range(0, len(features), n) ]"
   ]
  },
  {
   "cell_type": "code",
   "execution_count": 28,
   "metadata": {},
   "outputs": [],
   "source": [
    "# for i in row_groups:\n",
    "#     pp = sns.pairplot(data=df, y_vars=['time_in_shelter_days'],x_vars=i, kind=\"reg\", height=3)"
   ]
  },
  {
   "cell_type": "code",
   "execution_count": 29,
   "metadata": {},
   "outputs": [],
   "source": [
    "# %%time\n",
    "# lr_model = ols(formula='time_in_shelter_days~intake_datetime+intake_year+intake_monthyear+intake_weekday+intake_hour+intake_number+health+was_owned+season+intake_month_01+intake_month_02+intake_month_03+intake_month_04+intake_month_05+intake_month_06+intake_month_07+intake_month_08+intake_month_09+intake_month_10+intake_month_11+intake_month_12', data=df).fit()\n",
    "\n",
    "# lr_model.summary()"
   ]
  },
  {
   "cell_type": "code",
   "execution_count": 30,
   "metadata": {},
   "outputs": [],
   "source": [
    "#  'age_upon_intake+breed+color+found_location+intake_condition+intake_type+sex_upon_intake+age_upon_intake_(days)+age_upon_intake_(years)+age_upon_intake_age_group+intake_datetime+intake_year+intake_monthyear+intake_weekday+intake_hour+intake_number+health+was_owned+season+intake_month_01+intake_month_02+intake_month_03+intake_month_04+intake_month_05+intake_month_06+intake_month_07+intake_month_08+intake_month_09+intake_month_10+intake_month_11+intake_month_12'"
   ]
  },
  {
   "cell_type": "code",
   "execution_count": 31,
   "metadata": {},
   "outputs": [],
   "source": [
    "df2=df.copy()\n",
    "df2['time_in_shelter']=df2.time_in_shelter.apply(lambda x: int(str(x)[:2]))\n",
    "df2['intake_datetime']=df2.intake_datetime.apply(lambda x: str(str(x)[:10]))\n",
    "df2['age_upon_intake']=df2.age_upon_intake.apply(lambda x: int(x[:2]))\n",
    "df2['age_upon_intake_age_group']=df2.age_upon_intake_age_group.apply(lambda x: list(map(float,x.strip('(]').split(','))))\n",
    "df2['color']=df2.color.apply(lambda x: x.strip('/').split('/'))\n",
    "df2.reset_index(drop=True,inplace=True)"
   ]
  },
  {
   "cell_type": "code",
   "execution_count": 54,
   "metadata": {},
   "outputs": [],
   "source": [
    "brown=['Brown Brindle','Red','Liver','Brown','Tan','Ruddy','Chocolate','Brown Tiger','Sable']\n",
    "spotted=[\"Yellow Brindle\",'Blue Merle','Black Tiger','Red Merle', 'Liver Tick','Agouti','Blue Tick','Black Brindle','Fawn','Brown Merle','Red Tick']\n",
    "mustard=['Buff','Orange','Apricot']\n",
    "other=['Tricolor','Pink','Blue']\n",
    "white=['Silver','Cream','White']\n",
    "black=['Black','Black Smoke','Gray','Blue Tiger']\n",
    "gold=['Gold','Yellow', 'Blue Cream',]"
   ]
  },
  {
   "cell_type": "code",
   "execution_count": 55,
   "metadata": {},
   "outputs": [],
   "source": [
    "def color_bin (dfcol):\n",
    "\n",
    "        for i in range(len(brown)):\n",
    "            if dfcol[0]== brown[i]:\n",
    "                return 'Brown'\n",
    "\n",
    "        for i in range(len(spotted)):\n",
    "            if dfcol[0]== spotted[i]:\n",
    "                return 'Spotted'\n",
    "\n",
    "        for i in range(len(mustard)):\n",
    "            if dfcol[0]== mustard[i]:\n",
    "                return 'Mustard'\n",
    "\n",
    "        for i in range(len(other)):\n",
    "            if dfcol[0]== other[i]:\n",
    "                return 'Other'\n",
    "\n",
    "        for i in range(len(white)):\n",
    "            if dfcol[0]== white[i]:\n",
    "                return 'White'\n",
    "\n",
    "        for i in range(len(black)):\n",
    "            if dfcol[0]== black[i]:\n",
    "                return 'Black'\n",
    "\n",
    "        for i in range(len(gold)):\n",
    "            if dfcol[0]== gold[i]:\n",
    "                return 'Gold'"
   ]
  },
  {
   "cell_type": "code",
   "execution_count": 56,
   "metadata": {},
   "outputs": [],
   "source": [
    "df2['color_bin']=df2.color.apply(color_bin)"
   ]
  },
  {
   "cell_type": "code",
   "execution_count": 32,
   "metadata": {},
   "outputs": [],
   "source": [
    "df2['age_days']=df2['age_upon_outcome_(days)']"
   ]
  },
  {
   "cell_type": "code",
   "execution_count": 59,
   "metadata": {},
   "outputs": [],
   "source": [
    "f= [,'age_days','age_upon_intake','intake_weekday', 'intake_hour', 'intake_number', 'health', 'was_owned',\n",
    "       'season', 'intake_month_01', 'intake_month_02', 'intake_month_03',\n",
    "       'intake_month_04', 'intake_month_05', 'intake_month_06',\n",
    "       'intake_month_07', 'intake_month_08', 'intake_month_09',\n",
    "       'intake_month_10', 'intake_month_11', 'intake_month_12']"
   ]
  },
  {
   "cell_type": "code",
   "execution_count": 60,
   "metadata": {},
   "outputs": [
    {
     "data": {
      "text/plain": [
       "age_days             int64\n",
       "age_upon_intake      int64\n",
       "intake_weekday       int64\n",
       "intake_hour          int64\n",
       "intake_number      float64\n",
       "health               int64\n",
       "was_owned            int64\n",
       "season               int64\n",
       "intake_month_01      uint8\n",
       "intake_month_02      uint8\n",
       "intake_month_03      uint8\n",
       "intake_month_04      uint8\n",
       "intake_month_05      uint8\n",
       "intake_month_06      uint8\n",
       "intake_month_07      uint8\n",
       "intake_month_08      uint8\n",
       "intake_month_09      uint8\n",
       "intake_month_10      uint8\n",
       "intake_month_11      uint8\n",
       "intake_month_12      uint8\n",
       "dtype: object"
      ]
     },
     "execution_count": 60,
     "metadata": {},
     "output_type": "execute_result"
    }
   ],
   "source": [
    "df2[f].dtypes"
   ]
  },
  {
   "cell_type": "code",
   "execution_count": 61,
   "metadata": {},
   "outputs": [],
   "source": [
    "n = 4\n",
    "row_groups= [f[i:i+n] for i in range(0, len(f), n) ]"
   ]
  },
  {
   "cell_type": "code",
   "execution_count": 62,
   "metadata": {
    "scrolled": true
   },
   "outputs": [
    {
     "data": {
      "image/png": "[encoded data removed]",
      "text/plain": [
       "<Figure size 864x216 with 4 Axes>"
      ]
     },
     "metadata": {
      "needs_background": "light"
     },
     "output_type": "display_data"
    },
    {
     "data": {
      "image/png": "[encoded data removed]",
      "text/plain": [
       "<Figure size 864x216 with 4 Axes>"
      ]
     },
     "metadata": {
      "needs_background": "light"
     },
     "output_type": "display_data"
    },
    {
     "data": {
      "image/png": "[encoded data removed]",
      "text/plain": [
       "<Figure size 864x216 with 4 Axes>"
      ]
     },
     "metadata": {
      "needs_background": "light"
     },
     "output_type": "display_data"
    },
    {
     "data": {
      "image/png": "[encoded data removed]",
      "text/plain": [
       "<Figure size 864x216 with 4 Axes>"
      ]
     },
     "metadata": {
      "needs_background": "light"
     },
     "output_type": "display_data"
    },
    {
     "data": {
      "image/png": "[encoded data removed]",
      "text/plain": [
       "<Figure size 864x216 with 4 Axes>"
      ]
     },
     "metadata": {
      "needs_background": "light"
     },
     "output_type": "display_data"
    }
   ],
   "source": [
    "for i in row_groups:\n",
    "    pp = sns.pairplot(data=df2, y_vars=['time_in_shelter_days'],x_vars=i, kind=\"reg\", height=3)"
   ]
  },
  {
   "cell_type": "code",
   "execution_count": 63,
   "metadata": {},
   "outputs": [
    {
     "data": {
      "text/plain": [
       "(array([1.754e+04, 1.756e+03, 5.660e+02, 2.710e+02, 1.630e+02, 8.600e+01,\n",
       "        4.400e+01, 3.600e+01, 2.900e+01, 2.900e+01, 1.700e+01, 8.000e+00,\n",
       "        7.000e+00, 8.000e+00, 6.000e+00, 4.000e+00, 1.000e+00, 1.000e+00,\n",
       "        0.000e+00, 2.000e+00, 0.000e+00, 0.000e+00, 1.000e+00, 2.000e+00,\n",
       "        1.000e+00, 0.000e+00, 0.000e+00, 0.000e+00, 0.000e+00, 3.000e+00]),\n",
       " array([6.94444444e-04, 4.22998380e+01, 8.45989815e+01, 1.26898125e+02,\n",
       "        1.69197269e+02, 2.11496412e+02, 2.53795556e+02, 2.96094699e+02,\n",
       "        3.38393843e+02, 3.80692986e+02, 4.22992130e+02, 4.65291273e+02,\n",
       "        5.07590417e+02, 5.49889560e+02, 5.92188704e+02, 6.34487847e+02,\n",
       "        6.76786991e+02, 7.19086134e+02, 7.61385278e+02, 8.03684421e+02,\n",
       "        8.45983565e+02, 8.88282708e+02, 9.30581852e+02, 9.72880995e+02,\n",
       "        1.01518014e+03, 1.05747928e+03, 1.09977843e+03, 1.14207757e+03,\n",
       "        1.18437671e+03, 1.22667586e+03, 1.26897500e+03]),\n",
       " <BarContainer object of 30 artists>)"
      ]
     },
     "execution_count": 63,
     "metadata": {},
     "output_type": "execute_result"
    },
    {
     "data": {
      "image/png": "[encoded data removed]",
      "text/plain": [
       "<Figure size 432x288 with 1 Axes>"
      ]
     },
     "metadata": {
      "needs_background": "light"
     },
     "output_type": "display_data"
    }
   ],
   "source": [
    "plt.hist(df2.time_in_shelter_days,bins=30)"
   ]
  },
  {
   "cell_type": "code",
   "execution_count": 64,
   "metadata": {},
   "outputs": [
    {
     "data": {
      "text/plain": [
       "<matplotlib.collections.PathCollection at 0x7fd73c312d50>"
      ]
     },
     "execution_count": 64,
     "metadata": {},
     "output_type": "execute_result"
    },
    {
     "data": {
      "image/png": "[encoded data removed]",
      "text/plain": [
       "<Figure size 432x288 with 1 Axes>"
      ]
     },
     "metadata": {
      "needs_background": "light"
     },
     "output_type": "display_data"
    }
   ],
   "source": [
    "plt.scatter(df2.age_days, df2.time_in_shelter_days)"
   ]
  },
  {
   "cell_type": "code",
   "execution_count": 65,
   "metadata": {},
   "outputs": [
    {
     "data": {
      "text/html": [
       "<table class=\"simpletable\">\n",
       "<caption>OLS Regression Results</caption>\n",
       "<tr>\n",
       "  <th>Dep. Variable:</th>    <td>time_in_shelter_days</td> <th>  R-squared:         </th>  <td>   0.052</td>  \n",
       "</tr>\n",
       "<tr>\n",
       "  <th>Model:</th>                     <td>OLS</td>         <th>  Adj. R-squared:    </th>  <td>   0.051</td>  \n",
       "</tr>\n",
       "<tr>\n",
       "  <th>Method:</th>               <td>Least Squares</td>    <th>  F-statistic:       </th>  <td>   63.01</td>  \n",
       "</tr>\n",
       "<tr>\n",
       "  <th>Date:</th>               <td>Sat, 12 Sep 2020</td>   <th>  Prob (F-statistic):</th>  <td>3.27e-223</td> \n",
       "</tr>\n",
       "<tr>\n",
       "  <th>Time:</th>                   <td>14:54:32</td>       <th>  Log-Likelihood:    </th> <td>-1.1063e+05</td>\n",
       "</tr>\n",
       "<tr>\n",
       "  <th>No. Observations:</th>        <td> 20581</td>        <th>  AIC:               </th>  <td>2.213e+05</td> \n",
       "</tr>\n",
       "<tr>\n",
       "  <th>Df Residuals:</th>            <td> 20562</td>        <th>  BIC:               </th>  <td>2.215e+05</td> \n",
       "</tr>\n",
       "<tr>\n",
       "  <th>Df Model:</th>                <td>    18</td>        <th>                     </th>      <td> </td>     \n",
       "</tr>\n",
       "<tr>\n",
       "  <th>Covariance Type:</th>        <td>nonrobust</td>      <th>                     </th>      <td> </td>     \n",
       "</tr>\n",
       "</table>\n",
       "<table class=\"simpletable\">\n",
       "<tr>\n",
       "         <td></td>            <th>coef</th>     <th>std err</th>      <th>t</th>      <th>P>|t|</th>  <th>[0.025</th>    <th>0.975]</th>  \n",
       "</tr>\n",
       "<tr>\n",
       "  <th>Intercept</th>       <td>   36.2451</td> <td>    3.006</td> <td>   12.059</td> <td> 0.000</td> <td>   30.354</td> <td>   42.137</td>\n",
       "</tr>\n",
       "<tr>\n",
       "  <th>age_days</th>        <td>    0.0123</td> <td>    0.000</td> <td>   28.554</td> <td> 0.000</td> <td>    0.011</td> <td>    0.013</td>\n",
       "</tr>\n",
       "<tr>\n",
       "  <th>intake_weekday</th>  <td>    0.4787</td> <td>    0.185</td> <td>    2.594</td> <td> 0.009</td> <td>    0.117</td> <td>    0.840</td>\n",
       "</tr>\n",
       "<tr>\n",
       "  <th>intake_hour</th>     <td>    0.0366</td> <td>    0.126</td> <td>    0.290</td> <td> 0.771</td> <td>   -0.210</td> <td>    0.284</td>\n",
       "</tr>\n",
       "<tr>\n",
       "  <th>intake_number</th>   <td>    0.8387</td> <td>    0.712</td> <td>    1.178</td> <td> 0.239</td> <td>   -0.557</td> <td>    2.235</td>\n",
       "</tr>\n",
       "<tr>\n",
       "  <th>health</th>          <td>  -29.6296</td> <td>    1.894</td> <td>  -15.646</td> <td> 0.000</td> <td>  -33.342</td> <td>  -25.918</td>\n",
       "</tr>\n",
       "<tr>\n",
       "  <th>was_owned</th>       <td>   -0.7271</td> <td>    0.856</td> <td>   -0.849</td> <td> 0.396</td> <td>   -2.405</td> <td>    0.951</td>\n",
       "</tr>\n",
       "<tr>\n",
       "  <th>season</th>          <td>    0.9611</td> <td>    0.758</td> <td>    1.268</td> <td> 0.205</td> <td>   -0.525</td> <td>    2.447</td>\n",
       "</tr>\n",
       "<tr>\n",
       "  <th>intake_month_01</th> <td>    0.1929</td> <td>    1.728</td> <td>    0.112</td> <td> 0.911</td> <td>   -3.194</td> <td>    3.579</td>\n",
       "</tr>\n",
       "<tr>\n",
       "  <th>intake_month_02</th> <td>   -0.4922</td> <td>    1.745</td> <td>   -0.282</td> <td> 0.778</td> <td>   -3.912</td> <td>    2.928</td>\n",
       "</tr>\n",
       "<tr>\n",
       "  <th>intake_month_03</th> <td>    2.1419</td> <td>    1.301</td> <td>    1.646</td> <td> 0.100</td> <td>   -0.408</td> <td>    4.692</td>\n",
       "</tr>\n",
       "<tr>\n",
       "  <th>intake_month_04</th> <td>    8.4803</td> <td>    1.650</td> <td>    5.141</td> <td> 0.000</td> <td>    5.247</td> <td>   11.714</td>\n",
       "</tr>\n",
       "<tr>\n",
       "  <th>intake_month_05</th> <td>    6.3872</td> <td>    1.584</td> <td>    4.032</td> <td> 0.000</td> <td>    3.282</td> <td>    9.492</td>\n",
       "</tr>\n",
       "<tr>\n",
       "  <th>intake_month_06</th> <td>    4.3746</td> <td>    1.431</td> <td>    3.056</td> <td> 0.002</td> <td>    1.569</td> <td>    7.180</td>\n",
       "</tr>\n",
       "<tr>\n",
       "  <th>intake_month_07</th> <td>    1.5506</td> <td>    1.301</td> <td>    1.192</td> <td> 0.233</td> <td>   -0.999</td> <td>    4.100</td>\n",
       "</tr>\n",
       "<tr>\n",
       "  <th>intake_month_08</th> <td>    5.1903</td> <td>    1.280</td> <td>    4.054</td> <td> 0.000</td> <td>    2.681</td> <td>    7.700</td>\n",
       "</tr>\n",
       "<tr>\n",
       "  <th>intake_month_09</th> <td>    2.4275</td> <td>    1.300</td> <td>    1.867</td> <td> 0.062</td> <td>   -0.121</td> <td>    4.976</td>\n",
       "</tr>\n",
       "<tr>\n",
       "  <th>intake_month_10</th> <td>    1.3129</td> <td>    1.305</td> <td>    1.006</td> <td> 0.314</td> <td>   -1.245</td> <td>    3.871</td>\n",
       "</tr>\n",
       "<tr>\n",
       "  <th>intake_month_11</th> <td>    4.1630</td> <td>    1.350</td> <td>    3.083</td> <td> 0.002</td> <td>    1.517</td> <td>    6.809</td>\n",
       "</tr>\n",
       "<tr>\n",
       "  <th>intake_month_12</th> <td>    0.5160</td> <td>    1.408</td> <td>    0.366</td> <td> 0.714</td> <td>   -2.244</td> <td>    3.276</td>\n",
       "</tr>\n",
       "</table>\n",
       "<table class=\"simpletable\">\n",
       "<tr>\n",
       "  <th>Omnibus:</th>       <td>27324.030</td> <th>  Durbin-Watson:     </th>  <td>   1.858</td>  \n",
       "</tr>\n",
       "<tr>\n",
       "  <th>Prob(Omnibus):</th>  <td> 0.000</td>   <th>  Jarque-Bera (JB):  </th> <td>8680110.235</td>\n",
       "</tr>\n",
       "<tr>\n",
       "  <th>Skew:</th>           <td> 7.417</td>   <th>  Prob(JB):          </th>  <td>    0.00</td>  \n",
       "</tr>\n",
       "<tr>\n",
       "  <th>Kurtosis:</th>       <td>102.509</td>  <th>  Cond. No.          </th>  <td>1.36e+19</td>  \n",
       "</tr>\n",
       "</table><br/><br/>Notes:<br/>[1] Standard Errors assume that the covariance matrix of the errors is correctly specified.<br/>[2] The smallest eigenvalue is 1.4e-28. This might indicate that there are<br/>strong multicollinearity problems or that the design matrix is singular."
      ],
      "text/plain": [
       "<class 'statsmodels.iolib.summary.Summary'>\n",
       "\"\"\"\n",
       "                             OLS Regression Results                             \n",
       "================================================================================\n",
       "Dep. Variable:     time_in_shelter_days   R-squared:                       0.052\n",
       "Model:                              OLS   Adj. R-squared:                  0.051\n",
       "Method:                   Least Squares   F-statistic:                     63.01\n",
       "Date:                  Sat, 12 Sep 2020   Prob (F-statistic):          3.27e-223\n",
       "Time:                          14:54:32   Log-Likelihood:            -1.1063e+05\n",
       "No. Observations:                 20581   AIC:                         2.213e+05\n",
       "Df Residuals:                     20562   BIC:                         2.215e+05\n",
       "Df Model:                            18                                         \n",
       "Covariance Type:              nonrobust                                         \n",
       "===================================================================================\n",
       "                      coef    std err          t      P>|t|      [0.025      0.975]\n",
       "-----------------------------------------------------------------------------------\n",
       "Intercept          36.2451      3.006     12.059      0.000      30.354      42.137\n",
       "age_days            0.0123      0.000     28.554      0.000       0.011       0.013\n",
       "intake_weekday      0.4787      0.185      2.594      0.009       0.117       0.840\n",
       "intake_hour         0.0366      0.126      0.290      0.771      -0.210       0.284\n",
       "intake_number       0.8387      0.712      1.178      0.239      -0.557       2.235\n",
       "health            -29.6296      1.894    -15.646      0.000     -33.342     -25.918\n",
       "was_owned          -0.7271      0.856     -0.849      0.396      -2.405       0.951\n",
       "season              0.9611      0.758      1.268      0.205      -0.525       2.447\n",
       "intake_month_01     0.1929      1.728      0.112      0.911      -3.194       3.579\n",
       "intake_month_02    -0.4922      1.745     -0.282      0.778      -3.912       2.928\n",
       "intake_month_03     2.1419      1.301      1.646      0.100      -0.408       4.692\n",
       "intake_month_04     8.4803      1.650      5.141      0.000       5.247      11.714\n",
       "intake_month_05     6.3872      1.584      4.032      0.000       3.282       9.492\n",
       "intake_month_06     4.3746      1.431      3.056      0.002       1.569       7.180\n",
       "intake_month_07     1.5506      1.301      1.192      0.233      -0.999       4.100\n",
       "intake_month_08     5.1903      1.280      4.054      0.000       2.681       7.700\n",
       "intake_month_09     2.4275      1.300      1.867      0.062      -0.121       4.976\n",
       "intake_month_10     1.3129      1.305      1.006      0.314      -1.245       3.871\n",
       "intake_month_11     4.1630      1.350      3.083      0.002       1.517       6.809\n",
       "intake_month_12     0.5160      1.408      0.366      0.714      -2.244       3.276\n",
       "==============================================================================\n",
       "Omnibus:                    27324.030   Durbin-Watson:                   1.858\n",
       "Prob(Omnibus):                  0.000   Jarque-Bera (JB):          8680110.235\n",
       "Skew:                           7.417   Prob(JB):                         0.00\n",
       "Kurtosis:                     102.509   Cond. No.                     1.36e+19\n",
       "==============================================================================\n",
       "\n",
       "Notes:\n",
       "[1] Standard Errors assume that the covariance matrix of the errors is correctly specified.\n",
       "[2] The smallest eigenvalue is 1.4e-28. This might indicate that there are\n",
       "strong multicollinearity problems or that the design matrix is singular.\n",
       "\"\"\""
      ]
     },
     "execution_count": 65,
     "metadata": {},
     "output_type": "execute_result"
    }
   ],
   "source": [
    "lr_model = ols(formula='time_in_shelter_days~age_days+intake_weekday+intake_hour+intake_number+health+was_owned+season+intake_month_01+intake_month_02+intake_month_03+intake_month_04+intake_month_05+intake_month_06+intake_month_07+intake_month_08+intake_month_09+intake_month_10+intake_month_11+intake_month_12', data=df2).fit()\n",
    "\n",
    "lr_model.summary()"
   ]
  },
  {
   "cell_type": "code",
   "execution_count": 68,
   "metadata": {},
   "outputs": [
    {
     "data": {
      "text/html": [
       "<div>\n",
       "<style scoped>\n",
       "    .dataframe tbody tr th:only-of-type {\n",
       "        vertical-align: middle;\n",
       "    }\n",
       "\n",
       "    .dataframe tbody tr th {\n",
       "        vertical-align: top;\n",
       "    }\n",
       "\n",
       "    .dataframe thead th {\n",
       "        text-align: right;\n",
       "    }\n",
       "</style>\n",
       "<table border=\"1\" class=\"dataframe\">\n",
       "  <thead>\n",
       "    <tr style=\"text-align: right;\">\n",
       "      <th></th>\n",
       "      <th>intake_type</th>\n",
       "      <th>outcome_type</th>\n",
       "      <th>time_in_shelter_days</th>\n",
       "    </tr>\n",
       "  </thead>\n",
       "  <tbody>\n",
       "    <tr>\n",
       "      <th>1</th>\n",
       "      <td>Public Assist</td>\n",
       "      <td>Adoption</td>\n",
       "      <td>9.020139</td>\n",
       "    </tr>\n",
       "    <tr>\n",
       "      <th>4</th>\n",
       "      <td>Stray</td>\n",
       "      <td>Adoption</td>\n",
       "      <td>2.755556</td>\n",
       "    </tr>\n",
       "    <tr>\n",
       "      <th>12</th>\n",
       "      <td>Public Assist</td>\n",
       "      <td>Adoption</td>\n",
       "      <td>6.954167</td>\n",
       "    </tr>\n",
       "    <tr>\n",
       "      <th>13</th>\n",
       "      <td>Stray</td>\n",
       "      <td>Adoption</td>\n",
       "      <td>5.331944</td>\n",
       "    </tr>\n",
       "    <tr>\n",
       "      <th>14</th>\n",
       "      <td>Owner Surrender</td>\n",
       "      <td>Adoption</td>\n",
       "      <td>2.311806</td>\n",
       "    </tr>\n",
       "    <tr>\n",
       "      <th>...</th>\n",
       "      <td>...</td>\n",
       "      <td>...</td>\n",
       "      <td>...</td>\n",
       "    </tr>\n",
       "    <tr>\n",
       "      <th>20576</th>\n",
       "      <td>Stray</td>\n",
       "      <td>Adoption</td>\n",
       "      <td>3.783333</td>\n",
       "    </tr>\n",
       "    <tr>\n",
       "      <th>20577</th>\n",
       "      <td>Stray</td>\n",
       "      <td>Adoption</td>\n",
       "      <td>5.039583</td>\n",
       "    </tr>\n",
       "    <tr>\n",
       "      <th>20578</th>\n",
       "      <td>Stray</td>\n",
       "      <td>Adoption</td>\n",
       "      <td>3.941667</td>\n",
       "    </tr>\n",
       "    <tr>\n",
       "      <th>20579</th>\n",
       "      <td>Stray</td>\n",
       "      <td>Adoption</td>\n",
       "      <td>5.152083</td>\n",
       "    </tr>\n",
       "    <tr>\n",
       "      <th>20580</th>\n",
       "      <td>Stray</td>\n",
       "      <td>Adoption</td>\n",
       "      <td>2.279167</td>\n",
       "    </tr>\n",
       "  </tbody>\n",
       "</table>\n",
       "<p>12231 rows × 3 columns</p>\n",
       "</div>"
      ],
      "text/plain": [
       "           intake_type outcome_type  time_in_shelter_days\n",
       "1        Public Assist     Adoption              9.020139\n",
       "4                Stray     Adoption              2.755556\n",
       "12       Public Assist     Adoption              6.954167\n",
       "13               Stray     Adoption              5.331944\n",
       "14     Owner Surrender     Adoption              2.311806\n",
       "...                ...          ...                   ...\n",
       "20576            Stray     Adoption              3.783333\n",
       "20577            Stray     Adoption              5.039583\n",
       "20578            Stray     Adoption              3.941667\n",
       "20579            Stray     Adoption              5.152083\n",
       "20580            Stray     Adoption              2.279167\n",
       "\n",
       "[12231 rows x 3 columns]"
      ]
     },
     "execution_count": 68,
     "metadata": {},
     "output_type": "execute_result"
    }
   ],
   "source": [
    "df2[df2.time_in_shelter<10][['intake_type','outcome_type','time_in_shelter_days']]"
   ]
  },
  {
   "cell_type": "code",
   "execution_count": null,
   "metadata": {},
   "outputs": [],
   "source": []
  }
 ],
 "metadata": {
  "kernelspec": {
   "display_name": "Python 3",
   "language": "python",
   "name": "python3"
  },
  "language_info": {
   "codemirror_mode": {
    "name": "ipython",
    "version": 3
   },
   "file_extension": ".py",
   "mimetype": "text/x-python",
   "name": "python",
   "nbconvert_exporter": "python",
   "pygments_lexer": "ipython3",
   "version": "3.7.6"
  }
 },
 "nbformat": 4,
 "nbformat_minor": 4
}

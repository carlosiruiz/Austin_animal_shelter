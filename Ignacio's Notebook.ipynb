{
 "cells": [
  {
   "cell_type": "code",
   "execution_count": 92,
   "metadata": {},
   "outputs": [],
   "source": [
    "import pandas as pd\n",
    "import matplotlib.pyplot as plt\n",
    "from sklearn import preprocessing\n",
    "import numpy as np\n",
    "import plotly.express as px\n",
    "import plotly.io as pio\n",
    "import seaborn as sns\n",
    "from string import printable\n",
    "from sklearn.model_selection import train_test_split\n",
    "from sklearn.linear_model import LinearRegression\n",
    "from sklearn import metrics\n",
    "from statsmodels.formula.api import ols\n",
    "from patsy import dmatrices\n",
    "import statsmodels.api as sm\n",
    "import warnings\n",
    "warnings.filterwarnings(\"ignore\")\n",
    "pd.options.display.max_columns=100\n",
    "pd.options.display.max_rows=100"
   ]
  },
  {
   "cell_type": "code",
   "execution_count": 93,
   "metadata": {},
   "outputs": [],
   "source": [
    "df= pd.read_csv('/Users/carlosruiz/Desktop/Animal-Shelter-Project/Data/shelter_breed.csv')"
   ]
  },
  {
   "cell_type": "code",
   "execution_count": 94,
   "metadata": {
    "scrolled": true
   },
   "outputs": [
    {
     "data": {
      "text/html": [
       "<div>\n",
       "<style scoped>\n",
       "    .dataframe tbody tr th:only-of-type {\n",
       "        vertical-align: middle;\n",
       "    }\n",
       "\n",
       "    .dataframe tbody tr th {\n",
       "        vertical-align: top;\n",
       "    }\n",
       "\n",
       "    .dataframe thead th {\n",
       "        text-align: right;\n",
       "    }\n",
       "</style>\n",
       "<table border=\"1\" class=\"dataframe\">\n",
       "  <thead>\n",
       "    <tr style=\"text-align: right;\">\n",
       "      <th></th>\n",
       "      <th>Unnamed: 0</th>\n",
       "      <th>level_0</th>\n",
       "      <th>index</th>\n",
       "      <th>age_upon_outcome</th>\n",
       "      <th>animal_id_outcome</th>\n",
       "      <th>date_of_birth</th>\n",
       "      <th>outcome_subtype</th>\n",
       "      <th>outcome_type</th>\n",
       "      <th>sex_upon_outcome</th>\n",
       "      <th>age_upon_outcome_(days)</th>\n",
       "      <th>age_upon_outcome_(years)</th>\n",
       "      <th>age_upon_outcome_age_group</th>\n",
       "      <th>outcome_datetime</th>\n",
       "      <th>outcome_month</th>\n",
       "      <th>outcome_year</th>\n",
       "      <th>outcome_monthyear</th>\n",
       "      <th>outcome_weekday</th>\n",
       "      <th>outcome_hour</th>\n",
       "      <th>outcome_number</th>\n",
       "      <th>dob_year</th>\n",
       "      <th>dob_month</th>\n",
       "      <th>dob_monthyear</th>\n",
       "      <th>age_upon_intake</th>\n",
       "      <th>animal_id_intake</th>\n",
       "      <th>animal_type</th>\n",
       "      <th>breed</th>\n",
       "      <th>color</th>\n",
       "      <th>found_location</th>\n",
       "      <th>intake_condition</th>\n",
       "      <th>intake_type</th>\n",
       "      <th>sex_upon_intake</th>\n",
       "      <th>count</th>\n",
       "      <th>age_upon_intake_days</th>\n",
       "      <th>age_upon_intake_tears</th>\n",
       "      <th>age_upon_intake_age_group</th>\n",
       "      <th>intake_datetime</th>\n",
       "      <th>intake_month</th>\n",
       "      <th>intake_year</th>\n",
       "      <th>intake_monthyear</th>\n",
       "      <th>intake_weekday</th>\n",
       "      <th>intake_hour</th>\n",
       "      <th>intake_number</th>\n",
       "      <th>time_in_shelter</th>\n",
       "      <th>time_in_shelter_days</th>\n",
       "      <th>color1</th>\n",
       "      <th>has_second_color</th>\n",
       "      <th>color2</th>\n",
       "      <th>is_dog</th>\n",
       "      <th>is_male</th>\n",
       "      <th>is_fixed</th>\n",
       "      <th>found_city</th>\n",
       "      <th>found_lat</th>\n",
       "      <th>found_lon</th>\n",
       "      <th>region</th>\n",
       "      <th>breed1</th>\n",
       "      <th>is_breed2</th>\n",
       "      <th>is_mix</th>\n",
       "      <th>breed2</th>\n",
       "      <th>max_weight</th>\n",
       "      <th>max_height</th>\n",
       "      <th>max_life</th>\n",
       "    </tr>\n",
       "  </thead>\n",
       "  <tbody>\n",
       "    <tr>\n",
       "      <th>0</th>\n",
       "      <td>0</td>\n",
       "      <td>0</td>\n",
       "      <td>12</td>\n",
       "      <td>16 years</td>\n",
       "      <td>A200922</td>\n",
       "      <td>1997-10-03 00:00:00</td>\n",
       "      <td>Foster</td>\n",
       "      <td>Adoption</td>\n",
       "      <td>Neutered Male</td>\n",
       "      <td>5840</td>\n",
       "      <td>16.000000</td>\n",
       "      <td>(15.0, 17.5]</td>\n",
       "      <td>2013-11-22 09:44:00</td>\n",
       "      <td>11</td>\n",
       "      <td>2013</td>\n",
       "      <td>2013-11</td>\n",
       "      <td>Friday</td>\n",
       "      <td>9</td>\n",
       "      <td>1.0</td>\n",
       "      <td>1997</td>\n",
       "      <td>10</td>\n",
       "      <td>2013-11</td>\n",
       "      <td>16 years</td>\n",
       "      <td>A200922</td>\n",
       "      <td>Dog</td>\n",
       "      <td>Dachshund Mix</td>\n",
       "      <td>Black/Tan</td>\n",
       "      <td>Austin (TX)</td>\n",
       "      <td>Normal</td>\n",
       "      <td>Owner Surrender</td>\n",
       "      <td>Neutered Male</td>\n",
       "      <td>1</td>\n",
       "      <td>5840</td>\n",
       "      <td>16.000000</td>\n",
       "      <td>(15.0, 17.5]</td>\n",
       "      <td>2013-10-03 15:47:00</td>\n",
       "      <td>10</td>\n",
       "      <td>2013</td>\n",
       "      <td>2013-10</td>\n",
       "      <td>Thursday</td>\n",
       "      <td>15</td>\n",
       "      <td>1.0</td>\n",
       "      <td>49 days 17:57:00.000000000</td>\n",
       "      <td>49.747917</td>\n",
       "      <td>Black</td>\n",
       "      <td>1</td>\n",
       "      <td>Tan</td>\n",
       "      <td>1</td>\n",
       "      <td>1</td>\n",
       "      <td>1</td>\n",
       "      <td>Austin</td>\n",
       "      <td>30.271129</td>\n",
       "      <td>-97.74370</td>\n",
       "      <td>Austin</td>\n",
       "      <td>Dachshund Mix</td>\n",
       "      <td>0</td>\n",
       "      <td>1</td>\n",
       "      <td>NaN</td>\n",
       "      <td>32.0</td>\n",
       "      <td>9.0</td>\n",
       "      <td>15.0</td>\n",
       "    </tr>\n",
       "    <tr>\n",
       "      <th>1</th>\n",
       "      <td>1</td>\n",
       "      <td>1</td>\n",
       "      <td>14</td>\n",
       "      <td>17 years</td>\n",
       "      <td>A210457</td>\n",
       "      <td>1999-06-01 00:00:00</td>\n",
       "      <td>Foster</td>\n",
       "      <td>Adoption</td>\n",
       "      <td>Neutered Male</td>\n",
       "      <td>6205</td>\n",
       "      <td>17.000000</td>\n",
       "      <td>(15.0, 17.5]</td>\n",
       "      <td>2016-10-07 12:34:00</td>\n",
       "      <td>10</td>\n",
       "      <td>2016</td>\n",
       "      <td>2016-10</td>\n",
       "      <td>Friday</td>\n",
       "      <td>12</td>\n",
       "      <td>1.0</td>\n",
       "      <td>1999</td>\n",
       "      <td>6</td>\n",
       "      <td>2016-10</td>\n",
       "      <td>17 years</td>\n",
       "      <td>A210457</td>\n",
       "      <td>Dog</td>\n",
       "      <td>Chihuahua Shorthair</td>\n",
       "      <td>Tan/Black</td>\n",
       "      <td>4424 S Mopac #412 in Austin (TX)</td>\n",
       "      <td>Aged</td>\n",
       "      <td>Public Assist</td>\n",
       "      <td>Neutered Male</td>\n",
       "      <td>1</td>\n",
       "      <td>6205</td>\n",
       "      <td>17.000000</td>\n",
       "      <td>(15.0, 17.5]</td>\n",
       "      <td>2016-09-28 12:05:00</td>\n",
       "      <td>9</td>\n",
       "      <td>2016</td>\n",
       "      <td>2016-09</td>\n",
       "      <td>Wednesday</td>\n",
       "      <td>12</td>\n",
       "      <td>1.0</td>\n",
       "      <td>9 days 00:29:00.000000000</td>\n",
       "      <td>9.020139</td>\n",
       "      <td>Tan</td>\n",
       "      <td>1</td>\n",
       "      <td>Black</td>\n",
       "      <td>1</td>\n",
       "      <td>1</td>\n",
       "      <td>1</td>\n",
       "      <td>Austin</td>\n",
       "      <td>30.271129</td>\n",
       "      <td>-97.74370</td>\n",
       "      <td>Austin</td>\n",
       "      <td>Chihuahua Shorthair</td>\n",
       "      <td>0</td>\n",
       "      <td>0</td>\n",
       "      <td>NaN</td>\n",
       "      <td>6.0</td>\n",
       "      <td>8.0</td>\n",
       "      <td>16.0</td>\n",
       "    </tr>\n",
       "    <tr>\n",
       "      <th>2</th>\n",
       "      <td>2</td>\n",
       "      <td>2</td>\n",
       "      <td>22</td>\n",
       "      <td>15 years</td>\n",
       "      <td>A226069</td>\n",
       "      <td>2000-06-17 00:00:00</td>\n",
       "      <td>Foster</td>\n",
       "      <td>Adoption</td>\n",
       "      <td>Neutered Male</td>\n",
       "      <td>5475</td>\n",
       "      <td>15.000000</td>\n",
       "      <td>(12.5, 15.0]</td>\n",
       "      <td>2015-10-29 15:00:00</td>\n",
       "      <td>10</td>\n",
       "      <td>2015</td>\n",
       "      <td>2015-10</td>\n",
       "      <td>Thursday</td>\n",
       "      <td>15</td>\n",
       "      <td>1.0</td>\n",
       "      <td>2000</td>\n",
       "      <td>6</td>\n",
       "      <td>2015-10</td>\n",
       "      <td>15 years</td>\n",
       "      <td>A226069</td>\n",
       "      <td>Dog</td>\n",
       "      <td>Labrador Retriever/Beagle</td>\n",
       "      <td>Sable/White</td>\n",
       "      <td>Wheless Ln And Berkman Dr in Austin (TX)</td>\n",
       "      <td>Normal</td>\n",
       "      <td>Stray</td>\n",
       "      <td>Neutered Male</td>\n",
       "      <td>1</td>\n",
       "      <td>5475</td>\n",
       "      <td>15.000000</td>\n",
       "      <td>(12.5, 15.0]</td>\n",
       "      <td>2015-10-06 12:29:00</td>\n",
       "      <td>10</td>\n",
       "      <td>2015</td>\n",
       "      <td>2015-10</td>\n",
       "      <td>Tuesday</td>\n",
       "      <td>12</td>\n",
       "      <td>1.0</td>\n",
       "      <td>23 days 02:31:00.000000000</td>\n",
       "      <td>23.104861</td>\n",
       "      <td>Sable</td>\n",
       "      <td>1</td>\n",
       "      <td>White</td>\n",
       "      <td>1</td>\n",
       "      <td>1</td>\n",
       "      <td>1</td>\n",
       "      <td>Austin</td>\n",
       "      <td>30.271129</td>\n",
       "      <td>-97.74370</td>\n",
       "      <td>Austin</td>\n",
       "      <td>Labrador Retriever</td>\n",
       "      <td>1</td>\n",
       "      <td>1</td>\n",
       "      <td>Beagle</td>\n",
       "      <td>57.5</td>\n",
       "      <td>19.5</td>\n",
       "      <td>14.5</td>\n",
       "    </tr>\n",
       "    <tr>\n",
       "      <th>3</th>\n",
       "      <td>3</td>\n",
       "      <td>3</td>\n",
       "      <td>32</td>\n",
       "      <td>15 years</td>\n",
       "      <td>A249087</td>\n",
       "      <td>2001-01-02 00:00:00</td>\n",
       "      <td>Foster</td>\n",
       "      <td>Adoption</td>\n",
       "      <td>Spayed Female</td>\n",
       "      <td>5475</td>\n",
       "      <td>15.000000</td>\n",
       "      <td>(12.5, 15.0]</td>\n",
       "      <td>2016-11-15 10:37:00</td>\n",
       "      <td>11</td>\n",
       "      <td>2016</td>\n",
       "      <td>2016-11</td>\n",
       "      <td>Tuesday</td>\n",
       "      <td>10</td>\n",
       "      <td>1.0</td>\n",
       "      <td>2001</td>\n",
       "      <td>1</td>\n",
       "      <td>2016-11</td>\n",
       "      <td>15 years</td>\n",
       "      <td>A249087</td>\n",
       "      <td>Dog</td>\n",
       "      <td>German Shepherd Mix</td>\n",
       "      <td>Black/Brown</td>\n",
       "      <td>E 6Th St And Pedernales in Austin (TX)</td>\n",
       "      <td>Normal</td>\n",
       "      <td>Stray</td>\n",
       "      <td>Spayed Female</td>\n",
       "      <td>1</td>\n",
       "      <td>5475</td>\n",
       "      <td>15.000000</td>\n",
       "      <td>(12.5, 15.0]</td>\n",
       "      <td>2016-08-17 14:05:00</td>\n",
       "      <td>8</td>\n",
       "      <td>2016</td>\n",
       "      <td>2016-08</td>\n",
       "      <td>Wednesday</td>\n",
       "      <td>14</td>\n",
       "      <td>1.0</td>\n",
       "      <td>89 days 20:32:00.000000000</td>\n",
       "      <td>89.855556</td>\n",
       "      <td>Black</td>\n",
       "      <td>1</td>\n",
       "      <td>Brown</td>\n",
       "      <td>1</td>\n",
       "      <td>0</td>\n",
       "      <td>1</td>\n",
       "      <td>Austin</td>\n",
       "      <td>30.271129</td>\n",
       "      <td>-97.74370</td>\n",
       "      <td>Austin</td>\n",
       "      <td>German Shepherd Mix</td>\n",
       "      <td>0</td>\n",
       "      <td>1</td>\n",
       "      <td>NaN</td>\n",
       "      <td>90.0</td>\n",
       "      <td>26.0</td>\n",
       "      <td>13.0</td>\n",
       "    </tr>\n",
       "    <tr>\n",
       "      <th>4</th>\n",
       "      <td>4</td>\n",
       "      <td>4</td>\n",
       "      <td>48</td>\n",
       "      <td>11 years</td>\n",
       "      <td>A274546</td>\n",
       "      <td>2002-05-25 00:00:00</td>\n",
       "      <td>NaN</td>\n",
       "      <td>Adoption</td>\n",
       "      <td>Spayed Female</td>\n",
       "      <td>4015</td>\n",
       "      <td>11.000000</td>\n",
       "      <td>(10.0, 12.5]</td>\n",
       "      <td>2013-11-16 12:24:00</td>\n",
       "      <td>11</td>\n",
       "      <td>2013</td>\n",
       "      <td>2013-11</td>\n",
       "      <td>Saturday</td>\n",
       "      <td>12</td>\n",
       "      <td>1.0</td>\n",
       "      <td>2002</td>\n",
       "      <td>5</td>\n",
       "      <td>2013-11</td>\n",
       "      <td>11 years</td>\n",
       "      <td>A274546</td>\n",
       "      <td>Dog</td>\n",
       "      <td>Pointer Mix</td>\n",
       "      <td>Tricolor</td>\n",
       "      <td>Manchaca And Slaughter in Austin (TX)</td>\n",
       "      <td>Normal</td>\n",
       "      <td>Stray</td>\n",
       "      <td>Spayed Female</td>\n",
       "      <td>1</td>\n",
       "      <td>4015</td>\n",
       "      <td>11.000000</td>\n",
       "      <td>(10.0, 12.5]</td>\n",
       "      <td>2013-11-13 18:16:00</td>\n",
       "      <td>11</td>\n",
       "      <td>2013</td>\n",
       "      <td>2013-11</td>\n",
       "      <td>Wednesday</td>\n",
       "      <td>18</td>\n",
       "      <td>1.0</td>\n",
       "      <td>2 days 18:08:00.000000000</td>\n",
       "      <td>2.755556</td>\n",
       "      <td>Tricolor</td>\n",
       "      <td>0</td>\n",
       "      <td>NaN</td>\n",
       "      <td>1</td>\n",
       "      <td>0</td>\n",
       "      <td>1</td>\n",
       "      <td>Austin</td>\n",
       "      <td>30.271129</td>\n",
       "      <td>-97.74370</td>\n",
       "      <td>Austin</td>\n",
       "      <td>Pointer Mix</td>\n",
       "      <td>0</td>\n",
       "      <td>1</td>\n",
       "      <td>NaN</td>\n",
       "      <td>75.0</td>\n",
       "      <td>28.0</td>\n",
       "      <td>17.0</td>\n",
       "    </tr>\n",
       "    <tr>\n",
       "      <th>...</th>\n",
       "      <td>...</td>\n",
       "      <td>...</td>\n",
       "      <td>...</td>\n",
       "      <td>...</td>\n",
       "      <td>...</td>\n",
       "      <td>...</td>\n",
       "      <td>...</td>\n",
       "      <td>...</td>\n",
       "      <td>...</td>\n",
       "      <td>...</td>\n",
       "      <td>...</td>\n",
       "      <td>...</td>\n",
       "      <td>...</td>\n",
       "      <td>...</td>\n",
       "      <td>...</td>\n",
       "      <td>...</td>\n",
       "      <td>...</td>\n",
       "      <td>...</td>\n",
       "      <td>...</td>\n",
       "      <td>...</td>\n",
       "      <td>...</td>\n",
       "      <td>...</td>\n",
       "      <td>...</td>\n",
       "      <td>...</td>\n",
       "      <td>...</td>\n",
       "      <td>...</td>\n",
       "      <td>...</td>\n",
       "      <td>...</td>\n",
       "      <td>...</td>\n",
       "      <td>...</td>\n",
       "      <td>...</td>\n",
       "      <td>...</td>\n",
       "      <td>...</td>\n",
       "      <td>...</td>\n",
       "      <td>...</td>\n",
       "      <td>...</td>\n",
       "      <td>...</td>\n",
       "      <td>...</td>\n",
       "      <td>...</td>\n",
       "      <td>...</td>\n",
       "      <td>...</td>\n",
       "      <td>...</td>\n",
       "      <td>...</td>\n",
       "      <td>...</td>\n",
       "      <td>...</td>\n",
       "      <td>...</td>\n",
       "      <td>...</td>\n",
       "      <td>...</td>\n",
       "      <td>...</td>\n",
       "      <td>...</td>\n",
       "      <td>...</td>\n",
       "      <td>...</td>\n",
       "      <td>...</td>\n",
       "      <td>...</td>\n",
       "      <td>...</td>\n",
       "      <td>...</td>\n",
       "      <td>...</td>\n",
       "      <td>...</td>\n",
       "      <td>...</td>\n",
       "      <td>...</td>\n",
       "      <td>...</td>\n",
       "    </tr>\n",
       "    <tr>\n",
       "      <th>20576</th>\n",
       "      <td>20576</td>\n",
       "      <td>33249</td>\n",
       "      <td>79647</td>\n",
       "      <td>7 years</td>\n",
       "      <td>A769012</td>\n",
       "      <td>2011-03-29 00:00:00</td>\n",
       "      <td>NaN</td>\n",
       "      <td>Adoption</td>\n",
       "      <td>Spayed Female</td>\n",
       "      <td>2555</td>\n",
       "      <td>7.000000</td>\n",
       "      <td>(5.0, 7.5]</td>\n",
       "      <td>2018-04-01 12:36:00</td>\n",
       "      <td>4</td>\n",
       "      <td>2018</td>\n",
       "      <td>2018-04</td>\n",
       "      <td>Sunday</td>\n",
       "      <td>12</td>\n",
       "      <td>1.0</td>\n",
       "      <td>2011</td>\n",
       "      <td>3</td>\n",
       "      <td>2018-04</td>\n",
       "      <td>7 years</td>\n",
       "      <td>A769012</td>\n",
       "      <td>Dog</td>\n",
       "      <td>Chihuahua Shorthair Mix</td>\n",
       "      <td>Tan</td>\n",
       "      <td>Springdale And Govalle in Austin (TX)</td>\n",
       "      <td>Normal</td>\n",
       "      <td>Stray</td>\n",
       "      <td>Spayed Female</td>\n",
       "      <td>1</td>\n",
       "      <td>2555</td>\n",
       "      <td>7.000000</td>\n",
       "      <td>(5.0, 7.5]</td>\n",
       "      <td>2018-03-28 17:48:00</td>\n",
       "      <td>3</td>\n",
       "      <td>2018</td>\n",
       "      <td>2018-03</td>\n",
       "      <td>Wednesday</td>\n",
       "      <td>17</td>\n",
       "      <td>1.0</td>\n",
       "      <td>3 days 18:48:00.000000000</td>\n",
       "      <td>3.783333</td>\n",
       "      <td>Tan</td>\n",
       "      <td>0</td>\n",
       "      <td>NaN</td>\n",
       "      <td>1</td>\n",
       "      <td>0</td>\n",
       "      <td>1</td>\n",
       "      <td>Austin</td>\n",
       "      <td>30.271129</td>\n",
       "      <td>-97.74370</td>\n",
       "      <td>Austin</td>\n",
       "      <td>Chihuahua Shorthair Mix</td>\n",
       "      <td>0</td>\n",
       "      <td>1</td>\n",
       "      <td>NaN</td>\n",
       "      <td>6.0</td>\n",
       "      <td>8.0</td>\n",
       "      <td>16.0</td>\n",
       "    </tr>\n",
       "    <tr>\n",
       "      <th>20577</th>\n",
       "      <td>20577</td>\n",
       "      <td>33250</td>\n",
       "      <td>79649</td>\n",
       "      <td>2 months</td>\n",
       "      <td>A769014</td>\n",
       "      <td>2018-01-28 00:00:00</td>\n",
       "      <td>NaN</td>\n",
       "      <td>Adoption</td>\n",
       "      <td>Neutered Male</td>\n",
       "      <td>60</td>\n",
       "      <td>0.164384</td>\n",
       "      <td>(-0.025, 2.5]</td>\n",
       "      <td>2018-04-02 19:05:00</td>\n",
       "      <td>4</td>\n",
       "      <td>2018</td>\n",
       "      <td>2018-04</td>\n",
       "      <td>Monday</td>\n",
       "      <td>19</td>\n",
       "      <td>1.0</td>\n",
       "      <td>2018</td>\n",
       "      <td>1</td>\n",
       "      <td>2018-04</td>\n",
       "      <td>1 month</td>\n",
       "      <td>A769014</td>\n",
       "      <td>Dog</td>\n",
       "      <td>Pit Bull Mix</td>\n",
       "      <td>Black/White</td>\n",
       "      <td>1044 Norwood Park Boulevard in Austin (TX)</td>\n",
       "      <td>Normal</td>\n",
       "      <td>Stray</td>\n",
       "      <td>Intact Male</td>\n",
       "      <td>1</td>\n",
       "      <td>30</td>\n",
       "      <td>0.082192</td>\n",
       "      <td>(-0.025, 2.5]</td>\n",
       "      <td>2018-03-28 18:08:00</td>\n",
       "      <td>3</td>\n",
       "      <td>2018</td>\n",
       "      <td>2018-03</td>\n",
       "      <td>Wednesday</td>\n",
       "      <td>18</td>\n",
       "      <td>1.0</td>\n",
       "      <td>5 days 00:57:00.000000000</td>\n",
       "      <td>5.039583</td>\n",
       "      <td>Black</td>\n",
       "      <td>1</td>\n",
       "      <td>White</td>\n",
       "      <td>1</td>\n",
       "      <td>1</td>\n",
       "      <td>1</td>\n",
       "      <td>Austin</td>\n",
       "      <td>30.271129</td>\n",
       "      <td>-97.74370</td>\n",
       "      <td>Austin</td>\n",
       "      <td>Pit Bull Mix</td>\n",
       "      <td>0</td>\n",
       "      <td>1</td>\n",
       "      <td>NaN</td>\n",
       "      <td>60.0</td>\n",
       "      <td>21.0</td>\n",
       "      <td>15.0</td>\n",
       "    </tr>\n",
       "    <tr>\n",
       "      <th>20578</th>\n",
       "      <td>20578</td>\n",
       "      <td>33251</td>\n",
       "      <td>79653</td>\n",
       "      <td>2 months</td>\n",
       "      <td>A769020</td>\n",
       "      <td>2018-01-18 00:00:00</td>\n",
       "      <td>NaN</td>\n",
       "      <td>Adoption</td>\n",
       "      <td>Neutered Male</td>\n",
       "      <td>60</td>\n",
       "      <td>0.164384</td>\n",
       "      <td>(-0.025, 2.5]</td>\n",
       "      <td>2018-04-01 17:27:00</td>\n",
       "      <td>4</td>\n",
       "      <td>2018</td>\n",
       "      <td>2018-04</td>\n",
       "      <td>Sunday</td>\n",
       "      <td>17</td>\n",
       "      <td>1.0</td>\n",
       "      <td>2018</td>\n",
       "      <td>1</td>\n",
       "      <td>2018-04</td>\n",
       "      <td>2 months</td>\n",
       "      <td>A769020</td>\n",
       "      <td>Dog</td>\n",
       "      <td>German Shepherd</td>\n",
       "      <td>Black/Tan</td>\n",
       "      <td>Austin (TX)</td>\n",
       "      <td>Normal</td>\n",
       "      <td>Stray</td>\n",
       "      <td>Intact Male</td>\n",
       "      <td>1</td>\n",
       "      <td>60</td>\n",
       "      <td>0.164384</td>\n",
       "      <td>(-0.025, 2.5]</td>\n",
       "      <td>2018-03-28 18:51:00</td>\n",
       "      <td>3</td>\n",
       "      <td>2018</td>\n",
       "      <td>2018-03</td>\n",
       "      <td>Wednesday</td>\n",
       "      <td>18</td>\n",
       "      <td>1.0</td>\n",
       "      <td>3 days 22:36:00.000000000</td>\n",
       "      <td>3.941667</td>\n",
       "      <td>Black</td>\n",
       "      <td>1</td>\n",
       "      <td>Tan</td>\n",
       "      <td>1</td>\n",
       "      <td>1</td>\n",
       "      <td>1</td>\n",
       "      <td>Austin</td>\n",
       "      <td>30.271129</td>\n",
       "      <td>-97.74370</td>\n",
       "      <td>Austin</td>\n",
       "      <td>German Shepherd</td>\n",
       "      <td>0</td>\n",
       "      <td>0</td>\n",
       "      <td>NaN</td>\n",
       "      <td>90.0</td>\n",
       "      <td>26.0</td>\n",
       "      <td>13.0</td>\n",
       "    </tr>\n",
       "    <tr>\n",
       "      <th>20579</th>\n",
       "      <td>20579</td>\n",
       "      <td>33252</td>\n",
       "      <td>79654</td>\n",
       "      <td>1 year</td>\n",
       "      <td>A769034</td>\n",
       "      <td>2017-03-29 00:00:00</td>\n",
       "      <td>NaN</td>\n",
       "      <td>Adoption</td>\n",
       "      <td>Spayed Female</td>\n",
       "      <td>365</td>\n",
       "      <td>1.000000</td>\n",
       "      <td>(-0.025, 2.5]</td>\n",
       "      <td>2018-04-03 15:23:00</td>\n",
       "      <td>4</td>\n",
       "      <td>2018</td>\n",
       "      <td>2018-04</td>\n",
       "      <td>Tuesday</td>\n",
       "      <td>15</td>\n",
       "      <td>1.0</td>\n",
       "      <td>2017</td>\n",
       "      <td>3</td>\n",
       "      <td>2018-04</td>\n",
       "      <td>1 year</td>\n",
       "      <td>A769034</td>\n",
       "      <td>Dog</td>\n",
       "      <td>Labrador Retriever/German Shepherd</td>\n",
       "      <td>Black/White</td>\n",
       "      <td>Alpine Drive And Vevey Drive in Del Valle (TX)</td>\n",
       "      <td>Normal</td>\n",
       "      <td>Stray</td>\n",
       "      <td>Spayed Female</td>\n",
       "      <td>1</td>\n",
       "      <td>365</td>\n",
       "      <td>1.000000</td>\n",
       "      <td>(-0.025, 2.5]</td>\n",
       "      <td>2018-03-29 11:44:00</td>\n",
       "      <td>3</td>\n",
       "      <td>2018</td>\n",
       "      <td>2018-03</td>\n",
       "      <td>Thursday</td>\n",
       "      <td>11</td>\n",
       "      <td>1.0</td>\n",
       "      <td>5 days 03:39:00.000000000</td>\n",
       "      <td>5.152083</td>\n",
       "      <td>Black</td>\n",
       "      <td>1</td>\n",
       "      <td>White</td>\n",
       "      <td>1</td>\n",
       "      <td>0</td>\n",
       "      <td>1</td>\n",
       "      <td>Del Valle</td>\n",
       "      <td>23.269927</td>\n",
       "      <td>-106.38944</td>\n",
       "      <td>South</td>\n",
       "      <td>Labrador Retriever</td>\n",
       "      <td>1</td>\n",
       "      <td>1</td>\n",
       "      <td>German Shepherd</td>\n",
       "      <td>85.0</td>\n",
       "      <td>25.0</td>\n",
       "      <td>13.0</td>\n",
       "    </tr>\n",
       "    <tr>\n",
       "      <th>20580</th>\n",
       "      <td>20580</td>\n",
       "      <td>33253</td>\n",
       "      <td>79655</td>\n",
       "      <td>1 year</td>\n",
       "      <td>A769036</td>\n",
       "      <td>2017-03-29 00:00:00</td>\n",
       "      <td>NaN</td>\n",
       "      <td>Adoption</td>\n",
       "      <td>Spayed Female</td>\n",
       "      <td>365</td>\n",
       "      <td>1.000000</td>\n",
       "      <td>(-0.025, 2.5]</td>\n",
       "      <td>2018-03-31 18:26:00</td>\n",
       "      <td>3</td>\n",
       "      <td>2018</td>\n",
       "      <td>2018-03</td>\n",
       "      <td>Saturday</td>\n",
       "      <td>18</td>\n",
       "      <td>1.0</td>\n",
       "      <td>2017</td>\n",
       "      <td>3</td>\n",
       "      <td>2018-03</td>\n",
       "      <td>1 year</td>\n",
       "      <td>A769036</td>\n",
       "      <td>Dog</td>\n",
       "      <td>Labrador Retriever/German Shepherd</td>\n",
       "      <td>Black/Tan</td>\n",
       "      <td>Alpine Drive And Vevey Drive in Del Valle (TX)</td>\n",
       "      <td>Normal</td>\n",
       "      <td>Stray</td>\n",
       "      <td>Spayed Female</td>\n",
       "      <td>1</td>\n",
       "      <td>365</td>\n",
       "      <td>1.000000</td>\n",
       "      <td>(-0.025, 2.5]</td>\n",
       "      <td>2018-03-29 11:44:00</td>\n",
       "      <td>3</td>\n",
       "      <td>2018</td>\n",
       "      <td>2018-03</td>\n",
       "      <td>Thursday</td>\n",
       "      <td>11</td>\n",
       "      <td>1.0</td>\n",
       "      <td>2 days 06:42:00.000000000</td>\n",
       "      <td>2.279167</td>\n",
       "      <td>Black</td>\n",
       "      <td>1</td>\n",
       "      <td>Tan</td>\n",
       "      <td>1</td>\n",
       "      <td>0</td>\n",
       "      <td>1</td>\n",
       "      <td>Del Valle</td>\n",
       "      <td>23.269927</td>\n",
       "      <td>-106.38944</td>\n",
       "      <td>South</td>\n",
       "      <td>Labrador Retriever</td>\n",
       "      <td>1</td>\n",
       "      <td>1</td>\n",
       "      <td>German Shepherd</td>\n",
       "      <td>85.0</td>\n",
       "      <td>25.0</td>\n",
       "      <td>13.0</td>\n",
       "    </tr>\n",
       "  </tbody>\n",
       "</table>\n",
       "<p>20581 rows × 61 columns</p>\n",
       "</div>"
      ],
      "text/plain": [
       "       Unnamed: 0  level_0  index age_upon_outcome animal_id_outcome  \\\n",
       "0               0        0     12         16 years           A200922   \n",
       "1               1        1     14         17 years           A210457   \n",
       "2               2        2     22         15 years           A226069   \n",
       "3               3        3     32         15 years           A249087   \n",
       "4               4        4     48         11 years           A274546   \n",
       "...           ...      ...    ...              ...               ...   \n",
       "20576       20576    33249  79647          7 years           A769012   \n",
       "20577       20577    33250  79649         2 months           A769014   \n",
       "20578       20578    33251  79653         2 months           A769020   \n",
       "20579       20579    33252  79654           1 year           A769034   \n",
       "20580       20580    33253  79655           1 year           A769036   \n",
       "\n",
       "             date_of_birth outcome_subtype outcome_type sex_upon_outcome  \\\n",
       "0      1997-10-03 00:00:00          Foster     Adoption    Neutered Male   \n",
       "1      1999-06-01 00:00:00          Foster     Adoption    Neutered Male   \n",
       "2      2000-06-17 00:00:00          Foster     Adoption    Neutered Male   \n",
       "3      2001-01-02 00:00:00          Foster     Adoption    Spayed Female   \n",
       "4      2002-05-25 00:00:00             NaN     Adoption    Spayed Female   \n",
       "...                    ...             ...          ...              ...   \n",
       "20576  2011-03-29 00:00:00             NaN     Adoption    Spayed Female   \n",
       "20577  2018-01-28 00:00:00             NaN     Adoption    Neutered Male   \n",
       "20578  2018-01-18 00:00:00             NaN     Adoption    Neutered Male   \n",
       "20579  2017-03-29 00:00:00             NaN     Adoption    Spayed Female   \n",
       "20580  2017-03-29 00:00:00             NaN     Adoption    Spayed Female   \n",
       "\n",
       "       age_upon_outcome_(days)  age_upon_outcome_(years)  \\\n",
       "0                         5840                 16.000000   \n",
       "1                         6205                 17.000000   \n",
       "2                         5475                 15.000000   \n",
       "3                         5475                 15.000000   \n",
       "4                         4015                 11.000000   \n",
       "...                        ...                       ...   \n",
       "20576                     2555                  7.000000   \n",
       "20577                       60                  0.164384   \n",
       "20578                       60                  0.164384   \n",
       "20579                      365                  1.000000   \n",
       "20580                      365                  1.000000   \n",
       "\n",
       "      age_upon_outcome_age_group     outcome_datetime  outcome_month  \\\n",
       "0                   (15.0, 17.5]  2013-11-22 09:44:00             11   \n",
       "1                   (15.0, 17.5]  2016-10-07 12:34:00             10   \n",
       "2                   (12.5, 15.0]  2015-10-29 15:00:00             10   \n",
       "3                   (12.5, 15.0]  2016-11-15 10:37:00             11   \n",
       "4                   (10.0, 12.5]  2013-11-16 12:24:00             11   \n",
       "...                          ...                  ...            ...   \n",
       "20576                 (5.0, 7.5]  2018-04-01 12:36:00              4   \n",
       "20577              (-0.025, 2.5]  2018-04-02 19:05:00              4   \n",
       "20578              (-0.025, 2.5]  2018-04-01 17:27:00              4   \n",
       "20579              (-0.025, 2.5]  2018-04-03 15:23:00              4   \n",
       "20580              (-0.025, 2.5]  2018-03-31 18:26:00              3   \n",
       "\n",
       "       outcome_year outcome_monthyear outcome_weekday  outcome_hour  \\\n",
       "0              2013           2013-11          Friday             9   \n",
       "1              2016           2016-10          Friday            12   \n",
       "2              2015           2015-10        Thursday            15   \n",
       "3              2016           2016-11         Tuesday            10   \n",
       "4              2013           2013-11        Saturday            12   \n",
       "...             ...               ...             ...           ...   \n",
       "20576          2018           2018-04          Sunday            12   \n",
       "20577          2018           2018-04          Monday            19   \n",
       "20578          2018           2018-04          Sunday            17   \n",
       "20579          2018           2018-04         Tuesday            15   \n",
       "20580          2018           2018-03        Saturday            18   \n",
       "\n",
       "       outcome_number  dob_year  dob_month dob_monthyear age_upon_intake  \\\n",
       "0                 1.0      1997         10       2013-11        16 years   \n",
       "1                 1.0      1999          6       2016-10        17 years   \n",
       "2                 1.0      2000          6       2015-10        15 years   \n",
       "3                 1.0      2001          1       2016-11        15 years   \n",
       "4                 1.0      2002          5       2013-11        11 years   \n",
       "...               ...       ...        ...           ...             ...   \n",
       "20576             1.0      2011          3       2018-04         7 years   \n",
       "20577             1.0      2018          1       2018-04         1 month   \n",
       "20578             1.0      2018          1       2018-04        2 months   \n",
       "20579             1.0      2017          3       2018-04          1 year   \n",
       "20580             1.0      2017          3       2018-03          1 year   \n",
       "\n",
       "      animal_id_intake animal_type                               breed  \\\n",
       "0              A200922         Dog                       Dachshund Mix   \n",
       "1              A210457         Dog                 Chihuahua Shorthair   \n",
       "2              A226069         Dog           Labrador Retriever/Beagle   \n",
       "3              A249087         Dog                 German Shepherd Mix   \n",
       "4              A274546         Dog                         Pointer Mix   \n",
       "...                ...         ...                                 ...   \n",
       "20576          A769012         Dog             Chihuahua Shorthair Mix   \n",
       "20577          A769014         Dog                        Pit Bull Mix   \n",
       "20578          A769020         Dog                     German Shepherd   \n",
       "20579          A769034         Dog  Labrador Retriever/German Shepherd   \n",
       "20580          A769036         Dog  Labrador Retriever/German Shepherd   \n",
       "\n",
       "             color                                  found_location  \\\n",
       "0        Black/Tan                                     Austin (TX)   \n",
       "1        Tan/Black                4424 S Mopac #412 in Austin (TX)   \n",
       "2      Sable/White        Wheless Ln And Berkman Dr in Austin (TX)   \n",
       "3      Black/Brown          E 6Th St And Pedernales in Austin (TX)   \n",
       "4         Tricolor           Manchaca And Slaughter in Austin (TX)   \n",
       "...            ...                                             ...   \n",
       "20576          Tan           Springdale And Govalle in Austin (TX)   \n",
       "20577  Black/White      1044 Norwood Park Boulevard in Austin (TX)   \n",
       "20578    Black/Tan                                     Austin (TX)   \n",
       "20579  Black/White  Alpine Drive And Vevey Drive in Del Valle (TX)   \n",
       "20580    Black/Tan  Alpine Drive And Vevey Drive in Del Valle (TX)   \n",
       "\n",
       "      intake_condition      intake_type sex_upon_intake  count  \\\n",
       "0               Normal  Owner Surrender   Neutered Male      1   \n",
       "1                 Aged    Public Assist   Neutered Male      1   \n",
       "2               Normal            Stray   Neutered Male      1   \n",
       "3               Normal            Stray   Spayed Female      1   \n",
       "4               Normal            Stray   Spayed Female      1   \n",
       "...                ...              ...             ...    ...   \n",
       "20576           Normal            Stray   Spayed Female      1   \n",
       "20577           Normal            Stray     Intact Male      1   \n",
       "20578           Normal            Stray     Intact Male      1   \n",
       "20579           Normal            Stray   Spayed Female      1   \n",
       "20580           Normal            Stray   Spayed Female      1   \n",
       "\n",
       "       age_upon_intake_days  age_upon_intake_tears age_upon_intake_age_group  \\\n",
       "0                      5840              16.000000              (15.0, 17.5]   \n",
       "1                      6205              17.000000              (15.0, 17.5]   \n",
       "2                      5475              15.000000              (12.5, 15.0]   \n",
       "3                      5475              15.000000              (12.5, 15.0]   \n",
       "4                      4015              11.000000              (10.0, 12.5]   \n",
       "...                     ...                    ...                       ...   \n",
       "20576                  2555               7.000000                (5.0, 7.5]   \n",
       "20577                    30               0.082192             (-0.025, 2.5]   \n",
       "20578                    60               0.164384             (-0.025, 2.5]   \n",
       "20579                   365               1.000000             (-0.025, 2.5]   \n",
       "20580                   365               1.000000             (-0.025, 2.5]   \n",
       "\n",
       "           intake_datetime  intake_month  intake_year intake_monthyear  \\\n",
       "0      2013-10-03 15:47:00            10         2013          2013-10   \n",
       "1      2016-09-28 12:05:00             9         2016          2016-09   \n",
       "2      2015-10-06 12:29:00            10         2015          2015-10   \n",
       "3      2016-08-17 14:05:00             8         2016          2016-08   \n",
       "4      2013-11-13 18:16:00            11         2013          2013-11   \n",
       "...                    ...           ...          ...              ...   \n",
       "20576  2018-03-28 17:48:00             3         2018          2018-03   \n",
       "20577  2018-03-28 18:08:00             3         2018          2018-03   \n",
       "20578  2018-03-28 18:51:00             3         2018          2018-03   \n",
       "20579  2018-03-29 11:44:00             3         2018          2018-03   \n",
       "20580  2018-03-29 11:44:00             3         2018          2018-03   \n",
       "\n",
       "      intake_weekday  intake_hour  intake_number             time_in_shelter  \\\n",
       "0           Thursday           15            1.0  49 days 17:57:00.000000000   \n",
       "1          Wednesday           12            1.0   9 days 00:29:00.000000000   \n",
       "2            Tuesday           12            1.0  23 days 02:31:00.000000000   \n",
       "3          Wednesday           14            1.0  89 days 20:32:00.000000000   \n",
       "4          Wednesday           18            1.0   2 days 18:08:00.000000000   \n",
       "...              ...          ...            ...                         ...   \n",
       "20576      Wednesday           17            1.0   3 days 18:48:00.000000000   \n",
       "20577      Wednesday           18            1.0   5 days 00:57:00.000000000   \n",
       "20578      Wednesday           18            1.0   3 days 22:36:00.000000000   \n",
       "20579       Thursday           11            1.0   5 days 03:39:00.000000000   \n",
       "20580       Thursday           11            1.0   2 days 06:42:00.000000000   \n",
       "\n",
       "       time_in_shelter_days    color1  has_second_color color2  is_dog  \\\n",
       "0                 49.747917     Black                 1    Tan       1   \n",
       "1                  9.020139       Tan                 1  Black       1   \n",
       "2                 23.104861     Sable                 1  White       1   \n",
       "3                 89.855556     Black                 1  Brown       1   \n",
       "4                  2.755556  Tricolor                 0    NaN       1   \n",
       "...                     ...       ...               ...    ...     ...   \n",
       "20576              3.783333       Tan                 0    NaN       1   \n",
       "20577              5.039583     Black                 1  White       1   \n",
       "20578              3.941667     Black                 1    Tan       1   \n",
       "20579              5.152083     Black                 1  White       1   \n",
       "20580              2.279167     Black                 1    Tan       1   \n",
       "\n",
       "       is_male  is_fixed found_city  found_lat  found_lon  region  \\\n",
       "0            1         1     Austin  30.271129  -97.74370  Austin   \n",
       "1            1         1     Austin  30.271129  -97.74370  Austin   \n",
       "2            1         1     Austin  30.271129  -97.74370  Austin   \n",
       "3            0         1     Austin  30.271129  -97.74370  Austin   \n",
       "4            0         1     Austin  30.271129  -97.74370  Austin   \n",
       "...        ...       ...        ...        ...        ...     ...   \n",
       "20576        0         1     Austin  30.271129  -97.74370  Austin   \n",
       "20577        1         1     Austin  30.271129  -97.74370  Austin   \n",
       "20578        1         1     Austin  30.271129  -97.74370  Austin   \n",
       "20579        0         1  Del Valle  23.269927 -106.38944   South   \n",
       "20580        0         1  Del Valle  23.269927 -106.38944   South   \n",
       "\n",
       "                        breed1  is_breed2  is_mix           breed2  \\\n",
       "0                Dachshund Mix          0       1              NaN   \n",
       "1          Chihuahua Shorthair          0       0              NaN   \n",
       "2           Labrador Retriever          1       1           Beagle   \n",
       "3          German Shepherd Mix          0       1              NaN   \n",
       "4                  Pointer Mix          0       1              NaN   \n",
       "...                        ...        ...     ...              ...   \n",
       "20576  Chihuahua Shorthair Mix          0       1              NaN   \n",
       "20577             Pit Bull Mix          0       1              NaN   \n",
       "20578          German Shepherd          0       0              NaN   \n",
       "20579       Labrador Retriever          1       1  German Shepherd   \n",
       "20580       Labrador Retriever          1       1  German Shepherd   \n",
       "\n",
       "       max_weight  max_height  max_life  \n",
       "0            32.0         9.0      15.0  \n",
       "1             6.0         8.0      16.0  \n",
       "2            57.5        19.5      14.5  \n",
       "3            90.0        26.0      13.0  \n",
       "4            75.0        28.0      17.0  \n",
       "...           ...         ...       ...  \n",
       "20576         6.0         8.0      16.0  \n",
       "20577        60.0        21.0      15.0  \n",
       "20578        90.0        26.0      13.0  \n",
       "20579        85.0        25.0      13.0  \n",
       "20580        85.0        25.0      13.0  \n",
       "\n",
       "[20581 rows x 61 columns]"
      ]
     },
     "execution_count": 94,
     "metadata": {},
     "output_type": "execute_result"
    }
   ],
   "source": [
    "df"
   ]
  },
  {
   "cell_type": "code",
   "execution_count": 95,
   "metadata": {},
   "outputs": [],
   "source": [
    "df.drop(['Unnamed: 0','level_0','index'],axis=1,inplace=True)"
   ]
  },
  {
   "cell_type": "code",
   "execution_count": 96,
   "metadata": {},
   "outputs": [],
   "source": [
    "df=df[(df['animal_type']== 'Dog')]\n",
    "df=df[df.outcome_type=='Adoption']"
   ]
  },
  {
   "cell_type": "code",
   "execution_count": 97,
   "metadata": {},
   "outputs": [
    {
     "data": {
      "text/html": [
       "<div>\n",
       "<style scoped>\n",
       "    .dataframe tbody tr th:only-of-type {\n",
       "        vertical-align: middle;\n",
       "    }\n",
       "\n",
       "    .dataframe tbody tr th {\n",
       "        vertical-align: top;\n",
       "    }\n",
       "\n",
       "    .dataframe thead th {\n",
       "        text-align: right;\n",
       "    }\n",
       "</style>\n",
       "<table border=\"1\" class=\"dataframe\">\n",
       "  <thead>\n",
       "    <tr style=\"text-align: right;\">\n",
       "      <th></th>\n",
       "      <th>age_upon_outcome</th>\n",
       "      <th>animal_id_outcome</th>\n",
       "      <th>date_of_birth</th>\n",
       "      <th>outcome_subtype</th>\n",
       "      <th>outcome_type</th>\n",
       "      <th>sex_upon_outcome</th>\n",
       "      <th>age_upon_outcome_(days)</th>\n",
       "      <th>age_upon_outcome_(years)</th>\n",
       "      <th>age_upon_outcome_age_group</th>\n",
       "      <th>outcome_datetime</th>\n",
       "      <th>outcome_month</th>\n",
       "      <th>outcome_year</th>\n",
       "      <th>outcome_monthyear</th>\n",
       "      <th>outcome_weekday</th>\n",
       "      <th>outcome_hour</th>\n",
       "      <th>outcome_number</th>\n",
       "      <th>dob_year</th>\n",
       "      <th>dob_month</th>\n",
       "      <th>dob_monthyear</th>\n",
       "      <th>age_upon_intake</th>\n",
       "      <th>animal_id_intake</th>\n",
       "      <th>animal_type</th>\n",
       "      <th>breed</th>\n",
       "      <th>color</th>\n",
       "      <th>found_location</th>\n",
       "      <th>intake_condition</th>\n",
       "      <th>intake_type</th>\n",
       "      <th>sex_upon_intake</th>\n",
       "      <th>count</th>\n",
       "      <th>age_upon_intake_days</th>\n",
       "      <th>age_upon_intake_tears</th>\n",
       "      <th>age_upon_intake_age_group</th>\n",
       "      <th>intake_datetime</th>\n",
       "      <th>intake_month</th>\n",
       "      <th>intake_year</th>\n",
       "      <th>intake_monthyear</th>\n",
       "      <th>intake_weekday</th>\n",
       "      <th>intake_hour</th>\n",
       "      <th>intake_number</th>\n",
       "      <th>time_in_shelter</th>\n",
       "      <th>time_in_shelter_days</th>\n",
       "      <th>color1</th>\n",
       "      <th>has_second_color</th>\n",
       "      <th>color2</th>\n",
       "      <th>is_dog</th>\n",
       "      <th>is_male</th>\n",
       "      <th>is_fixed</th>\n",
       "      <th>found_city</th>\n",
       "      <th>found_lat</th>\n",
       "      <th>found_lon</th>\n",
       "      <th>region</th>\n",
       "      <th>breed1</th>\n",
       "      <th>is_breed2</th>\n",
       "      <th>is_mix</th>\n",
       "      <th>breed2</th>\n",
       "      <th>max_weight</th>\n",
       "      <th>max_height</th>\n",
       "      <th>max_life</th>\n",
       "    </tr>\n",
       "  </thead>\n",
       "  <tbody>\n",
       "    <tr>\n",
       "      <th>0</th>\n",
       "      <td>16 years</td>\n",
       "      <td>A200922</td>\n",
       "      <td>1997-10-03 00:00:00</td>\n",
       "      <td>Foster</td>\n",
       "      <td>Adoption</td>\n",
       "      <td>Neutered Male</td>\n",
       "      <td>5840</td>\n",
       "      <td>16.000000</td>\n",
       "      <td>(15.0, 17.5]</td>\n",
       "      <td>2013-11-22 09:44:00</td>\n",
       "      <td>11</td>\n",
       "      <td>2013</td>\n",
       "      <td>2013-11</td>\n",
       "      <td>Friday</td>\n",
       "      <td>9</td>\n",
       "      <td>1.0</td>\n",
       "      <td>1997</td>\n",
       "      <td>10</td>\n",
       "      <td>2013-11</td>\n",
       "      <td>16 years</td>\n",
       "      <td>A200922</td>\n",
       "      <td>Dog</td>\n",
       "      <td>Dachshund Mix</td>\n",
       "      <td>Black/Tan</td>\n",
       "      <td>Austin (TX)</td>\n",
       "      <td>Normal</td>\n",
       "      <td>Owner Surrender</td>\n",
       "      <td>Neutered Male</td>\n",
       "      <td>1</td>\n",
       "      <td>5840</td>\n",
       "      <td>16.000000</td>\n",
       "      <td>(15.0, 17.5]</td>\n",
       "      <td>2013-10-03 15:47:00</td>\n",
       "      <td>10</td>\n",
       "      <td>2013</td>\n",
       "      <td>2013-10</td>\n",
       "      <td>Thursday</td>\n",
       "      <td>15</td>\n",
       "      <td>1.0</td>\n",
       "      <td>49 days 17:57:00.000000000</td>\n",
       "      <td>49.747917</td>\n",
       "      <td>Black</td>\n",
       "      <td>1</td>\n",
       "      <td>Tan</td>\n",
       "      <td>1</td>\n",
       "      <td>1</td>\n",
       "      <td>1</td>\n",
       "      <td>Austin</td>\n",
       "      <td>30.271129</td>\n",
       "      <td>-97.74370</td>\n",
       "      <td>Austin</td>\n",
       "      <td>Dachshund Mix</td>\n",
       "      <td>0</td>\n",
       "      <td>1</td>\n",
       "      <td>NaN</td>\n",
       "      <td>32.0</td>\n",
       "      <td>9.0</td>\n",
       "      <td>15.0</td>\n",
       "    </tr>\n",
       "    <tr>\n",
       "      <th>1</th>\n",
       "      <td>17 years</td>\n",
       "      <td>A210457</td>\n",
       "      <td>1999-06-01 00:00:00</td>\n",
       "      <td>Foster</td>\n",
       "      <td>Adoption</td>\n",
       "      <td>Neutered Male</td>\n",
       "      <td>6205</td>\n",
       "      <td>17.000000</td>\n",
       "      <td>(15.0, 17.5]</td>\n",
       "      <td>2016-10-07 12:34:00</td>\n",
       "      <td>10</td>\n",
       "      <td>2016</td>\n",
       "      <td>2016-10</td>\n",
       "      <td>Friday</td>\n",
       "      <td>12</td>\n",
       "      <td>1.0</td>\n",
       "      <td>1999</td>\n",
       "      <td>6</td>\n",
       "      <td>2016-10</td>\n",
       "      <td>17 years</td>\n",
       "      <td>A210457</td>\n",
       "      <td>Dog</td>\n",
       "      <td>Chihuahua Shorthair</td>\n",
       "      <td>Tan/Black</td>\n",
       "      <td>4424 S Mopac #412 in Austin (TX)</td>\n",
       "      <td>Aged</td>\n",
       "      <td>Public Assist</td>\n",
       "      <td>Neutered Male</td>\n",
       "      <td>1</td>\n",
       "      <td>6205</td>\n",
       "      <td>17.000000</td>\n",
       "      <td>(15.0, 17.5]</td>\n",
       "      <td>2016-09-28 12:05:00</td>\n",
       "      <td>9</td>\n",
       "      <td>2016</td>\n",
       "      <td>2016-09</td>\n",
       "      <td>Wednesday</td>\n",
       "      <td>12</td>\n",
       "      <td>1.0</td>\n",
       "      <td>9 days 00:29:00.000000000</td>\n",
       "      <td>9.020139</td>\n",
       "      <td>Tan</td>\n",
       "      <td>1</td>\n",
       "      <td>Black</td>\n",
       "      <td>1</td>\n",
       "      <td>1</td>\n",
       "      <td>1</td>\n",
       "      <td>Austin</td>\n",
       "      <td>30.271129</td>\n",
       "      <td>-97.74370</td>\n",
       "      <td>Austin</td>\n",
       "      <td>Chihuahua Shorthair</td>\n",
       "      <td>0</td>\n",
       "      <td>0</td>\n",
       "      <td>NaN</td>\n",
       "      <td>6.0</td>\n",
       "      <td>8.0</td>\n",
       "      <td>16.0</td>\n",
       "    </tr>\n",
       "    <tr>\n",
       "      <th>2</th>\n",
       "      <td>15 years</td>\n",
       "      <td>A226069</td>\n",
       "      <td>2000-06-17 00:00:00</td>\n",
       "      <td>Foster</td>\n",
       "      <td>Adoption</td>\n",
       "      <td>Neutered Male</td>\n",
       "      <td>5475</td>\n",
       "      <td>15.000000</td>\n",
       "      <td>(12.5, 15.0]</td>\n",
       "      <td>2015-10-29 15:00:00</td>\n",
       "      <td>10</td>\n",
       "      <td>2015</td>\n",
       "      <td>2015-10</td>\n",
       "      <td>Thursday</td>\n",
       "      <td>15</td>\n",
       "      <td>1.0</td>\n",
       "      <td>2000</td>\n",
       "      <td>6</td>\n",
       "      <td>2015-10</td>\n",
       "      <td>15 years</td>\n",
       "      <td>A226069</td>\n",
       "      <td>Dog</td>\n",
       "      <td>Labrador Retriever/Beagle</td>\n",
       "      <td>Sable/White</td>\n",
       "      <td>Wheless Ln And Berkman Dr in Austin (TX)</td>\n",
       "      <td>Normal</td>\n",
       "      <td>Stray</td>\n",
       "      <td>Neutered Male</td>\n",
       "      <td>1</td>\n",
       "      <td>5475</td>\n",
       "      <td>15.000000</td>\n",
       "      <td>(12.5, 15.0]</td>\n",
       "      <td>2015-10-06 12:29:00</td>\n",
       "      <td>10</td>\n",
       "      <td>2015</td>\n",
       "      <td>2015-10</td>\n",
       "      <td>Tuesday</td>\n",
       "      <td>12</td>\n",
       "      <td>1.0</td>\n",
       "      <td>23 days 02:31:00.000000000</td>\n",
       "      <td>23.104861</td>\n",
       "      <td>Sable</td>\n",
       "      <td>1</td>\n",
       "      <td>White</td>\n",
       "      <td>1</td>\n",
       "      <td>1</td>\n",
       "      <td>1</td>\n",
       "      <td>Austin</td>\n",
       "      <td>30.271129</td>\n",
       "      <td>-97.74370</td>\n",
       "      <td>Austin</td>\n",
       "      <td>Labrador Retriever</td>\n",
       "      <td>1</td>\n",
       "      <td>1</td>\n",
       "      <td>Beagle</td>\n",
       "      <td>57.5</td>\n",
       "      <td>19.5</td>\n",
       "      <td>14.5</td>\n",
       "    </tr>\n",
       "    <tr>\n",
       "      <th>3</th>\n",
       "      <td>15 years</td>\n",
       "      <td>A249087</td>\n",
       "      <td>2001-01-02 00:00:00</td>\n",
       "      <td>Foster</td>\n",
       "      <td>Adoption</td>\n",
       "      <td>Spayed Female</td>\n",
       "      <td>5475</td>\n",
       "      <td>15.000000</td>\n",
       "      <td>(12.5, 15.0]</td>\n",
       "      <td>2016-11-15 10:37:00</td>\n",
       "      <td>11</td>\n",
       "      <td>2016</td>\n",
       "      <td>2016-11</td>\n",
       "      <td>Tuesday</td>\n",
       "      <td>10</td>\n",
       "      <td>1.0</td>\n",
       "      <td>2001</td>\n",
       "      <td>1</td>\n",
       "      <td>2016-11</td>\n",
       "      <td>15 years</td>\n",
       "      <td>A249087</td>\n",
       "      <td>Dog</td>\n",
       "      <td>German Shepherd Mix</td>\n",
       "      <td>Black/Brown</td>\n",
       "      <td>E 6Th St And Pedernales in Austin (TX)</td>\n",
       "      <td>Normal</td>\n",
       "      <td>Stray</td>\n",
       "      <td>Spayed Female</td>\n",
       "      <td>1</td>\n",
       "      <td>5475</td>\n",
       "      <td>15.000000</td>\n",
       "      <td>(12.5, 15.0]</td>\n",
       "      <td>2016-08-17 14:05:00</td>\n",
       "      <td>8</td>\n",
       "      <td>2016</td>\n",
       "      <td>2016-08</td>\n",
       "      <td>Wednesday</td>\n",
       "      <td>14</td>\n",
       "      <td>1.0</td>\n",
       "      <td>89 days 20:32:00.000000000</td>\n",
       "      <td>89.855556</td>\n",
       "      <td>Black</td>\n",
       "      <td>1</td>\n",
       "      <td>Brown</td>\n",
       "      <td>1</td>\n",
       "      <td>0</td>\n",
       "      <td>1</td>\n",
       "      <td>Austin</td>\n",
       "      <td>30.271129</td>\n",
       "      <td>-97.74370</td>\n",
       "      <td>Austin</td>\n",
       "      <td>German Shepherd Mix</td>\n",
       "      <td>0</td>\n",
       "      <td>1</td>\n",
       "      <td>NaN</td>\n",
       "      <td>90.0</td>\n",
       "      <td>26.0</td>\n",
       "      <td>13.0</td>\n",
       "    </tr>\n",
       "    <tr>\n",
       "      <th>4</th>\n",
       "      <td>11 years</td>\n",
       "      <td>A274546</td>\n",
       "      <td>2002-05-25 00:00:00</td>\n",
       "      <td>NaN</td>\n",
       "      <td>Adoption</td>\n",
       "      <td>Spayed Female</td>\n",
       "      <td>4015</td>\n",
       "      <td>11.000000</td>\n",
       "      <td>(10.0, 12.5]</td>\n",
       "      <td>2013-11-16 12:24:00</td>\n",
       "      <td>11</td>\n",
       "      <td>2013</td>\n",
       "      <td>2013-11</td>\n",
       "      <td>Saturday</td>\n",
       "      <td>12</td>\n",
       "      <td>1.0</td>\n",
       "      <td>2002</td>\n",
       "      <td>5</td>\n",
       "      <td>2013-11</td>\n",
       "      <td>11 years</td>\n",
       "      <td>A274546</td>\n",
       "      <td>Dog</td>\n",
       "      <td>Pointer Mix</td>\n",
       "      <td>Tricolor</td>\n",
       "      <td>Manchaca And Slaughter in Austin (TX)</td>\n",
       "      <td>Normal</td>\n",
       "      <td>Stray</td>\n",
       "      <td>Spayed Female</td>\n",
       "      <td>1</td>\n",
       "      <td>4015</td>\n",
       "      <td>11.000000</td>\n",
       "      <td>(10.0, 12.5]</td>\n",
       "      <td>2013-11-13 18:16:00</td>\n",
       "      <td>11</td>\n",
       "      <td>2013</td>\n",
       "      <td>2013-11</td>\n",
       "      <td>Wednesday</td>\n",
       "      <td>18</td>\n",
       "      <td>1.0</td>\n",
       "      <td>2 days 18:08:00.000000000</td>\n",
       "      <td>2.755556</td>\n",
       "      <td>Tricolor</td>\n",
       "      <td>0</td>\n",
       "      <td>NaN</td>\n",
       "      <td>1</td>\n",
       "      <td>0</td>\n",
       "      <td>1</td>\n",
       "      <td>Austin</td>\n",
       "      <td>30.271129</td>\n",
       "      <td>-97.74370</td>\n",
       "      <td>Austin</td>\n",
       "      <td>Pointer Mix</td>\n",
       "      <td>0</td>\n",
       "      <td>1</td>\n",
       "      <td>NaN</td>\n",
       "      <td>75.0</td>\n",
       "      <td>28.0</td>\n",
       "      <td>17.0</td>\n",
       "    </tr>\n",
       "    <tr>\n",
       "      <th>...</th>\n",
       "      <td>...</td>\n",
       "      <td>...</td>\n",
       "      <td>...</td>\n",
       "      <td>...</td>\n",
       "      <td>...</td>\n",
       "      <td>...</td>\n",
       "      <td>...</td>\n",
       "      <td>...</td>\n",
       "      <td>...</td>\n",
       "      <td>...</td>\n",
       "      <td>...</td>\n",
       "      <td>...</td>\n",
       "      <td>...</td>\n",
       "      <td>...</td>\n",
       "      <td>...</td>\n",
       "      <td>...</td>\n",
       "      <td>...</td>\n",
       "      <td>...</td>\n",
       "      <td>...</td>\n",
       "      <td>...</td>\n",
       "      <td>...</td>\n",
       "      <td>...</td>\n",
       "      <td>...</td>\n",
       "      <td>...</td>\n",
       "      <td>...</td>\n",
       "      <td>...</td>\n",
       "      <td>...</td>\n",
       "      <td>...</td>\n",
       "      <td>...</td>\n",
       "      <td>...</td>\n",
       "      <td>...</td>\n",
       "      <td>...</td>\n",
       "      <td>...</td>\n",
       "      <td>...</td>\n",
       "      <td>...</td>\n",
       "      <td>...</td>\n",
       "      <td>...</td>\n",
       "      <td>...</td>\n",
       "      <td>...</td>\n",
       "      <td>...</td>\n",
       "      <td>...</td>\n",
       "      <td>...</td>\n",
       "      <td>...</td>\n",
       "      <td>...</td>\n",
       "      <td>...</td>\n",
       "      <td>...</td>\n",
       "      <td>...</td>\n",
       "      <td>...</td>\n",
       "      <td>...</td>\n",
       "      <td>...</td>\n",
       "      <td>...</td>\n",
       "      <td>...</td>\n",
       "      <td>...</td>\n",
       "      <td>...</td>\n",
       "      <td>...</td>\n",
       "      <td>...</td>\n",
       "      <td>...</td>\n",
       "      <td>...</td>\n",
       "    </tr>\n",
       "    <tr>\n",
       "      <th>20576</th>\n",
       "      <td>7 years</td>\n",
       "      <td>A769012</td>\n",
       "      <td>2011-03-29 00:00:00</td>\n",
       "      <td>NaN</td>\n",
       "      <td>Adoption</td>\n",
       "      <td>Spayed Female</td>\n",
       "      <td>2555</td>\n",
       "      <td>7.000000</td>\n",
       "      <td>(5.0, 7.5]</td>\n",
       "      <td>2018-04-01 12:36:00</td>\n",
       "      <td>4</td>\n",
       "      <td>2018</td>\n",
       "      <td>2018-04</td>\n",
       "      <td>Sunday</td>\n",
       "      <td>12</td>\n",
       "      <td>1.0</td>\n",
       "      <td>2011</td>\n",
       "      <td>3</td>\n",
       "      <td>2018-04</td>\n",
       "      <td>7 years</td>\n",
       "      <td>A769012</td>\n",
       "      <td>Dog</td>\n",
       "      <td>Chihuahua Shorthair Mix</td>\n",
       "      <td>Tan</td>\n",
       "      <td>Springdale And Govalle in Austin (TX)</td>\n",
       "      <td>Normal</td>\n",
       "      <td>Stray</td>\n",
       "      <td>Spayed Female</td>\n",
       "      <td>1</td>\n",
       "      <td>2555</td>\n",
       "      <td>7.000000</td>\n",
       "      <td>(5.0, 7.5]</td>\n",
       "      <td>2018-03-28 17:48:00</td>\n",
       "      <td>3</td>\n",
       "      <td>2018</td>\n",
       "      <td>2018-03</td>\n",
       "      <td>Wednesday</td>\n",
       "      <td>17</td>\n",
       "      <td>1.0</td>\n",
       "      <td>3 days 18:48:00.000000000</td>\n",
       "      <td>3.783333</td>\n",
       "      <td>Tan</td>\n",
       "      <td>0</td>\n",
       "      <td>NaN</td>\n",
       "      <td>1</td>\n",
       "      <td>0</td>\n",
       "      <td>1</td>\n",
       "      <td>Austin</td>\n",
       "      <td>30.271129</td>\n",
       "      <td>-97.74370</td>\n",
       "      <td>Austin</td>\n",
       "      <td>Chihuahua Shorthair Mix</td>\n",
       "      <td>0</td>\n",
       "      <td>1</td>\n",
       "      <td>NaN</td>\n",
       "      <td>6.0</td>\n",
       "      <td>8.0</td>\n",
       "      <td>16.0</td>\n",
       "    </tr>\n",
       "    <tr>\n",
       "      <th>20577</th>\n",
       "      <td>2 months</td>\n",
       "      <td>A769014</td>\n",
       "      <td>2018-01-28 00:00:00</td>\n",
       "      <td>NaN</td>\n",
       "      <td>Adoption</td>\n",
       "      <td>Neutered Male</td>\n",
       "      <td>60</td>\n",
       "      <td>0.164384</td>\n",
       "      <td>(-0.025, 2.5]</td>\n",
       "      <td>2018-04-02 19:05:00</td>\n",
       "      <td>4</td>\n",
       "      <td>2018</td>\n",
       "      <td>2018-04</td>\n",
       "      <td>Monday</td>\n",
       "      <td>19</td>\n",
       "      <td>1.0</td>\n",
       "      <td>2018</td>\n",
       "      <td>1</td>\n",
       "      <td>2018-04</td>\n",
       "      <td>1 month</td>\n",
       "      <td>A769014</td>\n",
       "      <td>Dog</td>\n",
       "      <td>Pit Bull Mix</td>\n",
       "      <td>Black/White</td>\n",
       "      <td>1044 Norwood Park Boulevard in Austin (TX)</td>\n",
       "      <td>Normal</td>\n",
       "      <td>Stray</td>\n",
       "      <td>Intact Male</td>\n",
       "      <td>1</td>\n",
       "      <td>30</td>\n",
       "      <td>0.082192</td>\n",
       "      <td>(-0.025, 2.5]</td>\n",
       "      <td>2018-03-28 18:08:00</td>\n",
       "      <td>3</td>\n",
       "      <td>2018</td>\n",
       "      <td>2018-03</td>\n",
       "      <td>Wednesday</td>\n",
       "      <td>18</td>\n",
       "      <td>1.0</td>\n",
       "      <td>5 days 00:57:00.000000000</td>\n",
       "      <td>5.039583</td>\n",
       "      <td>Black</td>\n",
       "      <td>1</td>\n",
       "      <td>White</td>\n",
       "      <td>1</td>\n",
       "      <td>1</td>\n",
       "      <td>1</td>\n",
       "      <td>Austin</td>\n",
       "      <td>30.271129</td>\n",
       "      <td>-97.74370</td>\n",
       "      <td>Austin</td>\n",
       "      <td>Pit Bull Mix</td>\n",
       "      <td>0</td>\n",
       "      <td>1</td>\n",
       "      <td>NaN</td>\n",
       "      <td>60.0</td>\n",
       "      <td>21.0</td>\n",
       "      <td>15.0</td>\n",
       "    </tr>\n",
       "    <tr>\n",
       "      <th>20578</th>\n",
       "      <td>2 months</td>\n",
       "      <td>A769020</td>\n",
       "      <td>2018-01-18 00:00:00</td>\n",
       "      <td>NaN</td>\n",
       "      <td>Adoption</td>\n",
       "      <td>Neutered Male</td>\n",
       "      <td>60</td>\n",
       "      <td>0.164384</td>\n",
       "      <td>(-0.025, 2.5]</td>\n",
       "      <td>2018-04-01 17:27:00</td>\n",
       "      <td>4</td>\n",
       "      <td>2018</td>\n",
       "      <td>2018-04</td>\n",
       "      <td>Sunday</td>\n",
       "      <td>17</td>\n",
       "      <td>1.0</td>\n",
       "      <td>2018</td>\n",
       "      <td>1</td>\n",
       "      <td>2018-04</td>\n",
       "      <td>2 months</td>\n",
       "      <td>A769020</td>\n",
       "      <td>Dog</td>\n",
       "      <td>German Shepherd</td>\n",
       "      <td>Black/Tan</td>\n",
       "      <td>Austin (TX)</td>\n",
       "      <td>Normal</td>\n",
       "      <td>Stray</td>\n",
       "      <td>Intact Male</td>\n",
       "      <td>1</td>\n",
       "      <td>60</td>\n",
       "      <td>0.164384</td>\n",
       "      <td>(-0.025, 2.5]</td>\n",
       "      <td>2018-03-28 18:51:00</td>\n",
       "      <td>3</td>\n",
       "      <td>2018</td>\n",
       "      <td>2018-03</td>\n",
       "      <td>Wednesday</td>\n",
       "      <td>18</td>\n",
       "      <td>1.0</td>\n",
       "      <td>3 days 22:36:00.000000000</td>\n",
       "      <td>3.941667</td>\n",
       "      <td>Black</td>\n",
       "      <td>1</td>\n",
       "      <td>Tan</td>\n",
       "      <td>1</td>\n",
       "      <td>1</td>\n",
       "      <td>1</td>\n",
       "      <td>Austin</td>\n",
       "      <td>30.271129</td>\n",
       "      <td>-97.74370</td>\n",
       "      <td>Austin</td>\n",
       "      <td>German Shepherd</td>\n",
       "      <td>0</td>\n",
       "      <td>0</td>\n",
       "      <td>NaN</td>\n",
       "      <td>90.0</td>\n",
       "      <td>26.0</td>\n",
       "      <td>13.0</td>\n",
       "    </tr>\n",
       "    <tr>\n",
       "      <th>20579</th>\n",
       "      <td>1 year</td>\n",
       "      <td>A769034</td>\n",
       "      <td>2017-03-29 00:00:00</td>\n",
       "      <td>NaN</td>\n",
       "      <td>Adoption</td>\n",
       "      <td>Spayed Female</td>\n",
       "      <td>365</td>\n",
       "      <td>1.000000</td>\n",
       "      <td>(-0.025, 2.5]</td>\n",
       "      <td>2018-04-03 15:23:00</td>\n",
       "      <td>4</td>\n",
       "      <td>2018</td>\n",
       "      <td>2018-04</td>\n",
       "      <td>Tuesday</td>\n",
       "      <td>15</td>\n",
       "      <td>1.0</td>\n",
       "      <td>2017</td>\n",
       "      <td>3</td>\n",
       "      <td>2018-04</td>\n",
       "      <td>1 year</td>\n",
       "      <td>A769034</td>\n",
       "      <td>Dog</td>\n",
       "      <td>Labrador Retriever/German Shepherd</td>\n",
       "      <td>Black/White</td>\n",
       "      <td>Alpine Drive And Vevey Drive in Del Valle (TX)</td>\n",
       "      <td>Normal</td>\n",
       "      <td>Stray</td>\n",
       "      <td>Spayed Female</td>\n",
       "      <td>1</td>\n",
       "      <td>365</td>\n",
       "      <td>1.000000</td>\n",
       "      <td>(-0.025, 2.5]</td>\n",
       "      <td>2018-03-29 11:44:00</td>\n",
       "      <td>3</td>\n",
       "      <td>2018</td>\n",
       "      <td>2018-03</td>\n",
       "      <td>Thursday</td>\n",
       "      <td>11</td>\n",
       "      <td>1.0</td>\n",
       "      <td>5 days 03:39:00.000000000</td>\n",
       "      <td>5.152083</td>\n",
       "      <td>Black</td>\n",
       "      <td>1</td>\n",
       "      <td>White</td>\n",
       "      <td>1</td>\n",
       "      <td>0</td>\n",
       "      <td>1</td>\n",
       "      <td>Del Valle</td>\n",
       "      <td>23.269927</td>\n",
       "      <td>-106.38944</td>\n",
       "      <td>South</td>\n",
       "      <td>Labrador Retriever</td>\n",
       "      <td>1</td>\n",
       "      <td>1</td>\n",
       "      <td>German Shepherd</td>\n",
       "      <td>85.0</td>\n",
       "      <td>25.0</td>\n",
       "      <td>13.0</td>\n",
       "    </tr>\n",
       "    <tr>\n",
       "      <th>20580</th>\n",
       "      <td>1 year</td>\n",
       "      <td>A769036</td>\n",
       "      <td>2017-03-29 00:00:00</td>\n",
       "      <td>NaN</td>\n",
       "      <td>Adoption</td>\n",
       "      <td>Spayed Female</td>\n",
       "      <td>365</td>\n",
       "      <td>1.000000</td>\n",
       "      <td>(-0.025, 2.5]</td>\n",
       "      <td>2018-03-31 18:26:00</td>\n",
       "      <td>3</td>\n",
       "      <td>2018</td>\n",
       "      <td>2018-03</td>\n",
       "      <td>Saturday</td>\n",
       "      <td>18</td>\n",
       "      <td>1.0</td>\n",
       "      <td>2017</td>\n",
       "      <td>3</td>\n",
       "      <td>2018-03</td>\n",
       "      <td>1 year</td>\n",
       "      <td>A769036</td>\n",
       "      <td>Dog</td>\n",
       "      <td>Labrador Retriever/German Shepherd</td>\n",
       "      <td>Black/Tan</td>\n",
       "      <td>Alpine Drive And Vevey Drive in Del Valle (TX)</td>\n",
       "      <td>Normal</td>\n",
       "      <td>Stray</td>\n",
       "      <td>Spayed Female</td>\n",
       "      <td>1</td>\n",
       "      <td>365</td>\n",
       "      <td>1.000000</td>\n",
       "      <td>(-0.025, 2.5]</td>\n",
       "      <td>2018-03-29 11:44:00</td>\n",
       "      <td>3</td>\n",
       "      <td>2018</td>\n",
       "      <td>2018-03</td>\n",
       "      <td>Thursday</td>\n",
       "      <td>11</td>\n",
       "      <td>1.0</td>\n",
       "      <td>2 days 06:42:00.000000000</td>\n",
       "      <td>2.279167</td>\n",
       "      <td>Black</td>\n",
       "      <td>1</td>\n",
       "      <td>Tan</td>\n",
       "      <td>1</td>\n",
       "      <td>0</td>\n",
       "      <td>1</td>\n",
       "      <td>Del Valle</td>\n",
       "      <td>23.269927</td>\n",
       "      <td>-106.38944</td>\n",
       "      <td>South</td>\n",
       "      <td>Labrador Retriever</td>\n",
       "      <td>1</td>\n",
       "      <td>1</td>\n",
       "      <td>German Shepherd</td>\n",
       "      <td>85.0</td>\n",
       "      <td>25.0</td>\n",
       "      <td>13.0</td>\n",
       "    </tr>\n",
       "  </tbody>\n",
       "</table>\n",
       "<p>20432 rows × 58 columns</p>\n",
       "</div>"
      ],
      "text/plain": [
       "      age_upon_outcome animal_id_outcome        date_of_birth outcome_subtype  \\\n",
       "0             16 years           A200922  1997-10-03 00:00:00          Foster   \n",
       "1             17 years           A210457  1999-06-01 00:00:00          Foster   \n",
       "2             15 years           A226069  2000-06-17 00:00:00          Foster   \n",
       "3             15 years           A249087  2001-01-02 00:00:00          Foster   \n",
       "4             11 years           A274546  2002-05-25 00:00:00             NaN   \n",
       "...                ...               ...                  ...             ...   \n",
       "20576          7 years           A769012  2011-03-29 00:00:00             NaN   \n",
       "20577         2 months           A769014  2018-01-28 00:00:00             NaN   \n",
       "20578         2 months           A769020  2018-01-18 00:00:00             NaN   \n",
       "20579           1 year           A769034  2017-03-29 00:00:00             NaN   \n",
       "20580           1 year           A769036  2017-03-29 00:00:00             NaN   \n",
       "\n",
       "      outcome_type sex_upon_outcome  age_upon_outcome_(days)  \\\n",
       "0         Adoption    Neutered Male                     5840   \n",
       "1         Adoption    Neutered Male                     6205   \n",
       "2         Adoption    Neutered Male                     5475   \n",
       "3         Adoption    Spayed Female                     5475   \n",
       "4         Adoption    Spayed Female                     4015   \n",
       "...            ...              ...                      ...   \n",
       "20576     Adoption    Spayed Female                     2555   \n",
       "20577     Adoption    Neutered Male                       60   \n",
       "20578     Adoption    Neutered Male                       60   \n",
       "20579     Adoption    Spayed Female                      365   \n",
       "20580     Adoption    Spayed Female                      365   \n",
       "\n",
       "       age_upon_outcome_(years) age_upon_outcome_age_group  \\\n",
       "0                     16.000000               (15.0, 17.5]   \n",
       "1                     17.000000               (15.0, 17.5]   \n",
       "2                     15.000000               (12.5, 15.0]   \n",
       "3                     15.000000               (12.5, 15.0]   \n",
       "4                     11.000000               (10.0, 12.5]   \n",
       "...                         ...                        ...   \n",
       "20576                  7.000000                 (5.0, 7.5]   \n",
       "20577                  0.164384              (-0.025, 2.5]   \n",
       "20578                  0.164384              (-0.025, 2.5]   \n",
       "20579                  1.000000              (-0.025, 2.5]   \n",
       "20580                  1.000000              (-0.025, 2.5]   \n",
       "\n",
       "          outcome_datetime  outcome_month  outcome_year outcome_monthyear  \\\n",
       "0      2013-11-22 09:44:00             11          2013           2013-11   \n",
       "1      2016-10-07 12:34:00             10          2016           2016-10   \n",
       "2      2015-10-29 15:00:00             10          2015           2015-10   \n",
       "3      2016-11-15 10:37:00             11          2016           2016-11   \n",
       "4      2013-11-16 12:24:00             11          2013           2013-11   \n",
       "...                    ...            ...           ...               ...   \n",
       "20576  2018-04-01 12:36:00              4          2018           2018-04   \n",
       "20577  2018-04-02 19:05:00              4          2018           2018-04   \n",
       "20578  2018-04-01 17:27:00              4          2018           2018-04   \n",
       "20579  2018-04-03 15:23:00              4          2018           2018-04   \n",
       "20580  2018-03-31 18:26:00              3          2018           2018-03   \n",
       "\n",
       "      outcome_weekday  outcome_hour  outcome_number  dob_year  dob_month  \\\n",
       "0              Friday             9             1.0      1997         10   \n",
       "1              Friday            12             1.0      1999          6   \n",
       "2            Thursday            15             1.0      2000          6   \n",
       "3             Tuesday            10             1.0      2001          1   \n",
       "4            Saturday            12             1.0      2002          5   \n",
       "...               ...           ...             ...       ...        ...   \n",
       "20576          Sunday            12             1.0      2011          3   \n",
       "20577          Monday            19             1.0      2018          1   \n",
       "20578          Sunday            17             1.0      2018          1   \n",
       "20579         Tuesday            15             1.0      2017          3   \n",
       "20580        Saturday            18             1.0      2017          3   \n",
       "\n",
       "      dob_monthyear age_upon_intake animal_id_intake animal_type  \\\n",
       "0           2013-11        16 years          A200922         Dog   \n",
       "1           2016-10        17 years          A210457         Dog   \n",
       "2           2015-10        15 years          A226069         Dog   \n",
       "3           2016-11        15 years          A249087         Dog   \n",
       "4           2013-11        11 years          A274546         Dog   \n",
       "...             ...             ...              ...         ...   \n",
       "20576       2018-04         7 years          A769012         Dog   \n",
       "20577       2018-04         1 month          A769014         Dog   \n",
       "20578       2018-04        2 months          A769020         Dog   \n",
       "20579       2018-04          1 year          A769034         Dog   \n",
       "20580       2018-03          1 year          A769036         Dog   \n",
       "\n",
       "                                    breed        color  \\\n",
       "0                           Dachshund Mix    Black/Tan   \n",
       "1                     Chihuahua Shorthair    Tan/Black   \n",
       "2               Labrador Retriever/Beagle  Sable/White   \n",
       "3                     German Shepherd Mix  Black/Brown   \n",
       "4                             Pointer Mix     Tricolor   \n",
       "...                                   ...          ...   \n",
       "20576             Chihuahua Shorthair Mix          Tan   \n",
       "20577                        Pit Bull Mix  Black/White   \n",
       "20578                     German Shepherd    Black/Tan   \n",
       "20579  Labrador Retriever/German Shepherd  Black/White   \n",
       "20580  Labrador Retriever/German Shepherd    Black/Tan   \n",
       "\n",
       "                                       found_location intake_condition  \\\n",
       "0                                         Austin (TX)           Normal   \n",
       "1                    4424 S Mopac #412 in Austin (TX)             Aged   \n",
       "2            Wheless Ln And Berkman Dr in Austin (TX)           Normal   \n",
       "3              E 6Th St And Pedernales in Austin (TX)           Normal   \n",
       "4               Manchaca And Slaughter in Austin (TX)           Normal   \n",
       "...                                               ...              ...   \n",
       "20576           Springdale And Govalle in Austin (TX)           Normal   \n",
       "20577      1044 Norwood Park Boulevard in Austin (TX)           Normal   \n",
       "20578                                     Austin (TX)           Normal   \n",
       "20579  Alpine Drive And Vevey Drive in Del Valle (TX)           Normal   \n",
       "20580  Alpine Drive And Vevey Drive in Del Valle (TX)           Normal   \n",
       "\n",
       "           intake_type sex_upon_intake  count  age_upon_intake_days  \\\n",
       "0      Owner Surrender   Neutered Male      1                  5840   \n",
       "1        Public Assist   Neutered Male      1                  6205   \n",
       "2                Stray   Neutered Male      1                  5475   \n",
       "3                Stray   Spayed Female      1                  5475   \n",
       "4                Stray   Spayed Female      1                  4015   \n",
       "...                ...             ...    ...                   ...   \n",
       "20576            Stray   Spayed Female      1                  2555   \n",
       "20577            Stray     Intact Male      1                    30   \n",
       "20578            Stray     Intact Male      1                    60   \n",
       "20579            Stray   Spayed Female      1                   365   \n",
       "20580            Stray   Spayed Female      1                   365   \n",
       "\n",
       "       age_upon_intake_tears age_upon_intake_age_group      intake_datetime  \\\n",
       "0                  16.000000              (15.0, 17.5]  2013-10-03 15:47:00   \n",
       "1                  17.000000              (15.0, 17.5]  2016-09-28 12:05:00   \n",
       "2                  15.000000              (12.5, 15.0]  2015-10-06 12:29:00   \n",
       "3                  15.000000              (12.5, 15.0]  2016-08-17 14:05:00   \n",
       "4                  11.000000              (10.0, 12.5]  2013-11-13 18:16:00   \n",
       "...                      ...                       ...                  ...   \n",
       "20576               7.000000                (5.0, 7.5]  2018-03-28 17:48:00   \n",
       "20577               0.082192             (-0.025, 2.5]  2018-03-28 18:08:00   \n",
       "20578               0.164384             (-0.025, 2.5]  2018-03-28 18:51:00   \n",
       "20579               1.000000             (-0.025, 2.5]  2018-03-29 11:44:00   \n",
       "20580               1.000000             (-0.025, 2.5]  2018-03-29 11:44:00   \n",
       "\n",
       "       intake_month  intake_year intake_monthyear intake_weekday  intake_hour  \\\n",
       "0                10         2013          2013-10       Thursday           15   \n",
       "1                 9         2016          2016-09      Wednesday           12   \n",
       "2                10         2015          2015-10        Tuesday           12   \n",
       "3                 8         2016          2016-08      Wednesday           14   \n",
       "4                11         2013          2013-11      Wednesday           18   \n",
       "...             ...          ...              ...            ...          ...   \n",
       "20576             3         2018          2018-03      Wednesday           17   \n",
       "20577             3         2018          2018-03      Wednesday           18   \n",
       "20578             3         2018          2018-03      Wednesday           18   \n",
       "20579             3         2018          2018-03       Thursday           11   \n",
       "20580             3         2018          2018-03       Thursday           11   \n",
       "\n",
       "       intake_number             time_in_shelter  time_in_shelter_days  \\\n",
       "0                1.0  49 days 17:57:00.000000000             49.747917   \n",
       "1                1.0   9 days 00:29:00.000000000              9.020139   \n",
       "2                1.0  23 days 02:31:00.000000000             23.104861   \n",
       "3                1.0  89 days 20:32:00.000000000             89.855556   \n",
       "4                1.0   2 days 18:08:00.000000000              2.755556   \n",
       "...              ...                         ...                   ...   \n",
       "20576            1.0   3 days 18:48:00.000000000              3.783333   \n",
       "20577            1.0   5 days 00:57:00.000000000              5.039583   \n",
       "20578            1.0   3 days 22:36:00.000000000              3.941667   \n",
       "20579            1.0   5 days 03:39:00.000000000              5.152083   \n",
       "20580            1.0   2 days 06:42:00.000000000              2.279167   \n",
       "\n",
       "         color1  has_second_color color2  is_dog  is_male  is_fixed  \\\n",
       "0         Black                 1    Tan       1        1         1   \n",
       "1           Tan                 1  Black       1        1         1   \n",
       "2         Sable                 1  White       1        1         1   \n",
       "3         Black                 1  Brown       1        0         1   \n",
       "4      Tricolor                 0    NaN       1        0         1   \n",
       "...         ...               ...    ...     ...      ...       ...   \n",
       "20576       Tan                 0    NaN       1        0         1   \n",
       "20577     Black                 1  White       1        1         1   \n",
       "20578     Black                 1    Tan       1        1         1   \n",
       "20579     Black                 1  White       1        0         1   \n",
       "20580     Black                 1    Tan       1        0         1   \n",
       "\n",
       "      found_city  found_lat  found_lon  region                   breed1  \\\n",
       "0         Austin  30.271129  -97.74370  Austin            Dachshund Mix   \n",
       "1         Austin  30.271129  -97.74370  Austin      Chihuahua Shorthair   \n",
       "2         Austin  30.271129  -97.74370  Austin       Labrador Retriever   \n",
       "3         Austin  30.271129  -97.74370  Austin      German Shepherd Mix   \n",
       "4         Austin  30.271129  -97.74370  Austin              Pointer Mix   \n",
       "...          ...        ...        ...     ...                      ...   \n",
       "20576     Austin  30.271129  -97.74370  Austin  Chihuahua Shorthair Mix   \n",
       "20577     Austin  30.271129  -97.74370  Austin             Pit Bull Mix   \n",
       "20578     Austin  30.271129  -97.74370  Austin          German Shepherd   \n",
       "20579  Del Valle  23.269927 -106.38944   South       Labrador Retriever   \n",
       "20580  Del Valle  23.269927 -106.38944   South       Labrador Retriever   \n",
       "\n",
       "       is_breed2  is_mix           breed2  max_weight  max_height  max_life  \n",
       "0              0       1              NaN        32.0         9.0      15.0  \n",
       "1              0       0              NaN         6.0         8.0      16.0  \n",
       "2              1       1           Beagle        57.5        19.5      14.5  \n",
       "3              0       1              NaN        90.0        26.0      13.0  \n",
       "4              0       1              NaN        75.0        28.0      17.0  \n",
       "...          ...     ...              ...         ...         ...       ...  \n",
       "20576          0       1              NaN         6.0         8.0      16.0  \n",
       "20577          0       1              NaN        60.0        21.0      15.0  \n",
       "20578          0       0              NaN        90.0        26.0      13.0  \n",
       "20579          1       1  German Shepherd        85.0        25.0      13.0  \n",
       "20580          1       1  German Shepherd        85.0        25.0      13.0  \n",
       "\n",
       "[20432 rows x 58 columns]"
      ]
     },
     "execution_count": 97,
     "metadata": {},
     "output_type": "execute_result"
    }
   ],
   "source": [
    "df=df[df.time_in_shelter_days<300]\n",
    "df"
   ]
  },
  {
   "cell_type": "code",
   "execution_count": 98,
   "metadata": {},
   "outputs": [],
   "source": [
    "df.date_of_birth=df.date_of_birth.apply(lambda x: x[:10])"
   ]
  },
  {
   "cell_type": "code",
   "execution_count": 99,
   "metadata": {},
   "outputs": [],
   "source": [
    "df['outcome_datetime']=pd.to_datetime(df['outcome_datetime'])\n",
    "df['intake_datetime']=pd.to_datetime(df['intake_datetime'])"
   ]
  },
  {
   "cell_type": "code",
   "execution_count": 100,
   "metadata": {},
   "outputs": [],
   "source": [
    "df['time_in_shelter'] = df['outcome_datetime'] - df['intake_datetime']"
   ]
  },
  {
   "cell_type": "code",
   "execution_count": 101,
   "metadata": {},
   "outputs": [],
   "source": [
    "df['outcome_month']=df.outcome_datetime.apply(lambda x: str(x)[5:7])\n",
    "df['outcome_year']=df.outcome_datetime.apply(lambda x: str(x)[:4])\n",
    "df['outcome_weekday']=df.outcome_datetime.dt.dayofweek"
   ]
  },
  {
   "cell_type": "code",
   "execution_count": 102,
   "metadata": {},
   "outputs": [],
   "source": [
    "df['outcome_weekday']=df.outcome_datetime.dt.dayofweek"
   ]
  },
  {
   "cell_type": "code",
   "execution_count": 103,
   "metadata": {},
   "outputs": [],
   "source": [
    "df['intake_month']=df.intake_datetime.apply(lambda x: int(str(x)[5:7]))\n",
    "df['intake_year']=df.intake_datetime.apply(lambda x: int(str(x)[:4]))\n",
    "df['animal_id_intake']=df.animal_id_intake.apply(lambda x: int(x[1:]))\n",
    "df['intake_weekday']=df.intake_datetime.dt.dayofweek"
   ]
  },
  {
   "cell_type": "code",
   "execution_count": 116,
   "metadata": {},
   "outputs": [
    {
     "data": {
      "application/vnd.plotly.v1+json": {
       "config": {
        "plotlyServerURL": "https://plot.ly"
       },
       "data": [
        {
         "alignmentgroup": "True",
         "hovertemplate": "variable=intake_month<br>Months=%{x}<br>Amounts=%{y}<extra></extra>",
         "legendgroup": "intake_month",
         "marker": {
          "color": "#a8e6cf"
         },
         "name": "intake_month",
         "offsetgroup": "intake_month",
         "orientation": "v",
         "showlegend": true,
         "textposition": "auto",
         "type": "bar",
         "x": [
          1,
          2,
          12,
          10,
          3,
          6,
          5,
          11,
          8,
          7,
          9,
          4
         ],
         "xaxis": "x",
         "y": [
          1972,
          1878,
          1875,
          1817,
          1804,
          1677,
          1663,
          1656,
          1600,
          1548,
          1494,
          1448
         ],
         "yaxis": "y"
        }
       ],
       "layout": {
        "barmode": "relative",
        "legend": {
         "title": {
          "text": "variable"
         },
         "tracegroupgap": 0
        },
        "plot_bgcolor": "#8c9da9",
        "showlegend": false,
        "template": {
         "data": {
          "bar": [
           {
            "error_x": {
             "color": "#2a3f5f"
            },
            "error_y": {
             "color": "#2a3f5f"
            },
            "marker": {
             "line": {
              "color": "#E5ECF6",
              "width": 0.5
             }
            },
            "type": "bar"
           }
          ],
          "barpolar": [
           {
            "marker": {
             "line": {
              "color": "#E5ECF6",
              "width": 0.5
             }
            },
            "type": "barpolar"
           }
          ],
          "carpet": [
           {
            "aaxis": {
             "endlinecolor": "#2a3f5f",
             "gridcolor": "white",
             "linecolor": "white",
             "minorgridcolor": "white",
             "startlinecolor": "#2a3f5f"
            },
            "baxis": {
             "endlinecolor": "#2a3f5f",
             "gridcolor": "white",
             "linecolor": "white",
             "minorgridcolor": "white",
             "startlinecolor": "#2a3f5f"
            },
            "type": "carpet"
           }
          ],
          "choropleth": [
           {
            "colorbar": {
             "outlinewidth": 0,
             "ticks": ""
            },
            "type": "choropleth"
           }
          ],
          "contour": [
           {
            "colorbar": {
             "outlinewidth": 0,
             "ticks": ""
            },
            "colorscale": [
             [
              0,
              "#0d0887"
             ],
             [
              0.1111111111111111,
              "#46039f"
             ],
             [
              0.2222222222222222,
              "#7201a8"
             ],
             [
              0.3333333333333333,
              "#9c179e"
             ],
             [
              0.4444444444444444,
              "#bd3786"
             ],
             [
              0.5555555555555556,
              "#d8576b"
             ],
             [
              0.6666666666666666,
              "#ed7953"
             ],
             [
              0.7777777777777778,
              "#fb9f3a"
             ],
             [
              0.8888888888888888,
              "#fdca26"
             ],
             [
              1,
              "#f0f921"
             ]
            ],
            "type": "contour"
           }
          ],
          "contourcarpet": [
           {
            "colorbar": {
             "outlinewidth": 0,
             "ticks": ""
            },
            "type": "contourcarpet"
           }
          ],
          "heatmap": [
           {
            "colorbar": {
             "outlinewidth": 0,
             "ticks": ""
            },
            "colorscale": [
             [
              0,
              "#0d0887"
             ],
             [
              0.1111111111111111,
              "#46039f"
             ],
             [
              0.2222222222222222,
              "#7201a8"
             ],
             [
              0.3333333333333333,
              "#9c179e"
             ],
             [
              0.4444444444444444,
              "#bd3786"
             ],
             [
              0.5555555555555556,
              "#d8576b"
             ],
             [
              0.6666666666666666,
              "#ed7953"
             ],
             [
              0.7777777777777778,
              "#fb9f3a"
             ],
             [
              0.8888888888888888,
              "#fdca26"
             ],
             [
              1,
              "#f0f921"
             ]
            ],
            "type": "heatmap"
           }
          ],
          "heatmapgl": [
           {
            "colorbar": {
             "outlinewidth": 0,
             "ticks": ""
            },
            "colorscale": [
             [
              0,
              "#0d0887"
             ],
             [
              0.1111111111111111,
              "#46039f"
             ],
             [
              0.2222222222222222,
              "#7201a8"
             ],
             [
              0.3333333333333333,
              "#9c179e"
             ],
             [
              0.4444444444444444,
              "#bd3786"
             ],
             [
              0.5555555555555556,
              "#d8576b"
             ],
             [
              0.6666666666666666,
              "#ed7953"
             ],
             [
              0.7777777777777778,
              "#fb9f3a"
             ],
             [
              0.8888888888888888,
              "#fdca26"
             ],
             [
              1,
              "#f0f921"
             ]
            ],
            "type": "heatmapgl"
           }
          ],
          "histogram": [
           {
            "marker": {
             "colorbar": {
              "outlinewidth": 0,
              "ticks": ""
             }
            },
            "type": "histogram"
           }
          ],
          "histogram2d": [
           {
            "colorbar": {
             "outlinewidth": 0,
             "ticks": ""
            },
            "colorscale": [
             [
              0,
              "#0d0887"
             ],
             [
              0.1111111111111111,
              "#46039f"
             ],
             [
              0.2222222222222222,
              "#7201a8"
             ],
             [
              0.3333333333333333,
              "#9c179e"
             ],
             [
              0.4444444444444444,
              "#bd3786"
             ],
             [
              0.5555555555555556,
              "#d8576b"
             ],
             [
              0.6666666666666666,
              "#ed7953"
             ],
             [
              0.7777777777777778,
              "#fb9f3a"
             ],
             [
              0.8888888888888888,
              "#fdca26"
             ],
             [
              1,
              "#f0f921"
             ]
            ],
            "type": "histogram2d"
           }
          ],
          "histogram2dcontour": [
           {
            "colorbar": {
             "outlinewidth": 0,
             "ticks": ""
            },
            "colorscale": [
             [
              0,
              "#0d0887"
             ],
             [
              0.1111111111111111,
              "#46039f"
             ],
             [
              0.2222222222222222,
              "#7201a8"
             ],
             [
              0.3333333333333333,
              "#9c179e"
             ],
             [
              0.4444444444444444,
              "#bd3786"
             ],
             [
              0.5555555555555556,
              "#d8576b"
             ],
             [
              0.6666666666666666,
              "#ed7953"
             ],
             [
              0.7777777777777778,
              "#fb9f3a"
             ],
             [
              0.8888888888888888,
              "#fdca26"
             ],
             [
              1,
              "#f0f921"
             ]
            ],
            "type": "histogram2dcontour"
           }
          ],
          "mesh3d": [
           {
            "colorbar": {
             "outlinewidth": 0,
             "ticks": ""
            },
            "type": "mesh3d"
           }
          ],
          "parcoords": [
           {
            "line": {
             "colorbar": {
              "outlinewidth": 0,
              "ticks": ""
             }
            },
            "type": "parcoords"
           }
          ],
          "pie": [
           {
            "automargin": true,
            "type": "pie"
           }
          ],
          "scatter": [
           {
            "marker": {
             "colorbar": {
              "outlinewidth": 0,
              "ticks": ""
             }
            },
            "type": "scatter"
           }
          ],
          "scatter3d": [
           {
            "line": {
             "colorbar": {
              "outlinewidth": 0,
              "ticks": ""
             }
            },
            "marker": {
             "colorbar": {
              "outlinewidth": 0,
              "ticks": ""
             }
            },
            "type": "scatter3d"
           }
          ],
          "scattercarpet": [
           {
            "marker": {
             "colorbar": {
              "outlinewidth": 0,
              "ticks": ""
             }
            },
            "type": "scattercarpet"
           }
          ],
          "scattergeo": [
           {
            "marker": {
             "colorbar": {
              "outlinewidth": 0,
              "ticks": ""
             }
            },
            "type": "scattergeo"
           }
          ],
          "scattergl": [
           {
            "marker": {
             "colorbar": {
              "outlinewidth": 0,
              "ticks": ""
             }
            },
            "type": "scattergl"
           }
          ],
          "scattermapbox": [
           {
            "marker": {
             "colorbar": {
              "outlinewidth": 0,
              "ticks": ""
             }
            },
            "type": "scattermapbox"
           }
          ],
          "scatterpolar": [
           {
            "marker": {
             "colorbar": {
              "outlinewidth": 0,
              "ticks": ""
             }
            },
            "type": "scatterpolar"
           }
          ],
          "scatterpolargl": [
           {
            "marker": {
             "colorbar": {
              "outlinewidth": 0,
              "ticks": ""
             }
            },
            "type": "scatterpolargl"
           }
          ],
          "scatterternary": [
           {
            "marker": {
             "colorbar": {
              "outlinewidth": 0,
              "ticks": ""
             }
            },
            "type": "scatterternary"
           }
          ],
          "surface": [
           {
            "colorbar": {
             "outlinewidth": 0,
             "ticks": ""
            },
            "colorscale": [
             [
              0,
              "#0d0887"
             ],
             [
              0.1111111111111111,
              "#46039f"
             ],
             [
              0.2222222222222222,
              "#7201a8"
             ],
             [
              0.3333333333333333,
              "#9c179e"
             ],
             [
              0.4444444444444444,
              "#bd3786"
             ],
             [
              0.5555555555555556,
              "#d8576b"
             ],
             [
              0.6666666666666666,
              "#ed7953"
             ],
             [
              0.7777777777777778,
              "#fb9f3a"
             ],
             [
              0.8888888888888888,
              "#fdca26"
             ],
             [
              1,
              "#f0f921"
             ]
            ],
            "type": "surface"
           }
          ],
          "table": [
           {
            "cells": {
             "fill": {
              "color": "#EBF0F8"
             },
             "line": {
              "color": "white"
             }
            },
            "header": {
             "fill": {
              "color": "#C8D4E3"
             },
             "line": {
              "color": "white"
             }
            },
            "type": "table"
           }
          ]
         },
         "layout": {
          "annotationdefaults": {
           "arrowcolor": "#2a3f5f",
           "arrowhead": 0,
           "arrowwidth": 1
          },
          "coloraxis": {
           "colorbar": {
            "outlinewidth": 0,
            "ticks": ""
           }
          },
          "colorscale": {
           "diverging": [
            [
             0,
             "#8e0152"
            ],
            [
             0.1,
             "#c51b7d"
            ],
            [
             0.2,
             "#de77ae"
            ],
            [
             0.3,
             "#f1b6da"
            ],
            [
             0.4,
             "#fde0ef"
            ],
            [
             0.5,
             "#f7f7f7"
            ],
            [
             0.6,
             "#e6f5d0"
            ],
            [
             0.7,
             "#b8e186"
            ],
            [
             0.8,
             "#7fbc41"
            ],
            [
             0.9,
             "#4d9221"
            ],
            [
             1,
             "#276419"
            ]
           ],
           "sequential": [
            [
             0,
             "#0d0887"
            ],
            [
             0.1111111111111111,
             "#46039f"
            ],
            [
             0.2222222222222222,
             "#7201a8"
            ],
            [
             0.3333333333333333,
             "#9c179e"
            ],
            [
             0.4444444444444444,
             "#bd3786"
            ],
            [
             0.5555555555555556,
             "#d8576b"
            ],
            [
             0.6666666666666666,
             "#ed7953"
            ],
            [
             0.7777777777777778,
             "#fb9f3a"
            ],
            [
             0.8888888888888888,
             "#fdca26"
            ],
            [
             1,
             "#f0f921"
            ]
           ],
           "sequentialminus": [
            [
             0,
             "#0d0887"
            ],
            [
             0.1111111111111111,
             "#46039f"
            ],
            [
             0.2222222222222222,
             "#7201a8"
            ],
            [
             0.3333333333333333,
             "#9c179e"
            ],
            [
             0.4444444444444444,
             "#bd3786"
            ],
            [
             0.5555555555555556,
             "#d8576b"
            ],
            [
             0.6666666666666666,
             "#ed7953"
            ],
            [
             0.7777777777777778,
             "#fb9f3a"
            ],
            [
             0.8888888888888888,
             "#fdca26"
            ],
            [
             1,
             "#f0f921"
            ]
           ]
          },
          "colorway": [
           "#636efa",
           "#EF553B",
           "#00cc96",
           "#ab63fa",
           "#FFA15A",
           "#19d3f3",
           "#FF6692",
           "#B6E880",
           "#FF97FF",
           "#FECB52"
          ],
          "font": {
           "color": "#2a3f5f"
          },
          "geo": {
           "bgcolor": "white",
           "lakecolor": "white",
           "landcolor": "#E5ECF6",
           "showlakes": true,
           "showland": true,
           "subunitcolor": "white"
          },
          "hoverlabel": {
           "align": "left"
          },
          "hovermode": "closest",
          "mapbox": {
           "style": "light"
          },
          "paper_bgcolor": "white",
          "plot_bgcolor": "#E5ECF6",
          "polar": {
           "angularaxis": {
            "gridcolor": "white",
            "linecolor": "white",
            "ticks": ""
           },
           "bgcolor": "#E5ECF6",
           "radialaxis": {
            "gridcolor": "white",
            "linecolor": "white",
            "ticks": ""
           }
          },
          "scene": {
           "xaxis": {
            "backgroundcolor": "#E5ECF6",
            "gridcolor": "white",
            "gridwidth": 2,
            "linecolor": "white",
            "showbackground": true,
            "ticks": "",
            "zerolinecolor": "white"
           },
           "yaxis": {
            "backgroundcolor": "#E5ECF6",
            "gridcolor": "white",
            "gridwidth": 2,
            "linecolor": "white",
            "showbackground": true,
            "ticks": "",
            "zerolinecolor": "white"
           },
           "zaxis": {
            "backgroundcolor": "#E5ECF6",
            "gridcolor": "white",
            "gridwidth": 2,
            "linecolor": "white",
            "showbackground": true,
            "ticks": "",
            "zerolinecolor": "white"
           }
          },
          "shapedefaults": {
           "line": {
            "color": "#2a3f5f"
           }
          },
          "ternary": {
           "aaxis": {
            "gridcolor": "white",
            "linecolor": "white",
            "ticks": ""
           },
           "baxis": {
            "gridcolor": "white",
            "linecolor": "white",
            "ticks": ""
           },
           "bgcolor": "#E5ECF6",
           "caxis": {
            "gridcolor": "white",
            "linecolor": "white",
            "ticks": ""
           }
          },
          "title": {
           "x": 0.05
          },
          "xaxis": {
           "automargin": true,
           "gridcolor": "white",
           "linecolor": "white",
           "ticks": "",
           "title": {
            "standoff": 15
           },
           "zerolinecolor": "white",
           "zerolinewidth": 2
          },
          "yaxis": {
           "automargin": true,
           "gridcolor": "white",
           "linecolor": "white",
           "ticks": "",
           "title": {
            "standoff": 15
           },
           "zerolinecolor": "white",
           "zerolinewidth": 2
          }
         }
        },
        "title": {
         "text": "Amount of intakes per month"
        },
        "xaxis": {
         "anchor": "y",
         "domain": [
          0,
          1
         ],
         "ticktext": [
          "January",
          "February",
          "March",
          "April",
          "May",
          "June",
          "July",
          "August",
          "September",
          "October",
          "November",
          "December"
         ],
         "tickvals": [
          1,
          2,
          3,
          4,
          5,
          6,
          7,
          8,
          9,
          10,
          11,
          12
         ],
         "title": {
          "text": "Months"
         }
        },
        "yaxis": {
         "anchor": "x",
         "domain": [
          0,
          1
         ],
         "title": {
          "text": "Amounts"
         }
        }
       }
      },
      "text/html": [
       "<div>                            <div id=\"384c4c22-cbd9-4798-a65b-4d9e5903f6f8\" class=\"plotly-graph-div\" style=\"height:525px; width:100%;\"></div>            <script type=\"text/javascript\">                require([\"plotly\"], function(Plotly) {                    window.PLOTLYENV=window.PLOTLYENV || {};                                    if (document.getElementById(\"384c4c22-cbd9-4798-a65b-4d9e5903f6f8\")) {                    Plotly.newPlot(                        \"384c4c22-cbd9-4798-a65b-4d9e5903f6f8\",                        [{\"alignmentgroup\": \"True\", \"hovertemplate\": \"variable=intake_month<br>Months=%{x}<br>Amounts=%{y}<extra></extra>\", \"legendgroup\": \"intake_month\", \"marker\": {\"color\": \"#a8e6cf\"}, \"name\": \"intake_month\", \"offsetgroup\": \"intake_month\", \"orientation\": \"v\", \"showlegend\": true, \"textposition\": \"auto\", \"type\": \"bar\", \"x\": [1, 2, 12, 10, 3, 6, 5, 11, 8, 7, 9, 4], \"xaxis\": \"x\", \"y\": [1972, 1878, 1875, 1817, 1804, 1677, 1663, 1656, 1600, 1548, 1494, 1448], \"yaxis\": \"y\"}],                        {\"barmode\": \"relative\", \"legend\": {\"title\": {\"text\": \"variable\"}, \"tracegroupgap\": 0}, \"plot_bgcolor\": \"#8c9da9\", \"showlegend\": false, \"template\": {\"data\": {\"bar\": [{\"error_x\": {\"color\": \"#2a3f5f\"}, \"error_y\": {\"color\": \"#2a3f5f\"}, \"marker\": {\"line\": {\"color\": \"#E5ECF6\", \"width\": 0.5}}, \"type\": \"bar\"}], \"barpolar\": [{\"marker\": {\"line\": {\"color\": \"#E5ECF6\", \"width\": 0.5}}, \"type\": \"barpolar\"}], \"carpet\": [{\"aaxis\": {\"endlinecolor\": \"#2a3f5f\", \"gridcolor\": \"white\", \"linecolor\": \"white\", \"minorgridcolor\": \"white\", \"startlinecolor\": \"#2a3f5f\"}, \"baxis\": {\"endlinecolor\": \"#2a3f5f\", \"gridcolor\": \"white\", \"linecolor\": \"white\", \"minorgridcolor\": \"white\", \"startlinecolor\": \"#2a3f5f\"}, \"type\": \"carpet\"}], \"choropleth\": [{\"colorbar\": {\"outlinewidth\": 0, \"ticks\": \"\"}, \"type\": \"choropleth\"}], \"contour\": [{\"colorbar\": {\"outlinewidth\": 0, \"ticks\": \"\"}, \"colorscale\": [[0.0, \"#0d0887\"], [0.1111111111111111, \"#46039f\"], [0.2222222222222222, \"#7201a8\"], [0.3333333333333333, \"#9c179e\"], [0.4444444444444444, \"#bd3786\"], [0.5555555555555556, \"#d8576b\"], [0.6666666666666666, \"#ed7953\"], [0.7777777777777778, \"#fb9f3a\"], [0.8888888888888888, \"#fdca26\"], [1.0, \"#f0f921\"]], \"type\": \"contour\"}], \"contourcarpet\": [{\"colorbar\": {\"outlinewidth\": 0, \"ticks\": \"\"}, \"type\": \"contourcarpet\"}], \"heatmap\": [{\"colorbar\": {\"outlinewidth\": 0, \"ticks\": \"\"}, \"colorscale\": [[0.0, \"#0d0887\"], [0.1111111111111111, \"#46039f\"], [0.2222222222222222, \"#7201a8\"], [0.3333333333333333, \"#9c179e\"], [0.4444444444444444, \"#bd3786\"], [0.5555555555555556, \"#d8576b\"], [0.6666666666666666, \"#ed7953\"], [0.7777777777777778, \"#fb9f3a\"], [0.8888888888888888, \"#fdca26\"], [1.0, \"#f0f921\"]], \"type\": \"heatmap\"}], \"heatmapgl\": [{\"colorbar\": {\"outlinewidth\": 0, \"ticks\": \"\"}, \"colorscale\": [[0.0, \"#0d0887\"], [0.1111111111111111, \"#46039f\"], [0.2222222222222222, \"#7201a8\"], [0.3333333333333333, \"#9c179e\"], [0.4444444444444444, \"#bd3786\"], [0.5555555555555556, \"#d8576b\"], [0.6666666666666666, \"#ed7953\"], [0.7777777777777778, \"#fb9f3a\"], [0.8888888888888888, \"#fdca26\"], [1.0, \"#f0f921\"]], \"type\": \"heatmapgl\"}], \"histogram\": [{\"marker\": {\"colorbar\": {\"outlinewidth\": 0, \"ticks\": \"\"}}, \"type\": \"histogram\"}], \"histogram2d\": [{\"colorbar\": {\"outlinewidth\": 0, \"ticks\": \"\"}, \"colorscale\": [[0.0, \"#0d0887\"], [0.1111111111111111, \"#46039f\"], [0.2222222222222222, \"#7201a8\"], [0.3333333333333333, \"#9c179e\"], [0.4444444444444444, \"#bd3786\"], [0.5555555555555556, \"#d8576b\"], [0.6666666666666666, \"#ed7953\"], [0.7777777777777778, \"#fb9f3a\"], [0.8888888888888888, \"#fdca26\"], [1.0, \"#f0f921\"]], \"type\": \"histogram2d\"}], \"histogram2dcontour\": [{\"colorbar\": {\"outlinewidth\": 0, \"ticks\": \"\"}, \"colorscale\": [[0.0, \"#0d0887\"], [0.1111111111111111, \"#46039f\"], [0.2222222222222222, \"#7201a8\"], [0.3333333333333333, \"#9c179e\"], [0.4444444444444444, \"#bd3786\"], [0.5555555555555556, \"#d8576b\"], [0.6666666666666666, \"#ed7953\"], [0.7777777777777778, \"#fb9f3a\"], [0.8888888888888888, \"#fdca26\"], [1.0, \"#f0f921\"]], \"type\": \"histogram2dcontour\"}], \"mesh3d\": [{\"colorbar\": {\"outlinewidth\": 0, \"ticks\": \"\"}, \"type\": \"mesh3d\"}], \"parcoords\": [{\"line\": {\"colorbar\": {\"outlinewidth\": 0, \"ticks\": \"\"}}, \"type\": \"parcoords\"}], \"pie\": [{\"automargin\": true, \"type\": \"pie\"}], \"scatter\": [{\"marker\": {\"colorbar\": {\"outlinewidth\": 0, \"ticks\": \"\"}}, \"type\": \"scatter\"}], \"scatter3d\": [{\"line\": {\"colorbar\": {\"outlinewidth\": 0, \"ticks\": \"\"}}, \"marker\": {\"colorbar\": {\"outlinewidth\": 0, \"ticks\": \"\"}}, \"type\": \"scatter3d\"}], \"scattercarpet\": [{\"marker\": {\"colorbar\": {\"outlinewidth\": 0, \"ticks\": \"\"}}, \"type\": \"scattercarpet\"}], \"scattergeo\": [{\"marker\": {\"colorbar\": {\"outlinewidth\": 0, \"ticks\": \"\"}}, \"type\": \"scattergeo\"}], \"scattergl\": [{\"marker\": {\"colorbar\": {\"outlinewidth\": 0, \"ticks\": \"\"}}, \"type\": \"scattergl\"}], \"scattermapbox\": [{\"marker\": {\"colorbar\": {\"outlinewidth\": 0, \"ticks\": \"\"}}, \"type\": \"scattermapbox\"}], \"scatterpolar\": [{\"marker\": {\"colorbar\": {\"outlinewidth\": 0, \"ticks\": \"\"}}, \"type\": \"scatterpolar\"}], \"scatterpolargl\": [{\"marker\": {\"colorbar\": {\"outlinewidth\": 0, \"ticks\": \"\"}}, \"type\": \"scatterpolargl\"}], \"scatterternary\": [{\"marker\": {\"colorbar\": {\"outlinewidth\": 0, \"ticks\": \"\"}}, \"type\": \"scatterternary\"}], \"surface\": [{\"colorbar\": {\"outlinewidth\": 0, \"ticks\": \"\"}, \"colorscale\": [[0.0, \"#0d0887\"], [0.1111111111111111, \"#46039f\"], [0.2222222222222222, \"#7201a8\"], [0.3333333333333333, \"#9c179e\"], [0.4444444444444444, \"#bd3786\"], [0.5555555555555556, \"#d8576b\"], [0.6666666666666666, \"#ed7953\"], [0.7777777777777778, \"#fb9f3a\"], [0.8888888888888888, \"#fdca26\"], [1.0, \"#f0f921\"]], \"type\": \"surface\"}], \"table\": [{\"cells\": {\"fill\": {\"color\": \"#EBF0F8\"}, \"line\": {\"color\": \"white\"}}, \"header\": {\"fill\": {\"color\": \"#C8D4E3\"}, \"line\": {\"color\": \"white\"}}, \"type\": \"table\"}]}, \"layout\": {\"annotationdefaults\": {\"arrowcolor\": \"#2a3f5f\", \"arrowhead\": 0, \"arrowwidth\": 1}, \"coloraxis\": {\"colorbar\": {\"outlinewidth\": 0, \"ticks\": \"\"}}, \"colorscale\": {\"diverging\": [[0, \"#8e0152\"], [0.1, \"#c51b7d\"], [0.2, \"#de77ae\"], [0.3, \"#f1b6da\"], [0.4, \"#fde0ef\"], [0.5, \"#f7f7f7\"], [0.6, \"#e6f5d0\"], [0.7, \"#b8e186\"], [0.8, \"#7fbc41\"], [0.9, \"#4d9221\"], [1, \"#276419\"]], \"sequential\": [[0.0, \"#0d0887\"], [0.1111111111111111, \"#46039f\"], [0.2222222222222222, \"#7201a8\"], [0.3333333333333333, \"#9c179e\"], [0.4444444444444444, \"#bd3786\"], [0.5555555555555556, \"#d8576b\"], [0.6666666666666666, \"#ed7953\"], [0.7777777777777778, \"#fb9f3a\"], [0.8888888888888888, \"#fdca26\"], [1.0, \"#f0f921\"]], \"sequentialminus\": [[0.0, \"#0d0887\"], [0.1111111111111111, \"#46039f\"], [0.2222222222222222, \"#7201a8\"], [0.3333333333333333, \"#9c179e\"], [0.4444444444444444, \"#bd3786\"], [0.5555555555555556, \"#d8576b\"], [0.6666666666666666, \"#ed7953\"], [0.7777777777777778, \"#fb9f3a\"], [0.8888888888888888, \"#fdca26\"], [1.0, \"#f0f921\"]]}, \"colorway\": [\"#636efa\", \"#EF553B\", \"#00cc96\", \"#ab63fa\", \"#FFA15A\", \"#19d3f3\", \"#FF6692\", \"#B6E880\", \"#FF97FF\", \"#FECB52\"], \"font\": {\"color\": \"#2a3f5f\"}, \"geo\": {\"bgcolor\": \"white\", \"lakecolor\": \"white\", \"landcolor\": \"#E5ECF6\", \"showlakes\": true, \"showland\": true, \"subunitcolor\": \"white\"}, \"hoverlabel\": {\"align\": \"left\"}, \"hovermode\": \"closest\", \"mapbox\": {\"style\": \"light\"}, \"paper_bgcolor\": \"white\", \"plot_bgcolor\": \"#E5ECF6\", \"polar\": {\"angularaxis\": {\"gridcolor\": \"white\", \"linecolor\": \"white\", \"ticks\": \"\"}, \"bgcolor\": \"#E5ECF6\", \"radialaxis\": {\"gridcolor\": \"white\", \"linecolor\": \"white\", \"ticks\": \"\"}}, \"scene\": {\"xaxis\": {\"backgroundcolor\": \"#E5ECF6\", \"gridcolor\": \"white\", \"gridwidth\": 2, \"linecolor\": \"white\", \"showbackground\": true, \"ticks\": \"\", \"zerolinecolor\": \"white\"}, \"yaxis\": {\"backgroundcolor\": \"#E5ECF6\", \"gridcolor\": \"white\", \"gridwidth\": 2, \"linecolor\": \"white\", \"showbackground\": true, \"ticks\": \"\", \"zerolinecolor\": \"white\"}, \"zaxis\": {\"backgroundcolor\": \"#E5ECF6\", \"gridcolor\": \"white\", \"gridwidth\": 2, \"linecolor\": \"white\", \"showbackground\": true, \"ticks\": \"\", \"zerolinecolor\": \"white\"}}, \"shapedefaults\": {\"line\": {\"color\": \"#2a3f5f\"}}, \"ternary\": {\"aaxis\": {\"gridcolor\": \"white\", \"linecolor\": \"white\", \"ticks\": \"\"}, \"baxis\": {\"gridcolor\": \"white\", \"linecolor\": \"white\", \"ticks\": \"\"}, \"bgcolor\": \"#E5ECF6\", \"caxis\": {\"gridcolor\": \"white\", \"linecolor\": \"white\", \"ticks\": \"\"}}, \"title\": {\"x\": 0.05}, \"xaxis\": {\"automargin\": true, \"gridcolor\": \"white\", \"linecolor\": \"white\", \"ticks\": \"\", \"title\": {\"standoff\": 15}, \"zerolinecolor\": \"white\", \"zerolinewidth\": 2}, \"yaxis\": {\"automargin\": true, \"gridcolor\": \"white\", \"linecolor\": \"white\", \"ticks\": \"\", \"title\": {\"standoff\": 15}, \"zerolinecolor\": \"white\", \"zerolinewidth\": 2}}}, \"title\": {\"text\": \"Amount of intakes per month\"}, \"xaxis\": {\"anchor\": \"y\", \"domain\": [0.0, 1.0], \"ticktext\": [\"January\", \"February\", \"March\", \"April\", \"May\", \"June\", \"July\", \"August\", \"September\", \"October\", \"November\", \"December\"], \"tickvals\": [1, 2, 3, 4, 5, 6, 7, 8, 9, 10, 11, 12], \"title\": {\"text\": \"Months\"}}, \"yaxis\": {\"anchor\": \"x\", \"domain\": [0.0, 1.0], \"title\": {\"text\": \"Amounts\"}}},                        {\"responsive\": true}                    ).then(function(){\n",
       "                            \n",
       "var gd = document.getElementById('384c4c22-cbd9-4798-a65b-4d9e5903f6f8');\n",
       "var x = new MutationObserver(function (mutations, observer) {{\n",
       "        var display = window.getComputedStyle(gd).display;\n",
       "        if (!display || display === 'none') {{\n",
       "            console.log([gd, 'removed!']);\n",
       "            Plotly.purge(gd);\n",
       "            observer.disconnect();\n",
       "        }}\n",
       "}});\n",
       "\n",
       "// Listen for the removal of the full notebook cells\n",
       "var notebookContainer = gd.closest('#notebook-container');\n",
       "if (notebookContainer) {{\n",
       "    x.observe(notebookContainer, {childList: true});\n",
       "}}\n",
       "\n",
       "// Listen for the clearing of the current output cell\n",
       "var outputEl = gd.closest('.output');\n",
       "if (outputEl) {{\n",
       "    x.observe(outputEl, {childList: true});\n",
       "}}\n",
       "\n",
       "                        })                };                });            </script>        </div>"
      ]
     },
     "metadata": {},
     "output_type": "display_data"
    }
   ],
   "source": [
    "dt=df.intake_month.value_counts()\n",
    "fig=px.bar(dt, title=\"Amount of intakes per month\",labels={'index': 'Months','value':'Amounts'},color_discrete_sequence=['#a8e6cf'])\n",
    "fig.update_layout(\n",
    "    showlegend=False,\n",
    "    plot_bgcolor = '#8c9da9',\n",
    "    xaxis_tickvals=[1,2,3,4,5,6,7,8,9,10,11,12],\n",
    "    xaxis_ticktext=['January',\"February\",'March','April','May',\"June\",'July','August','September',\"October\",'November','December'],\n",
    "    )\n",
    "fig.show()"
   ]
  },
  {
   "cell_type": "code",
   "execution_count": 13,
   "metadata": {},
   "outputs": [],
   "source": [
    "condition=[\n",
    "    df['intake_condition'] == 'Aged',\n",
    "    df['intake_condition'] == 'Ferral',\n",
    "    df['intake_condition'] == 'Injured',\n",
    "    df['intake_condition'] == 'Normal',\n",
    "    df['intake_condition'] == 'Nursing',\n",
    "    df['intake_condition'] == 'Other',\n",
    "    df['intake_condition'] == 'Pregnant',\n",
    "    df['intake_condition'] == 'Sick'\n",
    "]\n",
    "choises=[\n",
    "    1,\n",
    "    0,\n",
    "    0,\n",
    "    1,\n",
    "    1,\n",
    "    1,\n",
    "    1,\n",
    "    0\n",
    "]\n",
    "df['health']=np.select(condition,choises)"
   ]
  },
  {
   "cell_type": "code",
   "execution_count": 14,
   "metadata": {},
   "outputs": [],
   "source": [
    "def unique_breed_dic (dictionary,column):\n",
    "    df=dictionary.copy()\n",
    "    df.reset_index(drop=True,inplace=True)\n",
    "    \n",
    "    list_of_breeds=[]\n",
    "    for i in range(len(df[column])):\n",
    "        if df[column][i].find('/')==-1:\n",
    "            list_of_breeds.append([df[column][i]])\n",
    "        else:\n",
    "            list_of_breeds.append(df[column][i].split('/'))\n",
    "        \n",
    "    list_of_breeds=[val for sublist in list_of_breeds for val in sublist]\n",
    "    \n",
    "    dup_list=[]\n",
    "    uniqe_list=[]\n",
    "\n",
    "\n",
    "    for i in list_of_breeds:\n",
    "        dup_list.append(i)\n",
    "    unique_list=list(set(dup_list))\n",
    "\n",
    "\n",
    "    for i in list_of_breeds:\n",
    "        dup_list.append(i)\n",
    "    unique_list=list(set(dup_list))\n",
    "    final_dic={}\n",
    "    for company in unique_list:\n",
    "        final_dic[company]=0\n",
    "\n",
    "    for company in dup_list:\n",
    "        final_dic[company]=final_dic[company]+1\n",
    "    return final_dic"
   ]
  },
  {
   "cell_type": "code",
   "execution_count": 15,
   "metadata": {
    "scrolled": true
   },
   "outputs": [],
   "source": [
    "brown=['Brown Brindle','Red','Liver','Brown','Tan','Ruddy','Chocolate','Brown Tiger','Sable']\n",
    "spotted=[\"Yellow Brindle\",'Blue Merle','Black Tiger','Red Merle', 'Liver Tick','Agouti','Blue Tick','Black Brindle','Fawn','Brown Merle','Red Tick']\n",
    "mustard=['Buff','Orange','Apricot']\n",
    "other=['Tricolor','Pink','Blue']\n",
    "white=['Silver','Cream','White']\n",
    "black=['Black','Black Smoke','Gray','Blue Tiger']\n",
    "gold=['Gold','Yellow', 'Blue Cream',]"
   ]
  },
  {
   "cell_type": "code",
   "execution_count": 16,
   "metadata": {},
   "outputs": [],
   "source": [
    "def color_bin (dfcol):\n",
    "    for i in range(len(brown)):\n",
    "        if dfcol[0]== brown[i]:\n",
    "            return 1\n",
    "\n",
    "    for i in range(len(spotted)):\n",
    "        if dfcol[0]== spotted[i]:\n",
    "            return 2\n",
    "\n",
    "    for i in range(len(mustard)):\n",
    "        if dfcol[0]== mustard[i]:\n",
    "            return 3\n",
    "\n",
    "    for i in range(len(other)):\n",
    "        if dfcol[0]== other[i]:\n",
    "            return 4\n",
    "\n",
    "    for i in range(len(white)):\n",
    "        if dfcol[0]== white[i]:\n",
    "            return 5\n",
    "\n",
    "    for i in range(len(black)):\n",
    "        if dfcol[0]== black[i]:\n",
    "            return 6\n",
    "\n",
    "    for i in range(len(gold)):\n",
    "        if dfcol[0]== gold[i]:\n",
    "            return 7"
   ]
  },
  {
   "cell_type": "code",
   "execution_count": 17,
   "metadata": {},
   "outputs": [],
   "source": [
    "conditions=[\n",
    "    (df.intake_type=='Owner Surrender')|(df.intake_type=='Euthanasia Request')\n",
    "]\n",
    "choises=[\n",
    "    1\n",
    "]\n",
    "\n",
    "df['was_owned']=np.select(conditions,choises,default=0)"
   ]
  },
  {
   "cell_type": "code",
   "execution_count": 32,
   "metadata": {},
   "outputs": [],
   "source": [
    "df['color_bin']=df.color.map(lambda x: color_bin(x))"
   ]
  },
  {
   "cell_type": "code",
   "execution_count": 33,
   "metadata": {
    "scrolled": true
   },
   "outputs": [
    {
     "ename": "AttributeError",
     "evalue": "'str' object has no attribute 'year'",
     "output_type": "error",
     "traceback": [
      "\u001b[0;31m---------------------------------------------------------------------------\u001b[0m",
      "\u001b[0;31mAttributeError\u001b[0m                            Traceback (most recent call last)",
      "\u001b[0;32m<timed exec>\u001b[0m in \u001b[0;36m<module>\u001b[0;34m\u001b[0m\n",
      "\u001b[0;32m~/opt/anaconda3/lib/python3.7/site-packages/pandas/core/series.py\u001b[0m in \u001b[0;36mmap\u001b[0;34m(self, arg, na_action)\u001b[0m\n\u001b[1;32m   3628\u001b[0m         \u001b[0mdtype\u001b[0m\u001b[0;34m:\u001b[0m \u001b[0mobject\u001b[0m\u001b[0;34m\u001b[0m\u001b[0;34m\u001b[0m\u001b[0m\n\u001b[1;32m   3629\u001b[0m         \"\"\"\n\u001b[0;32m-> 3630\u001b[0;31m         \u001b[0mnew_values\u001b[0m \u001b[0;34m=\u001b[0m \u001b[0msuper\u001b[0m\u001b[0;34m(\u001b[0m\u001b[0;34m)\u001b[0m\u001b[0;34m.\u001b[0m\u001b[0m_map_values\u001b[0m\u001b[0;34m(\u001b[0m\u001b[0marg\u001b[0m\u001b[0;34m,\u001b[0m \u001b[0mna_action\u001b[0m\u001b[0;34m=\u001b[0m\u001b[0mna_action\u001b[0m\u001b[0;34m)\u001b[0m\u001b[0;34m\u001b[0m\u001b[0;34m\u001b[0m\u001b[0m\n\u001b[0m\u001b[1;32m   3631\u001b[0m         \u001b[0;32mreturn\u001b[0m \u001b[0mself\u001b[0m\u001b[0;34m.\u001b[0m\u001b[0m_constructor\u001b[0m\u001b[0;34m(\u001b[0m\u001b[0mnew_values\u001b[0m\u001b[0;34m,\u001b[0m \u001b[0mindex\u001b[0m\u001b[0;34m=\u001b[0m\u001b[0mself\u001b[0m\u001b[0;34m.\u001b[0m\u001b[0mindex\u001b[0m\u001b[0;34m)\u001b[0m\u001b[0;34m.\u001b[0m\u001b[0m__finalize__\u001b[0m\u001b[0;34m(\u001b[0m\u001b[0mself\u001b[0m\u001b[0;34m)\u001b[0m\u001b[0;34m\u001b[0m\u001b[0;34m\u001b[0m\u001b[0m\n\u001b[1;32m   3632\u001b[0m \u001b[0;34m\u001b[0m\u001b[0m\n",
      "\u001b[0;32m~/opt/anaconda3/lib/python3.7/site-packages/pandas/core/base.py\u001b[0m in \u001b[0;36m_map_values\u001b[0;34m(self, mapper, na_action)\u001b[0m\n\u001b[1;32m   1152\u001b[0m \u001b[0;34m\u001b[0m\u001b[0m\n\u001b[1;32m   1153\u001b[0m         \u001b[0;31m# mapper is a function\u001b[0m\u001b[0;34m\u001b[0m\u001b[0;34m\u001b[0m\u001b[0;34m\u001b[0m\u001b[0m\n\u001b[0;32m-> 1154\u001b[0;31m         \u001b[0mnew_values\u001b[0m \u001b[0;34m=\u001b[0m \u001b[0mmap_f\u001b[0m\u001b[0;34m(\u001b[0m\u001b[0mvalues\u001b[0m\u001b[0;34m,\u001b[0m \u001b[0mmapper\u001b[0m\u001b[0;34m)\u001b[0m\u001b[0;34m\u001b[0m\u001b[0;34m\u001b[0m\u001b[0m\n\u001b[0m\u001b[1;32m   1155\u001b[0m \u001b[0;34m\u001b[0m\u001b[0m\n\u001b[1;32m   1156\u001b[0m         \u001b[0;32mreturn\u001b[0m \u001b[0mnew_values\u001b[0m\u001b[0;34m\u001b[0m\u001b[0;34m\u001b[0m\u001b[0m\n",
      "\u001b[0;32mpandas/_libs/lib.pyx\u001b[0m in \u001b[0;36mpandas._libs.lib.map_infer\u001b[0;34m()\u001b[0m\n",
      "\u001b[0;32m<timed exec>\u001b[0m in \u001b[0;36mseason_of_date\u001b[0;34m(date)\u001b[0m\n",
      "\u001b[0;31mAttributeError\u001b[0m: 'str' object has no attribute 'year'"
     ]
    }
   ],
   "source": [
    "%%time\n",
    "def season_of_date(date):\n",
    "    year = str(date.year)\n",
    "    seasons = {'Spring': pd.date_range(start='21/03/'+year, end='20/06/'+year),\n",
    "               'Summer': pd.date_range(start='21/06/'+year, end='22/09/'+year),\n",
    "               'Fall': pd.date_range(start='23/09/'+year, end='20/12/'+year)}\n",
    "    if date.date() in seasons['Spring']:\n",
    "        return 1\n",
    "    if date.date() in seasons['Summer']:\n",
    "        return 2\n",
    "    if date.date() in seasons['Fall']:\n",
    "        return 3\n",
    "    else:\n",
    "        return 4\n",
    "df['season'] = df.intake_datetime.map(season_of_date)"
   ]
  },
  {
   "cell_type": "code",
   "execution_count": 34,
   "metadata": {},
   "outputs": [
    {
     "ename": "TypeError",
     "evalue": "'int' object is not subscriptable",
     "output_type": "error",
     "traceback": [
      "\u001b[0;31m---------------------------------------------------------------------------\u001b[0m",
      "\u001b[0;31mTypeError\u001b[0m                                 Traceback (most recent call last)",
      "\u001b[0;32m<ipython-input-34-8f75985763b1>\u001b[0m in \u001b[0;36m<module>\u001b[0;34m\u001b[0m\n\u001b[1;32m      1\u001b[0m \u001b[0mdf\u001b[0m\u001b[0;34m[\u001b[0m\u001b[0;34m'time_in_shelter'\u001b[0m\u001b[0;34m]\u001b[0m\u001b[0;34m=\u001b[0m\u001b[0mdf\u001b[0m\u001b[0;34m.\u001b[0m\u001b[0mtime_in_shelter\u001b[0m\u001b[0;34m.\u001b[0m\u001b[0mapply\u001b[0m\u001b[0;34m(\u001b[0m\u001b[0;32mlambda\u001b[0m \u001b[0mx\u001b[0m\u001b[0;34m:\u001b[0m \u001b[0mint\u001b[0m\u001b[0;34m(\u001b[0m\u001b[0mstr\u001b[0m\u001b[0;34m(\u001b[0m\u001b[0mx\u001b[0m\u001b[0;34m)\u001b[0m\u001b[0;34m[\u001b[0m\u001b[0;34m:\u001b[0m\u001b[0;36m2\u001b[0m\u001b[0;34m]\u001b[0m\u001b[0;34m)\u001b[0m\u001b[0;34m)\u001b[0m\u001b[0;34m\u001b[0m\u001b[0;34m\u001b[0m\u001b[0m\n\u001b[1;32m      2\u001b[0m \u001b[0mdf\u001b[0m\u001b[0;34m[\u001b[0m\u001b[0;34m'intake_datetime'\u001b[0m\u001b[0;34m]\u001b[0m\u001b[0;34m=\u001b[0m\u001b[0mdf\u001b[0m\u001b[0;34m.\u001b[0m\u001b[0mintake_datetime\u001b[0m\u001b[0;34m.\u001b[0m\u001b[0mapply\u001b[0m\u001b[0;34m(\u001b[0m\u001b[0;32mlambda\u001b[0m \u001b[0mx\u001b[0m\u001b[0;34m:\u001b[0m \u001b[0mstr\u001b[0m\u001b[0;34m(\u001b[0m\u001b[0mstr\u001b[0m\u001b[0;34m(\u001b[0m\u001b[0mx\u001b[0m\u001b[0;34m)\u001b[0m\u001b[0;34m[\u001b[0m\u001b[0;34m:\u001b[0m\u001b[0;36m10\u001b[0m\u001b[0;34m]\u001b[0m\u001b[0;34m)\u001b[0m\u001b[0;34m)\u001b[0m\u001b[0;34m\u001b[0m\u001b[0;34m\u001b[0m\u001b[0m\n\u001b[0;32m----> 3\u001b[0;31m \u001b[0mdf\u001b[0m\u001b[0;34m[\u001b[0m\u001b[0;34m'age_upon_intake'\u001b[0m\u001b[0;34m]\u001b[0m\u001b[0;34m=\u001b[0m\u001b[0mdf\u001b[0m\u001b[0;34m.\u001b[0m\u001b[0mage_upon_intake\u001b[0m\u001b[0;34m.\u001b[0m\u001b[0mapply\u001b[0m\u001b[0;34m(\u001b[0m\u001b[0;32mlambda\u001b[0m \u001b[0mx\u001b[0m\u001b[0;34m:\u001b[0m \u001b[0mint\u001b[0m\u001b[0;34m(\u001b[0m\u001b[0mx\u001b[0m\u001b[0;34m[\u001b[0m\u001b[0;34m:\u001b[0m\u001b[0;36m2\u001b[0m\u001b[0;34m]\u001b[0m\u001b[0;34m)\u001b[0m\u001b[0;34m)\u001b[0m\u001b[0;34m\u001b[0m\u001b[0;34m\u001b[0m\u001b[0m\n\u001b[0m\u001b[1;32m      4\u001b[0m \u001b[0mdf\u001b[0m\u001b[0;34m[\u001b[0m\u001b[0;34m'age_upon_intake_age_group'\u001b[0m\u001b[0;34m]\u001b[0m\u001b[0;34m=\u001b[0m\u001b[0mdf\u001b[0m\u001b[0;34m.\u001b[0m\u001b[0mage_upon_intake_age_group\u001b[0m\u001b[0;34m.\u001b[0m\u001b[0mapply\u001b[0m\u001b[0;34m(\u001b[0m\u001b[0;32mlambda\u001b[0m \u001b[0mx\u001b[0m\u001b[0;34m:\u001b[0m \u001b[0mlist\u001b[0m\u001b[0;34m(\u001b[0m\u001b[0mmap\u001b[0m\u001b[0;34m(\u001b[0m\u001b[0mfloat\u001b[0m\u001b[0;34m,\u001b[0m\u001b[0mx\u001b[0m\u001b[0;34m.\u001b[0m\u001b[0mstrip\u001b[0m\u001b[0;34m(\u001b[0m\u001b[0;34m'(]'\u001b[0m\u001b[0;34m)\u001b[0m\u001b[0;34m.\u001b[0m\u001b[0msplit\u001b[0m\u001b[0;34m(\u001b[0m\u001b[0;34m','\u001b[0m\u001b[0;34m)\u001b[0m\u001b[0;34m)\u001b[0m\u001b[0;34m)\u001b[0m\u001b[0;34m)\u001b[0m\u001b[0;34m\u001b[0m\u001b[0;34m\u001b[0m\u001b[0m\n\u001b[1;32m      5\u001b[0m \u001b[0mdf\u001b[0m\u001b[0;34m[\u001b[0m\u001b[0;34m'color'\u001b[0m\u001b[0;34m]\u001b[0m\u001b[0;34m=\u001b[0m\u001b[0mdf\u001b[0m\u001b[0;34m.\u001b[0m\u001b[0mcolor\u001b[0m\u001b[0;34m.\u001b[0m\u001b[0mapply\u001b[0m\u001b[0;34m(\u001b[0m\u001b[0;32mlambda\u001b[0m \u001b[0mx\u001b[0m\u001b[0;34m:\u001b[0m \u001b[0mx\u001b[0m\u001b[0;34m.\u001b[0m\u001b[0mstrip\u001b[0m\u001b[0;34m(\u001b[0m\u001b[0;34m'/'\u001b[0m\u001b[0;34m)\u001b[0m\u001b[0;34m.\u001b[0m\u001b[0msplit\u001b[0m\u001b[0;34m(\u001b[0m\u001b[0;34m'/'\u001b[0m\u001b[0;34m)\u001b[0m\u001b[0;34m)\u001b[0m\u001b[0;34m\u001b[0m\u001b[0;34m\u001b[0m\u001b[0m\n",
      "\u001b[0;32m~/opt/anaconda3/lib/python3.7/site-packages/pandas/core/series.py\u001b[0m in \u001b[0;36mapply\u001b[0;34m(self, func, convert_dtype, args, **kwds)\u001b[0m\n\u001b[1;32m   3846\u001b[0m             \u001b[0;32melse\u001b[0m\u001b[0;34m:\u001b[0m\u001b[0;34m\u001b[0m\u001b[0;34m\u001b[0m\u001b[0m\n\u001b[1;32m   3847\u001b[0m                 \u001b[0mvalues\u001b[0m \u001b[0;34m=\u001b[0m \u001b[0mself\u001b[0m\u001b[0;34m.\u001b[0m\u001b[0mastype\u001b[0m\u001b[0;34m(\u001b[0m\u001b[0mobject\u001b[0m\u001b[0;34m)\u001b[0m\u001b[0;34m.\u001b[0m\u001b[0mvalues\u001b[0m\u001b[0;34m\u001b[0m\u001b[0;34m\u001b[0m\u001b[0m\n\u001b[0;32m-> 3848\u001b[0;31m                 \u001b[0mmapped\u001b[0m \u001b[0;34m=\u001b[0m \u001b[0mlib\u001b[0m\u001b[0;34m.\u001b[0m\u001b[0mmap_infer\u001b[0m\u001b[0;34m(\u001b[0m\u001b[0mvalues\u001b[0m\u001b[0;34m,\u001b[0m \u001b[0mf\u001b[0m\u001b[0;34m,\u001b[0m \u001b[0mconvert\u001b[0m\u001b[0;34m=\u001b[0m\u001b[0mconvert_dtype\u001b[0m\u001b[0;34m)\u001b[0m\u001b[0;34m\u001b[0m\u001b[0;34m\u001b[0m\u001b[0m\n\u001b[0m\u001b[1;32m   3849\u001b[0m \u001b[0;34m\u001b[0m\u001b[0m\n\u001b[1;32m   3850\u001b[0m         \u001b[0;32mif\u001b[0m \u001b[0mlen\u001b[0m\u001b[0;34m(\u001b[0m\u001b[0mmapped\u001b[0m\u001b[0;34m)\u001b[0m \u001b[0;32mand\u001b[0m \u001b[0misinstance\u001b[0m\u001b[0;34m(\u001b[0m\u001b[0mmapped\u001b[0m\u001b[0;34m[\u001b[0m\u001b[0;36m0\u001b[0m\u001b[0;34m]\u001b[0m\u001b[0;34m,\u001b[0m \u001b[0mSeries\u001b[0m\u001b[0;34m)\u001b[0m\u001b[0;34m:\u001b[0m\u001b[0;34m\u001b[0m\u001b[0;34m\u001b[0m\u001b[0m\n",
      "\u001b[0;32mpandas/_libs/lib.pyx\u001b[0m in \u001b[0;36mpandas._libs.lib.map_infer\u001b[0;34m()\u001b[0m\n",
      "\u001b[0;32m<ipython-input-34-8f75985763b1>\u001b[0m in \u001b[0;36m<lambda>\u001b[0;34m(x)\u001b[0m\n\u001b[1;32m      1\u001b[0m \u001b[0mdf\u001b[0m\u001b[0;34m[\u001b[0m\u001b[0;34m'time_in_shelter'\u001b[0m\u001b[0;34m]\u001b[0m\u001b[0;34m=\u001b[0m\u001b[0mdf\u001b[0m\u001b[0;34m.\u001b[0m\u001b[0mtime_in_shelter\u001b[0m\u001b[0;34m.\u001b[0m\u001b[0mapply\u001b[0m\u001b[0;34m(\u001b[0m\u001b[0;32mlambda\u001b[0m \u001b[0mx\u001b[0m\u001b[0;34m:\u001b[0m \u001b[0mint\u001b[0m\u001b[0;34m(\u001b[0m\u001b[0mstr\u001b[0m\u001b[0;34m(\u001b[0m\u001b[0mx\u001b[0m\u001b[0;34m)\u001b[0m\u001b[0;34m[\u001b[0m\u001b[0;34m:\u001b[0m\u001b[0;36m2\u001b[0m\u001b[0;34m]\u001b[0m\u001b[0;34m)\u001b[0m\u001b[0;34m)\u001b[0m\u001b[0;34m\u001b[0m\u001b[0;34m\u001b[0m\u001b[0m\n\u001b[1;32m      2\u001b[0m \u001b[0mdf\u001b[0m\u001b[0;34m[\u001b[0m\u001b[0;34m'intake_datetime'\u001b[0m\u001b[0;34m]\u001b[0m\u001b[0;34m=\u001b[0m\u001b[0mdf\u001b[0m\u001b[0;34m.\u001b[0m\u001b[0mintake_datetime\u001b[0m\u001b[0;34m.\u001b[0m\u001b[0mapply\u001b[0m\u001b[0;34m(\u001b[0m\u001b[0;32mlambda\u001b[0m \u001b[0mx\u001b[0m\u001b[0;34m:\u001b[0m \u001b[0mstr\u001b[0m\u001b[0;34m(\u001b[0m\u001b[0mstr\u001b[0m\u001b[0;34m(\u001b[0m\u001b[0mx\u001b[0m\u001b[0;34m)\u001b[0m\u001b[0;34m[\u001b[0m\u001b[0;34m:\u001b[0m\u001b[0;36m10\u001b[0m\u001b[0;34m]\u001b[0m\u001b[0;34m)\u001b[0m\u001b[0;34m)\u001b[0m\u001b[0;34m\u001b[0m\u001b[0;34m\u001b[0m\u001b[0m\n\u001b[0;32m----> 3\u001b[0;31m \u001b[0mdf\u001b[0m\u001b[0;34m[\u001b[0m\u001b[0;34m'age_upon_intake'\u001b[0m\u001b[0;34m]\u001b[0m\u001b[0;34m=\u001b[0m\u001b[0mdf\u001b[0m\u001b[0;34m.\u001b[0m\u001b[0mage_upon_intake\u001b[0m\u001b[0;34m.\u001b[0m\u001b[0mapply\u001b[0m\u001b[0;34m(\u001b[0m\u001b[0;32mlambda\u001b[0m \u001b[0mx\u001b[0m\u001b[0;34m:\u001b[0m \u001b[0mint\u001b[0m\u001b[0;34m(\u001b[0m\u001b[0mx\u001b[0m\u001b[0;34m[\u001b[0m\u001b[0;34m:\u001b[0m\u001b[0;36m2\u001b[0m\u001b[0;34m]\u001b[0m\u001b[0;34m)\u001b[0m\u001b[0;34m)\u001b[0m\u001b[0;34m\u001b[0m\u001b[0;34m\u001b[0m\u001b[0m\n\u001b[0m\u001b[1;32m      4\u001b[0m \u001b[0mdf\u001b[0m\u001b[0;34m[\u001b[0m\u001b[0;34m'age_upon_intake_age_group'\u001b[0m\u001b[0;34m]\u001b[0m\u001b[0;34m=\u001b[0m\u001b[0mdf\u001b[0m\u001b[0;34m.\u001b[0m\u001b[0mage_upon_intake_age_group\u001b[0m\u001b[0;34m.\u001b[0m\u001b[0mapply\u001b[0m\u001b[0;34m(\u001b[0m\u001b[0;32mlambda\u001b[0m \u001b[0mx\u001b[0m\u001b[0;34m:\u001b[0m \u001b[0mlist\u001b[0m\u001b[0;34m(\u001b[0m\u001b[0mmap\u001b[0m\u001b[0;34m(\u001b[0m\u001b[0mfloat\u001b[0m\u001b[0;34m,\u001b[0m\u001b[0mx\u001b[0m\u001b[0;34m.\u001b[0m\u001b[0mstrip\u001b[0m\u001b[0;34m(\u001b[0m\u001b[0;34m'(]'\u001b[0m\u001b[0;34m)\u001b[0m\u001b[0;34m.\u001b[0m\u001b[0msplit\u001b[0m\u001b[0;34m(\u001b[0m\u001b[0;34m','\u001b[0m\u001b[0;34m)\u001b[0m\u001b[0;34m)\u001b[0m\u001b[0;34m)\u001b[0m\u001b[0;34m)\u001b[0m\u001b[0;34m\u001b[0m\u001b[0;34m\u001b[0m\u001b[0m\n\u001b[1;32m      5\u001b[0m \u001b[0mdf\u001b[0m\u001b[0;34m[\u001b[0m\u001b[0;34m'color'\u001b[0m\u001b[0;34m]\u001b[0m\u001b[0;34m=\u001b[0m\u001b[0mdf\u001b[0m\u001b[0;34m.\u001b[0m\u001b[0mcolor\u001b[0m\u001b[0;34m.\u001b[0m\u001b[0mapply\u001b[0m\u001b[0;34m(\u001b[0m\u001b[0;32mlambda\u001b[0m \u001b[0mx\u001b[0m\u001b[0;34m:\u001b[0m \u001b[0mx\u001b[0m\u001b[0;34m.\u001b[0m\u001b[0mstrip\u001b[0m\u001b[0;34m(\u001b[0m\u001b[0;34m'/'\u001b[0m\u001b[0;34m)\u001b[0m\u001b[0;34m.\u001b[0m\u001b[0msplit\u001b[0m\u001b[0;34m(\u001b[0m\u001b[0;34m'/'\u001b[0m\u001b[0;34m)\u001b[0m\u001b[0;34m)\u001b[0m\u001b[0;34m\u001b[0m\u001b[0;34m\u001b[0m\u001b[0m\n",
      "\u001b[0;31mTypeError\u001b[0m: 'int' object is not subscriptable"
     ]
    }
   ],
   "source": [
    "df['time_in_shelter']=df.time_in_shelter.apply(lambda x: int(str(x)[:2]))\n",
    "df['intake_datetime']=df.intake_datetime.apply(lambda x: str(str(x)[:10]))\n",
    "df['age_upon_intake']=df.age_upon_intake.apply(lambda x: int(x[:2]))\n",
    "df['age_upon_intake_age_group']=df.age_upon_intake_age_group.apply(lambda x: list(map(float,x.strip('(]').split(','))))\n",
    "df['color']=df.color.apply(lambda x: x.strip('/').split('/'))\n",
    "df.age_upon_intake_age_group=df.age_upon_intake_age_group.apply(lambda x: int(sum(x)/2))\n",
    "df.reset_index(drop=True,inplace=True)"
   ]
  },
  {
   "cell_type": "code",
   "execution_count": 35,
   "metadata": {},
   "outputs": [
    {
     "ename": "KeyError",
     "evalue": "\"None of [Index(['intake_month'], dtype='object')] are in the [columns]\"",
     "output_type": "error",
     "traceback": [
      "\u001b[0;31m---------------------------------------------------------------------------\u001b[0m",
      "\u001b[0;31mKeyError\u001b[0m                                  Traceback (most recent call last)",
      "\u001b[0;32m<ipython-input-35-894ca3cfc3bc>\u001b[0m in \u001b[0;36m<module>\u001b[0;34m\u001b[0m\n\u001b[0;32m----> 1\u001b[0;31m \u001b[0mdf\u001b[0m\u001b[0;34m=\u001b[0m\u001b[0mpd\u001b[0m\u001b[0;34m.\u001b[0m\u001b[0mget_dummies\u001b[0m\u001b[0;34m(\u001b[0m\u001b[0mdf\u001b[0m\u001b[0;34m,\u001b[0m \u001b[0mcolumns\u001b[0m\u001b[0;34m=\u001b[0m\u001b[0;34m[\u001b[0m\u001b[0;34m'intake_month'\u001b[0m\u001b[0;34m]\u001b[0m\u001b[0;34m)\u001b[0m\u001b[0;34m\u001b[0m\u001b[0;34m\u001b[0m\u001b[0m\n\u001b[0m",
      "\u001b[0;32m~/opt/anaconda3/lib/python3.7/site-packages/pandas/core/reshape/reshape.py\u001b[0m in \u001b[0;36mget_dummies\u001b[0;34m(data, prefix, prefix_sep, dummy_na, columns, sparse, drop_first, dtype)\u001b[0m\n\u001b[1;32m    866\u001b[0m             \u001b[0;32mraise\u001b[0m \u001b[0mTypeError\u001b[0m\u001b[0;34m(\u001b[0m\u001b[0;34m\"Input must be a list-like for parameter `columns`\"\u001b[0m\u001b[0;34m)\u001b[0m\u001b[0;34m\u001b[0m\u001b[0;34m\u001b[0m\u001b[0m\n\u001b[1;32m    867\u001b[0m         \u001b[0;32melse\u001b[0m\u001b[0;34m:\u001b[0m\u001b[0;34m\u001b[0m\u001b[0;34m\u001b[0m\u001b[0m\n\u001b[0;32m--> 868\u001b[0;31m             \u001b[0mdata_to_encode\u001b[0m \u001b[0;34m=\u001b[0m \u001b[0mdata\u001b[0m\u001b[0;34m[\u001b[0m\u001b[0mcolumns\u001b[0m\u001b[0;34m]\u001b[0m\u001b[0;34m\u001b[0m\u001b[0;34m\u001b[0m\u001b[0m\n\u001b[0m\u001b[1;32m    869\u001b[0m \u001b[0;34m\u001b[0m\u001b[0m\n\u001b[1;32m    870\u001b[0m         \u001b[0;31m# validate prefixes and separator to avoid silently dropping cols\u001b[0m\u001b[0;34m\u001b[0m\u001b[0;34m\u001b[0m\u001b[0;34m\u001b[0m\u001b[0m\n",
      "\u001b[0;32m~/opt/anaconda3/lib/python3.7/site-packages/pandas/core/frame.py\u001b[0m in \u001b[0;36m__getitem__\u001b[0;34m(self, key)\u001b[0m\n\u001b[1;32m   2804\u001b[0m             \u001b[0;32mif\u001b[0m \u001b[0mis_iterator\u001b[0m\u001b[0;34m(\u001b[0m\u001b[0mkey\u001b[0m\u001b[0;34m)\u001b[0m\u001b[0;34m:\u001b[0m\u001b[0;34m\u001b[0m\u001b[0;34m\u001b[0m\u001b[0m\n\u001b[1;32m   2805\u001b[0m                 \u001b[0mkey\u001b[0m \u001b[0;34m=\u001b[0m \u001b[0mlist\u001b[0m\u001b[0;34m(\u001b[0m\u001b[0mkey\u001b[0m\u001b[0;34m)\u001b[0m\u001b[0;34m\u001b[0m\u001b[0;34m\u001b[0m\u001b[0m\n\u001b[0;32m-> 2806\u001b[0;31m             \u001b[0mindexer\u001b[0m \u001b[0;34m=\u001b[0m \u001b[0mself\u001b[0m\u001b[0;34m.\u001b[0m\u001b[0mloc\u001b[0m\u001b[0;34m.\u001b[0m\u001b[0m_get_listlike_indexer\u001b[0m\u001b[0;34m(\u001b[0m\u001b[0mkey\u001b[0m\u001b[0;34m,\u001b[0m \u001b[0maxis\u001b[0m\u001b[0;34m=\u001b[0m\u001b[0;36m1\u001b[0m\u001b[0;34m,\u001b[0m \u001b[0mraise_missing\u001b[0m\u001b[0;34m=\u001b[0m\u001b[0;32mTrue\u001b[0m\u001b[0;34m)\u001b[0m\u001b[0;34m[\u001b[0m\u001b[0;36m1\u001b[0m\u001b[0;34m]\u001b[0m\u001b[0;34m\u001b[0m\u001b[0;34m\u001b[0m\u001b[0m\n\u001b[0m\u001b[1;32m   2807\u001b[0m \u001b[0;34m\u001b[0m\u001b[0m\n\u001b[1;32m   2808\u001b[0m         \u001b[0;31m# take() does not accept boolean indexers\u001b[0m\u001b[0;34m\u001b[0m\u001b[0;34m\u001b[0m\u001b[0;34m\u001b[0m\u001b[0m\n",
      "\u001b[0;32m~/opt/anaconda3/lib/python3.7/site-packages/pandas/core/indexing.py\u001b[0m in \u001b[0;36m_get_listlike_indexer\u001b[0;34m(self, key, axis, raise_missing)\u001b[0m\n\u001b[1;32m   1550\u001b[0m \u001b[0;34m\u001b[0m\u001b[0m\n\u001b[1;32m   1551\u001b[0m         self._validate_read_indexer(\n\u001b[0;32m-> 1552\u001b[0;31m             \u001b[0mkeyarr\u001b[0m\u001b[0;34m,\u001b[0m \u001b[0mindexer\u001b[0m\u001b[0;34m,\u001b[0m \u001b[0mo\u001b[0m\u001b[0;34m.\u001b[0m\u001b[0m_get_axis_number\u001b[0m\u001b[0;34m(\u001b[0m\u001b[0maxis\u001b[0m\u001b[0;34m)\u001b[0m\u001b[0;34m,\u001b[0m \u001b[0mraise_missing\u001b[0m\u001b[0;34m=\u001b[0m\u001b[0mraise_missing\u001b[0m\u001b[0;34m\u001b[0m\u001b[0;34m\u001b[0m\u001b[0m\n\u001b[0m\u001b[1;32m   1553\u001b[0m         )\n\u001b[1;32m   1554\u001b[0m         \u001b[0;32mreturn\u001b[0m \u001b[0mkeyarr\u001b[0m\u001b[0;34m,\u001b[0m \u001b[0mindexer\u001b[0m\u001b[0;34m\u001b[0m\u001b[0;34m\u001b[0m\u001b[0m\n",
      "\u001b[0;32m~/opt/anaconda3/lib/python3.7/site-packages/pandas/core/indexing.py\u001b[0m in \u001b[0;36m_validate_read_indexer\u001b[0;34m(self, key, indexer, axis, raise_missing)\u001b[0m\n\u001b[1;32m   1637\u001b[0m             \u001b[0;32mif\u001b[0m \u001b[0mmissing\u001b[0m \u001b[0;34m==\u001b[0m \u001b[0mlen\u001b[0m\u001b[0;34m(\u001b[0m\u001b[0mindexer\u001b[0m\u001b[0;34m)\u001b[0m\u001b[0;34m:\u001b[0m\u001b[0;34m\u001b[0m\u001b[0;34m\u001b[0m\u001b[0m\n\u001b[1;32m   1638\u001b[0m                 \u001b[0maxis_name\u001b[0m \u001b[0;34m=\u001b[0m \u001b[0mself\u001b[0m\u001b[0;34m.\u001b[0m\u001b[0mobj\u001b[0m\u001b[0;34m.\u001b[0m\u001b[0m_get_axis_name\u001b[0m\u001b[0;34m(\u001b[0m\u001b[0maxis\u001b[0m\u001b[0;34m)\u001b[0m\u001b[0;34m\u001b[0m\u001b[0;34m\u001b[0m\u001b[0m\n\u001b[0;32m-> 1639\u001b[0;31m                 \u001b[0;32mraise\u001b[0m \u001b[0mKeyError\u001b[0m\u001b[0;34m(\u001b[0m\u001b[0;34mf\"None of [{key}] are in the [{axis_name}]\"\u001b[0m\u001b[0;34m)\u001b[0m\u001b[0;34m\u001b[0m\u001b[0;34m\u001b[0m\u001b[0m\n\u001b[0m\u001b[1;32m   1640\u001b[0m \u001b[0;34m\u001b[0m\u001b[0m\n\u001b[1;32m   1641\u001b[0m             \u001b[0;31m# We (temporarily) allow for some missing keys with .loc, except in\u001b[0m\u001b[0;34m\u001b[0m\u001b[0;34m\u001b[0m\u001b[0;34m\u001b[0m\u001b[0m\n",
      "\u001b[0;31mKeyError\u001b[0m: \"None of [Index(['intake_month'], dtype='object')] are in the [columns]\""
     ]
    }
   ],
   "source": [
    "df=pd.get_dummies(df, columns=['intake_month'])"
   ]
  },
  {
   "cell_type": "code",
   "execution_count": 36,
   "metadata": {
    "scrolled": false
   },
   "outputs": [
    {
     "data": {
      "application/vnd.plotly.v1+json": {
       "config": {
        "plotlyServerURL": "https://plot.ly"
       },
       "data": [
        {
         "alignmentgroup": "True",
         "hovertemplate": "variable=intake_weekday<br>Months=%{x}<br>Amounts=%{y}<extra></extra>",
         "legendgroup": "intake_weekday",
         "marker": {
          "color": "#FF847C"
         },
         "name": "intake_weekday",
         "offsetgroup": "intake_weekday",
         "orientation": "v",
         "showlegend": true,
         "textposition": "auto",
         "type": "bar",
         "x": [
          2,
          5,
          0,
          1,
          3,
          4,
          6
         ],
         "xaxis": "x",
         "y": [
          3138,
          3101,
          2930,
          2905,
          2879,
          2845,
          2634
         ],
         "yaxis": "y"
        }
       ],
       "layout": {
        "barmode": "relative",
        "legend": {
         "title": {
          "text": "variable"
         },
         "tracegroupgap": 0
        },
        "plot_bgcolor": "#6C5B7B",
        "showlegend": false,
        "template": {
         "data": {
          "bar": [
           {
            "error_x": {
             "color": "#2a3f5f"
            },
            "error_y": {
             "color": "#2a3f5f"
            },
            "marker": {
             "line": {
              "color": "#E5ECF6",
              "width": 0.5
             }
            },
            "type": "bar"
           }
          ],
          "barpolar": [
           {
            "marker": {
             "line": {
              "color": "#E5ECF6",
              "width": 0.5
             }
            },
            "type": "barpolar"
           }
          ],
          "carpet": [
           {
            "aaxis": {
             "endlinecolor": "#2a3f5f",
             "gridcolor": "white",
             "linecolor": "white",
             "minorgridcolor": "white",
             "startlinecolor": "#2a3f5f"
            },
            "baxis": {
             "endlinecolor": "#2a3f5f",
             "gridcolor": "white",
             "linecolor": "white",
             "minorgridcolor": "white",
             "startlinecolor": "#2a3f5f"
            },
            "type": "carpet"
           }
          ],
          "choropleth": [
           {
            "colorbar": {
             "outlinewidth": 0,
             "ticks": ""
            },
            "type": "choropleth"
           }
          ],
          "contour": [
           {
            "colorbar": {
             "outlinewidth": 0,
             "ticks": ""
            },
            "colorscale": [
             [
              0,
              "#0d0887"
             ],
             [
              0.1111111111111111,
              "#46039f"
             ],
             [
              0.2222222222222222,
              "#7201a8"
             ],
             [
              0.3333333333333333,
              "#9c179e"
             ],
             [
              0.4444444444444444,
              "#bd3786"
             ],
             [
              0.5555555555555556,
              "#d8576b"
             ],
             [
              0.6666666666666666,
              "#ed7953"
             ],
             [
              0.7777777777777778,
              "#fb9f3a"
             ],
             [
              0.8888888888888888,
              "#fdca26"
             ],
             [
              1,
              "#f0f921"
             ]
            ],
            "type": "contour"
           }
          ],
          "contourcarpet": [
           {
            "colorbar": {
             "outlinewidth": 0,
             "ticks": ""
            },
            "type": "contourcarpet"
           }
          ],
          "heatmap": [
           {
            "colorbar": {
             "outlinewidth": 0,
             "ticks": ""
            },
            "colorscale": [
             [
              0,
              "#0d0887"
             ],
             [
              0.1111111111111111,
              "#46039f"
             ],
             [
              0.2222222222222222,
              "#7201a8"
             ],
             [
              0.3333333333333333,
              "#9c179e"
             ],
             [
              0.4444444444444444,
              "#bd3786"
             ],
             [
              0.5555555555555556,
              "#d8576b"
             ],
             [
              0.6666666666666666,
              "#ed7953"
             ],
             [
              0.7777777777777778,
              "#fb9f3a"
             ],
             [
              0.8888888888888888,
              "#fdca26"
             ],
             [
              1,
              "#f0f921"
             ]
            ],
            "type": "heatmap"
           }
          ],
          "heatmapgl": [
           {
            "colorbar": {
             "outlinewidth": 0,
             "ticks": ""
            },
            "colorscale": [
             [
              0,
              "#0d0887"
             ],
             [
              0.1111111111111111,
              "#46039f"
             ],
             [
              0.2222222222222222,
              "#7201a8"
             ],
             [
              0.3333333333333333,
              "#9c179e"
             ],
             [
              0.4444444444444444,
              "#bd3786"
             ],
             [
              0.5555555555555556,
              "#d8576b"
             ],
             [
              0.6666666666666666,
              "#ed7953"
             ],
             [
              0.7777777777777778,
              "#fb9f3a"
             ],
             [
              0.8888888888888888,
              "#fdca26"
             ],
             [
              1,
              "#f0f921"
             ]
            ],
            "type": "heatmapgl"
           }
          ],
          "histogram": [
           {
            "marker": {
             "colorbar": {
              "outlinewidth": 0,
              "ticks": ""
             }
            },
            "type": "histogram"
           }
          ],
          "histogram2d": [
           {
            "colorbar": {
             "outlinewidth": 0,
             "ticks": ""
            },
            "colorscale": [
             [
              0,
              "#0d0887"
             ],
             [
              0.1111111111111111,
              "#46039f"
             ],
             [
              0.2222222222222222,
              "#7201a8"
             ],
             [
              0.3333333333333333,
              "#9c179e"
             ],
             [
              0.4444444444444444,
              "#bd3786"
             ],
             [
              0.5555555555555556,
              "#d8576b"
             ],
             [
              0.6666666666666666,
              "#ed7953"
             ],
             [
              0.7777777777777778,
              "#fb9f3a"
             ],
             [
              0.8888888888888888,
              "#fdca26"
             ],
             [
              1,
              "#f0f921"
             ]
            ],
            "type": "histogram2d"
           }
          ],
          "histogram2dcontour": [
           {
            "colorbar": {
             "outlinewidth": 0,
             "ticks": ""
            },
            "colorscale": [
             [
              0,
              "#0d0887"
             ],
             [
              0.1111111111111111,
              "#46039f"
             ],
             [
              0.2222222222222222,
              "#7201a8"
             ],
             [
              0.3333333333333333,
              "#9c179e"
             ],
             [
              0.4444444444444444,
              "#bd3786"
             ],
             [
              0.5555555555555556,
              "#d8576b"
             ],
             [
              0.6666666666666666,
              "#ed7953"
             ],
             [
              0.7777777777777778,
              "#fb9f3a"
             ],
             [
              0.8888888888888888,
              "#fdca26"
             ],
             [
              1,
              "#f0f921"
             ]
            ],
            "type": "histogram2dcontour"
           }
          ],
          "mesh3d": [
           {
            "colorbar": {
             "outlinewidth": 0,
             "ticks": ""
            },
            "type": "mesh3d"
           }
          ],
          "parcoords": [
           {
            "line": {
             "colorbar": {
              "outlinewidth": 0,
              "ticks": ""
             }
            },
            "type": "parcoords"
           }
          ],
          "pie": [
           {
            "automargin": true,
            "type": "pie"
           }
          ],
          "scatter": [
           {
            "marker": {
             "colorbar": {
              "outlinewidth": 0,
              "ticks": ""
             }
            },
            "type": "scatter"
           }
          ],
          "scatter3d": [
           {
            "line": {
             "colorbar": {
              "outlinewidth": 0,
              "ticks": ""
             }
            },
            "marker": {
             "colorbar": {
              "outlinewidth": 0,
              "ticks": ""
             }
            },
            "type": "scatter3d"
           }
          ],
          "scattercarpet": [
           {
            "marker": {
             "colorbar": {
              "outlinewidth": 0,
              "ticks": ""
             }
            },
            "type": "scattercarpet"
           }
          ],
          "scattergeo": [
           {
            "marker": {
             "colorbar": {
              "outlinewidth": 0,
              "ticks": ""
             }
            },
            "type": "scattergeo"
           }
          ],
          "scattergl": [
           {
            "marker": {
             "colorbar": {
              "outlinewidth": 0,
              "ticks": ""
             }
            },
            "type": "scattergl"
           }
          ],
          "scattermapbox": [
           {
            "marker": {
             "colorbar": {
              "outlinewidth": 0,
              "ticks": ""
             }
            },
            "type": "scattermapbox"
           }
          ],
          "scatterpolar": [
           {
            "marker": {
             "colorbar": {
              "outlinewidth": 0,
              "ticks": ""
             }
            },
            "type": "scatterpolar"
           }
          ],
          "scatterpolargl": [
           {
            "marker": {
             "colorbar": {
              "outlinewidth": 0,
              "ticks": ""
             }
            },
            "type": "scatterpolargl"
           }
          ],
          "scatterternary": [
           {
            "marker": {
             "colorbar": {
              "outlinewidth": 0,
              "ticks": ""
             }
            },
            "type": "scatterternary"
           }
          ],
          "surface": [
           {
            "colorbar": {
             "outlinewidth": 0,
             "ticks": ""
            },
            "colorscale": [
             [
              0,
              "#0d0887"
             ],
             [
              0.1111111111111111,
              "#46039f"
             ],
             [
              0.2222222222222222,
              "#7201a8"
             ],
             [
              0.3333333333333333,
              "#9c179e"
             ],
             [
              0.4444444444444444,
              "#bd3786"
             ],
             [
              0.5555555555555556,
              "#d8576b"
             ],
             [
              0.6666666666666666,
              "#ed7953"
             ],
             [
              0.7777777777777778,
              "#fb9f3a"
             ],
             [
              0.8888888888888888,
              "#fdca26"
             ],
             [
              1,
              "#f0f921"
             ]
            ],
            "type": "surface"
           }
          ],
          "table": [
           {
            "cells": {
             "fill": {
              "color": "#EBF0F8"
             },
             "line": {
              "color": "white"
             }
            },
            "header": {
             "fill": {
              "color": "#C8D4E3"
             },
             "line": {
              "color": "white"
             }
            },
            "type": "table"
           }
          ]
         },
         "layout": {
          "annotationdefaults": {
           "arrowcolor": "#2a3f5f",
           "arrowhead": 0,
           "arrowwidth": 1
          },
          "coloraxis": {
           "colorbar": {
            "outlinewidth": 0,
            "ticks": ""
           }
          },
          "colorscale": {
           "diverging": [
            [
             0,
             "#8e0152"
            ],
            [
             0.1,
             "#c51b7d"
            ],
            [
             0.2,
             "#de77ae"
            ],
            [
             0.3,
             "#f1b6da"
            ],
            [
             0.4,
             "#fde0ef"
            ],
            [
             0.5,
             "#f7f7f7"
            ],
            [
             0.6,
             "#e6f5d0"
            ],
            [
             0.7,
             "#b8e186"
            ],
            [
             0.8,
             "#7fbc41"
            ],
            [
             0.9,
             "#4d9221"
            ],
            [
             1,
             "#276419"
            ]
           ],
           "sequential": [
            [
             0,
             "#0d0887"
            ],
            [
             0.1111111111111111,
             "#46039f"
            ],
            [
             0.2222222222222222,
             "#7201a8"
            ],
            [
             0.3333333333333333,
             "#9c179e"
            ],
            [
             0.4444444444444444,
             "#bd3786"
            ],
            [
             0.5555555555555556,
             "#d8576b"
            ],
            [
             0.6666666666666666,
             "#ed7953"
            ],
            [
             0.7777777777777778,
             "#fb9f3a"
            ],
            [
             0.8888888888888888,
             "#fdca26"
            ],
            [
             1,
             "#f0f921"
            ]
           ],
           "sequentialminus": [
            [
             0,
             "#0d0887"
            ],
            [
             0.1111111111111111,
             "#46039f"
            ],
            [
             0.2222222222222222,
             "#7201a8"
            ],
            [
             0.3333333333333333,
             "#9c179e"
            ],
            [
             0.4444444444444444,
             "#bd3786"
            ],
            [
             0.5555555555555556,
             "#d8576b"
            ],
            [
             0.6666666666666666,
             "#ed7953"
            ],
            [
             0.7777777777777778,
             "#fb9f3a"
            ],
            [
             0.8888888888888888,
             "#fdca26"
            ],
            [
             1,
             "#f0f921"
            ]
           ]
          },
          "colorway": [
           "#636efa",
           "#EF553B",
           "#00cc96",
           "#ab63fa",
           "#FFA15A",
           "#19d3f3",
           "#FF6692",
           "#B6E880",
           "#FF97FF",
           "#FECB52"
          ],
          "font": {
           "color": "#2a3f5f"
          },
          "geo": {
           "bgcolor": "white",
           "lakecolor": "white",
           "landcolor": "#E5ECF6",
           "showlakes": true,
           "showland": true,
           "subunitcolor": "white"
          },
          "hoverlabel": {
           "align": "left"
          },
          "hovermode": "closest",
          "mapbox": {
           "style": "light"
          },
          "paper_bgcolor": "white",
          "plot_bgcolor": "#E5ECF6",
          "polar": {
           "angularaxis": {
            "gridcolor": "white",
            "linecolor": "white",
            "ticks": ""
           },
           "bgcolor": "#E5ECF6",
           "radialaxis": {
            "gridcolor": "white",
            "linecolor": "white",
            "ticks": ""
           }
          },
          "scene": {
           "xaxis": {
            "backgroundcolor": "#E5ECF6",
            "gridcolor": "white",
            "gridwidth": 2,
            "linecolor": "white",
            "showbackground": true,
            "ticks": "",
            "zerolinecolor": "white"
           },
           "yaxis": {
            "backgroundcolor": "#E5ECF6",
            "gridcolor": "white",
            "gridwidth": 2,
            "linecolor": "white",
            "showbackground": true,
            "ticks": "",
            "zerolinecolor": "white"
           },
           "zaxis": {
            "backgroundcolor": "#E5ECF6",
            "gridcolor": "white",
            "gridwidth": 2,
            "linecolor": "white",
            "showbackground": true,
            "ticks": "",
            "zerolinecolor": "white"
           }
          },
          "shapedefaults": {
           "line": {
            "color": "#2a3f5f"
           }
          },
          "ternary": {
           "aaxis": {
            "gridcolor": "white",
            "linecolor": "white",
            "ticks": ""
           },
           "baxis": {
            "gridcolor": "white",
            "linecolor": "white",
            "ticks": ""
           },
           "bgcolor": "#E5ECF6",
           "caxis": {
            "gridcolor": "white",
            "linecolor": "white",
            "ticks": ""
           }
          },
          "title": {
           "x": 0.05
          },
          "xaxis": {
           "automargin": true,
           "gridcolor": "white",
           "linecolor": "white",
           "ticks": "",
           "title": {
            "standoff": 15
           },
           "zerolinecolor": "white",
           "zerolinewidth": 2
          },
          "yaxis": {
           "automargin": true,
           "gridcolor": "white",
           "linecolor": "white",
           "ticks": "",
           "title": {
            "standoff": 15
           },
           "zerolinecolor": "white",
           "zerolinewidth": 2
          }
         }
        },
        "title": {
         "text": "Amount of intakes per Weekday"
        },
        "xaxis": {
         "anchor": "y",
         "domain": [
          0,
          1
         ],
         "tickfont": {
          "size": 14
         },
         "tickmode": "array",
         "ticktext": [
          "Sunday",
          "Monday",
          "Tuesday",
          "Wednesday",
          "Thursday",
          "Friday",
          "Saturday"
         ],
         "tickvals": [
          0,
          1,
          2,
          3,
          4,
          5,
          6
         ],
         "title": {
          "text": "Months"
         }
        },
        "yaxis": {
         "anchor": "x",
         "domain": [
          0,
          1
         ],
         "title": {
          "text": "Amounts"
         }
        }
       }
      },
      "text/html": [
       "<div>                            <div id=\"070693e3-b916-457c-9c3e-2398c6a8141b\" class=\"plotly-graph-div\" style=\"height:525px; width:100%;\"></div>            <script type=\"text/javascript\">                require([\"plotly\"], function(Plotly) {                    window.PLOTLYENV=window.PLOTLYENV || {};                                    if (document.getElementById(\"070693e3-b916-457c-9c3e-2398c6a8141b\")) {                    Plotly.newPlot(                        \"070693e3-b916-457c-9c3e-2398c6a8141b\",                        [{\"alignmentgroup\": \"True\", \"hovertemplate\": \"variable=intake_weekday<br>Months=%{x}<br>Amounts=%{y}<extra></extra>\", \"legendgroup\": \"intake_weekday\", \"marker\": {\"color\": \"#FF847C\"}, \"name\": \"intake_weekday\", \"offsetgroup\": \"intake_weekday\", \"orientation\": \"v\", \"showlegend\": true, \"textposition\": \"auto\", \"type\": \"bar\", \"x\": [2, 5, 0, 1, 3, 4, 6], \"xaxis\": \"x\", \"y\": [3138, 3101, 2930, 2905, 2879, 2845, 2634], \"yaxis\": \"y\"}],                        {\"barmode\": \"relative\", \"legend\": {\"title\": {\"text\": \"variable\"}, \"tracegroupgap\": 0}, \"plot_bgcolor\": \"#6C5B7B\", \"showlegend\": false, \"template\": {\"data\": {\"bar\": [{\"error_x\": {\"color\": \"#2a3f5f\"}, \"error_y\": {\"color\": \"#2a3f5f\"}, \"marker\": {\"line\": {\"color\": \"#E5ECF6\", \"width\": 0.5}}, \"type\": \"bar\"}], \"barpolar\": [{\"marker\": {\"line\": {\"color\": \"#E5ECF6\", \"width\": 0.5}}, \"type\": \"barpolar\"}], \"carpet\": [{\"aaxis\": {\"endlinecolor\": \"#2a3f5f\", \"gridcolor\": \"white\", \"linecolor\": \"white\", \"minorgridcolor\": \"white\", \"startlinecolor\": \"#2a3f5f\"}, \"baxis\": {\"endlinecolor\": \"#2a3f5f\", \"gridcolor\": \"white\", \"linecolor\": \"white\", \"minorgridcolor\": \"white\", \"startlinecolor\": \"#2a3f5f\"}, \"type\": \"carpet\"}], \"choropleth\": [{\"colorbar\": {\"outlinewidth\": 0, \"ticks\": \"\"}, \"type\": \"choropleth\"}], \"contour\": [{\"colorbar\": {\"outlinewidth\": 0, \"ticks\": \"\"}, \"colorscale\": [[0.0, \"#0d0887\"], [0.1111111111111111, \"#46039f\"], [0.2222222222222222, \"#7201a8\"], [0.3333333333333333, \"#9c179e\"], [0.4444444444444444, \"#bd3786\"], [0.5555555555555556, \"#d8576b\"], [0.6666666666666666, \"#ed7953\"], [0.7777777777777778, \"#fb9f3a\"], [0.8888888888888888, \"#fdca26\"], [1.0, \"#f0f921\"]], \"type\": \"contour\"}], \"contourcarpet\": [{\"colorbar\": {\"outlinewidth\": 0, \"ticks\": \"\"}, \"type\": \"contourcarpet\"}], \"heatmap\": [{\"colorbar\": {\"outlinewidth\": 0, \"ticks\": \"\"}, \"colorscale\": [[0.0, \"#0d0887\"], [0.1111111111111111, \"#46039f\"], [0.2222222222222222, \"#7201a8\"], [0.3333333333333333, \"#9c179e\"], [0.4444444444444444, \"#bd3786\"], [0.5555555555555556, \"#d8576b\"], [0.6666666666666666, \"#ed7953\"], [0.7777777777777778, \"#fb9f3a\"], [0.8888888888888888, \"#fdca26\"], [1.0, \"#f0f921\"]], \"type\": \"heatmap\"}], \"heatmapgl\": [{\"colorbar\": {\"outlinewidth\": 0, \"ticks\": \"\"}, \"colorscale\": [[0.0, \"#0d0887\"], [0.1111111111111111, \"#46039f\"], [0.2222222222222222, \"#7201a8\"], [0.3333333333333333, \"#9c179e\"], [0.4444444444444444, \"#bd3786\"], [0.5555555555555556, \"#d8576b\"], [0.6666666666666666, \"#ed7953\"], [0.7777777777777778, \"#fb9f3a\"], [0.8888888888888888, \"#fdca26\"], [1.0, \"#f0f921\"]], \"type\": \"heatmapgl\"}], \"histogram\": [{\"marker\": {\"colorbar\": {\"outlinewidth\": 0, \"ticks\": \"\"}}, \"type\": \"histogram\"}], \"histogram2d\": [{\"colorbar\": {\"outlinewidth\": 0, \"ticks\": \"\"}, \"colorscale\": [[0.0, \"#0d0887\"], [0.1111111111111111, \"#46039f\"], [0.2222222222222222, \"#7201a8\"], [0.3333333333333333, \"#9c179e\"], [0.4444444444444444, \"#bd3786\"], [0.5555555555555556, \"#d8576b\"], [0.6666666666666666, \"#ed7953\"], [0.7777777777777778, \"#fb9f3a\"], [0.8888888888888888, \"#fdca26\"], [1.0, \"#f0f921\"]], \"type\": \"histogram2d\"}], \"histogram2dcontour\": [{\"colorbar\": {\"outlinewidth\": 0, \"ticks\": \"\"}, \"colorscale\": [[0.0, \"#0d0887\"], [0.1111111111111111, \"#46039f\"], [0.2222222222222222, \"#7201a8\"], [0.3333333333333333, \"#9c179e\"], [0.4444444444444444, \"#bd3786\"], [0.5555555555555556, \"#d8576b\"], [0.6666666666666666, \"#ed7953\"], [0.7777777777777778, \"#fb9f3a\"], [0.8888888888888888, \"#fdca26\"], [1.0, \"#f0f921\"]], \"type\": \"histogram2dcontour\"}], \"mesh3d\": [{\"colorbar\": {\"outlinewidth\": 0, \"ticks\": \"\"}, \"type\": \"mesh3d\"}], \"parcoords\": [{\"line\": {\"colorbar\": {\"outlinewidth\": 0, \"ticks\": \"\"}}, \"type\": \"parcoords\"}], \"pie\": [{\"automargin\": true, \"type\": \"pie\"}], \"scatter\": [{\"marker\": {\"colorbar\": {\"outlinewidth\": 0, \"ticks\": \"\"}}, \"type\": \"scatter\"}], \"scatter3d\": [{\"line\": {\"colorbar\": {\"outlinewidth\": 0, \"ticks\": \"\"}}, \"marker\": {\"colorbar\": {\"outlinewidth\": 0, \"ticks\": \"\"}}, \"type\": \"scatter3d\"}], \"scattercarpet\": [{\"marker\": {\"colorbar\": {\"outlinewidth\": 0, \"ticks\": \"\"}}, \"type\": \"scattercarpet\"}], \"scattergeo\": [{\"marker\": {\"colorbar\": {\"outlinewidth\": 0, \"ticks\": \"\"}}, \"type\": \"scattergeo\"}], \"scattergl\": [{\"marker\": {\"colorbar\": {\"outlinewidth\": 0, \"ticks\": \"\"}}, \"type\": \"scattergl\"}], \"scattermapbox\": [{\"marker\": {\"colorbar\": {\"outlinewidth\": 0, \"ticks\": \"\"}}, \"type\": \"scattermapbox\"}], \"scatterpolar\": [{\"marker\": {\"colorbar\": {\"outlinewidth\": 0, \"ticks\": \"\"}}, \"type\": \"scatterpolar\"}], \"scatterpolargl\": [{\"marker\": {\"colorbar\": {\"outlinewidth\": 0, \"ticks\": \"\"}}, \"type\": \"scatterpolargl\"}], \"scatterternary\": [{\"marker\": {\"colorbar\": {\"outlinewidth\": 0, \"ticks\": \"\"}}, \"type\": \"scatterternary\"}], \"surface\": [{\"colorbar\": {\"outlinewidth\": 0, \"ticks\": \"\"}, \"colorscale\": [[0.0, \"#0d0887\"], [0.1111111111111111, \"#46039f\"], [0.2222222222222222, \"#7201a8\"], [0.3333333333333333, \"#9c179e\"], [0.4444444444444444, \"#bd3786\"], [0.5555555555555556, \"#d8576b\"], [0.6666666666666666, \"#ed7953\"], [0.7777777777777778, \"#fb9f3a\"], [0.8888888888888888, \"#fdca26\"], [1.0, \"#f0f921\"]], \"type\": \"surface\"}], \"table\": [{\"cells\": {\"fill\": {\"color\": \"#EBF0F8\"}, \"line\": {\"color\": \"white\"}}, \"header\": {\"fill\": {\"color\": \"#C8D4E3\"}, \"line\": {\"color\": \"white\"}}, \"type\": \"table\"}]}, \"layout\": {\"annotationdefaults\": {\"arrowcolor\": \"#2a3f5f\", \"arrowhead\": 0, \"arrowwidth\": 1}, \"coloraxis\": {\"colorbar\": {\"outlinewidth\": 0, \"ticks\": \"\"}}, \"colorscale\": {\"diverging\": [[0, \"#8e0152\"], [0.1, \"#c51b7d\"], [0.2, \"#de77ae\"], [0.3, \"#f1b6da\"], [0.4, \"#fde0ef\"], [0.5, \"#f7f7f7\"], [0.6, \"#e6f5d0\"], [0.7, \"#b8e186\"], [0.8, \"#7fbc41\"], [0.9, \"#4d9221\"], [1, \"#276419\"]], \"sequential\": [[0.0, \"#0d0887\"], [0.1111111111111111, \"#46039f\"], [0.2222222222222222, \"#7201a8\"], [0.3333333333333333, \"#9c179e\"], [0.4444444444444444, \"#bd3786\"], [0.5555555555555556, \"#d8576b\"], [0.6666666666666666, \"#ed7953\"], [0.7777777777777778, \"#fb9f3a\"], [0.8888888888888888, \"#fdca26\"], [1.0, \"#f0f921\"]], \"sequentialminus\": [[0.0, \"#0d0887\"], [0.1111111111111111, \"#46039f\"], [0.2222222222222222, \"#7201a8\"], [0.3333333333333333, \"#9c179e\"], [0.4444444444444444, \"#bd3786\"], [0.5555555555555556, \"#d8576b\"], [0.6666666666666666, \"#ed7953\"], [0.7777777777777778, \"#fb9f3a\"], [0.8888888888888888, \"#fdca26\"], [1.0, \"#f0f921\"]]}, \"colorway\": [\"#636efa\", \"#EF553B\", \"#00cc96\", \"#ab63fa\", \"#FFA15A\", \"#19d3f3\", \"#FF6692\", \"#B6E880\", \"#FF97FF\", \"#FECB52\"], \"font\": {\"color\": \"#2a3f5f\"}, \"geo\": {\"bgcolor\": \"white\", \"lakecolor\": \"white\", \"landcolor\": \"#E5ECF6\", \"showlakes\": true, \"showland\": true, \"subunitcolor\": \"white\"}, \"hoverlabel\": {\"align\": \"left\"}, \"hovermode\": \"closest\", \"mapbox\": {\"style\": \"light\"}, \"paper_bgcolor\": \"white\", \"plot_bgcolor\": \"#E5ECF6\", \"polar\": {\"angularaxis\": {\"gridcolor\": \"white\", \"linecolor\": \"white\", \"ticks\": \"\"}, \"bgcolor\": \"#E5ECF6\", \"radialaxis\": {\"gridcolor\": \"white\", \"linecolor\": \"white\", \"ticks\": \"\"}}, \"scene\": {\"xaxis\": {\"backgroundcolor\": \"#E5ECF6\", \"gridcolor\": \"white\", \"gridwidth\": 2, \"linecolor\": \"white\", \"showbackground\": true, \"ticks\": \"\", \"zerolinecolor\": \"white\"}, \"yaxis\": {\"backgroundcolor\": \"#E5ECF6\", \"gridcolor\": \"white\", \"gridwidth\": 2, \"linecolor\": \"white\", \"showbackground\": true, \"ticks\": \"\", \"zerolinecolor\": \"white\"}, \"zaxis\": {\"backgroundcolor\": \"#E5ECF6\", \"gridcolor\": \"white\", \"gridwidth\": 2, \"linecolor\": \"white\", \"showbackground\": true, \"ticks\": \"\", \"zerolinecolor\": \"white\"}}, \"shapedefaults\": {\"line\": {\"color\": \"#2a3f5f\"}}, \"ternary\": {\"aaxis\": {\"gridcolor\": \"white\", \"linecolor\": \"white\", \"ticks\": \"\"}, \"baxis\": {\"gridcolor\": \"white\", \"linecolor\": \"white\", \"ticks\": \"\"}, \"bgcolor\": \"#E5ECF6\", \"caxis\": {\"gridcolor\": \"white\", \"linecolor\": \"white\", \"ticks\": \"\"}}, \"title\": {\"x\": 0.05}, \"xaxis\": {\"automargin\": true, \"gridcolor\": \"white\", \"linecolor\": \"white\", \"ticks\": \"\", \"title\": {\"standoff\": 15}, \"zerolinecolor\": \"white\", \"zerolinewidth\": 2}, \"yaxis\": {\"automargin\": true, \"gridcolor\": \"white\", \"linecolor\": \"white\", \"ticks\": \"\", \"title\": {\"standoff\": 15}, \"zerolinecolor\": \"white\", \"zerolinewidth\": 2}}}, \"title\": {\"text\": \"Amount of intakes per Weekday\"}, \"xaxis\": {\"anchor\": \"y\", \"domain\": [0.0, 1.0], \"tickfont\": {\"size\": 14}, \"tickmode\": \"array\", \"ticktext\": [\"Sunday\", \"Monday\", \"Tuesday\", \"Wednesday\", \"Thursday\", \"Friday\", \"Saturday\"], \"tickvals\": [0, 1, 2, 3, 4, 5, 6], \"title\": {\"text\": \"Months\"}}, \"yaxis\": {\"anchor\": \"x\", \"domain\": [0.0, 1.0], \"title\": {\"text\": \"Amounts\"}}},                        {\"responsive\": true}                    ).then(function(){\n",
       "                            \n",
       "var gd = document.getElementById('070693e3-b916-457c-9c3e-2398c6a8141b');\n",
       "var x = new MutationObserver(function (mutations, observer) {{\n",
       "        var display = window.getComputedStyle(gd).display;\n",
       "        if (!display || display === 'none') {{\n",
       "            console.log([gd, 'removed!']);\n",
       "            Plotly.purge(gd);\n",
       "            observer.disconnect();\n",
       "        }}\n",
       "}});\n",
       "\n",
       "// Listen for the removal of the full notebook cells\n",
       "var notebookContainer = gd.closest('#notebook-container');\n",
       "if (notebookContainer) {{\n",
       "    x.observe(notebookContainer, {childList: true});\n",
       "}}\n",
       "\n",
       "// Listen for the clearing of the current output cell\n",
       "var outputEl = gd.closest('.output');\n",
       "if (outputEl) {{\n",
       "    x.observe(outputEl, {childList: true});\n",
       "}}\n",
       "\n",
       "                        })                };                });            </script>        </div>"
      ]
     },
     "metadata": {},
     "output_type": "display_data"
    }
   ],
   "source": [
    "data=df.intake_weekday.value_counts()\n",
    "fig=px.bar(data, title=\"Amount of intakes per Weekday\",labels={'index': 'Months','value':'Amounts'},color_discrete_sequence=['#FF847C'])\n",
    "fig.update_layout(\n",
    "    xaxis_tickfont_size=14,\n",
    "    xaxis_tickmode='array',\n",
    "    xaxis_tickvals=[0,1,2,3,4,5,6],\n",
    "    xaxis_ticktext=['Sunday','Monday','Tuesday','Wednesday','Thursday','Friday','Saturday'],\n",
    "    showlegend=False,\n",
    "    plot_bgcolor = '#6C5B7B',\n",
    "    )\n",
    "\n",
    "fig.show()"
   ]
  },
  {
   "cell_type": "code",
   "execution_count": 37,
   "metadata": {},
   "outputs": [
    {
     "data": {
      "application/vnd.plotly.v1+json": {
       "config": {
        "plotlyServerURL": "https://plot.ly"
       },
       "data": [
        {
         "alignmentgroup": "True",
         "hovertemplate": "variable=outcome_weekday<br>Months=%{x}<br>Amounts=%{y}<extra></extra>",
         "legendgroup": "outcome_weekday",
         "marker": {
          "color": "lightblue"
         },
         "name": "outcome_weekday",
         "offsetgroup": "outcome_weekday",
         "orientation": "v",
         "showlegend": true,
         "textposition": "auto",
         "type": "bar",
         "x": [
          6,
          5,
          0,
          1,
          4,
          2,
          3
         ],
         "xaxis": "x",
         "y": [
          4070,
          4068,
          2768,
          2531,
          2449,
          2290,
          2256
         ],
         "yaxis": "y"
        }
       ],
       "layout": {
        "barmode": "relative",
        "legend": {
         "title": {
          "text": "variable"
         },
         "tracegroupgap": 0
        },
        "plot_bgcolor": "#6C5B7B",
        "showlegend": false,
        "template": {
         "data": {
          "bar": [
           {
            "error_x": {
             "color": "#2a3f5f"
            },
            "error_y": {
             "color": "#2a3f5f"
            },
            "marker": {
             "line": {
              "color": "#E5ECF6",
              "width": 0.5
             }
            },
            "type": "bar"
           }
          ],
          "barpolar": [
           {
            "marker": {
             "line": {
              "color": "#E5ECF6",
              "width": 0.5
             }
            },
            "type": "barpolar"
           }
          ],
          "carpet": [
           {
            "aaxis": {
             "endlinecolor": "#2a3f5f",
             "gridcolor": "white",
             "linecolor": "white",
             "minorgridcolor": "white",
             "startlinecolor": "#2a3f5f"
            },
            "baxis": {
             "endlinecolor": "#2a3f5f",
             "gridcolor": "white",
             "linecolor": "white",
             "minorgridcolor": "white",
             "startlinecolor": "#2a3f5f"
            },
            "type": "carpet"
           }
          ],
          "choropleth": [
           {
            "colorbar": {
             "outlinewidth": 0,
             "ticks": ""
            },
            "type": "choropleth"
           }
          ],
          "contour": [
           {
            "colorbar": {
             "outlinewidth": 0,
             "ticks": ""
            },
            "colorscale": [
             [
              0,
              "#0d0887"
             ],
             [
              0.1111111111111111,
              "#46039f"
             ],
             [
              0.2222222222222222,
              "#7201a8"
             ],
             [
              0.3333333333333333,
              "#9c179e"
             ],
             [
              0.4444444444444444,
              "#bd3786"
             ],
             [
              0.5555555555555556,
              "#d8576b"
             ],
             [
              0.6666666666666666,
              "#ed7953"
             ],
             [
              0.7777777777777778,
              "#fb9f3a"
             ],
             [
              0.8888888888888888,
              "#fdca26"
             ],
             [
              1,
              "#f0f921"
             ]
            ],
            "type": "contour"
           }
          ],
          "contourcarpet": [
           {
            "colorbar": {
             "outlinewidth": 0,
             "ticks": ""
            },
            "type": "contourcarpet"
           }
          ],
          "heatmap": [
           {
            "colorbar": {
             "outlinewidth": 0,
             "ticks": ""
            },
            "colorscale": [
             [
              0,
              "#0d0887"
             ],
             [
              0.1111111111111111,
              "#46039f"
             ],
             [
              0.2222222222222222,
              "#7201a8"
             ],
             [
              0.3333333333333333,
              "#9c179e"
             ],
             [
              0.4444444444444444,
              "#bd3786"
             ],
             [
              0.5555555555555556,
              "#d8576b"
             ],
             [
              0.6666666666666666,
              "#ed7953"
             ],
             [
              0.7777777777777778,
              "#fb9f3a"
             ],
             [
              0.8888888888888888,
              "#fdca26"
             ],
             [
              1,
              "#f0f921"
             ]
            ],
            "type": "heatmap"
           }
          ],
          "heatmapgl": [
           {
            "colorbar": {
             "outlinewidth": 0,
             "ticks": ""
            },
            "colorscale": [
             [
              0,
              "#0d0887"
             ],
             [
              0.1111111111111111,
              "#46039f"
             ],
             [
              0.2222222222222222,
              "#7201a8"
             ],
             [
              0.3333333333333333,
              "#9c179e"
             ],
             [
              0.4444444444444444,
              "#bd3786"
             ],
             [
              0.5555555555555556,
              "#d8576b"
             ],
             [
              0.6666666666666666,
              "#ed7953"
             ],
             [
              0.7777777777777778,
              "#fb9f3a"
             ],
             [
              0.8888888888888888,
              "#fdca26"
             ],
             [
              1,
              "#f0f921"
             ]
            ],
            "type": "heatmapgl"
           }
          ],
          "histogram": [
           {
            "marker": {
             "colorbar": {
              "outlinewidth": 0,
              "ticks": ""
             }
            },
            "type": "histogram"
           }
          ],
          "histogram2d": [
           {
            "colorbar": {
             "outlinewidth": 0,
             "ticks": ""
            },
            "colorscale": [
             [
              0,
              "#0d0887"
             ],
             [
              0.1111111111111111,
              "#46039f"
             ],
             [
              0.2222222222222222,
              "#7201a8"
             ],
             [
              0.3333333333333333,
              "#9c179e"
             ],
             [
              0.4444444444444444,
              "#bd3786"
             ],
             [
              0.5555555555555556,
              "#d8576b"
             ],
             [
              0.6666666666666666,
              "#ed7953"
             ],
             [
              0.7777777777777778,
              "#fb9f3a"
             ],
             [
              0.8888888888888888,
              "#fdca26"
             ],
             [
              1,
              "#f0f921"
             ]
            ],
            "type": "histogram2d"
           }
          ],
          "histogram2dcontour": [
           {
            "colorbar": {
             "outlinewidth": 0,
             "ticks": ""
            },
            "colorscale": [
             [
              0,
              "#0d0887"
             ],
             [
              0.1111111111111111,
              "#46039f"
             ],
             [
              0.2222222222222222,
              "#7201a8"
             ],
             [
              0.3333333333333333,
              "#9c179e"
             ],
             [
              0.4444444444444444,
              "#bd3786"
             ],
             [
              0.5555555555555556,
              "#d8576b"
             ],
             [
              0.6666666666666666,
              "#ed7953"
             ],
             [
              0.7777777777777778,
              "#fb9f3a"
             ],
             [
              0.8888888888888888,
              "#fdca26"
             ],
             [
              1,
              "#f0f921"
             ]
            ],
            "type": "histogram2dcontour"
           }
          ],
          "mesh3d": [
           {
            "colorbar": {
             "outlinewidth": 0,
             "ticks": ""
            },
            "type": "mesh3d"
           }
          ],
          "parcoords": [
           {
            "line": {
             "colorbar": {
              "outlinewidth": 0,
              "ticks": ""
             }
            },
            "type": "parcoords"
           }
          ],
          "pie": [
           {
            "automargin": true,
            "type": "pie"
           }
          ],
          "scatter": [
           {
            "marker": {
             "colorbar": {
              "outlinewidth": 0,
              "ticks": ""
             }
            },
            "type": "scatter"
           }
          ],
          "scatter3d": [
           {
            "line": {
             "colorbar": {
              "outlinewidth": 0,
              "ticks": ""
             }
            },
            "marker": {
             "colorbar": {
              "outlinewidth": 0,
              "ticks": ""
             }
            },
            "type": "scatter3d"
           }
          ],
          "scattercarpet": [
           {
            "marker": {
             "colorbar": {
              "outlinewidth": 0,
              "ticks": ""
             }
            },
            "type": "scattercarpet"
           }
          ],
          "scattergeo": [
           {
            "marker": {
             "colorbar": {
              "outlinewidth": 0,
              "ticks": ""
             }
            },
            "type": "scattergeo"
           }
          ],
          "scattergl": [
           {
            "marker": {
             "colorbar": {
              "outlinewidth": 0,
              "ticks": ""
             }
            },
            "type": "scattergl"
           }
          ],
          "scattermapbox": [
           {
            "marker": {
             "colorbar": {
              "outlinewidth": 0,
              "ticks": ""
             }
            },
            "type": "scattermapbox"
           }
          ],
          "scatterpolar": [
           {
            "marker": {
             "colorbar": {
              "outlinewidth": 0,
              "ticks": ""
             }
            },
            "type": "scatterpolar"
           }
          ],
          "scatterpolargl": [
           {
            "marker": {
             "colorbar": {
              "outlinewidth": 0,
              "ticks": ""
             }
            },
            "type": "scatterpolargl"
           }
          ],
          "scatterternary": [
           {
            "marker": {
             "colorbar": {
              "outlinewidth": 0,
              "ticks": ""
             }
            },
            "type": "scatterternary"
           }
          ],
          "surface": [
           {
            "colorbar": {
             "outlinewidth": 0,
             "ticks": ""
            },
            "colorscale": [
             [
              0,
              "#0d0887"
             ],
             [
              0.1111111111111111,
              "#46039f"
             ],
             [
              0.2222222222222222,
              "#7201a8"
             ],
             [
              0.3333333333333333,
              "#9c179e"
             ],
             [
              0.4444444444444444,
              "#bd3786"
             ],
             [
              0.5555555555555556,
              "#d8576b"
             ],
             [
              0.6666666666666666,
              "#ed7953"
             ],
             [
              0.7777777777777778,
              "#fb9f3a"
             ],
             [
              0.8888888888888888,
              "#fdca26"
             ],
             [
              1,
              "#f0f921"
             ]
            ],
            "type": "surface"
           }
          ],
          "table": [
           {
            "cells": {
             "fill": {
              "color": "#EBF0F8"
             },
             "line": {
              "color": "white"
             }
            },
            "header": {
             "fill": {
              "color": "#C8D4E3"
             },
             "line": {
              "color": "white"
             }
            },
            "type": "table"
           }
          ]
         },
         "layout": {
          "annotationdefaults": {
           "arrowcolor": "#2a3f5f",
           "arrowhead": 0,
           "arrowwidth": 1
          },
          "coloraxis": {
           "colorbar": {
            "outlinewidth": 0,
            "ticks": ""
           }
          },
          "colorscale": {
           "diverging": [
            [
             0,
             "#8e0152"
            ],
            [
             0.1,
             "#c51b7d"
            ],
            [
             0.2,
             "#de77ae"
            ],
            [
             0.3,
             "#f1b6da"
            ],
            [
             0.4,
             "#fde0ef"
            ],
            [
             0.5,
             "#f7f7f7"
            ],
            [
             0.6,
             "#e6f5d0"
            ],
            [
             0.7,
             "#b8e186"
            ],
            [
             0.8,
             "#7fbc41"
            ],
            [
             0.9,
             "#4d9221"
            ],
            [
             1,
             "#276419"
            ]
           ],
           "sequential": [
            [
             0,
             "#0d0887"
            ],
            [
             0.1111111111111111,
             "#46039f"
            ],
            [
             0.2222222222222222,
             "#7201a8"
            ],
            [
             0.3333333333333333,
             "#9c179e"
            ],
            [
             0.4444444444444444,
             "#bd3786"
            ],
            [
             0.5555555555555556,
             "#d8576b"
            ],
            [
             0.6666666666666666,
             "#ed7953"
            ],
            [
             0.7777777777777778,
             "#fb9f3a"
            ],
            [
             0.8888888888888888,
             "#fdca26"
            ],
            [
             1,
             "#f0f921"
            ]
           ],
           "sequentialminus": [
            [
             0,
             "#0d0887"
            ],
            [
             0.1111111111111111,
             "#46039f"
            ],
            [
             0.2222222222222222,
             "#7201a8"
            ],
            [
             0.3333333333333333,
             "#9c179e"
            ],
            [
             0.4444444444444444,
             "#bd3786"
            ],
            [
             0.5555555555555556,
             "#d8576b"
            ],
            [
             0.6666666666666666,
             "#ed7953"
            ],
            [
             0.7777777777777778,
             "#fb9f3a"
            ],
            [
             0.8888888888888888,
             "#fdca26"
            ],
            [
             1,
             "#f0f921"
            ]
           ]
          },
          "colorway": [
           "#636efa",
           "#EF553B",
           "#00cc96",
           "#ab63fa",
           "#FFA15A",
           "#19d3f3",
           "#FF6692",
           "#B6E880",
           "#FF97FF",
           "#FECB52"
          ],
          "font": {
           "color": "#2a3f5f"
          },
          "geo": {
           "bgcolor": "white",
           "lakecolor": "white",
           "landcolor": "#E5ECF6",
           "showlakes": true,
           "showland": true,
           "subunitcolor": "white"
          },
          "hoverlabel": {
           "align": "left"
          },
          "hovermode": "closest",
          "mapbox": {
           "style": "light"
          },
          "paper_bgcolor": "white",
          "plot_bgcolor": "#E5ECF6",
          "polar": {
           "angularaxis": {
            "gridcolor": "white",
            "linecolor": "white",
            "ticks": ""
           },
           "bgcolor": "#E5ECF6",
           "radialaxis": {
            "gridcolor": "white",
            "linecolor": "white",
            "ticks": ""
           }
          },
          "scene": {
           "xaxis": {
            "backgroundcolor": "#E5ECF6",
            "gridcolor": "white",
            "gridwidth": 2,
            "linecolor": "white",
            "showbackground": true,
            "ticks": "",
            "zerolinecolor": "white"
           },
           "yaxis": {
            "backgroundcolor": "#E5ECF6",
            "gridcolor": "white",
            "gridwidth": 2,
            "linecolor": "white",
            "showbackground": true,
            "ticks": "",
            "zerolinecolor": "white"
           },
           "zaxis": {
            "backgroundcolor": "#E5ECF6",
            "gridcolor": "white",
            "gridwidth": 2,
            "linecolor": "white",
            "showbackground": true,
            "ticks": "",
            "zerolinecolor": "white"
           }
          },
          "shapedefaults": {
           "line": {
            "color": "#2a3f5f"
           }
          },
          "ternary": {
           "aaxis": {
            "gridcolor": "white",
            "linecolor": "white",
            "ticks": ""
           },
           "baxis": {
            "gridcolor": "white",
            "linecolor": "white",
            "ticks": ""
           },
           "bgcolor": "#E5ECF6",
           "caxis": {
            "gridcolor": "white",
            "linecolor": "white",
            "ticks": ""
           }
          },
          "title": {
           "x": 0.05
          },
          "xaxis": {
           "automargin": true,
           "gridcolor": "white",
           "linecolor": "white",
           "ticks": "",
           "title": {
            "standoff": 15
           },
           "zerolinecolor": "white",
           "zerolinewidth": 2
          },
          "yaxis": {
           "automargin": true,
           "gridcolor": "white",
           "linecolor": "white",
           "ticks": "",
           "title": {
            "standoff": 15
           },
           "zerolinecolor": "white",
           "zerolinewidth": 2
          }
         }
        },
        "title": {
         "text": "Amount of adoptions per Weekday"
        },
        "xaxis": {
         "anchor": "y",
         "domain": [
          0,
          1
         ],
         "tickfont": {
          "size": 14
         },
         "tickmode": "array",
         "ticktext": [
          "Sunday",
          "Monday",
          "Tuesday",
          "Wednesday",
          "Thursday",
          "Friday",
          "Saturday"
         ],
         "tickvals": [
          0,
          1,
          2,
          3,
          4,
          5,
          6
         ],
         "title": {
          "text": "Months"
         }
        },
        "yaxis": {
         "anchor": "x",
         "domain": [
          0,
          1
         ],
         "title": {
          "text": "Amounts"
         }
        }
       }
      },
      "text/html": [
       "<div>                            <div id=\"346a2129-276a-4e87-9dee-c02868b16d36\" class=\"plotly-graph-div\" style=\"height:525px; width:100%;\"></div>            <script type=\"text/javascript\">                require([\"plotly\"], function(Plotly) {                    window.PLOTLYENV=window.PLOTLYENV || {};                                    if (document.getElementById(\"346a2129-276a-4e87-9dee-c02868b16d36\")) {                    Plotly.newPlot(                        \"346a2129-276a-4e87-9dee-c02868b16d36\",                        [{\"alignmentgroup\": \"True\", \"hovertemplate\": \"variable=outcome_weekday<br>Months=%{x}<br>Amounts=%{y}<extra></extra>\", \"legendgroup\": \"outcome_weekday\", \"marker\": {\"color\": \"lightblue\"}, \"name\": \"outcome_weekday\", \"offsetgroup\": \"outcome_weekday\", \"orientation\": \"v\", \"showlegend\": true, \"textposition\": \"auto\", \"type\": \"bar\", \"x\": [6, 5, 0, 1, 4, 2, 3], \"xaxis\": \"x\", \"y\": [4070, 4068, 2768, 2531, 2449, 2290, 2256], \"yaxis\": \"y\"}],                        {\"barmode\": \"relative\", \"legend\": {\"title\": {\"text\": \"variable\"}, \"tracegroupgap\": 0}, \"plot_bgcolor\": \"#6C5B7B\", \"showlegend\": false, \"template\": {\"data\": {\"bar\": [{\"error_x\": {\"color\": \"#2a3f5f\"}, \"error_y\": {\"color\": \"#2a3f5f\"}, \"marker\": {\"line\": {\"color\": \"#E5ECF6\", \"width\": 0.5}}, \"type\": \"bar\"}], \"barpolar\": [{\"marker\": {\"line\": {\"color\": \"#E5ECF6\", \"width\": 0.5}}, \"type\": \"barpolar\"}], \"carpet\": [{\"aaxis\": {\"endlinecolor\": \"#2a3f5f\", \"gridcolor\": \"white\", \"linecolor\": \"white\", \"minorgridcolor\": \"white\", \"startlinecolor\": \"#2a3f5f\"}, \"baxis\": {\"endlinecolor\": \"#2a3f5f\", \"gridcolor\": \"white\", \"linecolor\": \"white\", \"minorgridcolor\": \"white\", \"startlinecolor\": \"#2a3f5f\"}, \"type\": \"carpet\"}], \"choropleth\": [{\"colorbar\": {\"outlinewidth\": 0, \"ticks\": \"\"}, \"type\": \"choropleth\"}], \"contour\": [{\"colorbar\": {\"outlinewidth\": 0, \"ticks\": \"\"}, \"colorscale\": [[0.0, \"#0d0887\"], [0.1111111111111111, \"#46039f\"], [0.2222222222222222, \"#7201a8\"], [0.3333333333333333, \"#9c179e\"], [0.4444444444444444, \"#bd3786\"], [0.5555555555555556, \"#d8576b\"], [0.6666666666666666, \"#ed7953\"], [0.7777777777777778, \"#fb9f3a\"], [0.8888888888888888, \"#fdca26\"], [1.0, \"#f0f921\"]], \"type\": \"contour\"}], \"contourcarpet\": [{\"colorbar\": {\"outlinewidth\": 0, \"ticks\": \"\"}, \"type\": \"contourcarpet\"}], \"heatmap\": [{\"colorbar\": {\"outlinewidth\": 0, \"ticks\": \"\"}, \"colorscale\": [[0.0, \"#0d0887\"], [0.1111111111111111, \"#46039f\"], [0.2222222222222222, \"#7201a8\"], [0.3333333333333333, \"#9c179e\"], [0.4444444444444444, \"#bd3786\"], [0.5555555555555556, \"#d8576b\"], [0.6666666666666666, \"#ed7953\"], [0.7777777777777778, \"#fb9f3a\"], [0.8888888888888888, \"#fdca26\"], [1.0, \"#f0f921\"]], \"type\": \"heatmap\"}], \"heatmapgl\": [{\"colorbar\": {\"outlinewidth\": 0, \"ticks\": \"\"}, \"colorscale\": [[0.0, \"#0d0887\"], [0.1111111111111111, \"#46039f\"], [0.2222222222222222, \"#7201a8\"], [0.3333333333333333, \"#9c179e\"], [0.4444444444444444, \"#bd3786\"], [0.5555555555555556, \"#d8576b\"], [0.6666666666666666, \"#ed7953\"], [0.7777777777777778, \"#fb9f3a\"], [0.8888888888888888, \"#fdca26\"], [1.0, \"#f0f921\"]], \"type\": \"heatmapgl\"}], \"histogram\": [{\"marker\": {\"colorbar\": {\"outlinewidth\": 0, \"ticks\": \"\"}}, \"type\": \"histogram\"}], \"histogram2d\": [{\"colorbar\": {\"outlinewidth\": 0, \"ticks\": \"\"}, \"colorscale\": [[0.0, \"#0d0887\"], [0.1111111111111111, \"#46039f\"], [0.2222222222222222, \"#7201a8\"], [0.3333333333333333, \"#9c179e\"], [0.4444444444444444, \"#bd3786\"], [0.5555555555555556, \"#d8576b\"], [0.6666666666666666, \"#ed7953\"], [0.7777777777777778, \"#fb9f3a\"], [0.8888888888888888, \"#fdca26\"], [1.0, \"#f0f921\"]], \"type\": \"histogram2d\"}], \"histogram2dcontour\": [{\"colorbar\": {\"outlinewidth\": 0, \"ticks\": \"\"}, \"colorscale\": [[0.0, \"#0d0887\"], [0.1111111111111111, \"#46039f\"], [0.2222222222222222, \"#7201a8\"], [0.3333333333333333, \"#9c179e\"], [0.4444444444444444, \"#bd3786\"], [0.5555555555555556, \"#d8576b\"], [0.6666666666666666, \"#ed7953\"], [0.7777777777777778, \"#fb9f3a\"], [0.8888888888888888, \"#fdca26\"], [1.0, \"#f0f921\"]], \"type\": \"histogram2dcontour\"}], \"mesh3d\": [{\"colorbar\": {\"outlinewidth\": 0, \"ticks\": \"\"}, \"type\": \"mesh3d\"}], \"parcoords\": [{\"line\": {\"colorbar\": {\"outlinewidth\": 0, \"ticks\": \"\"}}, \"type\": \"parcoords\"}], \"pie\": [{\"automargin\": true, \"type\": \"pie\"}], \"scatter\": [{\"marker\": {\"colorbar\": {\"outlinewidth\": 0, \"ticks\": \"\"}}, \"type\": \"scatter\"}], \"scatter3d\": [{\"line\": {\"colorbar\": {\"outlinewidth\": 0, \"ticks\": \"\"}}, \"marker\": {\"colorbar\": {\"outlinewidth\": 0, \"ticks\": \"\"}}, \"type\": \"scatter3d\"}], \"scattercarpet\": [{\"marker\": {\"colorbar\": {\"outlinewidth\": 0, \"ticks\": \"\"}}, \"type\": \"scattercarpet\"}], \"scattergeo\": [{\"marker\": {\"colorbar\": {\"outlinewidth\": 0, \"ticks\": \"\"}}, \"type\": \"scattergeo\"}], \"scattergl\": [{\"marker\": {\"colorbar\": {\"outlinewidth\": 0, \"ticks\": \"\"}}, \"type\": \"scattergl\"}], \"scattermapbox\": [{\"marker\": {\"colorbar\": {\"outlinewidth\": 0, \"ticks\": \"\"}}, \"type\": \"scattermapbox\"}], \"scatterpolar\": [{\"marker\": {\"colorbar\": {\"outlinewidth\": 0, \"ticks\": \"\"}}, \"type\": \"scatterpolar\"}], \"scatterpolargl\": [{\"marker\": {\"colorbar\": {\"outlinewidth\": 0, \"ticks\": \"\"}}, \"type\": \"scatterpolargl\"}], \"scatterternary\": [{\"marker\": {\"colorbar\": {\"outlinewidth\": 0, \"ticks\": \"\"}}, \"type\": \"scatterternary\"}], \"surface\": [{\"colorbar\": {\"outlinewidth\": 0, \"ticks\": \"\"}, \"colorscale\": [[0.0, \"#0d0887\"], [0.1111111111111111, \"#46039f\"], [0.2222222222222222, \"#7201a8\"], [0.3333333333333333, \"#9c179e\"], [0.4444444444444444, \"#bd3786\"], [0.5555555555555556, \"#d8576b\"], [0.6666666666666666, \"#ed7953\"], [0.7777777777777778, \"#fb9f3a\"], [0.8888888888888888, \"#fdca26\"], [1.0, \"#f0f921\"]], \"type\": \"surface\"}], \"table\": [{\"cells\": {\"fill\": {\"color\": \"#EBF0F8\"}, \"line\": {\"color\": \"white\"}}, \"header\": {\"fill\": {\"color\": \"#C8D4E3\"}, \"line\": {\"color\": \"white\"}}, \"type\": \"table\"}]}, \"layout\": {\"annotationdefaults\": {\"arrowcolor\": \"#2a3f5f\", \"arrowhead\": 0, \"arrowwidth\": 1}, \"coloraxis\": {\"colorbar\": {\"outlinewidth\": 0, \"ticks\": \"\"}}, \"colorscale\": {\"diverging\": [[0, \"#8e0152\"], [0.1, \"#c51b7d\"], [0.2, \"#de77ae\"], [0.3, \"#f1b6da\"], [0.4, \"#fde0ef\"], [0.5, \"#f7f7f7\"], [0.6, \"#e6f5d0\"], [0.7, \"#b8e186\"], [0.8, \"#7fbc41\"], [0.9, \"#4d9221\"], [1, \"#276419\"]], \"sequential\": [[0.0, \"#0d0887\"], [0.1111111111111111, \"#46039f\"], [0.2222222222222222, \"#7201a8\"], [0.3333333333333333, \"#9c179e\"], [0.4444444444444444, \"#bd3786\"], [0.5555555555555556, \"#d8576b\"], [0.6666666666666666, \"#ed7953\"], [0.7777777777777778, \"#fb9f3a\"], [0.8888888888888888, \"#fdca26\"], [1.0, \"#f0f921\"]], \"sequentialminus\": [[0.0, \"#0d0887\"], [0.1111111111111111, \"#46039f\"], [0.2222222222222222, \"#7201a8\"], [0.3333333333333333, \"#9c179e\"], [0.4444444444444444, \"#bd3786\"], [0.5555555555555556, \"#d8576b\"], [0.6666666666666666, \"#ed7953\"], [0.7777777777777778, \"#fb9f3a\"], [0.8888888888888888, \"#fdca26\"], [1.0, \"#f0f921\"]]}, \"colorway\": [\"#636efa\", \"#EF553B\", \"#00cc96\", \"#ab63fa\", \"#FFA15A\", \"#19d3f3\", \"#FF6692\", \"#B6E880\", \"#FF97FF\", \"#FECB52\"], \"font\": {\"color\": \"#2a3f5f\"}, \"geo\": {\"bgcolor\": \"white\", \"lakecolor\": \"white\", \"landcolor\": \"#E5ECF6\", \"showlakes\": true, \"showland\": true, \"subunitcolor\": \"white\"}, \"hoverlabel\": {\"align\": \"left\"}, \"hovermode\": \"closest\", \"mapbox\": {\"style\": \"light\"}, \"paper_bgcolor\": \"white\", \"plot_bgcolor\": \"#E5ECF6\", \"polar\": {\"angularaxis\": {\"gridcolor\": \"white\", \"linecolor\": \"white\", \"ticks\": \"\"}, \"bgcolor\": \"#E5ECF6\", \"radialaxis\": {\"gridcolor\": \"white\", \"linecolor\": \"white\", \"ticks\": \"\"}}, \"scene\": {\"xaxis\": {\"backgroundcolor\": \"#E5ECF6\", \"gridcolor\": \"white\", \"gridwidth\": 2, \"linecolor\": \"white\", \"showbackground\": true, \"ticks\": \"\", \"zerolinecolor\": \"white\"}, \"yaxis\": {\"backgroundcolor\": \"#E5ECF6\", \"gridcolor\": \"white\", \"gridwidth\": 2, \"linecolor\": \"white\", \"showbackground\": true, \"ticks\": \"\", \"zerolinecolor\": \"white\"}, \"zaxis\": {\"backgroundcolor\": \"#E5ECF6\", \"gridcolor\": \"white\", \"gridwidth\": 2, \"linecolor\": \"white\", \"showbackground\": true, \"ticks\": \"\", \"zerolinecolor\": \"white\"}}, \"shapedefaults\": {\"line\": {\"color\": \"#2a3f5f\"}}, \"ternary\": {\"aaxis\": {\"gridcolor\": \"white\", \"linecolor\": \"white\", \"ticks\": \"\"}, \"baxis\": {\"gridcolor\": \"white\", \"linecolor\": \"white\", \"ticks\": \"\"}, \"bgcolor\": \"#E5ECF6\", \"caxis\": {\"gridcolor\": \"white\", \"linecolor\": \"white\", \"ticks\": \"\"}}, \"title\": {\"x\": 0.05}, \"xaxis\": {\"automargin\": true, \"gridcolor\": \"white\", \"linecolor\": \"white\", \"ticks\": \"\", \"title\": {\"standoff\": 15}, \"zerolinecolor\": \"white\", \"zerolinewidth\": 2}, \"yaxis\": {\"automargin\": true, \"gridcolor\": \"white\", \"linecolor\": \"white\", \"ticks\": \"\", \"title\": {\"standoff\": 15}, \"zerolinecolor\": \"white\", \"zerolinewidth\": 2}}}, \"title\": {\"text\": \"Amount of adoptions per Weekday\"}, \"xaxis\": {\"anchor\": \"y\", \"domain\": [0.0, 1.0], \"tickfont\": {\"size\": 14}, \"tickmode\": \"array\", \"ticktext\": [\"Sunday\", \"Monday\", \"Tuesday\", \"Wednesday\", \"Thursday\", \"Friday\", \"Saturday\"], \"tickvals\": [0, 1, 2, 3, 4, 5, 6], \"title\": {\"text\": \"Months\"}}, \"yaxis\": {\"anchor\": \"x\", \"domain\": [0.0, 1.0], \"title\": {\"text\": \"Amounts\"}}},                        {\"responsive\": true}                    ).then(function(){\n",
       "                            \n",
       "var gd = document.getElementById('346a2129-276a-4e87-9dee-c02868b16d36');\n",
       "var x = new MutationObserver(function (mutations, observer) {{\n",
       "        var display = window.getComputedStyle(gd).display;\n",
       "        if (!display || display === 'none') {{\n",
       "            console.log([gd, 'removed!']);\n",
       "            Plotly.purge(gd);\n",
       "            observer.disconnect();\n",
       "        }}\n",
       "}});\n",
       "\n",
       "// Listen for the removal of the full notebook cells\n",
       "var notebookContainer = gd.closest('#notebook-container');\n",
       "if (notebookContainer) {{\n",
       "    x.observe(notebookContainer, {childList: true});\n",
       "}}\n",
       "\n",
       "// Listen for the clearing of the current output cell\n",
       "var outputEl = gd.closest('.output');\n",
       "if (outputEl) {{\n",
       "    x.observe(outputEl, {childList: true});\n",
       "}}\n",
       "\n",
       "                        })                };                });            </script>        </div>"
      ]
     },
     "metadata": {},
     "output_type": "display_data"
    }
   ],
   "source": [
    "data=df.outcome_weekday.value_counts()\n",
    "fig=px.bar(data, title=\"Amount of adoptions per Weekday\",labels={'index': 'Months','value':'Amounts'},color_discrete_sequence=['lightblue'])\n",
    "fig.update_layout(\n",
    "    xaxis_tickfont_size=14,\n",
    "    xaxis_tickmode='array',\n",
    "    xaxis_tickvals=[0,1,2,3,4,5,6],\n",
    "    xaxis_ticktext=['Sunday','Monday','Tuesday','Wednesday','Thursday','Friday','Saturday'],\n",
    "    showlegend=False,\n",
    "    plot_bgcolor = '#6C5B7B'\n",
    "    )\n",
    "\n",
    "fig.show()"
   ]
  },
  {
   "cell_type": "code",
   "execution_count": 38,
   "metadata": {
    "scrolled": true
   },
   "outputs": [
    {
     "data": {
      "application/vnd.plotly.v1+json": {
       "config": {
        "plotlyServerURL": "https://plot.ly"
       },
       "data": [
        {
         "alignmentgroup": "True",
         "hovertemplate": "variable=season<br>Months=%{x}<br>Amounts=%{y}<extra></extra>",
         "legendgroup": "season",
         "marker": {
          "color": "#b9A9a9"
         },
         "name": "season",
         "offsetgroup": "season",
         "orientation": "v",
         "showlegend": true,
         "textposition": "auto",
         "type": "bar",
         "x": [
          4,
          3,
          2,
          1
         ],
         "xaxis": "x",
         "y": [
          5638,
          5139,
          4830,
          4825
         ],
         "yaxis": "y"
        }
       ],
       "layout": {
        "barmode": "relative",
        "legend": {
         "title": {
          "text": "variable"
         },
         "tracegroupgap": 0
        },
        "plot_bgcolor": "#F9CDAD",
        "showlegend": false,
        "template": {
         "data": {
          "bar": [
           {
            "error_x": {
             "color": "#2a3f5f"
            },
            "error_y": {
             "color": "#2a3f5f"
            },
            "marker": {
             "line": {
              "color": "#E5ECF6",
              "width": 0.5
             }
            },
            "type": "bar"
           }
          ],
          "barpolar": [
           {
            "marker": {
             "line": {
              "color": "#E5ECF6",
              "width": 0.5
             }
            },
            "type": "barpolar"
           }
          ],
          "carpet": [
           {
            "aaxis": {
             "endlinecolor": "#2a3f5f",
             "gridcolor": "white",
             "linecolor": "white",
             "minorgridcolor": "white",
             "startlinecolor": "#2a3f5f"
            },
            "baxis": {
             "endlinecolor": "#2a3f5f",
             "gridcolor": "white",
             "linecolor": "white",
             "minorgridcolor": "white",
             "startlinecolor": "#2a3f5f"
            },
            "type": "carpet"
           }
          ],
          "choropleth": [
           {
            "colorbar": {
             "outlinewidth": 0,
             "ticks": ""
            },
            "type": "choropleth"
           }
          ],
          "contour": [
           {
            "colorbar": {
             "outlinewidth": 0,
             "ticks": ""
            },
            "colorscale": [
             [
              0,
              "#0d0887"
             ],
             [
              0.1111111111111111,
              "#46039f"
             ],
             [
              0.2222222222222222,
              "#7201a8"
             ],
             [
              0.3333333333333333,
              "#9c179e"
             ],
             [
              0.4444444444444444,
              "#bd3786"
             ],
             [
              0.5555555555555556,
              "#d8576b"
             ],
             [
              0.6666666666666666,
              "#ed7953"
             ],
             [
              0.7777777777777778,
              "#fb9f3a"
             ],
             [
              0.8888888888888888,
              "#fdca26"
             ],
             [
              1,
              "#f0f921"
             ]
            ],
            "type": "contour"
           }
          ],
          "contourcarpet": [
           {
            "colorbar": {
             "outlinewidth": 0,
             "ticks": ""
            },
            "type": "contourcarpet"
           }
          ],
          "heatmap": [
           {
            "colorbar": {
             "outlinewidth": 0,
             "ticks": ""
            },
            "colorscale": [
             [
              0,
              "#0d0887"
             ],
             [
              0.1111111111111111,
              "#46039f"
             ],
             [
              0.2222222222222222,
              "#7201a8"
             ],
             [
              0.3333333333333333,
              "#9c179e"
             ],
             [
              0.4444444444444444,
              "#bd3786"
             ],
             [
              0.5555555555555556,
              "#d8576b"
             ],
             [
              0.6666666666666666,
              "#ed7953"
             ],
             [
              0.7777777777777778,
              "#fb9f3a"
             ],
             [
              0.8888888888888888,
              "#fdca26"
             ],
             [
              1,
              "#f0f921"
             ]
            ],
            "type": "heatmap"
           }
          ],
          "heatmapgl": [
           {
            "colorbar": {
             "outlinewidth": 0,
             "ticks": ""
            },
            "colorscale": [
             [
              0,
              "#0d0887"
             ],
             [
              0.1111111111111111,
              "#46039f"
             ],
             [
              0.2222222222222222,
              "#7201a8"
             ],
             [
              0.3333333333333333,
              "#9c179e"
             ],
             [
              0.4444444444444444,
              "#bd3786"
             ],
             [
              0.5555555555555556,
              "#d8576b"
             ],
             [
              0.6666666666666666,
              "#ed7953"
             ],
             [
              0.7777777777777778,
              "#fb9f3a"
             ],
             [
              0.8888888888888888,
              "#fdca26"
             ],
             [
              1,
              "#f0f921"
             ]
            ],
            "type": "heatmapgl"
           }
          ],
          "histogram": [
           {
            "marker": {
             "colorbar": {
              "outlinewidth": 0,
              "ticks": ""
             }
            },
            "type": "histogram"
           }
          ],
          "histogram2d": [
           {
            "colorbar": {
             "outlinewidth": 0,
             "ticks": ""
            },
            "colorscale": [
             [
              0,
              "#0d0887"
             ],
             [
              0.1111111111111111,
              "#46039f"
             ],
             [
              0.2222222222222222,
              "#7201a8"
             ],
             [
              0.3333333333333333,
              "#9c179e"
             ],
             [
              0.4444444444444444,
              "#bd3786"
             ],
             [
              0.5555555555555556,
              "#d8576b"
             ],
             [
              0.6666666666666666,
              "#ed7953"
             ],
             [
              0.7777777777777778,
              "#fb9f3a"
             ],
             [
              0.8888888888888888,
              "#fdca26"
             ],
             [
              1,
              "#f0f921"
             ]
            ],
            "type": "histogram2d"
           }
          ],
          "histogram2dcontour": [
           {
            "colorbar": {
             "outlinewidth": 0,
             "ticks": ""
            },
            "colorscale": [
             [
              0,
              "#0d0887"
             ],
             [
              0.1111111111111111,
              "#46039f"
             ],
             [
              0.2222222222222222,
              "#7201a8"
             ],
             [
              0.3333333333333333,
              "#9c179e"
             ],
             [
              0.4444444444444444,
              "#bd3786"
             ],
             [
              0.5555555555555556,
              "#d8576b"
             ],
             [
              0.6666666666666666,
              "#ed7953"
             ],
             [
              0.7777777777777778,
              "#fb9f3a"
             ],
             [
              0.8888888888888888,
              "#fdca26"
             ],
             [
              1,
              "#f0f921"
             ]
            ],
            "type": "histogram2dcontour"
           }
          ],
          "mesh3d": [
           {
            "colorbar": {
             "outlinewidth": 0,
             "ticks": ""
            },
            "type": "mesh3d"
           }
          ],
          "parcoords": [
           {
            "line": {
             "colorbar": {
              "outlinewidth": 0,
              "ticks": ""
             }
            },
            "type": "parcoords"
           }
          ],
          "pie": [
           {
            "automargin": true,
            "type": "pie"
           }
          ],
          "scatter": [
           {
            "marker": {
             "colorbar": {
              "outlinewidth": 0,
              "ticks": ""
             }
            },
            "type": "scatter"
           }
          ],
          "scatter3d": [
           {
            "line": {
             "colorbar": {
              "outlinewidth": 0,
              "ticks": ""
             }
            },
            "marker": {
             "colorbar": {
              "outlinewidth": 0,
              "ticks": ""
             }
            },
            "type": "scatter3d"
           }
          ],
          "scattercarpet": [
           {
            "marker": {
             "colorbar": {
              "outlinewidth": 0,
              "ticks": ""
             }
            },
            "type": "scattercarpet"
           }
          ],
          "scattergeo": [
           {
            "marker": {
             "colorbar": {
              "outlinewidth": 0,
              "ticks": ""
             }
            },
            "type": "scattergeo"
           }
          ],
          "scattergl": [
           {
            "marker": {
             "colorbar": {
              "outlinewidth": 0,
              "ticks": ""
             }
            },
            "type": "scattergl"
           }
          ],
          "scattermapbox": [
           {
            "marker": {
             "colorbar": {
              "outlinewidth": 0,
              "ticks": ""
             }
            },
            "type": "scattermapbox"
           }
          ],
          "scatterpolar": [
           {
            "marker": {
             "colorbar": {
              "outlinewidth": 0,
              "ticks": ""
             }
            },
            "type": "scatterpolar"
           }
          ],
          "scatterpolargl": [
           {
            "marker": {
             "colorbar": {
              "outlinewidth": 0,
              "ticks": ""
             }
            },
            "type": "scatterpolargl"
           }
          ],
          "scatterternary": [
           {
            "marker": {
             "colorbar": {
              "outlinewidth": 0,
              "ticks": ""
             }
            },
            "type": "scatterternary"
           }
          ],
          "surface": [
           {
            "colorbar": {
             "outlinewidth": 0,
             "ticks": ""
            },
            "colorscale": [
             [
              0,
              "#0d0887"
             ],
             [
              0.1111111111111111,
              "#46039f"
             ],
             [
              0.2222222222222222,
              "#7201a8"
             ],
             [
              0.3333333333333333,
              "#9c179e"
             ],
             [
              0.4444444444444444,
              "#bd3786"
             ],
             [
              0.5555555555555556,
              "#d8576b"
             ],
             [
              0.6666666666666666,
              "#ed7953"
             ],
             [
              0.7777777777777778,
              "#fb9f3a"
             ],
             [
              0.8888888888888888,
              "#fdca26"
             ],
             [
              1,
              "#f0f921"
             ]
            ],
            "type": "surface"
           }
          ],
          "table": [
           {
            "cells": {
             "fill": {
              "color": "#EBF0F8"
             },
             "line": {
              "color": "white"
             }
            },
            "header": {
             "fill": {
              "color": "#C8D4E3"
             },
             "line": {
              "color": "white"
             }
            },
            "type": "table"
           }
          ]
         },
         "layout": {
          "annotationdefaults": {
           "arrowcolor": "#2a3f5f",
           "arrowhead": 0,
           "arrowwidth": 1
          },
          "coloraxis": {
           "colorbar": {
            "outlinewidth": 0,
            "ticks": ""
           }
          },
          "colorscale": {
           "diverging": [
            [
             0,
             "#8e0152"
            ],
            [
             0.1,
             "#c51b7d"
            ],
            [
             0.2,
             "#de77ae"
            ],
            [
             0.3,
             "#f1b6da"
            ],
            [
             0.4,
             "#fde0ef"
            ],
            [
             0.5,
             "#f7f7f7"
            ],
            [
             0.6,
             "#e6f5d0"
            ],
            [
             0.7,
             "#b8e186"
            ],
            [
             0.8,
             "#7fbc41"
            ],
            [
             0.9,
             "#4d9221"
            ],
            [
             1,
             "#276419"
            ]
           ],
           "sequential": [
            [
             0,
             "#0d0887"
            ],
            [
             0.1111111111111111,
             "#46039f"
            ],
            [
             0.2222222222222222,
             "#7201a8"
            ],
            [
             0.3333333333333333,
             "#9c179e"
            ],
            [
             0.4444444444444444,
             "#bd3786"
            ],
            [
             0.5555555555555556,
             "#d8576b"
            ],
            [
             0.6666666666666666,
             "#ed7953"
            ],
            [
             0.7777777777777778,
             "#fb9f3a"
            ],
            [
             0.8888888888888888,
             "#fdca26"
            ],
            [
             1,
             "#f0f921"
            ]
           ],
           "sequentialminus": [
            [
             0,
             "#0d0887"
            ],
            [
             0.1111111111111111,
             "#46039f"
            ],
            [
             0.2222222222222222,
             "#7201a8"
            ],
            [
             0.3333333333333333,
             "#9c179e"
            ],
            [
             0.4444444444444444,
             "#bd3786"
            ],
            [
             0.5555555555555556,
             "#d8576b"
            ],
            [
             0.6666666666666666,
             "#ed7953"
            ],
            [
             0.7777777777777778,
             "#fb9f3a"
            ],
            [
             0.8888888888888888,
             "#fdca26"
            ],
            [
             1,
             "#f0f921"
            ]
           ]
          },
          "colorway": [
           "#636efa",
           "#EF553B",
           "#00cc96",
           "#ab63fa",
           "#FFA15A",
           "#19d3f3",
           "#FF6692",
           "#B6E880",
           "#FF97FF",
           "#FECB52"
          ],
          "font": {
           "color": "#2a3f5f"
          },
          "geo": {
           "bgcolor": "white",
           "lakecolor": "white",
           "landcolor": "#E5ECF6",
           "showlakes": true,
           "showland": true,
           "subunitcolor": "white"
          },
          "hoverlabel": {
           "align": "left"
          },
          "hovermode": "closest",
          "mapbox": {
           "style": "light"
          },
          "paper_bgcolor": "white",
          "plot_bgcolor": "#E5ECF6",
          "polar": {
           "angularaxis": {
            "gridcolor": "white",
            "linecolor": "white",
            "ticks": ""
           },
           "bgcolor": "#E5ECF6",
           "radialaxis": {
            "gridcolor": "white",
            "linecolor": "white",
            "ticks": ""
           }
          },
          "scene": {
           "xaxis": {
            "backgroundcolor": "#E5ECF6",
            "gridcolor": "white",
            "gridwidth": 2,
            "linecolor": "white",
            "showbackground": true,
            "ticks": "",
            "zerolinecolor": "white"
           },
           "yaxis": {
            "backgroundcolor": "#E5ECF6",
            "gridcolor": "white",
            "gridwidth": 2,
            "linecolor": "white",
            "showbackground": true,
            "ticks": "",
            "zerolinecolor": "white"
           },
           "zaxis": {
            "backgroundcolor": "#E5ECF6",
            "gridcolor": "white",
            "gridwidth": 2,
            "linecolor": "white",
            "showbackground": true,
            "ticks": "",
            "zerolinecolor": "white"
           }
          },
          "shapedefaults": {
           "line": {
            "color": "#2a3f5f"
           }
          },
          "ternary": {
           "aaxis": {
            "gridcolor": "white",
            "linecolor": "white",
            "ticks": ""
           },
           "baxis": {
            "gridcolor": "white",
            "linecolor": "white",
            "ticks": ""
           },
           "bgcolor": "#E5ECF6",
           "caxis": {
            "gridcolor": "white",
            "linecolor": "white",
            "ticks": ""
           }
          },
          "title": {
           "x": 0.05
          },
          "xaxis": {
           "automargin": true,
           "gridcolor": "white",
           "linecolor": "white",
           "ticks": "",
           "title": {
            "standoff": 15
           },
           "zerolinecolor": "white",
           "zerolinewidth": 2
          },
          "yaxis": {
           "automargin": true,
           "gridcolor": "white",
           "linecolor": "white",
           "ticks": "",
           "title": {
            "standoff": 15
           },
           "zerolinecolor": "white",
           "zerolinewidth": 2
          }
         }
        },
        "title": {
         "text": "Amount of intakes per Season"
        },
        "xaxis": {
         "anchor": "y",
         "domain": [
          0,
          1
         ],
         "ticktext": [
          "Spring",
          "Summer",
          "Fall",
          "Winter"
         ],
         "tickvals": [
          1,
          2,
          3,
          4
         ],
         "title": {
          "text": "Months"
         }
        },
        "yaxis": {
         "anchor": "x",
         "domain": [
          0,
          1
         ],
         "title": {
          "text": "Amounts"
         }
        }
       }
      },
      "text/html": [
       "<div>                            <div id=\"adab5cc8-3a08-44ad-813d-3d3326fa2601\" class=\"plotly-graph-div\" style=\"height:525px; width:100%;\"></div>            <script type=\"text/javascript\">                require([\"plotly\"], function(Plotly) {                    window.PLOTLYENV=window.PLOTLYENV || {};                                    if (document.getElementById(\"adab5cc8-3a08-44ad-813d-3d3326fa2601\")) {                    Plotly.newPlot(                        \"adab5cc8-3a08-44ad-813d-3d3326fa2601\",                        [{\"alignmentgroup\": \"True\", \"hovertemplate\": \"variable=season<br>Months=%{x}<br>Amounts=%{y}<extra></extra>\", \"legendgroup\": \"season\", \"marker\": {\"color\": \"#b9A9a9\"}, \"name\": \"season\", \"offsetgroup\": \"season\", \"orientation\": \"v\", \"showlegend\": true, \"textposition\": \"auto\", \"type\": \"bar\", \"x\": [4, 3, 2, 1], \"xaxis\": \"x\", \"y\": [5638, 5139, 4830, 4825], \"yaxis\": \"y\"}],                        {\"barmode\": \"relative\", \"legend\": {\"title\": {\"text\": \"variable\"}, \"tracegroupgap\": 0}, \"plot_bgcolor\": \"#F9CDAD\", \"showlegend\": false, \"template\": {\"data\": {\"bar\": [{\"error_x\": {\"color\": \"#2a3f5f\"}, \"error_y\": {\"color\": \"#2a3f5f\"}, \"marker\": {\"line\": {\"color\": \"#E5ECF6\", \"width\": 0.5}}, \"type\": \"bar\"}], \"barpolar\": [{\"marker\": {\"line\": {\"color\": \"#E5ECF6\", \"width\": 0.5}}, \"type\": \"barpolar\"}], \"carpet\": [{\"aaxis\": {\"endlinecolor\": \"#2a3f5f\", \"gridcolor\": \"white\", \"linecolor\": \"white\", \"minorgridcolor\": \"white\", \"startlinecolor\": \"#2a3f5f\"}, \"baxis\": {\"endlinecolor\": \"#2a3f5f\", \"gridcolor\": \"white\", \"linecolor\": \"white\", \"minorgridcolor\": \"white\", \"startlinecolor\": \"#2a3f5f\"}, \"type\": \"carpet\"}], \"choropleth\": [{\"colorbar\": {\"outlinewidth\": 0, \"ticks\": \"\"}, \"type\": \"choropleth\"}], \"contour\": [{\"colorbar\": {\"outlinewidth\": 0, \"ticks\": \"\"}, \"colorscale\": [[0.0, \"#0d0887\"], [0.1111111111111111, \"#46039f\"], [0.2222222222222222, \"#7201a8\"], [0.3333333333333333, \"#9c179e\"], [0.4444444444444444, \"#bd3786\"], [0.5555555555555556, \"#d8576b\"], [0.6666666666666666, \"#ed7953\"], [0.7777777777777778, \"#fb9f3a\"], [0.8888888888888888, \"#fdca26\"], [1.0, \"#f0f921\"]], \"type\": \"contour\"}], \"contourcarpet\": [{\"colorbar\": {\"outlinewidth\": 0, \"ticks\": \"\"}, \"type\": \"contourcarpet\"}], \"heatmap\": [{\"colorbar\": {\"outlinewidth\": 0, \"ticks\": \"\"}, \"colorscale\": [[0.0, \"#0d0887\"], [0.1111111111111111, \"#46039f\"], [0.2222222222222222, \"#7201a8\"], [0.3333333333333333, \"#9c179e\"], [0.4444444444444444, \"#bd3786\"], [0.5555555555555556, \"#d8576b\"], [0.6666666666666666, \"#ed7953\"], [0.7777777777777778, \"#fb9f3a\"], [0.8888888888888888, \"#fdca26\"], [1.0, \"#f0f921\"]], \"type\": \"heatmap\"}], \"heatmapgl\": [{\"colorbar\": {\"outlinewidth\": 0, \"ticks\": \"\"}, \"colorscale\": [[0.0, \"#0d0887\"], [0.1111111111111111, \"#46039f\"], [0.2222222222222222, \"#7201a8\"], [0.3333333333333333, \"#9c179e\"], [0.4444444444444444, \"#bd3786\"], [0.5555555555555556, \"#d8576b\"], [0.6666666666666666, \"#ed7953\"], [0.7777777777777778, \"#fb9f3a\"], [0.8888888888888888, \"#fdca26\"], [1.0, \"#f0f921\"]], \"type\": \"heatmapgl\"}], \"histogram\": [{\"marker\": {\"colorbar\": {\"outlinewidth\": 0, \"ticks\": \"\"}}, \"type\": \"histogram\"}], \"histogram2d\": [{\"colorbar\": {\"outlinewidth\": 0, \"ticks\": \"\"}, \"colorscale\": [[0.0, \"#0d0887\"], [0.1111111111111111, \"#46039f\"], [0.2222222222222222, \"#7201a8\"], [0.3333333333333333, \"#9c179e\"], [0.4444444444444444, \"#bd3786\"], [0.5555555555555556, \"#d8576b\"], [0.6666666666666666, \"#ed7953\"], [0.7777777777777778, \"#fb9f3a\"], [0.8888888888888888, \"#fdca26\"], [1.0, \"#f0f921\"]], \"type\": \"histogram2d\"}], \"histogram2dcontour\": [{\"colorbar\": {\"outlinewidth\": 0, \"ticks\": \"\"}, \"colorscale\": [[0.0, \"#0d0887\"], [0.1111111111111111, \"#46039f\"], [0.2222222222222222, \"#7201a8\"], [0.3333333333333333, \"#9c179e\"], [0.4444444444444444, \"#bd3786\"], [0.5555555555555556, \"#d8576b\"], [0.6666666666666666, \"#ed7953\"], [0.7777777777777778, \"#fb9f3a\"], [0.8888888888888888, \"#fdca26\"], [1.0, \"#f0f921\"]], \"type\": \"histogram2dcontour\"}], \"mesh3d\": [{\"colorbar\": {\"outlinewidth\": 0, \"ticks\": \"\"}, \"type\": \"mesh3d\"}], \"parcoords\": [{\"line\": {\"colorbar\": {\"outlinewidth\": 0, \"ticks\": \"\"}}, \"type\": \"parcoords\"}], \"pie\": [{\"automargin\": true, \"type\": \"pie\"}], \"scatter\": [{\"marker\": {\"colorbar\": {\"outlinewidth\": 0, \"ticks\": \"\"}}, \"type\": \"scatter\"}], \"scatter3d\": [{\"line\": {\"colorbar\": {\"outlinewidth\": 0, \"ticks\": \"\"}}, \"marker\": {\"colorbar\": {\"outlinewidth\": 0, \"ticks\": \"\"}}, \"type\": \"scatter3d\"}], \"scattercarpet\": [{\"marker\": {\"colorbar\": {\"outlinewidth\": 0, \"ticks\": \"\"}}, \"type\": \"scattercarpet\"}], \"scattergeo\": [{\"marker\": {\"colorbar\": {\"outlinewidth\": 0, \"ticks\": \"\"}}, \"type\": \"scattergeo\"}], \"scattergl\": [{\"marker\": {\"colorbar\": {\"outlinewidth\": 0, \"ticks\": \"\"}}, \"type\": \"scattergl\"}], \"scattermapbox\": [{\"marker\": {\"colorbar\": {\"outlinewidth\": 0, \"ticks\": \"\"}}, \"type\": \"scattermapbox\"}], \"scatterpolar\": [{\"marker\": {\"colorbar\": {\"outlinewidth\": 0, \"ticks\": \"\"}}, \"type\": \"scatterpolar\"}], \"scatterpolargl\": [{\"marker\": {\"colorbar\": {\"outlinewidth\": 0, \"ticks\": \"\"}}, \"type\": \"scatterpolargl\"}], \"scatterternary\": [{\"marker\": {\"colorbar\": {\"outlinewidth\": 0, \"ticks\": \"\"}}, \"type\": \"scatterternary\"}], \"surface\": [{\"colorbar\": {\"outlinewidth\": 0, \"ticks\": \"\"}, \"colorscale\": [[0.0, \"#0d0887\"], [0.1111111111111111, \"#46039f\"], [0.2222222222222222, \"#7201a8\"], [0.3333333333333333, \"#9c179e\"], [0.4444444444444444, \"#bd3786\"], [0.5555555555555556, \"#d8576b\"], [0.6666666666666666, \"#ed7953\"], [0.7777777777777778, \"#fb9f3a\"], [0.8888888888888888, \"#fdca26\"], [1.0, \"#f0f921\"]], \"type\": \"surface\"}], \"table\": [{\"cells\": {\"fill\": {\"color\": \"#EBF0F8\"}, \"line\": {\"color\": \"white\"}}, \"header\": {\"fill\": {\"color\": \"#C8D4E3\"}, \"line\": {\"color\": \"white\"}}, \"type\": \"table\"}]}, \"layout\": {\"annotationdefaults\": {\"arrowcolor\": \"#2a3f5f\", \"arrowhead\": 0, \"arrowwidth\": 1}, \"coloraxis\": {\"colorbar\": {\"outlinewidth\": 0, \"ticks\": \"\"}}, \"colorscale\": {\"diverging\": [[0, \"#8e0152\"], [0.1, \"#c51b7d\"], [0.2, \"#de77ae\"], [0.3, \"#f1b6da\"], [0.4, \"#fde0ef\"], [0.5, \"#f7f7f7\"], [0.6, \"#e6f5d0\"], [0.7, \"#b8e186\"], [0.8, \"#7fbc41\"], [0.9, \"#4d9221\"], [1, \"#276419\"]], \"sequential\": [[0.0, \"#0d0887\"], [0.1111111111111111, \"#46039f\"], [0.2222222222222222, \"#7201a8\"], [0.3333333333333333, \"#9c179e\"], [0.4444444444444444, \"#bd3786\"], [0.5555555555555556, \"#d8576b\"], [0.6666666666666666, \"#ed7953\"], [0.7777777777777778, \"#fb9f3a\"], [0.8888888888888888, \"#fdca26\"], [1.0, \"#f0f921\"]], \"sequentialminus\": [[0.0, \"#0d0887\"], [0.1111111111111111, \"#46039f\"], [0.2222222222222222, \"#7201a8\"], [0.3333333333333333, \"#9c179e\"], [0.4444444444444444, \"#bd3786\"], [0.5555555555555556, \"#d8576b\"], [0.6666666666666666, \"#ed7953\"], [0.7777777777777778, \"#fb9f3a\"], [0.8888888888888888, \"#fdca26\"], [1.0, \"#f0f921\"]]}, \"colorway\": [\"#636efa\", \"#EF553B\", \"#00cc96\", \"#ab63fa\", \"#FFA15A\", \"#19d3f3\", \"#FF6692\", \"#B6E880\", \"#FF97FF\", \"#FECB52\"], \"font\": {\"color\": \"#2a3f5f\"}, \"geo\": {\"bgcolor\": \"white\", \"lakecolor\": \"white\", \"landcolor\": \"#E5ECF6\", \"showlakes\": true, \"showland\": true, \"subunitcolor\": \"white\"}, \"hoverlabel\": {\"align\": \"left\"}, \"hovermode\": \"closest\", \"mapbox\": {\"style\": \"light\"}, \"paper_bgcolor\": \"white\", \"plot_bgcolor\": \"#E5ECF6\", \"polar\": {\"angularaxis\": {\"gridcolor\": \"white\", \"linecolor\": \"white\", \"ticks\": \"\"}, \"bgcolor\": \"#E5ECF6\", \"radialaxis\": {\"gridcolor\": \"white\", \"linecolor\": \"white\", \"ticks\": \"\"}}, \"scene\": {\"xaxis\": {\"backgroundcolor\": \"#E5ECF6\", \"gridcolor\": \"white\", \"gridwidth\": 2, \"linecolor\": \"white\", \"showbackground\": true, \"ticks\": \"\", \"zerolinecolor\": \"white\"}, \"yaxis\": {\"backgroundcolor\": \"#E5ECF6\", \"gridcolor\": \"white\", \"gridwidth\": 2, \"linecolor\": \"white\", \"showbackground\": true, \"ticks\": \"\", \"zerolinecolor\": \"white\"}, \"zaxis\": {\"backgroundcolor\": \"#E5ECF6\", \"gridcolor\": \"white\", \"gridwidth\": 2, \"linecolor\": \"white\", \"showbackground\": true, \"ticks\": \"\", \"zerolinecolor\": \"white\"}}, \"shapedefaults\": {\"line\": {\"color\": \"#2a3f5f\"}}, \"ternary\": {\"aaxis\": {\"gridcolor\": \"white\", \"linecolor\": \"white\", \"ticks\": \"\"}, \"baxis\": {\"gridcolor\": \"white\", \"linecolor\": \"white\", \"ticks\": \"\"}, \"bgcolor\": \"#E5ECF6\", \"caxis\": {\"gridcolor\": \"white\", \"linecolor\": \"white\", \"ticks\": \"\"}}, \"title\": {\"x\": 0.05}, \"xaxis\": {\"automargin\": true, \"gridcolor\": \"white\", \"linecolor\": \"white\", \"ticks\": \"\", \"title\": {\"standoff\": 15}, \"zerolinecolor\": \"white\", \"zerolinewidth\": 2}, \"yaxis\": {\"automargin\": true, \"gridcolor\": \"white\", \"linecolor\": \"white\", \"ticks\": \"\", \"title\": {\"standoff\": 15}, \"zerolinecolor\": \"white\", \"zerolinewidth\": 2}}}, \"title\": {\"text\": \"Amount of intakes per Season\"}, \"xaxis\": {\"anchor\": \"y\", \"domain\": [0.0, 1.0], \"ticktext\": [\"Spring\", \"Summer\", \"Fall\", \"Winter\"], \"tickvals\": [1, 2, 3, 4], \"title\": {\"text\": \"Months\"}}, \"yaxis\": {\"anchor\": \"x\", \"domain\": [0.0, 1.0], \"title\": {\"text\": \"Amounts\"}}},                        {\"responsive\": true}                    ).then(function(){\n",
       "                            \n",
       "var gd = document.getElementById('adab5cc8-3a08-44ad-813d-3d3326fa2601');\n",
       "var x = new MutationObserver(function (mutations, observer) {{\n",
       "        var display = window.getComputedStyle(gd).display;\n",
       "        if (!display || display === 'none') {{\n",
       "            console.log([gd, 'removed!']);\n",
       "            Plotly.purge(gd);\n",
       "            observer.disconnect();\n",
       "        }}\n",
       "}});\n",
       "\n",
       "// Listen for the removal of the full notebook cells\n",
       "var notebookContainer = gd.closest('#notebook-container');\n",
       "if (notebookContainer) {{\n",
       "    x.observe(notebookContainer, {childList: true});\n",
       "}}\n",
       "\n",
       "// Listen for the clearing of the current output cell\n",
       "var outputEl = gd.closest('.output');\n",
       "if (outputEl) {{\n",
       "    x.observe(outputEl, {childList: true});\n",
       "}}\n",
       "\n",
       "                        })                };                });            </script>        </div>"
      ]
     },
     "metadata": {},
     "output_type": "display_data"
    }
   ],
   "source": [
    "data=df.season.value_counts()\n",
    "fig=px.bar(data, title=\"Amount of intakes per Season\",labels={'index': 'Months','value':'Amounts'},color_discrete_sequence=['#b9A9a9'])\n",
    "fig.update_layout(\n",
    "    showlegend=False,\n",
    "    plot_bgcolor = '#F9CDAD',\n",
    "    xaxis_tickvals=[1,2,3,4],\n",
    "    xaxis_ticktext=['Spring',\"Summer\",'Fall','Winter'],\n",
    "    )\n",
    "\n",
    "fig.show()"
   ]
  },
  {
   "cell_type": "code",
   "execution_count": 88,
   "metadata": {},
   "outputs": [
    {
     "data": {
      "application/vnd.plotly.v1+json": {
       "config": {
        "plotlyServerURL": "https://plot.ly"
       },
       "data": [
        {
         "alignmentgroup": "True",
         "hovertemplate": "variable=intake_type<br>Reasons=%{x}<br>Amounts=%{y}<extra></extra>",
         "legendgroup": "intake_type",
         "marker": {
          "color": "#dec3c3 "
         },
         "name": "intake_type",
         "offsetgroup": "intake_type",
         "orientation": "v",
         "showlegend": true,
         "textposition": "auto",
         "type": "bar",
         "x": [
          "Stray",
          "Owner Surrender",
          "Public Assist",
          "Euthanasia Request"
         ],
         "xaxis": "x",
         "y": [
          14927,
          5080,
          420,
          5
         ],
         "yaxis": "y"
        }
       ],
       "layout": {
        "barmode": "relative",
        "legend": {
         "title": {
          "text": "variable"
         },
         "tracegroupgap": 0
        },
        "plot_bgcolor": "#4d648d",
        "showlegend": false,
        "template": {
         "data": {
          "bar": [
           {
            "error_x": {
             "color": "#2a3f5f"
            },
            "error_y": {
             "color": "#2a3f5f"
            },
            "marker": {
             "line": {
              "color": "#E5ECF6",
              "width": 0.5
             }
            },
            "type": "bar"
           }
          ],
          "barpolar": [
           {
            "marker": {
             "line": {
              "color": "#E5ECF6",
              "width": 0.5
             }
            },
            "type": "barpolar"
           }
          ],
          "carpet": [
           {
            "aaxis": {
             "endlinecolor": "#2a3f5f",
             "gridcolor": "white",
             "linecolor": "white",
             "minorgridcolor": "white",
             "startlinecolor": "#2a3f5f"
            },
            "baxis": {
             "endlinecolor": "#2a3f5f",
             "gridcolor": "white",
             "linecolor": "white",
             "minorgridcolor": "white",
             "startlinecolor": "#2a3f5f"
            },
            "type": "carpet"
           }
          ],
          "choropleth": [
           {
            "colorbar": {
             "outlinewidth": 0,
             "ticks": ""
            },
            "type": "choropleth"
           }
          ],
          "contour": [
           {
            "colorbar": {
             "outlinewidth": 0,
             "ticks": ""
            },
            "colorscale": [
             [
              0,
              "#0d0887"
             ],
             [
              0.1111111111111111,
              "#46039f"
             ],
             [
              0.2222222222222222,
              "#7201a8"
             ],
             [
              0.3333333333333333,
              "#9c179e"
             ],
             [
              0.4444444444444444,
              "#bd3786"
             ],
             [
              0.5555555555555556,
              "#d8576b"
             ],
             [
              0.6666666666666666,
              "#ed7953"
             ],
             [
              0.7777777777777778,
              "#fb9f3a"
             ],
             [
              0.8888888888888888,
              "#fdca26"
             ],
             [
              1,
              "#f0f921"
             ]
            ],
            "type": "contour"
           }
          ],
          "contourcarpet": [
           {
            "colorbar": {
             "outlinewidth": 0,
             "ticks": ""
            },
            "type": "contourcarpet"
           }
          ],
          "heatmap": [
           {
            "colorbar": {
             "outlinewidth": 0,
             "ticks": ""
            },
            "colorscale": [
             [
              0,
              "#0d0887"
             ],
             [
              0.1111111111111111,
              "#46039f"
             ],
             [
              0.2222222222222222,
              "#7201a8"
             ],
             [
              0.3333333333333333,
              "#9c179e"
             ],
             [
              0.4444444444444444,
              "#bd3786"
             ],
             [
              0.5555555555555556,
              "#d8576b"
             ],
             [
              0.6666666666666666,
              "#ed7953"
             ],
             [
              0.7777777777777778,
              "#fb9f3a"
             ],
             [
              0.8888888888888888,
              "#fdca26"
             ],
             [
              1,
              "#f0f921"
             ]
            ],
            "type": "heatmap"
           }
          ],
          "heatmapgl": [
           {
            "colorbar": {
             "outlinewidth": 0,
             "ticks": ""
            },
            "colorscale": [
             [
              0,
              "#0d0887"
             ],
             [
              0.1111111111111111,
              "#46039f"
             ],
             [
              0.2222222222222222,
              "#7201a8"
             ],
             [
              0.3333333333333333,
              "#9c179e"
             ],
             [
              0.4444444444444444,
              "#bd3786"
             ],
             [
              0.5555555555555556,
              "#d8576b"
             ],
             [
              0.6666666666666666,
              "#ed7953"
             ],
             [
              0.7777777777777778,
              "#fb9f3a"
             ],
             [
              0.8888888888888888,
              "#fdca26"
             ],
             [
              1,
              "#f0f921"
             ]
            ],
            "type": "heatmapgl"
           }
          ],
          "histogram": [
           {
            "marker": {
             "colorbar": {
              "outlinewidth": 0,
              "ticks": ""
             }
            },
            "type": "histogram"
           }
          ],
          "histogram2d": [
           {
            "colorbar": {
             "outlinewidth": 0,
             "ticks": ""
            },
            "colorscale": [
             [
              0,
              "#0d0887"
             ],
             [
              0.1111111111111111,
              "#46039f"
             ],
             [
              0.2222222222222222,
              "#7201a8"
             ],
             [
              0.3333333333333333,
              "#9c179e"
             ],
             [
              0.4444444444444444,
              "#bd3786"
             ],
             [
              0.5555555555555556,
              "#d8576b"
             ],
             [
              0.6666666666666666,
              "#ed7953"
             ],
             [
              0.7777777777777778,
              "#fb9f3a"
             ],
             [
              0.8888888888888888,
              "#fdca26"
             ],
             [
              1,
              "#f0f921"
             ]
            ],
            "type": "histogram2d"
           }
          ],
          "histogram2dcontour": [
           {
            "colorbar": {
             "outlinewidth": 0,
             "ticks": ""
            },
            "colorscale": [
             [
              0,
              "#0d0887"
             ],
             [
              0.1111111111111111,
              "#46039f"
             ],
             [
              0.2222222222222222,
              "#7201a8"
             ],
             [
              0.3333333333333333,
              "#9c179e"
             ],
             [
              0.4444444444444444,
              "#bd3786"
             ],
             [
              0.5555555555555556,
              "#d8576b"
             ],
             [
              0.6666666666666666,
              "#ed7953"
             ],
             [
              0.7777777777777778,
              "#fb9f3a"
             ],
             [
              0.8888888888888888,
              "#fdca26"
             ],
             [
              1,
              "#f0f921"
             ]
            ],
            "type": "histogram2dcontour"
           }
          ],
          "mesh3d": [
           {
            "colorbar": {
             "outlinewidth": 0,
             "ticks": ""
            },
            "type": "mesh3d"
           }
          ],
          "parcoords": [
           {
            "line": {
             "colorbar": {
              "outlinewidth": 0,
              "ticks": ""
             }
            },
            "type": "parcoords"
           }
          ],
          "pie": [
           {
            "automargin": true,
            "type": "pie"
           }
          ],
          "scatter": [
           {
            "marker": {
             "colorbar": {
              "outlinewidth": 0,
              "ticks": ""
             }
            },
            "type": "scatter"
           }
          ],
          "scatter3d": [
           {
            "line": {
             "colorbar": {
              "outlinewidth": 0,
              "ticks": ""
             }
            },
            "marker": {
             "colorbar": {
              "outlinewidth": 0,
              "ticks": ""
             }
            },
            "type": "scatter3d"
           }
          ],
          "scattercarpet": [
           {
            "marker": {
             "colorbar": {
              "outlinewidth": 0,
              "ticks": ""
             }
            },
            "type": "scattercarpet"
           }
          ],
          "scattergeo": [
           {
            "marker": {
             "colorbar": {
              "outlinewidth": 0,
              "ticks": ""
             }
            },
            "type": "scattergeo"
           }
          ],
          "scattergl": [
           {
            "marker": {
             "colorbar": {
              "outlinewidth": 0,
              "ticks": ""
             }
            },
            "type": "scattergl"
           }
          ],
          "scattermapbox": [
           {
            "marker": {
             "colorbar": {
              "outlinewidth": 0,
              "ticks": ""
             }
            },
            "type": "scattermapbox"
           }
          ],
          "scatterpolar": [
           {
            "marker": {
             "colorbar": {
              "outlinewidth": 0,
              "ticks": ""
             }
            },
            "type": "scatterpolar"
           }
          ],
          "scatterpolargl": [
           {
            "marker": {
             "colorbar": {
              "outlinewidth": 0,
              "ticks": ""
             }
            },
            "type": "scatterpolargl"
           }
          ],
          "scatterternary": [
           {
            "marker": {
             "colorbar": {
              "outlinewidth": 0,
              "ticks": ""
             }
            },
            "type": "scatterternary"
           }
          ],
          "surface": [
           {
            "colorbar": {
             "outlinewidth": 0,
             "ticks": ""
            },
            "colorscale": [
             [
              0,
              "#0d0887"
             ],
             [
              0.1111111111111111,
              "#46039f"
             ],
             [
              0.2222222222222222,
              "#7201a8"
             ],
             [
              0.3333333333333333,
              "#9c179e"
             ],
             [
              0.4444444444444444,
              "#bd3786"
             ],
             [
              0.5555555555555556,
              "#d8576b"
             ],
             [
              0.6666666666666666,
              "#ed7953"
             ],
             [
              0.7777777777777778,
              "#fb9f3a"
             ],
             [
              0.8888888888888888,
              "#fdca26"
             ],
             [
              1,
              "#f0f921"
             ]
            ],
            "type": "surface"
           }
          ],
          "table": [
           {
            "cells": {
             "fill": {
              "color": "#EBF0F8"
             },
             "line": {
              "color": "white"
             }
            },
            "header": {
             "fill": {
              "color": "#C8D4E3"
             },
             "line": {
              "color": "white"
             }
            },
            "type": "table"
           }
          ]
         },
         "layout": {
          "annotationdefaults": {
           "arrowcolor": "#2a3f5f",
           "arrowhead": 0,
           "arrowwidth": 1
          },
          "coloraxis": {
           "colorbar": {
            "outlinewidth": 0,
            "ticks": ""
           }
          },
          "colorscale": {
           "diverging": [
            [
             0,
             "#8e0152"
            ],
            [
             0.1,
             "#c51b7d"
            ],
            [
             0.2,
             "#de77ae"
            ],
            [
             0.3,
             "#f1b6da"
            ],
            [
             0.4,
             "#fde0ef"
            ],
            [
             0.5,
             "#f7f7f7"
            ],
            [
             0.6,
             "#e6f5d0"
            ],
            [
             0.7,
             "#b8e186"
            ],
            [
             0.8,
             "#7fbc41"
            ],
            [
             0.9,
             "#4d9221"
            ],
            [
             1,
             "#276419"
            ]
           ],
           "sequential": [
            [
             0,
             "#0d0887"
            ],
            [
             0.1111111111111111,
             "#46039f"
            ],
            [
             0.2222222222222222,
             "#7201a8"
            ],
            [
             0.3333333333333333,
             "#9c179e"
            ],
            [
             0.4444444444444444,
             "#bd3786"
            ],
            [
             0.5555555555555556,
             "#d8576b"
            ],
            [
             0.6666666666666666,
             "#ed7953"
            ],
            [
             0.7777777777777778,
             "#fb9f3a"
            ],
            [
             0.8888888888888888,
             "#fdca26"
            ],
            [
             1,
             "#f0f921"
            ]
           ],
           "sequentialminus": [
            [
             0,
             "#0d0887"
            ],
            [
             0.1111111111111111,
             "#46039f"
            ],
            [
             0.2222222222222222,
             "#7201a8"
            ],
            [
             0.3333333333333333,
             "#9c179e"
            ],
            [
             0.4444444444444444,
             "#bd3786"
            ],
            [
             0.5555555555555556,
             "#d8576b"
            ],
            [
             0.6666666666666666,
             "#ed7953"
            ],
            [
             0.7777777777777778,
             "#fb9f3a"
            ],
            [
             0.8888888888888888,
             "#fdca26"
            ],
            [
             1,
             "#f0f921"
            ]
           ]
          },
          "colorway": [
           "#636efa",
           "#EF553B",
           "#00cc96",
           "#ab63fa",
           "#FFA15A",
           "#19d3f3",
           "#FF6692",
           "#B6E880",
           "#FF97FF",
           "#FECB52"
          ],
          "font": {
           "color": "#2a3f5f"
          },
          "geo": {
           "bgcolor": "white",
           "lakecolor": "white",
           "landcolor": "#E5ECF6",
           "showlakes": true,
           "showland": true,
           "subunitcolor": "white"
          },
          "hoverlabel": {
           "align": "left"
          },
          "hovermode": "closest",
          "mapbox": {
           "style": "light"
          },
          "paper_bgcolor": "white",
          "plot_bgcolor": "#E5ECF6",
          "polar": {
           "angularaxis": {
            "gridcolor": "white",
            "linecolor": "white",
            "ticks": ""
           },
           "bgcolor": "#E5ECF6",
           "radialaxis": {
            "gridcolor": "white",
            "linecolor": "white",
            "ticks": ""
           }
          },
          "scene": {
           "xaxis": {
            "backgroundcolor": "#E5ECF6",
            "gridcolor": "white",
            "gridwidth": 2,
            "linecolor": "white",
            "showbackground": true,
            "ticks": "",
            "zerolinecolor": "white"
           },
           "yaxis": {
            "backgroundcolor": "#E5ECF6",
            "gridcolor": "white",
            "gridwidth": 2,
            "linecolor": "white",
            "showbackground": true,
            "ticks": "",
            "zerolinecolor": "white"
           },
           "zaxis": {
            "backgroundcolor": "#E5ECF6",
            "gridcolor": "white",
            "gridwidth": 2,
            "linecolor": "white",
            "showbackground": true,
            "ticks": "",
            "zerolinecolor": "white"
           }
          },
          "shapedefaults": {
           "line": {
            "color": "#2a3f5f"
           }
          },
          "ternary": {
           "aaxis": {
            "gridcolor": "white",
            "linecolor": "white",
            "ticks": ""
           },
           "baxis": {
            "gridcolor": "white",
            "linecolor": "white",
            "ticks": ""
           },
           "bgcolor": "#E5ECF6",
           "caxis": {
            "gridcolor": "white",
            "linecolor": "white",
            "ticks": ""
           }
          },
          "title": {
           "x": 0.05
          },
          "xaxis": {
           "automargin": true,
           "gridcolor": "white",
           "linecolor": "white",
           "ticks": "",
           "title": {
            "standoff": 15
           },
           "zerolinecolor": "white",
           "zerolinewidth": 2
          },
          "yaxis": {
           "automargin": true,
           "gridcolor": "white",
           "linecolor": "white",
           "ticks": "",
           "title": {
            "standoff": 15
           },
           "zerolinecolor": "white",
           "zerolinewidth": 2
          }
         }
        },
        "title": {
         "text": "Reason for intake"
        },
        "xaxis": {
         "anchor": "y",
         "domain": [
          0,
          1
         ],
         "title": {
          "text": "Reasons"
         }
        },
        "yaxis": {
         "anchor": "x",
         "domain": [
          0,
          1
         ],
         "title": {
          "text": "Amounts"
         }
        }
       }
      },
      "text/html": [
       "<div>                            <div id=\"70fc7c4b-a55b-4c11-9209-156ab65f1bda\" class=\"plotly-graph-div\" style=\"height:525px; width:100%;\"></div>            <script type=\"text/javascript\">                require([\"plotly\"], function(Plotly) {                    window.PLOTLYENV=window.PLOTLYENV || {};                                    if (document.getElementById(\"70fc7c4b-a55b-4c11-9209-156ab65f1bda\")) {                    Plotly.newPlot(                        \"70fc7c4b-a55b-4c11-9209-156ab65f1bda\",                        [{\"alignmentgroup\": \"True\", \"hovertemplate\": \"variable=intake_type<br>Reasons=%{x}<br>Amounts=%{y}<extra></extra>\", \"legendgroup\": \"intake_type\", \"marker\": {\"color\": \"#dec3c3 \"}, \"name\": \"intake_type\", \"offsetgroup\": \"intake_type\", \"orientation\": \"v\", \"showlegend\": true, \"textposition\": \"auto\", \"type\": \"bar\", \"x\": [\"Stray\", \"Owner Surrender\", \"Public Assist\", \"Euthanasia Request\"], \"xaxis\": \"x\", \"y\": [14927, 5080, 420, 5], \"yaxis\": \"y\"}],                        {\"barmode\": \"relative\", \"legend\": {\"title\": {\"text\": \"variable\"}, \"tracegroupgap\": 0}, \"plot_bgcolor\": \"#4d648d\", \"showlegend\": false, \"template\": {\"data\": {\"bar\": [{\"error_x\": {\"color\": \"#2a3f5f\"}, \"error_y\": {\"color\": \"#2a3f5f\"}, \"marker\": {\"line\": {\"color\": \"#E5ECF6\", \"width\": 0.5}}, \"type\": \"bar\"}], \"barpolar\": [{\"marker\": {\"line\": {\"color\": \"#E5ECF6\", \"width\": 0.5}}, \"type\": \"barpolar\"}], \"carpet\": [{\"aaxis\": {\"endlinecolor\": \"#2a3f5f\", \"gridcolor\": \"white\", \"linecolor\": \"white\", \"minorgridcolor\": \"white\", \"startlinecolor\": \"#2a3f5f\"}, \"baxis\": {\"endlinecolor\": \"#2a3f5f\", \"gridcolor\": \"white\", \"linecolor\": \"white\", \"minorgridcolor\": \"white\", \"startlinecolor\": \"#2a3f5f\"}, \"type\": \"carpet\"}], \"choropleth\": [{\"colorbar\": {\"outlinewidth\": 0, \"ticks\": \"\"}, \"type\": \"choropleth\"}], \"contour\": [{\"colorbar\": {\"outlinewidth\": 0, \"ticks\": \"\"}, \"colorscale\": [[0.0, \"#0d0887\"], [0.1111111111111111, \"#46039f\"], [0.2222222222222222, \"#7201a8\"], [0.3333333333333333, \"#9c179e\"], [0.4444444444444444, \"#bd3786\"], [0.5555555555555556, \"#d8576b\"], [0.6666666666666666, \"#ed7953\"], [0.7777777777777778, \"#fb9f3a\"], [0.8888888888888888, \"#fdca26\"], [1.0, \"#f0f921\"]], \"type\": \"contour\"}], \"contourcarpet\": [{\"colorbar\": {\"outlinewidth\": 0, \"ticks\": \"\"}, \"type\": \"contourcarpet\"}], \"heatmap\": [{\"colorbar\": {\"outlinewidth\": 0, \"ticks\": \"\"}, \"colorscale\": [[0.0, \"#0d0887\"], [0.1111111111111111, \"#46039f\"], [0.2222222222222222, \"#7201a8\"], [0.3333333333333333, \"#9c179e\"], [0.4444444444444444, \"#bd3786\"], [0.5555555555555556, \"#d8576b\"], [0.6666666666666666, \"#ed7953\"], [0.7777777777777778, \"#fb9f3a\"], [0.8888888888888888, \"#fdca26\"], [1.0, \"#f0f921\"]], \"type\": \"heatmap\"}], \"heatmapgl\": [{\"colorbar\": {\"outlinewidth\": 0, \"ticks\": \"\"}, \"colorscale\": [[0.0, \"#0d0887\"], [0.1111111111111111, \"#46039f\"], [0.2222222222222222, \"#7201a8\"], [0.3333333333333333, \"#9c179e\"], [0.4444444444444444, \"#bd3786\"], [0.5555555555555556, \"#d8576b\"], [0.6666666666666666, \"#ed7953\"], [0.7777777777777778, \"#fb9f3a\"], [0.8888888888888888, \"#fdca26\"], [1.0, \"#f0f921\"]], \"type\": \"heatmapgl\"}], \"histogram\": [{\"marker\": {\"colorbar\": {\"outlinewidth\": 0, \"ticks\": \"\"}}, \"type\": \"histogram\"}], \"histogram2d\": [{\"colorbar\": {\"outlinewidth\": 0, \"ticks\": \"\"}, \"colorscale\": [[0.0, \"#0d0887\"], [0.1111111111111111, \"#46039f\"], [0.2222222222222222, \"#7201a8\"], [0.3333333333333333, \"#9c179e\"], [0.4444444444444444, \"#bd3786\"], [0.5555555555555556, \"#d8576b\"], [0.6666666666666666, \"#ed7953\"], [0.7777777777777778, \"#fb9f3a\"], [0.8888888888888888, \"#fdca26\"], [1.0, \"#f0f921\"]], \"type\": \"histogram2d\"}], \"histogram2dcontour\": [{\"colorbar\": {\"outlinewidth\": 0, \"ticks\": \"\"}, \"colorscale\": [[0.0, \"#0d0887\"], [0.1111111111111111, \"#46039f\"], [0.2222222222222222, \"#7201a8\"], [0.3333333333333333, \"#9c179e\"], [0.4444444444444444, \"#bd3786\"], [0.5555555555555556, \"#d8576b\"], [0.6666666666666666, \"#ed7953\"], [0.7777777777777778, \"#fb9f3a\"], [0.8888888888888888, \"#fdca26\"], [1.0, \"#f0f921\"]], \"type\": \"histogram2dcontour\"}], \"mesh3d\": [{\"colorbar\": {\"outlinewidth\": 0, \"ticks\": \"\"}, \"type\": \"mesh3d\"}], \"parcoords\": [{\"line\": {\"colorbar\": {\"outlinewidth\": 0, \"ticks\": \"\"}}, \"type\": \"parcoords\"}], \"pie\": [{\"automargin\": true, \"type\": \"pie\"}], \"scatter\": [{\"marker\": {\"colorbar\": {\"outlinewidth\": 0, \"ticks\": \"\"}}, \"type\": \"scatter\"}], \"scatter3d\": [{\"line\": {\"colorbar\": {\"outlinewidth\": 0, \"ticks\": \"\"}}, \"marker\": {\"colorbar\": {\"outlinewidth\": 0, \"ticks\": \"\"}}, \"type\": \"scatter3d\"}], \"scattercarpet\": [{\"marker\": {\"colorbar\": {\"outlinewidth\": 0, \"ticks\": \"\"}}, \"type\": \"scattercarpet\"}], \"scattergeo\": [{\"marker\": {\"colorbar\": {\"outlinewidth\": 0, \"ticks\": \"\"}}, \"type\": \"scattergeo\"}], \"scattergl\": [{\"marker\": {\"colorbar\": {\"outlinewidth\": 0, \"ticks\": \"\"}}, \"type\": \"scattergl\"}], \"scattermapbox\": [{\"marker\": {\"colorbar\": {\"outlinewidth\": 0, \"ticks\": \"\"}}, \"type\": \"scattermapbox\"}], \"scatterpolar\": [{\"marker\": {\"colorbar\": {\"outlinewidth\": 0, \"ticks\": \"\"}}, \"type\": \"scatterpolar\"}], \"scatterpolargl\": [{\"marker\": {\"colorbar\": {\"outlinewidth\": 0, \"ticks\": \"\"}}, \"type\": \"scatterpolargl\"}], \"scatterternary\": [{\"marker\": {\"colorbar\": {\"outlinewidth\": 0, \"ticks\": \"\"}}, \"type\": \"scatterternary\"}], \"surface\": [{\"colorbar\": {\"outlinewidth\": 0, \"ticks\": \"\"}, \"colorscale\": [[0.0, \"#0d0887\"], [0.1111111111111111, \"#46039f\"], [0.2222222222222222, \"#7201a8\"], [0.3333333333333333, \"#9c179e\"], [0.4444444444444444, \"#bd3786\"], [0.5555555555555556, \"#d8576b\"], [0.6666666666666666, \"#ed7953\"], [0.7777777777777778, \"#fb9f3a\"], [0.8888888888888888, \"#fdca26\"], [1.0, \"#f0f921\"]], \"type\": \"surface\"}], \"table\": [{\"cells\": {\"fill\": {\"color\": \"#EBF0F8\"}, \"line\": {\"color\": \"white\"}}, \"header\": {\"fill\": {\"color\": \"#C8D4E3\"}, \"line\": {\"color\": \"white\"}}, \"type\": \"table\"}]}, \"layout\": {\"annotationdefaults\": {\"arrowcolor\": \"#2a3f5f\", \"arrowhead\": 0, \"arrowwidth\": 1}, \"coloraxis\": {\"colorbar\": {\"outlinewidth\": 0, \"ticks\": \"\"}}, \"colorscale\": {\"diverging\": [[0, \"#8e0152\"], [0.1, \"#c51b7d\"], [0.2, \"#de77ae\"], [0.3, \"#f1b6da\"], [0.4, \"#fde0ef\"], [0.5, \"#f7f7f7\"], [0.6, \"#e6f5d0\"], [0.7, \"#b8e186\"], [0.8, \"#7fbc41\"], [0.9, \"#4d9221\"], [1, \"#276419\"]], \"sequential\": [[0.0, \"#0d0887\"], [0.1111111111111111, \"#46039f\"], [0.2222222222222222, \"#7201a8\"], [0.3333333333333333, \"#9c179e\"], [0.4444444444444444, \"#bd3786\"], [0.5555555555555556, \"#d8576b\"], [0.6666666666666666, \"#ed7953\"], [0.7777777777777778, \"#fb9f3a\"], [0.8888888888888888, \"#fdca26\"], [1.0, \"#f0f921\"]], \"sequentialminus\": [[0.0, \"#0d0887\"], [0.1111111111111111, \"#46039f\"], [0.2222222222222222, \"#7201a8\"], [0.3333333333333333, \"#9c179e\"], [0.4444444444444444, \"#bd3786\"], [0.5555555555555556, \"#d8576b\"], [0.6666666666666666, \"#ed7953\"], [0.7777777777777778, \"#fb9f3a\"], [0.8888888888888888, \"#fdca26\"], [1.0, \"#f0f921\"]]}, \"colorway\": [\"#636efa\", \"#EF553B\", \"#00cc96\", \"#ab63fa\", \"#FFA15A\", \"#19d3f3\", \"#FF6692\", \"#B6E880\", \"#FF97FF\", \"#FECB52\"], \"font\": {\"color\": \"#2a3f5f\"}, \"geo\": {\"bgcolor\": \"white\", \"lakecolor\": \"white\", \"landcolor\": \"#E5ECF6\", \"showlakes\": true, \"showland\": true, \"subunitcolor\": \"white\"}, \"hoverlabel\": {\"align\": \"left\"}, \"hovermode\": \"closest\", \"mapbox\": {\"style\": \"light\"}, \"paper_bgcolor\": \"white\", \"plot_bgcolor\": \"#E5ECF6\", \"polar\": {\"angularaxis\": {\"gridcolor\": \"white\", \"linecolor\": \"white\", \"ticks\": \"\"}, \"bgcolor\": \"#E5ECF6\", \"radialaxis\": {\"gridcolor\": \"white\", \"linecolor\": \"white\", \"ticks\": \"\"}}, \"scene\": {\"xaxis\": {\"backgroundcolor\": \"#E5ECF6\", \"gridcolor\": \"white\", \"gridwidth\": 2, \"linecolor\": \"white\", \"showbackground\": true, \"ticks\": \"\", \"zerolinecolor\": \"white\"}, \"yaxis\": {\"backgroundcolor\": \"#E5ECF6\", \"gridcolor\": \"white\", \"gridwidth\": 2, \"linecolor\": \"white\", \"showbackground\": true, \"ticks\": \"\", \"zerolinecolor\": \"white\"}, \"zaxis\": {\"backgroundcolor\": \"#E5ECF6\", \"gridcolor\": \"white\", \"gridwidth\": 2, \"linecolor\": \"white\", \"showbackground\": true, \"ticks\": \"\", \"zerolinecolor\": \"white\"}}, \"shapedefaults\": {\"line\": {\"color\": \"#2a3f5f\"}}, \"ternary\": {\"aaxis\": {\"gridcolor\": \"white\", \"linecolor\": \"white\", \"ticks\": \"\"}, \"baxis\": {\"gridcolor\": \"white\", \"linecolor\": \"white\", \"ticks\": \"\"}, \"bgcolor\": \"#E5ECF6\", \"caxis\": {\"gridcolor\": \"white\", \"linecolor\": \"white\", \"ticks\": \"\"}}, \"title\": {\"x\": 0.05}, \"xaxis\": {\"automargin\": true, \"gridcolor\": \"white\", \"linecolor\": \"white\", \"ticks\": \"\", \"title\": {\"standoff\": 15}, \"zerolinecolor\": \"white\", \"zerolinewidth\": 2}, \"yaxis\": {\"automargin\": true, \"gridcolor\": \"white\", \"linecolor\": \"white\", \"ticks\": \"\", \"title\": {\"standoff\": 15}, \"zerolinecolor\": \"white\", \"zerolinewidth\": 2}}}, \"title\": {\"text\": \"Reason for intake\"}, \"xaxis\": {\"anchor\": \"y\", \"domain\": [0.0, 1.0], \"title\": {\"text\": \"Reasons\"}}, \"yaxis\": {\"anchor\": \"x\", \"domain\": [0.0, 1.0], \"title\": {\"text\": \"Amounts\"}}},                        {\"responsive\": true}                    ).then(function(){\n",
       "                            \n",
       "var gd = document.getElementById('70fc7c4b-a55b-4c11-9209-156ab65f1bda');\n",
       "var x = new MutationObserver(function (mutations, observer) {{\n",
       "        var display = window.getComputedStyle(gd).display;\n",
       "        if (!display || display === 'none') {{\n",
       "            console.log([gd, 'removed!']);\n",
       "            Plotly.purge(gd);\n",
       "            observer.disconnect();\n",
       "        }}\n",
       "}});\n",
       "\n",
       "// Listen for the removal of the full notebook cells\n",
       "var notebookContainer = gd.closest('#notebook-container');\n",
       "if (notebookContainer) {{\n",
       "    x.observe(notebookContainer, {childList: true});\n",
       "}}\n",
       "\n",
       "// Listen for the clearing of the current output cell\n",
       "var outputEl = gd.closest('.output');\n",
       "if (outputEl) {{\n",
       "    x.observe(outputEl, {childList: true});\n",
       "}}\n",
       "\n",
       "                        })                };                });            </script>        </div>"
      ]
     },
     "metadata": {},
     "output_type": "display_data"
    }
   ],
   "source": [
    "data=df.intake_type.value_counts()\n",
    "fig=px.bar(data, title=\"Reason for intake\",labels={'index': 'Reasons','value':'Amounts'},color_discrete_sequence=['#dec3c3 '])\n",
    "fig.update_layout(\n",
    "    showlegend=False,\n",
    "    plot_bgcolor = '#4d648d',\n",
    "    )\n",
    "\n",
    "fig.show()"
   ]
  },
  {
   "cell_type": "code",
   "execution_count": 90,
   "metadata": {},
   "outputs": [
    {
     "ename": "AttributeError",
     "evalue": "'DataFrame' object has no attribute 'intake_month'",
     "output_type": "error",
     "traceback": [
      "\u001b[0;31m---------------------------------------------------------------------------\u001b[0m",
      "\u001b[0;31mAttributeError\u001b[0m                            Traceback (most recent call last)",
      "\u001b[0;32m<ipython-input-90-78670ccde03d>\u001b[0m in \u001b[0;36m<module>\u001b[0;34m\u001b[0m\n\u001b[0;32m----> 1\u001b[0;31m \u001b[0mdf\u001b[0m\u001b[0;34m.\u001b[0m\u001b[0mintake_month\u001b[0m\u001b[0;34m\u001b[0m\u001b[0;34m\u001b[0m\u001b[0m\n\u001b[0m",
      "\u001b[0;32m~/opt/anaconda3/lib/python3.7/site-packages/pandas/core/generic.py\u001b[0m in \u001b[0;36m__getattr__\u001b[0;34m(self, name)\u001b[0m\n\u001b[1;32m   5272\u001b[0m             \u001b[0;32mif\u001b[0m \u001b[0mself\u001b[0m\u001b[0;34m.\u001b[0m\u001b[0m_info_axis\u001b[0m\u001b[0;34m.\u001b[0m\u001b[0m_can_hold_identifiers_and_holds_name\u001b[0m\u001b[0;34m(\u001b[0m\u001b[0mname\u001b[0m\u001b[0;34m)\u001b[0m\u001b[0;34m:\u001b[0m\u001b[0;34m\u001b[0m\u001b[0;34m\u001b[0m\u001b[0m\n\u001b[1;32m   5273\u001b[0m                 \u001b[0;32mreturn\u001b[0m \u001b[0mself\u001b[0m\u001b[0;34m[\u001b[0m\u001b[0mname\u001b[0m\u001b[0;34m]\u001b[0m\u001b[0;34m\u001b[0m\u001b[0;34m\u001b[0m\u001b[0m\n\u001b[0;32m-> 5274\u001b[0;31m             \u001b[0;32mreturn\u001b[0m \u001b[0mobject\u001b[0m\u001b[0;34m.\u001b[0m\u001b[0m__getattribute__\u001b[0m\u001b[0;34m(\u001b[0m\u001b[0mself\u001b[0m\u001b[0;34m,\u001b[0m \u001b[0mname\u001b[0m\u001b[0;34m)\u001b[0m\u001b[0;34m\u001b[0m\u001b[0;34m\u001b[0m\u001b[0m\n\u001b[0m\u001b[1;32m   5275\u001b[0m \u001b[0;34m\u001b[0m\u001b[0m\n\u001b[1;32m   5276\u001b[0m     \u001b[0;32mdef\u001b[0m \u001b[0m__setattr__\u001b[0m\u001b[0;34m(\u001b[0m\u001b[0mself\u001b[0m\u001b[0;34m,\u001b[0m \u001b[0mname\u001b[0m\u001b[0;34m:\u001b[0m \u001b[0mstr\u001b[0m\u001b[0;34m,\u001b[0m \u001b[0mvalue\u001b[0m\u001b[0;34m)\u001b[0m \u001b[0;34m->\u001b[0m \u001b[0;32mNone\u001b[0m\u001b[0;34m:\u001b[0m\u001b[0;34m\u001b[0m\u001b[0;34m\u001b[0m\u001b[0m\n",
      "\u001b[0;31mAttributeError\u001b[0m: 'DataFrame' object has no attribute 'intake_month'"
     ]
    }
   ],
   "source": [
    "df.intake_month"
   ]
  },
  {
   "cell_type": "code",
   "execution_count": 39,
   "metadata": {},
   "outputs": [],
   "source": [
    "features=[   'dob_year', 'dob_month',\n",
    "       'age_upon_intake', 'animal_id_intake',\n",
    "       'count', 'age_upon_intake_days', 'age_upon_intake_tears',\n",
    "       'age_upon_intake_age_group', 'intake_year', 'intake_weekday', 'intake_hour', 'intake_number',\n",
    "       'time_in_shelter', 'time_in_shelter_days', 'has_second_color', 'is_dog', 'is_male', 'is_fixed', 'found_lat',\n",
    "       'found_lon', 'is_breed2', 'is_mix', \n",
    "       'max_weight', 'max_height', 'max_life', 'health', 'color_bin',\n",
    "       'was_owned', 'season', 'intake_month_1', 'intake_month_2',\n",
    "       'intake_month_3', 'intake_month_4', 'intake_month_5', 'intake_month_6',\n",
    "       'intake_month_7', 'intake_month_8', 'intake_month_9', 'intake_month_10',\n",
    "       'intake_month_11', 'intake_month_12']"
   ]
  },
  {
   "cell_type": "code",
   "execution_count": 40,
   "metadata": {},
   "outputs": [
    {
     "data": {
      "text/plain": [
       "'dob_year+dob_month+age_upon_intake+animal_id_intake+count+age_upon_intake_days+age_upon_intake_tears+age_upon_intake_age_group+intake_year+intake_weekday+intake_hour+intake_number+time_in_shelter+time_in_shelter_days+has_second_color+is_dog+is_male+is_fixed+found_lat+found_lon+is_breed2+is_mix+max_weight+max_height+max_life+health+color_bin+was_owned+season+intake_month_1+intake_month_2+intake_month_3+intake_month_4+intake_month_5+intake_month_6+intake_month_7+intake_month_8+intake_month_9+intake_month_10+intake_month_11+intake_month_12'"
      ]
     },
     "execution_count": 40,
     "metadata": {},
     "output_type": "execute_result"
    }
   ],
   "source": [
    "featurelist='+'.join(features)\n",
    "featurelist"
   ]
  },
  {
   "cell_type": "code",
   "execution_count": 41,
   "metadata": {},
   "outputs": [
    {
     "data": {
      "text/plain": [
       "dob_year                       int64\n",
       "dob_month                      int64\n",
       "age_upon_intake                int64\n",
       "animal_id_intake               int64\n",
       "count                          int64\n",
       "age_upon_intake_days           int64\n",
       "age_upon_intake_tears        float64\n",
       "age_upon_intake_age_group      int64\n",
       "intake_year                    int64\n",
       "intake_weekday                 int64\n",
       "intake_hour                    int64\n",
       "intake_number                float64\n",
       "time_in_shelter                int64\n",
       "time_in_shelter_days         float64\n",
       "has_second_color               int64\n",
       "is_dog                         int64\n",
       "is_male                        int64\n",
       "is_fixed                       int64\n",
       "found_lat                    float64\n",
       "found_lon                    float64\n",
       "is_breed2                      int64\n",
       "is_mix                         int64\n",
       "max_weight                   float64\n",
       "max_height                   float64\n",
       "max_life                     float64\n",
       "health                         int64\n",
       "color_bin                      int64\n",
       "was_owned                      int64\n",
       "season                         int64\n",
       "intake_month_1                 uint8\n",
       "intake_month_2                 uint8\n",
       "intake_month_3                 uint8\n",
       "intake_month_4                 uint8\n",
       "intake_month_5                 uint8\n",
       "intake_month_6                 uint8\n",
       "intake_month_7                 uint8\n",
       "intake_month_8                 uint8\n",
       "intake_month_9                 uint8\n",
       "intake_month_10                uint8\n",
       "intake_month_11                uint8\n",
       "intake_month_12                uint8\n",
       "dtype: object"
      ]
     },
     "execution_count": 41,
     "metadata": {},
     "output_type": "execute_result"
    }
   ],
   "source": [
    "df[features].dtypes"
   ]
  },
  {
   "cell_type": "code",
   "execution_count": 42,
   "metadata": {},
   "outputs": [
    {
     "data": {
      "text/html": [
       "<div>\n",
       "<style scoped>\n",
       "    .dataframe tbody tr th:only-of-type {\n",
       "        vertical-align: middle;\n",
       "    }\n",
       "\n",
       "    .dataframe tbody tr th {\n",
       "        vertical-align: top;\n",
       "    }\n",
       "\n",
       "    .dataframe thead th {\n",
       "        text-align: right;\n",
       "    }\n",
       "</style>\n",
       "<table border=\"1\" class=\"dataframe\">\n",
       "  <thead>\n",
       "    <tr style=\"text-align: right;\">\n",
       "      <th></th>\n",
       "      <th>dob_year</th>\n",
       "      <th>dob_month</th>\n",
       "      <th>age_upon_intake</th>\n",
       "      <th>animal_id_intake</th>\n",
       "      <th>count</th>\n",
       "      <th>age_upon_intake_days</th>\n",
       "      <th>age_upon_intake_tears</th>\n",
       "      <th>age_upon_intake_age_group</th>\n",
       "      <th>intake_year</th>\n",
       "      <th>intake_weekday</th>\n",
       "      <th>intake_hour</th>\n",
       "      <th>intake_number</th>\n",
       "      <th>time_in_shelter</th>\n",
       "      <th>time_in_shelter_days</th>\n",
       "      <th>has_second_color</th>\n",
       "      <th>is_dog</th>\n",
       "      <th>is_male</th>\n",
       "      <th>is_fixed</th>\n",
       "      <th>found_lat</th>\n",
       "      <th>found_lon</th>\n",
       "      <th>is_breed2</th>\n",
       "      <th>is_mix</th>\n",
       "      <th>max_weight</th>\n",
       "      <th>max_height</th>\n",
       "      <th>max_life</th>\n",
       "      <th>health</th>\n",
       "      <th>color_bin</th>\n",
       "      <th>was_owned</th>\n",
       "      <th>season</th>\n",
       "      <th>intake_month_1</th>\n",
       "      <th>intake_month_2</th>\n",
       "      <th>intake_month_3</th>\n",
       "      <th>intake_month_4</th>\n",
       "      <th>intake_month_5</th>\n",
       "      <th>intake_month_6</th>\n",
       "      <th>intake_month_7</th>\n",
       "      <th>intake_month_8</th>\n",
       "      <th>intake_month_9</th>\n",
       "      <th>intake_month_10</th>\n",
       "      <th>intake_month_11</th>\n",
       "      <th>intake_month_12</th>\n",
       "    </tr>\n",
       "  </thead>\n",
       "  <tbody>\n",
       "    <tr>\n",
       "      <th>dob_year</th>\n",
       "      <td>1.000000</td>\n",
       "      <td>-0.087577</td>\n",
       "      <td>-0.437901</td>\n",
       "      <td>0.593848</td>\n",
       "      <td>NaN</td>\n",
       "      <td>-0.868105</td>\n",
       "      <td>-0.868105</td>\n",
       "      <td>-0.820347</td>\n",
       "      <td>0.469682</td>\n",
       "      <td>-0.010128</td>\n",
       "      <td>-0.010781</td>\n",
       "      <td>-0.032566</td>\n",
       "      <td>-0.124379</td>\n",
       "      <td>-0.177873</td>\n",
       "      <td>0.057978</td>\n",
       "      <td>NaN</td>\n",
       "      <td>-0.016541</td>\n",
       "      <td>-0.007942</td>\n",
       "      <td>-0.046791</td>\n",
       "      <td>-0.046203</td>\n",
       "      <td>-0.033838</td>\n",
       "      <td>0.097415</td>\n",
       "      <td>0.124672</td>\n",
       "      <td>0.130283</td>\n",
       "      <td>-0.103694</td>\n",
       "      <td>0.020955</td>\n",
       "      <td>-0.008978</td>\n",
       "      <td>-0.120987</td>\n",
       "      <td>-0.003581</td>\n",
       "      <td>0.024928</td>\n",
       "      <td>0.012481</td>\n",
       "      <td>0.035477</td>\n",
       "      <td>-0.008779</td>\n",
       "      <td>0.003875</td>\n",
       "      <td>-0.001246</td>\n",
       "      <td>0.013606</td>\n",
       "      <td>0.016763</td>\n",
       "      <td>0.006718</td>\n",
       "      <td>-0.036922</td>\n",
       "      <td>-0.033505</td>\n",
       "      <td>-0.033588</td>\n",
       "    </tr>\n",
       "    <tr>\n",
       "      <th>dob_month</th>\n",
       "      <td>-0.087577</td>\n",
       "      <td>1.000000</td>\n",
       "      <td>-0.028128</td>\n",
       "      <td>0.012006</td>\n",
       "      <td>NaN</td>\n",
       "      <td>-0.026497</td>\n",
       "      <td>-0.026497</td>\n",
       "      <td>-0.022211</td>\n",
       "      <td>-0.097064</td>\n",
       "      <td>-0.004635</td>\n",
       "      <td>0.016835</td>\n",
       "      <td>0.006986</td>\n",
       "      <td>-0.008839</td>\n",
       "      <td>-0.015525</td>\n",
       "      <td>0.024687</td>\n",
       "      <td>NaN</td>\n",
       "      <td>-0.008152</td>\n",
       "      <td>0.007147</td>\n",
       "      <td>-0.007343</td>\n",
       "      <td>-0.007312</td>\n",
       "      <td>-0.003192</td>\n",
       "      <td>0.010722</td>\n",
       "      <td>0.012269</td>\n",
       "      <td>0.014146</td>\n",
       "      <td>0.000193</td>\n",
       "      <td>0.000918</td>\n",
       "      <td>-0.003738</td>\n",
       "      <td>-0.010213</td>\n",
       "      <td>0.050764</td>\n",
       "      <td>-0.175852</td>\n",
       "      <td>-0.102517</td>\n",
       "      <td>-0.152715</td>\n",
       "      <td>-0.101091</td>\n",
       "      <td>-0.083350</td>\n",
       "      <td>-0.036969</td>\n",
       "      <td>-0.033933</td>\n",
       "      <td>0.015685</td>\n",
       "      <td>0.073411</td>\n",
       "      <td>0.140519</td>\n",
       "      <td>0.187661</td>\n",
       "      <td>0.270855</td>\n",
       "    </tr>\n",
       "    <tr>\n",
       "      <th>age_upon_intake</th>\n",
       "      <td>-0.437901</td>\n",
       "      <td>-0.028128</td>\n",
       "      <td>1.000000</td>\n",
       "      <td>-0.152944</td>\n",
       "      <td>NaN</td>\n",
       "      <td>0.514173</td>\n",
       "      <td>0.514173</td>\n",
       "      <td>0.564663</td>\n",
       "      <td>0.003737</td>\n",
       "      <td>-0.002731</td>\n",
       "      <td>0.005868</td>\n",
       "      <td>-0.003936</td>\n",
       "      <td>-0.011329</td>\n",
       "      <td>0.031198</td>\n",
       "      <td>-0.020847</td>\n",
       "      <td>NaN</td>\n",
       "      <td>-0.009308</td>\n",
       "      <td>-0.013123</td>\n",
       "      <td>0.023178</td>\n",
       "      <td>0.023012</td>\n",
       "      <td>-0.011551</td>\n",
       "      <td>-0.056877</td>\n",
       "      <td>-0.030772</td>\n",
       "      <td>-0.023387</td>\n",
       "      <td>0.028239</td>\n",
       "      <td>-0.004294</td>\n",
       "      <td>0.023758</td>\n",
       "      <td>0.105179</td>\n",
       "      <td>0.026688</td>\n",
       "      <td>-0.002147</td>\n",
       "      <td>0.021595</td>\n",
       "      <td>-0.023725</td>\n",
       "      <td>-0.006680</td>\n",
       "      <td>-0.012044</td>\n",
       "      <td>-0.011610</td>\n",
       "      <td>-0.003772</td>\n",
       "      <td>-0.001835</td>\n",
       "      <td>0.019199</td>\n",
       "      <td>0.022343</td>\n",
       "      <td>0.010961</td>\n",
       "      <td>-0.012254</td>\n",
       "    </tr>\n",
       "    <tr>\n",
       "      <th>animal_id_intake</th>\n",
       "      <td>0.593848</td>\n",
       "      <td>0.012006</td>\n",
       "      <td>-0.152944</td>\n",
       "      <td>1.000000</td>\n",
       "      <td>NaN</td>\n",
       "      <td>-0.262284</td>\n",
       "      <td>-0.262284</td>\n",
       "      <td>-0.263608</td>\n",
       "      <td>0.717761</td>\n",
       "      <td>-0.001087</td>\n",
       "      <td>-0.025556</td>\n",
       "      <td>-0.024242</td>\n",
       "      <td>-0.093379</td>\n",
       "      <td>-0.123188</td>\n",
       "      <td>0.005519</td>\n",
       "      <td>NaN</td>\n",
       "      <td>0.004882</td>\n",
       "      <td>-0.042540</td>\n",
       "      <td>-0.021683</td>\n",
       "      <td>-0.021572</td>\n",
       "      <td>-0.115697</td>\n",
       "      <td>0.062213</td>\n",
       "      <td>0.039345</td>\n",
       "      <td>0.031266</td>\n",
       "      <td>-0.030412</td>\n",
       "      <td>0.007425</td>\n",
       "      <td>0.006852</td>\n",
       "      <td>-0.068193</td>\n",
       "      <td>0.006129</td>\n",
       "      <td>0.012098</td>\n",
       "      <td>0.004898</td>\n",
       "      <td>0.021046</td>\n",
       "      <td>-0.030073</td>\n",
       "      <td>-0.008742</td>\n",
       "      <td>0.000444</td>\n",
       "      <td>0.014220</td>\n",
       "      <td>0.022992</td>\n",
       "      <td>0.036356</td>\n",
       "      <td>-0.038813</td>\n",
       "      <td>-0.013576</td>\n",
       "      <td>-0.019484</td>\n",
       "    </tr>\n",
       "    <tr>\n",
       "      <th>count</th>\n",
       "      <td>NaN</td>\n",
       "      <td>NaN</td>\n",
       "      <td>NaN</td>\n",
       "      <td>NaN</td>\n",
       "      <td>NaN</td>\n",
       "      <td>NaN</td>\n",
       "      <td>NaN</td>\n",
       "      <td>NaN</td>\n",
       "      <td>NaN</td>\n",
       "      <td>NaN</td>\n",
       "      <td>NaN</td>\n",
       "      <td>NaN</td>\n",
       "      <td>NaN</td>\n",
       "      <td>NaN</td>\n",
       "      <td>NaN</td>\n",
       "      <td>NaN</td>\n",
       "      <td>NaN</td>\n",
       "      <td>NaN</td>\n",
       "      <td>NaN</td>\n",
       "      <td>NaN</td>\n",
       "      <td>NaN</td>\n",
       "      <td>NaN</td>\n",
       "      <td>NaN</td>\n",
       "      <td>NaN</td>\n",
       "      <td>NaN</td>\n",
       "      <td>NaN</td>\n",
       "      <td>NaN</td>\n",
       "      <td>NaN</td>\n",
       "      <td>NaN</td>\n",
       "      <td>NaN</td>\n",
       "      <td>NaN</td>\n",
       "      <td>NaN</td>\n",
       "      <td>NaN</td>\n",
       "      <td>NaN</td>\n",
       "      <td>NaN</td>\n",
       "      <td>NaN</td>\n",
       "      <td>NaN</td>\n",
       "      <td>NaN</td>\n",
       "      <td>NaN</td>\n",
       "      <td>NaN</td>\n",
       "      <td>NaN</td>\n",
       "    </tr>\n",
       "    <tr>\n",
       "      <th>age_upon_intake_days</th>\n",
       "      <td>-0.868105</td>\n",
       "      <td>-0.026497</td>\n",
       "      <td>0.514173</td>\n",
       "      <td>-0.262284</td>\n",
       "      <td>NaN</td>\n",
       "      <td>1.000000</td>\n",
       "      <td>1.000000</td>\n",
       "      <td>0.947687</td>\n",
       "      <td>0.007509</td>\n",
       "      <td>0.011554</td>\n",
       "      <td>-0.010211</td>\n",
       "      <td>0.019228</td>\n",
       "      <td>0.101166</td>\n",
       "      <td>0.161278</td>\n",
       "      <td>-0.060282</td>\n",
       "      <td>NaN</td>\n",
       "      <td>0.022509</td>\n",
       "      <td>-0.014473</td>\n",
       "      <td>0.047593</td>\n",
       "      <td>0.046889</td>\n",
       "      <td>-0.043255</td>\n",
       "      <td>-0.102756</td>\n",
       "      <td>-0.114205</td>\n",
       "      <td>-0.125801</td>\n",
       "      <td>0.097103</td>\n",
       "      <td>-0.014564</td>\n",
       "      <td>0.015963</td>\n",
       "      <td>0.153936</td>\n",
       "      <td>0.008565</td>\n",
       "      <td>0.004885</td>\n",
       "      <td>0.007943</td>\n",
       "      <td>-0.008699</td>\n",
       "      <td>-0.000458</td>\n",
       "      <td>0.000529</td>\n",
       "      <td>0.002752</td>\n",
       "      <td>-0.008293</td>\n",
       "      <td>-0.001601</td>\n",
       "      <td>0.008449</td>\n",
       "      <td>-0.003666</td>\n",
       "      <td>0.002669</td>\n",
       "      <td>-0.004542</td>\n",
       "    </tr>\n",
       "    <tr>\n",
       "      <th>age_upon_intake_tears</th>\n",
       "      <td>-0.868105</td>\n",
       "      <td>-0.026497</td>\n",
       "      <td>0.514173</td>\n",
       "      <td>-0.262284</td>\n",
       "      <td>NaN</td>\n",
       "      <td>1.000000</td>\n",
       "      <td>1.000000</td>\n",
       "      <td>0.947687</td>\n",
       "      <td>0.007509</td>\n",
       "      <td>0.011554</td>\n",
       "      <td>-0.010211</td>\n",
       "      <td>0.019228</td>\n",
       "      <td>0.101166</td>\n",
       "      <td>0.161278</td>\n",
       "      <td>-0.060282</td>\n",
       "      <td>NaN</td>\n",
       "      <td>0.022509</td>\n",
       "      <td>-0.014473</td>\n",
       "      <td>0.047593</td>\n",
       "      <td>0.046889</td>\n",
       "      <td>-0.043255</td>\n",
       "      <td>-0.102756</td>\n",
       "      <td>-0.114205</td>\n",
       "      <td>-0.125801</td>\n",
       "      <td>0.097103</td>\n",
       "      <td>-0.014564</td>\n",
       "      <td>0.015963</td>\n",
       "      <td>0.153936</td>\n",
       "      <td>0.008565</td>\n",
       "      <td>0.004885</td>\n",
       "      <td>0.007943</td>\n",
       "      <td>-0.008699</td>\n",
       "      <td>-0.000458</td>\n",
       "      <td>0.000529</td>\n",
       "      <td>0.002752</td>\n",
       "      <td>-0.008293</td>\n",
       "      <td>-0.001601</td>\n",
       "      <td>0.008449</td>\n",
       "      <td>-0.003666</td>\n",
       "      <td>0.002669</td>\n",
       "      <td>-0.004542</td>\n",
       "    </tr>\n",
       "    <tr>\n",
       "      <th>age_upon_intake_age_group</th>\n",
       "      <td>-0.820347</td>\n",
       "      <td>-0.022211</td>\n",
       "      <td>0.564663</td>\n",
       "      <td>-0.263608</td>\n",
       "      <td>NaN</td>\n",
       "      <td>0.947687</td>\n",
       "      <td>0.947687</td>\n",
       "      <td>1.000000</td>\n",
       "      <td>0.011429</td>\n",
       "      <td>0.006952</td>\n",
       "      <td>-0.012952</td>\n",
       "      <td>0.001412</td>\n",
       "      <td>0.081050</td>\n",
       "      <td>0.134220</td>\n",
       "      <td>-0.056237</td>\n",
       "      <td>NaN</td>\n",
       "      <td>0.007588</td>\n",
       "      <td>-0.025181</td>\n",
       "      <td>0.033067</td>\n",
       "      <td>0.032505</td>\n",
       "      <td>-0.034742</td>\n",
       "      <td>-0.091303</td>\n",
       "      <td>-0.095622</td>\n",
       "      <td>-0.105664</td>\n",
       "      <td>0.081317</td>\n",
       "      <td>-0.010414</td>\n",
       "      <td>0.022054</td>\n",
       "      <td>0.149967</td>\n",
       "      <td>0.001105</td>\n",
       "      <td>-0.001187</td>\n",
       "      <td>0.006524</td>\n",
       "      <td>-0.009967</td>\n",
       "      <td>-0.000284</td>\n",
       "      <td>0.007771</td>\n",
       "      <td>0.004816</td>\n",
       "      <td>-0.005170</td>\n",
       "      <td>0.001887</td>\n",
       "      <td>0.007994</td>\n",
       "      <td>-0.002690</td>\n",
       "      <td>-0.001816</td>\n",
       "      <td>-0.007062</td>\n",
       "    </tr>\n",
       "    <tr>\n",
       "      <th>intake_year</th>\n",
       "      <td>0.469682</td>\n",
       "      <td>-0.097064</td>\n",
       "      <td>0.003737</td>\n",
       "      <td>0.717761</td>\n",
       "      <td>NaN</td>\n",
       "      <td>0.007509</td>\n",
       "      <td>0.007509</td>\n",
       "      <td>0.011429</td>\n",
       "      <td>1.000000</td>\n",
       "      <td>0.002032</td>\n",
       "      <td>-0.040956</td>\n",
       "      <td>-0.026737</td>\n",
       "      <td>-0.073566</td>\n",
       "      <td>-0.068618</td>\n",
       "      <td>0.015411</td>\n",
       "      <td>NaN</td>\n",
       "      <td>0.005338</td>\n",
       "      <td>-0.032921</td>\n",
       "      <td>-0.013799</td>\n",
       "      <td>-0.013785</td>\n",
       "      <td>-0.137435</td>\n",
       "      <td>0.013279</td>\n",
       "      <td>0.063012</td>\n",
       "      <td>0.054445</td>\n",
       "      <td>-0.046338</td>\n",
       "      <td>0.020309</td>\n",
       "      <td>0.005672</td>\n",
       "      <td>0.053542</td>\n",
       "      <td>0.041131</td>\n",
       "      <td>0.128036</td>\n",
       "      <td>0.104994</td>\n",
       "      <td>0.092006</td>\n",
       "      <td>0.003754</td>\n",
       "      <td>0.017037</td>\n",
       "      <td>0.002558</td>\n",
       "      <td>-0.004412</td>\n",
       "      <td>0.005230</td>\n",
       "      <td>-0.000601</td>\n",
       "      <td>-0.120949</td>\n",
       "      <td>-0.108470</td>\n",
       "      <td>-0.126850</td>\n",
       "    </tr>\n",
       "    <tr>\n",
       "      <th>intake_weekday</th>\n",
       "      <td>-0.010128</td>\n",
       "      <td>-0.004635</td>\n",
       "      <td>-0.002731</td>\n",
       "      <td>-0.001087</td>\n",
       "      <td>NaN</td>\n",
       "      <td>0.011554</td>\n",
       "      <td>0.011554</td>\n",
       "      <td>0.006952</td>\n",
       "      <td>0.002032</td>\n",
       "      <td>1.000000</td>\n",
       "      <td>-0.046490</td>\n",
       "      <td>-0.007440</td>\n",
       "      <td>0.004770</td>\n",
       "      <td>0.009144</td>\n",
       "      <td>-0.001346</td>\n",
       "      <td>NaN</td>\n",
       "      <td>0.017040</td>\n",
       "      <td>0.004088</td>\n",
       "      <td>-0.016735</td>\n",
       "      <td>-0.016796</td>\n",
       "      <td>-0.018633</td>\n",
       "      <td>0.001849</td>\n",
       "      <td>0.006163</td>\n",
       "      <td>0.010949</td>\n",
       "      <td>-0.002845</td>\n",
       "      <td>0.010566</td>\n",
       "      <td>0.001491</td>\n",
       "      <td>0.008313</td>\n",
       "      <td>0.012323</td>\n",
       "      <td>0.025886</td>\n",
       "      <td>-0.000982</td>\n",
       "      <td>-0.006217</td>\n",
       "      <td>0.007315</td>\n",
       "      <td>-0.013906</td>\n",
       "      <td>-0.004886</td>\n",
       "      <td>0.023059</td>\n",
       "      <td>-0.003517</td>\n",
       "      <td>-0.009242</td>\n",
       "      <td>-0.006935</td>\n",
       "      <td>0.005703</td>\n",
       "      <td>-0.016153</td>\n",
       "    </tr>\n",
       "    <tr>\n",
       "      <th>intake_hour</th>\n",
       "      <td>-0.010781</td>\n",
       "      <td>0.016835</td>\n",
       "      <td>0.005868</td>\n",
       "      <td>-0.025556</td>\n",
       "      <td>NaN</td>\n",
       "      <td>-0.010211</td>\n",
       "      <td>-0.010211</td>\n",
       "      <td>-0.012952</td>\n",
       "      <td>-0.040956</td>\n",
       "      <td>-0.046490</td>\n",
       "      <td>1.000000</td>\n",
       "      <td>-0.005190</td>\n",
       "      <td>-0.016234</td>\n",
       "      <td>-0.003046</td>\n",
       "      <td>-0.000701</td>\n",
       "      <td>NaN</td>\n",
       "      <td>-0.007448</td>\n",
       "      <td>-0.008309</td>\n",
       "      <td>0.004939</td>\n",
       "      <td>0.004971</td>\n",
       "      <td>-0.002094</td>\n",
       "      <td>-0.005345</td>\n",
       "      <td>-0.002626</td>\n",
       "      <td>0.000465</td>\n",
       "      <td>0.008370</td>\n",
       "      <td>0.057451</td>\n",
       "      <td>-0.002766</td>\n",
       "      <td>-0.039273</td>\n",
       "      <td>0.025882</td>\n",
       "      <td>0.009345</td>\n",
       "      <td>0.002101</td>\n",
       "      <td>0.008619</td>\n",
       "      <td>0.004854</td>\n",
       "      <td>-0.014906</td>\n",
       "      <td>-0.000984</td>\n",
       "      <td>-0.040432</td>\n",
       "      <td>-0.017075</td>\n",
       "      <td>-0.014113</td>\n",
       "      <td>0.012998</td>\n",
       "      <td>0.018792</td>\n",
       "      <td>0.025701</td>\n",
       "    </tr>\n",
       "    <tr>\n",
       "      <th>intake_number</th>\n",
       "      <td>-0.032566</td>\n",
       "      <td>0.006986</td>\n",
       "      <td>-0.003936</td>\n",
       "      <td>-0.024242</td>\n",
       "      <td>NaN</td>\n",
       "      <td>0.019228</td>\n",
       "      <td>0.019228</td>\n",
       "      <td>0.001412</td>\n",
       "      <td>-0.026737</td>\n",
       "      <td>-0.007440</td>\n",
       "      <td>-0.005190</td>\n",
       "      <td>1.000000</td>\n",
       "      <td>0.043869</td>\n",
       "      <td>0.026544</td>\n",
       "      <td>0.039289</td>\n",
       "      <td>NaN</td>\n",
       "      <td>0.005999</td>\n",
       "      <td>0.006613</td>\n",
       "      <td>0.008911</td>\n",
       "      <td>0.008711</td>\n",
       "      <td>-0.007136</td>\n",
       "      <td>-0.009844</td>\n",
       "      <td>0.067942</td>\n",
       "      <td>0.082274</td>\n",
       "      <td>-0.040691</td>\n",
       "      <td>0.022008</td>\n",
       "      <td>-0.006254</td>\n",
       "      <td>0.038182</td>\n",
       "      <td>-0.002400</td>\n",
       "      <td>-0.010448</td>\n",
       "      <td>0.007908</td>\n",
       "      <td>-0.004382</td>\n",
       "      <td>0.008426</td>\n",
       "      <td>-0.002881</td>\n",
       "      <td>0.003101</td>\n",
       "      <td>-0.002450</td>\n",
       "      <td>0.007689</td>\n",
       "      <td>0.011102</td>\n",
       "      <td>-0.001564</td>\n",
       "      <td>0.001817</td>\n",
       "      <td>-0.015724</td>\n",
       "    </tr>\n",
       "    <tr>\n",
       "      <th>time_in_shelter</th>\n",
       "      <td>-0.124379</td>\n",
       "      <td>-0.008839</td>\n",
       "      <td>-0.011329</td>\n",
       "      <td>-0.093379</td>\n",
       "      <td>NaN</td>\n",
       "      <td>0.101166</td>\n",
       "      <td>0.101166</td>\n",
       "      <td>0.081050</td>\n",
       "      <td>-0.073566</td>\n",
       "      <td>0.004770</td>\n",
       "      <td>-0.016234</td>\n",
       "      <td>0.043869</td>\n",
       "      <td>1.000000</td>\n",
       "      <td>0.538528</td>\n",
       "      <td>0.041323</td>\n",
       "      <td>NaN</td>\n",
       "      <td>0.015550</td>\n",
       "      <td>0.033726</td>\n",
       "      <td>-0.004994</td>\n",
       "      <td>-0.004972</td>\n",
       "      <td>0.005978</td>\n",
       "      <td>-0.002939</td>\n",
       "      <td>0.117337</td>\n",
       "      <td>0.124228</td>\n",
       "      <td>-0.071959</td>\n",
       "      <td>-0.140413</td>\n",
       "      <td>-0.024559</td>\n",
       "      <td>-0.018850</td>\n",
       "      <td>-0.028393</td>\n",
       "      <td>-0.019336</td>\n",
       "      <td>-0.026808</td>\n",
       "      <td>-0.008684</td>\n",
       "      <td>0.021981</td>\n",
       "      <td>0.020915</td>\n",
       "      <td>0.013184</td>\n",
       "      <td>-0.008762</td>\n",
       "      <td>-0.024135</td>\n",
       "      <td>0.004795</td>\n",
       "      <td>0.004993</td>\n",
       "      <td>0.024363</td>\n",
       "      <td>0.001472</td>\n",
       "    </tr>\n",
       "    <tr>\n",
       "      <th>time_in_shelter_days</th>\n",
       "      <td>-0.177873</td>\n",
       "      <td>-0.015525</td>\n",
       "      <td>0.031198</td>\n",
       "      <td>-0.123188</td>\n",
       "      <td>NaN</td>\n",
       "      <td>0.161278</td>\n",
       "      <td>0.161278</td>\n",
       "      <td>0.134220</td>\n",
       "      <td>-0.068618</td>\n",
       "      <td>0.009144</td>\n",
       "      <td>-0.003046</td>\n",
       "      <td>0.026544</td>\n",
       "      <td>0.538528</td>\n",
       "      <td>1.000000</td>\n",
       "      <td>0.047870</td>\n",
       "      <td>NaN</td>\n",
       "      <td>0.005003</td>\n",
       "      <td>0.038611</td>\n",
       "      <td>0.005830</td>\n",
       "      <td>0.006160</td>\n",
       "      <td>-0.016694</td>\n",
       "      <td>-0.004113</td>\n",
       "      <td>0.110273</td>\n",
       "      <td>0.110725</td>\n",
       "      <td>-0.059088</td>\n",
       "      <td>-0.132720</td>\n",
       "      <td>-0.024916</td>\n",
       "      <td>0.006813</td>\n",
       "      <td>-0.032538</td>\n",
       "      <td>-0.011089</td>\n",
       "      <td>-0.023830</td>\n",
       "      <td>0.001585</td>\n",
       "      <td>0.023779</td>\n",
       "      <td>0.027403</td>\n",
       "      <td>0.010796</td>\n",
       "      <td>-0.002051</td>\n",
       "      <td>-0.005030</td>\n",
       "      <td>0.000938</td>\n",
       "      <td>-0.002998</td>\n",
       "      <td>-0.002950</td>\n",
       "      <td>-0.012263</td>\n",
       "    </tr>\n",
       "    <tr>\n",
       "      <th>has_second_color</th>\n",
       "      <td>0.057978</td>\n",
       "      <td>0.024687</td>\n",
       "      <td>-0.020847</td>\n",
       "      <td>0.005519</td>\n",
       "      <td>NaN</td>\n",
       "      <td>-0.060282</td>\n",
       "      <td>-0.060282</td>\n",
       "      <td>-0.056237</td>\n",
       "      <td>0.015411</td>\n",
       "      <td>-0.001346</td>\n",
       "      <td>-0.000701</td>\n",
       "      <td>0.039289</td>\n",
       "      <td>0.041323</td>\n",
       "      <td>0.047870</td>\n",
       "      <td>1.000000</td>\n",
       "      <td>NaN</td>\n",
       "      <td>0.001499</td>\n",
       "      <td>0.007821</td>\n",
       "      <td>0.003158</td>\n",
       "      <td>0.003082</td>\n",
       "      <td>0.006067</td>\n",
       "      <td>0.012250</td>\n",
       "      <td>0.069639</td>\n",
       "      <td>0.069602</td>\n",
       "      <td>-0.045572</td>\n",
       "      <td>0.001266</td>\n",
       "      <td>0.093114</td>\n",
       "      <td>0.000555</td>\n",
       "      <td>0.012631</td>\n",
       "      <td>-0.004214</td>\n",
       "      <td>0.007755</td>\n",
       "      <td>-0.006267</td>\n",
       "      <td>-0.014599</td>\n",
       "      <td>-0.013378</td>\n",
       "      <td>-0.005888</td>\n",
       "      <td>0.007573</td>\n",
       "      <td>-0.007457</td>\n",
       "      <td>0.024418</td>\n",
       "      <td>0.009918</td>\n",
       "      <td>-0.005169</td>\n",
       "      <td>0.007041</td>\n",
       "    </tr>\n",
       "    <tr>\n",
       "      <th>is_dog</th>\n",
       "      <td>NaN</td>\n",
       "      <td>NaN</td>\n",
       "      <td>NaN</td>\n",
       "      <td>NaN</td>\n",
       "      <td>NaN</td>\n",
       "      <td>NaN</td>\n",
       "      <td>NaN</td>\n",
       "      <td>NaN</td>\n",
       "      <td>NaN</td>\n",
       "      <td>NaN</td>\n",
       "      <td>NaN</td>\n",
       "      <td>NaN</td>\n",
       "      <td>NaN</td>\n",
       "      <td>NaN</td>\n",
       "      <td>NaN</td>\n",
       "      <td>NaN</td>\n",
       "      <td>NaN</td>\n",
       "      <td>NaN</td>\n",
       "      <td>NaN</td>\n",
       "      <td>NaN</td>\n",
       "      <td>NaN</td>\n",
       "      <td>NaN</td>\n",
       "      <td>NaN</td>\n",
       "      <td>NaN</td>\n",
       "      <td>NaN</td>\n",
       "      <td>NaN</td>\n",
       "      <td>NaN</td>\n",
       "      <td>NaN</td>\n",
       "      <td>NaN</td>\n",
       "      <td>NaN</td>\n",
       "      <td>NaN</td>\n",
       "      <td>NaN</td>\n",
       "      <td>NaN</td>\n",
       "      <td>NaN</td>\n",
       "      <td>NaN</td>\n",
       "      <td>NaN</td>\n",
       "      <td>NaN</td>\n",
       "      <td>NaN</td>\n",
       "      <td>NaN</td>\n",
       "      <td>NaN</td>\n",
       "      <td>NaN</td>\n",
       "    </tr>\n",
       "    <tr>\n",
       "      <th>is_male</th>\n",
       "      <td>-0.016541</td>\n",
       "      <td>-0.008152</td>\n",
       "      <td>-0.009308</td>\n",
       "      <td>0.004882</td>\n",
       "      <td>NaN</td>\n",
       "      <td>0.022509</td>\n",
       "      <td>0.022509</td>\n",
       "      <td>0.007588</td>\n",
       "      <td>0.005338</td>\n",
       "      <td>0.017040</td>\n",
       "      <td>-0.007448</td>\n",
       "      <td>0.005999</td>\n",
       "      <td>0.015550</td>\n",
       "      <td>0.005003</td>\n",
       "      <td>0.001499</td>\n",
       "      <td>NaN</td>\n",
       "      <td>1.000000</td>\n",
       "      <td>0.007832</td>\n",
       "      <td>0.010335</td>\n",
       "      <td>0.010557</td>\n",
       "      <td>0.018278</td>\n",
       "      <td>-0.006512</td>\n",
       "      <td>0.011397</td>\n",
       "      <td>-0.017285</td>\n",
       "      <td>-0.017747</td>\n",
       "      <td>-0.023583</td>\n",
       "      <td>-0.003810</td>\n",
       "      <td>-0.029375</td>\n",
       "      <td>-0.003419</td>\n",
       "      <td>0.010644</td>\n",
       "      <td>-0.010749</td>\n",
       "      <td>0.004563</td>\n",
       "      <td>0.004471</td>\n",
       "      <td>0.011638</td>\n",
       "      <td>-0.011657</td>\n",
       "      <td>0.001648</td>\n",
       "      <td>-0.002990</td>\n",
       "      <td>0.001179</td>\n",
       "      <td>-0.000497</td>\n",
       "      <td>-0.009296</td>\n",
       "      <td>0.000958</td>\n",
       "    </tr>\n",
       "    <tr>\n",
       "      <th>is_fixed</th>\n",
       "      <td>-0.007942</td>\n",
       "      <td>0.007147</td>\n",
       "      <td>-0.013123</td>\n",
       "      <td>-0.042540</td>\n",
       "      <td>NaN</td>\n",
       "      <td>-0.014473</td>\n",
       "      <td>-0.014473</td>\n",
       "      <td>-0.025181</td>\n",
       "      <td>-0.032921</td>\n",
       "      <td>0.004088</td>\n",
       "      <td>-0.008309</td>\n",
       "      <td>0.006613</td>\n",
       "      <td>0.033726</td>\n",
       "      <td>0.038611</td>\n",
       "      <td>0.007821</td>\n",
       "      <td>NaN</td>\n",
       "      <td>0.007832</td>\n",
       "      <td>1.000000</td>\n",
       "      <td>-0.004661</td>\n",
       "      <td>-0.004510</td>\n",
       "      <td>0.021105</td>\n",
       "      <td>0.030940</td>\n",
       "      <td>-0.007972</td>\n",
       "      <td>0.002116</td>\n",
       "      <td>0.005598</td>\n",
       "      <td>0.056819</td>\n",
       "      <td>0.006596</td>\n",
       "      <td>0.016003</td>\n",
       "      <td>0.023882</td>\n",
       "      <td>0.001109</td>\n",
       "      <td>0.024654</td>\n",
       "      <td>0.016586</td>\n",
       "      <td>-0.000026</td>\n",
       "      <td>-0.002471</td>\n",
       "      <td>-0.030691</td>\n",
       "      <td>-0.007234</td>\n",
       "      <td>-0.030313</td>\n",
       "      <td>0.023483</td>\n",
       "      <td>0.004155</td>\n",
       "      <td>-0.007117</td>\n",
       "      <td>0.005732</td>\n",
       "    </tr>\n",
       "    <tr>\n",
       "      <th>found_lat</th>\n",
       "      <td>-0.046791</td>\n",
       "      <td>-0.007343</td>\n",
       "      <td>0.023178</td>\n",
       "      <td>-0.021683</td>\n",
       "      <td>NaN</td>\n",
       "      <td>0.047593</td>\n",
       "      <td>0.047593</td>\n",
       "      <td>0.033067</td>\n",
       "      <td>-0.013799</td>\n",
       "      <td>-0.016735</td>\n",
       "      <td>0.004939</td>\n",
       "      <td>0.008911</td>\n",
       "      <td>-0.004994</td>\n",
       "      <td>0.005830</td>\n",
       "      <td>0.003158</td>\n",
       "      <td>NaN</td>\n",
       "      <td>0.010335</td>\n",
       "      <td>-0.004661</td>\n",
       "      <td>1.000000</td>\n",
       "      <td>0.999221</td>\n",
       "      <td>0.004048</td>\n",
       "      <td>0.001549</td>\n",
       "      <td>-0.014012</td>\n",
       "      <td>-0.015271</td>\n",
       "      <td>0.011913</td>\n",
       "      <td>-0.012163</td>\n",
       "      <td>-0.004239</td>\n",
       "      <td>0.021683</td>\n",
       "      <td>0.006173</td>\n",
       "      <td>-0.007354</td>\n",
       "      <td>0.004098</td>\n",
       "      <td>-0.012927</td>\n",
       "      <td>0.004745</td>\n",
       "      <td>-0.010588</td>\n",
       "      <td>0.000013</td>\n",
       "      <td>0.008181</td>\n",
       "      <td>0.001363</td>\n",
       "      <td>-0.003271</td>\n",
       "      <td>0.015367</td>\n",
       "      <td>-0.012701</td>\n",
       "      <td>0.012972</td>\n",
       "    </tr>\n",
       "    <tr>\n",
       "      <th>found_lon</th>\n",
       "      <td>-0.046203</td>\n",
       "      <td>-0.007312</td>\n",
       "      <td>0.023012</td>\n",
       "      <td>-0.021572</td>\n",
       "      <td>NaN</td>\n",
       "      <td>0.046889</td>\n",
       "      <td>0.046889</td>\n",
       "      <td>0.032505</td>\n",
       "      <td>-0.013785</td>\n",
       "      <td>-0.016796</td>\n",
       "      <td>0.004971</td>\n",
       "      <td>0.008711</td>\n",
       "      <td>-0.004972</td>\n",
       "      <td>0.006160</td>\n",
       "      <td>0.003082</td>\n",
       "      <td>NaN</td>\n",
       "      <td>0.010557</td>\n",
       "      <td>-0.004510</td>\n",
       "      <td>0.999221</td>\n",
       "      <td>1.000000</td>\n",
       "      <td>0.004009</td>\n",
       "      <td>0.001845</td>\n",
       "      <td>-0.015003</td>\n",
       "      <td>-0.016039</td>\n",
       "      <td>0.012706</td>\n",
       "      <td>-0.012084</td>\n",
       "      <td>-0.004810</td>\n",
       "      <td>0.020078</td>\n",
       "      <td>0.006587</td>\n",
       "      <td>-0.006756</td>\n",
       "      <td>0.004581</td>\n",
       "      <td>-0.013392</td>\n",
       "      <td>0.005078</td>\n",
       "      <td>-0.009994</td>\n",
       "      <td>-0.000262</td>\n",
       "      <td>0.008584</td>\n",
       "      <td>0.000745</td>\n",
       "      <td>-0.003924</td>\n",
       "      <td>0.015477</td>\n",
       "      <td>-0.012853</td>\n",
       "      <td>0.012560</td>\n",
       "    </tr>\n",
       "    <tr>\n",
       "      <th>is_breed2</th>\n",
       "      <td>-0.033838</td>\n",
       "      <td>-0.003192</td>\n",
       "      <td>-0.011551</td>\n",
       "      <td>-0.115697</td>\n",
       "      <td>NaN</td>\n",
       "      <td>-0.043255</td>\n",
       "      <td>-0.043255</td>\n",
       "      <td>-0.034742</td>\n",
       "      <td>-0.137435</td>\n",
       "      <td>-0.018633</td>\n",
       "      <td>-0.002094</td>\n",
       "      <td>-0.007136</td>\n",
       "      <td>0.005978</td>\n",
       "      <td>-0.016694</td>\n",
       "      <td>0.006067</td>\n",
       "      <td>NaN</td>\n",
       "      <td>0.018278</td>\n",
       "      <td>0.021105</td>\n",
       "      <td>0.004048</td>\n",
       "      <td>0.004009</td>\n",
       "      <td>1.000000</td>\n",
       "      <td>0.107646</td>\n",
       "      <td>-0.002321</td>\n",
       "      <td>-0.014154</td>\n",
       "      <td>-0.017773</td>\n",
       "      <td>0.006057</td>\n",
       "      <td>0.007119</td>\n",
       "      <td>0.030265</td>\n",
       "      <td>0.003531</td>\n",
       "      <td>0.003363</td>\n",
       "      <td>0.010006</td>\n",
       "      <td>0.013466</td>\n",
       "      <td>0.005421</td>\n",
       "      <td>-0.000330</td>\n",
       "      <td>0.009651</td>\n",
       "      <td>0.002866</td>\n",
       "      <td>-0.009203</td>\n",
       "      <td>-0.014865</td>\n",
       "      <td>-0.009124</td>\n",
       "      <td>-0.016562</td>\n",
       "      <td>0.003627</td>\n",
       "    </tr>\n",
       "    <tr>\n",
       "      <th>is_mix</th>\n",
       "      <td>0.097415</td>\n",
       "      <td>0.010722</td>\n",
       "      <td>-0.056877</td>\n",
       "      <td>0.062213</td>\n",
       "      <td>NaN</td>\n",
       "      <td>-0.102756</td>\n",
       "      <td>-0.102756</td>\n",
       "      <td>-0.091303</td>\n",
       "      <td>0.013279</td>\n",
       "      <td>0.001849</td>\n",
       "      <td>-0.005345</td>\n",
       "      <td>-0.009844</td>\n",
       "      <td>-0.002939</td>\n",
       "      <td>-0.004113</td>\n",
       "      <td>0.012250</td>\n",
       "      <td>NaN</td>\n",
       "      <td>-0.006512</td>\n",
       "      <td>0.030940</td>\n",
       "      <td>0.001549</td>\n",
       "      <td>0.001845</td>\n",
       "      <td>0.107646</td>\n",
       "      <td>1.000000</td>\n",
       "      <td>-0.018265</td>\n",
       "      <td>-0.023526</td>\n",
       "      <td>0.037086</td>\n",
       "      <td>-0.002579</td>\n",
       "      <td>-0.021281</td>\n",
       "      <td>-0.035441</td>\n",
       "      <td>-0.024738</td>\n",
       "      <td>-0.005977</td>\n",
       "      <td>-0.028381</td>\n",
       "      <td>0.001324</td>\n",
       "      <td>0.002429</td>\n",
       "      <td>0.001302</td>\n",
       "      <td>0.016561</td>\n",
       "      <td>0.011690</td>\n",
       "      <td>-0.002983</td>\n",
       "      <td>0.007826</td>\n",
       "      <td>0.016786</td>\n",
       "      <td>-0.002267</td>\n",
       "      <td>-0.015328</td>\n",
       "    </tr>\n",
       "    <tr>\n",
       "      <th>max_weight</th>\n",
       "      <td>0.124672</td>\n",
       "      <td>0.012269</td>\n",
       "      <td>-0.030772</td>\n",
       "      <td>0.039345</td>\n",
       "      <td>NaN</td>\n",
       "      <td>-0.114205</td>\n",
       "      <td>-0.114205</td>\n",
       "      <td>-0.095622</td>\n",
       "      <td>0.063012</td>\n",
       "      <td>0.006163</td>\n",
       "      <td>-0.002626</td>\n",
       "      <td>0.067942</td>\n",
       "      <td>0.117337</td>\n",
       "      <td>0.110273</td>\n",
       "      <td>0.069639</td>\n",
       "      <td>NaN</td>\n",
       "      <td>0.011397</td>\n",
       "      <td>-0.007972</td>\n",
       "      <td>-0.014012</td>\n",
       "      <td>-0.015003</td>\n",
       "      <td>-0.002321</td>\n",
       "      <td>-0.018265</td>\n",
       "      <td>1.000000</td>\n",
       "      <td>0.849368</td>\n",
       "      <td>-0.716710</td>\n",
       "      <td>0.026575</td>\n",
       "      <td>0.020693</td>\n",
       "      <td>0.034011</td>\n",
       "      <td>0.006772</td>\n",
       "      <td>0.001968</td>\n",
       "      <td>0.011116</td>\n",
       "      <td>-0.013718</td>\n",
       "      <td>-0.013697</td>\n",
       "      <td>-0.000375</td>\n",
       "      <td>0.011349</td>\n",
       "      <td>-0.004413</td>\n",
       "      <td>-0.004939</td>\n",
       "      <td>-0.002566</td>\n",
       "      <td>-0.000293</td>\n",
       "      <td>0.011385</td>\n",
       "      <td>0.002565</td>\n",
       "    </tr>\n",
       "    <tr>\n",
       "      <th>max_height</th>\n",
       "      <td>0.130283</td>\n",
       "      <td>0.014146</td>\n",
       "      <td>-0.023387</td>\n",
       "      <td>0.031266</td>\n",
       "      <td>NaN</td>\n",
       "      <td>-0.125801</td>\n",
       "      <td>-0.125801</td>\n",
       "      <td>-0.105664</td>\n",
       "      <td>0.054445</td>\n",
       "      <td>0.010949</td>\n",
       "      <td>0.000465</td>\n",
       "      <td>0.082274</td>\n",
       "      <td>0.124228</td>\n",
       "      <td>0.110725</td>\n",
       "      <td>0.069602</td>\n",
       "      <td>NaN</td>\n",
       "      <td>-0.017285</td>\n",
       "      <td>0.002116</td>\n",
       "      <td>-0.015271</td>\n",
       "      <td>-0.016039</td>\n",
       "      <td>-0.014154</td>\n",
       "      <td>-0.023526</td>\n",
       "      <td>0.849368</td>\n",
       "      <td>1.000000</td>\n",
       "      <td>-0.638607</td>\n",
       "      <td>0.034113</td>\n",
       "      <td>0.024006</td>\n",
       "      <td>0.030510</td>\n",
       "      <td>0.008560</td>\n",
       "      <td>0.006068</td>\n",
       "      <td>0.005246</td>\n",
       "      <td>-0.007950</td>\n",
       "      <td>-0.020915</td>\n",
       "      <td>0.003697</td>\n",
       "      <td>0.008554</td>\n",
       "      <td>-0.001462</td>\n",
       "      <td>0.002240</td>\n",
       "      <td>-0.007096</td>\n",
       "      <td>-0.005085</td>\n",
       "      <td>0.015335</td>\n",
       "      <td>-0.000516</td>\n",
       "    </tr>\n",
       "    <tr>\n",
       "      <th>max_life</th>\n",
       "      <td>-0.103694</td>\n",
       "      <td>0.000193</td>\n",
       "      <td>0.028239</td>\n",
       "      <td>-0.030412</td>\n",
       "      <td>NaN</td>\n",
       "      <td>0.097103</td>\n",
       "      <td>0.097103</td>\n",
       "      <td>0.081317</td>\n",
       "      <td>-0.046338</td>\n",
       "      <td>-0.002845</td>\n",
       "      <td>0.008370</td>\n",
       "      <td>-0.040691</td>\n",
       "      <td>-0.071959</td>\n",
       "      <td>-0.059088</td>\n",
       "      <td>-0.045572</td>\n",
       "      <td>NaN</td>\n",
       "      <td>-0.017747</td>\n",
       "      <td>0.005598</td>\n",
       "      <td>0.011913</td>\n",
       "      <td>0.012706</td>\n",
       "      <td>-0.017773</td>\n",
       "      <td>0.037086</td>\n",
       "      <td>-0.716710</td>\n",
       "      <td>-0.638607</td>\n",
       "      <td>1.000000</td>\n",
       "      <td>-0.026674</td>\n",
       "      <td>0.016841</td>\n",
       "      <td>-0.030764</td>\n",
       "      <td>-0.000322</td>\n",
       "      <td>0.005177</td>\n",
       "      <td>0.000134</td>\n",
       "      <td>-0.006923</td>\n",
       "      <td>0.015606</td>\n",
       "      <td>-0.006272</td>\n",
       "      <td>-0.004885</td>\n",
       "      <td>0.005658</td>\n",
       "      <td>0.003219</td>\n",
       "      <td>-0.006885</td>\n",
       "      <td>0.010073</td>\n",
       "      <td>-0.001349</td>\n",
       "      <td>-0.012541</td>\n",
       "    </tr>\n",
       "    <tr>\n",
       "      <th>health</th>\n",
       "      <td>0.020955</td>\n",
       "      <td>0.000918</td>\n",
       "      <td>-0.004294</td>\n",
       "      <td>0.007425</td>\n",
       "      <td>NaN</td>\n",
       "      <td>-0.014564</td>\n",
       "      <td>-0.014564</td>\n",
       "      <td>-0.010414</td>\n",
       "      <td>0.020309</td>\n",
       "      <td>0.010566</td>\n",
       "      <td>0.057451</td>\n",
       "      <td>0.022008</td>\n",
       "      <td>-0.140413</td>\n",
       "      <td>-0.132720</td>\n",
       "      <td>0.001266</td>\n",
       "      <td>NaN</td>\n",
       "      <td>-0.023583</td>\n",
       "      <td>0.056819</td>\n",
       "      <td>-0.012163</td>\n",
       "      <td>-0.012084</td>\n",
       "      <td>0.006057</td>\n",
       "      <td>-0.002579</td>\n",
       "      <td>0.026575</td>\n",
       "      <td>0.034113</td>\n",
       "      <td>-0.026674</td>\n",
       "      <td>1.000000</td>\n",
       "      <td>0.003949</td>\n",
       "      <td>0.045560</td>\n",
       "      <td>0.019597</td>\n",
       "      <td>0.015813</td>\n",
       "      <td>0.017411</td>\n",
       "      <td>0.004383</td>\n",
       "      <td>0.000277</td>\n",
       "      <td>-0.006085</td>\n",
       "      <td>-0.017661</td>\n",
       "      <td>-0.001838</td>\n",
       "      <td>0.003880</td>\n",
       "      <td>-0.006834</td>\n",
       "      <td>-0.007749</td>\n",
       "      <td>0.001140</td>\n",
       "      <td>-0.004796</td>\n",
       "    </tr>\n",
       "    <tr>\n",
       "      <th>color_bin</th>\n",
       "      <td>-0.008978</td>\n",
       "      <td>-0.003738</td>\n",
       "      <td>0.023758</td>\n",
       "      <td>0.006852</td>\n",
       "      <td>NaN</td>\n",
       "      <td>0.015963</td>\n",
       "      <td>0.015963</td>\n",
       "      <td>0.022054</td>\n",
       "      <td>0.005672</td>\n",
       "      <td>0.001491</td>\n",
       "      <td>-0.002766</td>\n",
       "      <td>-0.006254</td>\n",
       "      <td>-0.024559</td>\n",
       "      <td>-0.024916</td>\n",
       "      <td>0.093114</td>\n",
       "      <td>NaN</td>\n",
       "      <td>-0.003810</td>\n",
       "      <td>0.006596</td>\n",
       "      <td>-0.004239</td>\n",
       "      <td>-0.004810</td>\n",
       "      <td>0.007119</td>\n",
       "      <td>-0.021281</td>\n",
       "      <td>0.020693</td>\n",
       "      <td>0.024006</td>\n",
       "      <td>0.016841</td>\n",
       "      <td>0.003949</td>\n",
       "      <td>1.000000</td>\n",
       "      <td>-0.007381</td>\n",
       "      <td>0.000119</td>\n",
       "      <td>-0.007233</td>\n",
       "      <td>-0.008159</td>\n",
       "      <td>-0.002851</td>\n",
       "      <td>0.004454</td>\n",
       "      <td>-0.004132</td>\n",
       "      <td>-0.007138</td>\n",
       "      <td>0.010859</td>\n",
       "      <td>-0.013652</td>\n",
       "      <td>0.002767</td>\n",
       "      <td>0.009597</td>\n",
       "      <td>0.010500</td>\n",
       "      <td>0.005975</td>\n",
       "    </tr>\n",
       "    <tr>\n",
       "      <th>was_owned</th>\n",
       "      <td>-0.120987</td>\n",
       "      <td>-0.010213</td>\n",
       "      <td>0.105179</td>\n",
       "      <td>-0.068193</td>\n",
       "      <td>NaN</td>\n",
       "      <td>0.153936</td>\n",
       "      <td>0.153936</td>\n",
       "      <td>0.149967</td>\n",
       "      <td>0.053542</td>\n",
       "      <td>0.008313</td>\n",
       "      <td>-0.039273</td>\n",
       "      <td>0.038182</td>\n",
       "      <td>-0.018850</td>\n",
       "      <td>0.006813</td>\n",
       "      <td>0.000555</td>\n",
       "      <td>NaN</td>\n",
       "      <td>-0.029375</td>\n",
       "      <td>0.016003</td>\n",
       "      <td>0.021683</td>\n",
       "      <td>0.020078</td>\n",
       "      <td>0.030265</td>\n",
       "      <td>-0.035441</td>\n",
       "      <td>0.034011</td>\n",
       "      <td>0.030510</td>\n",
       "      <td>-0.030764</td>\n",
       "      <td>0.045560</td>\n",
       "      <td>-0.007381</td>\n",
       "      <td>1.000000</td>\n",
       "      <td>0.021654</td>\n",
       "      <td>0.003534</td>\n",
       "      <td>0.046475</td>\n",
       "      <td>0.005598</td>\n",
       "      <td>0.013953</td>\n",
       "      <td>-0.013197</td>\n",
       "      <td>-0.013759</td>\n",
       "      <td>-0.026633</td>\n",
       "      <td>-0.002612</td>\n",
       "      <td>0.010950</td>\n",
       "      <td>-0.016784</td>\n",
       "      <td>-0.026603</td>\n",
       "      <td>0.016218</td>\n",
       "    </tr>\n",
       "    <tr>\n",
       "      <th>season</th>\n",
       "      <td>-0.003581</td>\n",
       "      <td>0.050764</td>\n",
       "      <td>0.026688</td>\n",
       "      <td>0.006129</td>\n",
       "      <td>NaN</td>\n",
       "      <td>0.008565</td>\n",
       "      <td>0.008565</td>\n",
       "      <td>0.001105</td>\n",
       "      <td>0.041131</td>\n",
       "      <td>0.012323</td>\n",
       "      <td>0.025882</td>\n",
       "      <td>-0.002400</td>\n",
       "      <td>-0.028393</td>\n",
       "      <td>-0.032538</td>\n",
       "      <td>0.012631</td>\n",
       "      <td>NaN</td>\n",
       "      <td>-0.003419</td>\n",
       "      <td>0.023882</td>\n",
       "      <td>0.006173</td>\n",
       "      <td>0.006587</td>\n",
       "      <td>0.003531</td>\n",
       "      <td>-0.024738</td>\n",
       "      <td>0.006772</td>\n",
       "      <td>0.008560</td>\n",
       "      <td>-0.000322</td>\n",
       "      <td>0.019597</td>\n",
       "      <td>0.000119</td>\n",
       "      <td>0.021654</td>\n",
       "      <td>1.000000</td>\n",
       "      <td>0.415591</td>\n",
       "      <td>0.404536</td>\n",
       "      <td>0.111404</td>\n",
       "      <td>-0.384136</td>\n",
       "      <td>-0.414019</td>\n",
       "      <td>-0.323814</td>\n",
       "      <td>-0.144135</td>\n",
       "      <td>-0.146738</td>\n",
       "      <td>-0.075659</td>\n",
       "      <td>0.119989</td>\n",
       "      <td>0.114058</td>\n",
       "      <td>0.212803</td>\n",
       "    </tr>\n",
       "    <tr>\n",
       "      <th>intake_month_1</th>\n",
       "      <td>0.024928</td>\n",
       "      <td>-0.175852</td>\n",
       "      <td>-0.002147</td>\n",
       "      <td>0.012098</td>\n",
       "      <td>NaN</td>\n",
       "      <td>0.004885</td>\n",
       "      <td>0.004885</td>\n",
       "      <td>-0.001187</td>\n",
       "      <td>0.128036</td>\n",
       "      <td>0.025886</td>\n",
       "      <td>0.009345</td>\n",
       "      <td>-0.010448</td>\n",
       "      <td>-0.019336</td>\n",
       "      <td>-0.011089</td>\n",
       "      <td>-0.004214</td>\n",
       "      <td>NaN</td>\n",
       "      <td>0.010644</td>\n",
       "      <td>0.001109</td>\n",
       "      <td>-0.007354</td>\n",
       "      <td>-0.006756</td>\n",
       "      <td>0.003363</td>\n",
       "      <td>-0.005977</td>\n",
       "      <td>0.001968</td>\n",
       "      <td>0.006068</td>\n",
       "      <td>0.005177</td>\n",
       "      <td>0.015813</td>\n",
       "      <td>-0.007233</td>\n",
       "      <td>0.003534</td>\n",
       "      <td>0.415591</td>\n",
       "      <td>1.000000</td>\n",
       "      <td>-0.103984</td>\n",
       "      <td>-0.101712</td>\n",
       "      <td>-0.090267</td>\n",
       "      <td>-0.097289</td>\n",
       "      <td>-0.097734</td>\n",
       "      <td>-0.093579</td>\n",
       "      <td>-0.095269</td>\n",
       "      <td>-0.091801</td>\n",
       "      <td>-0.102114</td>\n",
       "      <td>-0.097066</td>\n",
       "      <td>-0.103893</td>\n",
       "    </tr>\n",
       "    <tr>\n",
       "      <th>intake_month_2</th>\n",
       "      <td>0.012481</td>\n",
       "      <td>-0.102517</td>\n",
       "      <td>0.021595</td>\n",
       "      <td>0.004898</td>\n",
       "      <td>NaN</td>\n",
       "      <td>0.007943</td>\n",
       "      <td>0.007943</td>\n",
       "      <td>0.006524</td>\n",
       "      <td>0.104994</td>\n",
       "      <td>-0.000982</td>\n",
       "      <td>0.002101</td>\n",
       "      <td>0.007908</td>\n",
       "      <td>-0.026808</td>\n",
       "      <td>-0.023830</td>\n",
       "      <td>0.007755</td>\n",
       "      <td>NaN</td>\n",
       "      <td>-0.010749</td>\n",
       "      <td>0.024654</td>\n",
       "      <td>0.004098</td>\n",
       "      <td>0.004581</td>\n",
       "      <td>0.010006</td>\n",
       "      <td>-0.028381</td>\n",
       "      <td>0.011116</td>\n",
       "      <td>0.005246</td>\n",
       "      <td>0.000134</td>\n",
       "      <td>0.017411</td>\n",
       "      <td>-0.008159</td>\n",
       "      <td>0.046475</td>\n",
       "      <td>0.404536</td>\n",
       "      <td>-0.103984</td>\n",
       "      <td>1.000000</td>\n",
       "      <td>-0.099007</td>\n",
       "      <td>-0.087866</td>\n",
       "      <td>-0.094701</td>\n",
       "      <td>-0.095134</td>\n",
       "      <td>-0.091089</td>\n",
       "      <td>-0.092734</td>\n",
       "      <td>-0.089359</td>\n",
       "      <td>-0.099397</td>\n",
       "      <td>-0.094484</td>\n",
       "      <td>-0.101129</td>\n",
       "    </tr>\n",
       "    <tr>\n",
       "      <th>intake_month_3</th>\n",
       "      <td>0.035477</td>\n",
       "      <td>-0.152715</td>\n",
       "      <td>-0.023725</td>\n",
       "      <td>0.021046</td>\n",
       "      <td>NaN</td>\n",
       "      <td>-0.008699</td>\n",
       "      <td>-0.008699</td>\n",
       "      <td>-0.009967</td>\n",
       "      <td>0.092006</td>\n",
       "      <td>-0.006217</td>\n",
       "      <td>0.008619</td>\n",
       "      <td>-0.004382</td>\n",
       "      <td>-0.008684</td>\n",
       "      <td>0.001585</td>\n",
       "      <td>-0.006267</td>\n",
       "      <td>NaN</td>\n",
       "      <td>0.004563</td>\n",
       "      <td>0.016586</td>\n",
       "      <td>-0.012927</td>\n",
       "      <td>-0.013392</td>\n",
       "      <td>0.013466</td>\n",
       "      <td>0.001324</td>\n",
       "      <td>-0.013718</td>\n",
       "      <td>-0.007950</td>\n",
       "      <td>-0.006923</td>\n",
       "      <td>0.004383</td>\n",
       "      <td>-0.002851</td>\n",
       "      <td>0.005598</td>\n",
       "      <td>0.111404</td>\n",
       "      <td>-0.101712</td>\n",
       "      <td>-0.099007</td>\n",
       "      <td>1.000000</td>\n",
       "      <td>-0.085946</td>\n",
       "      <td>-0.092632</td>\n",
       "      <td>-0.093056</td>\n",
       "      <td>-0.089099</td>\n",
       "      <td>-0.090708</td>\n",
       "      <td>-0.087406</td>\n",
       "      <td>-0.097226</td>\n",
       "      <td>-0.092420</td>\n",
       "      <td>-0.098919</td>\n",
       "    </tr>\n",
       "    <tr>\n",
       "      <th>intake_month_4</th>\n",
       "      <td>-0.008779</td>\n",
       "      <td>-0.101091</td>\n",
       "      <td>-0.006680</td>\n",
       "      <td>-0.030073</td>\n",
       "      <td>NaN</td>\n",
       "      <td>-0.000458</td>\n",
       "      <td>-0.000458</td>\n",
       "      <td>-0.000284</td>\n",
       "      <td>0.003754</td>\n",
       "      <td>0.007315</td>\n",
       "      <td>0.004854</td>\n",
       "      <td>0.008426</td>\n",
       "      <td>0.021981</td>\n",
       "      <td>0.023779</td>\n",
       "      <td>-0.014599</td>\n",
       "      <td>NaN</td>\n",
       "      <td>0.004471</td>\n",
       "      <td>-0.000026</td>\n",
       "      <td>0.004745</td>\n",
       "      <td>0.005078</td>\n",
       "      <td>0.005421</td>\n",
       "      <td>0.002429</td>\n",
       "      <td>-0.013697</td>\n",
       "      <td>-0.020915</td>\n",
       "      <td>0.015606</td>\n",
       "      <td>0.000277</td>\n",
       "      <td>0.004454</td>\n",
       "      <td>0.013953</td>\n",
       "      <td>-0.384136</td>\n",
       "      <td>-0.090267</td>\n",
       "      <td>-0.087866</td>\n",
       "      <td>-0.085946</td>\n",
       "      <td>1.000000</td>\n",
       "      <td>-0.082208</td>\n",
       "      <td>-0.082584</td>\n",
       "      <td>-0.079073</td>\n",
       "      <td>-0.080501</td>\n",
       "      <td>-0.077571</td>\n",
       "      <td>-0.086285</td>\n",
       "      <td>-0.082020</td>\n",
       "      <td>-0.087788</td>\n",
       "    </tr>\n",
       "    <tr>\n",
       "      <th>intake_month_5</th>\n",
       "      <td>0.003875</td>\n",
       "      <td>-0.083350</td>\n",
       "      <td>-0.012044</td>\n",
       "      <td>-0.008742</td>\n",
       "      <td>NaN</td>\n",
       "      <td>0.000529</td>\n",
       "      <td>0.000529</td>\n",
       "      <td>0.007771</td>\n",
       "      <td>0.017037</td>\n",
       "      <td>-0.013906</td>\n",
       "      <td>-0.014906</td>\n",
       "      <td>-0.002881</td>\n",
       "      <td>0.020915</td>\n",
       "      <td>0.027403</td>\n",
       "      <td>-0.013378</td>\n",
       "      <td>NaN</td>\n",
       "      <td>0.011638</td>\n",
       "      <td>-0.002471</td>\n",
       "      <td>-0.010588</td>\n",
       "      <td>-0.009994</td>\n",
       "      <td>-0.000330</td>\n",
       "      <td>0.001302</td>\n",
       "      <td>-0.000375</td>\n",
       "      <td>0.003697</td>\n",
       "      <td>-0.006272</td>\n",
       "      <td>-0.006085</td>\n",
       "      <td>-0.004132</td>\n",
       "      <td>-0.013197</td>\n",
       "      <td>-0.414019</td>\n",
       "      <td>-0.097289</td>\n",
       "      <td>-0.094701</td>\n",
       "      <td>-0.092632</td>\n",
       "      <td>-0.082208</td>\n",
       "      <td>1.000000</td>\n",
       "      <td>-0.089009</td>\n",
       "      <td>-0.085224</td>\n",
       "      <td>-0.086764</td>\n",
       "      <td>-0.083605</td>\n",
       "      <td>-0.092998</td>\n",
       "      <td>-0.088400</td>\n",
       "      <td>-0.094618</td>\n",
       "    </tr>\n",
       "    <tr>\n",
       "      <th>intake_month_6</th>\n",
       "      <td>-0.001246</td>\n",
       "      <td>-0.036969</td>\n",
       "      <td>-0.011610</td>\n",
       "      <td>0.000444</td>\n",
       "      <td>NaN</td>\n",
       "      <td>0.002752</td>\n",
       "      <td>0.002752</td>\n",
       "      <td>0.004816</td>\n",
       "      <td>0.002558</td>\n",
       "      <td>-0.004886</td>\n",
       "      <td>-0.000984</td>\n",
       "      <td>0.003101</td>\n",
       "      <td>0.013184</td>\n",
       "      <td>0.010796</td>\n",
       "      <td>-0.005888</td>\n",
       "      <td>NaN</td>\n",
       "      <td>-0.011657</td>\n",
       "      <td>-0.030691</td>\n",
       "      <td>0.000013</td>\n",
       "      <td>-0.000262</td>\n",
       "      <td>0.009651</td>\n",
       "      <td>0.016561</td>\n",
       "      <td>0.011349</td>\n",
       "      <td>0.008554</td>\n",
       "      <td>-0.004885</td>\n",
       "      <td>-0.017661</td>\n",
       "      <td>-0.007138</td>\n",
       "      <td>-0.013759</td>\n",
       "      <td>-0.323814</td>\n",
       "      <td>-0.097734</td>\n",
       "      <td>-0.095134</td>\n",
       "      <td>-0.093056</td>\n",
       "      <td>-0.082584</td>\n",
       "      <td>-0.089009</td>\n",
       "      <td>1.000000</td>\n",
       "      <td>-0.085614</td>\n",
       "      <td>-0.087161</td>\n",
       "      <td>-0.083988</td>\n",
       "      <td>-0.093423</td>\n",
       "      <td>-0.088805</td>\n",
       "      <td>-0.095051</td>\n",
       "    </tr>\n",
       "    <tr>\n",
       "      <th>intake_month_7</th>\n",
       "      <td>0.013606</td>\n",
       "      <td>-0.033933</td>\n",
       "      <td>-0.003772</td>\n",
       "      <td>0.014220</td>\n",
       "      <td>NaN</td>\n",
       "      <td>-0.008293</td>\n",
       "      <td>-0.008293</td>\n",
       "      <td>-0.005170</td>\n",
       "      <td>-0.004412</td>\n",
       "      <td>0.023059</td>\n",
       "      <td>-0.040432</td>\n",
       "      <td>-0.002450</td>\n",
       "      <td>-0.008762</td>\n",
       "      <td>-0.002051</td>\n",
       "      <td>0.007573</td>\n",
       "      <td>NaN</td>\n",
       "      <td>0.001648</td>\n",
       "      <td>-0.007234</td>\n",
       "      <td>0.008181</td>\n",
       "      <td>0.008584</td>\n",
       "      <td>0.002866</td>\n",
       "      <td>0.011690</td>\n",
       "      <td>-0.004413</td>\n",
       "      <td>-0.001462</td>\n",
       "      <td>0.005658</td>\n",
       "      <td>-0.001838</td>\n",
       "      <td>0.010859</td>\n",
       "      <td>-0.026633</td>\n",
       "      <td>-0.144135</td>\n",
       "      <td>-0.093579</td>\n",
       "      <td>-0.091089</td>\n",
       "      <td>-0.089099</td>\n",
       "      <td>-0.079073</td>\n",
       "      <td>-0.085224</td>\n",
       "      <td>-0.085614</td>\n",
       "      <td>1.000000</td>\n",
       "      <td>-0.083455</td>\n",
       "      <td>-0.080417</td>\n",
       "      <td>-0.089451</td>\n",
       "      <td>-0.085029</td>\n",
       "      <td>-0.091009</td>\n",
       "    </tr>\n",
       "    <tr>\n",
       "      <th>intake_month_8</th>\n",
       "      <td>0.016763</td>\n",
       "      <td>0.015685</td>\n",
       "      <td>-0.001835</td>\n",
       "      <td>0.022992</td>\n",
       "      <td>NaN</td>\n",
       "      <td>-0.001601</td>\n",
       "      <td>-0.001601</td>\n",
       "      <td>0.001887</td>\n",
       "      <td>0.005230</td>\n",
       "      <td>-0.003517</td>\n",
       "      <td>-0.017075</td>\n",
       "      <td>0.007689</td>\n",
       "      <td>-0.024135</td>\n",
       "      <td>-0.005030</td>\n",
       "      <td>-0.007457</td>\n",
       "      <td>NaN</td>\n",
       "      <td>-0.002990</td>\n",
       "      <td>-0.030313</td>\n",
       "      <td>0.001363</td>\n",
       "      <td>0.000745</td>\n",
       "      <td>-0.009203</td>\n",
       "      <td>-0.002983</td>\n",
       "      <td>-0.004939</td>\n",
       "      <td>0.002240</td>\n",
       "      <td>0.003219</td>\n",
       "      <td>0.003880</td>\n",
       "      <td>-0.013652</td>\n",
       "      <td>-0.002612</td>\n",
       "      <td>-0.146738</td>\n",
       "      <td>-0.095269</td>\n",
       "      <td>-0.092734</td>\n",
       "      <td>-0.090708</td>\n",
       "      <td>-0.080501</td>\n",
       "      <td>-0.086764</td>\n",
       "      <td>-0.087161</td>\n",
       "      <td>-0.083455</td>\n",
       "      <td>1.000000</td>\n",
       "      <td>-0.081869</td>\n",
       "      <td>-0.091066</td>\n",
       "      <td>-0.086565</td>\n",
       "      <td>-0.092653</td>\n",
       "    </tr>\n",
       "    <tr>\n",
       "      <th>intake_month_9</th>\n",
       "      <td>0.006718</td>\n",
       "      <td>0.073411</td>\n",
       "      <td>0.019199</td>\n",
       "      <td>0.036356</td>\n",
       "      <td>NaN</td>\n",
       "      <td>0.008449</td>\n",
       "      <td>0.008449</td>\n",
       "      <td>0.007994</td>\n",
       "      <td>-0.000601</td>\n",
       "      <td>-0.009242</td>\n",
       "      <td>-0.014113</td>\n",
       "      <td>0.011102</td>\n",
       "      <td>0.004795</td>\n",
       "      <td>0.000938</td>\n",
       "      <td>0.024418</td>\n",
       "      <td>NaN</td>\n",
       "      <td>0.001179</td>\n",
       "      <td>0.023483</td>\n",
       "      <td>-0.003271</td>\n",
       "      <td>-0.003924</td>\n",
       "      <td>-0.014865</td>\n",
       "      <td>0.007826</td>\n",
       "      <td>-0.002566</td>\n",
       "      <td>-0.007096</td>\n",
       "      <td>-0.006885</td>\n",
       "      <td>-0.006834</td>\n",
       "      <td>0.002767</td>\n",
       "      <td>0.010950</td>\n",
       "      <td>-0.075659</td>\n",
       "      <td>-0.091801</td>\n",
       "      <td>-0.089359</td>\n",
       "      <td>-0.087406</td>\n",
       "      <td>-0.077571</td>\n",
       "      <td>-0.083605</td>\n",
       "      <td>-0.083988</td>\n",
       "      <td>-0.080417</td>\n",
       "      <td>-0.081869</td>\n",
       "      <td>1.000000</td>\n",
       "      <td>-0.087751</td>\n",
       "      <td>-0.083414</td>\n",
       "      <td>-0.089280</td>\n",
       "    </tr>\n",
       "    <tr>\n",
       "      <th>intake_month_10</th>\n",
       "      <td>-0.036922</td>\n",
       "      <td>0.140519</td>\n",
       "      <td>0.022343</td>\n",
       "      <td>-0.038813</td>\n",
       "      <td>NaN</td>\n",
       "      <td>-0.003666</td>\n",
       "      <td>-0.003666</td>\n",
       "      <td>-0.002690</td>\n",
       "      <td>-0.120949</td>\n",
       "      <td>-0.006935</td>\n",
       "      <td>0.012998</td>\n",
       "      <td>-0.001564</td>\n",
       "      <td>0.004993</td>\n",
       "      <td>-0.002998</td>\n",
       "      <td>0.009918</td>\n",
       "      <td>NaN</td>\n",
       "      <td>-0.000497</td>\n",
       "      <td>0.004155</td>\n",
       "      <td>0.015367</td>\n",
       "      <td>0.015477</td>\n",
       "      <td>-0.009124</td>\n",
       "      <td>0.016786</td>\n",
       "      <td>-0.000293</td>\n",
       "      <td>-0.005085</td>\n",
       "      <td>0.010073</td>\n",
       "      <td>-0.007749</td>\n",
       "      <td>0.009597</td>\n",
       "      <td>-0.016784</td>\n",
       "      <td>0.119989</td>\n",
       "      <td>-0.102114</td>\n",
       "      <td>-0.099397</td>\n",
       "      <td>-0.097226</td>\n",
       "      <td>-0.086285</td>\n",
       "      <td>-0.092998</td>\n",
       "      <td>-0.093423</td>\n",
       "      <td>-0.089451</td>\n",
       "      <td>-0.091066</td>\n",
       "      <td>-0.087751</td>\n",
       "      <td>1.000000</td>\n",
       "      <td>-0.092784</td>\n",
       "      <td>-0.099310</td>\n",
       "    </tr>\n",
       "    <tr>\n",
       "      <th>intake_month_11</th>\n",
       "      <td>-0.033505</td>\n",
       "      <td>0.187661</td>\n",
       "      <td>0.010961</td>\n",
       "      <td>-0.013576</td>\n",
       "      <td>NaN</td>\n",
       "      <td>0.002669</td>\n",
       "      <td>0.002669</td>\n",
       "      <td>-0.001816</td>\n",
       "      <td>-0.108470</td>\n",
       "      <td>0.005703</td>\n",
       "      <td>0.018792</td>\n",
       "      <td>0.001817</td>\n",
       "      <td>0.024363</td>\n",
       "      <td>-0.002950</td>\n",
       "      <td>-0.005169</td>\n",
       "      <td>NaN</td>\n",
       "      <td>-0.009296</td>\n",
       "      <td>-0.007117</td>\n",
       "      <td>-0.012701</td>\n",
       "      <td>-0.012853</td>\n",
       "      <td>-0.016562</td>\n",
       "      <td>-0.002267</td>\n",
       "      <td>0.011385</td>\n",
       "      <td>0.015335</td>\n",
       "      <td>-0.001349</td>\n",
       "      <td>0.001140</td>\n",
       "      <td>0.010500</td>\n",
       "      <td>-0.026603</td>\n",
       "      <td>0.114058</td>\n",
       "      <td>-0.097066</td>\n",
       "      <td>-0.094484</td>\n",
       "      <td>-0.092420</td>\n",
       "      <td>-0.082020</td>\n",
       "      <td>-0.088400</td>\n",
       "      <td>-0.088805</td>\n",
       "      <td>-0.085029</td>\n",
       "      <td>-0.086565</td>\n",
       "      <td>-0.083414</td>\n",
       "      <td>-0.092784</td>\n",
       "      <td>1.000000</td>\n",
       "      <td>-0.094401</td>\n",
       "    </tr>\n",
       "    <tr>\n",
       "      <th>intake_month_12</th>\n",
       "      <td>-0.033588</td>\n",
       "      <td>0.270855</td>\n",
       "      <td>-0.012254</td>\n",
       "      <td>-0.019484</td>\n",
       "      <td>NaN</td>\n",
       "      <td>-0.004542</td>\n",
       "      <td>-0.004542</td>\n",
       "      <td>-0.007062</td>\n",
       "      <td>-0.126850</td>\n",
       "      <td>-0.016153</td>\n",
       "      <td>0.025701</td>\n",
       "      <td>-0.015724</td>\n",
       "      <td>0.001472</td>\n",
       "      <td>-0.012263</td>\n",
       "      <td>0.007041</td>\n",
       "      <td>NaN</td>\n",
       "      <td>0.000958</td>\n",
       "      <td>0.005732</td>\n",
       "      <td>0.012972</td>\n",
       "      <td>0.012560</td>\n",
       "      <td>0.003627</td>\n",
       "      <td>-0.015328</td>\n",
       "      <td>0.002565</td>\n",
       "      <td>-0.000516</td>\n",
       "      <td>-0.012541</td>\n",
       "      <td>-0.004796</td>\n",
       "      <td>0.005975</td>\n",
       "      <td>0.016218</td>\n",
       "      <td>0.212803</td>\n",
       "      <td>-0.103893</td>\n",
       "      <td>-0.101129</td>\n",
       "      <td>-0.098919</td>\n",
       "      <td>-0.087788</td>\n",
       "      <td>-0.094618</td>\n",
       "      <td>-0.095051</td>\n",
       "      <td>-0.091009</td>\n",
       "      <td>-0.092653</td>\n",
       "      <td>-0.089280</td>\n",
       "      <td>-0.099310</td>\n",
       "      <td>-0.094401</td>\n",
       "      <td>1.000000</td>\n",
       "    </tr>\n",
       "  </tbody>\n",
       "</table>\n",
       "</div>"
      ],
      "text/plain": [
       "                           dob_year  dob_month  age_upon_intake  \\\n",
       "dob_year                   1.000000  -0.087577        -0.437901   \n",
       "dob_month                 -0.087577   1.000000        -0.028128   \n",
       "age_upon_intake           -0.437901  -0.028128         1.000000   \n",
       "animal_id_intake           0.593848   0.012006        -0.152944   \n",
       "count                           NaN        NaN              NaN   \n",
       "age_upon_intake_days      -0.868105  -0.026497         0.514173   \n",
       "age_upon_intake_tears     -0.868105  -0.026497         0.514173   \n",
       "age_upon_intake_age_group -0.820347  -0.022211         0.564663   \n",
       "intake_year                0.469682  -0.097064         0.003737   \n",
       "intake_weekday            -0.010128  -0.004635        -0.002731   \n",
       "intake_hour               -0.010781   0.016835         0.005868   \n",
       "intake_number             -0.032566   0.006986        -0.003936   \n",
       "time_in_shelter           -0.124379  -0.008839        -0.011329   \n",
       "time_in_shelter_days      -0.177873  -0.015525         0.031198   \n",
       "has_second_color           0.057978   0.024687        -0.020847   \n",
       "is_dog                          NaN        NaN              NaN   \n",
       "is_male                   -0.016541  -0.008152        -0.009308   \n",
       "is_fixed                  -0.007942   0.007147        -0.013123   \n",
       "found_lat                 -0.046791  -0.007343         0.023178   \n",
       "found_lon                 -0.046203  -0.007312         0.023012   \n",
       "is_breed2                 -0.033838  -0.003192        -0.011551   \n",
       "is_mix                     0.097415   0.010722        -0.056877   \n",
       "max_weight                 0.124672   0.012269        -0.030772   \n",
       "max_height                 0.130283   0.014146        -0.023387   \n",
       "max_life                  -0.103694   0.000193         0.028239   \n",
       "health                     0.020955   0.000918        -0.004294   \n",
       "color_bin                 -0.008978  -0.003738         0.023758   \n",
       "was_owned                 -0.120987  -0.010213         0.105179   \n",
       "season                    -0.003581   0.050764         0.026688   \n",
       "intake_month_1             0.024928  -0.175852        -0.002147   \n",
       "intake_month_2             0.012481  -0.102517         0.021595   \n",
       "intake_month_3             0.035477  -0.152715        -0.023725   \n",
       "intake_month_4            -0.008779  -0.101091        -0.006680   \n",
       "intake_month_5             0.003875  -0.083350        -0.012044   \n",
       "intake_month_6            -0.001246  -0.036969        -0.011610   \n",
       "intake_month_7             0.013606  -0.033933        -0.003772   \n",
       "intake_month_8             0.016763   0.015685        -0.001835   \n",
       "intake_month_9             0.006718   0.073411         0.019199   \n",
       "intake_month_10           -0.036922   0.140519         0.022343   \n",
       "intake_month_11           -0.033505   0.187661         0.010961   \n",
       "intake_month_12           -0.033588   0.270855        -0.012254   \n",
       "\n",
       "                           animal_id_intake  count  age_upon_intake_days  \\\n",
       "dob_year                           0.593848    NaN             -0.868105   \n",
       "dob_month                          0.012006    NaN             -0.026497   \n",
       "age_upon_intake                   -0.152944    NaN              0.514173   \n",
       "animal_id_intake                   1.000000    NaN             -0.262284   \n",
       "count                                   NaN    NaN                   NaN   \n",
       "age_upon_intake_days              -0.262284    NaN              1.000000   \n",
       "age_upon_intake_tears             -0.262284    NaN              1.000000   \n",
       "age_upon_intake_age_group         -0.263608    NaN              0.947687   \n",
       "intake_year                        0.717761    NaN              0.007509   \n",
       "intake_weekday                    -0.001087    NaN              0.011554   \n",
       "intake_hour                       -0.025556    NaN             -0.010211   \n",
       "intake_number                     -0.024242    NaN              0.019228   \n",
       "time_in_shelter                   -0.093379    NaN              0.101166   \n",
       "time_in_shelter_days              -0.123188    NaN              0.161278   \n",
       "has_second_color                   0.005519    NaN             -0.060282   \n",
       "is_dog                                  NaN    NaN                   NaN   \n",
       "is_male                            0.004882    NaN              0.022509   \n",
       "is_fixed                          -0.042540    NaN             -0.014473   \n",
       "found_lat                         -0.021683    NaN              0.047593   \n",
       "found_lon                         -0.021572    NaN              0.046889   \n",
       "is_breed2                         -0.115697    NaN             -0.043255   \n",
       "is_mix                             0.062213    NaN             -0.102756   \n",
       "max_weight                         0.039345    NaN             -0.114205   \n",
       "max_height                         0.031266    NaN             -0.125801   \n",
       "max_life                          -0.030412    NaN              0.097103   \n",
       "health                             0.007425    NaN             -0.014564   \n",
       "color_bin                          0.006852    NaN              0.015963   \n",
       "was_owned                         -0.068193    NaN              0.153936   \n",
       "season                             0.006129    NaN              0.008565   \n",
       "intake_month_1                     0.012098    NaN              0.004885   \n",
       "intake_month_2                     0.004898    NaN              0.007943   \n",
       "intake_month_3                     0.021046    NaN             -0.008699   \n",
       "intake_month_4                    -0.030073    NaN             -0.000458   \n",
       "intake_month_5                    -0.008742    NaN              0.000529   \n",
       "intake_month_6                     0.000444    NaN              0.002752   \n",
       "intake_month_7                     0.014220    NaN             -0.008293   \n",
       "intake_month_8                     0.022992    NaN             -0.001601   \n",
       "intake_month_9                     0.036356    NaN              0.008449   \n",
       "intake_month_10                   -0.038813    NaN             -0.003666   \n",
       "intake_month_11                   -0.013576    NaN              0.002669   \n",
       "intake_month_12                   -0.019484    NaN             -0.004542   \n",
       "\n",
       "                           age_upon_intake_tears  age_upon_intake_age_group  \\\n",
       "dob_year                               -0.868105                  -0.820347   \n",
       "dob_month                              -0.026497                  -0.022211   \n",
       "age_upon_intake                         0.514173                   0.564663   \n",
       "animal_id_intake                       -0.262284                  -0.263608   \n",
       "count                                        NaN                        NaN   \n",
       "age_upon_intake_days                    1.000000                   0.947687   \n",
       "age_upon_intake_tears                   1.000000                   0.947687   \n",
       "age_upon_intake_age_group               0.947687                   1.000000   \n",
       "intake_year                             0.007509                   0.011429   \n",
       "intake_weekday                          0.011554                   0.006952   \n",
       "intake_hour                            -0.010211                  -0.012952   \n",
       "intake_number                           0.019228                   0.001412   \n",
       "time_in_shelter                         0.101166                   0.081050   \n",
       "time_in_shelter_days                    0.161278                   0.134220   \n",
       "has_second_color                       -0.060282                  -0.056237   \n",
       "is_dog                                       NaN                        NaN   \n",
       "is_male                                 0.022509                   0.007588   \n",
       "is_fixed                               -0.014473                  -0.025181   \n",
       "found_lat                               0.047593                   0.033067   \n",
       "found_lon                               0.046889                   0.032505   \n",
       "is_breed2                              -0.043255                  -0.034742   \n",
       "is_mix                                 -0.102756                  -0.091303   \n",
       "max_weight                             -0.114205                  -0.095622   \n",
       "max_height                             -0.125801                  -0.105664   \n",
       "max_life                                0.097103                   0.081317   \n",
       "health                                 -0.014564                  -0.010414   \n",
       "color_bin                               0.015963                   0.022054   \n",
       "was_owned                               0.153936                   0.149967   \n",
       "season                                  0.008565                   0.001105   \n",
       "intake_month_1                          0.004885                  -0.001187   \n",
       "intake_month_2                          0.007943                   0.006524   \n",
       "intake_month_3                         -0.008699                  -0.009967   \n",
       "intake_month_4                         -0.000458                  -0.000284   \n",
       "intake_month_5                          0.000529                   0.007771   \n",
       "intake_month_6                          0.002752                   0.004816   \n",
       "intake_month_7                         -0.008293                  -0.005170   \n",
       "intake_month_8                         -0.001601                   0.001887   \n",
       "intake_month_9                          0.008449                   0.007994   \n",
       "intake_month_10                        -0.003666                  -0.002690   \n",
       "intake_month_11                         0.002669                  -0.001816   \n",
       "intake_month_12                        -0.004542                  -0.007062   \n",
       "\n",
       "                           intake_year  intake_weekday  intake_hour  \\\n",
       "dob_year                      0.469682       -0.010128    -0.010781   \n",
       "dob_month                    -0.097064       -0.004635     0.016835   \n",
       "age_upon_intake               0.003737       -0.002731     0.005868   \n",
       "animal_id_intake              0.717761       -0.001087    -0.025556   \n",
       "count                              NaN             NaN          NaN   \n",
       "age_upon_intake_days          0.007509        0.011554    -0.010211   \n",
       "age_upon_intake_tears         0.007509        0.011554    -0.010211   \n",
       "age_upon_intake_age_group     0.011429        0.006952    -0.012952   \n",
       "intake_year                   1.000000        0.002032    -0.040956   \n",
       "intake_weekday                0.002032        1.000000    -0.046490   \n",
       "intake_hour                  -0.040956       -0.046490     1.000000   \n",
       "intake_number                -0.026737       -0.007440    -0.005190   \n",
       "time_in_shelter              -0.073566        0.004770    -0.016234   \n",
       "time_in_shelter_days         -0.068618        0.009144    -0.003046   \n",
       "has_second_color              0.015411       -0.001346    -0.000701   \n",
       "is_dog                             NaN             NaN          NaN   \n",
       "is_male                       0.005338        0.017040    -0.007448   \n",
       "is_fixed                     -0.032921        0.004088    -0.008309   \n",
       "found_lat                    -0.013799       -0.016735     0.004939   \n",
       "found_lon                    -0.013785       -0.016796     0.004971   \n",
       "is_breed2                    -0.137435       -0.018633    -0.002094   \n",
       "is_mix                        0.013279        0.001849    -0.005345   \n",
       "max_weight                    0.063012        0.006163    -0.002626   \n",
       "max_height                    0.054445        0.010949     0.000465   \n",
       "max_life                     -0.046338       -0.002845     0.008370   \n",
       "health                        0.020309        0.010566     0.057451   \n",
       "color_bin                     0.005672        0.001491    -0.002766   \n",
       "was_owned                     0.053542        0.008313    -0.039273   \n",
       "season                        0.041131        0.012323     0.025882   \n",
       "intake_month_1                0.128036        0.025886     0.009345   \n",
       "intake_month_2                0.104994       -0.000982     0.002101   \n",
       "intake_month_3                0.092006       -0.006217     0.008619   \n",
       "intake_month_4                0.003754        0.007315     0.004854   \n",
       "intake_month_5                0.017037       -0.013906    -0.014906   \n",
       "intake_month_6                0.002558       -0.004886    -0.000984   \n",
       "intake_month_7               -0.004412        0.023059    -0.040432   \n",
       "intake_month_8                0.005230       -0.003517    -0.017075   \n",
       "intake_month_9               -0.000601       -0.009242    -0.014113   \n",
       "intake_month_10              -0.120949       -0.006935     0.012998   \n",
       "intake_month_11              -0.108470        0.005703     0.018792   \n",
       "intake_month_12              -0.126850       -0.016153     0.025701   \n",
       "\n",
       "                           intake_number  time_in_shelter  \\\n",
       "dob_year                       -0.032566        -0.124379   \n",
       "dob_month                       0.006986        -0.008839   \n",
       "age_upon_intake                -0.003936        -0.011329   \n",
       "animal_id_intake               -0.024242        -0.093379   \n",
       "count                                NaN              NaN   \n",
       "age_upon_intake_days            0.019228         0.101166   \n",
       "age_upon_intake_tears           0.019228         0.101166   \n",
       "age_upon_intake_age_group       0.001412         0.081050   \n",
       "intake_year                    -0.026737        -0.073566   \n",
       "intake_weekday                 -0.007440         0.004770   \n",
       "intake_hour                    -0.005190        -0.016234   \n",
       "intake_number                   1.000000         0.043869   \n",
       "time_in_shelter                 0.043869         1.000000   \n",
       "time_in_shelter_days            0.026544         0.538528   \n",
       "has_second_color                0.039289         0.041323   \n",
       "is_dog                               NaN              NaN   \n",
       "is_male                         0.005999         0.015550   \n",
       "is_fixed                        0.006613         0.033726   \n",
       "found_lat                       0.008911        -0.004994   \n",
       "found_lon                       0.008711        -0.004972   \n",
       "is_breed2                      -0.007136         0.005978   \n",
       "is_mix                         -0.009844        -0.002939   \n",
       "max_weight                      0.067942         0.117337   \n",
       "max_height                      0.082274         0.124228   \n",
       "max_life                       -0.040691        -0.071959   \n",
       "health                          0.022008        -0.140413   \n",
       "color_bin                      -0.006254        -0.024559   \n",
       "was_owned                       0.038182        -0.018850   \n",
       "season                         -0.002400        -0.028393   \n",
       "intake_month_1                 -0.010448        -0.019336   \n",
       "intake_month_2                  0.007908        -0.026808   \n",
       "intake_month_3                 -0.004382        -0.008684   \n",
       "intake_month_4                  0.008426         0.021981   \n",
       "intake_month_5                 -0.002881         0.020915   \n",
       "intake_month_6                  0.003101         0.013184   \n",
       "intake_month_7                 -0.002450        -0.008762   \n",
       "intake_month_8                  0.007689        -0.024135   \n",
       "intake_month_9                  0.011102         0.004795   \n",
       "intake_month_10                -0.001564         0.004993   \n",
       "intake_month_11                 0.001817         0.024363   \n",
       "intake_month_12                -0.015724         0.001472   \n",
       "\n",
       "                           time_in_shelter_days  has_second_color  is_dog  \\\n",
       "dob_year                              -0.177873          0.057978     NaN   \n",
       "dob_month                             -0.015525          0.024687     NaN   \n",
       "age_upon_intake                        0.031198         -0.020847     NaN   \n",
       "animal_id_intake                      -0.123188          0.005519     NaN   \n",
       "count                                       NaN               NaN     NaN   \n",
       "age_upon_intake_days                   0.161278         -0.060282     NaN   \n",
       "age_upon_intake_tears                  0.161278         -0.060282     NaN   \n",
       "age_upon_intake_age_group              0.134220         -0.056237     NaN   \n",
       "intake_year                           -0.068618          0.015411     NaN   \n",
       "intake_weekday                         0.009144         -0.001346     NaN   \n",
       "intake_hour                           -0.003046         -0.000701     NaN   \n",
       "intake_number                          0.026544          0.039289     NaN   \n",
       "time_in_shelter                        0.538528          0.041323     NaN   \n",
       "time_in_shelter_days                   1.000000          0.047870     NaN   \n",
       "has_second_color                       0.047870          1.000000     NaN   \n",
       "is_dog                                      NaN               NaN     NaN   \n",
       "is_male                                0.005003          0.001499     NaN   \n",
       "is_fixed                               0.038611          0.007821     NaN   \n",
       "found_lat                              0.005830          0.003158     NaN   \n",
       "found_lon                              0.006160          0.003082     NaN   \n",
       "is_breed2                             -0.016694          0.006067     NaN   \n",
       "is_mix                                -0.004113          0.012250     NaN   \n",
       "max_weight                             0.110273          0.069639     NaN   \n",
       "max_height                             0.110725          0.069602     NaN   \n",
       "max_life                              -0.059088         -0.045572     NaN   \n",
       "health                                -0.132720          0.001266     NaN   \n",
       "color_bin                             -0.024916          0.093114     NaN   \n",
       "was_owned                              0.006813          0.000555     NaN   \n",
       "season                                -0.032538          0.012631     NaN   \n",
       "intake_month_1                        -0.011089         -0.004214     NaN   \n",
       "intake_month_2                        -0.023830          0.007755     NaN   \n",
       "intake_month_3                         0.001585         -0.006267     NaN   \n",
       "intake_month_4                         0.023779         -0.014599     NaN   \n",
       "intake_month_5                         0.027403         -0.013378     NaN   \n",
       "intake_month_6                         0.010796         -0.005888     NaN   \n",
       "intake_month_7                        -0.002051          0.007573     NaN   \n",
       "intake_month_8                        -0.005030         -0.007457     NaN   \n",
       "intake_month_9                         0.000938          0.024418     NaN   \n",
       "intake_month_10                       -0.002998          0.009918     NaN   \n",
       "intake_month_11                       -0.002950         -0.005169     NaN   \n",
       "intake_month_12                       -0.012263          0.007041     NaN   \n",
       "\n",
       "                            is_male  is_fixed  found_lat  found_lon  \\\n",
       "dob_year                  -0.016541 -0.007942  -0.046791  -0.046203   \n",
       "dob_month                 -0.008152  0.007147  -0.007343  -0.007312   \n",
       "age_upon_intake           -0.009308 -0.013123   0.023178   0.023012   \n",
       "animal_id_intake           0.004882 -0.042540  -0.021683  -0.021572   \n",
       "count                           NaN       NaN        NaN        NaN   \n",
       "age_upon_intake_days       0.022509 -0.014473   0.047593   0.046889   \n",
       "age_upon_intake_tears      0.022509 -0.014473   0.047593   0.046889   \n",
       "age_upon_intake_age_group  0.007588 -0.025181   0.033067   0.032505   \n",
       "intake_year                0.005338 -0.032921  -0.013799  -0.013785   \n",
       "intake_weekday             0.017040  0.004088  -0.016735  -0.016796   \n",
       "intake_hour               -0.007448 -0.008309   0.004939   0.004971   \n",
       "intake_number              0.005999  0.006613   0.008911   0.008711   \n",
       "time_in_shelter            0.015550  0.033726  -0.004994  -0.004972   \n",
       "time_in_shelter_days       0.005003  0.038611   0.005830   0.006160   \n",
       "has_second_color           0.001499  0.007821   0.003158   0.003082   \n",
       "is_dog                          NaN       NaN        NaN        NaN   \n",
       "is_male                    1.000000  0.007832   0.010335   0.010557   \n",
       "is_fixed                   0.007832  1.000000  -0.004661  -0.004510   \n",
       "found_lat                  0.010335 -0.004661   1.000000   0.999221   \n",
       "found_lon                  0.010557 -0.004510   0.999221   1.000000   \n",
       "is_breed2                  0.018278  0.021105   0.004048   0.004009   \n",
       "is_mix                    -0.006512  0.030940   0.001549   0.001845   \n",
       "max_weight                 0.011397 -0.007972  -0.014012  -0.015003   \n",
       "max_height                -0.017285  0.002116  -0.015271  -0.016039   \n",
       "max_life                  -0.017747  0.005598   0.011913   0.012706   \n",
       "health                    -0.023583  0.056819  -0.012163  -0.012084   \n",
       "color_bin                 -0.003810  0.006596  -0.004239  -0.004810   \n",
       "was_owned                 -0.029375  0.016003   0.021683   0.020078   \n",
       "season                    -0.003419  0.023882   0.006173   0.006587   \n",
       "intake_month_1             0.010644  0.001109  -0.007354  -0.006756   \n",
       "intake_month_2            -0.010749  0.024654   0.004098   0.004581   \n",
       "intake_month_3             0.004563  0.016586  -0.012927  -0.013392   \n",
       "intake_month_4             0.004471 -0.000026   0.004745   0.005078   \n",
       "intake_month_5             0.011638 -0.002471  -0.010588  -0.009994   \n",
       "intake_month_6            -0.011657 -0.030691   0.000013  -0.000262   \n",
       "intake_month_7             0.001648 -0.007234   0.008181   0.008584   \n",
       "intake_month_8            -0.002990 -0.030313   0.001363   0.000745   \n",
       "intake_month_9             0.001179  0.023483  -0.003271  -0.003924   \n",
       "intake_month_10           -0.000497  0.004155   0.015367   0.015477   \n",
       "intake_month_11           -0.009296 -0.007117  -0.012701  -0.012853   \n",
       "intake_month_12            0.000958  0.005732   0.012972   0.012560   \n",
       "\n",
       "                           is_breed2    is_mix  max_weight  max_height  \\\n",
       "dob_year                   -0.033838  0.097415    0.124672    0.130283   \n",
       "dob_month                  -0.003192  0.010722    0.012269    0.014146   \n",
       "age_upon_intake            -0.011551 -0.056877   -0.030772   -0.023387   \n",
       "animal_id_intake           -0.115697  0.062213    0.039345    0.031266   \n",
       "count                            NaN       NaN         NaN         NaN   \n",
       "age_upon_intake_days       -0.043255 -0.102756   -0.114205   -0.125801   \n",
       "age_upon_intake_tears      -0.043255 -0.102756   -0.114205   -0.125801   \n",
       "age_upon_intake_age_group  -0.034742 -0.091303   -0.095622   -0.105664   \n",
       "intake_year                -0.137435  0.013279    0.063012    0.054445   \n",
       "intake_weekday             -0.018633  0.001849    0.006163    0.010949   \n",
       "intake_hour                -0.002094 -0.005345   -0.002626    0.000465   \n",
       "intake_number              -0.007136 -0.009844    0.067942    0.082274   \n",
       "time_in_shelter             0.005978 -0.002939    0.117337    0.124228   \n",
       "time_in_shelter_days       -0.016694 -0.004113    0.110273    0.110725   \n",
       "has_second_color            0.006067  0.012250    0.069639    0.069602   \n",
       "is_dog                           NaN       NaN         NaN         NaN   \n",
       "is_male                     0.018278 -0.006512    0.011397   -0.017285   \n",
       "is_fixed                    0.021105  0.030940   -0.007972    0.002116   \n",
       "found_lat                   0.004048  0.001549   -0.014012   -0.015271   \n",
       "found_lon                   0.004009  0.001845   -0.015003   -0.016039   \n",
       "is_breed2                   1.000000  0.107646   -0.002321   -0.014154   \n",
       "is_mix                      0.107646  1.000000   -0.018265   -0.023526   \n",
       "max_weight                 -0.002321 -0.018265    1.000000    0.849368   \n",
       "max_height                 -0.014154 -0.023526    0.849368    1.000000   \n",
       "max_life                   -0.017773  0.037086   -0.716710   -0.638607   \n",
       "health                      0.006057 -0.002579    0.026575    0.034113   \n",
       "color_bin                   0.007119 -0.021281    0.020693    0.024006   \n",
       "was_owned                   0.030265 -0.035441    0.034011    0.030510   \n",
       "season                      0.003531 -0.024738    0.006772    0.008560   \n",
       "intake_month_1              0.003363 -0.005977    0.001968    0.006068   \n",
       "intake_month_2              0.010006 -0.028381    0.011116    0.005246   \n",
       "intake_month_3              0.013466  0.001324   -0.013718   -0.007950   \n",
       "intake_month_4              0.005421  0.002429   -0.013697   -0.020915   \n",
       "intake_month_5             -0.000330  0.001302   -0.000375    0.003697   \n",
       "intake_month_6              0.009651  0.016561    0.011349    0.008554   \n",
       "intake_month_7              0.002866  0.011690   -0.004413   -0.001462   \n",
       "intake_month_8             -0.009203 -0.002983   -0.004939    0.002240   \n",
       "intake_month_9             -0.014865  0.007826   -0.002566   -0.007096   \n",
       "intake_month_10            -0.009124  0.016786   -0.000293   -0.005085   \n",
       "intake_month_11            -0.016562 -0.002267    0.011385    0.015335   \n",
       "intake_month_12             0.003627 -0.015328    0.002565   -0.000516   \n",
       "\n",
       "                           max_life    health  color_bin  was_owned    season  \\\n",
       "dob_year                  -0.103694  0.020955  -0.008978  -0.120987 -0.003581   \n",
       "dob_month                  0.000193  0.000918  -0.003738  -0.010213  0.050764   \n",
       "age_upon_intake            0.028239 -0.004294   0.023758   0.105179  0.026688   \n",
       "animal_id_intake          -0.030412  0.007425   0.006852  -0.068193  0.006129   \n",
       "count                           NaN       NaN        NaN        NaN       NaN   \n",
       "age_upon_intake_days       0.097103 -0.014564   0.015963   0.153936  0.008565   \n",
       "age_upon_intake_tears      0.097103 -0.014564   0.015963   0.153936  0.008565   \n",
       "age_upon_intake_age_group  0.081317 -0.010414   0.022054   0.149967  0.001105   \n",
       "intake_year               -0.046338  0.020309   0.005672   0.053542  0.041131   \n",
       "intake_weekday            -0.002845  0.010566   0.001491   0.008313  0.012323   \n",
       "intake_hour                0.008370  0.057451  -0.002766  -0.039273  0.025882   \n",
       "intake_number             -0.040691  0.022008  -0.006254   0.038182 -0.002400   \n",
       "time_in_shelter           -0.071959 -0.140413  -0.024559  -0.018850 -0.028393   \n",
       "time_in_shelter_days      -0.059088 -0.132720  -0.024916   0.006813 -0.032538   \n",
       "has_second_color          -0.045572  0.001266   0.093114   0.000555  0.012631   \n",
       "is_dog                          NaN       NaN        NaN        NaN       NaN   \n",
       "is_male                   -0.017747 -0.023583  -0.003810  -0.029375 -0.003419   \n",
       "is_fixed                   0.005598  0.056819   0.006596   0.016003  0.023882   \n",
       "found_lat                  0.011913 -0.012163  -0.004239   0.021683  0.006173   \n",
       "found_lon                  0.012706 -0.012084  -0.004810   0.020078  0.006587   \n",
       "is_breed2                 -0.017773  0.006057   0.007119   0.030265  0.003531   \n",
       "is_mix                     0.037086 -0.002579  -0.021281  -0.035441 -0.024738   \n",
       "max_weight                -0.716710  0.026575   0.020693   0.034011  0.006772   \n",
       "max_height                -0.638607  0.034113   0.024006   0.030510  0.008560   \n",
       "max_life                   1.000000 -0.026674   0.016841  -0.030764 -0.000322   \n",
       "health                    -0.026674  1.000000   0.003949   0.045560  0.019597   \n",
       "color_bin                  0.016841  0.003949   1.000000  -0.007381  0.000119   \n",
       "was_owned                 -0.030764  0.045560  -0.007381   1.000000  0.021654   \n",
       "season                    -0.000322  0.019597   0.000119   0.021654  1.000000   \n",
       "intake_month_1             0.005177  0.015813  -0.007233   0.003534  0.415591   \n",
       "intake_month_2             0.000134  0.017411  -0.008159   0.046475  0.404536   \n",
       "intake_month_3            -0.006923  0.004383  -0.002851   0.005598  0.111404   \n",
       "intake_month_4             0.015606  0.000277   0.004454   0.013953 -0.384136   \n",
       "intake_month_5            -0.006272 -0.006085  -0.004132  -0.013197 -0.414019   \n",
       "intake_month_6            -0.004885 -0.017661  -0.007138  -0.013759 -0.323814   \n",
       "intake_month_7             0.005658 -0.001838   0.010859  -0.026633 -0.144135   \n",
       "intake_month_8             0.003219  0.003880  -0.013652  -0.002612 -0.146738   \n",
       "intake_month_9            -0.006885 -0.006834   0.002767   0.010950 -0.075659   \n",
       "intake_month_10            0.010073 -0.007749   0.009597  -0.016784  0.119989   \n",
       "intake_month_11           -0.001349  0.001140   0.010500  -0.026603  0.114058   \n",
       "intake_month_12           -0.012541 -0.004796   0.005975   0.016218  0.212803   \n",
       "\n",
       "                           intake_month_1  intake_month_2  intake_month_3  \\\n",
       "dob_year                         0.024928        0.012481        0.035477   \n",
       "dob_month                       -0.175852       -0.102517       -0.152715   \n",
       "age_upon_intake                 -0.002147        0.021595       -0.023725   \n",
       "animal_id_intake                 0.012098        0.004898        0.021046   \n",
       "count                                 NaN             NaN             NaN   \n",
       "age_upon_intake_days             0.004885        0.007943       -0.008699   \n",
       "age_upon_intake_tears            0.004885        0.007943       -0.008699   \n",
       "age_upon_intake_age_group       -0.001187        0.006524       -0.009967   \n",
       "intake_year                      0.128036        0.104994        0.092006   \n",
       "intake_weekday                   0.025886       -0.000982       -0.006217   \n",
       "intake_hour                      0.009345        0.002101        0.008619   \n",
       "intake_number                   -0.010448        0.007908       -0.004382   \n",
       "time_in_shelter                 -0.019336       -0.026808       -0.008684   \n",
       "time_in_shelter_days            -0.011089       -0.023830        0.001585   \n",
       "has_second_color                -0.004214        0.007755       -0.006267   \n",
       "is_dog                                NaN             NaN             NaN   \n",
       "is_male                          0.010644       -0.010749        0.004563   \n",
       "is_fixed                         0.001109        0.024654        0.016586   \n",
       "found_lat                       -0.007354        0.004098       -0.012927   \n",
       "found_lon                       -0.006756        0.004581       -0.013392   \n",
       "is_breed2                        0.003363        0.010006        0.013466   \n",
       "is_mix                          -0.005977       -0.028381        0.001324   \n",
       "max_weight                       0.001968        0.011116       -0.013718   \n",
       "max_height                       0.006068        0.005246       -0.007950   \n",
       "max_life                         0.005177        0.000134       -0.006923   \n",
       "health                           0.015813        0.017411        0.004383   \n",
       "color_bin                       -0.007233       -0.008159       -0.002851   \n",
       "was_owned                        0.003534        0.046475        0.005598   \n",
       "season                           0.415591        0.404536        0.111404   \n",
       "intake_month_1                   1.000000       -0.103984       -0.101712   \n",
       "intake_month_2                  -0.103984        1.000000       -0.099007   \n",
       "intake_month_3                  -0.101712       -0.099007        1.000000   \n",
       "intake_month_4                  -0.090267       -0.087866       -0.085946   \n",
       "intake_month_5                  -0.097289       -0.094701       -0.092632   \n",
       "intake_month_6                  -0.097734       -0.095134       -0.093056   \n",
       "intake_month_7                  -0.093579       -0.091089       -0.089099   \n",
       "intake_month_8                  -0.095269       -0.092734       -0.090708   \n",
       "intake_month_9                  -0.091801       -0.089359       -0.087406   \n",
       "intake_month_10                 -0.102114       -0.099397       -0.097226   \n",
       "intake_month_11                 -0.097066       -0.094484       -0.092420   \n",
       "intake_month_12                 -0.103893       -0.101129       -0.098919   \n",
       "\n",
       "                           intake_month_4  intake_month_5  intake_month_6  \\\n",
       "dob_year                        -0.008779        0.003875       -0.001246   \n",
       "dob_month                       -0.101091       -0.083350       -0.036969   \n",
       "age_upon_intake                 -0.006680       -0.012044       -0.011610   \n",
       "animal_id_intake                -0.030073       -0.008742        0.000444   \n",
       "count                                 NaN             NaN             NaN   \n",
       "age_upon_intake_days            -0.000458        0.000529        0.002752   \n",
       "age_upon_intake_tears           -0.000458        0.000529        0.002752   \n",
       "age_upon_intake_age_group       -0.000284        0.007771        0.004816   \n",
       "intake_year                      0.003754        0.017037        0.002558   \n",
       "intake_weekday                   0.007315       -0.013906       -0.004886   \n",
       "intake_hour                      0.004854       -0.014906       -0.000984   \n",
       "intake_number                    0.008426       -0.002881        0.003101   \n",
       "time_in_shelter                  0.021981        0.020915        0.013184   \n",
       "time_in_shelter_days             0.023779        0.027403        0.010796   \n",
       "has_second_color                -0.014599       -0.013378       -0.005888   \n",
       "is_dog                                NaN             NaN             NaN   \n",
       "is_male                          0.004471        0.011638       -0.011657   \n",
       "is_fixed                        -0.000026       -0.002471       -0.030691   \n",
       "found_lat                        0.004745       -0.010588        0.000013   \n",
       "found_lon                        0.005078       -0.009994       -0.000262   \n",
       "is_breed2                        0.005421       -0.000330        0.009651   \n",
       "is_mix                           0.002429        0.001302        0.016561   \n",
       "max_weight                      -0.013697       -0.000375        0.011349   \n",
       "max_height                      -0.020915        0.003697        0.008554   \n",
       "max_life                         0.015606       -0.006272       -0.004885   \n",
       "health                           0.000277       -0.006085       -0.017661   \n",
       "color_bin                        0.004454       -0.004132       -0.007138   \n",
       "was_owned                        0.013953       -0.013197       -0.013759   \n",
       "season                          -0.384136       -0.414019       -0.323814   \n",
       "intake_month_1                  -0.090267       -0.097289       -0.097734   \n",
       "intake_month_2                  -0.087866       -0.094701       -0.095134   \n",
       "intake_month_3                  -0.085946       -0.092632       -0.093056   \n",
       "intake_month_4                   1.000000       -0.082208       -0.082584   \n",
       "intake_month_5                  -0.082208        1.000000       -0.089009   \n",
       "intake_month_6                  -0.082584       -0.089009        1.000000   \n",
       "intake_month_7                  -0.079073       -0.085224       -0.085614   \n",
       "intake_month_8                  -0.080501       -0.086764       -0.087161   \n",
       "intake_month_9                  -0.077571       -0.083605       -0.083988   \n",
       "intake_month_10                 -0.086285       -0.092998       -0.093423   \n",
       "intake_month_11                 -0.082020       -0.088400       -0.088805   \n",
       "intake_month_12                 -0.087788       -0.094618       -0.095051   \n",
       "\n",
       "                           intake_month_7  intake_month_8  intake_month_9  \\\n",
       "dob_year                         0.013606        0.016763        0.006718   \n",
       "dob_month                       -0.033933        0.015685        0.073411   \n",
       "age_upon_intake                 -0.003772       -0.001835        0.019199   \n",
       "animal_id_intake                 0.014220        0.022992        0.036356   \n",
       "count                                 NaN             NaN             NaN   \n",
       "age_upon_intake_days            -0.008293       -0.001601        0.008449   \n",
       "age_upon_intake_tears           -0.008293       -0.001601        0.008449   \n",
       "age_upon_intake_age_group       -0.005170        0.001887        0.007994   \n",
       "intake_year                     -0.004412        0.005230       -0.000601   \n",
       "intake_weekday                   0.023059       -0.003517       -0.009242   \n",
       "intake_hour                     -0.040432       -0.017075       -0.014113   \n",
       "intake_number                   -0.002450        0.007689        0.011102   \n",
       "time_in_shelter                 -0.008762       -0.024135        0.004795   \n",
       "time_in_shelter_days            -0.002051       -0.005030        0.000938   \n",
       "has_second_color                 0.007573       -0.007457        0.024418   \n",
       "is_dog                                NaN             NaN             NaN   \n",
       "is_male                          0.001648       -0.002990        0.001179   \n",
       "is_fixed                        -0.007234       -0.030313        0.023483   \n",
       "found_lat                        0.008181        0.001363       -0.003271   \n",
       "found_lon                        0.008584        0.000745       -0.003924   \n",
       "is_breed2                        0.002866       -0.009203       -0.014865   \n",
       "is_mix                           0.011690       -0.002983        0.007826   \n",
       "max_weight                      -0.004413       -0.004939       -0.002566   \n",
       "max_height                      -0.001462        0.002240       -0.007096   \n",
       "max_life                         0.005658        0.003219       -0.006885   \n",
       "health                          -0.001838        0.003880       -0.006834   \n",
       "color_bin                        0.010859       -0.013652        0.002767   \n",
       "was_owned                       -0.026633       -0.002612        0.010950   \n",
       "season                          -0.144135       -0.146738       -0.075659   \n",
       "intake_month_1                  -0.093579       -0.095269       -0.091801   \n",
       "intake_month_2                  -0.091089       -0.092734       -0.089359   \n",
       "intake_month_3                  -0.089099       -0.090708       -0.087406   \n",
       "intake_month_4                  -0.079073       -0.080501       -0.077571   \n",
       "intake_month_5                  -0.085224       -0.086764       -0.083605   \n",
       "intake_month_6                  -0.085614       -0.087161       -0.083988   \n",
       "intake_month_7                   1.000000       -0.083455       -0.080417   \n",
       "intake_month_8                  -0.083455        1.000000       -0.081869   \n",
       "intake_month_9                  -0.080417       -0.081869        1.000000   \n",
       "intake_month_10                 -0.089451       -0.091066       -0.087751   \n",
       "intake_month_11                 -0.085029       -0.086565       -0.083414   \n",
       "intake_month_12                 -0.091009       -0.092653       -0.089280   \n",
       "\n",
       "                           intake_month_10  intake_month_11  intake_month_12  \n",
       "dob_year                         -0.036922        -0.033505        -0.033588  \n",
       "dob_month                         0.140519         0.187661         0.270855  \n",
       "age_upon_intake                   0.022343         0.010961        -0.012254  \n",
       "animal_id_intake                 -0.038813        -0.013576        -0.019484  \n",
       "count                                  NaN              NaN              NaN  \n",
       "age_upon_intake_days             -0.003666         0.002669        -0.004542  \n",
       "age_upon_intake_tears            -0.003666         0.002669        -0.004542  \n",
       "age_upon_intake_age_group        -0.002690        -0.001816        -0.007062  \n",
       "intake_year                      -0.120949        -0.108470        -0.126850  \n",
       "intake_weekday                   -0.006935         0.005703        -0.016153  \n",
       "intake_hour                       0.012998         0.018792         0.025701  \n",
       "intake_number                    -0.001564         0.001817        -0.015724  \n",
       "time_in_shelter                   0.004993         0.024363         0.001472  \n",
       "time_in_shelter_days             -0.002998        -0.002950        -0.012263  \n",
       "has_second_color                  0.009918        -0.005169         0.007041  \n",
       "is_dog                                 NaN              NaN              NaN  \n",
       "is_male                          -0.000497        -0.009296         0.000958  \n",
       "is_fixed                          0.004155        -0.007117         0.005732  \n",
       "found_lat                         0.015367        -0.012701         0.012972  \n",
       "found_lon                         0.015477        -0.012853         0.012560  \n",
       "is_breed2                        -0.009124        -0.016562         0.003627  \n",
       "is_mix                            0.016786        -0.002267        -0.015328  \n",
       "max_weight                       -0.000293         0.011385         0.002565  \n",
       "max_height                       -0.005085         0.015335        -0.000516  \n",
       "max_life                          0.010073        -0.001349        -0.012541  \n",
       "health                           -0.007749         0.001140        -0.004796  \n",
       "color_bin                         0.009597         0.010500         0.005975  \n",
       "was_owned                        -0.016784        -0.026603         0.016218  \n",
       "season                            0.119989         0.114058         0.212803  \n",
       "intake_month_1                   -0.102114        -0.097066        -0.103893  \n",
       "intake_month_2                   -0.099397        -0.094484        -0.101129  \n",
       "intake_month_3                   -0.097226        -0.092420        -0.098919  \n",
       "intake_month_4                   -0.086285        -0.082020        -0.087788  \n",
       "intake_month_5                   -0.092998        -0.088400        -0.094618  \n",
       "intake_month_6                   -0.093423        -0.088805        -0.095051  \n",
       "intake_month_7                   -0.089451        -0.085029        -0.091009  \n",
       "intake_month_8                   -0.091066        -0.086565        -0.092653  \n",
       "intake_month_9                   -0.087751        -0.083414        -0.089280  \n",
       "intake_month_10                   1.000000        -0.092784        -0.099310  \n",
       "intake_month_11                  -0.092784         1.000000        -0.094401  \n",
       "intake_month_12                  -0.099310        -0.094401         1.000000  "
      ]
     },
     "execution_count": 42,
     "metadata": {},
     "output_type": "execute_result"
    }
   ],
   "source": [
    "df[features].corr()"
   ]
  },
  {
   "cell_type": "code",
   "execution_count": 43,
   "metadata": {},
   "outputs": [],
   "source": [
    "n = 4\n",
    "row_groups= [features[i:i+n] for i in range(0, len(features), n) ]"
   ]
  },
  {
   "cell_type": "code",
   "execution_count": 44,
   "metadata": {
    "scrolled": false
   },
   "outputs": [
    {
     "data": {
      "image/png": "[encoded data removed]",
      "text/plain": [
       "<Figure size 864x216 with 4 Axes>"
      ]
     },
     "metadata": {
      "needs_background": "light"
     },
     "output_type": "display_data"
    },
    {
     "data": {
      "image/png": "[encoded data removed]",
      "text/plain": [
       "<Figure size 864x216 with 4 Axes>"
      ]
     },
     "metadata": {
      "needs_background": "light"
     },
     "output_type": "display_data"
    },
    {
     "data": {
      "image/png": "[encoded data removed]",
      "text/plain": [
       "<Figure size 864x216 with 4 Axes>"
      ]
     },
     "metadata": {
      "needs_background": "light"
     },
     "output_type": "display_data"
    },
    {
     "data": {
      "image/png": "[encoded data removed]",
      "text/plain": [
       "<Figure size 864x216 with 5 Axes>"
      ]
     },
     "metadata": {
      "needs_background": "light"
     },
     "output_type": "display_data"
    },
    {
     "data": {
      "image/png": "[encoded data removed]",
      "text/plain": [
       "<Figure size 864x216 with 4 Axes>"
      ]
     },
     "metadata": {
      "needs_background": "light"
     },
     "output_type": "display_data"
    },
    {
     "data": {
      "image/png": "[encoded data removed]",
      "text/plain": [
       "<Figure size 864x216 with 4 Axes>"
      ]
     },
     "metadata": {
      "needs_background": "light"
     },
     "output_type": "display_data"
    },
    {
     "data": {
      "image/png": "[encoded data removed]",
      "text/plain": [
       "<Figure size 864x216 with 4 Axes>"
      ]
     },
     "metadata": {
      "needs_background": "light"
     },
     "output_type": "display_data"
    },
    {
     "data": {
      "image/png": "[encoded data removed]",
      "text/plain": [
       "<Figure size 864x216 with 4 Axes>"
      ]
     },
     "metadata": {
      "needs_background": "light"
     },
     "output_type": "display_data"
    },
    {
     "data": {
      "image/png": "[encoded data removed]",
      "text/plain": [
       "<Figure size 864x216 with 4 Axes>"
      ]
     },
     "metadata": {
      "needs_background": "light"
     },
     "output_type": "display_data"
    },
    {
     "data": {
      "image/png": "[encoded data removed]",
      "text/plain": [
       "<Figure size 864x216 with 4 Axes>"
      ]
     },
     "metadata": {
      "needs_background": "light"
     },
     "output_type": "display_data"
    },
    {
     "data": {
      "image/png": "[encoded data removed]",
      "text/plain": [
       "<Figure size 216x216 with 1 Axes>"
      ]
     },
     "metadata": {
      "needs_background": "light"
     },
     "output_type": "display_data"
    }
   ],
   "source": [
    "for i in row_groups:\n",
    "    pp = sns.pairplot(data=df, y_vars=['time_in_shelter_days'],x_vars=i, kind=\"reg\", height=3)"
   ]
  },
  {
   "cell_type": "code",
   "execution_count": 62,
   "metadata": {},
   "outputs": [
    {
     "data": {
      "text/html": [
       "<table class=\"simpletable\">\n",
       "<caption>OLS Regression Results</caption>\n",
       "<tr>\n",
       "  <th>Dep. Variable:</th>    <td>time_in_shelter_days</td> <th>  R-squared:         </th> <td>   0.087</td> \n",
       "</tr>\n",
       "<tr>\n",
       "  <th>Model:</th>                     <td>OLS</td>         <th>  Adj. R-squared:    </th> <td>   0.086</td> \n",
       "</tr>\n",
       "<tr>\n",
       "  <th>Method:</th>               <td>Least Squares</td>    <th>  F-statistic:       </th> <td>   56.40</td> \n",
       "</tr>\n",
       "<tr>\n",
       "  <th>Date:</th>               <td>Sat, 12 Sep 2020</td>   <th>  Prob (F-statistic):</th>  <td>  0.00</td>  \n",
       "</tr>\n",
       "<tr>\n",
       "  <th>Time:</th>                   <td>20:04:13</td>       <th>  Log-Likelihood:    </th> <td> -99382.</td> \n",
       "</tr>\n",
       "<tr>\n",
       "  <th>No. Observations:</th>        <td> 20072</td>        <th>  AIC:               </th> <td>1.988e+05</td>\n",
       "</tr>\n",
       "<tr>\n",
       "  <th>Df Residuals:</th>            <td> 20037</td>        <th>  BIC:               </th> <td>1.991e+05</td>\n",
       "</tr>\n",
       "<tr>\n",
       "  <th>Df Model:</th>                <td>    34</td>        <th>                     </th>     <td> </td>    \n",
       "</tr>\n",
       "<tr>\n",
       "  <th>Covariance Type:</th>        <td>nonrobust</td>      <th>                     </th>     <td> </td>    \n",
       "</tr>\n",
       "</table>\n",
       "<table class=\"simpletable\">\n",
       "<tr>\n",
       "              <td></td>                 <th>coef</th>     <th>std err</th>      <th>t</th>      <th>P>|t|</th>  <th>[0.025</th>    <th>0.975]</th>  \n",
       "</tr>\n",
       "<tr>\n",
       "  <th>Intercept</th>                 <td> 1818.7363</td> <td>  225.163</td> <td>    8.077</td> <td> 0.000</td> <td> 1377.399</td> <td> 2260.073</td>\n",
       "</tr>\n",
       "<tr>\n",
       "  <th>dob_year</th>                  <td>   -7.5134</td> <td>    1.194</td> <td>   -6.294</td> <td> 0.000</td> <td>   -9.853</td> <td>   -5.173</td>\n",
       "</tr>\n",
       "<tr>\n",
       "  <th>dob_month</th>                 <td>   -0.7354</td> <td>    0.125</td> <td>   -5.860</td> <td> 0.000</td> <td>   -0.981</td> <td>   -0.489</td>\n",
       "</tr>\n",
       "<tr>\n",
       "  <th>age_upon_intake</th>           <td>   -0.7317</td> <td>    0.107</td> <td>   -6.807</td> <td> 0.000</td> <td>   -0.942</td> <td>   -0.521</td>\n",
       "</tr>\n",
       "<tr>\n",
       "  <th>count</th>                     <td> 1818.7363</td> <td>  225.163</td> <td>    8.077</td> <td> 0.000</td> <td> 1377.399</td> <td> 2260.073</td>\n",
       "</tr>\n",
       "<tr>\n",
       "  <th>age_upon_intake_days</th>      <td>   -0.0061</td> <td>    0.003</td> <td>   -1.748</td> <td> 0.080</td> <td>   -0.013</td> <td>    0.001</td>\n",
       "</tr>\n",
       "<tr>\n",
       "  <th>age_upon_intake_tears</th>     <td>-1.661e-05</td> <td>  9.5e-06</td> <td>   -1.748</td> <td> 0.080</td> <td>-3.52e-05</td> <td> 2.02e-06</td>\n",
       "</tr>\n",
       "<tr>\n",
       "  <th>age_upon_intake_age_group</th> <td>   -2.6504</td> <td>    0.412</td> <td>   -6.431</td> <td> 0.000</td> <td>   -3.458</td> <td>   -1.843</td>\n",
       "</tr>\n",
       "<tr>\n",
       "  <th>intake_year</th>               <td>    5.3550</td> <td>    1.211</td> <td>    4.423</td> <td> 0.000</td> <td>    2.982</td> <td>    7.728</td>\n",
       "</tr>\n",
       "<tr>\n",
       "  <th>intake_weekday</th>            <td>    0.1019</td> <td>    0.123</td> <td>    0.831</td> <td> 0.406</td> <td>   -0.138</td> <td>    0.342</td>\n",
       "</tr>\n",
       "<tr>\n",
       "  <th>intake_hour</th>               <td>    0.0575</td> <td>    0.083</td> <td>    0.688</td> <td> 0.491</td> <td>   -0.106</td> <td>    0.221</td>\n",
       "</tr>\n",
       "<tr>\n",
       "  <th>intake_number</th>             <td>    0.1625</td> <td>    0.479</td> <td>    0.339</td> <td> 0.734</td> <td>   -0.776</td> <td>    1.101</td>\n",
       "</tr>\n",
       "<tr>\n",
       "  <th>has_second_color</th>          <td>    4.0710</td> <td>    0.517</td> <td>    7.872</td> <td> 0.000</td> <td>    3.057</td> <td>    5.085</td>\n",
       "</tr>\n",
       "<tr>\n",
       "  <th>is_dog</th>                    <td> 1818.7363</td> <td>  225.163</td> <td>    8.077</td> <td> 0.000</td> <td> 1377.399</td> <td> 2260.073</td>\n",
       "</tr>\n",
       "<tr>\n",
       "  <th>is_male</th>                   <td>   -0.2041</td> <td>    0.485</td> <td>   -0.420</td> <td> 0.674</td> <td>   -1.156</td> <td>    0.747</td>\n",
       "</tr>\n",
       "<tr>\n",
       "  <th>is_fixed</th>                  <td>    9.6878</td> <td>    1.496</td> <td>    6.475</td> <td> 0.000</td> <td>    6.755</td> <td>   12.620</td>\n",
       "</tr>\n",
       "<tr>\n",
       "  <th>found_lat</th>                 <td>  -11.5233</td> <td>    5.261</td> <td>   -2.190</td> <td> 0.029</td> <td>  -21.835</td> <td>   -1.212</td>\n",
       "</tr>\n",
       "<tr>\n",
       "  <th>found_lon</th>                 <td>    9.2252</td> <td>    4.263</td> <td>    2.164</td> <td> 0.030</td> <td>    0.869</td> <td>   17.582</td>\n",
       "</tr>\n",
       "<tr>\n",
       "  <th>is_breed2</th>                 <td>   -1.7260</td> <td>    0.642</td> <td>   -2.688</td> <td> 0.007</td> <td>   -2.985</td> <td>   -0.467</td>\n",
       "</tr>\n",
       "<tr>\n",
       "  <th>is_mix</th>                    <td>    2.7141</td> <td>    1.121</td> <td>    2.420</td> <td> 0.016</td> <td>    0.516</td> <td>    4.912</td>\n",
       "</tr>\n",
       "<tr>\n",
       "  <th>max_weight</th>                <td>    0.0954</td> <td>    0.015</td> <td>    6.352</td> <td> 0.000</td> <td>    0.066</td> <td>    0.125</td>\n",
       "</tr>\n",
       "<tr>\n",
       "  <th>max_height</th>                <td>    0.4504</td> <td>    0.064</td> <td>    7.059</td> <td> 0.000</td> <td>    0.325</td> <td>    0.575</td>\n",
       "</tr>\n",
       "<tr>\n",
       "  <th>max_life</th>                  <td>    0.7901</td> <td>    0.201</td> <td>    3.926</td> <td> 0.000</td> <td>    0.396</td> <td>    1.184</td>\n",
       "</tr>\n",
       "<tr>\n",
       "  <th>health</th>                    <td>  -25.1233</td> <td>    1.264</td> <td>  -19.879</td> <td> 0.000</td> <td>  -27.600</td> <td>  -22.646</td>\n",
       "</tr>\n",
       "<tr>\n",
       "  <th>color_bin</th>                 <td>   -0.5641</td> <td>    0.111</td> <td>   -5.101</td> <td> 0.000</td> <td>   -0.781</td> <td>   -0.347</td>\n",
       "</tr>\n",
       "<tr>\n",
       "  <th>was_owned</th>                 <td>   -1.5601</td> <td>    0.584</td> <td>   -2.670</td> <td> 0.008</td> <td>   -2.706</td> <td>   -0.415</td>\n",
       "</tr>\n",
       "<tr>\n",
       "  <th>season</th>                    <td>    0.8148</td> <td>    0.503</td> <td>    1.620</td> <td> 0.105</td> <td>   -0.171</td> <td>    1.801</td>\n",
       "</tr>\n",
       "<tr>\n",
       "  <th>intake_month_1</th>            <td>  146.1982</td> <td>   18.855</td> <td>    7.754</td> <td> 0.000</td> <td>  109.240</td> <td>  183.156</td>\n",
       "</tr>\n",
       "<tr>\n",
       "  <th>intake_month_2</th>            <td>  145.5660</td> <td>   18.846</td> <td>    7.724</td> <td> 0.000</td> <td>  108.626</td> <td>  182.506</td>\n",
       "</tr>\n",
       "<tr>\n",
       "  <th>intake_month_3</th>            <td>  149.8514</td> <td>   18.837</td> <td>    7.955</td> <td> 0.000</td> <td>  112.929</td> <td>  186.774</td>\n",
       "</tr>\n",
       "<tr>\n",
       "  <th>intake_month_4</th>            <td>  154.4485</td> <td>   18.786</td> <td>    8.221</td> <td> 0.000</td> <td>  117.626</td> <td>  191.271</td>\n",
       "</tr>\n",
       "<tr>\n",
       "  <th>intake_month_5</th>            <td>  155.2543</td> <td>   18.785</td> <td>    8.265</td> <td> 0.000</td> <td>  118.434</td> <td>  192.075</td>\n",
       "</tr>\n",
       "<tr>\n",
       "  <th>intake_month_6</th>            <td>  152.8884</td> <td>   18.789</td> <td>    8.137</td> <td> 0.000</td> <td>  116.061</td> <td>  189.716</td>\n",
       "</tr>\n",
       "<tr>\n",
       "  <th>intake_month_7</th>            <td>  151.8761</td> <td>   18.773</td> <td>    8.090</td> <td> 0.000</td> <td>  115.079</td> <td>  188.673</td>\n",
       "</tr>\n",
       "<tr>\n",
       "  <th>intake_month_8</th>            <td>  152.7059</td> <td>   18.795</td> <td>    8.125</td> <td> 0.000</td> <td>  115.866</td> <td>  189.545</td>\n",
       "</tr>\n",
       "<tr>\n",
       "  <th>intake_month_9</th>            <td>  153.2142</td> <td>   18.795</td> <td>    8.152</td> <td> 0.000</td> <td>  116.374</td> <td>  190.055</td>\n",
       "</tr>\n",
       "<tr>\n",
       "  <th>intake_month_10</th>           <td>  152.0306</td> <td>   18.734</td> <td>    8.115</td> <td> 0.000</td> <td>  115.310</td> <td>  188.751</td>\n",
       "</tr>\n",
       "<tr>\n",
       "  <th>intake_month_11</th>           <td>  152.5515</td> <td>   18.746</td> <td>    8.138</td> <td> 0.000</td> <td>  115.807</td> <td>  189.296</td>\n",
       "</tr>\n",
       "<tr>\n",
       "  <th>intake_month_12</th>           <td>  152.1512</td> <td>   18.752</td> <td>    8.114</td> <td> 0.000</td> <td>  115.395</td> <td>  188.908</td>\n",
       "</tr>\n",
       "</table>\n",
       "<table class=\"simpletable\">\n",
       "<tr>\n",
       "  <th>Omnibus:</th>       <td>14234.260</td> <th>  Durbin-Watson:     </th>  <td>   1.812</td> \n",
       "</tr>\n",
       "<tr>\n",
       "  <th>Prob(Omnibus):</th>  <td> 0.000</td>   <th>  Jarque-Bera (JB):  </th> <td>215434.076</td>\n",
       "</tr>\n",
       "<tr>\n",
       "  <th>Skew:</th>           <td> 3.332</td>   <th>  Prob(JB):          </th>  <td>    0.00</td> \n",
       "</tr>\n",
       "<tr>\n",
       "  <th>Kurtosis:</th>       <td>17.600</td>   <th>  Cond. No.          </th>  <td>1.00e+16</td> \n",
       "</tr>\n",
       "</table><br/><br/>Notes:<br/>[1] Standard Errors assume that the covariance matrix of the errors is correctly specified.<br/>[2] The smallest eigenvalue is 1.73e-21. This might indicate that there are<br/>strong multicollinearity problems or that the design matrix is singular."
      ],
      "text/plain": [
       "<class 'statsmodels.iolib.summary.Summary'>\n",
       "\"\"\"\n",
       "                             OLS Regression Results                             \n",
       "================================================================================\n",
       "Dep. Variable:     time_in_shelter_days   R-squared:                       0.087\n",
       "Model:                              OLS   Adj. R-squared:                  0.086\n",
       "Method:                   Least Squares   F-statistic:                     56.40\n",
       "Date:                  Sat, 12 Sep 2020   Prob (F-statistic):               0.00\n",
       "Time:                          20:04:13   Log-Likelihood:                -99382.\n",
       "No. Observations:                 20072   AIC:                         1.988e+05\n",
       "Df Residuals:                     20037   BIC:                         1.991e+05\n",
       "Df Model:                            34                                         \n",
       "Covariance Type:              nonrobust                                         \n",
       "=============================================================================================\n",
       "                                coef    std err          t      P>|t|      [0.025      0.975]\n",
       "---------------------------------------------------------------------------------------------\n",
       "Intercept                  1818.7363    225.163      8.077      0.000    1377.399    2260.073\n",
       "dob_year                     -7.5134      1.194     -6.294      0.000      -9.853      -5.173\n",
       "dob_month                    -0.7354      0.125     -5.860      0.000      -0.981      -0.489\n",
       "age_upon_intake              -0.7317      0.107     -6.807      0.000      -0.942      -0.521\n",
       "count                      1818.7363    225.163      8.077      0.000    1377.399    2260.073\n",
       "age_upon_intake_days         -0.0061      0.003     -1.748      0.080      -0.013       0.001\n",
       "age_upon_intake_tears     -1.661e-05    9.5e-06     -1.748      0.080   -3.52e-05    2.02e-06\n",
       "age_upon_intake_age_group    -2.6504      0.412     -6.431      0.000      -3.458      -1.843\n",
       "intake_year                   5.3550      1.211      4.423      0.000       2.982       7.728\n",
       "intake_weekday                0.1019      0.123      0.831      0.406      -0.138       0.342\n",
       "intake_hour                   0.0575      0.083      0.688      0.491      -0.106       0.221\n",
       "intake_number                 0.1625      0.479      0.339      0.734      -0.776       1.101\n",
       "has_second_color              4.0710      0.517      7.872      0.000       3.057       5.085\n",
       "is_dog                     1818.7363    225.163      8.077      0.000    1377.399    2260.073\n",
       "is_male                      -0.2041      0.485     -0.420      0.674      -1.156       0.747\n",
       "is_fixed                      9.6878      1.496      6.475      0.000       6.755      12.620\n",
       "found_lat                   -11.5233      5.261     -2.190      0.029     -21.835      -1.212\n",
       "found_lon                     9.2252      4.263      2.164      0.030       0.869      17.582\n",
       "is_breed2                    -1.7260      0.642     -2.688      0.007      -2.985      -0.467\n",
       "is_mix                        2.7141      1.121      2.420      0.016       0.516       4.912\n",
       "max_weight                    0.0954      0.015      6.352      0.000       0.066       0.125\n",
       "max_height                    0.4504      0.064      7.059      0.000       0.325       0.575\n",
       "max_life                      0.7901      0.201      3.926      0.000       0.396       1.184\n",
       "health                      -25.1233      1.264    -19.879      0.000     -27.600     -22.646\n",
       "color_bin                    -0.5641      0.111     -5.101      0.000      -0.781      -0.347\n",
       "was_owned                    -1.5601      0.584     -2.670      0.008      -2.706      -0.415\n",
       "season                        0.8148      0.503      1.620      0.105      -0.171       1.801\n",
       "intake_month_1              146.1982     18.855      7.754      0.000     109.240     183.156\n",
       "intake_month_2              145.5660     18.846      7.724      0.000     108.626     182.506\n",
       "intake_month_3              149.8514     18.837      7.955      0.000     112.929     186.774\n",
       "intake_month_4              154.4485     18.786      8.221      0.000     117.626     191.271\n",
       "intake_month_5              155.2543     18.785      8.265      0.000     118.434     192.075\n",
       "intake_month_6              152.8884     18.789      8.137      0.000     116.061     189.716\n",
       "intake_month_7              151.8761     18.773      8.090      0.000     115.079     188.673\n",
       "intake_month_8              152.7059     18.795      8.125      0.000     115.866     189.545\n",
       "intake_month_9              153.2142     18.795      8.152      0.000     116.374     190.055\n",
       "intake_month_10             152.0306     18.734      8.115      0.000     115.310     188.751\n",
       "intake_month_11             152.5515     18.746      8.138      0.000     115.807     189.296\n",
       "intake_month_12             152.1512     18.752      8.114      0.000     115.395     188.908\n",
       "==============================================================================\n",
       "Omnibus:                    14234.260   Durbin-Watson:                   1.812\n",
       "Prob(Omnibus):                  0.000   Jarque-Bera (JB):           215434.076\n",
       "Skew:                           3.332   Prob(JB):                         0.00\n",
       "Kurtosis:                      17.600   Cond. No.                     1.00e+16\n",
       "==============================================================================\n",
       "\n",
       "Notes:\n",
       "[1] Standard Errors assume that the covariance matrix of the errors is correctly specified.\n",
       "[2] The smallest eigenvalue is 1.73e-21. This might indicate that there are\n",
       "strong multicollinearity problems or that the design matrix is singular.\n",
       "\"\"\""
      ]
     },
     "execution_count": 62,
     "metadata": {},
     "output_type": "execute_result"
    }
   ],
   "source": [
    "lr_model = ols(formula='time_in_shelter_days~dob_year+dob_month+age_upon_intake+count+age_upon_intake_days+age_upon_intake_tears+age_upon_intake_age_group+intake_year+intake_weekday+intake_hour+intake_number+has_second_color+is_dog+is_male+is_fixed+found_lat+found_lon+is_breed2+is_mix+max_weight+max_height+max_life+health+color_bin+was_owned+season+intake_month_1+intake_month_2+intake_month_3+intake_month_4+intake_month_5+intake_month_6+intake_month_7+intake_month_8+intake_month_9+intake_month_10+intake_month_11+intake_month_12', data=df).fit()\n",
    "\n",
    "lr_model.summary()"
   ]
  },
  {
   "cell_type": "code",
   "execution_count": 46,
   "metadata": {},
   "outputs": [
    {
     "name": "stdout",
     "output_type": "stream",
     "text": [
      "Training data set length=16392\n",
      "Testing data set length=4040\n"
     ]
    }
   ],
   "source": [
    "mask = np.random.rand(len(df)) < 0.8\n",
    "df_train = df[mask]\n",
    "df_test = df[~mask]\n",
    "print('Training data set length='+str(len(df_train)))\n",
    "print('Testing data set length='+str(len(df_test)))"
   ]
  },
  {
   "cell_type": "code",
   "execution_count": 129,
   "metadata": {},
   "outputs": [],
   "source": [
    "expr = \"\"\"time_in_shelter~dob_year+dob_month+age_upon_intake+count+age_upon_intake_days+age_upon_intake_tears+age_upon_intake_age_group+intake_year+intake_weekday+intake_hour+intake_number+has_second_color+is_dog+is_male+is_fixed+found_lat+found_lon+is_breed2+is_mix+max_weight+max_height+max_life+health+color_bin+was_owned+season+intake_month_1+intake_month_2+intake_month_3+intake_month_4+intake_month_5+intake_month_6+intake_month_7+intake_month_8+intake_month_9+intake_month_10+intake_month_11+intake_month_12\"\"\""
   ]
  },
  {
   "cell_type": "code",
   "execution_count": 130,
   "metadata": {},
   "outputs": [],
   "source": [
    "y_train, X_train = dmatrices(expr, df_train, return_type='dataframe')\n",
    "y_test, X_test = dmatrices(expr, df_test, return_type='dataframe')"
   ]
  },
  {
   "cell_type": "code",
   "execution_count": 131,
   "metadata": {},
   "outputs": [],
   "source": [
    "poisson_training_results = sm.GLM(y_train, X_train, family=sm.families.Poisson()).fit()"
   ]
  },
  {
   "cell_type": "code",
   "execution_count": 132,
   "metadata": {},
   "outputs": [
    {
     "name": "stdout",
     "output_type": "stream",
     "text": [
      "                 Generalized Linear Model Regression Results                  \n",
      "==============================================================================\n",
      "Dep. Variable:        time_in_shelter   No. Observations:                16105\n",
      "Model:                            GLM   Df Residuals:                    16070\n",
      "Model Family:                 Poisson   Df Model:                           34\n",
      "Link Function:                    log   Scale:                          1.0000\n",
      "Method:                          IRLS   Log-Likelihood:            -1.5487e+05\n",
      "Date:                Sun, 13 Sep 2020   Deviance:                   2.4571e+05\n",
      "Time:                        14:12:30   Pearson chi2:                 3.43e+05\n",
      "No. Iterations:                   100                                         \n",
      "Covariance Type:            nonrobust                                         \n",
      "=============================================================================================\n",
      "                                coef    std err          z      P>|z|      [0.025      0.975]\n",
      "---------------------------------------------------------------------------------------------\n",
      "Intercept                    49.2463      1.903     25.880      0.000      45.517      52.976\n",
      "dob_year                     -0.0911      0.009     -9.966      0.000      -0.109      -0.073\n",
      "dob_month                    -0.0151      0.001    -15.060      0.000      -0.017      -0.013\n",
      "age_upon_intake              -0.0421      0.001    -41.157      0.000      -0.044      -0.040\n",
      "count                        49.2463      1.903     25.880      0.000      45.517      52.976\n",
      "age_upon_intake_days       7.489e-05   2.67e-05      2.810      0.005    2.27e-05       0.000\n",
      "age_upon_intake_tears      2.052e-07    7.3e-08      2.810      0.005    6.21e-08    3.48e-07\n",
      "age_upon_intake_age_group    -0.0368      0.003    -11.041      0.000      -0.043      -0.030\n",
      "intake_year                   0.0247      0.009      2.659      0.008       0.007       0.043\n",
      "intake_weekday                0.0020      0.001      1.930      0.054   -3.06e-05       0.004\n",
      "intake_hour                  -0.0027      0.001     -3.892      0.000      -0.004      -0.001\n",
      "intake_number                 0.0552      0.004     14.610      0.000       0.048       0.063\n",
      "has_second_color              0.1059      0.004     24.065      0.000       0.097       0.115\n",
      "is_dog                       49.2463      1.903     25.880      0.000      45.517      52.976\n",
      "is_male                       0.0075      0.004      1.836      0.066      -0.001       0.016\n",
      "is_fixed                      0.3546      0.014     24.733      0.000       0.327       0.383\n",
      "found_lat                    -0.1570      0.044     -3.531      0.000      -0.244      -0.070\n",
      "found_lon                     0.1135      0.036      3.149      0.002       0.043       0.184\n",
      "is_breed2                     0.0211      0.005      3.907      0.000       0.010       0.032\n",
      "is_mix                        0.0457      0.009      4.921      0.000       0.027       0.064\n",
      "max_weight                    0.0025      0.000     24.176      0.000       0.002       0.003\n",
      "max_height                    0.0160      0.000     39.092      0.000       0.015       0.017\n",
      "max_life                      0.0140      0.002      8.386      0.000       0.011       0.017\n",
      "health                       -0.6905      0.008    -87.700      0.000      -0.706      -0.675\n",
      "color_bin                    -0.0176      0.001    -19.086      0.000      -0.019      -0.016\n",
      "was_owned                    -0.0919      0.005    -18.399      0.000      -0.102      -0.082\n",
      "season                        0.0172      0.004      4.033      0.000       0.009       0.025\n",
      "intake_month_1                3.9926      0.159     25.065      0.000       3.680       4.305\n",
      "intake_month_2                3.9522      0.159     24.809      0.000       3.640       4.264\n",
      "intake_month_3                4.0564      0.159     25.488      0.000       3.745       4.368\n",
      "intake_month_4                4.1821      0.159     26.354      0.000       3.871       4.493\n",
      "intake_month_5                4.1696      0.159     26.269      0.000       3.858       4.481\n",
      "intake_month_6                4.1559      0.159     26.167      0.000       3.845       4.467\n",
      "intake_month_7                4.0902      0.159     25.784      0.000       3.779       4.401\n",
      "intake_month_8                4.0331      0.159     25.380      0.000       3.722       4.345\n",
      "intake_month_9                4.1617      0.159     26.207      0.000       3.850       4.473\n",
      "intake_month_10               4.1336      0.158     26.110      0.000       3.823       4.444\n",
      "intake_month_11               4.2138      0.158     26.595      0.000       3.903       4.524\n",
      "intake_month_12               4.1050      0.158     25.899      0.000       3.794       4.416\n",
      "=============================================================================================\n"
     ]
    }
   ],
   "source": [
    "print(poisson_training_results.summary())"
   ]
  },
  {
   "cell_type": "code",
   "execution_count": 133,
   "metadata": {},
   "outputs": [
    {
     "name": "stdout",
     "output_type": "stream",
     "text": [
      "            mean   mean_se  mean_ci_lower  mean_ci_upper\n",
      "4      33.494855  0.495203      32.538202      34.479635\n",
      "8      25.051595  0.381541      24.314840      25.810675\n",
      "9      24.921765  0.338847      24.266409      25.594821\n",
      "15     22.294644  0.278173      21.756048      22.846574\n",
      "26     35.522562  0.590725      34.383426      36.699437\n",
      "...          ...       ...            ...            ...\n",
      "20404  10.394172  0.144086      10.115570      10.680447\n",
      "20405  11.440132  0.160187      11.130440      11.758441\n",
      "20412  10.692910  0.150463      10.402038      10.991915\n",
      "20423  15.310869  0.207867      14.908829      15.723749\n",
      "20427  11.556183  0.159161      11.248406      11.872383\n",
      "\n",
      "[3967 rows x 4 columns]\n"
     ]
    }
   ],
   "source": [
    "poisson_predictions = poisson_training_results.get_prediction(X_test)\n",
    "#.summary_frame() returns a pandas DataFrame\n",
    "predictions_summary_frame = poisson_predictions.summary_frame()\n",
    "print(predictions_summary_frame)\n"
   ]
  },
  {
   "cell_type": "code",
   "execution_count": 135,
   "metadata": {},
   "outputs": [
    {
     "data": {
      "image/png": "[encoded data removed]",
      "text/plain": [
       "<Figure size 1800x360 with 1 Axes>"
      ]
     },
     "metadata": {
      "needs_background": "light"
     },
     "output_type": "display_data"
    }
   ],
   "source": [
    "predicted_counts=predictions_summary_frame['mean']\n",
    "actual_counts = y_test['time_in_shelter']\n",
    "fig = plt.figure(figsize=(25,5))\n",
    "actual, = plt.plot(X_test.index, actual_counts, 'ro-', label='Actual counts',color='#a8e6cf')\n",
    "predicted, = plt.plot(X_test.index, predicted_counts, 'go-', label='Predicted counts',color='#ffaaa5')\n",
    "plt.legend(handles=[predicted, actual])\n",
    "plt.show()\n"
   ]
  },
  {
   "cell_type": "code",
   "execution_count": null,
   "metadata": {},
   "outputs": [],
   "source": []
  },
  {
   "cell_type": "code",
   "execution_count": null,
   "metadata": {},
   "outputs": [],
   "source": []
  },
  {
   "cell_type": "code",
   "execution_count": null,
   "metadata": {},
   "outputs": [],
   "source": []
  }
 ],
 "metadata": {
  "kernelspec": {
   "display_name": "Python 3",
   "language": "python",
   "name": "python3"
  },
  "language_info": {
   "codemirror_mode": {
    "name": "ipython",
    "version": 3
   },
   "file_extension": ".py",
   "mimetype": "text/x-python",
   "name": "python",
   "nbconvert_exporter": "python",
   "pygments_lexer": "ipython3",
   "version": "3.7.6"
  }
 },
 "nbformat": 4,
 "nbformat_minor": 4
}

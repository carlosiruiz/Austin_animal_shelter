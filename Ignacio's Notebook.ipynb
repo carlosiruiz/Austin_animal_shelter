{
 "cells": [
  {
   "cell_type": "code",
   "execution_count": 119,
   "metadata": {},
   "outputs": [],
   "source": [
    "import pandas as pd\n",
    "import matplotlib.pyplot as plt\n",
    "from sklearn import preprocessing\n",
    "import numpy as np\n",
    "import plotly.express as px\n",
    "import plotly.io as pio\n",
    "import seaborn as sns\n",
    "from string import printable\n",
    "from sklearn.model_selection import train_test_split\n",
    "from sklearn.linear_model import LinearRegression\n",
    "from sklearn import metrics\n",
    "from statsmodels.formula.api import ols\n",
    "from patsy import dmatrices\n",
    "import statsmodels.api as sm\n",
    "import warnings\n",
    "warnings.filterwarnings(\"ignore\")\n",
    "pd.options.display.max_columns=100\n",
    "pd.options.display.max_rows=100"
   ]
  },
  {
   "cell_type": "code",
   "execution_count": 120,
   "metadata": {},
   "outputs": [],
   "source": [
    "df= pd.read_csv('/Users/carlosruiz/Desktop/Animal-Shelter-Project/Data/shelter_breed.csv')"
   ]
  },
  {
   "cell_type": "code",
   "execution_count": 121,
   "metadata": {
    "scrolled": true
   },
   "outputs": [
    {
     "data": {
      "text/html": [
       "<div>\n",
       "<style scoped>\n",
       "    .dataframe tbody tr th:only-of-type {\n",
       "        vertical-align: middle;\n",
       "    }\n",
       "\n",
       "    .dataframe tbody tr th {\n",
       "        vertical-align: top;\n",
       "    }\n",
       "\n",
       "    .dataframe thead th {\n",
       "        text-align: right;\n",
       "    }\n",
       "</style>\n",
       "<table border=\"1\" class=\"dataframe\">\n",
       "  <thead>\n",
       "    <tr style=\"text-align: right;\">\n",
       "      <th></th>\n",
       "      <th>Unnamed: 0</th>\n",
       "      <th>level_0</th>\n",
       "      <th>index</th>\n",
       "      <th>age_upon_outcome</th>\n",
       "      <th>animal_id_outcome</th>\n",
       "      <th>date_of_birth</th>\n",
       "      <th>outcome_subtype</th>\n",
       "      <th>outcome_type</th>\n",
       "      <th>sex_upon_outcome</th>\n",
       "      <th>age_upon_outcome_(days)</th>\n",
       "      <th>age_upon_outcome_(years)</th>\n",
       "      <th>age_upon_outcome_age_group</th>\n",
       "      <th>outcome_datetime</th>\n",
       "      <th>outcome_month</th>\n",
       "      <th>outcome_year</th>\n",
       "      <th>outcome_monthyear</th>\n",
       "      <th>outcome_weekday</th>\n",
       "      <th>outcome_hour</th>\n",
       "      <th>outcome_number</th>\n",
       "      <th>dob_year</th>\n",
       "      <th>dob_month</th>\n",
       "      <th>dob_monthyear</th>\n",
       "      <th>age_upon_intake</th>\n",
       "      <th>animal_id_intake</th>\n",
       "      <th>animal_type</th>\n",
       "      <th>breed</th>\n",
       "      <th>color</th>\n",
       "      <th>found_location</th>\n",
       "      <th>intake_condition</th>\n",
       "      <th>intake_type</th>\n",
       "      <th>sex_upon_intake</th>\n",
       "      <th>count</th>\n",
       "      <th>age_upon_intake_days</th>\n",
       "      <th>age_upon_intake_tears</th>\n",
       "      <th>age_upon_intake_age_group</th>\n",
       "      <th>intake_datetime</th>\n",
       "      <th>intake_month</th>\n",
       "      <th>intake_year</th>\n",
       "      <th>intake_monthyear</th>\n",
       "      <th>intake_weekday</th>\n",
       "      <th>intake_hour</th>\n",
       "      <th>intake_number</th>\n",
       "      <th>time_in_shelter</th>\n",
       "      <th>time_in_shelter_days</th>\n",
       "      <th>color1</th>\n",
       "      <th>has_second_color</th>\n",
       "      <th>color2</th>\n",
       "      <th>is_dog</th>\n",
       "      <th>is_male</th>\n",
       "      <th>is_fixed</th>\n",
       "      <th>found_city</th>\n",
       "      <th>found_lat</th>\n",
       "      <th>found_lon</th>\n",
       "      <th>region</th>\n",
       "      <th>breed1</th>\n",
       "      <th>is_breed2</th>\n",
       "      <th>is_mix</th>\n",
       "      <th>breed2</th>\n",
       "      <th>max_weight</th>\n",
       "      <th>max_height</th>\n",
       "      <th>max_life</th>\n",
       "    </tr>\n",
       "  </thead>\n",
       "  <tbody>\n",
       "    <tr>\n",
       "      <th>0</th>\n",
       "      <td>0</td>\n",
       "      <td>0</td>\n",
       "      <td>12</td>\n",
       "      <td>16 years</td>\n",
       "      <td>A200922</td>\n",
       "      <td>1997-10-03 00:00:00</td>\n",
       "      <td>Foster</td>\n",
       "      <td>Adoption</td>\n",
       "      <td>Neutered Male</td>\n",
       "      <td>5840</td>\n",
       "      <td>16.000000</td>\n",
       "      <td>(15.0, 17.5]</td>\n",
       "      <td>2013-11-22 09:44:00</td>\n",
       "      <td>11</td>\n",
       "      <td>2013</td>\n",
       "      <td>2013-11</td>\n",
       "      <td>Friday</td>\n",
       "      <td>9</td>\n",
       "      <td>1.0</td>\n",
       "      <td>1997</td>\n",
       "      <td>10</td>\n",
       "      <td>2013-11</td>\n",
       "      <td>16 years</td>\n",
       "      <td>A200922</td>\n",
       "      <td>Dog</td>\n",
       "      <td>Dachshund Mix</td>\n",
       "      <td>Black/Tan</td>\n",
       "      <td>Austin (TX)</td>\n",
       "      <td>Normal</td>\n",
       "      <td>Owner Surrender</td>\n",
       "      <td>Neutered Male</td>\n",
       "      <td>1</td>\n",
       "      <td>5840</td>\n",
       "      <td>16.000000</td>\n",
       "      <td>(15.0, 17.5]</td>\n",
       "      <td>2013-10-03 15:47:00</td>\n",
       "      <td>10</td>\n",
       "      <td>2013</td>\n",
       "      <td>2013-10</td>\n",
       "      <td>Thursday</td>\n",
       "      <td>15</td>\n",
       "      <td>1.0</td>\n",
       "      <td>49 days 17:57:00.000000000</td>\n",
       "      <td>49.747917</td>\n",
       "      <td>Black</td>\n",
       "      <td>1</td>\n",
       "      <td>Tan</td>\n",
       "      <td>1</td>\n",
       "      <td>1</td>\n",
       "      <td>1</td>\n",
       "      <td>Austin</td>\n",
       "      <td>30.271129</td>\n",
       "      <td>-97.74370</td>\n",
       "      <td>Austin</td>\n",
       "      <td>Dachshund Mix</td>\n",
       "      <td>0</td>\n",
       "      <td>1</td>\n",
       "      <td>NaN</td>\n",
       "      <td>32.0</td>\n",
       "      <td>9.0</td>\n",
       "      <td>15.0</td>\n",
       "    </tr>\n",
       "    <tr>\n",
       "      <th>1</th>\n",
       "      <td>1</td>\n",
       "      <td>1</td>\n",
       "      <td>14</td>\n",
       "      <td>17 years</td>\n",
       "      <td>A210457</td>\n",
       "      <td>1999-06-01 00:00:00</td>\n",
       "      <td>Foster</td>\n",
       "      <td>Adoption</td>\n",
       "      <td>Neutered Male</td>\n",
       "      <td>6205</td>\n",
       "      <td>17.000000</td>\n",
       "      <td>(15.0, 17.5]</td>\n",
       "      <td>2016-10-07 12:34:00</td>\n",
       "      <td>10</td>\n",
       "      <td>2016</td>\n",
       "      <td>2016-10</td>\n",
       "      <td>Friday</td>\n",
       "      <td>12</td>\n",
       "      <td>1.0</td>\n",
       "      <td>1999</td>\n",
       "      <td>6</td>\n",
       "      <td>2016-10</td>\n",
       "      <td>17 years</td>\n",
       "      <td>A210457</td>\n",
       "      <td>Dog</td>\n",
       "      <td>Chihuahua Shorthair</td>\n",
       "      <td>Tan/Black</td>\n",
       "      <td>4424 S Mopac #412 in Austin (TX)</td>\n",
       "      <td>Aged</td>\n",
       "      <td>Public Assist</td>\n",
       "      <td>Neutered Male</td>\n",
       "      <td>1</td>\n",
       "      <td>6205</td>\n",
       "      <td>17.000000</td>\n",
       "      <td>(15.0, 17.5]</td>\n",
       "      <td>2016-09-28 12:05:00</td>\n",
       "      <td>9</td>\n",
       "      <td>2016</td>\n",
       "      <td>2016-09</td>\n",
       "      <td>Wednesday</td>\n",
       "      <td>12</td>\n",
       "      <td>1.0</td>\n",
       "      <td>9 days 00:29:00.000000000</td>\n",
       "      <td>9.020139</td>\n",
       "      <td>Tan</td>\n",
       "      <td>1</td>\n",
       "      <td>Black</td>\n",
       "      <td>1</td>\n",
       "      <td>1</td>\n",
       "      <td>1</td>\n",
       "      <td>Austin</td>\n",
       "      <td>30.271129</td>\n",
       "      <td>-97.74370</td>\n",
       "      <td>Austin</td>\n",
       "      <td>Chihuahua Shorthair</td>\n",
       "      <td>0</td>\n",
       "      <td>0</td>\n",
       "      <td>NaN</td>\n",
       "      <td>6.0</td>\n",
       "      <td>8.0</td>\n",
       "      <td>16.0</td>\n",
       "    </tr>\n",
       "    <tr>\n",
       "      <th>2</th>\n",
       "      <td>2</td>\n",
       "      <td>2</td>\n",
       "      <td>22</td>\n",
       "      <td>15 years</td>\n",
       "      <td>A226069</td>\n",
       "      <td>2000-06-17 00:00:00</td>\n",
       "      <td>Foster</td>\n",
       "      <td>Adoption</td>\n",
       "      <td>Neutered Male</td>\n",
       "      <td>5475</td>\n",
       "      <td>15.000000</td>\n",
       "      <td>(12.5, 15.0]</td>\n",
       "      <td>2015-10-29 15:00:00</td>\n",
       "      <td>10</td>\n",
       "      <td>2015</td>\n",
       "      <td>2015-10</td>\n",
       "      <td>Thursday</td>\n",
       "      <td>15</td>\n",
       "      <td>1.0</td>\n",
       "      <td>2000</td>\n",
       "      <td>6</td>\n",
       "      <td>2015-10</td>\n",
       "      <td>15 years</td>\n",
       "      <td>A226069</td>\n",
       "      <td>Dog</td>\n",
       "      <td>Labrador Retriever/Beagle</td>\n",
       "      <td>Sable/White</td>\n",
       "      <td>Wheless Ln And Berkman Dr in Austin (TX)</td>\n",
       "      <td>Normal</td>\n",
       "      <td>Stray</td>\n",
       "      <td>Neutered Male</td>\n",
       "      <td>1</td>\n",
       "      <td>5475</td>\n",
       "      <td>15.000000</td>\n",
       "      <td>(12.5, 15.0]</td>\n",
       "      <td>2015-10-06 12:29:00</td>\n",
       "      <td>10</td>\n",
       "      <td>2015</td>\n",
       "      <td>2015-10</td>\n",
       "      <td>Tuesday</td>\n",
       "      <td>12</td>\n",
       "      <td>1.0</td>\n",
       "      <td>23 days 02:31:00.000000000</td>\n",
       "      <td>23.104861</td>\n",
       "      <td>Sable</td>\n",
       "      <td>1</td>\n",
       "      <td>White</td>\n",
       "      <td>1</td>\n",
       "      <td>1</td>\n",
       "      <td>1</td>\n",
       "      <td>Austin</td>\n",
       "      <td>30.271129</td>\n",
       "      <td>-97.74370</td>\n",
       "      <td>Austin</td>\n",
       "      <td>Labrador Retriever</td>\n",
       "      <td>1</td>\n",
       "      <td>1</td>\n",
       "      <td>Beagle</td>\n",
       "      <td>57.5</td>\n",
       "      <td>19.5</td>\n",
       "      <td>14.5</td>\n",
       "    </tr>\n",
       "    <tr>\n",
       "      <th>3</th>\n",
       "      <td>3</td>\n",
       "      <td>3</td>\n",
       "      <td>32</td>\n",
       "      <td>15 years</td>\n",
       "      <td>A249087</td>\n",
       "      <td>2001-01-02 00:00:00</td>\n",
       "      <td>Foster</td>\n",
       "      <td>Adoption</td>\n",
       "      <td>Spayed Female</td>\n",
       "      <td>5475</td>\n",
       "      <td>15.000000</td>\n",
       "      <td>(12.5, 15.0]</td>\n",
       "      <td>2016-11-15 10:37:00</td>\n",
       "      <td>11</td>\n",
       "      <td>2016</td>\n",
       "      <td>2016-11</td>\n",
       "      <td>Tuesday</td>\n",
       "      <td>10</td>\n",
       "      <td>1.0</td>\n",
       "      <td>2001</td>\n",
       "      <td>1</td>\n",
       "      <td>2016-11</td>\n",
       "      <td>15 years</td>\n",
       "      <td>A249087</td>\n",
       "      <td>Dog</td>\n",
       "      <td>German Shepherd Mix</td>\n",
       "      <td>Black/Brown</td>\n",
       "      <td>E 6Th St And Pedernales in Austin (TX)</td>\n",
       "      <td>Normal</td>\n",
       "      <td>Stray</td>\n",
       "      <td>Spayed Female</td>\n",
       "      <td>1</td>\n",
       "      <td>5475</td>\n",
       "      <td>15.000000</td>\n",
       "      <td>(12.5, 15.0]</td>\n",
       "      <td>2016-08-17 14:05:00</td>\n",
       "      <td>8</td>\n",
       "      <td>2016</td>\n",
       "      <td>2016-08</td>\n",
       "      <td>Wednesday</td>\n",
       "      <td>14</td>\n",
       "      <td>1.0</td>\n",
       "      <td>89 days 20:32:00.000000000</td>\n",
       "      <td>89.855556</td>\n",
       "      <td>Black</td>\n",
       "      <td>1</td>\n",
       "      <td>Brown</td>\n",
       "      <td>1</td>\n",
       "      <td>0</td>\n",
       "      <td>1</td>\n",
       "      <td>Austin</td>\n",
       "      <td>30.271129</td>\n",
       "      <td>-97.74370</td>\n",
       "      <td>Austin</td>\n",
       "      <td>German Shepherd Mix</td>\n",
       "      <td>0</td>\n",
       "      <td>1</td>\n",
       "      <td>NaN</td>\n",
       "      <td>90.0</td>\n",
       "      <td>26.0</td>\n",
       "      <td>13.0</td>\n",
       "    </tr>\n",
       "    <tr>\n",
       "      <th>4</th>\n",
       "      <td>4</td>\n",
       "      <td>4</td>\n",
       "      <td>48</td>\n",
       "      <td>11 years</td>\n",
       "      <td>A274546</td>\n",
       "      <td>2002-05-25 00:00:00</td>\n",
       "      <td>NaN</td>\n",
       "      <td>Adoption</td>\n",
       "      <td>Spayed Female</td>\n",
       "      <td>4015</td>\n",
       "      <td>11.000000</td>\n",
       "      <td>(10.0, 12.5]</td>\n",
       "      <td>2013-11-16 12:24:00</td>\n",
       "      <td>11</td>\n",
       "      <td>2013</td>\n",
       "      <td>2013-11</td>\n",
       "      <td>Saturday</td>\n",
       "      <td>12</td>\n",
       "      <td>1.0</td>\n",
       "      <td>2002</td>\n",
       "      <td>5</td>\n",
       "      <td>2013-11</td>\n",
       "      <td>11 years</td>\n",
       "      <td>A274546</td>\n",
       "      <td>Dog</td>\n",
       "      <td>Pointer Mix</td>\n",
       "      <td>Tricolor</td>\n",
       "      <td>Manchaca And Slaughter in Austin (TX)</td>\n",
       "      <td>Normal</td>\n",
       "      <td>Stray</td>\n",
       "      <td>Spayed Female</td>\n",
       "      <td>1</td>\n",
       "      <td>4015</td>\n",
       "      <td>11.000000</td>\n",
       "      <td>(10.0, 12.5]</td>\n",
       "      <td>2013-11-13 18:16:00</td>\n",
       "      <td>11</td>\n",
       "      <td>2013</td>\n",
       "      <td>2013-11</td>\n",
       "      <td>Wednesday</td>\n",
       "      <td>18</td>\n",
       "      <td>1.0</td>\n",
       "      <td>2 days 18:08:00.000000000</td>\n",
       "      <td>2.755556</td>\n",
       "      <td>Tricolor</td>\n",
       "      <td>0</td>\n",
       "      <td>NaN</td>\n",
       "      <td>1</td>\n",
       "      <td>0</td>\n",
       "      <td>1</td>\n",
       "      <td>Austin</td>\n",
       "      <td>30.271129</td>\n",
       "      <td>-97.74370</td>\n",
       "      <td>Austin</td>\n",
       "      <td>Pointer Mix</td>\n",
       "      <td>0</td>\n",
       "      <td>1</td>\n",
       "      <td>NaN</td>\n",
       "      <td>75.0</td>\n",
       "      <td>28.0</td>\n",
       "      <td>17.0</td>\n",
       "    </tr>\n",
       "    <tr>\n",
       "      <th>...</th>\n",
       "      <td>...</td>\n",
       "      <td>...</td>\n",
       "      <td>...</td>\n",
       "      <td>...</td>\n",
       "      <td>...</td>\n",
       "      <td>...</td>\n",
       "      <td>...</td>\n",
       "      <td>...</td>\n",
       "      <td>...</td>\n",
       "      <td>...</td>\n",
       "      <td>...</td>\n",
       "      <td>...</td>\n",
       "      <td>...</td>\n",
       "      <td>...</td>\n",
       "      <td>...</td>\n",
       "      <td>...</td>\n",
       "      <td>...</td>\n",
       "      <td>...</td>\n",
       "      <td>...</td>\n",
       "      <td>...</td>\n",
       "      <td>...</td>\n",
       "      <td>...</td>\n",
       "      <td>...</td>\n",
       "      <td>...</td>\n",
       "      <td>...</td>\n",
       "      <td>...</td>\n",
       "      <td>...</td>\n",
       "      <td>...</td>\n",
       "      <td>...</td>\n",
       "      <td>...</td>\n",
       "      <td>...</td>\n",
       "      <td>...</td>\n",
       "      <td>...</td>\n",
       "      <td>...</td>\n",
       "      <td>...</td>\n",
       "      <td>...</td>\n",
       "      <td>...</td>\n",
       "      <td>...</td>\n",
       "      <td>...</td>\n",
       "      <td>...</td>\n",
       "      <td>...</td>\n",
       "      <td>...</td>\n",
       "      <td>...</td>\n",
       "      <td>...</td>\n",
       "      <td>...</td>\n",
       "      <td>...</td>\n",
       "      <td>...</td>\n",
       "      <td>...</td>\n",
       "      <td>...</td>\n",
       "      <td>...</td>\n",
       "      <td>...</td>\n",
       "      <td>...</td>\n",
       "      <td>...</td>\n",
       "      <td>...</td>\n",
       "      <td>...</td>\n",
       "      <td>...</td>\n",
       "      <td>...</td>\n",
       "      <td>...</td>\n",
       "      <td>...</td>\n",
       "      <td>...</td>\n",
       "      <td>...</td>\n",
       "    </tr>\n",
       "    <tr>\n",
       "      <th>20576</th>\n",
       "      <td>20576</td>\n",
       "      <td>33249</td>\n",
       "      <td>79647</td>\n",
       "      <td>7 years</td>\n",
       "      <td>A769012</td>\n",
       "      <td>2011-03-29 00:00:00</td>\n",
       "      <td>NaN</td>\n",
       "      <td>Adoption</td>\n",
       "      <td>Spayed Female</td>\n",
       "      <td>2555</td>\n",
       "      <td>7.000000</td>\n",
       "      <td>(5.0, 7.5]</td>\n",
       "      <td>2018-04-01 12:36:00</td>\n",
       "      <td>4</td>\n",
       "      <td>2018</td>\n",
       "      <td>2018-04</td>\n",
       "      <td>Sunday</td>\n",
       "      <td>12</td>\n",
       "      <td>1.0</td>\n",
       "      <td>2011</td>\n",
       "      <td>3</td>\n",
       "      <td>2018-04</td>\n",
       "      <td>7 years</td>\n",
       "      <td>A769012</td>\n",
       "      <td>Dog</td>\n",
       "      <td>Chihuahua Shorthair Mix</td>\n",
       "      <td>Tan</td>\n",
       "      <td>Springdale And Govalle in Austin (TX)</td>\n",
       "      <td>Normal</td>\n",
       "      <td>Stray</td>\n",
       "      <td>Spayed Female</td>\n",
       "      <td>1</td>\n",
       "      <td>2555</td>\n",
       "      <td>7.000000</td>\n",
       "      <td>(5.0, 7.5]</td>\n",
       "      <td>2018-03-28 17:48:00</td>\n",
       "      <td>3</td>\n",
       "      <td>2018</td>\n",
       "      <td>2018-03</td>\n",
       "      <td>Wednesday</td>\n",
       "      <td>17</td>\n",
       "      <td>1.0</td>\n",
       "      <td>3 days 18:48:00.000000000</td>\n",
       "      <td>3.783333</td>\n",
       "      <td>Tan</td>\n",
       "      <td>0</td>\n",
       "      <td>NaN</td>\n",
       "      <td>1</td>\n",
       "      <td>0</td>\n",
       "      <td>1</td>\n",
       "      <td>Austin</td>\n",
       "      <td>30.271129</td>\n",
       "      <td>-97.74370</td>\n",
       "      <td>Austin</td>\n",
       "      <td>Chihuahua Shorthair Mix</td>\n",
       "      <td>0</td>\n",
       "      <td>1</td>\n",
       "      <td>NaN</td>\n",
       "      <td>6.0</td>\n",
       "      <td>8.0</td>\n",
       "      <td>16.0</td>\n",
       "    </tr>\n",
       "    <tr>\n",
       "      <th>20577</th>\n",
       "      <td>20577</td>\n",
       "      <td>33250</td>\n",
       "      <td>79649</td>\n",
       "      <td>2 months</td>\n",
       "      <td>A769014</td>\n",
       "      <td>2018-01-28 00:00:00</td>\n",
       "      <td>NaN</td>\n",
       "      <td>Adoption</td>\n",
       "      <td>Neutered Male</td>\n",
       "      <td>60</td>\n",
       "      <td>0.164384</td>\n",
       "      <td>(-0.025, 2.5]</td>\n",
       "      <td>2018-04-02 19:05:00</td>\n",
       "      <td>4</td>\n",
       "      <td>2018</td>\n",
       "      <td>2018-04</td>\n",
       "      <td>Monday</td>\n",
       "      <td>19</td>\n",
       "      <td>1.0</td>\n",
       "      <td>2018</td>\n",
       "      <td>1</td>\n",
       "      <td>2018-04</td>\n",
       "      <td>1 month</td>\n",
       "      <td>A769014</td>\n",
       "      <td>Dog</td>\n",
       "      <td>Pit Bull Mix</td>\n",
       "      <td>Black/White</td>\n",
       "      <td>1044 Norwood Park Boulevard in Austin (TX)</td>\n",
       "      <td>Normal</td>\n",
       "      <td>Stray</td>\n",
       "      <td>Intact Male</td>\n",
       "      <td>1</td>\n",
       "      <td>30</td>\n",
       "      <td>0.082192</td>\n",
       "      <td>(-0.025, 2.5]</td>\n",
       "      <td>2018-03-28 18:08:00</td>\n",
       "      <td>3</td>\n",
       "      <td>2018</td>\n",
       "      <td>2018-03</td>\n",
       "      <td>Wednesday</td>\n",
       "      <td>18</td>\n",
       "      <td>1.0</td>\n",
       "      <td>5 days 00:57:00.000000000</td>\n",
       "      <td>5.039583</td>\n",
       "      <td>Black</td>\n",
       "      <td>1</td>\n",
       "      <td>White</td>\n",
       "      <td>1</td>\n",
       "      <td>1</td>\n",
       "      <td>1</td>\n",
       "      <td>Austin</td>\n",
       "      <td>30.271129</td>\n",
       "      <td>-97.74370</td>\n",
       "      <td>Austin</td>\n",
       "      <td>Pit Bull Mix</td>\n",
       "      <td>0</td>\n",
       "      <td>1</td>\n",
       "      <td>NaN</td>\n",
       "      <td>60.0</td>\n",
       "      <td>21.0</td>\n",
       "      <td>15.0</td>\n",
       "    </tr>\n",
       "    <tr>\n",
       "      <th>20578</th>\n",
       "      <td>20578</td>\n",
       "      <td>33251</td>\n",
       "      <td>79653</td>\n",
       "      <td>2 months</td>\n",
       "      <td>A769020</td>\n",
       "      <td>2018-01-18 00:00:00</td>\n",
       "      <td>NaN</td>\n",
       "      <td>Adoption</td>\n",
       "      <td>Neutered Male</td>\n",
       "      <td>60</td>\n",
       "      <td>0.164384</td>\n",
       "      <td>(-0.025, 2.5]</td>\n",
       "      <td>2018-04-01 17:27:00</td>\n",
       "      <td>4</td>\n",
       "      <td>2018</td>\n",
       "      <td>2018-04</td>\n",
       "      <td>Sunday</td>\n",
       "      <td>17</td>\n",
       "      <td>1.0</td>\n",
       "      <td>2018</td>\n",
       "      <td>1</td>\n",
       "      <td>2018-04</td>\n",
       "      <td>2 months</td>\n",
       "      <td>A769020</td>\n",
       "      <td>Dog</td>\n",
       "      <td>German Shepherd</td>\n",
       "      <td>Black/Tan</td>\n",
       "      <td>Austin (TX)</td>\n",
       "      <td>Normal</td>\n",
       "      <td>Stray</td>\n",
       "      <td>Intact Male</td>\n",
       "      <td>1</td>\n",
       "      <td>60</td>\n",
       "      <td>0.164384</td>\n",
       "      <td>(-0.025, 2.5]</td>\n",
       "      <td>2018-03-28 18:51:00</td>\n",
       "      <td>3</td>\n",
       "      <td>2018</td>\n",
       "      <td>2018-03</td>\n",
       "      <td>Wednesday</td>\n",
       "      <td>18</td>\n",
       "      <td>1.0</td>\n",
       "      <td>3 days 22:36:00.000000000</td>\n",
       "      <td>3.941667</td>\n",
       "      <td>Black</td>\n",
       "      <td>1</td>\n",
       "      <td>Tan</td>\n",
       "      <td>1</td>\n",
       "      <td>1</td>\n",
       "      <td>1</td>\n",
       "      <td>Austin</td>\n",
       "      <td>30.271129</td>\n",
       "      <td>-97.74370</td>\n",
       "      <td>Austin</td>\n",
       "      <td>German Shepherd</td>\n",
       "      <td>0</td>\n",
       "      <td>0</td>\n",
       "      <td>NaN</td>\n",
       "      <td>90.0</td>\n",
       "      <td>26.0</td>\n",
       "      <td>13.0</td>\n",
       "    </tr>\n",
       "    <tr>\n",
       "      <th>20579</th>\n",
       "      <td>20579</td>\n",
       "      <td>33252</td>\n",
       "      <td>79654</td>\n",
       "      <td>1 year</td>\n",
       "      <td>A769034</td>\n",
       "      <td>2017-03-29 00:00:00</td>\n",
       "      <td>NaN</td>\n",
       "      <td>Adoption</td>\n",
       "      <td>Spayed Female</td>\n",
       "      <td>365</td>\n",
       "      <td>1.000000</td>\n",
       "      <td>(-0.025, 2.5]</td>\n",
       "      <td>2018-04-03 15:23:00</td>\n",
       "      <td>4</td>\n",
       "      <td>2018</td>\n",
       "      <td>2018-04</td>\n",
       "      <td>Tuesday</td>\n",
       "      <td>15</td>\n",
       "      <td>1.0</td>\n",
       "      <td>2017</td>\n",
       "      <td>3</td>\n",
       "      <td>2018-04</td>\n",
       "      <td>1 year</td>\n",
       "      <td>A769034</td>\n",
       "      <td>Dog</td>\n",
       "      <td>Labrador Retriever/German Shepherd</td>\n",
       "      <td>Black/White</td>\n",
       "      <td>Alpine Drive And Vevey Drive in Del Valle (TX)</td>\n",
       "      <td>Normal</td>\n",
       "      <td>Stray</td>\n",
       "      <td>Spayed Female</td>\n",
       "      <td>1</td>\n",
       "      <td>365</td>\n",
       "      <td>1.000000</td>\n",
       "      <td>(-0.025, 2.5]</td>\n",
       "      <td>2018-03-29 11:44:00</td>\n",
       "      <td>3</td>\n",
       "      <td>2018</td>\n",
       "      <td>2018-03</td>\n",
       "      <td>Thursday</td>\n",
       "      <td>11</td>\n",
       "      <td>1.0</td>\n",
       "      <td>5 days 03:39:00.000000000</td>\n",
       "      <td>5.152083</td>\n",
       "      <td>Black</td>\n",
       "      <td>1</td>\n",
       "      <td>White</td>\n",
       "      <td>1</td>\n",
       "      <td>0</td>\n",
       "      <td>1</td>\n",
       "      <td>Del Valle</td>\n",
       "      <td>23.269927</td>\n",
       "      <td>-106.38944</td>\n",
       "      <td>South</td>\n",
       "      <td>Labrador Retriever</td>\n",
       "      <td>1</td>\n",
       "      <td>1</td>\n",
       "      <td>German Shepherd</td>\n",
       "      <td>85.0</td>\n",
       "      <td>25.0</td>\n",
       "      <td>13.0</td>\n",
       "    </tr>\n",
       "    <tr>\n",
       "      <th>20580</th>\n",
       "      <td>20580</td>\n",
       "      <td>33253</td>\n",
       "      <td>79655</td>\n",
       "      <td>1 year</td>\n",
       "      <td>A769036</td>\n",
       "      <td>2017-03-29 00:00:00</td>\n",
       "      <td>NaN</td>\n",
       "      <td>Adoption</td>\n",
       "      <td>Spayed Female</td>\n",
       "      <td>365</td>\n",
       "      <td>1.000000</td>\n",
       "      <td>(-0.025, 2.5]</td>\n",
       "      <td>2018-03-31 18:26:00</td>\n",
       "      <td>3</td>\n",
       "      <td>2018</td>\n",
       "      <td>2018-03</td>\n",
       "      <td>Saturday</td>\n",
       "      <td>18</td>\n",
       "      <td>1.0</td>\n",
       "      <td>2017</td>\n",
       "      <td>3</td>\n",
       "      <td>2018-03</td>\n",
       "      <td>1 year</td>\n",
       "      <td>A769036</td>\n",
       "      <td>Dog</td>\n",
       "      <td>Labrador Retriever/German Shepherd</td>\n",
       "      <td>Black/Tan</td>\n",
       "      <td>Alpine Drive And Vevey Drive in Del Valle (TX)</td>\n",
       "      <td>Normal</td>\n",
       "      <td>Stray</td>\n",
       "      <td>Spayed Female</td>\n",
       "      <td>1</td>\n",
       "      <td>365</td>\n",
       "      <td>1.000000</td>\n",
       "      <td>(-0.025, 2.5]</td>\n",
       "      <td>2018-03-29 11:44:00</td>\n",
       "      <td>3</td>\n",
       "      <td>2018</td>\n",
       "      <td>2018-03</td>\n",
       "      <td>Thursday</td>\n",
       "      <td>11</td>\n",
       "      <td>1.0</td>\n",
       "      <td>2 days 06:42:00.000000000</td>\n",
       "      <td>2.279167</td>\n",
       "      <td>Black</td>\n",
       "      <td>1</td>\n",
       "      <td>Tan</td>\n",
       "      <td>1</td>\n",
       "      <td>0</td>\n",
       "      <td>1</td>\n",
       "      <td>Del Valle</td>\n",
       "      <td>23.269927</td>\n",
       "      <td>-106.38944</td>\n",
       "      <td>South</td>\n",
       "      <td>Labrador Retriever</td>\n",
       "      <td>1</td>\n",
       "      <td>1</td>\n",
       "      <td>German Shepherd</td>\n",
       "      <td>85.0</td>\n",
       "      <td>25.0</td>\n",
       "      <td>13.0</td>\n",
       "    </tr>\n",
       "  </tbody>\n",
       "</table>\n",
       "<p>20581 rows × 61 columns</p>\n",
       "</div>"
      ],
      "text/plain": [
       "       Unnamed: 0  level_0  index age_upon_outcome animal_id_outcome  \\\n",
       "0               0        0     12         16 years           A200922   \n",
       "1               1        1     14         17 years           A210457   \n",
       "2               2        2     22         15 years           A226069   \n",
       "3               3        3     32         15 years           A249087   \n",
       "4               4        4     48         11 years           A274546   \n",
       "...           ...      ...    ...              ...               ...   \n",
       "20576       20576    33249  79647          7 years           A769012   \n",
       "20577       20577    33250  79649         2 months           A769014   \n",
       "20578       20578    33251  79653         2 months           A769020   \n",
       "20579       20579    33252  79654           1 year           A769034   \n",
       "20580       20580    33253  79655           1 year           A769036   \n",
       "\n",
       "             date_of_birth outcome_subtype outcome_type sex_upon_outcome  \\\n",
       "0      1997-10-03 00:00:00          Foster     Adoption    Neutered Male   \n",
       "1      1999-06-01 00:00:00          Foster     Adoption    Neutered Male   \n",
       "2      2000-06-17 00:00:00          Foster     Adoption    Neutered Male   \n",
       "3      2001-01-02 00:00:00          Foster     Adoption    Spayed Female   \n",
       "4      2002-05-25 00:00:00             NaN     Adoption    Spayed Female   \n",
       "...                    ...             ...          ...              ...   \n",
       "20576  2011-03-29 00:00:00             NaN     Adoption    Spayed Female   \n",
       "20577  2018-01-28 00:00:00             NaN     Adoption    Neutered Male   \n",
       "20578  2018-01-18 00:00:00             NaN     Adoption    Neutered Male   \n",
       "20579  2017-03-29 00:00:00             NaN     Adoption    Spayed Female   \n",
       "20580  2017-03-29 00:00:00             NaN     Adoption    Spayed Female   \n",
       "\n",
       "       age_upon_outcome_(days)  age_upon_outcome_(years)  \\\n",
       "0                         5840                 16.000000   \n",
       "1                         6205                 17.000000   \n",
       "2                         5475                 15.000000   \n",
       "3                         5475                 15.000000   \n",
       "4                         4015                 11.000000   \n",
       "...                        ...                       ...   \n",
       "20576                     2555                  7.000000   \n",
       "20577                       60                  0.164384   \n",
       "20578                       60                  0.164384   \n",
       "20579                      365                  1.000000   \n",
       "20580                      365                  1.000000   \n",
       "\n",
       "      age_upon_outcome_age_group     outcome_datetime  outcome_month  \\\n",
       "0                   (15.0, 17.5]  2013-11-22 09:44:00             11   \n",
       "1                   (15.0, 17.5]  2016-10-07 12:34:00             10   \n",
       "2                   (12.5, 15.0]  2015-10-29 15:00:00             10   \n",
       "3                   (12.5, 15.0]  2016-11-15 10:37:00             11   \n",
       "4                   (10.0, 12.5]  2013-11-16 12:24:00             11   \n",
       "...                          ...                  ...            ...   \n",
       "20576                 (5.0, 7.5]  2018-04-01 12:36:00              4   \n",
       "20577              (-0.025, 2.5]  2018-04-02 19:05:00              4   \n",
       "20578              (-0.025, 2.5]  2018-04-01 17:27:00              4   \n",
       "20579              (-0.025, 2.5]  2018-04-03 15:23:00              4   \n",
       "20580              (-0.025, 2.5]  2018-03-31 18:26:00              3   \n",
       "\n",
       "       outcome_year outcome_monthyear outcome_weekday  outcome_hour  \\\n",
       "0              2013           2013-11          Friday             9   \n",
       "1              2016           2016-10          Friday            12   \n",
       "2              2015           2015-10        Thursday            15   \n",
       "3              2016           2016-11         Tuesday            10   \n",
       "4              2013           2013-11        Saturday            12   \n",
       "...             ...               ...             ...           ...   \n",
       "20576          2018           2018-04          Sunday            12   \n",
       "20577          2018           2018-04          Monday            19   \n",
       "20578          2018           2018-04          Sunday            17   \n",
       "20579          2018           2018-04         Tuesday            15   \n",
       "20580          2018           2018-03        Saturday            18   \n",
       "\n",
       "       outcome_number  dob_year  dob_month dob_monthyear age_upon_intake  \\\n",
       "0                 1.0      1997         10       2013-11        16 years   \n",
       "1                 1.0      1999          6       2016-10        17 years   \n",
       "2                 1.0      2000          6       2015-10        15 years   \n",
       "3                 1.0      2001          1       2016-11        15 years   \n",
       "4                 1.0      2002          5       2013-11        11 years   \n",
       "...               ...       ...        ...           ...             ...   \n",
       "20576             1.0      2011          3       2018-04         7 years   \n",
       "20577             1.0      2018          1       2018-04         1 month   \n",
       "20578             1.0      2018          1       2018-04        2 months   \n",
       "20579             1.0      2017          3       2018-04          1 year   \n",
       "20580             1.0      2017          3       2018-03          1 year   \n",
       "\n",
       "      animal_id_intake animal_type                               breed  \\\n",
       "0              A200922         Dog                       Dachshund Mix   \n",
       "1              A210457         Dog                 Chihuahua Shorthair   \n",
       "2              A226069         Dog           Labrador Retriever/Beagle   \n",
       "3              A249087         Dog                 German Shepherd Mix   \n",
       "4              A274546         Dog                         Pointer Mix   \n",
       "...                ...         ...                                 ...   \n",
       "20576          A769012         Dog             Chihuahua Shorthair Mix   \n",
       "20577          A769014         Dog                        Pit Bull Mix   \n",
       "20578          A769020         Dog                     German Shepherd   \n",
       "20579          A769034         Dog  Labrador Retriever/German Shepherd   \n",
       "20580          A769036         Dog  Labrador Retriever/German Shepherd   \n",
       "\n",
       "             color                                  found_location  \\\n",
       "0        Black/Tan                                     Austin (TX)   \n",
       "1        Tan/Black                4424 S Mopac #412 in Austin (TX)   \n",
       "2      Sable/White        Wheless Ln And Berkman Dr in Austin (TX)   \n",
       "3      Black/Brown          E 6Th St And Pedernales in Austin (TX)   \n",
       "4         Tricolor           Manchaca And Slaughter in Austin (TX)   \n",
       "...            ...                                             ...   \n",
       "20576          Tan           Springdale And Govalle in Austin (TX)   \n",
       "20577  Black/White      1044 Norwood Park Boulevard in Austin (TX)   \n",
       "20578    Black/Tan                                     Austin (TX)   \n",
       "20579  Black/White  Alpine Drive And Vevey Drive in Del Valle (TX)   \n",
       "20580    Black/Tan  Alpine Drive And Vevey Drive in Del Valle (TX)   \n",
       "\n",
       "      intake_condition      intake_type sex_upon_intake  count  \\\n",
       "0               Normal  Owner Surrender   Neutered Male      1   \n",
       "1                 Aged    Public Assist   Neutered Male      1   \n",
       "2               Normal            Stray   Neutered Male      1   \n",
       "3               Normal            Stray   Spayed Female      1   \n",
       "4               Normal            Stray   Spayed Female      1   \n",
       "...                ...              ...             ...    ...   \n",
       "20576           Normal            Stray   Spayed Female      1   \n",
       "20577           Normal            Stray     Intact Male      1   \n",
       "20578           Normal            Stray     Intact Male      1   \n",
       "20579           Normal            Stray   Spayed Female      1   \n",
       "20580           Normal            Stray   Spayed Female      1   \n",
       "\n",
       "       age_upon_intake_days  age_upon_intake_tears age_upon_intake_age_group  \\\n",
       "0                      5840              16.000000              (15.0, 17.5]   \n",
       "1                      6205              17.000000              (15.0, 17.5]   \n",
       "2                      5475              15.000000              (12.5, 15.0]   \n",
       "3                      5475              15.000000              (12.5, 15.0]   \n",
       "4                      4015              11.000000              (10.0, 12.5]   \n",
       "...                     ...                    ...                       ...   \n",
       "20576                  2555               7.000000                (5.0, 7.5]   \n",
       "20577                    30               0.082192             (-0.025, 2.5]   \n",
       "20578                    60               0.164384             (-0.025, 2.5]   \n",
       "20579                   365               1.000000             (-0.025, 2.5]   \n",
       "20580                   365               1.000000             (-0.025, 2.5]   \n",
       "\n",
       "           intake_datetime  intake_month  intake_year intake_monthyear  \\\n",
       "0      2013-10-03 15:47:00            10         2013          2013-10   \n",
       "1      2016-09-28 12:05:00             9         2016          2016-09   \n",
       "2      2015-10-06 12:29:00            10         2015          2015-10   \n",
       "3      2016-08-17 14:05:00             8         2016          2016-08   \n",
       "4      2013-11-13 18:16:00            11         2013          2013-11   \n",
       "...                    ...           ...          ...              ...   \n",
       "20576  2018-03-28 17:48:00             3         2018          2018-03   \n",
       "20577  2018-03-28 18:08:00             3         2018          2018-03   \n",
       "20578  2018-03-28 18:51:00             3         2018          2018-03   \n",
       "20579  2018-03-29 11:44:00             3         2018          2018-03   \n",
       "20580  2018-03-29 11:44:00             3         2018          2018-03   \n",
       "\n",
       "      intake_weekday  intake_hour  intake_number             time_in_shelter  \\\n",
       "0           Thursday           15            1.0  49 days 17:57:00.000000000   \n",
       "1          Wednesday           12            1.0   9 days 00:29:00.000000000   \n",
       "2            Tuesday           12            1.0  23 days 02:31:00.000000000   \n",
       "3          Wednesday           14            1.0  89 days 20:32:00.000000000   \n",
       "4          Wednesday           18            1.0   2 days 18:08:00.000000000   \n",
       "...              ...          ...            ...                         ...   \n",
       "20576      Wednesday           17            1.0   3 days 18:48:00.000000000   \n",
       "20577      Wednesday           18            1.0   5 days 00:57:00.000000000   \n",
       "20578      Wednesday           18            1.0   3 days 22:36:00.000000000   \n",
       "20579       Thursday           11            1.0   5 days 03:39:00.000000000   \n",
       "20580       Thursday           11            1.0   2 days 06:42:00.000000000   \n",
       "\n",
       "       time_in_shelter_days    color1  has_second_color color2  is_dog  \\\n",
       "0                 49.747917     Black                 1    Tan       1   \n",
       "1                  9.020139       Tan                 1  Black       1   \n",
       "2                 23.104861     Sable                 1  White       1   \n",
       "3                 89.855556     Black                 1  Brown       1   \n",
       "4                  2.755556  Tricolor                 0    NaN       1   \n",
       "...                     ...       ...               ...    ...     ...   \n",
       "20576              3.783333       Tan                 0    NaN       1   \n",
       "20577              5.039583     Black                 1  White       1   \n",
       "20578              3.941667     Black                 1    Tan       1   \n",
       "20579              5.152083     Black                 1  White       1   \n",
       "20580              2.279167     Black                 1    Tan       1   \n",
       "\n",
       "       is_male  is_fixed found_city  found_lat  found_lon  region  \\\n",
       "0            1         1     Austin  30.271129  -97.74370  Austin   \n",
       "1            1         1     Austin  30.271129  -97.74370  Austin   \n",
       "2            1         1     Austin  30.271129  -97.74370  Austin   \n",
       "3            0         1     Austin  30.271129  -97.74370  Austin   \n",
       "4            0         1     Austin  30.271129  -97.74370  Austin   \n",
       "...        ...       ...        ...        ...        ...     ...   \n",
       "20576        0         1     Austin  30.271129  -97.74370  Austin   \n",
       "20577        1         1     Austin  30.271129  -97.74370  Austin   \n",
       "20578        1         1     Austin  30.271129  -97.74370  Austin   \n",
       "20579        0         1  Del Valle  23.269927 -106.38944   South   \n",
       "20580        0         1  Del Valle  23.269927 -106.38944   South   \n",
       "\n",
       "                        breed1  is_breed2  is_mix           breed2  \\\n",
       "0                Dachshund Mix          0       1              NaN   \n",
       "1          Chihuahua Shorthair          0       0              NaN   \n",
       "2           Labrador Retriever          1       1           Beagle   \n",
       "3          German Shepherd Mix          0       1              NaN   \n",
       "4                  Pointer Mix          0       1              NaN   \n",
       "...                        ...        ...     ...              ...   \n",
       "20576  Chihuahua Shorthair Mix          0       1              NaN   \n",
       "20577             Pit Bull Mix          0       1              NaN   \n",
       "20578          German Shepherd          0       0              NaN   \n",
       "20579       Labrador Retriever          1       1  German Shepherd   \n",
       "20580       Labrador Retriever          1       1  German Shepherd   \n",
       "\n",
       "       max_weight  max_height  max_life  \n",
       "0            32.0         9.0      15.0  \n",
       "1             6.0         8.0      16.0  \n",
       "2            57.5        19.5      14.5  \n",
       "3            90.0        26.0      13.0  \n",
       "4            75.0        28.0      17.0  \n",
       "...           ...         ...       ...  \n",
       "20576         6.0         8.0      16.0  \n",
       "20577        60.0        21.0      15.0  \n",
       "20578        90.0        26.0      13.0  \n",
       "20579        85.0        25.0      13.0  \n",
       "20580        85.0        25.0      13.0  \n",
       "\n",
       "[20581 rows x 61 columns]"
      ]
     },
     "execution_count": 121,
     "metadata": {},
     "output_type": "execute_result"
    }
   ],
   "source": [
    "df"
   ]
  },
  {
   "cell_type": "code",
   "execution_count": 122,
   "metadata": {},
   "outputs": [],
   "source": [
    "df.drop(['Unnamed: 0','level_0','index'],axis=1,inplace=True)"
   ]
  },
  {
   "cell_type": "code",
   "execution_count": 123,
   "metadata": {},
   "outputs": [],
   "source": [
    "df=df[(df['animal_type']== 'Dog')]\n",
    "df=df[df.outcome_type=='Adoption']"
   ]
  },
  {
   "cell_type": "code",
   "execution_count": 124,
   "metadata": {},
   "outputs": [
    {
     "data": {
      "text/html": [
       "<div>\n",
       "<style scoped>\n",
       "    .dataframe tbody tr th:only-of-type {\n",
       "        vertical-align: middle;\n",
       "    }\n",
       "\n",
       "    .dataframe tbody tr th {\n",
       "        vertical-align: top;\n",
       "    }\n",
       "\n",
       "    .dataframe thead th {\n",
       "        text-align: right;\n",
       "    }\n",
       "</style>\n",
       "<table border=\"1\" class=\"dataframe\">\n",
       "  <thead>\n",
       "    <tr style=\"text-align: right;\">\n",
       "      <th></th>\n",
       "      <th>age_upon_outcome</th>\n",
       "      <th>animal_id_outcome</th>\n",
       "      <th>date_of_birth</th>\n",
       "      <th>outcome_subtype</th>\n",
       "      <th>outcome_type</th>\n",
       "      <th>sex_upon_outcome</th>\n",
       "      <th>age_upon_outcome_(days)</th>\n",
       "      <th>age_upon_outcome_(years)</th>\n",
       "      <th>age_upon_outcome_age_group</th>\n",
       "      <th>outcome_datetime</th>\n",
       "      <th>outcome_month</th>\n",
       "      <th>outcome_year</th>\n",
       "      <th>outcome_monthyear</th>\n",
       "      <th>outcome_weekday</th>\n",
       "      <th>outcome_hour</th>\n",
       "      <th>outcome_number</th>\n",
       "      <th>dob_year</th>\n",
       "      <th>dob_month</th>\n",
       "      <th>dob_monthyear</th>\n",
       "      <th>age_upon_intake</th>\n",
       "      <th>animal_id_intake</th>\n",
       "      <th>animal_type</th>\n",
       "      <th>breed</th>\n",
       "      <th>color</th>\n",
       "      <th>found_location</th>\n",
       "      <th>intake_condition</th>\n",
       "      <th>intake_type</th>\n",
       "      <th>sex_upon_intake</th>\n",
       "      <th>count</th>\n",
       "      <th>age_upon_intake_days</th>\n",
       "      <th>age_upon_intake_tears</th>\n",
       "      <th>age_upon_intake_age_group</th>\n",
       "      <th>intake_datetime</th>\n",
       "      <th>intake_month</th>\n",
       "      <th>intake_year</th>\n",
       "      <th>intake_monthyear</th>\n",
       "      <th>intake_weekday</th>\n",
       "      <th>intake_hour</th>\n",
       "      <th>intake_number</th>\n",
       "      <th>time_in_shelter</th>\n",
       "      <th>time_in_shelter_days</th>\n",
       "      <th>color1</th>\n",
       "      <th>has_second_color</th>\n",
       "      <th>color2</th>\n",
       "      <th>is_dog</th>\n",
       "      <th>is_male</th>\n",
       "      <th>is_fixed</th>\n",
       "      <th>found_city</th>\n",
       "      <th>found_lat</th>\n",
       "      <th>found_lon</th>\n",
       "      <th>region</th>\n",
       "      <th>breed1</th>\n",
       "      <th>is_breed2</th>\n",
       "      <th>is_mix</th>\n",
       "      <th>breed2</th>\n",
       "      <th>max_weight</th>\n",
       "      <th>max_height</th>\n",
       "      <th>max_life</th>\n",
       "    </tr>\n",
       "  </thead>\n",
       "  <tbody>\n",
       "    <tr>\n",
       "      <th>0</th>\n",
       "      <td>16 years</td>\n",
       "      <td>A200922</td>\n",
       "      <td>1997-10-03 00:00:00</td>\n",
       "      <td>Foster</td>\n",
       "      <td>Adoption</td>\n",
       "      <td>Neutered Male</td>\n",
       "      <td>5840</td>\n",
       "      <td>16.000000</td>\n",
       "      <td>(15.0, 17.5]</td>\n",
       "      <td>2013-11-22 09:44:00</td>\n",
       "      <td>11</td>\n",
       "      <td>2013</td>\n",
       "      <td>2013-11</td>\n",
       "      <td>Friday</td>\n",
       "      <td>9</td>\n",
       "      <td>1.0</td>\n",
       "      <td>1997</td>\n",
       "      <td>10</td>\n",
       "      <td>2013-11</td>\n",
       "      <td>16 years</td>\n",
       "      <td>A200922</td>\n",
       "      <td>Dog</td>\n",
       "      <td>Dachshund Mix</td>\n",
       "      <td>Black/Tan</td>\n",
       "      <td>Austin (TX)</td>\n",
       "      <td>Normal</td>\n",
       "      <td>Owner Surrender</td>\n",
       "      <td>Neutered Male</td>\n",
       "      <td>1</td>\n",
       "      <td>5840</td>\n",
       "      <td>16.000000</td>\n",
       "      <td>(15.0, 17.5]</td>\n",
       "      <td>2013-10-03 15:47:00</td>\n",
       "      <td>10</td>\n",
       "      <td>2013</td>\n",
       "      <td>2013-10</td>\n",
       "      <td>Thursday</td>\n",
       "      <td>15</td>\n",
       "      <td>1.0</td>\n",
       "      <td>49 days 17:57:00.000000000</td>\n",
       "      <td>49.747917</td>\n",
       "      <td>Black</td>\n",
       "      <td>1</td>\n",
       "      <td>Tan</td>\n",
       "      <td>1</td>\n",
       "      <td>1</td>\n",
       "      <td>1</td>\n",
       "      <td>Austin</td>\n",
       "      <td>30.271129</td>\n",
       "      <td>-97.74370</td>\n",
       "      <td>Austin</td>\n",
       "      <td>Dachshund Mix</td>\n",
       "      <td>0</td>\n",
       "      <td>1</td>\n",
       "      <td>NaN</td>\n",
       "      <td>32.0</td>\n",
       "      <td>9.0</td>\n",
       "      <td>15.0</td>\n",
       "    </tr>\n",
       "    <tr>\n",
       "      <th>1</th>\n",
       "      <td>17 years</td>\n",
       "      <td>A210457</td>\n",
       "      <td>1999-06-01 00:00:00</td>\n",
       "      <td>Foster</td>\n",
       "      <td>Adoption</td>\n",
       "      <td>Neutered Male</td>\n",
       "      <td>6205</td>\n",
       "      <td>17.000000</td>\n",
       "      <td>(15.0, 17.5]</td>\n",
       "      <td>2016-10-07 12:34:00</td>\n",
       "      <td>10</td>\n",
       "      <td>2016</td>\n",
       "      <td>2016-10</td>\n",
       "      <td>Friday</td>\n",
       "      <td>12</td>\n",
       "      <td>1.0</td>\n",
       "      <td>1999</td>\n",
       "      <td>6</td>\n",
       "      <td>2016-10</td>\n",
       "      <td>17 years</td>\n",
       "      <td>A210457</td>\n",
       "      <td>Dog</td>\n",
       "      <td>Chihuahua Shorthair</td>\n",
       "      <td>Tan/Black</td>\n",
       "      <td>4424 S Mopac #412 in Austin (TX)</td>\n",
       "      <td>Aged</td>\n",
       "      <td>Public Assist</td>\n",
       "      <td>Neutered Male</td>\n",
       "      <td>1</td>\n",
       "      <td>6205</td>\n",
       "      <td>17.000000</td>\n",
       "      <td>(15.0, 17.5]</td>\n",
       "      <td>2016-09-28 12:05:00</td>\n",
       "      <td>9</td>\n",
       "      <td>2016</td>\n",
       "      <td>2016-09</td>\n",
       "      <td>Wednesday</td>\n",
       "      <td>12</td>\n",
       "      <td>1.0</td>\n",
       "      <td>9 days 00:29:00.000000000</td>\n",
       "      <td>9.020139</td>\n",
       "      <td>Tan</td>\n",
       "      <td>1</td>\n",
       "      <td>Black</td>\n",
       "      <td>1</td>\n",
       "      <td>1</td>\n",
       "      <td>1</td>\n",
       "      <td>Austin</td>\n",
       "      <td>30.271129</td>\n",
       "      <td>-97.74370</td>\n",
       "      <td>Austin</td>\n",
       "      <td>Chihuahua Shorthair</td>\n",
       "      <td>0</td>\n",
       "      <td>0</td>\n",
       "      <td>NaN</td>\n",
       "      <td>6.0</td>\n",
       "      <td>8.0</td>\n",
       "      <td>16.0</td>\n",
       "    </tr>\n",
       "    <tr>\n",
       "      <th>2</th>\n",
       "      <td>15 years</td>\n",
       "      <td>A226069</td>\n",
       "      <td>2000-06-17 00:00:00</td>\n",
       "      <td>Foster</td>\n",
       "      <td>Adoption</td>\n",
       "      <td>Neutered Male</td>\n",
       "      <td>5475</td>\n",
       "      <td>15.000000</td>\n",
       "      <td>(12.5, 15.0]</td>\n",
       "      <td>2015-10-29 15:00:00</td>\n",
       "      <td>10</td>\n",
       "      <td>2015</td>\n",
       "      <td>2015-10</td>\n",
       "      <td>Thursday</td>\n",
       "      <td>15</td>\n",
       "      <td>1.0</td>\n",
       "      <td>2000</td>\n",
       "      <td>6</td>\n",
       "      <td>2015-10</td>\n",
       "      <td>15 years</td>\n",
       "      <td>A226069</td>\n",
       "      <td>Dog</td>\n",
       "      <td>Labrador Retriever/Beagle</td>\n",
       "      <td>Sable/White</td>\n",
       "      <td>Wheless Ln And Berkman Dr in Austin (TX)</td>\n",
       "      <td>Normal</td>\n",
       "      <td>Stray</td>\n",
       "      <td>Neutered Male</td>\n",
       "      <td>1</td>\n",
       "      <td>5475</td>\n",
       "      <td>15.000000</td>\n",
       "      <td>(12.5, 15.0]</td>\n",
       "      <td>2015-10-06 12:29:00</td>\n",
       "      <td>10</td>\n",
       "      <td>2015</td>\n",
       "      <td>2015-10</td>\n",
       "      <td>Tuesday</td>\n",
       "      <td>12</td>\n",
       "      <td>1.0</td>\n",
       "      <td>23 days 02:31:00.000000000</td>\n",
       "      <td>23.104861</td>\n",
       "      <td>Sable</td>\n",
       "      <td>1</td>\n",
       "      <td>White</td>\n",
       "      <td>1</td>\n",
       "      <td>1</td>\n",
       "      <td>1</td>\n",
       "      <td>Austin</td>\n",
       "      <td>30.271129</td>\n",
       "      <td>-97.74370</td>\n",
       "      <td>Austin</td>\n",
       "      <td>Labrador Retriever</td>\n",
       "      <td>1</td>\n",
       "      <td>1</td>\n",
       "      <td>Beagle</td>\n",
       "      <td>57.5</td>\n",
       "      <td>19.5</td>\n",
       "      <td>14.5</td>\n",
       "    </tr>\n",
       "    <tr>\n",
       "      <th>3</th>\n",
       "      <td>15 years</td>\n",
       "      <td>A249087</td>\n",
       "      <td>2001-01-02 00:00:00</td>\n",
       "      <td>Foster</td>\n",
       "      <td>Adoption</td>\n",
       "      <td>Spayed Female</td>\n",
       "      <td>5475</td>\n",
       "      <td>15.000000</td>\n",
       "      <td>(12.5, 15.0]</td>\n",
       "      <td>2016-11-15 10:37:00</td>\n",
       "      <td>11</td>\n",
       "      <td>2016</td>\n",
       "      <td>2016-11</td>\n",
       "      <td>Tuesday</td>\n",
       "      <td>10</td>\n",
       "      <td>1.0</td>\n",
       "      <td>2001</td>\n",
       "      <td>1</td>\n",
       "      <td>2016-11</td>\n",
       "      <td>15 years</td>\n",
       "      <td>A249087</td>\n",
       "      <td>Dog</td>\n",
       "      <td>German Shepherd Mix</td>\n",
       "      <td>Black/Brown</td>\n",
       "      <td>E 6Th St And Pedernales in Austin (TX)</td>\n",
       "      <td>Normal</td>\n",
       "      <td>Stray</td>\n",
       "      <td>Spayed Female</td>\n",
       "      <td>1</td>\n",
       "      <td>5475</td>\n",
       "      <td>15.000000</td>\n",
       "      <td>(12.5, 15.0]</td>\n",
       "      <td>2016-08-17 14:05:00</td>\n",
       "      <td>8</td>\n",
       "      <td>2016</td>\n",
       "      <td>2016-08</td>\n",
       "      <td>Wednesday</td>\n",
       "      <td>14</td>\n",
       "      <td>1.0</td>\n",
       "      <td>89 days 20:32:00.000000000</td>\n",
       "      <td>89.855556</td>\n",
       "      <td>Black</td>\n",
       "      <td>1</td>\n",
       "      <td>Brown</td>\n",
       "      <td>1</td>\n",
       "      <td>0</td>\n",
       "      <td>1</td>\n",
       "      <td>Austin</td>\n",
       "      <td>30.271129</td>\n",
       "      <td>-97.74370</td>\n",
       "      <td>Austin</td>\n",
       "      <td>German Shepherd Mix</td>\n",
       "      <td>0</td>\n",
       "      <td>1</td>\n",
       "      <td>NaN</td>\n",
       "      <td>90.0</td>\n",
       "      <td>26.0</td>\n",
       "      <td>13.0</td>\n",
       "    </tr>\n",
       "    <tr>\n",
       "      <th>4</th>\n",
       "      <td>11 years</td>\n",
       "      <td>A274546</td>\n",
       "      <td>2002-05-25 00:00:00</td>\n",
       "      <td>NaN</td>\n",
       "      <td>Adoption</td>\n",
       "      <td>Spayed Female</td>\n",
       "      <td>4015</td>\n",
       "      <td>11.000000</td>\n",
       "      <td>(10.0, 12.5]</td>\n",
       "      <td>2013-11-16 12:24:00</td>\n",
       "      <td>11</td>\n",
       "      <td>2013</td>\n",
       "      <td>2013-11</td>\n",
       "      <td>Saturday</td>\n",
       "      <td>12</td>\n",
       "      <td>1.0</td>\n",
       "      <td>2002</td>\n",
       "      <td>5</td>\n",
       "      <td>2013-11</td>\n",
       "      <td>11 years</td>\n",
       "      <td>A274546</td>\n",
       "      <td>Dog</td>\n",
       "      <td>Pointer Mix</td>\n",
       "      <td>Tricolor</td>\n",
       "      <td>Manchaca And Slaughter in Austin (TX)</td>\n",
       "      <td>Normal</td>\n",
       "      <td>Stray</td>\n",
       "      <td>Spayed Female</td>\n",
       "      <td>1</td>\n",
       "      <td>4015</td>\n",
       "      <td>11.000000</td>\n",
       "      <td>(10.0, 12.5]</td>\n",
       "      <td>2013-11-13 18:16:00</td>\n",
       "      <td>11</td>\n",
       "      <td>2013</td>\n",
       "      <td>2013-11</td>\n",
       "      <td>Wednesday</td>\n",
       "      <td>18</td>\n",
       "      <td>1.0</td>\n",
       "      <td>2 days 18:08:00.000000000</td>\n",
       "      <td>2.755556</td>\n",
       "      <td>Tricolor</td>\n",
       "      <td>0</td>\n",
       "      <td>NaN</td>\n",
       "      <td>1</td>\n",
       "      <td>0</td>\n",
       "      <td>1</td>\n",
       "      <td>Austin</td>\n",
       "      <td>30.271129</td>\n",
       "      <td>-97.74370</td>\n",
       "      <td>Austin</td>\n",
       "      <td>Pointer Mix</td>\n",
       "      <td>0</td>\n",
       "      <td>1</td>\n",
       "      <td>NaN</td>\n",
       "      <td>75.0</td>\n",
       "      <td>28.0</td>\n",
       "      <td>17.0</td>\n",
       "    </tr>\n",
       "    <tr>\n",
       "      <th>...</th>\n",
       "      <td>...</td>\n",
       "      <td>...</td>\n",
       "      <td>...</td>\n",
       "      <td>...</td>\n",
       "      <td>...</td>\n",
       "      <td>...</td>\n",
       "      <td>...</td>\n",
       "      <td>...</td>\n",
       "      <td>...</td>\n",
       "      <td>...</td>\n",
       "      <td>...</td>\n",
       "      <td>...</td>\n",
       "      <td>...</td>\n",
       "      <td>...</td>\n",
       "      <td>...</td>\n",
       "      <td>...</td>\n",
       "      <td>...</td>\n",
       "      <td>...</td>\n",
       "      <td>...</td>\n",
       "      <td>...</td>\n",
       "      <td>...</td>\n",
       "      <td>...</td>\n",
       "      <td>...</td>\n",
       "      <td>...</td>\n",
       "      <td>...</td>\n",
       "      <td>...</td>\n",
       "      <td>...</td>\n",
       "      <td>...</td>\n",
       "      <td>...</td>\n",
       "      <td>...</td>\n",
       "      <td>...</td>\n",
       "      <td>...</td>\n",
       "      <td>...</td>\n",
       "      <td>...</td>\n",
       "      <td>...</td>\n",
       "      <td>...</td>\n",
       "      <td>...</td>\n",
       "      <td>...</td>\n",
       "      <td>...</td>\n",
       "      <td>...</td>\n",
       "      <td>...</td>\n",
       "      <td>...</td>\n",
       "      <td>...</td>\n",
       "      <td>...</td>\n",
       "      <td>...</td>\n",
       "      <td>...</td>\n",
       "      <td>...</td>\n",
       "      <td>...</td>\n",
       "      <td>...</td>\n",
       "      <td>...</td>\n",
       "      <td>...</td>\n",
       "      <td>...</td>\n",
       "      <td>...</td>\n",
       "      <td>...</td>\n",
       "      <td>...</td>\n",
       "      <td>...</td>\n",
       "      <td>...</td>\n",
       "      <td>...</td>\n",
       "    </tr>\n",
       "    <tr>\n",
       "      <th>20576</th>\n",
       "      <td>7 years</td>\n",
       "      <td>A769012</td>\n",
       "      <td>2011-03-29 00:00:00</td>\n",
       "      <td>NaN</td>\n",
       "      <td>Adoption</td>\n",
       "      <td>Spayed Female</td>\n",
       "      <td>2555</td>\n",
       "      <td>7.000000</td>\n",
       "      <td>(5.0, 7.5]</td>\n",
       "      <td>2018-04-01 12:36:00</td>\n",
       "      <td>4</td>\n",
       "      <td>2018</td>\n",
       "      <td>2018-04</td>\n",
       "      <td>Sunday</td>\n",
       "      <td>12</td>\n",
       "      <td>1.0</td>\n",
       "      <td>2011</td>\n",
       "      <td>3</td>\n",
       "      <td>2018-04</td>\n",
       "      <td>7 years</td>\n",
       "      <td>A769012</td>\n",
       "      <td>Dog</td>\n",
       "      <td>Chihuahua Shorthair Mix</td>\n",
       "      <td>Tan</td>\n",
       "      <td>Springdale And Govalle in Austin (TX)</td>\n",
       "      <td>Normal</td>\n",
       "      <td>Stray</td>\n",
       "      <td>Spayed Female</td>\n",
       "      <td>1</td>\n",
       "      <td>2555</td>\n",
       "      <td>7.000000</td>\n",
       "      <td>(5.0, 7.5]</td>\n",
       "      <td>2018-03-28 17:48:00</td>\n",
       "      <td>3</td>\n",
       "      <td>2018</td>\n",
       "      <td>2018-03</td>\n",
       "      <td>Wednesday</td>\n",
       "      <td>17</td>\n",
       "      <td>1.0</td>\n",
       "      <td>3 days 18:48:00.000000000</td>\n",
       "      <td>3.783333</td>\n",
       "      <td>Tan</td>\n",
       "      <td>0</td>\n",
       "      <td>NaN</td>\n",
       "      <td>1</td>\n",
       "      <td>0</td>\n",
       "      <td>1</td>\n",
       "      <td>Austin</td>\n",
       "      <td>30.271129</td>\n",
       "      <td>-97.74370</td>\n",
       "      <td>Austin</td>\n",
       "      <td>Chihuahua Shorthair Mix</td>\n",
       "      <td>0</td>\n",
       "      <td>1</td>\n",
       "      <td>NaN</td>\n",
       "      <td>6.0</td>\n",
       "      <td>8.0</td>\n",
       "      <td>16.0</td>\n",
       "    </tr>\n",
       "    <tr>\n",
       "      <th>20577</th>\n",
       "      <td>2 months</td>\n",
       "      <td>A769014</td>\n",
       "      <td>2018-01-28 00:00:00</td>\n",
       "      <td>NaN</td>\n",
       "      <td>Adoption</td>\n",
       "      <td>Neutered Male</td>\n",
       "      <td>60</td>\n",
       "      <td>0.164384</td>\n",
       "      <td>(-0.025, 2.5]</td>\n",
       "      <td>2018-04-02 19:05:00</td>\n",
       "      <td>4</td>\n",
       "      <td>2018</td>\n",
       "      <td>2018-04</td>\n",
       "      <td>Monday</td>\n",
       "      <td>19</td>\n",
       "      <td>1.0</td>\n",
       "      <td>2018</td>\n",
       "      <td>1</td>\n",
       "      <td>2018-04</td>\n",
       "      <td>1 month</td>\n",
       "      <td>A769014</td>\n",
       "      <td>Dog</td>\n",
       "      <td>Pit Bull Mix</td>\n",
       "      <td>Black/White</td>\n",
       "      <td>1044 Norwood Park Boulevard in Austin (TX)</td>\n",
       "      <td>Normal</td>\n",
       "      <td>Stray</td>\n",
       "      <td>Intact Male</td>\n",
       "      <td>1</td>\n",
       "      <td>30</td>\n",
       "      <td>0.082192</td>\n",
       "      <td>(-0.025, 2.5]</td>\n",
       "      <td>2018-03-28 18:08:00</td>\n",
       "      <td>3</td>\n",
       "      <td>2018</td>\n",
       "      <td>2018-03</td>\n",
       "      <td>Wednesday</td>\n",
       "      <td>18</td>\n",
       "      <td>1.0</td>\n",
       "      <td>5 days 00:57:00.000000000</td>\n",
       "      <td>5.039583</td>\n",
       "      <td>Black</td>\n",
       "      <td>1</td>\n",
       "      <td>White</td>\n",
       "      <td>1</td>\n",
       "      <td>1</td>\n",
       "      <td>1</td>\n",
       "      <td>Austin</td>\n",
       "      <td>30.271129</td>\n",
       "      <td>-97.74370</td>\n",
       "      <td>Austin</td>\n",
       "      <td>Pit Bull Mix</td>\n",
       "      <td>0</td>\n",
       "      <td>1</td>\n",
       "      <td>NaN</td>\n",
       "      <td>60.0</td>\n",
       "      <td>21.0</td>\n",
       "      <td>15.0</td>\n",
       "    </tr>\n",
       "    <tr>\n",
       "      <th>20578</th>\n",
       "      <td>2 months</td>\n",
       "      <td>A769020</td>\n",
       "      <td>2018-01-18 00:00:00</td>\n",
       "      <td>NaN</td>\n",
       "      <td>Adoption</td>\n",
       "      <td>Neutered Male</td>\n",
       "      <td>60</td>\n",
       "      <td>0.164384</td>\n",
       "      <td>(-0.025, 2.5]</td>\n",
       "      <td>2018-04-01 17:27:00</td>\n",
       "      <td>4</td>\n",
       "      <td>2018</td>\n",
       "      <td>2018-04</td>\n",
       "      <td>Sunday</td>\n",
       "      <td>17</td>\n",
       "      <td>1.0</td>\n",
       "      <td>2018</td>\n",
       "      <td>1</td>\n",
       "      <td>2018-04</td>\n",
       "      <td>2 months</td>\n",
       "      <td>A769020</td>\n",
       "      <td>Dog</td>\n",
       "      <td>German Shepherd</td>\n",
       "      <td>Black/Tan</td>\n",
       "      <td>Austin (TX)</td>\n",
       "      <td>Normal</td>\n",
       "      <td>Stray</td>\n",
       "      <td>Intact Male</td>\n",
       "      <td>1</td>\n",
       "      <td>60</td>\n",
       "      <td>0.164384</td>\n",
       "      <td>(-0.025, 2.5]</td>\n",
       "      <td>2018-03-28 18:51:00</td>\n",
       "      <td>3</td>\n",
       "      <td>2018</td>\n",
       "      <td>2018-03</td>\n",
       "      <td>Wednesday</td>\n",
       "      <td>18</td>\n",
       "      <td>1.0</td>\n",
       "      <td>3 days 22:36:00.000000000</td>\n",
       "      <td>3.941667</td>\n",
       "      <td>Black</td>\n",
       "      <td>1</td>\n",
       "      <td>Tan</td>\n",
       "      <td>1</td>\n",
       "      <td>1</td>\n",
       "      <td>1</td>\n",
       "      <td>Austin</td>\n",
       "      <td>30.271129</td>\n",
       "      <td>-97.74370</td>\n",
       "      <td>Austin</td>\n",
       "      <td>German Shepherd</td>\n",
       "      <td>0</td>\n",
       "      <td>0</td>\n",
       "      <td>NaN</td>\n",
       "      <td>90.0</td>\n",
       "      <td>26.0</td>\n",
       "      <td>13.0</td>\n",
       "    </tr>\n",
       "    <tr>\n",
       "      <th>20579</th>\n",
       "      <td>1 year</td>\n",
       "      <td>A769034</td>\n",
       "      <td>2017-03-29 00:00:00</td>\n",
       "      <td>NaN</td>\n",
       "      <td>Adoption</td>\n",
       "      <td>Spayed Female</td>\n",
       "      <td>365</td>\n",
       "      <td>1.000000</td>\n",
       "      <td>(-0.025, 2.5]</td>\n",
       "      <td>2018-04-03 15:23:00</td>\n",
       "      <td>4</td>\n",
       "      <td>2018</td>\n",
       "      <td>2018-04</td>\n",
       "      <td>Tuesday</td>\n",
       "      <td>15</td>\n",
       "      <td>1.0</td>\n",
       "      <td>2017</td>\n",
       "      <td>3</td>\n",
       "      <td>2018-04</td>\n",
       "      <td>1 year</td>\n",
       "      <td>A769034</td>\n",
       "      <td>Dog</td>\n",
       "      <td>Labrador Retriever/German Shepherd</td>\n",
       "      <td>Black/White</td>\n",
       "      <td>Alpine Drive And Vevey Drive in Del Valle (TX)</td>\n",
       "      <td>Normal</td>\n",
       "      <td>Stray</td>\n",
       "      <td>Spayed Female</td>\n",
       "      <td>1</td>\n",
       "      <td>365</td>\n",
       "      <td>1.000000</td>\n",
       "      <td>(-0.025, 2.5]</td>\n",
       "      <td>2018-03-29 11:44:00</td>\n",
       "      <td>3</td>\n",
       "      <td>2018</td>\n",
       "      <td>2018-03</td>\n",
       "      <td>Thursday</td>\n",
       "      <td>11</td>\n",
       "      <td>1.0</td>\n",
       "      <td>5 days 03:39:00.000000000</td>\n",
       "      <td>5.152083</td>\n",
       "      <td>Black</td>\n",
       "      <td>1</td>\n",
       "      <td>White</td>\n",
       "      <td>1</td>\n",
       "      <td>0</td>\n",
       "      <td>1</td>\n",
       "      <td>Del Valle</td>\n",
       "      <td>23.269927</td>\n",
       "      <td>-106.38944</td>\n",
       "      <td>South</td>\n",
       "      <td>Labrador Retriever</td>\n",
       "      <td>1</td>\n",
       "      <td>1</td>\n",
       "      <td>German Shepherd</td>\n",
       "      <td>85.0</td>\n",
       "      <td>25.0</td>\n",
       "      <td>13.0</td>\n",
       "    </tr>\n",
       "    <tr>\n",
       "      <th>20580</th>\n",
       "      <td>1 year</td>\n",
       "      <td>A769036</td>\n",
       "      <td>2017-03-29 00:00:00</td>\n",
       "      <td>NaN</td>\n",
       "      <td>Adoption</td>\n",
       "      <td>Spayed Female</td>\n",
       "      <td>365</td>\n",
       "      <td>1.000000</td>\n",
       "      <td>(-0.025, 2.5]</td>\n",
       "      <td>2018-03-31 18:26:00</td>\n",
       "      <td>3</td>\n",
       "      <td>2018</td>\n",
       "      <td>2018-03</td>\n",
       "      <td>Saturday</td>\n",
       "      <td>18</td>\n",
       "      <td>1.0</td>\n",
       "      <td>2017</td>\n",
       "      <td>3</td>\n",
       "      <td>2018-03</td>\n",
       "      <td>1 year</td>\n",
       "      <td>A769036</td>\n",
       "      <td>Dog</td>\n",
       "      <td>Labrador Retriever/German Shepherd</td>\n",
       "      <td>Black/Tan</td>\n",
       "      <td>Alpine Drive And Vevey Drive in Del Valle (TX)</td>\n",
       "      <td>Normal</td>\n",
       "      <td>Stray</td>\n",
       "      <td>Spayed Female</td>\n",
       "      <td>1</td>\n",
       "      <td>365</td>\n",
       "      <td>1.000000</td>\n",
       "      <td>(-0.025, 2.5]</td>\n",
       "      <td>2018-03-29 11:44:00</td>\n",
       "      <td>3</td>\n",
       "      <td>2018</td>\n",
       "      <td>2018-03</td>\n",
       "      <td>Thursday</td>\n",
       "      <td>11</td>\n",
       "      <td>1.0</td>\n",
       "      <td>2 days 06:42:00.000000000</td>\n",
       "      <td>2.279167</td>\n",
       "      <td>Black</td>\n",
       "      <td>1</td>\n",
       "      <td>Tan</td>\n",
       "      <td>1</td>\n",
       "      <td>0</td>\n",
       "      <td>1</td>\n",
       "      <td>Del Valle</td>\n",
       "      <td>23.269927</td>\n",
       "      <td>-106.38944</td>\n",
       "      <td>South</td>\n",
       "      <td>Labrador Retriever</td>\n",
       "      <td>1</td>\n",
       "      <td>1</td>\n",
       "      <td>German Shepherd</td>\n",
       "      <td>85.0</td>\n",
       "      <td>25.0</td>\n",
       "      <td>13.0</td>\n",
       "    </tr>\n",
       "  </tbody>\n",
       "</table>\n",
       "<p>20432 rows × 58 columns</p>\n",
       "</div>"
      ],
      "text/plain": [
       "      age_upon_outcome animal_id_outcome        date_of_birth outcome_subtype  \\\n",
       "0             16 years           A200922  1997-10-03 00:00:00          Foster   \n",
       "1             17 years           A210457  1999-06-01 00:00:00          Foster   \n",
       "2             15 years           A226069  2000-06-17 00:00:00          Foster   \n",
       "3             15 years           A249087  2001-01-02 00:00:00          Foster   \n",
       "4             11 years           A274546  2002-05-25 00:00:00             NaN   \n",
       "...                ...               ...                  ...             ...   \n",
       "20576          7 years           A769012  2011-03-29 00:00:00             NaN   \n",
       "20577         2 months           A769014  2018-01-28 00:00:00             NaN   \n",
       "20578         2 months           A769020  2018-01-18 00:00:00             NaN   \n",
       "20579           1 year           A769034  2017-03-29 00:00:00             NaN   \n",
       "20580           1 year           A769036  2017-03-29 00:00:00             NaN   \n",
       "\n",
       "      outcome_type sex_upon_outcome  age_upon_outcome_(days)  \\\n",
       "0         Adoption    Neutered Male                     5840   \n",
       "1         Adoption    Neutered Male                     6205   \n",
       "2         Adoption    Neutered Male                     5475   \n",
       "3         Adoption    Spayed Female                     5475   \n",
       "4         Adoption    Spayed Female                     4015   \n",
       "...            ...              ...                      ...   \n",
       "20576     Adoption    Spayed Female                     2555   \n",
       "20577     Adoption    Neutered Male                       60   \n",
       "20578     Adoption    Neutered Male                       60   \n",
       "20579     Adoption    Spayed Female                      365   \n",
       "20580     Adoption    Spayed Female                      365   \n",
       "\n",
       "       age_upon_outcome_(years) age_upon_outcome_age_group  \\\n",
       "0                     16.000000               (15.0, 17.5]   \n",
       "1                     17.000000               (15.0, 17.5]   \n",
       "2                     15.000000               (12.5, 15.0]   \n",
       "3                     15.000000               (12.5, 15.0]   \n",
       "4                     11.000000               (10.0, 12.5]   \n",
       "...                         ...                        ...   \n",
       "20576                  7.000000                 (5.0, 7.5]   \n",
       "20577                  0.164384              (-0.025, 2.5]   \n",
       "20578                  0.164384              (-0.025, 2.5]   \n",
       "20579                  1.000000              (-0.025, 2.5]   \n",
       "20580                  1.000000              (-0.025, 2.5]   \n",
       "\n",
       "          outcome_datetime  outcome_month  outcome_year outcome_monthyear  \\\n",
       "0      2013-11-22 09:44:00             11          2013           2013-11   \n",
       "1      2016-10-07 12:34:00             10          2016           2016-10   \n",
       "2      2015-10-29 15:00:00             10          2015           2015-10   \n",
       "3      2016-11-15 10:37:00             11          2016           2016-11   \n",
       "4      2013-11-16 12:24:00             11          2013           2013-11   \n",
       "...                    ...            ...           ...               ...   \n",
       "20576  2018-04-01 12:36:00              4          2018           2018-04   \n",
       "20577  2018-04-02 19:05:00              4          2018           2018-04   \n",
       "20578  2018-04-01 17:27:00              4          2018           2018-04   \n",
       "20579  2018-04-03 15:23:00              4          2018           2018-04   \n",
       "20580  2018-03-31 18:26:00              3          2018           2018-03   \n",
       "\n",
       "      outcome_weekday  outcome_hour  outcome_number  dob_year  dob_month  \\\n",
       "0              Friday             9             1.0      1997         10   \n",
       "1              Friday            12             1.0      1999          6   \n",
       "2            Thursday            15             1.0      2000          6   \n",
       "3             Tuesday            10             1.0      2001          1   \n",
       "4            Saturday            12             1.0      2002          5   \n",
       "...               ...           ...             ...       ...        ...   \n",
       "20576          Sunday            12             1.0      2011          3   \n",
       "20577          Monday            19             1.0      2018          1   \n",
       "20578          Sunday            17             1.0      2018          1   \n",
       "20579         Tuesday            15             1.0      2017          3   \n",
       "20580        Saturday            18             1.0      2017          3   \n",
       "\n",
       "      dob_monthyear age_upon_intake animal_id_intake animal_type  \\\n",
       "0           2013-11        16 years          A200922         Dog   \n",
       "1           2016-10        17 years          A210457         Dog   \n",
       "2           2015-10        15 years          A226069         Dog   \n",
       "3           2016-11        15 years          A249087         Dog   \n",
       "4           2013-11        11 years          A274546         Dog   \n",
       "...             ...             ...              ...         ...   \n",
       "20576       2018-04         7 years          A769012         Dog   \n",
       "20577       2018-04         1 month          A769014         Dog   \n",
       "20578       2018-04        2 months          A769020         Dog   \n",
       "20579       2018-04          1 year          A769034         Dog   \n",
       "20580       2018-03          1 year          A769036         Dog   \n",
       "\n",
       "                                    breed        color  \\\n",
       "0                           Dachshund Mix    Black/Tan   \n",
       "1                     Chihuahua Shorthair    Tan/Black   \n",
       "2               Labrador Retriever/Beagle  Sable/White   \n",
       "3                     German Shepherd Mix  Black/Brown   \n",
       "4                             Pointer Mix     Tricolor   \n",
       "...                                   ...          ...   \n",
       "20576             Chihuahua Shorthair Mix          Tan   \n",
       "20577                        Pit Bull Mix  Black/White   \n",
       "20578                     German Shepherd    Black/Tan   \n",
       "20579  Labrador Retriever/German Shepherd  Black/White   \n",
       "20580  Labrador Retriever/German Shepherd    Black/Tan   \n",
       "\n",
       "                                       found_location intake_condition  \\\n",
       "0                                         Austin (TX)           Normal   \n",
       "1                    4424 S Mopac #412 in Austin (TX)             Aged   \n",
       "2            Wheless Ln And Berkman Dr in Austin (TX)           Normal   \n",
       "3              E 6Th St And Pedernales in Austin (TX)           Normal   \n",
       "4               Manchaca And Slaughter in Austin (TX)           Normal   \n",
       "...                                               ...              ...   \n",
       "20576           Springdale And Govalle in Austin (TX)           Normal   \n",
       "20577      1044 Norwood Park Boulevard in Austin (TX)           Normal   \n",
       "20578                                     Austin (TX)           Normal   \n",
       "20579  Alpine Drive And Vevey Drive in Del Valle (TX)           Normal   \n",
       "20580  Alpine Drive And Vevey Drive in Del Valle (TX)           Normal   \n",
       "\n",
       "           intake_type sex_upon_intake  count  age_upon_intake_days  \\\n",
       "0      Owner Surrender   Neutered Male      1                  5840   \n",
       "1        Public Assist   Neutered Male      1                  6205   \n",
       "2                Stray   Neutered Male      1                  5475   \n",
       "3                Stray   Spayed Female      1                  5475   \n",
       "4                Stray   Spayed Female      1                  4015   \n",
       "...                ...             ...    ...                   ...   \n",
       "20576            Stray   Spayed Female      1                  2555   \n",
       "20577            Stray     Intact Male      1                    30   \n",
       "20578            Stray     Intact Male      1                    60   \n",
       "20579            Stray   Spayed Female      1                   365   \n",
       "20580            Stray   Spayed Female      1                   365   \n",
       "\n",
       "       age_upon_intake_tears age_upon_intake_age_group      intake_datetime  \\\n",
       "0                  16.000000              (15.0, 17.5]  2013-10-03 15:47:00   \n",
       "1                  17.000000              (15.0, 17.5]  2016-09-28 12:05:00   \n",
       "2                  15.000000              (12.5, 15.0]  2015-10-06 12:29:00   \n",
       "3                  15.000000              (12.5, 15.0]  2016-08-17 14:05:00   \n",
       "4                  11.000000              (10.0, 12.5]  2013-11-13 18:16:00   \n",
       "...                      ...                       ...                  ...   \n",
       "20576               7.000000                (5.0, 7.5]  2018-03-28 17:48:00   \n",
       "20577               0.082192             (-0.025, 2.5]  2018-03-28 18:08:00   \n",
       "20578               0.164384             (-0.025, 2.5]  2018-03-28 18:51:00   \n",
       "20579               1.000000             (-0.025, 2.5]  2018-03-29 11:44:00   \n",
       "20580               1.000000             (-0.025, 2.5]  2018-03-29 11:44:00   \n",
       "\n",
       "       intake_month  intake_year intake_monthyear intake_weekday  intake_hour  \\\n",
       "0                10         2013          2013-10       Thursday           15   \n",
       "1                 9         2016          2016-09      Wednesday           12   \n",
       "2                10         2015          2015-10        Tuesday           12   \n",
       "3                 8         2016          2016-08      Wednesday           14   \n",
       "4                11         2013          2013-11      Wednesday           18   \n",
       "...             ...          ...              ...            ...          ...   \n",
       "20576             3         2018          2018-03      Wednesday           17   \n",
       "20577             3         2018          2018-03      Wednesday           18   \n",
       "20578             3         2018          2018-03      Wednesday           18   \n",
       "20579             3         2018          2018-03       Thursday           11   \n",
       "20580             3         2018          2018-03       Thursday           11   \n",
       "\n",
       "       intake_number             time_in_shelter  time_in_shelter_days  \\\n",
       "0                1.0  49 days 17:57:00.000000000             49.747917   \n",
       "1                1.0   9 days 00:29:00.000000000              9.020139   \n",
       "2                1.0  23 days 02:31:00.000000000             23.104861   \n",
       "3                1.0  89 days 20:32:00.000000000             89.855556   \n",
       "4                1.0   2 days 18:08:00.000000000              2.755556   \n",
       "...              ...                         ...                   ...   \n",
       "20576            1.0   3 days 18:48:00.000000000              3.783333   \n",
       "20577            1.0   5 days 00:57:00.000000000              5.039583   \n",
       "20578            1.0   3 days 22:36:00.000000000              3.941667   \n",
       "20579            1.0   5 days 03:39:00.000000000              5.152083   \n",
       "20580            1.0   2 days 06:42:00.000000000              2.279167   \n",
       "\n",
       "         color1  has_second_color color2  is_dog  is_male  is_fixed  \\\n",
       "0         Black                 1    Tan       1        1         1   \n",
       "1           Tan                 1  Black       1        1         1   \n",
       "2         Sable                 1  White       1        1         1   \n",
       "3         Black                 1  Brown       1        0         1   \n",
       "4      Tricolor                 0    NaN       1        0         1   \n",
       "...         ...               ...    ...     ...      ...       ...   \n",
       "20576       Tan                 0    NaN       1        0         1   \n",
       "20577     Black                 1  White       1        1         1   \n",
       "20578     Black                 1    Tan       1        1         1   \n",
       "20579     Black                 1  White       1        0         1   \n",
       "20580     Black                 1    Tan       1        0         1   \n",
       "\n",
       "      found_city  found_lat  found_lon  region                   breed1  \\\n",
       "0         Austin  30.271129  -97.74370  Austin            Dachshund Mix   \n",
       "1         Austin  30.271129  -97.74370  Austin      Chihuahua Shorthair   \n",
       "2         Austin  30.271129  -97.74370  Austin       Labrador Retriever   \n",
       "3         Austin  30.271129  -97.74370  Austin      German Shepherd Mix   \n",
       "4         Austin  30.271129  -97.74370  Austin              Pointer Mix   \n",
       "...          ...        ...        ...     ...                      ...   \n",
       "20576     Austin  30.271129  -97.74370  Austin  Chihuahua Shorthair Mix   \n",
       "20577     Austin  30.271129  -97.74370  Austin             Pit Bull Mix   \n",
       "20578     Austin  30.271129  -97.74370  Austin          German Shepherd   \n",
       "20579  Del Valle  23.269927 -106.38944   South       Labrador Retriever   \n",
       "20580  Del Valle  23.269927 -106.38944   South       Labrador Retriever   \n",
       "\n",
       "       is_breed2  is_mix           breed2  max_weight  max_height  max_life  \n",
       "0              0       1              NaN        32.0         9.0      15.0  \n",
       "1              0       0              NaN         6.0         8.0      16.0  \n",
       "2              1       1           Beagle        57.5        19.5      14.5  \n",
       "3              0       1              NaN        90.0        26.0      13.0  \n",
       "4              0       1              NaN        75.0        28.0      17.0  \n",
       "...          ...     ...              ...         ...         ...       ...  \n",
       "20576          0       1              NaN         6.0         8.0      16.0  \n",
       "20577          0       1              NaN        60.0        21.0      15.0  \n",
       "20578          0       0              NaN        90.0        26.0      13.0  \n",
       "20579          1       1  German Shepherd        85.0        25.0      13.0  \n",
       "20580          1       1  German Shepherd        85.0        25.0      13.0  \n",
       "\n",
       "[20432 rows x 58 columns]"
      ]
     },
     "execution_count": 124,
     "metadata": {},
     "output_type": "execute_result"
    }
   ],
   "source": [
    "df=df[df.time_in_shelter_days<300]\n",
    "df"
   ]
  },
  {
   "cell_type": "code",
   "execution_count": 125,
   "metadata": {},
   "outputs": [],
   "source": [
    "df.date_of_birth=df.date_of_birth.apply(lambda x: x[:10])"
   ]
  },
  {
   "cell_type": "code",
   "execution_count": 126,
   "metadata": {},
   "outputs": [],
   "source": [
    "df['outcome_datetime']=pd.to_datetime(df['outcome_datetime'])\n",
    "df['intake_datetime']=pd.to_datetime(df['intake_datetime'])"
   ]
  },
  {
   "cell_type": "code",
   "execution_count": 127,
   "metadata": {},
   "outputs": [],
   "source": [
    "df['time_in_shelter'] = df['outcome_datetime'] - df['intake_datetime']"
   ]
  },
  {
   "cell_type": "code",
   "execution_count": 128,
   "metadata": {},
   "outputs": [],
   "source": [
    "df['outcome_month']=df.outcome_datetime.apply(lambda x: str(x)[5:7])\n",
    "df['outcome_year']=df.outcome_datetime.apply(lambda x: str(x)[:4])\n",
    "df['outcome_weekday']=df.outcome_datetime.dt.dayofweek"
   ]
  },
  {
   "cell_type": "code",
   "execution_count": 129,
   "metadata": {},
   "outputs": [],
   "source": [
    "df['outcome_weekday']=df.outcome_datetime.dt.dayofweek"
   ]
  },
  {
   "cell_type": "code",
   "execution_count": 130,
   "metadata": {},
   "outputs": [],
   "source": [
    "df['intake_month']=df.intake_datetime.apply(lambda x: int(str(x)[5:7]))\n",
    "df['intake_year']=df.intake_datetime.apply(lambda x: int(str(x)[:4]))\n",
    "df['animal_id_intake']=df.animal_id_intake.apply(lambda x: int(x[1:]))\n",
    "df['intake_weekday']=df.intake_datetime.dt.dayofweek"
   ]
  },
  {
   "cell_type": "code",
   "execution_count": 131,
   "metadata": {},
   "outputs": [
    {
     "data": {
      "application/vnd.plotly.v1+json": {
       "config": {
        "plotlyServerURL": "https://plot.ly"
       },
       "data": [
        {
         "alignmentgroup": "True",
         "hovertemplate": "variable=intake_month<br>Months=%{x}<br>Amounts=%{y}<extra></extra>",
         "legendgroup": "intake_month",
         "marker": {
          "color": "#a8e6cf"
         },
         "name": "intake_month",
         "offsetgroup": "intake_month",
         "orientation": "v",
         "showlegend": true,
         "textposition": "auto",
         "type": "bar",
         "x": [
          1,
          2,
          12,
          10,
          3,
          6,
          5,
          11,
          8,
          7,
          9,
          4
         ],
         "xaxis": "x",
         "y": [
          1972,
          1878,
          1875,
          1817,
          1804,
          1677,
          1663,
          1656,
          1600,
          1548,
          1494,
          1448
         ],
         "yaxis": "y"
        }
       ],
       "layout": {
        "barmode": "relative",
        "legend": {
         "title": {
          "text": "variable"
         },
         "tracegroupgap": 0
        },
        "plot_bgcolor": "#8c9da9",
        "showlegend": false,
        "template": {
         "data": {
          "bar": [
           {
            "error_x": {
             "color": "#2a3f5f"
            },
            "error_y": {
             "color": "#2a3f5f"
            },
            "marker": {
             "line": {
              "color": "#E5ECF6",
              "width": 0.5
             }
            },
            "type": "bar"
           }
          ],
          "barpolar": [
           {
            "marker": {
             "line": {
              "color": "#E5ECF6",
              "width": 0.5
             }
            },
            "type": "barpolar"
           }
          ],
          "carpet": [
           {
            "aaxis": {
             "endlinecolor": "#2a3f5f",
             "gridcolor": "white",
             "linecolor": "white",
             "minorgridcolor": "white",
             "startlinecolor": "#2a3f5f"
            },
            "baxis": {
             "endlinecolor": "#2a3f5f",
             "gridcolor": "white",
             "linecolor": "white",
             "minorgridcolor": "white",
             "startlinecolor": "#2a3f5f"
            },
            "type": "carpet"
           }
          ],
          "choropleth": [
           {
            "colorbar": {
             "outlinewidth": 0,
             "ticks": ""
            },
            "type": "choropleth"
           }
          ],
          "contour": [
           {
            "colorbar": {
             "outlinewidth": 0,
             "ticks": ""
            },
            "colorscale": [
             [
              0,
              "#0d0887"
             ],
             [
              0.1111111111111111,
              "#46039f"
             ],
             [
              0.2222222222222222,
              "#7201a8"
             ],
             [
              0.3333333333333333,
              "#9c179e"
             ],
             [
              0.4444444444444444,
              "#bd3786"
             ],
             [
              0.5555555555555556,
              "#d8576b"
             ],
             [
              0.6666666666666666,
              "#ed7953"
             ],
             [
              0.7777777777777778,
              "#fb9f3a"
             ],
             [
              0.8888888888888888,
              "#fdca26"
             ],
             [
              1,
              "#f0f921"
             ]
            ],
            "type": "contour"
           }
          ],
          "contourcarpet": [
           {
            "colorbar": {
             "outlinewidth": 0,
             "ticks": ""
            },
            "type": "contourcarpet"
           }
          ],
          "heatmap": [
           {
            "colorbar": {
             "outlinewidth": 0,
             "ticks": ""
            },
            "colorscale": [
             [
              0,
              "#0d0887"
             ],
             [
              0.1111111111111111,
              "#46039f"
             ],
             [
              0.2222222222222222,
              "#7201a8"
             ],
             [
              0.3333333333333333,
              "#9c179e"
             ],
             [
              0.4444444444444444,
              "#bd3786"
             ],
             [
              0.5555555555555556,
              "#d8576b"
             ],
             [
              0.6666666666666666,
              "#ed7953"
             ],
             [
              0.7777777777777778,
              "#fb9f3a"
             ],
             [
              0.8888888888888888,
              "#fdca26"
             ],
             [
              1,
              "#f0f921"
             ]
            ],
            "type": "heatmap"
           }
          ],
          "heatmapgl": [
           {
            "colorbar": {
             "outlinewidth": 0,
             "ticks": ""
            },
            "colorscale": [
             [
              0,
              "#0d0887"
             ],
             [
              0.1111111111111111,
              "#46039f"
             ],
             [
              0.2222222222222222,
              "#7201a8"
             ],
             [
              0.3333333333333333,
              "#9c179e"
             ],
             [
              0.4444444444444444,
              "#bd3786"
             ],
             [
              0.5555555555555556,
              "#d8576b"
             ],
             [
              0.6666666666666666,
              "#ed7953"
             ],
             [
              0.7777777777777778,
              "#fb9f3a"
             ],
             [
              0.8888888888888888,
              "#fdca26"
             ],
             [
              1,
              "#f0f921"
             ]
            ],
            "type": "heatmapgl"
           }
          ],
          "histogram": [
           {
            "marker": {
             "colorbar": {
              "outlinewidth": 0,
              "ticks": ""
             }
            },
            "type": "histogram"
           }
          ],
          "histogram2d": [
           {
            "colorbar": {
             "outlinewidth": 0,
             "ticks": ""
            },
            "colorscale": [
             [
              0,
              "#0d0887"
             ],
             [
              0.1111111111111111,
              "#46039f"
             ],
             [
              0.2222222222222222,
              "#7201a8"
             ],
             [
              0.3333333333333333,
              "#9c179e"
             ],
             [
              0.4444444444444444,
              "#bd3786"
             ],
             [
              0.5555555555555556,
              "#d8576b"
             ],
             [
              0.6666666666666666,
              "#ed7953"
             ],
             [
              0.7777777777777778,
              "#fb9f3a"
             ],
             [
              0.8888888888888888,
              "#fdca26"
             ],
             [
              1,
              "#f0f921"
             ]
            ],
            "type": "histogram2d"
           }
          ],
          "histogram2dcontour": [
           {
            "colorbar": {
             "outlinewidth": 0,
             "ticks": ""
            },
            "colorscale": [
             [
              0,
              "#0d0887"
             ],
             [
              0.1111111111111111,
              "#46039f"
             ],
             [
              0.2222222222222222,
              "#7201a8"
             ],
             [
              0.3333333333333333,
              "#9c179e"
             ],
             [
              0.4444444444444444,
              "#bd3786"
             ],
             [
              0.5555555555555556,
              "#d8576b"
             ],
             [
              0.6666666666666666,
              "#ed7953"
             ],
             [
              0.7777777777777778,
              "#fb9f3a"
             ],
             [
              0.8888888888888888,
              "#fdca26"
             ],
             [
              1,
              "#f0f921"
             ]
            ],
            "type": "histogram2dcontour"
           }
          ],
          "mesh3d": [
           {
            "colorbar": {
             "outlinewidth": 0,
             "ticks": ""
            },
            "type": "mesh3d"
           }
          ],
          "parcoords": [
           {
            "line": {
             "colorbar": {
              "outlinewidth": 0,
              "ticks": ""
             }
            },
            "type": "parcoords"
           }
          ],
          "pie": [
           {
            "automargin": true,
            "type": "pie"
           }
          ],
          "scatter": [
           {
            "marker": {
             "colorbar": {
              "outlinewidth": 0,
              "ticks": ""
             }
            },
            "type": "scatter"
           }
          ],
          "scatter3d": [
           {
            "line": {
             "colorbar": {
              "outlinewidth": 0,
              "ticks": ""
             }
            },
            "marker": {
             "colorbar": {
              "outlinewidth": 0,
              "ticks": ""
             }
            },
            "type": "scatter3d"
           }
          ],
          "scattercarpet": [
           {
            "marker": {
             "colorbar": {
              "outlinewidth": 0,
              "ticks": ""
             }
            },
            "type": "scattercarpet"
           }
          ],
          "scattergeo": [
           {
            "marker": {
             "colorbar": {
              "outlinewidth": 0,
              "ticks": ""
             }
            },
            "type": "scattergeo"
           }
          ],
          "scattergl": [
           {
            "marker": {
             "colorbar": {
              "outlinewidth": 0,
              "ticks": ""
             }
            },
            "type": "scattergl"
           }
          ],
          "scattermapbox": [
           {
            "marker": {
             "colorbar": {
              "outlinewidth": 0,
              "ticks": ""
             }
            },
            "type": "scattermapbox"
           }
          ],
          "scatterpolar": [
           {
            "marker": {
             "colorbar": {
              "outlinewidth": 0,
              "ticks": ""
             }
            },
            "type": "scatterpolar"
           }
          ],
          "scatterpolargl": [
           {
            "marker": {
             "colorbar": {
              "outlinewidth": 0,
              "ticks": ""
             }
            },
            "type": "scatterpolargl"
           }
          ],
          "scatterternary": [
           {
            "marker": {
             "colorbar": {
              "outlinewidth": 0,
              "ticks": ""
             }
            },
            "type": "scatterternary"
           }
          ],
          "surface": [
           {
            "colorbar": {
             "outlinewidth": 0,
             "ticks": ""
            },
            "colorscale": [
             [
              0,
              "#0d0887"
             ],
             [
              0.1111111111111111,
              "#46039f"
             ],
             [
              0.2222222222222222,
              "#7201a8"
             ],
             [
              0.3333333333333333,
              "#9c179e"
             ],
             [
              0.4444444444444444,
              "#bd3786"
             ],
             [
              0.5555555555555556,
              "#d8576b"
             ],
             [
              0.6666666666666666,
              "#ed7953"
             ],
             [
              0.7777777777777778,
              "#fb9f3a"
             ],
             [
              0.8888888888888888,
              "#fdca26"
             ],
             [
              1,
              "#f0f921"
             ]
            ],
            "type": "surface"
           }
          ],
          "table": [
           {
            "cells": {
             "fill": {
              "color": "#EBF0F8"
             },
             "line": {
              "color": "white"
             }
            },
            "header": {
             "fill": {
              "color": "#C8D4E3"
             },
             "line": {
              "color": "white"
             }
            },
            "type": "table"
           }
          ]
         },
         "layout": {
          "annotationdefaults": {
           "arrowcolor": "#2a3f5f",
           "arrowhead": 0,
           "arrowwidth": 1
          },
          "coloraxis": {
           "colorbar": {
            "outlinewidth": 0,
            "ticks": ""
           }
          },
          "colorscale": {
           "diverging": [
            [
             0,
             "#8e0152"
            ],
            [
             0.1,
             "#c51b7d"
            ],
            [
             0.2,
             "#de77ae"
            ],
            [
             0.3,
             "#f1b6da"
            ],
            [
             0.4,
             "#fde0ef"
            ],
            [
             0.5,
             "#f7f7f7"
            ],
            [
             0.6,
             "#e6f5d0"
            ],
            [
             0.7,
             "#b8e186"
            ],
            [
             0.8,
             "#7fbc41"
            ],
            [
             0.9,
             "#4d9221"
            ],
            [
             1,
             "#276419"
            ]
           ],
           "sequential": [
            [
             0,
             "#0d0887"
            ],
            [
             0.1111111111111111,
             "#46039f"
            ],
            [
             0.2222222222222222,
             "#7201a8"
            ],
            [
             0.3333333333333333,
             "#9c179e"
            ],
            [
             0.4444444444444444,
             "#bd3786"
            ],
            [
             0.5555555555555556,
             "#d8576b"
            ],
            [
             0.6666666666666666,
             "#ed7953"
            ],
            [
             0.7777777777777778,
             "#fb9f3a"
            ],
            [
             0.8888888888888888,
             "#fdca26"
            ],
            [
             1,
             "#f0f921"
            ]
           ],
           "sequentialminus": [
            [
             0,
             "#0d0887"
            ],
            [
             0.1111111111111111,
             "#46039f"
            ],
            [
             0.2222222222222222,
             "#7201a8"
            ],
            [
             0.3333333333333333,
             "#9c179e"
            ],
            [
             0.4444444444444444,
             "#bd3786"
            ],
            [
             0.5555555555555556,
             "#d8576b"
            ],
            [
             0.6666666666666666,
             "#ed7953"
            ],
            [
             0.7777777777777778,
             "#fb9f3a"
            ],
            [
             0.8888888888888888,
             "#fdca26"
            ],
            [
             1,
             "#f0f921"
            ]
           ]
          },
          "colorway": [
           "#636efa",
           "#EF553B",
           "#00cc96",
           "#ab63fa",
           "#FFA15A",
           "#19d3f3",
           "#FF6692",
           "#B6E880",
           "#FF97FF",
           "#FECB52"
          ],
          "font": {
           "color": "#2a3f5f"
          },
          "geo": {
           "bgcolor": "white",
           "lakecolor": "white",
           "landcolor": "#E5ECF6",
           "showlakes": true,
           "showland": true,
           "subunitcolor": "white"
          },
          "hoverlabel": {
           "align": "left"
          },
          "hovermode": "closest",
          "mapbox": {
           "style": "light"
          },
          "paper_bgcolor": "white",
          "plot_bgcolor": "#E5ECF6",
          "polar": {
           "angularaxis": {
            "gridcolor": "white",
            "linecolor": "white",
            "ticks": ""
           },
           "bgcolor": "#E5ECF6",
           "radialaxis": {
            "gridcolor": "white",
            "linecolor": "white",
            "ticks": ""
           }
          },
          "scene": {
           "xaxis": {
            "backgroundcolor": "#E5ECF6",
            "gridcolor": "white",
            "gridwidth": 2,
            "linecolor": "white",
            "showbackground": true,
            "ticks": "",
            "zerolinecolor": "white"
           },
           "yaxis": {
            "backgroundcolor": "#E5ECF6",
            "gridcolor": "white",
            "gridwidth": 2,
            "linecolor": "white",
            "showbackground": true,
            "ticks": "",
            "zerolinecolor": "white"
           },
           "zaxis": {
            "backgroundcolor": "#E5ECF6",
            "gridcolor": "white",
            "gridwidth": 2,
            "linecolor": "white",
            "showbackground": true,
            "ticks": "",
            "zerolinecolor": "white"
           }
          },
          "shapedefaults": {
           "line": {
            "color": "#2a3f5f"
           }
          },
          "ternary": {
           "aaxis": {
            "gridcolor": "white",
            "linecolor": "white",
            "ticks": ""
           },
           "baxis": {
            "gridcolor": "white",
            "linecolor": "white",
            "ticks": ""
           },
           "bgcolor": "#E5ECF6",
           "caxis": {
            "gridcolor": "white",
            "linecolor": "white",
            "ticks": ""
           }
          },
          "title": {
           "x": 0.05
          },
          "xaxis": {
           "automargin": true,
           "gridcolor": "white",
           "linecolor": "white",
           "ticks": "",
           "title": {
            "standoff": 15
           },
           "zerolinecolor": "white",
           "zerolinewidth": 2
          },
          "yaxis": {
           "automargin": true,
           "gridcolor": "white",
           "linecolor": "white",
           "ticks": "",
           "title": {
            "standoff": 15
           },
           "zerolinecolor": "white",
           "zerolinewidth": 2
          }
         }
        },
        "title": {
         "text": "Amount of intakes per month"
        },
        "xaxis": {
         "anchor": "y",
         "domain": [
          0,
          1
         ],
         "ticktext": [
          "January",
          "February",
          "March",
          "April",
          "May",
          "June",
          "July",
          "August",
          "September",
          "October",
          "November",
          "December"
         ],
         "tickvals": [
          1,
          2,
          3,
          4,
          5,
          6,
          7,
          8,
          9,
          10,
          11,
          12
         ],
         "title": {
          "text": "Months"
         }
        },
        "yaxis": {
         "anchor": "x",
         "domain": [
          0,
          1
         ],
         "title": {
          "text": "Amounts"
         }
        }
       }
      },
      "text/html": [
       "<div>                            <div id=\"6069e82a-54df-4bf1-9dbe-d1a532bdbb70\" class=\"plotly-graph-div\" style=\"height:525px; width:100%;\"></div>            <script type=\"text/javascript\">                require([\"plotly\"], function(Plotly) {                    window.PLOTLYENV=window.PLOTLYENV || {};                                    if (document.getElementById(\"6069e82a-54df-4bf1-9dbe-d1a532bdbb70\")) {                    Plotly.newPlot(                        \"6069e82a-54df-4bf1-9dbe-d1a532bdbb70\",                        [{\"alignmentgroup\": \"True\", \"hovertemplate\": \"variable=intake_month<br>Months=%{x}<br>Amounts=%{y}<extra></extra>\", \"legendgroup\": \"intake_month\", \"marker\": {\"color\": \"#a8e6cf\"}, \"name\": \"intake_month\", \"offsetgroup\": \"intake_month\", \"orientation\": \"v\", \"showlegend\": true, \"textposition\": \"auto\", \"type\": \"bar\", \"x\": [1, 2, 12, 10, 3, 6, 5, 11, 8, 7, 9, 4], \"xaxis\": \"x\", \"y\": [1972, 1878, 1875, 1817, 1804, 1677, 1663, 1656, 1600, 1548, 1494, 1448], \"yaxis\": \"y\"}],                        {\"barmode\": \"relative\", \"legend\": {\"title\": {\"text\": \"variable\"}, \"tracegroupgap\": 0}, \"plot_bgcolor\": \"#8c9da9\", \"showlegend\": false, \"template\": {\"data\": {\"bar\": [{\"error_x\": {\"color\": \"#2a3f5f\"}, \"error_y\": {\"color\": \"#2a3f5f\"}, \"marker\": {\"line\": {\"color\": \"#E5ECF6\", \"width\": 0.5}}, \"type\": \"bar\"}], \"barpolar\": [{\"marker\": {\"line\": {\"color\": \"#E5ECF6\", \"width\": 0.5}}, \"type\": \"barpolar\"}], \"carpet\": [{\"aaxis\": {\"endlinecolor\": \"#2a3f5f\", \"gridcolor\": \"white\", \"linecolor\": \"white\", \"minorgridcolor\": \"white\", \"startlinecolor\": \"#2a3f5f\"}, \"baxis\": {\"endlinecolor\": \"#2a3f5f\", \"gridcolor\": \"white\", \"linecolor\": \"white\", \"minorgridcolor\": \"white\", \"startlinecolor\": \"#2a3f5f\"}, \"type\": \"carpet\"}], \"choropleth\": [{\"colorbar\": {\"outlinewidth\": 0, \"ticks\": \"\"}, \"type\": \"choropleth\"}], \"contour\": [{\"colorbar\": {\"outlinewidth\": 0, \"ticks\": \"\"}, \"colorscale\": [[0.0, \"#0d0887\"], [0.1111111111111111, \"#46039f\"], [0.2222222222222222, \"#7201a8\"], [0.3333333333333333, \"#9c179e\"], [0.4444444444444444, \"#bd3786\"], [0.5555555555555556, \"#d8576b\"], [0.6666666666666666, \"#ed7953\"], [0.7777777777777778, \"#fb9f3a\"], [0.8888888888888888, \"#fdca26\"], [1.0, \"#f0f921\"]], \"type\": \"contour\"}], \"contourcarpet\": [{\"colorbar\": {\"outlinewidth\": 0, \"ticks\": \"\"}, \"type\": \"contourcarpet\"}], \"heatmap\": [{\"colorbar\": {\"outlinewidth\": 0, \"ticks\": \"\"}, \"colorscale\": [[0.0, \"#0d0887\"], [0.1111111111111111, \"#46039f\"], [0.2222222222222222, \"#7201a8\"], [0.3333333333333333, \"#9c179e\"], [0.4444444444444444, \"#bd3786\"], [0.5555555555555556, \"#d8576b\"], [0.6666666666666666, \"#ed7953\"], [0.7777777777777778, \"#fb9f3a\"], [0.8888888888888888, \"#fdca26\"], [1.0, \"#f0f921\"]], \"type\": \"heatmap\"}], \"heatmapgl\": [{\"colorbar\": {\"outlinewidth\": 0, \"ticks\": \"\"}, \"colorscale\": [[0.0, \"#0d0887\"], [0.1111111111111111, \"#46039f\"], [0.2222222222222222, \"#7201a8\"], [0.3333333333333333, \"#9c179e\"], [0.4444444444444444, \"#bd3786\"], [0.5555555555555556, \"#d8576b\"], [0.6666666666666666, \"#ed7953\"], [0.7777777777777778, \"#fb9f3a\"], [0.8888888888888888, \"#fdca26\"], [1.0, \"#f0f921\"]], \"type\": \"heatmapgl\"}], \"histogram\": [{\"marker\": {\"colorbar\": {\"outlinewidth\": 0, \"ticks\": \"\"}}, \"type\": \"histogram\"}], \"histogram2d\": [{\"colorbar\": {\"outlinewidth\": 0, \"ticks\": \"\"}, \"colorscale\": [[0.0, \"#0d0887\"], [0.1111111111111111, \"#46039f\"], [0.2222222222222222, \"#7201a8\"], [0.3333333333333333, \"#9c179e\"], [0.4444444444444444, \"#bd3786\"], [0.5555555555555556, \"#d8576b\"], [0.6666666666666666, \"#ed7953\"], [0.7777777777777778, \"#fb9f3a\"], [0.8888888888888888, \"#fdca26\"], [1.0, \"#f0f921\"]], \"type\": \"histogram2d\"}], \"histogram2dcontour\": [{\"colorbar\": {\"outlinewidth\": 0, \"ticks\": \"\"}, \"colorscale\": [[0.0, \"#0d0887\"], [0.1111111111111111, \"#46039f\"], [0.2222222222222222, \"#7201a8\"], [0.3333333333333333, \"#9c179e\"], [0.4444444444444444, \"#bd3786\"], [0.5555555555555556, \"#d8576b\"], [0.6666666666666666, \"#ed7953\"], [0.7777777777777778, \"#fb9f3a\"], [0.8888888888888888, \"#fdca26\"], [1.0, \"#f0f921\"]], \"type\": \"histogram2dcontour\"}], \"mesh3d\": [{\"colorbar\": {\"outlinewidth\": 0, \"ticks\": \"\"}, \"type\": \"mesh3d\"}], \"parcoords\": [{\"line\": {\"colorbar\": {\"outlinewidth\": 0, \"ticks\": \"\"}}, \"type\": \"parcoords\"}], \"pie\": [{\"automargin\": true, \"type\": \"pie\"}], \"scatter\": [{\"marker\": {\"colorbar\": {\"outlinewidth\": 0, \"ticks\": \"\"}}, \"type\": \"scatter\"}], \"scatter3d\": [{\"line\": {\"colorbar\": {\"outlinewidth\": 0, \"ticks\": \"\"}}, \"marker\": {\"colorbar\": {\"outlinewidth\": 0, \"ticks\": \"\"}}, \"type\": \"scatter3d\"}], \"scattercarpet\": [{\"marker\": {\"colorbar\": {\"outlinewidth\": 0, \"ticks\": \"\"}}, \"type\": \"scattercarpet\"}], \"scattergeo\": [{\"marker\": {\"colorbar\": {\"outlinewidth\": 0, \"ticks\": \"\"}}, \"type\": \"scattergeo\"}], \"scattergl\": [{\"marker\": {\"colorbar\": {\"outlinewidth\": 0, \"ticks\": \"\"}}, \"type\": \"scattergl\"}], \"scattermapbox\": [{\"marker\": {\"colorbar\": {\"outlinewidth\": 0, \"ticks\": \"\"}}, \"type\": \"scattermapbox\"}], \"scatterpolar\": [{\"marker\": {\"colorbar\": {\"outlinewidth\": 0, \"ticks\": \"\"}}, \"type\": \"scatterpolar\"}], \"scatterpolargl\": [{\"marker\": {\"colorbar\": {\"outlinewidth\": 0, \"ticks\": \"\"}}, \"type\": \"scatterpolargl\"}], \"scatterternary\": [{\"marker\": {\"colorbar\": {\"outlinewidth\": 0, \"ticks\": \"\"}}, \"type\": \"scatterternary\"}], \"surface\": [{\"colorbar\": {\"outlinewidth\": 0, \"ticks\": \"\"}, \"colorscale\": [[0.0, \"#0d0887\"], [0.1111111111111111, \"#46039f\"], [0.2222222222222222, \"#7201a8\"], [0.3333333333333333, \"#9c179e\"], [0.4444444444444444, \"#bd3786\"], [0.5555555555555556, \"#d8576b\"], [0.6666666666666666, \"#ed7953\"], [0.7777777777777778, \"#fb9f3a\"], [0.8888888888888888, \"#fdca26\"], [1.0, \"#f0f921\"]], \"type\": \"surface\"}], \"table\": [{\"cells\": {\"fill\": {\"color\": \"#EBF0F8\"}, \"line\": {\"color\": \"white\"}}, \"header\": {\"fill\": {\"color\": \"#C8D4E3\"}, \"line\": {\"color\": \"white\"}}, \"type\": \"table\"}]}, \"layout\": {\"annotationdefaults\": {\"arrowcolor\": \"#2a3f5f\", \"arrowhead\": 0, \"arrowwidth\": 1}, \"coloraxis\": {\"colorbar\": {\"outlinewidth\": 0, \"ticks\": \"\"}}, \"colorscale\": {\"diverging\": [[0, \"#8e0152\"], [0.1, \"#c51b7d\"], [0.2, \"#de77ae\"], [0.3, \"#f1b6da\"], [0.4, \"#fde0ef\"], [0.5, \"#f7f7f7\"], [0.6, \"#e6f5d0\"], [0.7, \"#b8e186\"], [0.8, \"#7fbc41\"], [0.9, \"#4d9221\"], [1, \"#276419\"]], \"sequential\": [[0.0, \"#0d0887\"], [0.1111111111111111, \"#46039f\"], [0.2222222222222222, \"#7201a8\"], [0.3333333333333333, \"#9c179e\"], [0.4444444444444444, \"#bd3786\"], [0.5555555555555556, \"#d8576b\"], [0.6666666666666666, \"#ed7953\"], [0.7777777777777778, \"#fb9f3a\"], [0.8888888888888888, \"#fdca26\"], [1.0, \"#f0f921\"]], \"sequentialminus\": [[0.0, \"#0d0887\"], [0.1111111111111111, \"#46039f\"], [0.2222222222222222, \"#7201a8\"], [0.3333333333333333, \"#9c179e\"], [0.4444444444444444, \"#bd3786\"], [0.5555555555555556, \"#d8576b\"], [0.6666666666666666, \"#ed7953\"], [0.7777777777777778, \"#fb9f3a\"], [0.8888888888888888, \"#fdca26\"], [1.0, \"#f0f921\"]]}, \"colorway\": [\"#636efa\", \"#EF553B\", \"#00cc96\", \"#ab63fa\", \"#FFA15A\", \"#19d3f3\", \"#FF6692\", \"#B6E880\", \"#FF97FF\", \"#FECB52\"], \"font\": {\"color\": \"#2a3f5f\"}, \"geo\": {\"bgcolor\": \"white\", \"lakecolor\": \"white\", \"landcolor\": \"#E5ECF6\", \"showlakes\": true, \"showland\": true, \"subunitcolor\": \"white\"}, \"hoverlabel\": {\"align\": \"left\"}, \"hovermode\": \"closest\", \"mapbox\": {\"style\": \"light\"}, \"paper_bgcolor\": \"white\", \"plot_bgcolor\": \"#E5ECF6\", \"polar\": {\"angularaxis\": {\"gridcolor\": \"white\", \"linecolor\": \"white\", \"ticks\": \"\"}, \"bgcolor\": \"#E5ECF6\", \"radialaxis\": {\"gridcolor\": \"white\", \"linecolor\": \"white\", \"ticks\": \"\"}}, \"scene\": {\"xaxis\": {\"backgroundcolor\": \"#E5ECF6\", \"gridcolor\": \"white\", \"gridwidth\": 2, \"linecolor\": \"white\", \"showbackground\": true, \"ticks\": \"\", \"zerolinecolor\": \"white\"}, \"yaxis\": {\"backgroundcolor\": \"#E5ECF6\", \"gridcolor\": \"white\", \"gridwidth\": 2, \"linecolor\": \"white\", \"showbackground\": true, \"ticks\": \"\", \"zerolinecolor\": \"white\"}, \"zaxis\": {\"backgroundcolor\": \"#E5ECF6\", \"gridcolor\": \"white\", \"gridwidth\": 2, \"linecolor\": \"white\", \"showbackground\": true, \"ticks\": \"\", \"zerolinecolor\": \"white\"}}, \"shapedefaults\": {\"line\": {\"color\": \"#2a3f5f\"}}, \"ternary\": {\"aaxis\": {\"gridcolor\": \"white\", \"linecolor\": \"white\", \"ticks\": \"\"}, \"baxis\": {\"gridcolor\": \"white\", \"linecolor\": \"white\", \"ticks\": \"\"}, \"bgcolor\": \"#E5ECF6\", \"caxis\": {\"gridcolor\": \"white\", \"linecolor\": \"white\", \"ticks\": \"\"}}, \"title\": {\"x\": 0.05}, \"xaxis\": {\"automargin\": true, \"gridcolor\": \"white\", \"linecolor\": \"white\", \"ticks\": \"\", \"title\": {\"standoff\": 15}, \"zerolinecolor\": \"white\", \"zerolinewidth\": 2}, \"yaxis\": {\"automargin\": true, \"gridcolor\": \"white\", \"linecolor\": \"white\", \"ticks\": \"\", \"title\": {\"standoff\": 15}, \"zerolinecolor\": \"white\", \"zerolinewidth\": 2}}}, \"title\": {\"text\": \"Amount of intakes per month\"}, \"xaxis\": {\"anchor\": \"y\", \"domain\": [0.0, 1.0], \"ticktext\": [\"January\", \"February\", \"March\", \"April\", \"May\", \"June\", \"July\", \"August\", \"September\", \"October\", \"November\", \"December\"], \"tickvals\": [1, 2, 3, 4, 5, 6, 7, 8, 9, 10, 11, 12], \"title\": {\"text\": \"Months\"}}, \"yaxis\": {\"anchor\": \"x\", \"domain\": [0.0, 1.0], \"title\": {\"text\": \"Amounts\"}}},                        {\"responsive\": true}                    ).then(function(){\n",
       "                            \n",
       "var gd = document.getElementById('6069e82a-54df-4bf1-9dbe-d1a532bdbb70');\n",
       "var x = new MutationObserver(function (mutations, observer) {{\n",
       "        var display = window.getComputedStyle(gd).display;\n",
       "        if (!display || display === 'none') {{\n",
       "            console.log([gd, 'removed!']);\n",
       "            Plotly.purge(gd);\n",
       "            observer.disconnect();\n",
       "        }}\n",
       "}});\n",
       "\n",
       "// Listen for the removal of the full notebook cells\n",
       "var notebookContainer = gd.closest('#notebook-container');\n",
       "if (notebookContainer) {{\n",
       "    x.observe(notebookContainer, {childList: true});\n",
       "}}\n",
       "\n",
       "// Listen for the clearing of the current output cell\n",
       "var outputEl = gd.closest('.output');\n",
       "if (outputEl) {{\n",
       "    x.observe(outputEl, {childList: true});\n",
       "}}\n",
       "\n",
       "                        })                };                });            </script>        </div>"
      ]
     },
     "metadata": {},
     "output_type": "display_data"
    }
   ],
   "source": [
    "dt=df.intake_month.value_counts()\n",
    "fig=px.bar(dt, title=\"Amount of intakes per month\",labels={'index': 'Months','value':'Amounts'},color_discrete_sequence=['#a8e6cf'])\n",
    "fig.update_layout(\n",
    "    showlegend=False,\n",
    "    plot_bgcolor = '#8c9da9',\n",
    "    xaxis_tickvals=[1,2,3,4,5,6,7,8,9,10,11,12],\n",
    "    xaxis_ticktext=['January',\"February\",'March','April','May',\"June\",'July','August','September',\"October\",'November','December'],\n",
    "    )\n",
    "fig.show()"
   ]
  },
  {
   "cell_type": "code",
   "execution_count": 132,
   "metadata": {},
   "outputs": [],
   "source": [
    "condition=[\n",
    "    df['intake_condition'] == 'Aged',\n",
    "    df['intake_condition'] == 'Ferral',\n",
    "    df['intake_condition'] == 'Injured',\n",
    "    df['intake_condition'] == 'Normal',\n",
    "    df['intake_condition'] == 'Nursing',\n",
    "    df['intake_condition'] == 'Other',\n",
    "    df['intake_condition'] == 'Pregnant',\n",
    "    df['intake_condition'] == 'Sick'\n",
    "]\n",
    "choises=[\n",
    "    1,\n",
    "    0,\n",
    "    0,\n",
    "    1,\n",
    "    1,\n",
    "    1,\n",
    "    1,\n",
    "    0\n",
    "]\n",
    "df['health']=np.select(condition,choises)"
   ]
  },
  {
   "cell_type": "code",
   "execution_count": 133,
   "metadata": {},
   "outputs": [],
   "source": [
    "def unique_breed_dic (dictionary,column):\n",
    "    df=dictionary.copy()\n",
    "    df.reset_index(drop=True,inplace=True)\n",
    "    \n",
    "    list_of_breeds=[]\n",
    "    for i in range(len(df[column])):\n",
    "        if df[column][i].find('/')==-1:\n",
    "            list_of_breeds.append([df[column][i]])\n",
    "        else:\n",
    "            list_of_breeds.append(df[column][i].split('/'))\n",
    "        \n",
    "    list_of_breeds=[val for sublist in list_of_breeds for val in sublist]\n",
    "    \n",
    "    dup_list=[]\n",
    "    uniqe_list=[]\n",
    "\n",
    "\n",
    "    for i in list_of_breeds:\n",
    "        dup_list.append(i)\n",
    "    unique_list=list(set(dup_list))\n",
    "\n",
    "\n",
    "    for i in list_of_breeds:\n",
    "        dup_list.append(i)\n",
    "    unique_list=list(set(dup_list))\n",
    "    final_dic={}\n",
    "    for company in unique_list:\n",
    "        final_dic[company]=0\n",
    "\n",
    "    for company in dup_list:\n",
    "        final_dic[company]=final_dic[company]+1\n",
    "    return final_dic"
   ]
  },
  {
   "cell_type": "code",
   "execution_count": 134,
   "metadata": {
    "scrolled": true
   },
   "outputs": [],
   "source": [
    "brown=['Brown Brindle','Red','Liver','Brown','Tan','Ruddy','Chocolate','Brown Tiger','Sable']\n",
    "spotted=[\"Yellow Brindle\",'Blue Merle','Black Tiger','Red Merle', 'Liver Tick','Agouti','Blue Tick','Black Brindle','Fawn','Brown Merle','Red Tick']\n",
    "mustard=['Buff','Orange','Apricot']\n",
    "other=['Tricolor','Pink','Blue']\n",
    "white=['Silver','Cream','White']\n",
    "black=['Black','Black Smoke','Gray','Blue Tiger']\n",
    "gold=['Gold','Yellow', 'Blue Cream',]"
   ]
  },
  {
   "cell_type": "code",
   "execution_count": 135,
   "metadata": {},
   "outputs": [],
   "source": [
    "def color_bin (dfcol):\n",
    "    for i in range(len(brown)):\n",
    "        if dfcol[0]== brown[i]:\n",
    "            return 1\n",
    "\n",
    "    for i in range(len(spotted)):\n",
    "        if dfcol[0]== spotted[i]:\n",
    "            return 2\n",
    "\n",
    "    for i in range(len(mustard)):\n",
    "        if dfcol[0]== mustard[i]:\n",
    "            return 3\n",
    "\n",
    "    for i in range(len(other)):\n",
    "        if dfcol[0]== other[i]:\n",
    "            return 4\n",
    "\n",
    "    for i in range(len(white)):\n",
    "        if dfcol[0]== white[i]:\n",
    "            return 5\n",
    "\n",
    "    for i in range(len(black)):\n",
    "        if dfcol[0]== black[i]:\n",
    "            return 6\n",
    "\n",
    "    for i in range(len(gold)):\n",
    "        if dfcol[0]== gold[i]:\n",
    "            return 7"
   ]
  },
  {
   "cell_type": "code",
   "execution_count": 136,
   "metadata": {},
   "outputs": [],
   "source": [
    "conditions=[\n",
    "    (df.intake_type=='Owner Surrender')|(df.intake_type=='Euthanasia Request')\n",
    "]\n",
    "choises=[\n",
    "    1\n",
    "]\n",
    "\n",
    "df['was_owned']=np.select(conditions,choises,default=0)"
   ]
  },
  {
   "cell_type": "code",
   "execution_count": 138,
   "metadata": {},
   "outputs": [],
   "source": [
    "df['color_bin']=df.color.map(lambda x: color_bin(x))"
   ]
  },
  {
   "cell_type": "code",
   "execution_count": 139,
   "metadata": {
    "scrolled": true
   },
   "outputs": [
    {
     "name": "stdout",
     "output_type": "stream",
     "text": [
      "CPU times: user 24.9 s, sys: 301 ms, total: 25.2 s\n",
      "Wall time: 25 s\n"
     ]
    }
   ],
   "source": [
    "%%time\n",
    "def season_of_date(date):\n",
    "    year = str(date.year)\n",
    "    seasons = {'Spring': pd.date_range(start='21/03/'+year, end='20/06/'+year),\n",
    "               'Summer': pd.date_range(start='21/06/'+year, end='22/09/'+year),\n",
    "               'Fall': pd.date_range(start='23/09/'+year, end='20/12/'+year)}\n",
    "    if date.date() in seasons['Spring']:\n",
    "        return 1\n",
    "    if date.date() in seasons['Summer']:\n",
    "        return 2\n",
    "    if date.date() in seasons['Fall']:\n",
    "        return 3\n",
    "    else:\n",
    "        return 4\n",
    "df['season'] = df.intake_datetime.map(season_of_date)"
   ]
  },
  {
   "cell_type": "code",
   "execution_count": 140,
   "metadata": {},
   "outputs": [],
   "source": [
    "df['time_in_shelter']=df.time_in_shelter.apply(lambda x: int(str(x)[:2]))\n",
    "df['intake_datetime']=df.intake_datetime.apply(lambda x: str(str(x)[:10]))\n",
    "df['age_upon_intake']=df.age_upon_intake.apply(lambda x: int(x[:2]))\n",
    "df['age_upon_intake_age_group']=df.age_upon_intake_age_group.apply(lambda x: list(map(float,x.strip('(]').split(','))))\n",
    "df['color']=df.color.apply(lambda x: x.strip('/').split('/'))\n",
    "df.age_upon_intake_age_group=df.age_upon_intake_age_group.apply(lambda x: int(sum(x)/2))\n",
    "df.reset_index(drop=True,inplace=True)"
   ]
  },
  {
   "cell_type": "code",
   "execution_count": 142,
   "metadata": {},
   "outputs": [],
   "source": [
    "#df=pd.get_dummies(df, columns=['intake_month'])"
   ]
  },
  {
   "cell_type": "code",
   "execution_count": 143,
   "metadata": {
    "scrolled": false
   },
   "outputs": [
    {
     "data": {
      "application/vnd.plotly.v1+json": {
       "config": {
        "plotlyServerURL": "https://plot.ly"
       },
       "data": [
        {
         "alignmentgroup": "True",
         "hovertemplate": "variable=intake_weekday<br>Months=%{x}<br>Amounts=%{y}<extra></extra>",
         "legendgroup": "intake_weekday",
         "marker": {
          "color": "#FF847C"
         },
         "name": "intake_weekday",
         "offsetgroup": "intake_weekday",
         "orientation": "v",
         "showlegend": true,
         "textposition": "auto",
         "type": "bar",
         "x": [
          2,
          5,
          0,
          1,
          3,
          4,
          6
         ],
         "xaxis": "x",
         "y": [
          3138,
          3101,
          2930,
          2905,
          2879,
          2845,
          2634
         ],
         "yaxis": "y"
        }
       ],
       "layout": {
        "barmode": "relative",
        "legend": {
         "title": {
          "text": "variable"
         },
         "tracegroupgap": 0
        },
        "plot_bgcolor": "#6C5B7B",
        "showlegend": false,
        "template": {
         "data": {
          "bar": [
           {
            "error_x": {
             "color": "#2a3f5f"
            },
            "error_y": {
             "color": "#2a3f5f"
            },
            "marker": {
             "line": {
              "color": "#E5ECF6",
              "width": 0.5
             }
            },
            "type": "bar"
           }
          ],
          "barpolar": [
           {
            "marker": {
             "line": {
              "color": "#E5ECF6",
              "width": 0.5
             }
            },
            "type": "barpolar"
           }
          ],
          "carpet": [
           {
            "aaxis": {
             "endlinecolor": "#2a3f5f",
             "gridcolor": "white",
             "linecolor": "white",
             "minorgridcolor": "white",
             "startlinecolor": "#2a3f5f"
            },
            "baxis": {
             "endlinecolor": "#2a3f5f",
             "gridcolor": "white",
             "linecolor": "white",
             "minorgridcolor": "white",
             "startlinecolor": "#2a3f5f"
            },
            "type": "carpet"
           }
          ],
          "choropleth": [
           {
            "colorbar": {
             "outlinewidth": 0,
             "ticks": ""
            },
            "type": "choropleth"
           }
          ],
          "contour": [
           {
            "colorbar": {
             "outlinewidth": 0,
             "ticks": ""
            },
            "colorscale": [
             [
              0,
              "#0d0887"
             ],
             [
              0.1111111111111111,
              "#46039f"
             ],
             [
              0.2222222222222222,
              "#7201a8"
             ],
             [
              0.3333333333333333,
              "#9c179e"
             ],
             [
              0.4444444444444444,
              "#bd3786"
             ],
             [
              0.5555555555555556,
              "#d8576b"
             ],
             [
              0.6666666666666666,
              "#ed7953"
             ],
             [
              0.7777777777777778,
              "#fb9f3a"
             ],
             [
              0.8888888888888888,
              "#fdca26"
             ],
             [
              1,
              "#f0f921"
             ]
            ],
            "type": "contour"
           }
          ],
          "contourcarpet": [
           {
            "colorbar": {
             "outlinewidth": 0,
             "ticks": ""
            },
            "type": "contourcarpet"
           }
          ],
          "heatmap": [
           {
            "colorbar": {
             "outlinewidth": 0,
             "ticks": ""
            },
            "colorscale": [
             [
              0,
              "#0d0887"
             ],
             [
              0.1111111111111111,
              "#46039f"
             ],
             [
              0.2222222222222222,
              "#7201a8"
             ],
             [
              0.3333333333333333,
              "#9c179e"
             ],
             [
              0.4444444444444444,
              "#bd3786"
             ],
             [
              0.5555555555555556,
              "#d8576b"
             ],
             [
              0.6666666666666666,
              "#ed7953"
             ],
             [
              0.7777777777777778,
              "#fb9f3a"
             ],
             [
              0.8888888888888888,
              "#fdca26"
             ],
             [
              1,
              "#f0f921"
             ]
            ],
            "type": "heatmap"
           }
          ],
          "heatmapgl": [
           {
            "colorbar": {
             "outlinewidth": 0,
             "ticks": ""
            },
            "colorscale": [
             [
              0,
              "#0d0887"
             ],
             [
              0.1111111111111111,
              "#46039f"
             ],
             [
              0.2222222222222222,
              "#7201a8"
             ],
             [
              0.3333333333333333,
              "#9c179e"
             ],
             [
              0.4444444444444444,
              "#bd3786"
             ],
             [
              0.5555555555555556,
              "#d8576b"
             ],
             [
              0.6666666666666666,
              "#ed7953"
             ],
             [
              0.7777777777777778,
              "#fb9f3a"
             ],
             [
              0.8888888888888888,
              "#fdca26"
             ],
             [
              1,
              "#f0f921"
             ]
            ],
            "type": "heatmapgl"
           }
          ],
          "histogram": [
           {
            "marker": {
             "colorbar": {
              "outlinewidth": 0,
              "ticks": ""
             }
            },
            "type": "histogram"
           }
          ],
          "histogram2d": [
           {
            "colorbar": {
             "outlinewidth": 0,
             "ticks": ""
            },
            "colorscale": [
             [
              0,
              "#0d0887"
             ],
             [
              0.1111111111111111,
              "#46039f"
             ],
             [
              0.2222222222222222,
              "#7201a8"
             ],
             [
              0.3333333333333333,
              "#9c179e"
             ],
             [
              0.4444444444444444,
              "#bd3786"
             ],
             [
              0.5555555555555556,
              "#d8576b"
             ],
             [
              0.6666666666666666,
              "#ed7953"
             ],
             [
              0.7777777777777778,
              "#fb9f3a"
             ],
             [
              0.8888888888888888,
              "#fdca26"
             ],
             [
              1,
              "#f0f921"
             ]
            ],
            "type": "histogram2d"
           }
          ],
          "histogram2dcontour": [
           {
            "colorbar": {
             "outlinewidth": 0,
             "ticks": ""
            },
            "colorscale": [
             [
              0,
              "#0d0887"
             ],
             [
              0.1111111111111111,
              "#46039f"
             ],
             [
              0.2222222222222222,
              "#7201a8"
             ],
             [
              0.3333333333333333,
              "#9c179e"
             ],
             [
              0.4444444444444444,
              "#bd3786"
             ],
             [
              0.5555555555555556,
              "#d8576b"
             ],
             [
              0.6666666666666666,
              "#ed7953"
             ],
             [
              0.7777777777777778,
              "#fb9f3a"
             ],
             [
              0.8888888888888888,
              "#fdca26"
             ],
             [
              1,
              "#f0f921"
             ]
            ],
            "type": "histogram2dcontour"
           }
          ],
          "mesh3d": [
           {
            "colorbar": {
             "outlinewidth": 0,
             "ticks": ""
            },
            "type": "mesh3d"
           }
          ],
          "parcoords": [
           {
            "line": {
             "colorbar": {
              "outlinewidth": 0,
              "ticks": ""
             }
            },
            "type": "parcoords"
           }
          ],
          "pie": [
           {
            "automargin": true,
            "type": "pie"
           }
          ],
          "scatter": [
           {
            "marker": {
             "colorbar": {
              "outlinewidth": 0,
              "ticks": ""
             }
            },
            "type": "scatter"
           }
          ],
          "scatter3d": [
           {
            "line": {
             "colorbar": {
              "outlinewidth": 0,
              "ticks": ""
             }
            },
            "marker": {
             "colorbar": {
              "outlinewidth": 0,
              "ticks": ""
             }
            },
            "type": "scatter3d"
           }
          ],
          "scattercarpet": [
           {
            "marker": {
             "colorbar": {
              "outlinewidth": 0,
              "ticks": ""
             }
            },
            "type": "scattercarpet"
           }
          ],
          "scattergeo": [
           {
            "marker": {
             "colorbar": {
              "outlinewidth": 0,
              "ticks": ""
             }
            },
            "type": "scattergeo"
           }
          ],
          "scattergl": [
           {
            "marker": {
             "colorbar": {
              "outlinewidth": 0,
              "ticks": ""
             }
            },
            "type": "scattergl"
           }
          ],
          "scattermapbox": [
           {
            "marker": {
             "colorbar": {
              "outlinewidth": 0,
              "ticks": ""
             }
            },
            "type": "scattermapbox"
           }
          ],
          "scatterpolar": [
           {
            "marker": {
             "colorbar": {
              "outlinewidth": 0,
              "ticks": ""
             }
            },
            "type": "scatterpolar"
           }
          ],
          "scatterpolargl": [
           {
            "marker": {
             "colorbar": {
              "outlinewidth": 0,
              "ticks": ""
             }
            },
            "type": "scatterpolargl"
           }
          ],
          "scatterternary": [
           {
            "marker": {
             "colorbar": {
              "outlinewidth": 0,
              "ticks": ""
             }
            },
            "type": "scatterternary"
           }
          ],
          "surface": [
           {
            "colorbar": {
             "outlinewidth": 0,
             "ticks": ""
            },
            "colorscale": [
             [
              0,
              "#0d0887"
             ],
             [
              0.1111111111111111,
              "#46039f"
             ],
             [
              0.2222222222222222,
              "#7201a8"
             ],
             [
              0.3333333333333333,
              "#9c179e"
             ],
             [
              0.4444444444444444,
              "#bd3786"
             ],
             [
              0.5555555555555556,
              "#d8576b"
             ],
             [
              0.6666666666666666,
              "#ed7953"
             ],
             [
              0.7777777777777778,
              "#fb9f3a"
             ],
             [
              0.8888888888888888,
              "#fdca26"
             ],
             [
              1,
              "#f0f921"
             ]
            ],
            "type": "surface"
           }
          ],
          "table": [
           {
            "cells": {
             "fill": {
              "color": "#EBF0F8"
             },
             "line": {
              "color": "white"
             }
            },
            "header": {
             "fill": {
              "color": "#C8D4E3"
             },
             "line": {
              "color": "white"
             }
            },
            "type": "table"
           }
          ]
         },
         "layout": {
          "annotationdefaults": {
           "arrowcolor": "#2a3f5f",
           "arrowhead": 0,
           "arrowwidth": 1
          },
          "coloraxis": {
           "colorbar": {
            "outlinewidth": 0,
            "ticks": ""
           }
          },
          "colorscale": {
           "diverging": [
            [
             0,
             "#8e0152"
            ],
            [
             0.1,
             "#c51b7d"
            ],
            [
             0.2,
             "#de77ae"
            ],
            [
             0.3,
             "#f1b6da"
            ],
            [
             0.4,
             "#fde0ef"
            ],
            [
             0.5,
             "#f7f7f7"
            ],
            [
             0.6,
             "#e6f5d0"
            ],
            [
             0.7,
             "#b8e186"
            ],
            [
             0.8,
             "#7fbc41"
            ],
            [
             0.9,
             "#4d9221"
            ],
            [
             1,
             "#276419"
            ]
           ],
           "sequential": [
            [
             0,
             "#0d0887"
            ],
            [
             0.1111111111111111,
             "#46039f"
            ],
            [
             0.2222222222222222,
             "#7201a8"
            ],
            [
             0.3333333333333333,
             "#9c179e"
            ],
            [
             0.4444444444444444,
             "#bd3786"
            ],
            [
             0.5555555555555556,
             "#d8576b"
            ],
            [
             0.6666666666666666,
             "#ed7953"
            ],
            [
             0.7777777777777778,
             "#fb9f3a"
            ],
            [
             0.8888888888888888,
             "#fdca26"
            ],
            [
             1,
             "#f0f921"
            ]
           ],
           "sequentialminus": [
            [
             0,
             "#0d0887"
            ],
            [
             0.1111111111111111,
             "#46039f"
            ],
            [
             0.2222222222222222,
             "#7201a8"
            ],
            [
             0.3333333333333333,
             "#9c179e"
            ],
            [
             0.4444444444444444,
             "#bd3786"
            ],
            [
             0.5555555555555556,
             "#d8576b"
            ],
            [
             0.6666666666666666,
             "#ed7953"
            ],
            [
             0.7777777777777778,
             "#fb9f3a"
            ],
            [
             0.8888888888888888,
             "#fdca26"
            ],
            [
             1,
             "#f0f921"
            ]
           ]
          },
          "colorway": [
           "#636efa",
           "#EF553B",
           "#00cc96",
           "#ab63fa",
           "#FFA15A",
           "#19d3f3",
           "#FF6692",
           "#B6E880",
           "#FF97FF",
           "#FECB52"
          ],
          "font": {
           "color": "#2a3f5f"
          },
          "geo": {
           "bgcolor": "white",
           "lakecolor": "white",
           "landcolor": "#E5ECF6",
           "showlakes": true,
           "showland": true,
           "subunitcolor": "white"
          },
          "hoverlabel": {
           "align": "left"
          },
          "hovermode": "closest",
          "mapbox": {
           "style": "light"
          },
          "paper_bgcolor": "white",
          "plot_bgcolor": "#E5ECF6",
          "polar": {
           "angularaxis": {
            "gridcolor": "white",
            "linecolor": "white",
            "ticks": ""
           },
           "bgcolor": "#E5ECF6",
           "radialaxis": {
            "gridcolor": "white",
            "linecolor": "white",
            "ticks": ""
           }
          },
          "scene": {
           "xaxis": {
            "backgroundcolor": "#E5ECF6",
            "gridcolor": "white",
            "gridwidth": 2,
            "linecolor": "white",
            "showbackground": true,
            "ticks": "",
            "zerolinecolor": "white"
           },
           "yaxis": {
            "backgroundcolor": "#E5ECF6",
            "gridcolor": "white",
            "gridwidth": 2,
            "linecolor": "white",
            "showbackground": true,
            "ticks": "",
            "zerolinecolor": "white"
           },
           "zaxis": {
            "backgroundcolor": "#E5ECF6",
            "gridcolor": "white",
            "gridwidth": 2,
            "linecolor": "white",
            "showbackground": true,
            "ticks": "",
            "zerolinecolor": "white"
           }
          },
          "shapedefaults": {
           "line": {
            "color": "#2a3f5f"
           }
          },
          "ternary": {
           "aaxis": {
            "gridcolor": "white",
            "linecolor": "white",
            "ticks": ""
           },
           "baxis": {
            "gridcolor": "white",
            "linecolor": "white",
            "ticks": ""
           },
           "bgcolor": "#E5ECF6",
           "caxis": {
            "gridcolor": "white",
            "linecolor": "white",
            "ticks": ""
           }
          },
          "title": {
           "x": 0.05
          },
          "xaxis": {
           "automargin": true,
           "gridcolor": "white",
           "linecolor": "white",
           "ticks": "",
           "title": {
            "standoff": 15
           },
           "zerolinecolor": "white",
           "zerolinewidth": 2
          },
          "yaxis": {
           "automargin": true,
           "gridcolor": "white",
           "linecolor": "white",
           "ticks": "",
           "title": {
            "standoff": 15
           },
           "zerolinecolor": "white",
           "zerolinewidth": 2
          }
         }
        },
        "title": {
         "text": "Amount of intakes per Weekday"
        },
        "xaxis": {
         "anchor": "y",
         "domain": [
          0,
          1
         ],
         "tickfont": {
          "size": 14
         },
         "tickmode": "array",
         "ticktext": [
          "Sunday",
          "Monday",
          "Tuesday",
          "Wednesday",
          "Thursday",
          "Friday",
          "Saturday"
         ],
         "tickvals": [
          0,
          1,
          2,
          3,
          4,
          5,
          6
         ],
         "title": {
          "text": "Months"
         }
        },
        "yaxis": {
         "anchor": "x",
         "domain": [
          0,
          1
         ],
         "title": {
          "text": "Amounts"
         }
        }
       }
      },
      "text/html": [
       "<div>                            <div id=\"ed8ed602-b60f-400e-9f8f-f1d467e1c182\" class=\"plotly-graph-div\" style=\"height:525px; width:100%;\"></div>            <script type=\"text/javascript\">                require([\"plotly\"], function(Plotly) {                    window.PLOTLYENV=window.PLOTLYENV || {};                                    if (document.getElementById(\"ed8ed602-b60f-400e-9f8f-f1d467e1c182\")) {                    Plotly.newPlot(                        \"ed8ed602-b60f-400e-9f8f-f1d467e1c182\",                        [{\"alignmentgroup\": \"True\", \"hovertemplate\": \"variable=intake_weekday<br>Months=%{x}<br>Amounts=%{y}<extra></extra>\", \"legendgroup\": \"intake_weekday\", \"marker\": {\"color\": \"#FF847C\"}, \"name\": \"intake_weekday\", \"offsetgroup\": \"intake_weekday\", \"orientation\": \"v\", \"showlegend\": true, \"textposition\": \"auto\", \"type\": \"bar\", \"x\": [2, 5, 0, 1, 3, 4, 6], \"xaxis\": \"x\", \"y\": [3138, 3101, 2930, 2905, 2879, 2845, 2634], \"yaxis\": \"y\"}],                        {\"barmode\": \"relative\", \"legend\": {\"title\": {\"text\": \"variable\"}, \"tracegroupgap\": 0}, \"plot_bgcolor\": \"#6C5B7B\", \"showlegend\": false, \"template\": {\"data\": {\"bar\": [{\"error_x\": {\"color\": \"#2a3f5f\"}, \"error_y\": {\"color\": \"#2a3f5f\"}, \"marker\": {\"line\": {\"color\": \"#E5ECF6\", \"width\": 0.5}}, \"type\": \"bar\"}], \"barpolar\": [{\"marker\": {\"line\": {\"color\": \"#E5ECF6\", \"width\": 0.5}}, \"type\": \"barpolar\"}], \"carpet\": [{\"aaxis\": {\"endlinecolor\": \"#2a3f5f\", \"gridcolor\": \"white\", \"linecolor\": \"white\", \"minorgridcolor\": \"white\", \"startlinecolor\": \"#2a3f5f\"}, \"baxis\": {\"endlinecolor\": \"#2a3f5f\", \"gridcolor\": \"white\", \"linecolor\": \"white\", \"minorgridcolor\": \"white\", \"startlinecolor\": \"#2a3f5f\"}, \"type\": \"carpet\"}], \"choropleth\": [{\"colorbar\": {\"outlinewidth\": 0, \"ticks\": \"\"}, \"type\": \"choropleth\"}], \"contour\": [{\"colorbar\": {\"outlinewidth\": 0, \"ticks\": \"\"}, \"colorscale\": [[0.0, \"#0d0887\"], [0.1111111111111111, \"#46039f\"], [0.2222222222222222, \"#7201a8\"], [0.3333333333333333, \"#9c179e\"], [0.4444444444444444, \"#bd3786\"], [0.5555555555555556, \"#d8576b\"], [0.6666666666666666, \"#ed7953\"], [0.7777777777777778, \"#fb9f3a\"], [0.8888888888888888, \"#fdca26\"], [1.0, \"#f0f921\"]], \"type\": \"contour\"}], \"contourcarpet\": [{\"colorbar\": {\"outlinewidth\": 0, \"ticks\": \"\"}, \"type\": \"contourcarpet\"}], \"heatmap\": [{\"colorbar\": {\"outlinewidth\": 0, \"ticks\": \"\"}, \"colorscale\": [[0.0, \"#0d0887\"], [0.1111111111111111, \"#46039f\"], [0.2222222222222222, \"#7201a8\"], [0.3333333333333333, \"#9c179e\"], [0.4444444444444444, \"#bd3786\"], [0.5555555555555556, \"#d8576b\"], [0.6666666666666666, \"#ed7953\"], [0.7777777777777778, \"#fb9f3a\"], [0.8888888888888888, \"#fdca26\"], [1.0, \"#f0f921\"]], \"type\": \"heatmap\"}], \"heatmapgl\": [{\"colorbar\": {\"outlinewidth\": 0, \"ticks\": \"\"}, \"colorscale\": [[0.0, \"#0d0887\"], [0.1111111111111111, \"#46039f\"], [0.2222222222222222, \"#7201a8\"], [0.3333333333333333, \"#9c179e\"], [0.4444444444444444, \"#bd3786\"], [0.5555555555555556, \"#d8576b\"], [0.6666666666666666, \"#ed7953\"], [0.7777777777777778, \"#fb9f3a\"], [0.8888888888888888, \"#fdca26\"], [1.0, \"#f0f921\"]], \"type\": \"heatmapgl\"}], \"histogram\": [{\"marker\": {\"colorbar\": {\"outlinewidth\": 0, \"ticks\": \"\"}}, \"type\": \"histogram\"}], \"histogram2d\": [{\"colorbar\": {\"outlinewidth\": 0, \"ticks\": \"\"}, \"colorscale\": [[0.0, \"#0d0887\"], [0.1111111111111111, \"#46039f\"], [0.2222222222222222, \"#7201a8\"], [0.3333333333333333, \"#9c179e\"], [0.4444444444444444, \"#bd3786\"], [0.5555555555555556, \"#d8576b\"], [0.6666666666666666, \"#ed7953\"], [0.7777777777777778, \"#fb9f3a\"], [0.8888888888888888, \"#fdca26\"], [1.0, \"#f0f921\"]], \"type\": \"histogram2d\"}], \"histogram2dcontour\": [{\"colorbar\": {\"outlinewidth\": 0, \"ticks\": \"\"}, \"colorscale\": [[0.0, \"#0d0887\"], [0.1111111111111111, \"#46039f\"], [0.2222222222222222, \"#7201a8\"], [0.3333333333333333, \"#9c179e\"], [0.4444444444444444, \"#bd3786\"], [0.5555555555555556, \"#d8576b\"], [0.6666666666666666, \"#ed7953\"], [0.7777777777777778, \"#fb9f3a\"], [0.8888888888888888, \"#fdca26\"], [1.0, \"#f0f921\"]], \"type\": \"histogram2dcontour\"}], \"mesh3d\": [{\"colorbar\": {\"outlinewidth\": 0, \"ticks\": \"\"}, \"type\": \"mesh3d\"}], \"parcoords\": [{\"line\": {\"colorbar\": {\"outlinewidth\": 0, \"ticks\": \"\"}}, \"type\": \"parcoords\"}], \"pie\": [{\"automargin\": true, \"type\": \"pie\"}], \"scatter\": [{\"marker\": {\"colorbar\": {\"outlinewidth\": 0, \"ticks\": \"\"}}, \"type\": \"scatter\"}], \"scatter3d\": [{\"line\": {\"colorbar\": {\"outlinewidth\": 0, \"ticks\": \"\"}}, \"marker\": {\"colorbar\": {\"outlinewidth\": 0, \"ticks\": \"\"}}, \"type\": \"scatter3d\"}], \"scattercarpet\": [{\"marker\": {\"colorbar\": {\"outlinewidth\": 0, \"ticks\": \"\"}}, \"type\": \"scattercarpet\"}], \"scattergeo\": [{\"marker\": {\"colorbar\": {\"outlinewidth\": 0, \"ticks\": \"\"}}, \"type\": \"scattergeo\"}], \"scattergl\": [{\"marker\": {\"colorbar\": {\"outlinewidth\": 0, \"ticks\": \"\"}}, \"type\": \"scattergl\"}], \"scattermapbox\": [{\"marker\": {\"colorbar\": {\"outlinewidth\": 0, \"ticks\": \"\"}}, \"type\": \"scattermapbox\"}], \"scatterpolar\": [{\"marker\": {\"colorbar\": {\"outlinewidth\": 0, \"ticks\": \"\"}}, \"type\": \"scatterpolar\"}], \"scatterpolargl\": [{\"marker\": {\"colorbar\": {\"outlinewidth\": 0, \"ticks\": \"\"}}, \"type\": \"scatterpolargl\"}], \"scatterternary\": [{\"marker\": {\"colorbar\": {\"outlinewidth\": 0, \"ticks\": \"\"}}, \"type\": \"scatterternary\"}], \"surface\": [{\"colorbar\": {\"outlinewidth\": 0, \"ticks\": \"\"}, \"colorscale\": [[0.0, \"#0d0887\"], [0.1111111111111111, \"#46039f\"], [0.2222222222222222, \"#7201a8\"], [0.3333333333333333, \"#9c179e\"], [0.4444444444444444, \"#bd3786\"], [0.5555555555555556, \"#d8576b\"], [0.6666666666666666, \"#ed7953\"], [0.7777777777777778, \"#fb9f3a\"], [0.8888888888888888, \"#fdca26\"], [1.0, \"#f0f921\"]], \"type\": \"surface\"}], \"table\": [{\"cells\": {\"fill\": {\"color\": \"#EBF0F8\"}, \"line\": {\"color\": \"white\"}}, \"header\": {\"fill\": {\"color\": \"#C8D4E3\"}, \"line\": {\"color\": \"white\"}}, \"type\": \"table\"}]}, \"layout\": {\"annotationdefaults\": {\"arrowcolor\": \"#2a3f5f\", \"arrowhead\": 0, \"arrowwidth\": 1}, \"coloraxis\": {\"colorbar\": {\"outlinewidth\": 0, \"ticks\": \"\"}}, \"colorscale\": {\"diverging\": [[0, \"#8e0152\"], [0.1, \"#c51b7d\"], [0.2, \"#de77ae\"], [0.3, \"#f1b6da\"], [0.4, \"#fde0ef\"], [0.5, \"#f7f7f7\"], [0.6, \"#e6f5d0\"], [0.7, \"#b8e186\"], [0.8, \"#7fbc41\"], [0.9, \"#4d9221\"], [1, \"#276419\"]], \"sequential\": [[0.0, \"#0d0887\"], [0.1111111111111111, \"#46039f\"], [0.2222222222222222, \"#7201a8\"], [0.3333333333333333, \"#9c179e\"], [0.4444444444444444, \"#bd3786\"], [0.5555555555555556, \"#d8576b\"], [0.6666666666666666, \"#ed7953\"], [0.7777777777777778, \"#fb9f3a\"], [0.8888888888888888, \"#fdca26\"], [1.0, \"#f0f921\"]], \"sequentialminus\": [[0.0, \"#0d0887\"], [0.1111111111111111, \"#46039f\"], [0.2222222222222222, \"#7201a8\"], [0.3333333333333333, \"#9c179e\"], [0.4444444444444444, \"#bd3786\"], [0.5555555555555556, \"#d8576b\"], [0.6666666666666666, \"#ed7953\"], [0.7777777777777778, \"#fb9f3a\"], [0.8888888888888888, \"#fdca26\"], [1.0, \"#f0f921\"]]}, \"colorway\": [\"#636efa\", \"#EF553B\", \"#00cc96\", \"#ab63fa\", \"#FFA15A\", \"#19d3f3\", \"#FF6692\", \"#B6E880\", \"#FF97FF\", \"#FECB52\"], \"font\": {\"color\": \"#2a3f5f\"}, \"geo\": {\"bgcolor\": \"white\", \"lakecolor\": \"white\", \"landcolor\": \"#E5ECF6\", \"showlakes\": true, \"showland\": true, \"subunitcolor\": \"white\"}, \"hoverlabel\": {\"align\": \"left\"}, \"hovermode\": \"closest\", \"mapbox\": {\"style\": \"light\"}, \"paper_bgcolor\": \"white\", \"plot_bgcolor\": \"#E5ECF6\", \"polar\": {\"angularaxis\": {\"gridcolor\": \"white\", \"linecolor\": \"white\", \"ticks\": \"\"}, \"bgcolor\": \"#E5ECF6\", \"radialaxis\": {\"gridcolor\": \"white\", \"linecolor\": \"white\", \"ticks\": \"\"}}, \"scene\": {\"xaxis\": {\"backgroundcolor\": \"#E5ECF6\", \"gridcolor\": \"white\", \"gridwidth\": 2, \"linecolor\": \"white\", \"showbackground\": true, \"ticks\": \"\", \"zerolinecolor\": \"white\"}, \"yaxis\": {\"backgroundcolor\": \"#E5ECF6\", \"gridcolor\": \"white\", \"gridwidth\": 2, \"linecolor\": \"white\", \"showbackground\": true, \"ticks\": \"\", \"zerolinecolor\": \"white\"}, \"zaxis\": {\"backgroundcolor\": \"#E5ECF6\", \"gridcolor\": \"white\", \"gridwidth\": 2, \"linecolor\": \"white\", \"showbackground\": true, \"ticks\": \"\", \"zerolinecolor\": \"white\"}}, \"shapedefaults\": {\"line\": {\"color\": \"#2a3f5f\"}}, \"ternary\": {\"aaxis\": {\"gridcolor\": \"white\", \"linecolor\": \"white\", \"ticks\": \"\"}, \"baxis\": {\"gridcolor\": \"white\", \"linecolor\": \"white\", \"ticks\": \"\"}, \"bgcolor\": \"#E5ECF6\", \"caxis\": {\"gridcolor\": \"white\", \"linecolor\": \"white\", \"ticks\": \"\"}}, \"title\": {\"x\": 0.05}, \"xaxis\": {\"automargin\": true, \"gridcolor\": \"white\", \"linecolor\": \"white\", \"ticks\": \"\", \"title\": {\"standoff\": 15}, \"zerolinecolor\": \"white\", \"zerolinewidth\": 2}, \"yaxis\": {\"automargin\": true, \"gridcolor\": \"white\", \"linecolor\": \"white\", \"ticks\": \"\", \"title\": {\"standoff\": 15}, \"zerolinecolor\": \"white\", \"zerolinewidth\": 2}}}, \"title\": {\"text\": \"Amount of intakes per Weekday\"}, \"xaxis\": {\"anchor\": \"y\", \"domain\": [0.0, 1.0], \"tickfont\": {\"size\": 14}, \"tickmode\": \"array\", \"ticktext\": [\"Sunday\", \"Monday\", \"Tuesday\", \"Wednesday\", \"Thursday\", \"Friday\", \"Saturday\"], \"tickvals\": [0, 1, 2, 3, 4, 5, 6], \"title\": {\"text\": \"Months\"}}, \"yaxis\": {\"anchor\": \"x\", \"domain\": [0.0, 1.0], \"title\": {\"text\": \"Amounts\"}}},                        {\"responsive\": true}                    ).then(function(){\n",
       "                            \n",
       "var gd = document.getElementById('ed8ed602-b60f-400e-9f8f-f1d467e1c182');\n",
       "var x = new MutationObserver(function (mutations, observer) {{\n",
       "        var display = window.getComputedStyle(gd).display;\n",
       "        if (!display || display === 'none') {{\n",
       "            console.log([gd, 'removed!']);\n",
       "            Plotly.purge(gd);\n",
       "            observer.disconnect();\n",
       "        }}\n",
       "}});\n",
       "\n",
       "// Listen for the removal of the full notebook cells\n",
       "var notebookContainer = gd.closest('#notebook-container');\n",
       "if (notebookContainer) {{\n",
       "    x.observe(notebookContainer, {childList: true});\n",
       "}}\n",
       "\n",
       "// Listen for the clearing of the current output cell\n",
       "var outputEl = gd.closest('.output');\n",
       "if (outputEl) {{\n",
       "    x.observe(outputEl, {childList: true});\n",
       "}}\n",
       "\n",
       "                        })                };                });            </script>        </div>"
      ]
     },
     "metadata": {},
     "output_type": "display_data"
    }
   ],
   "source": [
    "data=df.intake_weekday.value_counts()\n",
    "fig=px.bar(data, title=\"Amount of intakes per Weekday\",labels={'index': 'Months','value':'Amounts'},color_discrete_sequence=['#FF847C'])\n",
    "fig.update_layout(\n",
    "    xaxis_tickfont_size=14,\n",
    "    xaxis_tickmode='array',\n",
    "    xaxis_tickvals=[0,1,2,3,4,5,6],\n",
    "    xaxis_ticktext=['Sunday','Monday','Tuesday','Wednesday','Thursday','Friday','Saturday'],\n",
    "    showlegend=False,\n",
    "    plot_bgcolor = '#6C5B7B',\n",
    "    )\n",
    "\n",
    "fig.show()"
   ]
  },
  {
   "cell_type": "code",
   "execution_count": 144,
   "metadata": {},
   "outputs": [
    {
     "data": {
      "application/vnd.plotly.v1+json": {
       "config": {
        "plotlyServerURL": "https://plot.ly"
       },
       "data": [
        {
         "alignmentgroup": "True",
         "hovertemplate": "variable=outcome_weekday<br>Months=%{x}<br>Amounts=%{y}<extra></extra>",
         "legendgroup": "outcome_weekday",
         "marker": {
          "color": "lightblue"
         },
         "name": "outcome_weekday",
         "offsetgroup": "outcome_weekday",
         "orientation": "v",
         "showlegend": true,
         "textposition": "auto",
         "type": "bar",
         "x": [
          6,
          5,
          0,
          1,
          4,
          2,
          3
         ],
         "xaxis": "x",
         "y": [
          4070,
          4068,
          2768,
          2531,
          2449,
          2290,
          2256
         ],
         "yaxis": "y"
        }
       ],
       "layout": {
        "barmode": "relative",
        "legend": {
         "title": {
          "text": "variable"
         },
         "tracegroupgap": 0
        },
        "plot_bgcolor": "#6C5B7B",
        "showlegend": false,
        "template": {
         "data": {
          "bar": [
           {
            "error_x": {
             "color": "#2a3f5f"
            },
            "error_y": {
             "color": "#2a3f5f"
            },
            "marker": {
             "line": {
              "color": "#E5ECF6",
              "width": 0.5
             }
            },
            "type": "bar"
           }
          ],
          "barpolar": [
           {
            "marker": {
             "line": {
              "color": "#E5ECF6",
              "width": 0.5
             }
            },
            "type": "barpolar"
           }
          ],
          "carpet": [
           {
            "aaxis": {
             "endlinecolor": "#2a3f5f",
             "gridcolor": "white",
             "linecolor": "white",
             "minorgridcolor": "white",
             "startlinecolor": "#2a3f5f"
            },
            "baxis": {
             "endlinecolor": "#2a3f5f",
             "gridcolor": "white",
             "linecolor": "white",
             "minorgridcolor": "white",
             "startlinecolor": "#2a3f5f"
            },
            "type": "carpet"
           }
          ],
          "choropleth": [
           {
            "colorbar": {
             "outlinewidth": 0,
             "ticks": ""
            },
            "type": "choropleth"
           }
          ],
          "contour": [
           {
            "colorbar": {
             "outlinewidth": 0,
             "ticks": ""
            },
            "colorscale": [
             [
              0,
              "#0d0887"
             ],
             [
              0.1111111111111111,
              "#46039f"
             ],
             [
              0.2222222222222222,
              "#7201a8"
             ],
             [
              0.3333333333333333,
              "#9c179e"
             ],
             [
              0.4444444444444444,
              "#bd3786"
             ],
             [
              0.5555555555555556,
              "#d8576b"
             ],
             [
              0.6666666666666666,
              "#ed7953"
             ],
             [
              0.7777777777777778,
              "#fb9f3a"
             ],
             [
              0.8888888888888888,
              "#fdca26"
             ],
             [
              1,
              "#f0f921"
             ]
            ],
            "type": "contour"
           }
          ],
          "contourcarpet": [
           {
            "colorbar": {
             "outlinewidth": 0,
             "ticks": ""
            },
            "type": "contourcarpet"
           }
          ],
          "heatmap": [
           {
            "colorbar": {
             "outlinewidth": 0,
             "ticks": ""
            },
            "colorscale": [
             [
              0,
              "#0d0887"
             ],
             [
              0.1111111111111111,
              "#46039f"
             ],
             [
              0.2222222222222222,
              "#7201a8"
             ],
             [
              0.3333333333333333,
              "#9c179e"
             ],
             [
              0.4444444444444444,
              "#bd3786"
             ],
             [
              0.5555555555555556,
              "#d8576b"
             ],
             [
              0.6666666666666666,
              "#ed7953"
             ],
             [
              0.7777777777777778,
              "#fb9f3a"
             ],
             [
              0.8888888888888888,
              "#fdca26"
             ],
             [
              1,
              "#f0f921"
             ]
            ],
            "type": "heatmap"
           }
          ],
          "heatmapgl": [
           {
            "colorbar": {
             "outlinewidth": 0,
             "ticks": ""
            },
            "colorscale": [
             [
              0,
              "#0d0887"
             ],
             [
              0.1111111111111111,
              "#46039f"
             ],
             [
              0.2222222222222222,
              "#7201a8"
             ],
             [
              0.3333333333333333,
              "#9c179e"
             ],
             [
              0.4444444444444444,
              "#bd3786"
             ],
             [
              0.5555555555555556,
              "#d8576b"
             ],
             [
              0.6666666666666666,
              "#ed7953"
             ],
             [
              0.7777777777777778,
              "#fb9f3a"
             ],
             [
              0.8888888888888888,
              "#fdca26"
             ],
             [
              1,
              "#f0f921"
             ]
            ],
            "type": "heatmapgl"
           }
          ],
          "histogram": [
           {
            "marker": {
             "colorbar": {
              "outlinewidth": 0,
              "ticks": ""
             }
            },
            "type": "histogram"
           }
          ],
          "histogram2d": [
           {
            "colorbar": {
             "outlinewidth": 0,
             "ticks": ""
            },
            "colorscale": [
             [
              0,
              "#0d0887"
             ],
             [
              0.1111111111111111,
              "#46039f"
             ],
             [
              0.2222222222222222,
              "#7201a8"
             ],
             [
              0.3333333333333333,
              "#9c179e"
             ],
             [
              0.4444444444444444,
              "#bd3786"
             ],
             [
              0.5555555555555556,
              "#d8576b"
             ],
             [
              0.6666666666666666,
              "#ed7953"
             ],
             [
              0.7777777777777778,
              "#fb9f3a"
             ],
             [
              0.8888888888888888,
              "#fdca26"
             ],
             [
              1,
              "#f0f921"
             ]
            ],
            "type": "histogram2d"
           }
          ],
          "histogram2dcontour": [
           {
            "colorbar": {
             "outlinewidth": 0,
             "ticks": ""
            },
            "colorscale": [
             [
              0,
              "#0d0887"
             ],
             [
              0.1111111111111111,
              "#46039f"
             ],
             [
              0.2222222222222222,
              "#7201a8"
             ],
             [
              0.3333333333333333,
              "#9c179e"
             ],
             [
              0.4444444444444444,
              "#bd3786"
             ],
             [
              0.5555555555555556,
              "#d8576b"
             ],
             [
              0.6666666666666666,
              "#ed7953"
             ],
             [
              0.7777777777777778,
              "#fb9f3a"
             ],
             [
              0.8888888888888888,
              "#fdca26"
             ],
             [
              1,
              "#f0f921"
             ]
            ],
            "type": "histogram2dcontour"
           }
          ],
          "mesh3d": [
           {
            "colorbar": {
             "outlinewidth": 0,
             "ticks": ""
            },
            "type": "mesh3d"
           }
          ],
          "parcoords": [
           {
            "line": {
             "colorbar": {
              "outlinewidth": 0,
              "ticks": ""
             }
            },
            "type": "parcoords"
           }
          ],
          "pie": [
           {
            "automargin": true,
            "type": "pie"
           }
          ],
          "scatter": [
           {
            "marker": {
             "colorbar": {
              "outlinewidth": 0,
              "ticks": ""
             }
            },
            "type": "scatter"
           }
          ],
          "scatter3d": [
           {
            "line": {
             "colorbar": {
              "outlinewidth": 0,
              "ticks": ""
             }
            },
            "marker": {
             "colorbar": {
              "outlinewidth": 0,
              "ticks": ""
             }
            },
            "type": "scatter3d"
           }
          ],
          "scattercarpet": [
           {
            "marker": {
             "colorbar": {
              "outlinewidth": 0,
              "ticks": ""
             }
            },
            "type": "scattercarpet"
           }
          ],
          "scattergeo": [
           {
            "marker": {
             "colorbar": {
              "outlinewidth": 0,
              "ticks": ""
             }
            },
            "type": "scattergeo"
           }
          ],
          "scattergl": [
           {
            "marker": {
             "colorbar": {
              "outlinewidth": 0,
              "ticks": ""
             }
            },
            "type": "scattergl"
           }
          ],
          "scattermapbox": [
           {
            "marker": {
             "colorbar": {
              "outlinewidth": 0,
              "ticks": ""
             }
            },
            "type": "scattermapbox"
           }
          ],
          "scatterpolar": [
           {
            "marker": {
             "colorbar": {
              "outlinewidth": 0,
              "ticks": ""
             }
            },
            "type": "scatterpolar"
           }
          ],
          "scatterpolargl": [
           {
            "marker": {
             "colorbar": {
              "outlinewidth": 0,
              "ticks": ""
             }
            },
            "type": "scatterpolargl"
           }
          ],
          "scatterternary": [
           {
            "marker": {
             "colorbar": {
              "outlinewidth": 0,
              "ticks": ""
             }
            },
            "type": "scatterternary"
           }
          ],
          "surface": [
           {
            "colorbar": {
             "outlinewidth": 0,
             "ticks": ""
            },
            "colorscale": [
             [
              0,
              "#0d0887"
             ],
             [
              0.1111111111111111,
              "#46039f"
             ],
             [
              0.2222222222222222,
              "#7201a8"
             ],
             [
              0.3333333333333333,
              "#9c179e"
             ],
             [
              0.4444444444444444,
              "#bd3786"
             ],
             [
              0.5555555555555556,
              "#d8576b"
             ],
             [
              0.6666666666666666,
              "#ed7953"
             ],
             [
              0.7777777777777778,
              "#fb9f3a"
             ],
             [
              0.8888888888888888,
              "#fdca26"
             ],
             [
              1,
              "#f0f921"
             ]
            ],
            "type": "surface"
           }
          ],
          "table": [
           {
            "cells": {
             "fill": {
              "color": "#EBF0F8"
             },
             "line": {
              "color": "white"
             }
            },
            "header": {
             "fill": {
              "color": "#C8D4E3"
             },
             "line": {
              "color": "white"
             }
            },
            "type": "table"
           }
          ]
         },
         "layout": {
          "annotationdefaults": {
           "arrowcolor": "#2a3f5f",
           "arrowhead": 0,
           "arrowwidth": 1
          },
          "coloraxis": {
           "colorbar": {
            "outlinewidth": 0,
            "ticks": ""
           }
          },
          "colorscale": {
           "diverging": [
            [
             0,
             "#8e0152"
            ],
            [
             0.1,
             "#c51b7d"
            ],
            [
             0.2,
             "#de77ae"
            ],
            [
             0.3,
             "#f1b6da"
            ],
            [
             0.4,
             "#fde0ef"
            ],
            [
             0.5,
             "#f7f7f7"
            ],
            [
             0.6,
             "#e6f5d0"
            ],
            [
             0.7,
             "#b8e186"
            ],
            [
             0.8,
             "#7fbc41"
            ],
            [
             0.9,
             "#4d9221"
            ],
            [
             1,
             "#276419"
            ]
           ],
           "sequential": [
            [
             0,
             "#0d0887"
            ],
            [
             0.1111111111111111,
             "#46039f"
            ],
            [
             0.2222222222222222,
             "#7201a8"
            ],
            [
             0.3333333333333333,
             "#9c179e"
            ],
            [
             0.4444444444444444,
             "#bd3786"
            ],
            [
             0.5555555555555556,
             "#d8576b"
            ],
            [
             0.6666666666666666,
             "#ed7953"
            ],
            [
             0.7777777777777778,
             "#fb9f3a"
            ],
            [
             0.8888888888888888,
             "#fdca26"
            ],
            [
             1,
             "#f0f921"
            ]
           ],
           "sequentialminus": [
            [
             0,
             "#0d0887"
            ],
            [
             0.1111111111111111,
             "#46039f"
            ],
            [
             0.2222222222222222,
             "#7201a8"
            ],
            [
             0.3333333333333333,
             "#9c179e"
            ],
            [
             0.4444444444444444,
             "#bd3786"
            ],
            [
             0.5555555555555556,
             "#d8576b"
            ],
            [
             0.6666666666666666,
             "#ed7953"
            ],
            [
             0.7777777777777778,
             "#fb9f3a"
            ],
            [
             0.8888888888888888,
             "#fdca26"
            ],
            [
             1,
             "#f0f921"
            ]
           ]
          },
          "colorway": [
           "#636efa",
           "#EF553B",
           "#00cc96",
           "#ab63fa",
           "#FFA15A",
           "#19d3f3",
           "#FF6692",
           "#B6E880",
           "#FF97FF",
           "#FECB52"
          ],
          "font": {
           "color": "#2a3f5f"
          },
          "geo": {
           "bgcolor": "white",
           "lakecolor": "white",
           "landcolor": "#E5ECF6",
           "showlakes": true,
           "showland": true,
           "subunitcolor": "white"
          },
          "hoverlabel": {
           "align": "left"
          },
          "hovermode": "closest",
          "mapbox": {
           "style": "light"
          },
          "paper_bgcolor": "white",
          "plot_bgcolor": "#E5ECF6",
          "polar": {
           "angularaxis": {
            "gridcolor": "white",
            "linecolor": "white",
            "ticks": ""
           },
           "bgcolor": "#E5ECF6",
           "radialaxis": {
            "gridcolor": "white",
            "linecolor": "white",
            "ticks": ""
           }
          },
          "scene": {
           "xaxis": {
            "backgroundcolor": "#E5ECF6",
            "gridcolor": "white",
            "gridwidth": 2,
            "linecolor": "white",
            "showbackground": true,
            "ticks": "",
            "zerolinecolor": "white"
           },
           "yaxis": {
            "backgroundcolor": "#E5ECF6",
            "gridcolor": "white",
            "gridwidth": 2,
            "linecolor": "white",
            "showbackground": true,
            "ticks": "",
            "zerolinecolor": "white"
           },
           "zaxis": {
            "backgroundcolor": "#E5ECF6",
            "gridcolor": "white",
            "gridwidth": 2,
            "linecolor": "white",
            "showbackground": true,
            "ticks": "",
            "zerolinecolor": "white"
           }
          },
          "shapedefaults": {
           "line": {
            "color": "#2a3f5f"
           }
          },
          "ternary": {
           "aaxis": {
            "gridcolor": "white",
            "linecolor": "white",
            "ticks": ""
           },
           "baxis": {
            "gridcolor": "white",
            "linecolor": "white",
            "ticks": ""
           },
           "bgcolor": "#E5ECF6",
           "caxis": {
            "gridcolor": "white",
            "linecolor": "white",
            "ticks": ""
           }
          },
          "title": {
           "x": 0.05
          },
          "xaxis": {
           "automargin": true,
           "gridcolor": "white",
           "linecolor": "white",
           "ticks": "",
           "title": {
            "standoff": 15
           },
           "zerolinecolor": "white",
           "zerolinewidth": 2
          },
          "yaxis": {
           "automargin": true,
           "gridcolor": "white",
           "linecolor": "white",
           "ticks": "",
           "title": {
            "standoff": 15
           },
           "zerolinecolor": "white",
           "zerolinewidth": 2
          }
         }
        },
        "title": {
         "text": "Amount of adoptions per Weekday"
        },
        "xaxis": {
         "anchor": "y",
         "domain": [
          0,
          1
         ],
         "tickfont": {
          "size": 14
         },
         "tickmode": "array",
         "ticktext": [
          "Sunday",
          "Monday",
          "Tuesday",
          "Wednesday",
          "Thursday",
          "Friday",
          "Saturday"
         ],
         "tickvals": [
          0,
          1,
          2,
          3,
          4,
          5,
          6
         ],
         "title": {
          "text": "Months"
         }
        },
        "yaxis": {
         "anchor": "x",
         "domain": [
          0,
          1
         ],
         "title": {
          "text": "Amounts"
         }
        }
       }
      },
      "text/html": [
       "<div>                            <div id=\"0f272d6c-42fa-4d55-81f1-168c92bd92c8\" class=\"plotly-graph-div\" style=\"height:525px; width:100%;\"></div>            <script type=\"text/javascript\">                require([\"plotly\"], function(Plotly) {                    window.PLOTLYENV=window.PLOTLYENV || {};                                    if (document.getElementById(\"0f272d6c-42fa-4d55-81f1-168c92bd92c8\")) {                    Plotly.newPlot(                        \"0f272d6c-42fa-4d55-81f1-168c92bd92c8\",                        [{\"alignmentgroup\": \"True\", \"hovertemplate\": \"variable=outcome_weekday<br>Months=%{x}<br>Amounts=%{y}<extra></extra>\", \"legendgroup\": \"outcome_weekday\", \"marker\": {\"color\": \"lightblue\"}, \"name\": \"outcome_weekday\", \"offsetgroup\": \"outcome_weekday\", \"orientation\": \"v\", \"showlegend\": true, \"textposition\": \"auto\", \"type\": \"bar\", \"x\": [6, 5, 0, 1, 4, 2, 3], \"xaxis\": \"x\", \"y\": [4070, 4068, 2768, 2531, 2449, 2290, 2256], \"yaxis\": \"y\"}],                        {\"barmode\": \"relative\", \"legend\": {\"title\": {\"text\": \"variable\"}, \"tracegroupgap\": 0}, \"plot_bgcolor\": \"#6C5B7B\", \"showlegend\": false, \"template\": {\"data\": {\"bar\": [{\"error_x\": {\"color\": \"#2a3f5f\"}, \"error_y\": {\"color\": \"#2a3f5f\"}, \"marker\": {\"line\": {\"color\": \"#E5ECF6\", \"width\": 0.5}}, \"type\": \"bar\"}], \"barpolar\": [{\"marker\": {\"line\": {\"color\": \"#E5ECF6\", \"width\": 0.5}}, \"type\": \"barpolar\"}], \"carpet\": [{\"aaxis\": {\"endlinecolor\": \"#2a3f5f\", \"gridcolor\": \"white\", \"linecolor\": \"white\", \"minorgridcolor\": \"white\", \"startlinecolor\": \"#2a3f5f\"}, \"baxis\": {\"endlinecolor\": \"#2a3f5f\", \"gridcolor\": \"white\", \"linecolor\": \"white\", \"minorgridcolor\": \"white\", \"startlinecolor\": \"#2a3f5f\"}, \"type\": \"carpet\"}], \"choropleth\": [{\"colorbar\": {\"outlinewidth\": 0, \"ticks\": \"\"}, \"type\": \"choropleth\"}], \"contour\": [{\"colorbar\": {\"outlinewidth\": 0, \"ticks\": \"\"}, \"colorscale\": [[0.0, \"#0d0887\"], [0.1111111111111111, \"#46039f\"], [0.2222222222222222, \"#7201a8\"], [0.3333333333333333, \"#9c179e\"], [0.4444444444444444, \"#bd3786\"], [0.5555555555555556, \"#d8576b\"], [0.6666666666666666, \"#ed7953\"], [0.7777777777777778, \"#fb9f3a\"], [0.8888888888888888, \"#fdca26\"], [1.0, \"#f0f921\"]], \"type\": \"contour\"}], \"contourcarpet\": [{\"colorbar\": {\"outlinewidth\": 0, \"ticks\": \"\"}, \"type\": \"contourcarpet\"}], \"heatmap\": [{\"colorbar\": {\"outlinewidth\": 0, \"ticks\": \"\"}, \"colorscale\": [[0.0, \"#0d0887\"], [0.1111111111111111, \"#46039f\"], [0.2222222222222222, \"#7201a8\"], [0.3333333333333333, \"#9c179e\"], [0.4444444444444444, \"#bd3786\"], [0.5555555555555556, \"#d8576b\"], [0.6666666666666666, \"#ed7953\"], [0.7777777777777778, \"#fb9f3a\"], [0.8888888888888888, \"#fdca26\"], [1.0, \"#f0f921\"]], \"type\": \"heatmap\"}], \"heatmapgl\": [{\"colorbar\": {\"outlinewidth\": 0, \"ticks\": \"\"}, \"colorscale\": [[0.0, \"#0d0887\"], [0.1111111111111111, \"#46039f\"], [0.2222222222222222, \"#7201a8\"], [0.3333333333333333, \"#9c179e\"], [0.4444444444444444, \"#bd3786\"], [0.5555555555555556, \"#d8576b\"], [0.6666666666666666, \"#ed7953\"], [0.7777777777777778, \"#fb9f3a\"], [0.8888888888888888, \"#fdca26\"], [1.0, \"#f0f921\"]], \"type\": \"heatmapgl\"}], \"histogram\": [{\"marker\": {\"colorbar\": {\"outlinewidth\": 0, \"ticks\": \"\"}}, \"type\": \"histogram\"}], \"histogram2d\": [{\"colorbar\": {\"outlinewidth\": 0, \"ticks\": \"\"}, \"colorscale\": [[0.0, \"#0d0887\"], [0.1111111111111111, \"#46039f\"], [0.2222222222222222, \"#7201a8\"], [0.3333333333333333, \"#9c179e\"], [0.4444444444444444, \"#bd3786\"], [0.5555555555555556, \"#d8576b\"], [0.6666666666666666, \"#ed7953\"], [0.7777777777777778, \"#fb9f3a\"], [0.8888888888888888, \"#fdca26\"], [1.0, \"#f0f921\"]], \"type\": \"histogram2d\"}], \"histogram2dcontour\": [{\"colorbar\": {\"outlinewidth\": 0, \"ticks\": \"\"}, \"colorscale\": [[0.0, \"#0d0887\"], [0.1111111111111111, \"#46039f\"], [0.2222222222222222, \"#7201a8\"], [0.3333333333333333, \"#9c179e\"], [0.4444444444444444, \"#bd3786\"], [0.5555555555555556, \"#d8576b\"], [0.6666666666666666, \"#ed7953\"], [0.7777777777777778, \"#fb9f3a\"], [0.8888888888888888, \"#fdca26\"], [1.0, \"#f0f921\"]], \"type\": \"histogram2dcontour\"}], \"mesh3d\": [{\"colorbar\": {\"outlinewidth\": 0, \"ticks\": \"\"}, \"type\": \"mesh3d\"}], \"parcoords\": [{\"line\": {\"colorbar\": {\"outlinewidth\": 0, \"ticks\": \"\"}}, \"type\": \"parcoords\"}], \"pie\": [{\"automargin\": true, \"type\": \"pie\"}], \"scatter\": [{\"marker\": {\"colorbar\": {\"outlinewidth\": 0, \"ticks\": \"\"}}, \"type\": \"scatter\"}], \"scatter3d\": [{\"line\": {\"colorbar\": {\"outlinewidth\": 0, \"ticks\": \"\"}}, \"marker\": {\"colorbar\": {\"outlinewidth\": 0, \"ticks\": \"\"}}, \"type\": \"scatter3d\"}], \"scattercarpet\": [{\"marker\": {\"colorbar\": {\"outlinewidth\": 0, \"ticks\": \"\"}}, \"type\": \"scattercarpet\"}], \"scattergeo\": [{\"marker\": {\"colorbar\": {\"outlinewidth\": 0, \"ticks\": \"\"}}, \"type\": \"scattergeo\"}], \"scattergl\": [{\"marker\": {\"colorbar\": {\"outlinewidth\": 0, \"ticks\": \"\"}}, \"type\": \"scattergl\"}], \"scattermapbox\": [{\"marker\": {\"colorbar\": {\"outlinewidth\": 0, \"ticks\": \"\"}}, \"type\": \"scattermapbox\"}], \"scatterpolar\": [{\"marker\": {\"colorbar\": {\"outlinewidth\": 0, \"ticks\": \"\"}}, \"type\": \"scatterpolar\"}], \"scatterpolargl\": [{\"marker\": {\"colorbar\": {\"outlinewidth\": 0, \"ticks\": \"\"}}, \"type\": \"scatterpolargl\"}], \"scatterternary\": [{\"marker\": {\"colorbar\": {\"outlinewidth\": 0, \"ticks\": \"\"}}, \"type\": \"scatterternary\"}], \"surface\": [{\"colorbar\": {\"outlinewidth\": 0, \"ticks\": \"\"}, \"colorscale\": [[0.0, \"#0d0887\"], [0.1111111111111111, \"#46039f\"], [0.2222222222222222, \"#7201a8\"], [0.3333333333333333, \"#9c179e\"], [0.4444444444444444, \"#bd3786\"], [0.5555555555555556, \"#d8576b\"], [0.6666666666666666, \"#ed7953\"], [0.7777777777777778, \"#fb9f3a\"], [0.8888888888888888, \"#fdca26\"], [1.0, \"#f0f921\"]], \"type\": \"surface\"}], \"table\": [{\"cells\": {\"fill\": {\"color\": \"#EBF0F8\"}, \"line\": {\"color\": \"white\"}}, \"header\": {\"fill\": {\"color\": \"#C8D4E3\"}, \"line\": {\"color\": \"white\"}}, \"type\": \"table\"}]}, \"layout\": {\"annotationdefaults\": {\"arrowcolor\": \"#2a3f5f\", \"arrowhead\": 0, \"arrowwidth\": 1}, \"coloraxis\": {\"colorbar\": {\"outlinewidth\": 0, \"ticks\": \"\"}}, \"colorscale\": {\"diverging\": [[0, \"#8e0152\"], [0.1, \"#c51b7d\"], [0.2, \"#de77ae\"], [0.3, \"#f1b6da\"], [0.4, \"#fde0ef\"], [0.5, \"#f7f7f7\"], [0.6, \"#e6f5d0\"], [0.7, \"#b8e186\"], [0.8, \"#7fbc41\"], [0.9, \"#4d9221\"], [1, \"#276419\"]], \"sequential\": [[0.0, \"#0d0887\"], [0.1111111111111111, \"#46039f\"], [0.2222222222222222, \"#7201a8\"], [0.3333333333333333, \"#9c179e\"], [0.4444444444444444, \"#bd3786\"], [0.5555555555555556, \"#d8576b\"], [0.6666666666666666, \"#ed7953\"], [0.7777777777777778, \"#fb9f3a\"], [0.8888888888888888, \"#fdca26\"], [1.0, \"#f0f921\"]], \"sequentialminus\": [[0.0, \"#0d0887\"], [0.1111111111111111, \"#46039f\"], [0.2222222222222222, \"#7201a8\"], [0.3333333333333333, \"#9c179e\"], [0.4444444444444444, \"#bd3786\"], [0.5555555555555556, \"#d8576b\"], [0.6666666666666666, \"#ed7953\"], [0.7777777777777778, \"#fb9f3a\"], [0.8888888888888888, \"#fdca26\"], [1.0, \"#f0f921\"]]}, \"colorway\": [\"#636efa\", \"#EF553B\", \"#00cc96\", \"#ab63fa\", \"#FFA15A\", \"#19d3f3\", \"#FF6692\", \"#B6E880\", \"#FF97FF\", \"#FECB52\"], \"font\": {\"color\": \"#2a3f5f\"}, \"geo\": {\"bgcolor\": \"white\", \"lakecolor\": \"white\", \"landcolor\": \"#E5ECF6\", \"showlakes\": true, \"showland\": true, \"subunitcolor\": \"white\"}, \"hoverlabel\": {\"align\": \"left\"}, \"hovermode\": \"closest\", \"mapbox\": {\"style\": \"light\"}, \"paper_bgcolor\": \"white\", \"plot_bgcolor\": \"#E5ECF6\", \"polar\": {\"angularaxis\": {\"gridcolor\": \"white\", \"linecolor\": \"white\", \"ticks\": \"\"}, \"bgcolor\": \"#E5ECF6\", \"radialaxis\": {\"gridcolor\": \"white\", \"linecolor\": \"white\", \"ticks\": \"\"}}, \"scene\": {\"xaxis\": {\"backgroundcolor\": \"#E5ECF6\", \"gridcolor\": \"white\", \"gridwidth\": 2, \"linecolor\": \"white\", \"showbackground\": true, \"ticks\": \"\", \"zerolinecolor\": \"white\"}, \"yaxis\": {\"backgroundcolor\": \"#E5ECF6\", \"gridcolor\": \"white\", \"gridwidth\": 2, \"linecolor\": \"white\", \"showbackground\": true, \"ticks\": \"\", \"zerolinecolor\": \"white\"}, \"zaxis\": {\"backgroundcolor\": \"#E5ECF6\", \"gridcolor\": \"white\", \"gridwidth\": 2, \"linecolor\": \"white\", \"showbackground\": true, \"ticks\": \"\", \"zerolinecolor\": \"white\"}}, \"shapedefaults\": {\"line\": {\"color\": \"#2a3f5f\"}}, \"ternary\": {\"aaxis\": {\"gridcolor\": \"white\", \"linecolor\": \"white\", \"ticks\": \"\"}, \"baxis\": {\"gridcolor\": \"white\", \"linecolor\": \"white\", \"ticks\": \"\"}, \"bgcolor\": \"#E5ECF6\", \"caxis\": {\"gridcolor\": \"white\", \"linecolor\": \"white\", \"ticks\": \"\"}}, \"title\": {\"x\": 0.05}, \"xaxis\": {\"automargin\": true, \"gridcolor\": \"white\", \"linecolor\": \"white\", \"ticks\": \"\", \"title\": {\"standoff\": 15}, \"zerolinecolor\": \"white\", \"zerolinewidth\": 2}, \"yaxis\": {\"automargin\": true, \"gridcolor\": \"white\", \"linecolor\": \"white\", \"ticks\": \"\", \"title\": {\"standoff\": 15}, \"zerolinecolor\": \"white\", \"zerolinewidth\": 2}}}, \"title\": {\"text\": \"Amount of adoptions per Weekday\"}, \"xaxis\": {\"anchor\": \"y\", \"domain\": [0.0, 1.0], \"tickfont\": {\"size\": 14}, \"tickmode\": \"array\", \"ticktext\": [\"Sunday\", \"Monday\", \"Tuesday\", \"Wednesday\", \"Thursday\", \"Friday\", \"Saturday\"], \"tickvals\": [0, 1, 2, 3, 4, 5, 6], \"title\": {\"text\": \"Months\"}}, \"yaxis\": {\"anchor\": \"x\", \"domain\": [0.0, 1.0], \"title\": {\"text\": \"Amounts\"}}},                        {\"responsive\": true}                    ).then(function(){\n",
       "                            \n",
       "var gd = document.getElementById('0f272d6c-42fa-4d55-81f1-168c92bd92c8');\n",
       "var x = new MutationObserver(function (mutations, observer) {{\n",
       "        var display = window.getComputedStyle(gd).display;\n",
       "        if (!display || display === 'none') {{\n",
       "            console.log([gd, 'removed!']);\n",
       "            Plotly.purge(gd);\n",
       "            observer.disconnect();\n",
       "        }}\n",
       "}});\n",
       "\n",
       "// Listen for the removal of the full notebook cells\n",
       "var notebookContainer = gd.closest('#notebook-container');\n",
       "if (notebookContainer) {{\n",
       "    x.observe(notebookContainer, {childList: true});\n",
       "}}\n",
       "\n",
       "// Listen for the clearing of the current output cell\n",
       "var outputEl = gd.closest('.output');\n",
       "if (outputEl) {{\n",
       "    x.observe(outputEl, {childList: true});\n",
       "}}\n",
       "\n",
       "                        })                };                });            </script>        </div>"
      ]
     },
     "metadata": {},
     "output_type": "display_data"
    }
   ],
   "source": [
    "data=df.outcome_weekday.value_counts()\n",
    "fig=px.bar(data, title=\"Amount of adoptions per Weekday\",labels={'index': 'Months','value':'Amounts'},color_discrete_sequence=['lightblue'])\n",
    "fig.update_layout(\n",
    "    xaxis_tickfont_size=14,\n",
    "    xaxis_tickmode='array',\n",
    "    xaxis_tickvals=[0,1,2,3,4,5,6],\n",
    "    xaxis_ticktext=['Sunday','Monday','Tuesday','Wednesday','Thursday','Friday','Saturday'],\n",
    "    showlegend=False,\n",
    "    plot_bgcolor = '#6C5B7B'\n",
    "    )\n",
    "\n",
    "fig.show()"
   ]
  },
  {
   "cell_type": "code",
   "execution_count": 145,
   "metadata": {
    "scrolled": true
   },
   "outputs": [
    {
     "data": {
      "application/vnd.plotly.v1+json": {
       "config": {
        "plotlyServerURL": "https://plot.ly"
       },
       "data": [
        {
         "alignmentgroup": "True",
         "hovertemplate": "variable=season<br>Months=%{x}<br>Amounts=%{y}<extra></extra>",
         "legendgroup": "season",
         "marker": {
          "color": "#b9A9a9"
         },
         "name": "season",
         "offsetgroup": "season",
         "orientation": "v",
         "showlegend": true,
         "textposition": "auto",
         "type": "bar",
         "x": [
          4,
          3,
          2,
          1
         ],
         "xaxis": "x",
         "y": [
          5638,
          5139,
          4830,
          4825
         ],
         "yaxis": "y"
        }
       ],
       "layout": {
        "barmode": "relative",
        "legend": {
         "title": {
          "text": "variable"
         },
         "tracegroupgap": 0
        },
        "plot_bgcolor": "#F9CDAD",
        "showlegend": false,
        "template": {
         "data": {
          "bar": [
           {
            "error_x": {
             "color": "#2a3f5f"
            },
            "error_y": {
             "color": "#2a3f5f"
            },
            "marker": {
             "line": {
              "color": "#E5ECF6",
              "width": 0.5
             }
            },
            "type": "bar"
           }
          ],
          "barpolar": [
           {
            "marker": {
             "line": {
              "color": "#E5ECF6",
              "width": 0.5
             }
            },
            "type": "barpolar"
           }
          ],
          "carpet": [
           {
            "aaxis": {
             "endlinecolor": "#2a3f5f",
             "gridcolor": "white",
             "linecolor": "white",
             "minorgridcolor": "white",
             "startlinecolor": "#2a3f5f"
            },
            "baxis": {
             "endlinecolor": "#2a3f5f",
             "gridcolor": "white",
             "linecolor": "white",
             "minorgridcolor": "white",
             "startlinecolor": "#2a3f5f"
            },
            "type": "carpet"
           }
          ],
          "choropleth": [
           {
            "colorbar": {
             "outlinewidth": 0,
             "ticks": ""
            },
            "type": "choropleth"
           }
          ],
          "contour": [
           {
            "colorbar": {
             "outlinewidth": 0,
             "ticks": ""
            },
            "colorscale": [
             [
              0,
              "#0d0887"
             ],
             [
              0.1111111111111111,
              "#46039f"
             ],
             [
              0.2222222222222222,
              "#7201a8"
             ],
             [
              0.3333333333333333,
              "#9c179e"
             ],
             [
              0.4444444444444444,
              "#bd3786"
             ],
             [
              0.5555555555555556,
              "#d8576b"
             ],
             [
              0.6666666666666666,
              "#ed7953"
             ],
             [
              0.7777777777777778,
              "#fb9f3a"
             ],
             [
              0.8888888888888888,
              "#fdca26"
             ],
             [
              1,
              "#f0f921"
             ]
            ],
            "type": "contour"
           }
          ],
          "contourcarpet": [
           {
            "colorbar": {
             "outlinewidth": 0,
             "ticks": ""
            },
            "type": "contourcarpet"
           }
          ],
          "heatmap": [
           {
            "colorbar": {
             "outlinewidth": 0,
             "ticks": ""
            },
            "colorscale": [
             [
              0,
              "#0d0887"
             ],
             [
              0.1111111111111111,
              "#46039f"
             ],
             [
              0.2222222222222222,
              "#7201a8"
             ],
             [
              0.3333333333333333,
              "#9c179e"
             ],
             [
              0.4444444444444444,
              "#bd3786"
             ],
             [
              0.5555555555555556,
              "#d8576b"
             ],
             [
              0.6666666666666666,
              "#ed7953"
             ],
             [
              0.7777777777777778,
              "#fb9f3a"
             ],
             [
              0.8888888888888888,
              "#fdca26"
             ],
             [
              1,
              "#f0f921"
             ]
            ],
            "type": "heatmap"
           }
          ],
          "heatmapgl": [
           {
            "colorbar": {
             "outlinewidth": 0,
             "ticks": ""
            },
            "colorscale": [
             [
              0,
              "#0d0887"
             ],
             [
              0.1111111111111111,
              "#46039f"
             ],
             [
              0.2222222222222222,
              "#7201a8"
             ],
             [
              0.3333333333333333,
              "#9c179e"
             ],
             [
              0.4444444444444444,
              "#bd3786"
             ],
             [
              0.5555555555555556,
              "#d8576b"
             ],
             [
              0.6666666666666666,
              "#ed7953"
             ],
             [
              0.7777777777777778,
              "#fb9f3a"
             ],
             [
              0.8888888888888888,
              "#fdca26"
             ],
             [
              1,
              "#f0f921"
             ]
            ],
            "type": "heatmapgl"
           }
          ],
          "histogram": [
           {
            "marker": {
             "colorbar": {
              "outlinewidth": 0,
              "ticks": ""
             }
            },
            "type": "histogram"
           }
          ],
          "histogram2d": [
           {
            "colorbar": {
             "outlinewidth": 0,
             "ticks": ""
            },
            "colorscale": [
             [
              0,
              "#0d0887"
             ],
             [
              0.1111111111111111,
              "#46039f"
             ],
             [
              0.2222222222222222,
              "#7201a8"
             ],
             [
              0.3333333333333333,
              "#9c179e"
             ],
             [
              0.4444444444444444,
              "#bd3786"
             ],
             [
              0.5555555555555556,
              "#d8576b"
             ],
             [
              0.6666666666666666,
              "#ed7953"
             ],
             [
              0.7777777777777778,
              "#fb9f3a"
             ],
             [
              0.8888888888888888,
              "#fdca26"
             ],
             [
              1,
              "#f0f921"
             ]
            ],
            "type": "histogram2d"
           }
          ],
          "histogram2dcontour": [
           {
            "colorbar": {
             "outlinewidth": 0,
             "ticks": ""
            },
            "colorscale": [
             [
              0,
              "#0d0887"
             ],
             [
              0.1111111111111111,
              "#46039f"
             ],
             [
              0.2222222222222222,
              "#7201a8"
             ],
             [
              0.3333333333333333,
              "#9c179e"
             ],
             [
              0.4444444444444444,
              "#bd3786"
             ],
             [
              0.5555555555555556,
              "#d8576b"
             ],
             [
              0.6666666666666666,
              "#ed7953"
             ],
             [
              0.7777777777777778,
              "#fb9f3a"
             ],
             [
              0.8888888888888888,
              "#fdca26"
             ],
             [
              1,
              "#f0f921"
             ]
            ],
            "type": "histogram2dcontour"
           }
          ],
          "mesh3d": [
           {
            "colorbar": {
             "outlinewidth": 0,
             "ticks": ""
            },
            "type": "mesh3d"
           }
          ],
          "parcoords": [
           {
            "line": {
             "colorbar": {
              "outlinewidth": 0,
              "ticks": ""
             }
            },
            "type": "parcoords"
           }
          ],
          "pie": [
           {
            "automargin": true,
            "type": "pie"
           }
          ],
          "scatter": [
           {
            "marker": {
             "colorbar": {
              "outlinewidth": 0,
              "ticks": ""
             }
            },
            "type": "scatter"
           }
          ],
          "scatter3d": [
           {
            "line": {
             "colorbar": {
              "outlinewidth": 0,
              "ticks": ""
             }
            },
            "marker": {
             "colorbar": {
              "outlinewidth": 0,
              "ticks": ""
             }
            },
            "type": "scatter3d"
           }
          ],
          "scattercarpet": [
           {
            "marker": {
             "colorbar": {
              "outlinewidth": 0,
              "ticks": ""
             }
            },
            "type": "scattercarpet"
           }
          ],
          "scattergeo": [
           {
            "marker": {
             "colorbar": {
              "outlinewidth": 0,
              "ticks": ""
             }
            },
            "type": "scattergeo"
           }
          ],
          "scattergl": [
           {
            "marker": {
             "colorbar": {
              "outlinewidth": 0,
              "ticks": ""
             }
            },
            "type": "scattergl"
           }
          ],
          "scattermapbox": [
           {
            "marker": {
             "colorbar": {
              "outlinewidth": 0,
              "ticks": ""
             }
            },
            "type": "scattermapbox"
           }
          ],
          "scatterpolar": [
           {
            "marker": {
             "colorbar": {
              "outlinewidth": 0,
              "ticks": ""
             }
            },
            "type": "scatterpolar"
           }
          ],
          "scatterpolargl": [
           {
            "marker": {
             "colorbar": {
              "outlinewidth": 0,
              "ticks": ""
             }
            },
            "type": "scatterpolargl"
           }
          ],
          "scatterternary": [
           {
            "marker": {
             "colorbar": {
              "outlinewidth": 0,
              "ticks": ""
             }
            },
            "type": "scatterternary"
           }
          ],
          "surface": [
           {
            "colorbar": {
             "outlinewidth": 0,
             "ticks": ""
            },
            "colorscale": [
             [
              0,
              "#0d0887"
             ],
             [
              0.1111111111111111,
              "#46039f"
             ],
             [
              0.2222222222222222,
              "#7201a8"
             ],
             [
              0.3333333333333333,
              "#9c179e"
             ],
             [
              0.4444444444444444,
              "#bd3786"
             ],
             [
              0.5555555555555556,
              "#d8576b"
             ],
             [
              0.6666666666666666,
              "#ed7953"
             ],
             [
              0.7777777777777778,
              "#fb9f3a"
             ],
             [
              0.8888888888888888,
              "#fdca26"
             ],
             [
              1,
              "#f0f921"
             ]
            ],
            "type": "surface"
           }
          ],
          "table": [
           {
            "cells": {
             "fill": {
              "color": "#EBF0F8"
             },
             "line": {
              "color": "white"
             }
            },
            "header": {
             "fill": {
              "color": "#C8D4E3"
             },
             "line": {
              "color": "white"
             }
            },
            "type": "table"
           }
          ]
         },
         "layout": {
          "annotationdefaults": {
           "arrowcolor": "#2a3f5f",
           "arrowhead": 0,
           "arrowwidth": 1
          },
          "coloraxis": {
           "colorbar": {
            "outlinewidth": 0,
            "ticks": ""
           }
          },
          "colorscale": {
           "diverging": [
            [
             0,
             "#8e0152"
            ],
            [
             0.1,
             "#c51b7d"
            ],
            [
             0.2,
             "#de77ae"
            ],
            [
             0.3,
             "#f1b6da"
            ],
            [
             0.4,
             "#fde0ef"
            ],
            [
             0.5,
             "#f7f7f7"
            ],
            [
             0.6,
             "#e6f5d0"
            ],
            [
             0.7,
             "#b8e186"
            ],
            [
             0.8,
             "#7fbc41"
            ],
            [
             0.9,
             "#4d9221"
            ],
            [
             1,
             "#276419"
            ]
           ],
           "sequential": [
            [
             0,
             "#0d0887"
            ],
            [
             0.1111111111111111,
             "#46039f"
            ],
            [
             0.2222222222222222,
             "#7201a8"
            ],
            [
             0.3333333333333333,
             "#9c179e"
            ],
            [
             0.4444444444444444,
             "#bd3786"
            ],
            [
             0.5555555555555556,
             "#d8576b"
            ],
            [
             0.6666666666666666,
             "#ed7953"
            ],
            [
             0.7777777777777778,
             "#fb9f3a"
            ],
            [
             0.8888888888888888,
             "#fdca26"
            ],
            [
             1,
             "#f0f921"
            ]
           ],
           "sequentialminus": [
            [
             0,
             "#0d0887"
            ],
            [
             0.1111111111111111,
             "#46039f"
            ],
            [
             0.2222222222222222,
             "#7201a8"
            ],
            [
             0.3333333333333333,
             "#9c179e"
            ],
            [
             0.4444444444444444,
             "#bd3786"
            ],
            [
             0.5555555555555556,
             "#d8576b"
            ],
            [
             0.6666666666666666,
             "#ed7953"
            ],
            [
             0.7777777777777778,
             "#fb9f3a"
            ],
            [
             0.8888888888888888,
             "#fdca26"
            ],
            [
             1,
             "#f0f921"
            ]
           ]
          },
          "colorway": [
           "#636efa",
           "#EF553B",
           "#00cc96",
           "#ab63fa",
           "#FFA15A",
           "#19d3f3",
           "#FF6692",
           "#B6E880",
           "#FF97FF",
           "#FECB52"
          ],
          "font": {
           "color": "#2a3f5f"
          },
          "geo": {
           "bgcolor": "white",
           "lakecolor": "white",
           "landcolor": "#E5ECF6",
           "showlakes": true,
           "showland": true,
           "subunitcolor": "white"
          },
          "hoverlabel": {
           "align": "left"
          },
          "hovermode": "closest",
          "mapbox": {
           "style": "light"
          },
          "paper_bgcolor": "white",
          "plot_bgcolor": "#E5ECF6",
          "polar": {
           "angularaxis": {
            "gridcolor": "white",
            "linecolor": "white",
            "ticks": ""
           },
           "bgcolor": "#E5ECF6",
           "radialaxis": {
            "gridcolor": "white",
            "linecolor": "white",
            "ticks": ""
           }
          },
          "scene": {
           "xaxis": {
            "backgroundcolor": "#E5ECF6",
            "gridcolor": "white",
            "gridwidth": 2,
            "linecolor": "white",
            "showbackground": true,
            "ticks": "",
            "zerolinecolor": "white"
           },
           "yaxis": {
            "backgroundcolor": "#E5ECF6",
            "gridcolor": "white",
            "gridwidth": 2,
            "linecolor": "white",
            "showbackground": true,
            "ticks": "",
            "zerolinecolor": "white"
           },
           "zaxis": {
            "backgroundcolor": "#E5ECF6",
            "gridcolor": "white",
            "gridwidth": 2,
            "linecolor": "white",
            "showbackground": true,
            "ticks": "",
            "zerolinecolor": "white"
           }
          },
          "shapedefaults": {
           "line": {
            "color": "#2a3f5f"
           }
          },
          "ternary": {
           "aaxis": {
            "gridcolor": "white",
            "linecolor": "white",
            "ticks": ""
           },
           "baxis": {
            "gridcolor": "white",
            "linecolor": "white",
            "ticks": ""
           },
           "bgcolor": "#E5ECF6",
           "caxis": {
            "gridcolor": "white",
            "linecolor": "white",
            "ticks": ""
           }
          },
          "title": {
           "x": 0.05
          },
          "xaxis": {
           "automargin": true,
           "gridcolor": "white",
           "linecolor": "white",
           "ticks": "",
           "title": {
            "standoff": 15
           },
           "zerolinecolor": "white",
           "zerolinewidth": 2
          },
          "yaxis": {
           "automargin": true,
           "gridcolor": "white",
           "linecolor": "white",
           "ticks": "",
           "title": {
            "standoff": 15
           },
           "zerolinecolor": "white",
           "zerolinewidth": 2
          }
         }
        },
        "title": {
         "text": "Amount of intakes per Season"
        },
        "xaxis": {
         "anchor": "y",
         "domain": [
          0,
          1
         ],
         "ticktext": [
          "Spring",
          "Summer",
          "Fall",
          "Winter"
         ],
         "tickvals": [
          1,
          2,
          3,
          4
         ],
         "title": {
          "text": "Months"
         }
        },
        "yaxis": {
         "anchor": "x",
         "domain": [
          0,
          1
         ],
         "title": {
          "text": "Amounts"
         }
        }
       }
      },
      "text/html": [
       "<div>                            <div id=\"ebf4fbb0-3d26-4001-b022-f8453f4d0dec\" class=\"plotly-graph-div\" style=\"height:525px; width:100%;\"></div>            <script type=\"text/javascript\">                require([\"plotly\"], function(Plotly) {                    window.PLOTLYENV=window.PLOTLYENV || {};                                    if (document.getElementById(\"ebf4fbb0-3d26-4001-b022-f8453f4d0dec\")) {                    Plotly.newPlot(                        \"ebf4fbb0-3d26-4001-b022-f8453f4d0dec\",                        [{\"alignmentgroup\": \"True\", \"hovertemplate\": \"variable=season<br>Months=%{x}<br>Amounts=%{y}<extra></extra>\", \"legendgroup\": \"season\", \"marker\": {\"color\": \"#b9A9a9\"}, \"name\": \"season\", \"offsetgroup\": \"season\", \"orientation\": \"v\", \"showlegend\": true, \"textposition\": \"auto\", \"type\": \"bar\", \"x\": [4, 3, 2, 1], \"xaxis\": \"x\", \"y\": [5638, 5139, 4830, 4825], \"yaxis\": \"y\"}],                        {\"barmode\": \"relative\", \"legend\": {\"title\": {\"text\": \"variable\"}, \"tracegroupgap\": 0}, \"plot_bgcolor\": \"#F9CDAD\", \"showlegend\": false, \"template\": {\"data\": {\"bar\": [{\"error_x\": {\"color\": \"#2a3f5f\"}, \"error_y\": {\"color\": \"#2a3f5f\"}, \"marker\": {\"line\": {\"color\": \"#E5ECF6\", \"width\": 0.5}}, \"type\": \"bar\"}], \"barpolar\": [{\"marker\": {\"line\": {\"color\": \"#E5ECF6\", \"width\": 0.5}}, \"type\": \"barpolar\"}], \"carpet\": [{\"aaxis\": {\"endlinecolor\": \"#2a3f5f\", \"gridcolor\": \"white\", \"linecolor\": \"white\", \"minorgridcolor\": \"white\", \"startlinecolor\": \"#2a3f5f\"}, \"baxis\": {\"endlinecolor\": \"#2a3f5f\", \"gridcolor\": \"white\", \"linecolor\": \"white\", \"minorgridcolor\": \"white\", \"startlinecolor\": \"#2a3f5f\"}, \"type\": \"carpet\"}], \"choropleth\": [{\"colorbar\": {\"outlinewidth\": 0, \"ticks\": \"\"}, \"type\": \"choropleth\"}], \"contour\": [{\"colorbar\": {\"outlinewidth\": 0, \"ticks\": \"\"}, \"colorscale\": [[0.0, \"#0d0887\"], [0.1111111111111111, \"#46039f\"], [0.2222222222222222, \"#7201a8\"], [0.3333333333333333, \"#9c179e\"], [0.4444444444444444, \"#bd3786\"], [0.5555555555555556, \"#d8576b\"], [0.6666666666666666, \"#ed7953\"], [0.7777777777777778, \"#fb9f3a\"], [0.8888888888888888, \"#fdca26\"], [1.0, \"#f0f921\"]], \"type\": \"contour\"}], \"contourcarpet\": [{\"colorbar\": {\"outlinewidth\": 0, \"ticks\": \"\"}, \"type\": \"contourcarpet\"}], \"heatmap\": [{\"colorbar\": {\"outlinewidth\": 0, \"ticks\": \"\"}, \"colorscale\": [[0.0, \"#0d0887\"], [0.1111111111111111, \"#46039f\"], [0.2222222222222222, \"#7201a8\"], [0.3333333333333333, \"#9c179e\"], [0.4444444444444444, \"#bd3786\"], [0.5555555555555556, \"#d8576b\"], [0.6666666666666666, \"#ed7953\"], [0.7777777777777778, \"#fb9f3a\"], [0.8888888888888888, \"#fdca26\"], [1.0, \"#f0f921\"]], \"type\": \"heatmap\"}], \"heatmapgl\": [{\"colorbar\": {\"outlinewidth\": 0, \"ticks\": \"\"}, \"colorscale\": [[0.0, \"#0d0887\"], [0.1111111111111111, \"#46039f\"], [0.2222222222222222, \"#7201a8\"], [0.3333333333333333, \"#9c179e\"], [0.4444444444444444, \"#bd3786\"], [0.5555555555555556, \"#d8576b\"], [0.6666666666666666, \"#ed7953\"], [0.7777777777777778, \"#fb9f3a\"], [0.8888888888888888, \"#fdca26\"], [1.0, \"#f0f921\"]], \"type\": \"heatmapgl\"}], \"histogram\": [{\"marker\": {\"colorbar\": {\"outlinewidth\": 0, \"ticks\": \"\"}}, \"type\": \"histogram\"}], \"histogram2d\": [{\"colorbar\": {\"outlinewidth\": 0, \"ticks\": \"\"}, \"colorscale\": [[0.0, \"#0d0887\"], [0.1111111111111111, \"#46039f\"], [0.2222222222222222, \"#7201a8\"], [0.3333333333333333, \"#9c179e\"], [0.4444444444444444, \"#bd3786\"], [0.5555555555555556, \"#d8576b\"], [0.6666666666666666, \"#ed7953\"], [0.7777777777777778, \"#fb9f3a\"], [0.8888888888888888, \"#fdca26\"], [1.0, \"#f0f921\"]], \"type\": \"histogram2d\"}], \"histogram2dcontour\": [{\"colorbar\": {\"outlinewidth\": 0, \"ticks\": \"\"}, \"colorscale\": [[0.0, \"#0d0887\"], [0.1111111111111111, \"#46039f\"], [0.2222222222222222, \"#7201a8\"], [0.3333333333333333, \"#9c179e\"], [0.4444444444444444, \"#bd3786\"], [0.5555555555555556, \"#d8576b\"], [0.6666666666666666, \"#ed7953\"], [0.7777777777777778, \"#fb9f3a\"], [0.8888888888888888, \"#fdca26\"], [1.0, \"#f0f921\"]], \"type\": \"histogram2dcontour\"}], \"mesh3d\": [{\"colorbar\": {\"outlinewidth\": 0, \"ticks\": \"\"}, \"type\": \"mesh3d\"}], \"parcoords\": [{\"line\": {\"colorbar\": {\"outlinewidth\": 0, \"ticks\": \"\"}}, \"type\": \"parcoords\"}], \"pie\": [{\"automargin\": true, \"type\": \"pie\"}], \"scatter\": [{\"marker\": {\"colorbar\": {\"outlinewidth\": 0, \"ticks\": \"\"}}, \"type\": \"scatter\"}], \"scatter3d\": [{\"line\": {\"colorbar\": {\"outlinewidth\": 0, \"ticks\": \"\"}}, \"marker\": {\"colorbar\": {\"outlinewidth\": 0, \"ticks\": \"\"}}, \"type\": \"scatter3d\"}], \"scattercarpet\": [{\"marker\": {\"colorbar\": {\"outlinewidth\": 0, \"ticks\": \"\"}}, \"type\": \"scattercarpet\"}], \"scattergeo\": [{\"marker\": {\"colorbar\": {\"outlinewidth\": 0, \"ticks\": \"\"}}, \"type\": \"scattergeo\"}], \"scattergl\": [{\"marker\": {\"colorbar\": {\"outlinewidth\": 0, \"ticks\": \"\"}}, \"type\": \"scattergl\"}], \"scattermapbox\": [{\"marker\": {\"colorbar\": {\"outlinewidth\": 0, \"ticks\": \"\"}}, \"type\": \"scattermapbox\"}], \"scatterpolar\": [{\"marker\": {\"colorbar\": {\"outlinewidth\": 0, \"ticks\": \"\"}}, \"type\": \"scatterpolar\"}], \"scatterpolargl\": [{\"marker\": {\"colorbar\": {\"outlinewidth\": 0, \"ticks\": \"\"}}, \"type\": \"scatterpolargl\"}], \"scatterternary\": [{\"marker\": {\"colorbar\": {\"outlinewidth\": 0, \"ticks\": \"\"}}, \"type\": \"scatterternary\"}], \"surface\": [{\"colorbar\": {\"outlinewidth\": 0, \"ticks\": \"\"}, \"colorscale\": [[0.0, \"#0d0887\"], [0.1111111111111111, \"#46039f\"], [0.2222222222222222, \"#7201a8\"], [0.3333333333333333, \"#9c179e\"], [0.4444444444444444, \"#bd3786\"], [0.5555555555555556, \"#d8576b\"], [0.6666666666666666, \"#ed7953\"], [0.7777777777777778, \"#fb9f3a\"], [0.8888888888888888, \"#fdca26\"], [1.0, \"#f0f921\"]], \"type\": \"surface\"}], \"table\": [{\"cells\": {\"fill\": {\"color\": \"#EBF0F8\"}, \"line\": {\"color\": \"white\"}}, \"header\": {\"fill\": {\"color\": \"#C8D4E3\"}, \"line\": {\"color\": \"white\"}}, \"type\": \"table\"}]}, \"layout\": {\"annotationdefaults\": {\"arrowcolor\": \"#2a3f5f\", \"arrowhead\": 0, \"arrowwidth\": 1}, \"coloraxis\": {\"colorbar\": {\"outlinewidth\": 0, \"ticks\": \"\"}}, \"colorscale\": {\"diverging\": [[0, \"#8e0152\"], [0.1, \"#c51b7d\"], [0.2, \"#de77ae\"], [0.3, \"#f1b6da\"], [0.4, \"#fde0ef\"], [0.5, \"#f7f7f7\"], [0.6, \"#e6f5d0\"], [0.7, \"#b8e186\"], [0.8, \"#7fbc41\"], [0.9, \"#4d9221\"], [1, \"#276419\"]], \"sequential\": [[0.0, \"#0d0887\"], [0.1111111111111111, \"#46039f\"], [0.2222222222222222, \"#7201a8\"], [0.3333333333333333, \"#9c179e\"], [0.4444444444444444, \"#bd3786\"], [0.5555555555555556, \"#d8576b\"], [0.6666666666666666, \"#ed7953\"], [0.7777777777777778, \"#fb9f3a\"], [0.8888888888888888, \"#fdca26\"], [1.0, \"#f0f921\"]], \"sequentialminus\": [[0.0, \"#0d0887\"], [0.1111111111111111, \"#46039f\"], [0.2222222222222222, \"#7201a8\"], [0.3333333333333333, \"#9c179e\"], [0.4444444444444444, \"#bd3786\"], [0.5555555555555556, \"#d8576b\"], [0.6666666666666666, \"#ed7953\"], [0.7777777777777778, \"#fb9f3a\"], [0.8888888888888888, \"#fdca26\"], [1.0, \"#f0f921\"]]}, \"colorway\": [\"#636efa\", \"#EF553B\", \"#00cc96\", \"#ab63fa\", \"#FFA15A\", \"#19d3f3\", \"#FF6692\", \"#B6E880\", \"#FF97FF\", \"#FECB52\"], \"font\": {\"color\": \"#2a3f5f\"}, \"geo\": {\"bgcolor\": \"white\", \"lakecolor\": \"white\", \"landcolor\": \"#E5ECF6\", \"showlakes\": true, \"showland\": true, \"subunitcolor\": \"white\"}, \"hoverlabel\": {\"align\": \"left\"}, \"hovermode\": \"closest\", \"mapbox\": {\"style\": \"light\"}, \"paper_bgcolor\": \"white\", \"plot_bgcolor\": \"#E5ECF6\", \"polar\": {\"angularaxis\": {\"gridcolor\": \"white\", \"linecolor\": \"white\", \"ticks\": \"\"}, \"bgcolor\": \"#E5ECF6\", \"radialaxis\": {\"gridcolor\": \"white\", \"linecolor\": \"white\", \"ticks\": \"\"}}, \"scene\": {\"xaxis\": {\"backgroundcolor\": \"#E5ECF6\", \"gridcolor\": \"white\", \"gridwidth\": 2, \"linecolor\": \"white\", \"showbackground\": true, \"ticks\": \"\", \"zerolinecolor\": \"white\"}, \"yaxis\": {\"backgroundcolor\": \"#E5ECF6\", \"gridcolor\": \"white\", \"gridwidth\": 2, \"linecolor\": \"white\", \"showbackground\": true, \"ticks\": \"\", \"zerolinecolor\": \"white\"}, \"zaxis\": {\"backgroundcolor\": \"#E5ECF6\", \"gridcolor\": \"white\", \"gridwidth\": 2, \"linecolor\": \"white\", \"showbackground\": true, \"ticks\": \"\", \"zerolinecolor\": \"white\"}}, \"shapedefaults\": {\"line\": {\"color\": \"#2a3f5f\"}}, \"ternary\": {\"aaxis\": {\"gridcolor\": \"white\", \"linecolor\": \"white\", \"ticks\": \"\"}, \"baxis\": {\"gridcolor\": \"white\", \"linecolor\": \"white\", \"ticks\": \"\"}, \"bgcolor\": \"#E5ECF6\", \"caxis\": {\"gridcolor\": \"white\", \"linecolor\": \"white\", \"ticks\": \"\"}}, \"title\": {\"x\": 0.05}, \"xaxis\": {\"automargin\": true, \"gridcolor\": \"white\", \"linecolor\": \"white\", \"ticks\": \"\", \"title\": {\"standoff\": 15}, \"zerolinecolor\": \"white\", \"zerolinewidth\": 2}, \"yaxis\": {\"automargin\": true, \"gridcolor\": \"white\", \"linecolor\": \"white\", \"ticks\": \"\", \"title\": {\"standoff\": 15}, \"zerolinecolor\": \"white\", \"zerolinewidth\": 2}}}, \"title\": {\"text\": \"Amount of intakes per Season\"}, \"xaxis\": {\"anchor\": \"y\", \"domain\": [0.0, 1.0], \"ticktext\": [\"Spring\", \"Summer\", \"Fall\", \"Winter\"], \"tickvals\": [1, 2, 3, 4], \"title\": {\"text\": \"Months\"}}, \"yaxis\": {\"anchor\": \"x\", \"domain\": [0.0, 1.0], \"title\": {\"text\": \"Amounts\"}}},                        {\"responsive\": true}                    ).then(function(){\n",
       "                            \n",
       "var gd = document.getElementById('ebf4fbb0-3d26-4001-b022-f8453f4d0dec');\n",
       "var x = new MutationObserver(function (mutations, observer) {{\n",
       "        var display = window.getComputedStyle(gd).display;\n",
       "        if (!display || display === 'none') {{\n",
       "            console.log([gd, 'removed!']);\n",
       "            Plotly.purge(gd);\n",
       "            observer.disconnect();\n",
       "        }}\n",
       "}});\n",
       "\n",
       "// Listen for the removal of the full notebook cells\n",
       "var notebookContainer = gd.closest('#notebook-container');\n",
       "if (notebookContainer) {{\n",
       "    x.observe(notebookContainer, {childList: true});\n",
       "}}\n",
       "\n",
       "// Listen for the clearing of the current output cell\n",
       "var outputEl = gd.closest('.output');\n",
       "if (outputEl) {{\n",
       "    x.observe(outputEl, {childList: true});\n",
       "}}\n",
       "\n",
       "                        })                };                });            </script>        </div>"
      ]
     },
     "metadata": {},
     "output_type": "display_data"
    }
   ],
   "source": [
    "data=df.season.value_counts()\n",
    "fig=px.bar(data, title=\"Amount of intakes per Season\",labels={'index': 'Months','value':'Amounts'},color_discrete_sequence=['#b9A9a9'])\n",
    "fig.update_layout(\n",
    "    showlegend=False,\n",
    "    plot_bgcolor = '#F9CDAD',\n",
    "    xaxis_tickvals=[1,2,3,4],\n",
    "    xaxis_ticktext=['Spring',\"Summer\",'Fall','Winter'],\n",
    "    )\n",
    "\n",
    "fig.show()"
   ]
  },
  {
   "cell_type": "code",
   "execution_count": 146,
   "metadata": {},
   "outputs": [
    {
     "data": {
      "application/vnd.plotly.v1+json": {
       "config": {
        "plotlyServerURL": "https://plot.ly"
       },
       "data": [
        {
         "alignmentgroup": "True",
         "hovertemplate": "variable=intake_type<br>Reasons=%{x}<br>Amounts=%{y}<extra></extra>",
         "legendgroup": "intake_type",
         "marker": {
          "color": "#dec3c3 "
         },
         "name": "intake_type",
         "offsetgroup": "intake_type",
         "orientation": "v",
         "showlegend": true,
         "textposition": "auto",
         "type": "bar",
         "x": [
          "Stray",
          "Owner Surrender",
          "Public Assist",
          "Euthanasia Request"
         ],
         "xaxis": "x",
         "y": [
          14927,
          5080,
          420,
          5
         ],
         "yaxis": "y"
        }
       ],
       "layout": {
        "barmode": "relative",
        "legend": {
         "title": {
          "text": "variable"
         },
         "tracegroupgap": 0
        },
        "plot_bgcolor": "#4d648d",
        "showlegend": false,
        "template": {
         "data": {
          "bar": [
           {
            "error_x": {
             "color": "#2a3f5f"
            },
            "error_y": {
             "color": "#2a3f5f"
            },
            "marker": {
             "line": {
              "color": "#E5ECF6",
              "width": 0.5
             }
            },
            "type": "bar"
           }
          ],
          "barpolar": [
           {
            "marker": {
             "line": {
              "color": "#E5ECF6",
              "width": 0.5
             }
            },
            "type": "barpolar"
           }
          ],
          "carpet": [
           {
            "aaxis": {
             "endlinecolor": "#2a3f5f",
             "gridcolor": "white",
             "linecolor": "white",
             "minorgridcolor": "white",
             "startlinecolor": "#2a3f5f"
            },
            "baxis": {
             "endlinecolor": "#2a3f5f",
             "gridcolor": "white",
             "linecolor": "white",
             "minorgridcolor": "white",
             "startlinecolor": "#2a3f5f"
            },
            "type": "carpet"
           }
          ],
          "choropleth": [
           {
            "colorbar": {
             "outlinewidth": 0,
             "ticks": ""
            },
            "type": "choropleth"
           }
          ],
          "contour": [
           {
            "colorbar": {
             "outlinewidth": 0,
             "ticks": ""
            },
            "colorscale": [
             [
              0,
              "#0d0887"
             ],
             [
              0.1111111111111111,
              "#46039f"
             ],
             [
              0.2222222222222222,
              "#7201a8"
             ],
             [
              0.3333333333333333,
              "#9c179e"
             ],
             [
              0.4444444444444444,
              "#bd3786"
             ],
             [
              0.5555555555555556,
              "#d8576b"
             ],
             [
              0.6666666666666666,
              "#ed7953"
             ],
             [
              0.7777777777777778,
              "#fb9f3a"
             ],
             [
              0.8888888888888888,
              "#fdca26"
             ],
             [
              1,
              "#f0f921"
             ]
            ],
            "type": "contour"
           }
          ],
          "contourcarpet": [
           {
            "colorbar": {
             "outlinewidth": 0,
             "ticks": ""
            },
            "type": "contourcarpet"
           }
          ],
          "heatmap": [
           {
            "colorbar": {
             "outlinewidth": 0,
             "ticks": ""
            },
            "colorscale": [
             [
              0,
              "#0d0887"
             ],
             [
              0.1111111111111111,
              "#46039f"
             ],
             [
              0.2222222222222222,
              "#7201a8"
             ],
             [
              0.3333333333333333,
              "#9c179e"
             ],
             [
              0.4444444444444444,
              "#bd3786"
             ],
             [
              0.5555555555555556,
              "#d8576b"
             ],
             [
              0.6666666666666666,
              "#ed7953"
             ],
             [
              0.7777777777777778,
              "#fb9f3a"
             ],
             [
              0.8888888888888888,
              "#fdca26"
             ],
             [
              1,
              "#f0f921"
             ]
            ],
            "type": "heatmap"
           }
          ],
          "heatmapgl": [
           {
            "colorbar": {
             "outlinewidth": 0,
             "ticks": ""
            },
            "colorscale": [
             [
              0,
              "#0d0887"
             ],
             [
              0.1111111111111111,
              "#46039f"
             ],
             [
              0.2222222222222222,
              "#7201a8"
             ],
             [
              0.3333333333333333,
              "#9c179e"
             ],
             [
              0.4444444444444444,
              "#bd3786"
             ],
             [
              0.5555555555555556,
              "#d8576b"
             ],
             [
              0.6666666666666666,
              "#ed7953"
             ],
             [
              0.7777777777777778,
              "#fb9f3a"
             ],
             [
              0.8888888888888888,
              "#fdca26"
             ],
             [
              1,
              "#f0f921"
             ]
            ],
            "type": "heatmapgl"
           }
          ],
          "histogram": [
           {
            "marker": {
             "colorbar": {
              "outlinewidth": 0,
              "ticks": ""
             }
            },
            "type": "histogram"
           }
          ],
          "histogram2d": [
           {
            "colorbar": {
             "outlinewidth": 0,
             "ticks": ""
            },
            "colorscale": [
             [
              0,
              "#0d0887"
             ],
             [
              0.1111111111111111,
              "#46039f"
             ],
             [
              0.2222222222222222,
              "#7201a8"
             ],
             [
              0.3333333333333333,
              "#9c179e"
             ],
             [
              0.4444444444444444,
              "#bd3786"
             ],
             [
              0.5555555555555556,
              "#d8576b"
             ],
             [
              0.6666666666666666,
              "#ed7953"
             ],
             [
              0.7777777777777778,
              "#fb9f3a"
             ],
             [
              0.8888888888888888,
              "#fdca26"
             ],
             [
              1,
              "#f0f921"
             ]
            ],
            "type": "histogram2d"
           }
          ],
          "histogram2dcontour": [
           {
            "colorbar": {
             "outlinewidth": 0,
             "ticks": ""
            },
            "colorscale": [
             [
              0,
              "#0d0887"
             ],
             [
              0.1111111111111111,
              "#46039f"
             ],
             [
              0.2222222222222222,
              "#7201a8"
             ],
             [
              0.3333333333333333,
              "#9c179e"
             ],
             [
              0.4444444444444444,
              "#bd3786"
             ],
             [
              0.5555555555555556,
              "#d8576b"
             ],
             [
              0.6666666666666666,
              "#ed7953"
             ],
             [
              0.7777777777777778,
              "#fb9f3a"
             ],
             [
              0.8888888888888888,
              "#fdca26"
             ],
             [
              1,
              "#f0f921"
             ]
            ],
            "type": "histogram2dcontour"
           }
          ],
          "mesh3d": [
           {
            "colorbar": {
             "outlinewidth": 0,
             "ticks": ""
            },
            "type": "mesh3d"
           }
          ],
          "parcoords": [
           {
            "line": {
             "colorbar": {
              "outlinewidth": 0,
              "ticks": ""
             }
            },
            "type": "parcoords"
           }
          ],
          "pie": [
           {
            "automargin": true,
            "type": "pie"
           }
          ],
          "scatter": [
           {
            "marker": {
             "colorbar": {
              "outlinewidth": 0,
              "ticks": ""
             }
            },
            "type": "scatter"
           }
          ],
          "scatter3d": [
           {
            "line": {
             "colorbar": {
              "outlinewidth": 0,
              "ticks": ""
             }
            },
            "marker": {
             "colorbar": {
              "outlinewidth": 0,
              "ticks": ""
             }
            },
            "type": "scatter3d"
           }
          ],
          "scattercarpet": [
           {
            "marker": {
             "colorbar": {
              "outlinewidth": 0,
              "ticks": ""
             }
            },
            "type": "scattercarpet"
           }
          ],
          "scattergeo": [
           {
            "marker": {
             "colorbar": {
              "outlinewidth": 0,
              "ticks": ""
             }
            },
            "type": "scattergeo"
           }
          ],
          "scattergl": [
           {
            "marker": {
             "colorbar": {
              "outlinewidth": 0,
              "ticks": ""
             }
            },
            "type": "scattergl"
           }
          ],
          "scattermapbox": [
           {
            "marker": {
             "colorbar": {
              "outlinewidth": 0,
              "ticks": ""
             }
            },
            "type": "scattermapbox"
           }
          ],
          "scatterpolar": [
           {
            "marker": {
             "colorbar": {
              "outlinewidth": 0,
              "ticks": ""
             }
            },
            "type": "scatterpolar"
           }
          ],
          "scatterpolargl": [
           {
            "marker": {
             "colorbar": {
              "outlinewidth": 0,
              "ticks": ""
             }
            },
            "type": "scatterpolargl"
           }
          ],
          "scatterternary": [
           {
            "marker": {
             "colorbar": {
              "outlinewidth": 0,
              "ticks": ""
             }
            },
            "type": "scatterternary"
           }
          ],
          "surface": [
           {
            "colorbar": {
             "outlinewidth": 0,
             "ticks": ""
            },
            "colorscale": [
             [
              0,
              "#0d0887"
             ],
             [
              0.1111111111111111,
              "#46039f"
             ],
             [
              0.2222222222222222,
              "#7201a8"
             ],
             [
              0.3333333333333333,
              "#9c179e"
             ],
             [
              0.4444444444444444,
              "#bd3786"
             ],
             [
              0.5555555555555556,
              "#d8576b"
             ],
             [
              0.6666666666666666,
              "#ed7953"
             ],
             [
              0.7777777777777778,
              "#fb9f3a"
             ],
             [
              0.8888888888888888,
              "#fdca26"
             ],
             [
              1,
              "#f0f921"
             ]
            ],
            "type": "surface"
           }
          ],
          "table": [
           {
            "cells": {
             "fill": {
              "color": "#EBF0F8"
             },
             "line": {
              "color": "white"
             }
            },
            "header": {
             "fill": {
              "color": "#C8D4E3"
             },
             "line": {
              "color": "white"
             }
            },
            "type": "table"
           }
          ]
         },
         "layout": {
          "annotationdefaults": {
           "arrowcolor": "#2a3f5f",
           "arrowhead": 0,
           "arrowwidth": 1
          },
          "coloraxis": {
           "colorbar": {
            "outlinewidth": 0,
            "ticks": ""
           }
          },
          "colorscale": {
           "diverging": [
            [
             0,
             "#8e0152"
            ],
            [
             0.1,
             "#c51b7d"
            ],
            [
             0.2,
             "#de77ae"
            ],
            [
             0.3,
             "#f1b6da"
            ],
            [
             0.4,
             "#fde0ef"
            ],
            [
             0.5,
             "#f7f7f7"
            ],
            [
             0.6,
             "#e6f5d0"
            ],
            [
             0.7,
             "#b8e186"
            ],
            [
             0.8,
             "#7fbc41"
            ],
            [
             0.9,
             "#4d9221"
            ],
            [
             1,
             "#276419"
            ]
           ],
           "sequential": [
            [
             0,
             "#0d0887"
            ],
            [
             0.1111111111111111,
             "#46039f"
            ],
            [
             0.2222222222222222,
             "#7201a8"
            ],
            [
             0.3333333333333333,
             "#9c179e"
            ],
            [
             0.4444444444444444,
             "#bd3786"
            ],
            [
             0.5555555555555556,
             "#d8576b"
            ],
            [
             0.6666666666666666,
             "#ed7953"
            ],
            [
             0.7777777777777778,
             "#fb9f3a"
            ],
            [
             0.8888888888888888,
             "#fdca26"
            ],
            [
             1,
             "#f0f921"
            ]
           ],
           "sequentialminus": [
            [
             0,
             "#0d0887"
            ],
            [
             0.1111111111111111,
             "#46039f"
            ],
            [
             0.2222222222222222,
             "#7201a8"
            ],
            [
             0.3333333333333333,
             "#9c179e"
            ],
            [
             0.4444444444444444,
             "#bd3786"
            ],
            [
             0.5555555555555556,
             "#d8576b"
            ],
            [
             0.6666666666666666,
             "#ed7953"
            ],
            [
             0.7777777777777778,
             "#fb9f3a"
            ],
            [
             0.8888888888888888,
             "#fdca26"
            ],
            [
             1,
             "#f0f921"
            ]
           ]
          },
          "colorway": [
           "#636efa",
           "#EF553B",
           "#00cc96",
           "#ab63fa",
           "#FFA15A",
           "#19d3f3",
           "#FF6692",
           "#B6E880",
           "#FF97FF",
           "#FECB52"
          ],
          "font": {
           "color": "#2a3f5f"
          },
          "geo": {
           "bgcolor": "white",
           "lakecolor": "white",
           "landcolor": "#E5ECF6",
           "showlakes": true,
           "showland": true,
           "subunitcolor": "white"
          },
          "hoverlabel": {
           "align": "left"
          },
          "hovermode": "closest",
          "mapbox": {
           "style": "light"
          },
          "paper_bgcolor": "white",
          "plot_bgcolor": "#E5ECF6",
          "polar": {
           "angularaxis": {
            "gridcolor": "white",
            "linecolor": "white",
            "ticks": ""
           },
           "bgcolor": "#E5ECF6",
           "radialaxis": {
            "gridcolor": "white",
            "linecolor": "white",
            "ticks": ""
           }
          },
          "scene": {
           "xaxis": {
            "backgroundcolor": "#E5ECF6",
            "gridcolor": "white",
            "gridwidth": 2,
            "linecolor": "white",
            "showbackground": true,
            "ticks": "",
            "zerolinecolor": "white"
           },
           "yaxis": {
            "backgroundcolor": "#E5ECF6",
            "gridcolor": "white",
            "gridwidth": 2,
            "linecolor": "white",
            "showbackground": true,
            "ticks": "",
            "zerolinecolor": "white"
           },
           "zaxis": {
            "backgroundcolor": "#E5ECF6",
            "gridcolor": "white",
            "gridwidth": 2,
            "linecolor": "white",
            "showbackground": true,
            "ticks": "",
            "zerolinecolor": "white"
           }
          },
          "shapedefaults": {
           "line": {
            "color": "#2a3f5f"
           }
          },
          "ternary": {
           "aaxis": {
            "gridcolor": "white",
            "linecolor": "white",
            "ticks": ""
           },
           "baxis": {
            "gridcolor": "white",
            "linecolor": "white",
            "ticks": ""
           },
           "bgcolor": "#E5ECF6",
           "caxis": {
            "gridcolor": "white",
            "linecolor": "white",
            "ticks": ""
           }
          },
          "title": {
           "x": 0.05
          },
          "xaxis": {
           "automargin": true,
           "gridcolor": "white",
           "linecolor": "white",
           "ticks": "",
           "title": {
            "standoff": 15
           },
           "zerolinecolor": "white",
           "zerolinewidth": 2
          },
          "yaxis": {
           "automargin": true,
           "gridcolor": "white",
           "linecolor": "white",
           "ticks": "",
           "title": {
            "standoff": 15
           },
           "zerolinecolor": "white",
           "zerolinewidth": 2
          }
         }
        },
        "title": {
         "text": "Reason for intake"
        },
        "xaxis": {
         "anchor": "y",
         "domain": [
          0,
          1
         ],
         "title": {
          "text": "Reasons"
         }
        },
        "yaxis": {
         "anchor": "x",
         "domain": [
          0,
          1
         ],
         "title": {
          "text": "Amounts"
         }
        }
       }
      },
      "text/html": [
       "<div>                            <div id=\"f1e92b34-fa02-4046-91d4-7976a3070d38\" class=\"plotly-graph-div\" style=\"height:525px; width:100%;\"></div>            <script type=\"text/javascript\">                require([\"plotly\"], function(Plotly) {                    window.PLOTLYENV=window.PLOTLYENV || {};                                    if (document.getElementById(\"f1e92b34-fa02-4046-91d4-7976a3070d38\")) {                    Plotly.newPlot(                        \"f1e92b34-fa02-4046-91d4-7976a3070d38\",                        [{\"alignmentgroup\": \"True\", \"hovertemplate\": \"variable=intake_type<br>Reasons=%{x}<br>Amounts=%{y}<extra></extra>\", \"legendgroup\": \"intake_type\", \"marker\": {\"color\": \"#dec3c3 \"}, \"name\": \"intake_type\", \"offsetgroup\": \"intake_type\", \"orientation\": \"v\", \"showlegend\": true, \"textposition\": \"auto\", \"type\": \"bar\", \"x\": [\"Stray\", \"Owner Surrender\", \"Public Assist\", \"Euthanasia Request\"], \"xaxis\": \"x\", \"y\": [14927, 5080, 420, 5], \"yaxis\": \"y\"}],                        {\"barmode\": \"relative\", \"legend\": {\"title\": {\"text\": \"variable\"}, \"tracegroupgap\": 0}, \"plot_bgcolor\": \"#4d648d\", \"showlegend\": false, \"template\": {\"data\": {\"bar\": [{\"error_x\": {\"color\": \"#2a3f5f\"}, \"error_y\": {\"color\": \"#2a3f5f\"}, \"marker\": {\"line\": {\"color\": \"#E5ECF6\", \"width\": 0.5}}, \"type\": \"bar\"}], \"barpolar\": [{\"marker\": {\"line\": {\"color\": \"#E5ECF6\", \"width\": 0.5}}, \"type\": \"barpolar\"}], \"carpet\": [{\"aaxis\": {\"endlinecolor\": \"#2a3f5f\", \"gridcolor\": \"white\", \"linecolor\": \"white\", \"minorgridcolor\": \"white\", \"startlinecolor\": \"#2a3f5f\"}, \"baxis\": {\"endlinecolor\": \"#2a3f5f\", \"gridcolor\": \"white\", \"linecolor\": \"white\", \"minorgridcolor\": \"white\", \"startlinecolor\": \"#2a3f5f\"}, \"type\": \"carpet\"}], \"choropleth\": [{\"colorbar\": {\"outlinewidth\": 0, \"ticks\": \"\"}, \"type\": \"choropleth\"}], \"contour\": [{\"colorbar\": {\"outlinewidth\": 0, \"ticks\": \"\"}, \"colorscale\": [[0.0, \"#0d0887\"], [0.1111111111111111, \"#46039f\"], [0.2222222222222222, \"#7201a8\"], [0.3333333333333333, \"#9c179e\"], [0.4444444444444444, \"#bd3786\"], [0.5555555555555556, \"#d8576b\"], [0.6666666666666666, \"#ed7953\"], [0.7777777777777778, \"#fb9f3a\"], [0.8888888888888888, \"#fdca26\"], [1.0, \"#f0f921\"]], \"type\": \"contour\"}], \"contourcarpet\": [{\"colorbar\": {\"outlinewidth\": 0, \"ticks\": \"\"}, \"type\": \"contourcarpet\"}], \"heatmap\": [{\"colorbar\": {\"outlinewidth\": 0, \"ticks\": \"\"}, \"colorscale\": [[0.0, \"#0d0887\"], [0.1111111111111111, \"#46039f\"], [0.2222222222222222, \"#7201a8\"], [0.3333333333333333, \"#9c179e\"], [0.4444444444444444, \"#bd3786\"], [0.5555555555555556, \"#d8576b\"], [0.6666666666666666, \"#ed7953\"], [0.7777777777777778, \"#fb9f3a\"], [0.8888888888888888, \"#fdca26\"], [1.0, \"#f0f921\"]], \"type\": \"heatmap\"}], \"heatmapgl\": [{\"colorbar\": {\"outlinewidth\": 0, \"ticks\": \"\"}, \"colorscale\": [[0.0, \"#0d0887\"], [0.1111111111111111, \"#46039f\"], [0.2222222222222222, \"#7201a8\"], [0.3333333333333333, \"#9c179e\"], [0.4444444444444444, \"#bd3786\"], [0.5555555555555556, \"#d8576b\"], [0.6666666666666666, \"#ed7953\"], [0.7777777777777778, \"#fb9f3a\"], [0.8888888888888888, \"#fdca26\"], [1.0, \"#f0f921\"]], \"type\": \"heatmapgl\"}], \"histogram\": [{\"marker\": {\"colorbar\": {\"outlinewidth\": 0, \"ticks\": \"\"}}, \"type\": \"histogram\"}], \"histogram2d\": [{\"colorbar\": {\"outlinewidth\": 0, \"ticks\": \"\"}, \"colorscale\": [[0.0, \"#0d0887\"], [0.1111111111111111, \"#46039f\"], [0.2222222222222222, \"#7201a8\"], [0.3333333333333333, \"#9c179e\"], [0.4444444444444444, \"#bd3786\"], [0.5555555555555556, \"#d8576b\"], [0.6666666666666666, \"#ed7953\"], [0.7777777777777778, \"#fb9f3a\"], [0.8888888888888888, \"#fdca26\"], [1.0, \"#f0f921\"]], \"type\": \"histogram2d\"}], \"histogram2dcontour\": [{\"colorbar\": {\"outlinewidth\": 0, \"ticks\": \"\"}, \"colorscale\": [[0.0, \"#0d0887\"], [0.1111111111111111, \"#46039f\"], [0.2222222222222222, \"#7201a8\"], [0.3333333333333333, \"#9c179e\"], [0.4444444444444444, \"#bd3786\"], [0.5555555555555556, \"#d8576b\"], [0.6666666666666666, \"#ed7953\"], [0.7777777777777778, \"#fb9f3a\"], [0.8888888888888888, \"#fdca26\"], [1.0, \"#f0f921\"]], \"type\": \"histogram2dcontour\"}], \"mesh3d\": [{\"colorbar\": {\"outlinewidth\": 0, \"ticks\": \"\"}, \"type\": \"mesh3d\"}], \"parcoords\": [{\"line\": {\"colorbar\": {\"outlinewidth\": 0, \"ticks\": \"\"}}, \"type\": \"parcoords\"}], \"pie\": [{\"automargin\": true, \"type\": \"pie\"}], \"scatter\": [{\"marker\": {\"colorbar\": {\"outlinewidth\": 0, \"ticks\": \"\"}}, \"type\": \"scatter\"}], \"scatter3d\": [{\"line\": {\"colorbar\": {\"outlinewidth\": 0, \"ticks\": \"\"}}, \"marker\": {\"colorbar\": {\"outlinewidth\": 0, \"ticks\": \"\"}}, \"type\": \"scatter3d\"}], \"scattercarpet\": [{\"marker\": {\"colorbar\": {\"outlinewidth\": 0, \"ticks\": \"\"}}, \"type\": \"scattercarpet\"}], \"scattergeo\": [{\"marker\": {\"colorbar\": {\"outlinewidth\": 0, \"ticks\": \"\"}}, \"type\": \"scattergeo\"}], \"scattergl\": [{\"marker\": {\"colorbar\": {\"outlinewidth\": 0, \"ticks\": \"\"}}, \"type\": \"scattergl\"}], \"scattermapbox\": [{\"marker\": {\"colorbar\": {\"outlinewidth\": 0, \"ticks\": \"\"}}, \"type\": \"scattermapbox\"}], \"scatterpolar\": [{\"marker\": {\"colorbar\": {\"outlinewidth\": 0, \"ticks\": \"\"}}, \"type\": \"scatterpolar\"}], \"scatterpolargl\": [{\"marker\": {\"colorbar\": {\"outlinewidth\": 0, \"ticks\": \"\"}}, \"type\": \"scatterpolargl\"}], \"scatterternary\": [{\"marker\": {\"colorbar\": {\"outlinewidth\": 0, \"ticks\": \"\"}}, \"type\": \"scatterternary\"}], \"surface\": [{\"colorbar\": {\"outlinewidth\": 0, \"ticks\": \"\"}, \"colorscale\": [[0.0, \"#0d0887\"], [0.1111111111111111, \"#46039f\"], [0.2222222222222222, \"#7201a8\"], [0.3333333333333333, \"#9c179e\"], [0.4444444444444444, \"#bd3786\"], [0.5555555555555556, \"#d8576b\"], [0.6666666666666666, \"#ed7953\"], [0.7777777777777778, \"#fb9f3a\"], [0.8888888888888888, \"#fdca26\"], [1.0, \"#f0f921\"]], \"type\": \"surface\"}], \"table\": [{\"cells\": {\"fill\": {\"color\": \"#EBF0F8\"}, \"line\": {\"color\": \"white\"}}, \"header\": {\"fill\": {\"color\": \"#C8D4E3\"}, \"line\": {\"color\": \"white\"}}, \"type\": \"table\"}]}, \"layout\": {\"annotationdefaults\": {\"arrowcolor\": \"#2a3f5f\", \"arrowhead\": 0, \"arrowwidth\": 1}, \"coloraxis\": {\"colorbar\": {\"outlinewidth\": 0, \"ticks\": \"\"}}, \"colorscale\": {\"diverging\": [[0, \"#8e0152\"], [0.1, \"#c51b7d\"], [0.2, \"#de77ae\"], [0.3, \"#f1b6da\"], [0.4, \"#fde0ef\"], [0.5, \"#f7f7f7\"], [0.6, \"#e6f5d0\"], [0.7, \"#b8e186\"], [0.8, \"#7fbc41\"], [0.9, \"#4d9221\"], [1, \"#276419\"]], \"sequential\": [[0.0, \"#0d0887\"], [0.1111111111111111, \"#46039f\"], [0.2222222222222222, \"#7201a8\"], [0.3333333333333333, \"#9c179e\"], [0.4444444444444444, \"#bd3786\"], [0.5555555555555556, \"#d8576b\"], [0.6666666666666666, \"#ed7953\"], [0.7777777777777778, \"#fb9f3a\"], [0.8888888888888888, \"#fdca26\"], [1.0, \"#f0f921\"]], \"sequentialminus\": [[0.0, \"#0d0887\"], [0.1111111111111111, \"#46039f\"], [0.2222222222222222, \"#7201a8\"], [0.3333333333333333, \"#9c179e\"], [0.4444444444444444, \"#bd3786\"], [0.5555555555555556, \"#d8576b\"], [0.6666666666666666, \"#ed7953\"], [0.7777777777777778, \"#fb9f3a\"], [0.8888888888888888, \"#fdca26\"], [1.0, \"#f0f921\"]]}, \"colorway\": [\"#636efa\", \"#EF553B\", \"#00cc96\", \"#ab63fa\", \"#FFA15A\", \"#19d3f3\", \"#FF6692\", \"#B6E880\", \"#FF97FF\", \"#FECB52\"], \"font\": {\"color\": \"#2a3f5f\"}, \"geo\": {\"bgcolor\": \"white\", \"lakecolor\": \"white\", \"landcolor\": \"#E5ECF6\", \"showlakes\": true, \"showland\": true, \"subunitcolor\": \"white\"}, \"hoverlabel\": {\"align\": \"left\"}, \"hovermode\": \"closest\", \"mapbox\": {\"style\": \"light\"}, \"paper_bgcolor\": \"white\", \"plot_bgcolor\": \"#E5ECF6\", \"polar\": {\"angularaxis\": {\"gridcolor\": \"white\", \"linecolor\": \"white\", \"ticks\": \"\"}, \"bgcolor\": \"#E5ECF6\", \"radialaxis\": {\"gridcolor\": \"white\", \"linecolor\": \"white\", \"ticks\": \"\"}}, \"scene\": {\"xaxis\": {\"backgroundcolor\": \"#E5ECF6\", \"gridcolor\": \"white\", \"gridwidth\": 2, \"linecolor\": \"white\", \"showbackground\": true, \"ticks\": \"\", \"zerolinecolor\": \"white\"}, \"yaxis\": {\"backgroundcolor\": \"#E5ECF6\", \"gridcolor\": \"white\", \"gridwidth\": 2, \"linecolor\": \"white\", \"showbackground\": true, \"ticks\": \"\", \"zerolinecolor\": \"white\"}, \"zaxis\": {\"backgroundcolor\": \"#E5ECF6\", \"gridcolor\": \"white\", \"gridwidth\": 2, \"linecolor\": \"white\", \"showbackground\": true, \"ticks\": \"\", \"zerolinecolor\": \"white\"}}, \"shapedefaults\": {\"line\": {\"color\": \"#2a3f5f\"}}, \"ternary\": {\"aaxis\": {\"gridcolor\": \"white\", \"linecolor\": \"white\", \"ticks\": \"\"}, \"baxis\": {\"gridcolor\": \"white\", \"linecolor\": \"white\", \"ticks\": \"\"}, \"bgcolor\": \"#E5ECF6\", \"caxis\": {\"gridcolor\": \"white\", \"linecolor\": \"white\", \"ticks\": \"\"}}, \"title\": {\"x\": 0.05}, \"xaxis\": {\"automargin\": true, \"gridcolor\": \"white\", \"linecolor\": \"white\", \"ticks\": \"\", \"title\": {\"standoff\": 15}, \"zerolinecolor\": \"white\", \"zerolinewidth\": 2}, \"yaxis\": {\"automargin\": true, \"gridcolor\": \"white\", \"linecolor\": \"white\", \"ticks\": \"\", \"title\": {\"standoff\": 15}, \"zerolinecolor\": \"white\", \"zerolinewidth\": 2}}}, \"title\": {\"text\": \"Reason for intake\"}, \"xaxis\": {\"anchor\": \"y\", \"domain\": [0.0, 1.0], \"title\": {\"text\": \"Reasons\"}}, \"yaxis\": {\"anchor\": \"x\", \"domain\": [0.0, 1.0], \"title\": {\"text\": \"Amounts\"}}},                        {\"responsive\": true}                    ).then(function(){\n",
       "                            \n",
       "var gd = document.getElementById('f1e92b34-fa02-4046-91d4-7976a3070d38');\n",
       "var x = new MutationObserver(function (mutations, observer) {{\n",
       "        var display = window.getComputedStyle(gd).display;\n",
       "        if (!display || display === 'none') {{\n",
       "            console.log([gd, 'removed!']);\n",
       "            Plotly.purge(gd);\n",
       "            observer.disconnect();\n",
       "        }}\n",
       "}});\n",
       "\n",
       "// Listen for the removal of the full notebook cells\n",
       "var notebookContainer = gd.closest('#notebook-container');\n",
       "if (notebookContainer) {{\n",
       "    x.observe(notebookContainer, {childList: true});\n",
       "}}\n",
       "\n",
       "// Listen for the clearing of the current output cell\n",
       "var outputEl = gd.closest('.output');\n",
       "if (outputEl) {{\n",
       "    x.observe(outputEl, {childList: true});\n",
       "}}\n",
       "\n",
       "                        })                };                });            </script>        </div>"
      ]
     },
     "metadata": {},
     "output_type": "display_data"
    }
   ],
   "source": [
    "data=df.intake_type.value_counts()\n",
    "fig=px.bar(data, title=\"Reason for intake\",labels={'index': 'Reasons','value':'Amounts'},color_discrete_sequence=['#dec3c3 '])\n",
    "fig.update_layout(\n",
    "    showlegend=False,\n",
    "    plot_bgcolor = '#4d648d',\n",
    "    )\n",
    "\n",
    "fig.show()"
   ]
  },
  {
   "cell_type": "code",
   "execution_count": 147,
   "metadata": {},
   "outputs": [],
   "source": [
    "# features=[   'dob_year', 'dob_month',\n",
    "#        'age_upon_intake', 'animal_id_intake',\n",
    "#        'count', 'age_upon_intake_days', 'age_upon_intake_tears',\n",
    "#        'age_upon_intake_age_group', 'intake_year', 'intake_weekday', 'intake_hour', 'intake_number',\n",
    "#        'time_in_shelter', 'time_in_shelter_days', 'has_second_color', 'is_dog', 'is_male', 'is_fixed', 'found_lat',\n",
    "#        'found_lon', 'is_breed2', 'is_mix', \n",
    "#        'max_weight', 'max_height', 'max_life', 'health', 'color_bin',\n",
    "#        'was_owned', 'season', 'intake_month_1', 'intake_month_2',\n",
    "#        'intake_month_3', 'intake_month_4', 'intake_month_5', 'intake_month_6',\n",
    "#        'intake_month_7', 'intake_month_8', 'intake_month_9', 'intake_month_10',\n",
    "#        'intake_month_11', 'intake_month_12']"
   ]
  },
  {
   "cell_type": "code",
   "execution_count": 154,
   "metadata": {},
   "outputs": [],
   "source": [
    "features=['dob_year', 'dob_month',\n",
    "       'age_upon_intake', 'animal_id_intake',\n",
    "       'count', 'age_upon_intake_days', 'age_upon_intake_tears',\n",
    "       'age_upon_intake_age_group', 'intake_year', 'intake_weekday', 'intake_hour', 'intake_number',\n",
    "       'time_in_shelter', 'time_in_shelter_days', 'has_second_color', 'is_dog', 'is_male', 'is_fixed', 'found_lat',\n",
    "       'found_lon', 'is_breed2', 'is_mix', \n",
    "       'max_weight', 'max_height', 'max_life', 'health', 'color_bin',\n",
    "       'was_owned', 'season', 'intake_month']"
   ]
  },
  {
   "cell_type": "code",
   "execution_count": 155,
   "metadata": {},
   "outputs": [
    {
     "data": {
      "text/plain": [
       "'dob_year+dob_month+age_upon_intake+animal_id_intake+count+age_upon_intake_days+age_upon_intake_tears+age_upon_intake_age_group+intake_year+intake_weekday+intake_hour+intake_number+time_in_shelter+time_in_shelter_days+has_second_color+is_dog+is_male+is_fixed+found_lat+found_lon+is_breed2+is_mix+max_weight+max_height+max_life+health+color_bin+was_owned+season+intake_month'"
      ]
     },
     "execution_count": 155,
     "metadata": {},
     "output_type": "execute_result"
    }
   ],
   "source": [
    "featurelist='+'.join(features)\n",
    "featurelist"
   ]
  },
  {
   "cell_type": "code",
   "execution_count": 156,
   "metadata": {},
   "outputs": [
    {
     "data": {
      "text/plain": [
       "dob_year                       int64\n",
       "dob_month                      int64\n",
       "age_upon_intake                int64\n",
       "animal_id_intake               int64\n",
       "count                          int64\n",
       "age_upon_intake_days           int64\n",
       "age_upon_intake_tears        float64\n",
       "age_upon_intake_age_group      int64\n",
       "intake_year                    int64\n",
       "intake_weekday                 int64\n",
       "intake_hour                    int64\n",
       "intake_number                float64\n",
       "time_in_shelter                int64\n",
       "time_in_shelter_days         float64\n",
       "has_second_color               int64\n",
       "is_dog                         int64\n",
       "is_male                        int64\n",
       "is_fixed                       int64\n",
       "found_lat                    float64\n",
       "found_lon                    float64\n",
       "is_breed2                      int64\n",
       "is_mix                         int64\n",
       "max_weight                   float64\n",
       "max_height                   float64\n",
       "max_life                     float64\n",
       "health                         int64\n",
       "color_bin                     object\n",
       "was_owned                      int64\n",
       "season                         int64\n",
       "intake_month                   int64\n",
       "dtype: object"
      ]
     },
     "execution_count": 156,
     "metadata": {},
     "output_type": "execute_result"
    }
   ],
   "source": [
    "df[features].dtypes"
   ]
  },
  {
   "cell_type": "code",
   "execution_count": 157,
   "metadata": {},
   "outputs": [
    {
     "data": {
      "text/html": [
       "<div>\n",
       "<style scoped>\n",
       "    .dataframe tbody tr th:only-of-type {\n",
       "        vertical-align: middle;\n",
       "    }\n",
       "\n",
       "    .dataframe tbody tr th {\n",
       "        vertical-align: top;\n",
       "    }\n",
       "\n",
       "    .dataframe thead th {\n",
       "        text-align: right;\n",
       "    }\n",
       "</style>\n",
       "<table border=\"1\" class=\"dataframe\">\n",
       "  <thead>\n",
       "    <tr style=\"text-align: right;\">\n",
       "      <th></th>\n",
       "      <th>dob_year</th>\n",
       "      <th>dob_month</th>\n",
       "      <th>age_upon_intake</th>\n",
       "      <th>animal_id_intake</th>\n",
       "      <th>count</th>\n",
       "      <th>age_upon_intake_days</th>\n",
       "      <th>age_upon_intake_tears</th>\n",
       "      <th>age_upon_intake_age_group</th>\n",
       "      <th>intake_year</th>\n",
       "      <th>intake_weekday</th>\n",
       "      <th>intake_hour</th>\n",
       "      <th>intake_number</th>\n",
       "      <th>time_in_shelter</th>\n",
       "      <th>time_in_shelter_days</th>\n",
       "      <th>has_second_color</th>\n",
       "      <th>is_dog</th>\n",
       "      <th>is_male</th>\n",
       "      <th>is_fixed</th>\n",
       "      <th>found_lat</th>\n",
       "      <th>found_lon</th>\n",
       "      <th>is_breed2</th>\n",
       "      <th>is_mix</th>\n",
       "      <th>max_weight</th>\n",
       "      <th>max_height</th>\n",
       "      <th>max_life</th>\n",
       "      <th>health</th>\n",
       "      <th>was_owned</th>\n",
       "      <th>season</th>\n",
       "      <th>intake_month</th>\n",
       "    </tr>\n",
       "  </thead>\n",
       "  <tbody>\n",
       "    <tr>\n",
       "      <th>dob_year</th>\n",
       "      <td>1.000000</td>\n",
       "      <td>-0.087577</td>\n",
       "      <td>-0.437901</td>\n",
       "      <td>0.593848</td>\n",
       "      <td>NaN</td>\n",
       "      <td>-0.868105</td>\n",
       "      <td>-0.868105</td>\n",
       "      <td>-0.820347</td>\n",
       "      <td>0.469682</td>\n",
       "      <td>-0.010128</td>\n",
       "      <td>-0.010781</td>\n",
       "      <td>-0.032566</td>\n",
       "      <td>-0.124379</td>\n",
       "      <td>-0.177873</td>\n",
       "      <td>0.057978</td>\n",
       "      <td>NaN</td>\n",
       "      <td>-0.016541</td>\n",
       "      <td>-0.007942</td>\n",
       "      <td>-0.046791</td>\n",
       "      <td>-0.046203</td>\n",
       "      <td>-0.033838</td>\n",
       "      <td>0.097415</td>\n",
       "      <td>0.124672</td>\n",
       "      <td>0.130283</td>\n",
       "      <td>-0.103694</td>\n",
       "      <td>0.020955</td>\n",
       "      <td>-0.120987</td>\n",
       "      <td>-0.003581</td>\n",
       "      <td>-0.057909</td>\n",
       "    </tr>\n",
       "    <tr>\n",
       "      <th>dob_month</th>\n",
       "      <td>-0.087577</td>\n",
       "      <td>1.000000</td>\n",
       "      <td>-0.028128</td>\n",
       "      <td>0.012006</td>\n",
       "      <td>NaN</td>\n",
       "      <td>-0.026497</td>\n",
       "      <td>-0.026497</td>\n",
       "      <td>-0.022211</td>\n",
       "      <td>-0.097064</td>\n",
       "      <td>-0.004635</td>\n",
       "      <td>0.016835</td>\n",
       "      <td>0.006986</td>\n",
       "      <td>-0.008839</td>\n",
       "      <td>-0.015525</td>\n",
       "      <td>0.024687</td>\n",
       "      <td>NaN</td>\n",
       "      <td>-0.008152</td>\n",
       "      <td>0.007147</td>\n",
       "      <td>-0.007343</td>\n",
       "      <td>-0.007312</td>\n",
       "      <td>-0.003192</td>\n",
       "      <td>0.010722</td>\n",
       "      <td>0.012269</td>\n",
       "      <td>0.014146</td>\n",
       "      <td>0.000193</td>\n",
       "      <td>0.000918</td>\n",
       "      <td>-0.010213</td>\n",
       "      <td>0.050764</td>\n",
       "      <td>0.428505</td>\n",
       "    </tr>\n",
       "    <tr>\n",
       "      <th>age_upon_intake</th>\n",
       "      <td>-0.437901</td>\n",
       "      <td>-0.028128</td>\n",
       "      <td>1.000000</td>\n",
       "      <td>-0.152944</td>\n",
       "      <td>NaN</td>\n",
       "      <td>0.514173</td>\n",
       "      <td>0.514173</td>\n",
       "      <td>0.564663</td>\n",
       "      <td>0.003737</td>\n",
       "      <td>-0.002731</td>\n",
       "      <td>0.005868</td>\n",
       "      <td>-0.003936</td>\n",
       "      <td>-0.011329</td>\n",
       "      <td>0.031198</td>\n",
       "      <td>-0.020847</td>\n",
       "      <td>NaN</td>\n",
       "      <td>-0.009308</td>\n",
       "      <td>-0.013123</td>\n",
       "      <td>0.023178</td>\n",
       "      <td>0.023012</td>\n",
       "      <td>-0.011551</td>\n",
       "      <td>-0.056877</td>\n",
       "      <td>-0.030772</td>\n",
       "      <td>-0.023387</td>\n",
       "      <td>0.028239</td>\n",
       "      <td>-0.004294</td>\n",
       "      <td>0.105179</td>\n",
       "      <td>0.026688</td>\n",
       "      <td>0.010485</td>\n",
       "    </tr>\n",
       "    <tr>\n",
       "      <th>animal_id_intake</th>\n",
       "      <td>0.593848</td>\n",
       "      <td>0.012006</td>\n",
       "      <td>-0.152944</td>\n",
       "      <td>1.000000</td>\n",
       "      <td>NaN</td>\n",
       "      <td>-0.262284</td>\n",
       "      <td>-0.262284</td>\n",
       "      <td>-0.263608</td>\n",
       "      <td>0.717761</td>\n",
       "      <td>-0.001087</td>\n",
       "      <td>-0.025556</td>\n",
       "      <td>-0.024242</td>\n",
       "      <td>-0.093379</td>\n",
       "      <td>-0.123188</td>\n",
       "      <td>0.005519</td>\n",
       "      <td>NaN</td>\n",
       "      <td>0.004882</td>\n",
       "      <td>-0.042540</td>\n",
       "      <td>-0.021683</td>\n",
       "      <td>-0.021572</td>\n",
       "      <td>-0.115697</td>\n",
       "      <td>0.062213</td>\n",
       "      <td>0.039345</td>\n",
       "      <td>0.031266</td>\n",
       "      <td>-0.030412</td>\n",
       "      <td>0.007425</td>\n",
       "      <td>-0.068193</td>\n",
       "      <td>0.006129</td>\n",
       "      <td>-0.021236</td>\n",
       "    </tr>\n",
       "    <tr>\n",
       "      <th>count</th>\n",
       "      <td>NaN</td>\n",
       "      <td>NaN</td>\n",
       "      <td>NaN</td>\n",
       "      <td>NaN</td>\n",
       "      <td>NaN</td>\n",
       "      <td>NaN</td>\n",
       "      <td>NaN</td>\n",
       "      <td>NaN</td>\n",
       "      <td>NaN</td>\n",
       "      <td>NaN</td>\n",
       "      <td>NaN</td>\n",
       "      <td>NaN</td>\n",
       "      <td>NaN</td>\n",
       "      <td>NaN</td>\n",
       "      <td>NaN</td>\n",
       "      <td>NaN</td>\n",
       "      <td>NaN</td>\n",
       "      <td>NaN</td>\n",
       "      <td>NaN</td>\n",
       "      <td>NaN</td>\n",
       "      <td>NaN</td>\n",
       "      <td>NaN</td>\n",
       "      <td>NaN</td>\n",
       "      <td>NaN</td>\n",
       "      <td>NaN</td>\n",
       "      <td>NaN</td>\n",
       "      <td>NaN</td>\n",
       "      <td>NaN</td>\n",
       "      <td>NaN</td>\n",
       "    </tr>\n",
       "    <tr>\n",
       "      <th>age_upon_intake_days</th>\n",
       "      <td>-0.868105</td>\n",
       "      <td>-0.026497</td>\n",
       "      <td>0.514173</td>\n",
       "      <td>-0.262284</td>\n",
       "      <td>NaN</td>\n",
       "      <td>1.000000</td>\n",
       "      <td>1.000000</td>\n",
       "      <td>0.947687</td>\n",
       "      <td>0.007509</td>\n",
       "      <td>0.011554</td>\n",
       "      <td>-0.010211</td>\n",
       "      <td>0.019228</td>\n",
       "      <td>0.101166</td>\n",
       "      <td>0.161278</td>\n",
       "      <td>-0.060282</td>\n",
       "      <td>NaN</td>\n",
       "      <td>0.022509</td>\n",
       "      <td>-0.014473</td>\n",
       "      <td>0.047593</td>\n",
       "      <td>0.046889</td>\n",
       "      <td>-0.043255</td>\n",
       "      <td>-0.102756</td>\n",
       "      <td>-0.114205</td>\n",
       "      <td>-0.125801</td>\n",
       "      <td>0.097103</td>\n",
       "      <td>-0.014564</td>\n",
       "      <td>0.153936</td>\n",
       "      <td>0.008565</td>\n",
       "      <td>-0.003865</td>\n",
       "    </tr>\n",
       "    <tr>\n",
       "      <th>age_upon_intake_tears</th>\n",
       "      <td>-0.868105</td>\n",
       "      <td>-0.026497</td>\n",
       "      <td>0.514173</td>\n",
       "      <td>-0.262284</td>\n",
       "      <td>NaN</td>\n",
       "      <td>1.000000</td>\n",
       "      <td>1.000000</td>\n",
       "      <td>0.947687</td>\n",
       "      <td>0.007509</td>\n",
       "      <td>0.011554</td>\n",
       "      <td>-0.010211</td>\n",
       "      <td>0.019228</td>\n",
       "      <td>0.101166</td>\n",
       "      <td>0.161278</td>\n",
       "      <td>-0.060282</td>\n",
       "      <td>NaN</td>\n",
       "      <td>0.022509</td>\n",
       "      <td>-0.014473</td>\n",
       "      <td>0.047593</td>\n",
       "      <td>0.046889</td>\n",
       "      <td>-0.043255</td>\n",
       "      <td>-0.102756</td>\n",
       "      <td>-0.114205</td>\n",
       "      <td>-0.125801</td>\n",
       "      <td>0.097103</td>\n",
       "      <td>-0.014564</td>\n",
       "      <td>0.153936</td>\n",
       "      <td>0.008565</td>\n",
       "      <td>-0.003865</td>\n",
       "    </tr>\n",
       "    <tr>\n",
       "      <th>age_upon_intake_age_group</th>\n",
       "      <td>-0.820347</td>\n",
       "      <td>-0.022211</td>\n",
       "      <td>0.564663</td>\n",
       "      <td>-0.263608</td>\n",
       "      <td>NaN</td>\n",
       "      <td>0.947687</td>\n",
       "      <td>0.947687</td>\n",
       "      <td>1.000000</td>\n",
       "      <td>0.011429</td>\n",
       "      <td>0.006952</td>\n",
       "      <td>-0.012952</td>\n",
       "      <td>0.001412</td>\n",
       "      <td>0.081050</td>\n",
       "      <td>0.134220</td>\n",
       "      <td>-0.056237</td>\n",
       "      <td>NaN</td>\n",
       "      <td>0.007588</td>\n",
       "      <td>-0.025181</td>\n",
       "      <td>0.033067</td>\n",
       "      <td>0.032505</td>\n",
       "      <td>-0.034742</td>\n",
       "      <td>-0.091303</td>\n",
       "      <td>-0.095622</td>\n",
       "      <td>-0.105664</td>\n",
       "      <td>0.081317</td>\n",
       "      <td>-0.010414</td>\n",
       "      <td>0.149967</td>\n",
       "      <td>0.001105</td>\n",
       "      <td>-0.003138</td>\n",
       "    </tr>\n",
       "    <tr>\n",
       "      <th>intake_year</th>\n",
       "      <td>0.469682</td>\n",
       "      <td>-0.097064</td>\n",
       "      <td>0.003737</td>\n",
       "      <td>0.717761</td>\n",
       "      <td>NaN</td>\n",
       "      <td>0.007509</td>\n",
       "      <td>0.007509</td>\n",
       "      <td>0.011429</td>\n",
       "      <td>1.000000</td>\n",
       "      <td>0.002032</td>\n",
       "      <td>-0.040956</td>\n",
       "      <td>-0.026737</td>\n",
       "      <td>-0.073566</td>\n",
       "      <td>-0.068618</td>\n",
       "      <td>0.015411</td>\n",
       "      <td>NaN</td>\n",
       "      <td>0.005338</td>\n",
       "      <td>-0.032921</td>\n",
       "      <td>-0.013799</td>\n",
       "      <td>-0.013785</td>\n",
       "      <td>-0.137435</td>\n",
       "      <td>0.013279</td>\n",
       "      <td>0.063012</td>\n",
       "      <td>0.054445</td>\n",
       "      <td>-0.046338</td>\n",
       "      <td>0.020309</td>\n",
       "      <td>0.053542</td>\n",
       "      <td>0.041131</td>\n",
       "      <td>-0.252797</td>\n",
       "    </tr>\n",
       "    <tr>\n",
       "      <th>intake_weekday</th>\n",
       "      <td>-0.010128</td>\n",
       "      <td>-0.004635</td>\n",
       "      <td>-0.002731</td>\n",
       "      <td>-0.001087</td>\n",
       "      <td>NaN</td>\n",
       "      <td>0.011554</td>\n",
       "      <td>0.011554</td>\n",
       "      <td>0.006952</td>\n",
       "      <td>0.002032</td>\n",
       "      <td>1.000000</td>\n",
       "      <td>-0.046490</td>\n",
       "      <td>-0.007440</td>\n",
       "      <td>0.004770</td>\n",
       "      <td>0.009144</td>\n",
       "      <td>-0.001346</td>\n",
       "      <td>NaN</td>\n",
       "      <td>0.017040</td>\n",
       "      <td>0.004088</td>\n",
       "      <td>-0.016735</td>\n",
       "      <td>-0.016796</td>\n",
       "      <td>-0.018633</td>\n",
       "      <td>0.001849</td>\n",
       "      <td>0.006163</td>\n",
       "      <td>0.010949</td>\n",
       "      <td>-0.002845</td>\n",
       "      <td>0.010566</td>\n",
       "      <td>0.008313</td>\n",
       "      <td>0.012323</td>\n",
       "      <td>-0.017661</td>\n",
       "    </tr>\n",
       "    <tr>\n",
       "      <th>intake_hour</th>\n",
       "      <td>-0.010781</td>\n",
       "      <td>0.016835</td>\n",
       "      <td>0.005868</td>\n",
       "      <td>-0.025556</td>\n",
       "      <td>NaN</td>\n",
       "      <td>-0.010211</td>\n",
       "      <td>-0.010211</td>\n",
       "      <td>-0.012952</td>\n",
       "      <td>-0.040956</td>\n",
       "      <td>-0.046490</td>\n",
       "      <td>1.000000</td>\n",
       "      <td>-0.005190</td>\n",
       "      <td>-0.016234</td>\n",
       "      <td>-0.003046</td>\n",
       "      <td>-0.000701</td>\n",
       "      <td>NaN</td>\n",
       "      <td>-0.007448</td>\n",
       "      <td>-0.008309</td>\n",
       "      <td>0.004939</td>\n",
       "      <td>0.004971</td>\n",
       "      <td>-0.002094</td>\n",
       "      <td>-0.005345</td>\n",
       "      <td>-0.002626</td>\n",
       "      <td>0.000465</td>\n",
       "      <td>0.008370</td>\n",
       "      <td>0.057451</td>\n",
       "      <td>-0.039273</td>\n",
       "      <td>0.025882</td>\n",
       "      <td>0.009018</td>\n",
       "    </tr>\n",
       "    <tr>\n",
       "      <th>intake_number</th>\n",
       "      <td>-0.032566</td>\n",
       "      <td>0.006986</td>\n",
       "      <td>-0.003936</td>\n",
       "      <td>-0.024242</td>\n",
       "      <td>NaN</td>\n",
       "      <td>0.019228</td>\n",
       "      <td>0.019228</td>\n",
       "      <td>0.001412</td>\n",
       "      <td>-0.026737</td>\n",
       "      <td>-0.007440</td>\n",
       "      <td>-0.005190</td>\n",
       "      <td>1.000000</td>\n",
       "      <td>0.043869</td>\n",
       "      <td>0.026544</td>\n",
       "      <td>0.039289</td>\n",
       "      <td>NaN</td>\n",
       "      <td>0.005999</td>\n",
       "      <td>0.006613</td>\n",
       "      <td>0.008911</td>\n",
       "      <td>0.008711</td>\n",
       "      <td>-0.007136</td>\n",
       "      <td>-0.009844</td>\n",
       "      <td>0.067942</td>\n",
       "      <td>0.082274</td>\n",
       "      <td>-0.040691</td>\n",
       "      <td>0.022008</td>\n",
       "      <td>0.038182</td>\n",
       "      <td>-0.002400</td>\n",
       "      <td>-0.002221</td>\n",
       "    </tr>\n",
       "    <tr>\n",
       "      <th>time_in_shelter</th>\n",
       "      <td>-0.124379</td>\n",
       "      <td>-0.008839</td>\n",
       "      <td>-0.011329</td>\n",
       "      <td>-0.093379</td>\n",
       "      <td>NaN</td>\n",
       "      <td>0.101166</td>\n",
       "      <td>0.101166</td>\n",
       "      <td>0.081050</td>\n",
       "      <td>-0.073566</td>\n",
       "      <td>0.004770</td>\n",
       "      <td>-0.016234</td>\n",
       "      <td>0.043869</td>\n",
       "      <td>1.000000</td>\n",
       "      <td>0.538528</td>\n",
       "      <td>0.041323</td>\n",
       "      <td>NaN</td>\n",
       "      <td>0.015550</td>\n",
       "      <td>0.033726</td>\n",
       "      <td>-0.004994</td>\n",
       "      <td>-0.004972</td>\n",
       "      <td>0.005978</td>\n",
       "      <td>-0.002939</td>\n",
       "      <td>0.117337</td>\n",
       "      <td>0.124228</td>\n",
       "      <td>-0.071959</td>\n",
       "      <td>-0.140413</td>\n",
       "      <td>-0.018850</td>\n",
       "      <td>-0.028393</td>\n",
       "      <td>0.022442</td>\n",
       "    </tr>\n",
       "    <tr>\n",
       "      <th>time_in_shelter_days</th>\n",
       "      <td>-0.177873</td>\n",
       "      <td>-0.015525</td>\n",
       "      <td>0.031198</td>\n",
       "      <td>-0.123188</td>\n",
       "      <td>NaN</td>\n",
       "      <td>0.161278</td>\n",
       "      <td>0.161278</td>\n",
       "      <td>0.134220</td>\n",
       "      <td>-0.068618</td>\n",
       "      <td>0.009144</td>\n",
       "      <td>-0.003046</td>\n",
       "      <td>0.026544</td>\n",
       "      <td>0.538528</td>\n",
       "      <td>1.000000</td>\n",
       "      <td>0.047870</td>\n",
       "      <td>NaN</td>\n",
       "      <td>0.005003</td>\n",
       "      <td>0.038611</td>\n",
       "      <td>0.005830</td>\n",
       "      <td>0.006160</td>\n",
       "      <td>-0.016694</td>\n",
       "      <td>-0.004113</td>\n",
       "      <td>0.110273</td>\n",
       "      <td>0.110725</td>\n",
       "      <td>-0.059088</td>\n",
       "      <td>-0.132720</td>\n",
       "      <td>0.006813</td>\n",
       "      <td>-0.032538</td>\n",
       "      <td>-0.002341</td>\n",
       "    </tr>\n",
       "    <tr>\n",
       "      <th>has_second_color</th>\n",
       "      <td>0.057978</td>\n",
       "      <td>0.024687</td>\n",
       "      <td>-0.020847</td>\n",
       "      <td>0.005519</td>\n",
       "      <td>NaN</td>\n",
       "      <td>-0.060282</td>\n",
       "      <td>-0.060282</td>\n",
       "      <td>-0.056237</td>\n",
       "      <td>0.015411</td>\n",
       "      <td>-0.001346</td>\n",
       "      <td>-0.000701</td>\n",
       "      <td>0.039289</td>\n",
       "      <td>0.041323</td>\n",
       "      <td>0.047870</td>\n",
       "      <td>1.000000</td>\n",
       "      <td>NaN</td>\n",
       "      <td>0.001499</td>\n",
       "      <td>0.007821</td>\n",
       "      <td>0.003158</td>\n",
       "      <td>0.003082</td>\n",
       "      <td>0.006067</td>\n",
       "      <td>0.012250</td>\n",
       "      <td>0.069639</td>\n",
       "      <td>0.069602</td>\n",
       "      <td>-0.045572</td>\n",
       "      <td>0.001266</td>\n",
       "      <td>0.000555</td>\n",
       "      <td>0.012631</td>\n",
       "      <td>0.013278</td>\n",
       "    </tr>\n",
       "    <tr>\n",
       "      <th>is_dog</th>\n",
       "      <td>NaN</td>\n",
       "      <td>NaN</td>\n",
       "      <td>NaN</td>\n",
       "      <td>NaN</td>\n",
       "      <td>NaN</td>\n",
       "      <td>NaN</td>\n",
       "      <td>NaN</td>\n",
       "      <td>NaN</td>\n",
       "      <td>NaN</td>\n",
       "      <td>NaN</td>\n",
       "      <td>NaN</td>\n",
       "      <td>NaN</td>\n",
       "      <td>NaN</td>\n",
       "      <td>NaN</td>\n",
       "      <td>NaN</td>\n",
       "      <td>NaN</td>\n",
       "      <td>NaN</td>\n",
       "      <td>NaN</td>\n",
       "      <td>NaN</td>\n",
       "      <td>NaN</td>\n",
       "      <td>NaN</td>\n",
       "      <td>NaN</td>\n",
       "      <td>NaN</td>\n",
       "      <td>NaN</td>\n",
       "      <td>NaN</td>\n",
       "      <td>NaN</td>\n",
       "      <td>NaN</td>\n",
       "      <td>NaN</td>\n",
       "      <td>NaN</td>\n",
       "    </tr>\n",
       "    <tr>\n",
       "      <th>is_male</th>\n",
       "      <td>-0.016541</td>\n",
       "      <td>-0.008152</td>\n",
       "      <td>-0.009308</td>\n",
       "      <td>0.004882</td>\n",
       "      <td>NaN</td>\n",
       "      <td>0.022509</td>\n",
       "      <td>0.022509</td>\n",
       "      <td>0.007588</td>\n",
       "      <td>0.005338</td>\n",
       "      <td>0.017040</td>\n",
       "      <td>-0.007448</td>\n",
       "      <td>0.005999</td>\n",
       "      <td>0.015550</td>\n",
       "      <td>0.005003</td>\n",
       "      <td>0.001499</td>\n",
       "      <td>NaN</td>\n",
       "      <td>1.000000</td>\n",
       "      <td>0.007832</td>\n",
       "      <td>0.010335</td>\n",
       "      <td>0.010557</td>\n",
       "      <td>0.018278</td>\n",
       "      <td>-0.006512</td>\n",
       "      <td>0.011397</td>\n",
       "      <td>-0.017285</td>\n",
       "      <td>-0.017747</td>\n",
       "      <td>-0.023583</td>\n",
       "      <td>-0.029375</td>\n",
       "      <td>-0.003419</td>\n",
       "      <td>-0.006884</td>\n",
       "    </tr>\n",
       "    <tr>\n",
       "      <th>is_fixed</th>\n",
       "      <td>-0.007942</td>\n",
       "      <td>0.007147</td>\n",
       "      <td>-0.013123</td>\n",
       "      <td>-0.042540</td>\n",
       "      <td>NaN</td>\n",
       "      <td>-0.014473</td>\n",
       "      <td>-0.014473</td>\n",
       "      <td>-0.025181</td>\n",
       "      <td>-0.032921</td>\n",
       "      <td>0.004088</td>\n",
       "      <td>-0.008309</td>\n",
       "      <td>0.006613</td>\n",
       "      <td>0.033726</td>\n",
       "      <td>0.038611</td>\n",
       "      <td>0.007821</td>\n",
       "      <td>NaN</td>\n",
       "      <td>0.007832</td>\n",
       "      <td>1.000000</td>\n",
       "      <td>-0.004661</td>\n",
       "      <td>-0.004510</td>\n",
       "      <td>0.021105</td>\n",
       "      <td>0.030940</td>\n",
       "      <td>-0.007972</td>\n",
       "      <td>0.002116</td>\n",
       "      <td>0.005598</td>\n",
       "      <td>0.056819</td>\n",
       "      <td>0.016003</td>\n",
       "      <td>0.023882</td>\n",
       "      <td>-0.010811</td>\n",
       "    </tr>\n",
       "    <tr>\n",
       "      <th>found_lat</th>\n",
       "      <td>-0.046791</td>\n",
       "      <td>-0.007343</td>\n",
       "      <td>0.023178</td>\n",
       "      <td>-0.021683</td>\n",
       "      <td>NaN</td>\n",
       "      <td>0.047593</td>\n",
       "      <td>0.047593</td>\n",
       "      <td>0.033067</td>\n",
       "      <td>-0.013799</td>\n",
       "      <td>-0.016735</td>\n",
       "      <td>0.004939</td>\n",
       "      <td>0.008911</td>\n",
       "      <td>-0.004994</td>\n",
       "      <td>0.005830</td>\n",
       "      <td>0.003158</td>\n",
       "      <td>NaN</td>\n",
       "      <td>0.010335</td>\n",
       "      <td>-0.004661</td>\n",
       "      <td>1.000000</td>\n",
       "      <td>0.999221</td>\n",
       "      <td>0.004048</td>\n",
       "      <td>0.001549</td>\n",
       "      <td>-0.014012</td>\n",
       "      <td>-0.015271</td>\n",
       "      <td>0.011913</td>\n",
       "      <td>-0.012163</td>\n",
       "      <td>0.021683</td>\n",
       "      <td>0.006173</td>\n",
       "      <td>0.011390</td>\n",
       "    </tr>\n",
       "    <tr>\n",
       "      <th>found_lon</th>\n",
       "      <td>-0.046203</td>\n",
       "      <td>-0.007312</td>\n",
       "      <td>0.023012</td>\n",
       "      <td>-0.021572</td>\n",
       "      <td>NaN</td>\n",
       "      <td>0.046889</td>\n",
       "      <td>0.046889</td>\n",
       "      <td>0.032505</td>\n",
       "      <td>-0.013785</td>\n",
       "      <td>-0.016796</td>\n",
       "      <td>0.004971</td>\n",
       "      <td>0.008711</td>\n",
       "      <td>-0.004972</td>\n",
       "      <td>0.006160</td>\n",
       "      <td>0.003082</td>\n",
       "      <td>NaN</td>\n",
       "      <td>0.010557</td>\n",
       "      <td>-0.004510</td>\n",
       "      <td>0.999221</td>\n",
       "      <td>1.000000</td>\n",
       "      <td>0.004009</td>\n",
       "      <td>0.001845</td>\n",
       "      <td>-0.015003</td>\n",
       "      <td>-0.016039</td>\n",
       "      <td>0.012706</td>\n",
       "      <td>-0.012084</td>\n",
       "      <td>0.020078</td>\n",
       "      <td>0.006587</td>\n",
       "      <td>0.010572</td>\n",
       "    </tr>\n",
       "    <tr>\n",
       "      <th>is_breed2</th>\n",
       "      <td>-0.033838</td>\n",
       "      <td>-0.003192</td>\n",
       "      <td>-0.011551</td>\n",
       "      <td>-0.115697</td>\n",
       "      <td>NaN</td>\n",
       "      <td>-0.043255</td>\n",
       "      <td>-0.043255</td>\n",
       "      <td>-0.034742</td>\n",
       "      <td>-0.137435</td>\n",
       "      <td>-0.018633</td>\n",
       "      <td>-0.002094</td>\n",
       "      <td>-0.007136</td>\n",
       "      <td>0.005978</td>\n",
       "      <td>-0.016694</td>\n",
       "      <td>0.006067</td>\n",
       "      <td>NaN</td>\n",
       "      <td>0.018278</td>\n",
       "      <td>0.021105</td>\n",
       "      <td>0.004048</td>\n",
       "      <td>0.004009</td>\n",
       "      <td>1.000000</td>\n",
       "      <td>0.107646</td>\n",
       "      <td>-0.002321</td>\n",
       "      <td>-0.014154</td>\n",
       "      <td>-0.017773</td>\n",
       "      <td>0.006057</td>\n",
       "      <td>0.030265</td>\n",
       "      <td>0.003531</td>\n",
       "      <td>-0.020567</td>\n",
       "    </tr>\n",
       "    <tr>\n",
       "      <th>is_mix</th>\n",
       "      <td>0.097415</td>\n",
       "      <td>0.010722</td>\n",
       "      <td>-0.056877</td>\n",
       "      <td>0.062213</td>\n",
       "      <td>NaN</td>\n",
       "      <td>-0.102756</td>\n",
       "      <td>-0.102756</td>\n",
       "      <td>-0.091303</td>\n",
       "      <td>0.013279</td>\n",
       "      <td>0.001849</td>\n",
       "      <td>-0.005345</td>\n",
       "      <td>-0.009844</td>\n",
       "      <td>-0.002939</td>\n",
       "      <td>-0.004113</td>\n",
       "      <td>0.012250</td>\n",
       "      <td>NaN</td>\n",
       "      <td>-0.006512</td>\n",
       "      <td>0.030940</td>\n",
       "      <td>0.001549</td>\n",
       "      <td>0.001845</td>\n",
       "      <td>0.107646</td>\n",
       "      <td>1.000000</td>\n",
       "      <td>-0.018265</td>\n",
       "      <td>-0.023526</td>\n",
       "      <td>0.037086</td>\n",
       "      <td>-0.002579</td>\n",
       "      <td>-0.035441</td>\n",
       "      <td>-0.024738</td>\n",
       "      <td>0.010107</td>\n",
       "    </tr>\n",
       "    <tr>\n",
       "      <th>max_weight</th>\n",
       "      <td>0.124672</td>\n",
       "      <td>0.012269</td>\n",
       "      <td>-0.030772</td>\n",
       "      <td>0.039345</td>\n",
       "      <td>NaN</td>\n",
       "      <td>-0.114205</td>\n",
       "      <td>-0.114205</td>\n",
       "      <td>-0.095622</td>\n",
       "      <td>0.063012</td>\n",
       "      <td>0.006163</td>\n",
       "      <td>-0.002626</td>\n",
       "      <td>0.067942</td>\n",
       "      <td>0.117337</td>\n",
       "      <td>0.110273</td>\n",
       "      <td>0.069639</td>\n",
       "      <td>NaN</td>\n",
       "      <td>0.011397</td>\n",
       "      <td>-0.007972</td>\n",
       "      <td>-0.014012</td>\n",
       "      <td>-0.015003</td>\n",
       "      <td>-0.002321</td>\n",
       "      <td>-0.018265</td>\n",
       "      <td>1.000000</td>\n",
       "      <td>0.849368</td>\n",
       "      <td>-0.716710</td>\n",
       "      <td>0.026575</td>\n",
       "      <td>0.034011</td>\n",
       "      <td>0.006772</td>\n",
       "      <td>0.004742</td>\n",
       "    </tr>\n",
       "    <tr>\n",
       "      <th>max_height</th>\n",
       "      <td>0.130283</td>\n",
       "      <td>0.014146</td>\n",
       "      <td>-0.023387</td>\n",
       "      <td>0.031266</td>\n",
       "      <td>NaN</td>\n",
       "      <td>-0.125801</td>\n",
       "      <td>-0.125801</td>\n",
       "      <td>-0.105664</td>\n",
       "      <td>0.054445</td>\n",
       "      <td>0.010949</td>\n",
       "      <td>0.000465</td>\n",
       "      <td>0.082274</td>\n",
       "      <td>0.124228</td>\n",
       "      <td>0.110725</td>\n",
       "      <td>0.069602</td>\n",
       "      <td>NaN</td>\n",
       "      <td>-0.017285</td>\n",
       "      <td>0.002116</td>\n",
       "      <td>-0.015271</td>\n",
       "      <td>-0.016039</td>\n",
       "      <td>-0.014154</td>\n",
       "      <td>-0.023526</td>\n",
       "      <td>0.849368</td>\n",
       "      <td>1.000000</td>\n",
       "      <td>-0.638607</td>\n",
       "      <td>0.034113</td>\n",
       "      <td>0.030510</td>\n",
       "      <td>0.008560</td>\n",
       "      <td>0.003087</td>\n",
       "    </tr>\n",
       "    <tr>\n",
       "      <th>max_life</th>\n",
       "      <td>-0.103694</td>\n",
       "      <td>0.000193</td>\n",
       "      <td>0.028239</td>\n",
       "      <td>-0.030412</td>\n",
       "      <td>NaN</td>\n",
       "      <td>0.097103</td>\n",
       "      <td>0.097103</td>\n",
       "      <td>0.081317</td>\n",
       "      <td>-0.046338</td>\n",
       "      <td>-0.002845</td>\n",
       "      <td>0.008370</td>\n",
       "      <td>-0.040691</td>\n",
       "      <td>-0.071959</td>\n",
       "      <td>-0.059088</td>\n",
       "      <td>-0.045572</td>\n",
       "      <td>NaN</td>\n",
       "      <td>-0.017747</td>\n",
       "      <td>0.005598</td>\n",
       "      <td>0.011913</td>\n",
       "      <td>0.012706</td>\n",
       "      <td>-0.017773</td>\n",
       "      <td>0.037086</td>\n",
       "      <td>-0.716710</td>\n",
       "      <td>-0.638607</td>\n",
       "      <td>1.000000</td>\n",
       "      <td>-0.026674</td>\n",
       "      <td>-0.030764</td>\n",
       "      <td>-0.000322</td>\n",
       "      <td>-0.006308</td>\n",
       "    </tr>\n",
       "    <tr>\n",
       "      <th>health</th>\n",
       "      <td>0.020955</td>\n",
       "      <td>0.000918</td>\n",
       "      <td>-0.004294</td>\n",
       "      <td>0.007425</td>\n",
       "      <td>NaN</td>\n",
       "      <td>-0.014564</td>\n",
       "      <td>-0.014564</td>\n",
       "      <td>-0.010414</td>\n",
       "      <td>0.020309</td>\n",
       "      <td>0.010566</td>\n",
       "      <td>0.057451</td>\n",
       "      <td>0.022008</td>\n",
       "      <td>-0.140413</td>\n",
       "      <td>-0.132720</td>\n",
       "      <td>0.001266</td>\n",
       "      <td>NaN</td>\n",
       "      <td>-0.023583</td>\n",
       "      <td>0.056819</td>\n",
       "      <td>-0.012163</td>\n",
       "      <td>-0.012084</td>\n",
       "      <td>0.006057</td>\n",
       "      <td>-0.002579</td>\n",
       "      <td>0.026575</td>\n",
       "      <td>0.034113</td>\n",
       "      <td>-0.026674</td>\n",
       "      <td>1.000000</td>\n",
       "      <td>0.045560</td>\n",
       "      <td>0.019597</td>\n",
       "      <td>-0.018264</td>\n",
       "    </tr>\n",
       "    <tr>\n",
       "      <th>was_owned</th>\n",
       "      <td>-0.120987</td>\n",
       "      <td>-0.010213</td>\n",
       "      <td>0.105179</td>\n",
       "      <td>-0.068193</td>\n",
       "      <td>NaN</td>\n",
       "      <td>0.153936</td>\n",
       "      <td>0.153936</td>\n",
       "      <td>0.149967</td>\n",
       "      <td>0.053542</td>\n",
       "      <td>0.008313</td>\n",
       "      <td>-0.039273</td>\n",
       "      <td>0.038182</td>\n",
       "      <td>-0.018850</td>\n",
       "      <td>0.006813</td>\n",
       "      <td>0.000555</td>\n",
       "      <td>NaN</td>\n",
       "      <td>-0.029375</td>\n",
       "      <td>0.016003</td>\n",
       "      <td>0.021683</td>\n",
       "      <td>0.020078</td>\n",
       "      <td>0.030265</td>\n",
       "      <td>-0.035441</td>\n",
       "      <td>0.034011</td>\n",
       "      <td>0.030510</td>\n",
       "      <td>-0.030764</td>\n",
       "      <td>0.045560</td>\n",
       "      <td>1.000000</td>\n",
       "      <td>0.021654</td>\n",
       "      <td>-0.026546</td>\n",
       "    </tr>\n",
       "    <tr>\n",
       "      <th>season</th>\n",
       "      <td>-0.003581</td>\n",
       "      <td>0.050764</td>\n",
       "      <td>0.026688</td>\n",
       "      <td>0.006129</td>\n",
       "      <td>NaN</td>\n",
       "      <td>0.008565</td>\n",
       "      <td>0.008565</td>\n",
       "      <td>0.001105</td>\n",
       "      <td>0.041131</td>\n",
       "      <td>0.012323</td>\n",
       "      <td>0.025882</td>\n",
       "      <td>-0.002400</td>\n",
       "      <td>-0.028393</td>\n",
       "      <td>-0.032538</td>\n",
       "      <td>0.012631</td>\n",
       "      <td>NaN</td>\n",
       "      <td>-0.003419</td>\n",
       "      <td>0.023882</td>\n",
       "      <td>0.006173</td>\n",
       "      <td>0.006587</td>\n",
       "      <td>0.003531</td>\n",
       "      <td>-0.024738</td>\n",
       "      <td>0.006772</td>\n",
       "      <td>0.008560</td>\n",
       "      <td>-0.000322</td>\n",
       "      <td>0.019597</td>\n",
       "      <td>0.021654</td>\n",
       "      <td>1.000000</td>\n",
       "      <td>-0.107009</td>\n",
       "    </tr>\n",
       "    <tr>\n",
       "      <th>intake_month</th>\n",
       "      <td>-0.057909</td>\n",
       "      <td>0.428505</td>\n",
       "      <td>0.010485</td>\n",
       "      <td>-0.021236</td>\n",
       "      <td>NaN</td>\n",
       "      <td>-0.003865</td>\n",
       "      <td>-0.003865</td>\n",
       "      <td>-0.003138</td>\n",
       "      <td>-0.252797</td>\n",
       "      <td>-0.017661</td>\n",
       "      <td>0.009018</td>\n",
       "      <td>-0.002221</td>\n",
       "      <td>0.022442</td>\n",
       "      <td>-0.002341</td>\n",
       "      <td>0.013278</td>\n",
       "      <td>NaN</td>\n",
       "      <td>-0.006884</td>\n",
       "      <td>-0.010811</td>\n",
       "      <td>0.011390</td>\n",
       "      <td>0.010572</td>\n",
       "      <td>-0.020567</td>\n",
       "      <td>0.010107</td>\n",
       "      <td>0.004742</td>\n",
       "      <td>0.003087</td>\n",
       "      <td>-0.006308</td>\n",
       "      <td>-0.018264</td>\n",
       "      <td>-0.026546</td>\n",
       "      <td>-0.107009</td>\n",
       "      <td>1.000000</td>\n",
       "    </tr>\n",
       "  </tbody>\n",
       "</table>\n",
       "</div>"
      ],
      "text/plain": [
       "                           dob_year  dob_month  age_upon_intake  \\\n",
       "dob_year                   1.000000  -0.087577        -0.437901   \n",
       "dob_month                 -0.087577   1.000000        -0.028128   \n",
       "age_upon_intake           -0.437901  -0.028128         1.000000   \n",
       "animal_id_intake           0.593848   0.012006        -0.152944   \n",
       "count                           NaN        NaN              NaN   \n",
       "age_upon_intake_days      -0.868105  -0.026497         0.514173   \n",
       "age_upon_intake_tears     -0.868105  -0.026497         0.514173   \n",
       "age_upon_intake_age_group -0.820347  -0.022211         0.564663   \n",
       "intake_year                0.469682  -0.097064         0.003737   \n",
       "intake_weekday            -0.010128  -0.004635        -0.002731   \n",
       "intake_hour               -0.010781   0.016835         0.005868   \n",
       "intake_number             -0.032566   0.006986        -0.003936   \n",
       "time_in_shelter           -0.124379  -0.008839        -0.011329   \n",
       "time_in_shelter_days      -0.177873  -0.015525         0.031198   \n",
       "has_second_color           0.057978   0.024687        -0.020847   \n",
       "is_dog                          NaN        NaN              NaN   \n",
       "is_male                   -0.016541  -0.008152        -0.009308   \n",
       "is_fixed                  -0.007942   0.007147        -0.013123   \n",
       "found_lat                 -0.046791  -0.007343         0.023178   \n",
       "found_lon                 -0.046203  -0.007312         0.023012   \n",
       "is_breed2                 -0.033838  -0.003192        -0.011551   \n",
       "is_mix                     0.097415   0.010722        -0.056877   \n",
       "max_weight                 0.124672   0.012269        -0.030772   \n",
       "max_height                 0.130283   0.014146        -0.023387   \n",
       "max_life                  -0.103694   0.000193         0.028239   \n",
       "health                     0.020955   0.000918        -0.004294   \n",
       "was_owned                 -0.120987  -0.010213         0.105179   \n",
       "season                    -0.003581   0.050764         0.026688   \n",
       "intake_month              -0.057909   0.428505         0.010485   \n",
       "\n",
       "                           animal_id_intake  count  age_upon_intake_days  \\\n",
       "dob_year                           0.593848    NaN             -0.868105   \n",
       "dob_month                          0.012006    NaN             -0.026497   \n",
       "age_upon_intake                   -0.152944    NaN              0.514173   \n",
       "animal_id_intake                   1.000000    NaN             -0.262284   \n",
       "count                                   NaN    NaN                   NaN   \n",
       "age_upon_intake_days              -0.262284    NaN              1.000000   \n",
       "age_upon_intake_tears             -0.262284    NaN              1.000000   \n",
       "age_upon_intake_age_group         -0.263608    NaN              0.947687   \n",
       "intake_year                        0.717761    NaN              0.007509   \n",
       "intake_weekday                    -0.001087    NaN              0.011554   \n",
       "intake_hour                       -0.025556    NaN             -0.010211   \n",
       "intake_number                     -0.024242    NaN              0.019228   \n",
       "time_in_shelter                   -0.093379    NaN              0.101166   \n",
       "time_in_shelter_days              -0.123188    NaN              0.161278   \n",
       "has_second_color                   0.005519    NaN             -0.060282   \n",
       "is_dog                                  NaN    NaN                   NaN   \n",
       "is_male                            0.004882    NaN              0.022509   \n",
       "is_fixed                          -0.042540    NaN             -0.014473   \n",
       "found_lat                         -0.021683    NaN              0.047593   \n",
       "found_lon                         -0.021572    NaN              0.046889   \n",
       "is_breed2                         -0.115697    NaN             -0.043255   \n",
       "is_mix                             0.062213    NaN             -0.102756   \n",
       "max_weight                         0.039345    NaN             -0.114205   \n",
       "max_height                         0.031266    NaN             -0.125801   \n",
       "max_life                          -0.030412    NaN              0.097103   \n",
       "health                             0.007425    NaN             -0.014564   \n",
       "was_owned                         -0.068193    NaN              0.153936   \n",
       "season                             0.006129    NaN              0.008565   \n",
       "intake_month                      -0.021236    NaN             -0.003865   \n",
       "\n",
       "                           age_upon_intake_tears  age_upon_intake_age_group  \\\n",
       "dob_year                               -0.868105                  -0.820347   \n",
       "dob_month                              -0.026497                  -0.022211   \n",
       "age_upon_intake                         0.514173                   0.564663   \n",
       "animal_id_intake                       -0.262284                  -0.263608   \n",
       "count                                        NaN                        NaN   \n",
       "age_upon_intake_days                    1.000000                   0.947687   \n",
       "age_upon_intake_tears                   1.000000                   0.947687   \n",
       "age_upon_intake_age_group               0.947687                   1.000000   \n",
       "intake_year                             0.007509                   0.011429   \n",
       "intake_weekday                          0.011554                   0.006952   \n",
       "intake_hour                            -0.010211                  -0.012952   \n",
       "intake_number                           0.019228                   0.001412   \n",
       "time_in_shelter                         0.101166                   0.081050   \n",
       "time_in_shelter_days                    0.161278                   0.134220   \n",
       "has_second_color                       -0.060282                  -0.056237   \n",
       "is_dog                                       NaN                        NaN   \n",
       "is_male                                 0.022509                   0.007588   \n",
       "is_fixed                               -0.014473                  -0.025181   \n",
       "found_lat                               0.047593                   0.033067   \n",
       "found_lon                               0.046889                   0.032505   \n",
       "is_breed2                              -0.043255                  -0.034742   \n",
       "is_mix                                 -0.102756                  -0.091303   \n",
       "max_weight                             -0.114205                  -0.095622   \n",
       "max_height                             -0.125801                  -0.105664   \n",
       "max_life                                0.097103                   0.081317   \n",
       "health                                 -0.014564                  -0.010414   \n",
       "was_owned                               0.153936                   0.149967   \n",
       "season                                  0.008565                   0.001105   \n",
       "intake_month                           -0.003865                  -0.003138   \n",
       "\n",
       "                           intake_year  intake_weekday  intake_hour  \\\n",
       "dob_year                      0.469682       -0.010128    -0.010781   \n",
       "dob_month                    -0.097064       -0.004635     0.016835   \n",
       "age_upon_intake               0.003737       -0.002731     0.005868   \n",
       "animal_id_intake              0.717761       -0.001087    -0.025556   \n",
       "count                              NaN             NaN          NaN   \n",
       "age_upon_intake_days          0.007509        0.011554    -0.010211   \n",
       "age_upon_intake_tears         0.007509        0.011554    -0.010211   \n",
       "age_upon_intake_age_group     0.011429        0.006952    -0.012952   \n",
       "intake_year                   1.000000        0.002032    -0.040956   \n",
       "intake_weekday                0.002032        1.000000    -0.046490   \n",
       "intake_hour                  -0.040956       -0.046490     1.000000   \n",
       "intake_number                -0.026737       -0.007440    -0.005190   \n",
       "time_in_shelter              -0.073566        0.004770    -0.016234   \n",
       "time_in_shelter_days         -0.068618        0.009144    -0.003046   \n",
       "has_second_color              0.015411       -0.001346    -0.000701   \n",
       "is_dog                             NaN             NaN          NaN   \n",
       "is_male                       0.005338        0.017040    -0.007448   \n",
       "is_fixed                     -0.032921        0.004088    -0.008309   \n",
       "found_lat                    -0.013799       -0.016735     0.004939   \n",
       "found_lon                    -0.013785       -0.016796     0.004971   \n",
       "is_breed2                    -0.137435       -0.018633    -0.002094   \n",
       "is_mix                        0.013279        0.001849    -0.005345   \n",
       "max_weight                    0.063012        0.006163    -0.002626   \n",
       "max_height                    0.054445        0.010949     0.000465   \n",
       "max_life                     -0.046338       -0.002845     0.008370   \n",
       "health                        0.020309        0.010566     0.057451   \n",
       "was_owned                     0.053542        0.008313    -0.039273   \n",
       "season                        0.041131        0.012323     0.025882   \n",
       "intake_month                 -0.252797       -0.017661     0.009018   \n",
       "\n",
       "                           intake_number  time_in_shelter  \\\n",
       "dob_year                       -0.032566        -0.124379   \n",
       "dob_month                       0.006986        -0.008839   \n",
       "age_upon_intake                -0.003936        -0.011329   \n",
       "animal_id_intake               -0.024242        -0.093379   \n",
       "count                                NaN              NaN   \n",
       "age_upon_intake_days            0.019228         0.101166   \n",
       "age_upon_intake_tears           0.019228         0.101166   \n",
       "age_upon_intake_age_group       0.001412         0.081050   \n",
       "intake_year                    -0.026737        -0.073566   \n",
       "intake_weekday                 -0.007440         0.004770   \n",
       "intake_hour                    -0.005190        -0.016234   \n",
       "intake_number                   1.000000         0.043869   \n",
       "time_in_shelter                 0.043869         1.000000   \n",
       "time_in_shelter_days            0.026544         0.538528   \n",
       "has_second_color                0.039289         0.041323   \n",
       "is_dog                               NaN              NaN   \n",
       "is_male                         0.005999         0.015550   \n",
       "is_fixed                        0.006613         0.033726   \n",
       "found_lat                       0.008911        -0.004994   \n",
       "found_lon                       0.008711        -0.004972   \n",
       "is_breed2                      -0.007136         0.005978   \n",
       "is_mix                         -0.009844        -0.002939   \n",
       "max_weight                      0.067942         0.117337   \n",
       "max_height                      0.082274         0.124228   \n",
       "max_life                       -0.040691        -0.071959   \n",
       "health                          0.022008        -0.140413   \n",
       "was_owned                       0.038182        -0.018850   \n",
       "season                         -0.002400        -0.028393   \n",
       "intake_month                   -0.002221         0.022442   \n",
       "\n",
       "                           time_in_shelter_days  has_second_color  is_dog  \\\n",
       "dob_year                              -0.177873          0.057978     NaN   \n",
       "dob_month                             -0.015525          0.024687     NaN   \n",
       "age_upon_intake                        0.031198         -0.020847     NaN   \n",
       "animal_id_intake                      -0.123188          0.005519     NaN   \n",
       "count                                       NaN               NaN     NaN   \n",
       "age_upon_intake_days                   0.161278         -0.060282     NaN   \n",
       "age_upon_intake_tears                  0.161278         -0.060282     NaN   \n",
       "age_upon_intake_age_group              0.134220         -0.056237     NaN   \n",
       "intake_year                           -0.068618          0.015411     NaN   \n",
       "intake_weekday                         0.009144         -0.001346     NaN   \n",
       "intake_hour                           -0.003046         -0.000701     NaN   \n",
       "intake_number                          0.026544          0.039289     NaN   \n",
       "time_in_shelter                        0.538528          0.041323     NaN   \n",
       "time_in_shelter_days                   1.000000          0.047870     NaN   \n",
       "has_second_color                       0.047870          1.000000     NaN   \n",
       "is_dog                                      NaN               NaN     NaN   \n",
       "is_male                                0.005003          0.001499     NaN   \n",
       "is_fixed                               0.038611          0.007821     NaN   \n",
       "found_lat                              0.005830          0.003158     NaN   \n",
       "found_lon                              0.006160          0.003082     NaN   \n",
       "is_breed2                             -0.016694          0.006067     NaN   \n",
       "is_mix                                -0.004113          0.012250     NaN   \n",
       "max_weight                             0.110273          0.069639     NaN   \n",
       "max_height                             0.110725          0.069602     NaN   \n",
       "max_life                              -0.059088         -0.045572     NaN   \n",
       "health                                -0.132720          0.001266     NaN   \n",
       "was_owned                              0.006813          0.000555     NaN   \n",
       "season                                -0.032538          0.012631     NaN   \n",
       "intake_month                          -0.002341          0.013278     NaN   \n",
       "\n",
       "                            is_male  is_fixed  found_lat  found_lon  \\\n",
       "dob_year                  -0.016541 -0.007942  -0.046791  -0.046203   \n",
       "dob_month                 -0.008152  0.007147  -0.007343  -0.007312   \n",
       "age_upon_intake           -0.009308 -0.013123   0.023178   0.023012   \n",
       "animal_id_intake           0.004882 -0.042540  -0.021683  -0.021572   \n",
       "count                           NaN       NaN        NaN        NaN   \n",
       "age_upon_intake_days       0.022509 -0.014473   0.047593   0.046889   \n",
       "age_upon_intake_tears      0.022509 -0.014473   0.047593   0.046889   \n",
       "age_upon_intake_age_group  0.007588 -0.025181   0.033067   0.032505   \n",
       "intake_year                0.005338 -0.032921  -0.013799  -0.013785   \n",
       "intake_weekday             0.017040  0.004088  -0.016735  -0.016796   \n",
       "intake_hour               -0.007448 -0.008309   0.004939   0.004971   \n",
       "intake_number              0.005999  0.006613   0.008911   0.008711   \n",
       "time_in_shelter            0.015550  0.033726  -0.004994  -0.004972   \n",
       "time_in_shelter_days       0.005003  0.038611   0.005830   0.006160   \n",
       "has_second_color           0.001499  0.007821   0.003158   0.003082   \n",
       "is_dog                          NaN       NaN        NaN        NaN   \n",
       "is_male                    1.000000  0.007832   0.010335   0.010557   \n",
       "is_fixed                   0.007832  1.000000  -0.004661  -0.004510   \n",
       "found_lat                  0.010335 -0.004661   1.000000   0.999221   \n",
       "found_lon                  0.010557 -0.004510   0.999221   1.000000   \n",
       "is_breed2                  0.018278  0.021105   0.004048   0.004009   \n",
       "is_mix                    -0.006512  0.030940   0.001549   0.001845   \n",
       "max_weight                 0.011397 -0.007972  -0.014012  -0.015003   \n",
       "max_height                -0.017285  0.002116  -0.015271  -0.016039   \n",
       "max_life                  -0.017747  0.005598   0.011913   0.012706   \n",
       "health                    -0.023583  0.056819  -0.012163  -0.012084   \n",
       "was_owned                 -0.029375  0.016003   0.021683   0.020078   \n",
       "season                    -0.003419  0.023882   0.006173   0.006587   \n",
       "intake_month              -0.006884 -0.010811   0.011390   0.010572   \n",
       "\n",
       "                           is_breed2    is_mix  max_weight  max_height  \\\n",
       "dob_year                   -0.033838  0.097415    0.124672    0.130283   \n",
       "dob_month                  -0.003192  0.010722    0.012269    0.014146   \n",
       "age_upon_intake            -0.011551 -0.056877   -0.030772   -0.023387   \n",
       "animal_id_intake           -0.115697  0.062213    0.039345    0.031266   \n",
       "count                            NaN       NaN         NaN         NaN   \n",
       "age_upon_intake_days       -0.043255 -0.102756   -0.114205   -0.125801   \n",
       "age_upon_intake_tears      -0.043255 -0.102756   -0.114205   -0.125801   \n",
       "age_upon_intake_age_group  -0.034742 -0.091303   -0.095622   -0.105664   \n",
       "intake_year                -0.137435  0.013279    0.063012    0.054445   \n",
       "intake_weekday             -0.018633  0.001849    0.006163    0.010949   \n",
       "intake_hour                -0.002094 -0.005345   -0.002626    0.000465   \n",
       "intake_number              -0.007136 -0.009844    0.067942    0.082274   \n",
       "time_in_shelter             0.005978 -0.002939    0.117337    0.124228   \n",
       "time_in_shelter_days       -0.016694 -0.004113    0.110273    0.110725   \n",
       "has_second_color            0.006067  0.012250    0.069639    0.069602   \n",
       "is_dog                           NaN       NaN         NaN         NaN   \n",
       "is_male                     0.018278 -0.006512    0.011397   -0.017285   \n",
       "is_fixed                    0.021105  0.030940   -0.007972    0.002116   \n",
       "found_lat                   0.004048  0.001549   -0.014012   -0.015271   \n",
       "found_lon                   0.004009  0.001845   -0.015003   -0.016039   \n",
       "is_breed2                   1.000000  0.107646   -0.002321   -0.014154   \n",
       "is_mix                      0.107646  1.000000   -0.018265   -0.023526   \n",
       "max_weight                 -0.002321 -0.018265    1.000000    0.849368   \n",
       "max_height                 -0.014154 -0.023526    0.849368    1.000000   \n",
       "max_life                   -0.017773  0.037086   -0.716710   -0.638607   \n",
       "health                      0.006057 -0.002579    0.026575    0.034113   \n",
       "was_owned                   0.030265 -0.035441    0.034011    0.030510   \n",
       "season                      0.003531 -0.024738    0.006772    0.008560   \n",
       "intake_month               -0.020567  0.010107    0.004742    0.003087   \n",
       "\n",
       "                           max_life    health  was_owned    season  \\\n",
       "dob_year                  -0.103694  0.020955  -0.120987 -0.003581   \n",
       "dob_month                  0.000193  0.000918  -0.010213  0.050764   \n",
       "age_upon_intake            0.028239 -0.004294   0.105179  0.026688   \n",
       "animal_id_intake          -0.030412  0.007425  -0.068193  0.006129   \n",
       "count                           NaN       NaN        NaN       NaN   \n",
       "age_upon_intake_days       0.097103 -0.014564   0.153936  0.008565   \n",
       "age_upon_intake_tears      0.097103 -0.014564   0.153936  0.008565   \n",
       "age_upon_intake_age_group  0.081317 -0.010414   0.149967  0.001105   \n",
       "intake_year               -0.046338  0.020309   0.053542  0.041131   \n",
       "intake_weekday            -0.002845  0.010566   0.008313  0.012323   \n",
       "intake_hour                0.008370  0.057451  -0.039273  0.025882   \n",
       "intake_number             -0.040691  0.022008   0.038182 -0.002400   \n",
       "time_in_shelter           -0.071959 -0.140413  -0.018850 -0.028393   \n",
       "time_in_shelter_days      -0.059088 -0.132720   0.006813 -0.032538   \n",
       "has_second_color          -0.045572  0.001266   0.000555  0.012631   \n",
       "is_dog                          NaN       NaN        NaN       NaN   \n",
       "is_male                   -0.017747 -0.023583  -0.029375 -0.003419   \n",
       "is_fixed                   0.005598  0.056819   0.016003  0.023882   \n",
       "found_lat                  0.011913 -0.012163   0.021683  0.006173   \n",
       "found_lon                  0.012706 -0.012084   0.020078  0.006587   \n",
       "is_breed2                 -0.017773  0.006057   0.030265  0.003531   \n",
       "is_mix                     0.037086 -0.002579  -0.035441 -0.024738   \n",
       "max_weight                -0.716710  0.026575   0.034011  0.006772   \n",
       "max_height                -0.638607  0.034113   0.030510  0.008560   \n",
       "max_life                   1.000000 -0.026674  -0.030764 -0.000322   \n",
       "health                    -0.026674  1.000000   0.045560  0.019597   \n",
       "was_owned                 -0.030764  0.045560   1.000000  0.021654   \n",
       "season                    -0.000322  0.019597   0.021654  1.000000   \n",
       "intake_month              -0.006308 -0.018264  -0.026546 -0.107009   \n",
       "\n",
       "                           intake_month  \n",
       "dob_year                      -0.057909  \n",
       "dob_month                      0.428505  \n",
       "age_upon_intake                0.010485  \n",
       "animal_id_intake              -0.021236  \n",
       "count                               NaN  \n",
       "age_upon_intake_days          -0.003865  \n",
       "age_upon_intake_tears         -0.003865  \n",
       "age_upon_intake_age_group     -0.003138  \n",
       "intake_year                   -0.252797  \n",
       "intake_weekday                -0.017661  \n",
       "intake_hour                    0.009018  \n",
       "intake_number                 -0.002221  \n",
       "time_in_shelter                0.022442  \n",
       "time_in_shelter_days          -0.002341  \n",
       "has_second_color               0.013278  \n",
       "is_dog                              NaN  \n",
       "is_male                       -0.006884  \n",
       "is_fixed                      -0.010811  \n",
       "found_lat                      0.011390  \n",
       "found_lon                      0.010572  \n",
       "is_breed2                     -0.020567  \n",
       "is_mix                         0.010107  \n",
       "max_weight                     0.004742  \n",
       "max_height                     0.003087  \n",
       "max_life                      -0.006308  \n",
       "health                        -0.018264  \n",
       "was_owned                     -0.026546  \n",
       "season                        -0.107009  \n",
       "intake_month                   1.000000  "
      ]
     },
     "execution_count": 157,
     "metadata": {},
     "output_type": "execute_result"
    }
   ],
   "source": [
    "df[features].corr()"
   ]
  },
  {
   "cell_type": "code",
   "execution_count": 158,
   "metadata": {},
   "outputs": [],
   "source": [
    "n = 4\n",
    "row_groups= [features[i:i+n] for i in range(0, len(features), n) ]"
   ]
  },
  {
   "cell_type": "code",
   "execution_count": 159,
   "metadata": {
    "scrolled": false
   },
   "outputs": [
    {
     "data": {
      "image/png": "[encoded data removed]",
      "text/plain": [
       "<Figure size 864x216 with 4 Axes>"
      ]
     },
     "metadata": {
      "needs_background": "light"
     },
     "output_type": "display_data"
    },
    {
     "data": {
      "image/png": "[encoded data removed]",
      "text/plain": [
       "<Figure size 864x216 with 4 Axes>"
      ]
     },
     "metadata": {
      "needs_background": "light"
     },
     "output_type": "display_data"
    },
    {
     "data": {
      "image/png": "[encoded data removed]",
      "text/plain": [
       "<Figure size 864x216 with 4 Axes>"
      ]
     },
     "metadata": {
      "needs_background": "light"
     },
     "output_type": "display_data"
    },
    {
     "data": {
      "image/png": "[encoded data removed]",
      "text/plain": [
       "<Figure size 864x216 with 5 Axes>"
      ]
     },
     "metadata": {
      "needs_background": "light"
     },
     "output_type": "display_data"
    },
    {
     "data": {
      "image/png": "[encoded data removed]",
      "text/plain": [
       "<Figure size 864x216 with 4 Axes>"
      ]
     },
     "metadata": {
      "needs_background": "light"
     },
     "output_type": "display_data"
    },
    {
     "data": {
      "image/png": "[encoded data removed]",
      "text/plain": [
       "<Figure size 864x216 with 4 Axes>"
      ]
     },
     "metadata": {
      "needs_background": "light"
     },
     "output_type": "display_data"
    },
    {
     "data": {
      "image/png": "[encoded data removed]",
      "text/plain": [
       "<Figure size 864x216 with 4 Axes>"
      ]
     },
     "metadata": {
      "needs_background": "light"
     },
     "output_type": "display_data"
    },
    {
     "data": {
      "image/png": "[encoded data removed]",
      "text/plain": [
       "<Figure size 432x216 with 2 Axes>"
      ]
     },
     "metadata": {
      "needs_background": "light"
     },
     "output_type": "display_data"
    }
   ],
   "source": [
    "for i in row_groups:\n",
    "    pp = sns.pairplot(data=df, y_vars=['time_in_shelter_days'],x_vars=i, kind=\"reg\", height=3)"
   ]
  },
  {
   "cell_type": "code",
   "execution_count": 160,
   "metadata": {},
   "outputs": [
    {
     "ename": "PatsyError",
     "evalue": "Error evaluating factor: NameError: name 'intake_month_8' is not defined\n    time_in_shelter_days~dob_year+dob_month+age_upon_intake+count+age_upon_intake_days+age_upon_intake_tears+age_upon_intake_age_group+intake_year+intake_weekday+intake_hour+intake_number+has_second_color+is_dog+is_male+is_fixed+found_lat+found_lon+is_breed2+is_mix+max_weight+max_height+max_life+health+color_bin+was_owned+season+intake_month_1+intake_month_2+intake_month_3+intake_month_4+intake_month_5+intake_month_6+intake_month_7+intake_month_8+intake_month_9+intake_month_10+intake_month_11+intake_month_12\n                                                                                                                                                                                                                                                                                                                                                                                                                                                    ^^^^^^^^^^^^^^",
     "output_type": "error",
     "traceback": [
      "\u001b[0;31m---------------------------------------------------------------------------\u001b[0m",
      "\u001b[0;31mNameError\u001b[0m                                 Traceback (most recent call last)",
      "\u001b[0;32m~/opt/anaconda3/lib/python3.7/site-packages/patsy/compat.py\u001b[0m in \u001b[0;36mcall_and_wrap_exc\u001b[0;34m(msg, origin, f, *args, **kwargs)\u001b[0m\n\u001b[1;32m     35\u001b[0m     \u001b[0;32mtry\u001b[0m\u001b[0;34m:\u001b[0m\u001b[0;34m\u001b[0m\u001b[0;34m\u001b[0m\u001b[0m\n\u001b[0;32m---> 36\u001b[0;31m         \u001b[0;32mreturn\u001b[0m \u001b[0mf\u001b[0m\u001b[0;34m(\u001b[0m\u001b[0;34m*\u001b[0m\u001b[0margs\u001b[0m\u001b[0;34m,\u001b[0m \u001b[0;34m**\u001b[0m\u001b[0mkwargs\u001b[0m\u001b[0;34m)\u001b[0m\u001b[0;34m\u001b[0m\u001b[0;34m\u001b[0m\u001b[0m\n\u001b[0m\u001b[1;32m     37\u001b[0m     \u001b[0;32mexcept\u001b[0m \u001b[0mException\u001b[0m \u001b[0;32mas\u001b[0m \u001b[0me\u001b[0m\u001b[0;34m:\u001b[0m\u001b[0;34m\u001b[0m\u001b[0;34m\u001b[0m\u001b[0m\n",
      "\u001b[0;32m~/opt/anaconda3/lib/python3.7/site-packages/patsy/eval.py\u001b[0m in \u001b[0;36meval\u001b[0;34m(self, expr, source_name, inner_namespace)\u001b[0m\n\u001b[1;32m    165\u001b[0m         return eval(code, {}, VarLookupDict([inner_namespace]\n\u001b[0;32m--> 166\u001b[0;31m                                             + self._namespaces))\n\u001b[0m\u001b[1;32m    167\u001b[0m \u001b[0;34m\u001b[0m\u001b[0m\n",
      "\u001b[0;32m<string>\u001b[0m in \u001b[0;36m<module>\u001b[0;34m\u001b[0m\n",
      "\u001b[0;31mNameError\u001b[0m: name 'intake_month_8' is not defined",
      "\nThe above exception was the direct cause of the following exception:\n",
      "\u001b[0;31mPatsyError\u001b[0m                                Traceback (most recent call last)",
      "\u001b[0;32m<ipython-input-160-c1e75f0c723d>\u001b[0m in \u001b[0;36m<module>\u001b[0;34m\u001b[0m\n\u001b[0;32m----> 1\u001b[0;31m \u001b[0mlr_model\u001b[0m \u001b[0;34m=\u001b[0m \u001b[0mols\u001b[0m\u001b[0;34m(\u001b[0m\u001b[0mformula\u001b[0m\u001b[0;34m=\u001b[0m\u001b[0;34m'time_in_shelter_days~dob_year+dob_month+age_upon_intake+count+age_upon_intake_days+age_upon_intake_tears+age_upon_intake_age_group+intake_year+intake_weekday+intake_hour+intake_number+has_second_color+is_dog+is_male+is_fixed+found_lat+found_lon+is_breed2+is_mix+max_weight+max_height+max_life+health+color_bin+was_owned+season+intake_month_1+intake_month_2+intake_month_3+intake_month_4+intake_month_5+intake_month_6+intake_month_7+intake_month_8+intake_month_9+intake_month_10+intake_month_11+intake_month_12'\u001b[0m\u001b[0;34m,\u001b[0m \u001b[0mdata\u001b[0m\u001b[0;34m=\u001b[0m\u001b[0mdf\u001b[0m\u001b[0;34m)\u001b[0m\u001b[0;34m.\u001b[0m\u001b[0mfit\u001b[0m\u001b[0;34m(\u001b[0m\u001b[0;34m)\u001b[0m\u001b[0;34m\u001b[0m\u001b[0;34m\u001b[0m\u001b[0m\n\u001b[0m\u001b[1;32m      2\u001b[0m \u001b[0;34m\u001b[0m\u001b[0m\n\u001b[1;32m      3\u001b[0m \u001b[0mlr_model\u001b[0m\u001b[0;34m.\u001b[0m\u001b[0msummary\u001b[0m\u001b[0;34m(\u001b[0m\u001b[0;34m)\u001b[0m\u001b[0;34m\u001b[0m\u001b[0;34m\u001b[0m\u001b[0m\n",
      "\u001b[0;32m~/opt/anaconda3/lib/python3.7/site-packages/statsmodels/base/model.py\u001b[0m in \u001b[0;36mfrom_formula\u001b[0;34m(cls, formula, data, subset, drop_cols, *args, **kwargs)\u001b[0m\n\u001b[1;32m    168\u001b[0m \u001b[0;34m\u001b[0m\u001b[0m\n\u001b[1;32m    169\u001b[0m         tmp = handle_formula_data(data, None, formula, depth=eval_env,\n\u001b[0;32m--> 170\u001b[0;31m                                   missing=missing)\n\u001b[0m\u001b[1;32m    171\u001b[0m         \u001b[0;34m(\u001b[0m\u001b[0;34m(\u001b[0m\u001b[0mendog\u001b[0m\u001b[0;34m,\u001b[0m \u001b[0mexog\u001b[0m\u001b[0;34m)\u001b[0m\u001b[0;34m,\u001b[0m \u001b[0mmissing_idx\u001b[0m\u001b[0;34m,\u001b[0m \u001b[0mdesign_info\u001b[0m\u001b[0;34m)\u001b[0m \u001b[0;34m=\u001b[0m \u001b[0mtmp\u001b[0m\u001b[0;34m\u001b[0m\u001b[0;34m\u001b[0m\u001b[0m\n\u001b[1;32m    172\u001b[0m         \u001b[0mmax_endog\u001b[0m \u001b[0;34m=\u001b[0m \u001b[0mcls\u001b[0m\u001b[0;34m.\u001b[0m\u001b[0m_formula_max_endog\u001b[0m\u001b[0;34m\u001b[0m\u001b[0;34m\u001b[0m\u001b[0m\n",
      "\u001b[0;32m~/opt/anaconda3/lib/python3.7/site-packages/statsmodels/formula/formulatools.py\u001b[0m in \u001b[0;36mhandle_formula_data\u001b[0;34m(Y, X, formula, depth, missing)\u001b[0m\n\u001b[1;32m     62\u001b[0m         \u001b[0;32mif\u001b[0m \u001b[0mdata_util\u001b[0m\u001b[0;34m.\u001b[0m\u001b[0m_is_using_pandas\u001b[0m\u001b[0;34m(\u001b[0m\u001b[0mY\u001b[0m\u001b[0;34m,\u001b[0m \u001b[0;32mNone\u001b[0m\u001b[0;34m)\u001b[0m\u001b[0;34m:\u001b[0m\u001b[0;34m\u001b[0m\u001b[0;34m\u001b[0m\u001b[0m\n\u001b[1;32m     63\u001b[0m             result = dmatrices(formula, Y, depth, return_type='dataframe',\n\u001b[0;32m---> 64\u001b[0;31m                                NA_action=na_action)\n\u001b[0m\u001b[1;32m     65\u001b[0m         \u001b[0;32melse\u001b[0m\u001b[0;34m:\u001b[0m\u001b[0;34m\u001b[0m\u001b[0;34m\u001b[0m\u001b[0m\n\u001b[1;32m     66\u001b[0m             result = dmatrices(formula, Y, depth, return_type='dataframe',\n",
      "\u001b[0;32m~/opt/anaconda3/lib/python3.7/site-packages/patsy/highlevel.py\u001b[0m in \u001b[0;36mdmatrices\u001b[0;34m(formula_like, data, eval_env, NA_action, return_type)\u001b[0m\n\u001b[1;32m    308\u001b[0m     \u001b[0meval_env\u001b[0m \u001b[0;34m=\u001b[0m \u001b[0mEvalEnvironment\u001b[0m\u001b[0;34m.\u001b[0m\u001b[0mcapture\u001b[0m\u001b[0;34m(\u001b[0m\u001b[0meval_env\u001b[0m\u001b[0;34m,\u001b[0m \u001b[0mreference\u001b[0m\u001b[0;34m=\u001b[0m\u001b[0;36m1\u001b[0m\u001b[0;34m)\u001b[0m\u001b[0;34m\u001b[0m\u001b[0;34m\u001b[0m\u001b[0m\n\u001b[1;32m    309\u001b[0m     (lhs, rhs) = _do_highlevel_design(formula_like, data, eval_env,\n\u001b[0;32m--> 310\u001b[0;31m                                       NA_action, return_type)\n\u001b[0m\u001b[1;32m    311\u001b[0m     \u001b[0;32mif\u001b[0m \u001b[0mlhs\u001b[0m\u001b[0;34m.\u001b[0m\u001b[0mshape\u001b[0m\u001b[0;34m[\u001b[0m\u001b[0;36m1\u001b[0m\u001b[0;34m]\u001b[0m \u001b[0;34m==\u001b[0m \u001b[0;36m0\u001b[0m\u001b[0;34m:\u001b[0m\u001b[0;34m\u001b[0m\u001b[0;34m\u001b[0m\u001b[0m\n\u001b[1;32m    312\u001b[0m         \u001b[0;32mraise\u001b[0m \u001b[0mPatsyError\u001b[0m\u001b[0;34m(\u001b[0m\u001b[0;34m\"model is missing required outcome variables\"\u001b[0m\u001b[0;34m)\u001b[0m\u001b[0;34m\u001b[0m\u001b[0;34m\u001b[0m\u001b[0m\n",
      "\u001b[0;32m~/opt/anaconda3/lib/python3.7/site-packages/patsy/highlevel.py\u001b[0m in \u001b[0;36m_do_highlevel_design\u001b[0;34m(formula_like, data, eval_env, NA_action, return_type)\u001b[0m\n\u001b[1;32m    163\u001b[0m         \u001b[0;32mreturn\u001b[0m \u001b[0miter\u001b[0m\u001b[0;34m(\u001b[0m\u001b[0;34m[\u001b[0m\u001b[0mdata\u001b[0m\u001b[0;34m]\u001b[0m\u001b[0;34m)\u001b[0m\u001b[0;34m\u001b[0m\u001b[0;34m\u001b[0m\u001b[0m\n\u001b[1;32m    164\u001b[0m     design_infos = _try_incr_builders(formula_like, data_iter_maker, eval_env,\n\u001b[0;32m--> 165\u001b[0;31m                                       NA_action)\n\u001b[0m\u001b[1;32m    166\u001b[0m     \u001b[0;32mif\u001b[0m \u001b[0mdesign_infos\u001b[0m \u001b[0;32mis\u001b[0m \u001b[0;32mnot\u001b[0m \u001b[0;32mNone\u001b[0m\u001b[0;34m:\u001b[0m\u001b[0;34m\u001b[0m\u001b[0;34m\u001b[0m\u001b[0m\n\u001b[1;32m    167\u001b[0m         return build_design_matrices(design_infos, data,\n",
      "\u001b[0;32m~/opt/anaconda3/lib/python3.7/site-packages/patsy/highlevel.py\u001b[0m in \u001b[0;36m_try_incr_builders\u001b[0;34m(formula_like, data_iter_maker, eval_env, NA_action)\u001b[0m\n\u001b[1;32m     68\u001b[0m                                       \u001b[0mdata_iter_maker\u001b[0m\u001b[0;34m,\u001b[0m\u001b[0;34m\u001b[0m\u001b[0;34m\u001b[0m\u001b[0m\n\u001b[1;32m     69\u001b[0m                                       \u001b[0meval_env\u001b[0m\u001b[0;34m,\u001b[0m\u001b[0;34m\u001b[0m\u001b[0;34m\u001b[0m\u001b[0m\n\u001b[0;32m---> 70\u001b[0;31m                                       NA_action)\n\u001b[0m\u001b[1;32m     71\u001b[0m     \u001b[0;32melse\u001b[0m\u001b[0;34m:\u001b[0m\u001b[0;34m\u001b[0m\u001b[0;34m\u001b[0m\u001b[0m\n\u001b[1;32m     72\u001b[0m         \u001b[0;32mreturn\u001b[0m \u001b[0;32mNone\u001b[0m\u001b[0;34m\u001b[0m\u001b[0;34m\u001b[0m\u001b[0m\n",
      "\u001b[0;32m~/opt/anaconda3/lib/python3.7/site-packages/patsy/build.py\u001b[0m in \u001b[0;36mdesign_matrix_builders\u001b[0;34m(termlists, data_iter_maker, eval_env, NA_action)\u001b[0m\n\u001b[1;32m    694\u001b[0m                                                    \u001b[0mfactor_states\u001b[0m\u001b[0;34m,\u001b[0m\u001b[0;34m\u001b[0m\u001b[0;34m\u001b[0m\u001b[0m\n\u001b[1;32m    695\u001b[0m                                                    \u001b[0mdata_iter_maker\u001b[0m\u001b[0;34m,\u001b[0m\u001b[0;34m\u001b[0m\u001b[0;34m\u001b[0m\u001b[0m\n\u001b[0;32m--> 696\u001b[0;31m                                                    NA_action)\n\u001b[0m\u001b[1;32m    697\u001b[0m     \u001b[0;31m# Now we need the factor infos, which encapsulate the knowledge of\u001b[0m\u001b[0;34m\u001b[0m\u001b[0;34m\u001b[0m\u001b[0;34m\u001b[0m\u001b[0m\n\u001b[1;32m    698\u001b[0m     \u001b[0;31m# how to turn any given factor into a chunk of data:\u001b[0m\u001b[0;34m\u001b[0m\u001b[0;34m\u001b[0m\u001b[0;34m\u001b[0m\u001b[0m\n",
      "\u001b[0;32m~/opt/anaconda3/lib/python3.7/site-packages/patsy/build.py\u001b[0m in \u001b[0;36m_examine_factor_types\u001b[0;34m(factors, factor_states, data_iter_maker, NA_action)\u001b[0m\n\u001b[1;32m    441\u001b[0m     \u001b[0;32mfor\u001b[0m \u001b[0mdata\u001b[0m \u001b[0;32min\u001b[0m \u001b[0mdata_iter_maker\u001b[0m\u001b[0;34m(\u001b[0m\u001b[0;34m)\u001b[0m\u001b[0;34m:\u001b[0m\u001b[0;34m\u001b[0m\u001b[0;34m\u001b[0m\u001b[0m\n\u001b[1;32m    442\u001b[0m         \u001b[0;32mfor\u001b[0m \u001b[0mfactor\u001b[0m \u001b[0;32min\u001b[0m \u001b[0mlist\u001b[0m\u001b[0;34m(\u001b[0m\u001b[0mexamine_needed\u001b[0m\u001b[0;34m)\u001b[0m\u001b[0;34m:\u001b[0m\u001b[0;34m\u001b[0m\u001b[0;34m\u001b[0m\u001b[0m\n\u001b[0;32m--> 443\u001b[0;31m             \u001b[0mvalue\u001b[0m \u001b[0;34m=\u001b[0m \u001b[0mfactor\u001b[0m\u001b[0;34m.\u001b[0m\u001b[0meval\u001b[0m\u001b[0;34m(\u001b[0m\u001b[0mfactor_states\u001b[0m\u001b[0;34m[\u001b[0m\u001b[0mfactor\u001b[0m\u001b[0;34m]\u001b[0m\u001b[0;34m,\u001b[0m \u001b[0mdata\u001b[0m\u001b[0;34m)\u001b[0m\u001b[0;34m\u001b[0m\u001b[0;34m\u001b[0m\u001b[0m\n\u001b[0m\u001b[1;32m    444\u001b[0m             \u001b[0;32mif\u001b[0m \u001b[0mfactor\u001b[0m \u001b[0;32min\u001b[0m \u001b[0mcat_sniffers\u001b[0m \u001b[0;32mor\u001b[0m \u001b[0mguess_categorical\u001b[0m\u001b[0;34m(\u001b[0m\u001b[0mvalue\u001b[0m\u001b[0;34m)\u001b[0m\u001b[0;34m:\u001b[0m\u001b[0;34m\u001b[0m\u001b[0;34m\u001b[0m\u001b[0m\n\u001b[1;32m    445\u001b[0m                 \u001b[0;32mif\u001b[0m \u001b[0mfactor\u001b[0m \u001b[0;32mnot\u001b[0m \u001b[0;32min\u001b[0m \u001b[0mcat_sniffers\u001b[0m\u001b[0;34m:\u001b[0m\u001b[0;34m\u001b[0m\u001b[0;34m\u001b[0m\u001b[0m\n",
      "\u001b[0;32m~/opt/anaconda3/lib/python3.7/site-packages/patsy/eval.py\u001b[0m in \u001b[0;36meval\u001b[0;34m(self, memorize_state, data)\u001b[0m\n\u001b[1;32m    564\u001b[0m         return self._eval(memorize_state[\"eval_code\"],\n\u001b[1;32m    565\u001b[0m                           \u001b[0mmemorize_state\u001b[0m\u001b[0;34m,\u001b[0m\u001b[0;34m\u001b[0m\u001b[0;34m\u001b[0m\u001b[0m\n\u001b[0;32m--> 566\u001b[0;31m                           data)\n\u001b[0m\u001b[1;32m    567\u001b[0m \u001b[0;34m\u001b[0m\u001b[0m\n\u001b[1;32m    568\u001b[0m     \u001b[0m__getstate__\u001b[0m \u001b[0;34m=\u001b[0m \u001b[0mno_pickling\u001b[0m\u001b[0;34m\u001b[0m\u001b[0;34m\u001b[0m\u001b[0m\n",
      "\u001b[0;32m~/opt/anaconda3/lib/python3.7/site-packages/patsy/eval.py\u001b[0m in \u001b[0;36m_eval\u001b[0;34m(self, code, memorize_state, data)\u001b[0m\n\u001b[1;32m    549\u001b[0m                                  \u001b[0mmemorize_state\u001b[0m\u001b[0;34m[\u001b[0m\u001b[0;34m\"eval_env\"\u001b[0m\u001b[0;34m]\u001b[0m\u001b[0;34m.\u001b[0m\u001b[0meval\u001b[0m\u001b[0;34m,\u001b[0m\u001b[0;34m\u001b[0m\u001b[0;34m\u001b[0m\u001b[0m\n\u001b[1;32m    550\u001b[0m                                  \u001b[0mcode\u001b[0m\u001b[0;34m,\u001b[0m\u001b[0;34m\u001b[0m\u001b[0;34m\u001b[0m\u001b[0m\n\u001b[0;32m--> 551\u001b[0;31m                                  inner_namespace=inner_namespace)\n\u001b[0m\u001b[1;32m    552\u001b[0m \u001b[0;34m\u001b[0m\u001b[0m\n\u001b[1;32m    553\u001b[0m     \u001b[0;32mdef\u001b[0m \u001b[0mmemorize_chunk\u001b[0m\u001b[0;34m(\u001b[0m\u001b[0mself\u001b[0m\u001b[0;34m,\u001b[0m \u001b[0mstate\u001b[0m\u001b[0;34m,\u001b[0m \u001b[0mwhich_pass\u001b[0m\u001b[0;34m,\u001b[0m \u001b[0mdata\u001b[0m\u001b[0;34m)\u001b[0m\u001b[0;34m:\u001b[0m\u001b[0;34m\u001b[0m\u001b[0;34m\u001b[0m\u001b[0m\n",
      "\u001b[0;32m~/opt/anaconda3/lib/python3.7/site-packages/patsy/compat.py\u001b[0m in \u001b[0;36mcall_and_wrap_exc\u001b[0;34m(msg, origin, f, *args, **kwargs)\u001b[0m\n\u001b[1;32m     41\u001b[0m                                  origin)\n\u001b[1;32m     42\u001b[0m             \u001b[0;31m# Use 'exec' to hide this syntax from the Python 2 parser:\u001b[0m\u001b[0;34m\u001b[0m\u001b[0;34m\u001b[0m\u001b[0;34m\u001b[0m\u001b[0m\n\u001b[0;32m---> 43\u001b[0;31m             \u001b[0mexec\u001b[0m\u001b[0;34m(\u001b[0m\u001b[0;34m\"raise new_exc from e\"\u001b[0m\u001b[0;34m)\u001b[0m\u001b[0;34m\u001b[0m\u001b[0;34m\u001b[0m\u001b[0m\n\u001b[0m\u001b[1;32m     44\u001b[0m         \u001b[0;32melse\u001b[0m\u001b[0;34m:\u001b[0m\u001b[0;34m\u001b[0m\u001b[0;34m\u001b[0m\u001b[0m\n\u001b[1;32m     45\u001b[0m             \u001b[0;31m# In python 2, we just let the original exception escape -- better\u001b[0m\u001b[0;34m\u001b[0m\u001b[0;34m\u001b[0m\u001b[0;34m\u001b[0m\u001b[0m\n",
      "\u001b[0;32m~/opt/anaconda3/lib/python3.7/site-packages/patsy/compat.py\u001b[0m in \u001b[0;36m<module>\u001b[0;34m\u001b[0m\n",
      "\u001b[0;31mPatsyError\u001b[0m: Error evaluating factor: NameError: name 'intake_month_8' is not defined\n    time_in_shelter_days~dob_year+dob_month+age_upon_intake+count+age_upon_intake_days+age_upon_intake_tears+age_upon_intake_age_group+intake_year+intake_weekday+intake_hour+intake_number+has_second_color+is_dog+is_male+is_fixed+found_lat+found_lon+is_breed2+is_mix+max_weight+max_height+max_life+health+color_bin+was_owned+season+intake_month_1+intake_month_2+intake_month_3+intake_month_4+intake_month_5+intake_month_6+intake_month_7+intake_month_8+intake_month_9+intake_month_10+intake_month_11+intake_month_12\n                                                                                                                                                                                                                                                                                                                                                                                                                                                    ^^^^^^^^^^^^^^"
     ]
    }
   ],
   "source": [
    "lr_model = ols(formula='time_in_shelter_days~dob_year+dob_month+age_upon_intake+count+age_upon_intake_days+age_upon_intake_tears+age_upon_intake_age_group+intake_year+intake_weekday+intake_hour+intake_number+has_second_color+is_dog+is_male+is_fixed+found_lat+found_lon+is_breed2+is_mix+max_weight+max_height+max_life+health+color_bin+was_owned+season+intake_month_1+intake_month_2+intake_month_3+intake_month_4+intake_month_5+intake_month_6+intake_month_7+intake_month_8+intake_month_9+intake_month_10+intake_month_11+intake_month_12', data=df).fit()\n",
    "\n",
    "lr_model.summary()"
   ]
  },
  {
   "cell_type": "code",
   "execution_count": null,
   "metadata": {},
   "outputs": [],
   "source": [
    "lr_model = ols(formula='time_in_shelter_days~dob_year+dob_month+age_upon_intake+count+age_upon_intake_days+age_upon_intake_tears+age_upon_intake_age_group+intake_year+intake_weekday+intake_hour+intake_number+has_second_color+is_dog+is_male+is_fixed+found_lat+found_lon+is_breed2+is_mix+max_weight+max_height+max_life+health+color_bin+was_owned+season+intake_month_1+intake_month_2+intake_month_3+intake_month_4+intake_month_5+intake_month_6+intake_month_7+intake_month_8+intake_month_9+intake_month_10+intake_month_11+intake_month_12', data=df).fit()\n",
    "\n",
    "lr_model.summary()"
   ]
  },
  {
   "cell_type": "code",
   "execution_count": null,
   "metadata": {},
   "outputs": [],
   "source": [
    "mask = np.random.rand(len(df)) < 0.8\n",
    "df_train = df[mask]\n",
    "df_test = df[~mask]\n",
    "print('Training data set length='+str(len(df_train)))\n",
    "print('Testing data set length='+str(len(df_test)))"
   ]
  },
  {
   "cell_type": "code",
   "execution_count": null,
   "metadata": {},
   "outputs": [],
   "source": [
    "expr = \"\"\"time_in_shelter~dob_year+dob_month+age_upon_intake+count+age_upon_intake_days+age_upon_intake_tears+age_upon_intake_age_group+intake_year+intake_weekday+intake_hour+intake_number+has_second_color+is_dog+is_male+is_fixed+found_lat+found_lon+is_breed2+is_mix+max_weight+max_height+max_life+health+color_bin+was_owned+season+intake_month_1+intake_month_2+intake_month_3+intake_month_4+intake_month_5+intake_month_6+intake_month_7+intake_month_8+intake_month_9+intake_month_10+intake_month_11+intake_month_12\"\"\""
   ]
  },
  {
   "cell_type": "code",
   "execution_count": null,
   "metadata": {},
   "outputs": [],
   "source": [
    "y_train, X_train = dmatrices(expr, df_train, return_type='dataframe')\n",
    "y_test, X_test = dmatrices(expr, df_test, return_type='dataframe')"
   ]
  },
  {
   "cell_type": "code",
   "execution_count": null,
   "metadata": {},
   "outputs": [],
   "source": [
    "poisson_training_results = sm.GLM(y_train, X_train, family=sm.families.Poisson()).fit()"
   ]
  },
  {
   "cell_type": "code",
   "execution_count": null,
   "metadata": {},
   "outputs": [],
   "source": [
    "print(poisson_training_results.summary())"
   ]
  },
  {
   "cell_type": "code",
   "execution_count": null,
   "metadata": {},
   "outputs": [],
   "source": [
    "poisson_predictions = poisson_training_results.get_prediction(X_test)\n",
    "#.summary_frame() returns a pandas DataFrame\n",
    "predictions_summary_frame = poisson_predictions.summary_frame()\n",
    "print(predictions_summary_frame)\n"
   ]
  },
  {
   "cell_type": "code",
   "execution_count": null,
   "metadata": {},
   "outputs": [],
   "source": [
    "predicted_counts=predictions_summary_frame['mean']\n",
    "actual_counts = y_test['time_in_shelter']\n",
    "fig = plt.figure(figsize=(25,5))\n",
    "actual, = plt.plot(X_test.index, actual_counts, 'ro-', label='Actual counts',color='#a8e6cf')\n",
    "predicted, = plt.plot(X_test.index, predicted_counts, 'go-', label='Predicted counts',color='#ffaaa5')\n",
    "plt.legend(handles=[predicted, actual])\n",
    "plt.show()\n"
   ]
  },
  {
   "cell_type": "code",
   "execution_count": null,
   "metadata": {},
   "outputs": [],
   "source": []
  },
  {
   "cell_type": "code",
   "execution_count": null,
   "metadata": {},
   "outputs": [],
   "source": []
  },
  {
   "cell_type": "code",
   "execution_count": 29,
   "metadata": {},
   "outputs": [],
   "source": [
    "df2=pd.read_csv('/Users/carlosruiz/Desktop/Animal-Shelter-Project/Data/shelter_breed_copy.csv')"
   ]
  },
  {
   "cell_type": "code",
   "execution_count": 30,
   "metadata": {},
   "outputs": [
    {
     "data": {
      "text/html": [
       "<div>\n",
       "<style scoped>\n",
       "    .dataframe tbody tr th:only-of-type {\n",
       "        vertical-align: middle;\n",
       "    }\n",
       "\n",
       "    .dataframe tbody tr th {\n",
       "        vertical-align: top;\n",
       "    }\n",
       "\n",
       "    .dataframe thead th {\n",
       "        text-align: right;\n",
       "    }\n",
       "</style>\n",
       "<table border=\"1\" class=\"dataframe\">\n",
       "  <thead>\n",
       "    <tr style=\"text-align: right;\">\n",
       "      <th></th>\n",
       "      <th>Unnamed: 0</th>\n",
       "      <th>level_0</th>\n",
       "      <th>index</th>\n",
       "      <th>age_upon_outcome</th>\n",
       "      <th>animal_id_outcome</th>\n",
       "      <th>date_of_birth</th>\n",
       "      <th>outcome_subtype</th>\n",
       "      <th>outcome_type</th>\n",
       "      <th>sex_upon_outcome</th>\n",
       "      <th>age_upon_outcome_(days)</th>\n",
       "      <th>age_upon_outcome_(years)</th>\n",
       "      <th>age_upon_outcome_age_group</th>\n",
       "      <th>outcome_datetime</th>\n",
       "      <th>outcome_month</th>\n",
       "      <th>outcome_year</th>\n",
       "      <th>outcome_monthyear</th>\n",
       "      <th>outcome_weekday</th>\n",
       "      <th>outcome_hour</th>\n",
       "      <th>outcome_number</th>\n",
       "      <th>dob_year</th>\n",
       "      <th>dob_month</th>\n",
       "      <th>dob_monthyear</th>\n",
       "      <th>age_upon_intake</th>\n",
       "      <th>animal_id_intake</th>\n",
       "      <th>animal_type</th>\n",
       "      <th>breed</th>\n",
       "      <th>color</th>\n",
       "      <th>found_location</th>\n",
       "      <th>intake_condition</th>\n",
       "      <th>intake_type</th>\n",
       "      <th>sex_upon_intake</th>\n",
       "      <th>count</th>\n",
       "      <th>age_upon_intake_days</th>\n",
       "      <th>age_upon_intake_tears</th>\n",
       "      <th>age_upon_intake_age_group</th>\n",
       "      <th>intake_datetime</th>\n",
       "      <th>intake_month</th>\n",
       "      <th>intake_year</th>\n",
       "      <th>intake_monthyear</th>\n",
       "      <th>intake_weekday</th>\n",
       "      <th>intake_hour</th>\n",
       "      <th>intake_number</th>\n",
       "      <th>time_in_shelter</th>\n",
       "      <th>time_in_shelter_days</th>\n",
       "      <th>color1</th>\n",
       "      <th>has_second_color</th>\n",
       "      <th>color2</th>\n",
       "      <th>is_dog</th>\n",
       "      <th>is_male</th>\n",
       "      <th>is_fixed</th>\n",
       "      <th>found_city</th>\n",
       "      <th>found_lat</th>\n",
       "      <th>found_lon</th>\n",
       "      <th>region</th>\n",
       "      <th>breed1</th>\n",
       "      <th>is_breed2</th>\n",
       "      <th>is_mix</th>\n",
       "      <th>breed2</th>\n",
       "      <th>max_weight</th>\n",
       "      <th>max_height</th>\n",
       "      <th>max_life</th>\n",
       "    </tr>\n",
       "  </thead>\n",
       "  <tbody>\n",
       "    <tr>\n",
       "      <th>0</th>\n",
       "      <td>0</td>\n",
       "      <td>0</td>\n",
       "      <td>12</td>\n",
       "      <td>16 years</td>\n",
       "      <td>A200922</td>\n",
       "      <td>1997-10-03 00:00:00</td>\n",
       "      <td>Foster</td>\n",
       "      <td>Adoption</td>\n",
       "      <td>Neutered Male</td>\n",
       "      <td>5840</td>\n",
       "      <td>16.000000</td>\n",
       "      <td>(15.0, 17.5]</td>\n",
       "      <td>2013-11-22 09:44:00</td>\n",
       "      <td>11</td>\n",
       "      <td>2013</td>\n",
       "      <td>2013-11</td>\n",
       "      <td>Friday</td>\n",
       "      <td>9</td>\n",
       "      <td>1.0</td>\n",
       "      <td>1997</td>\n",
       "      <td>10</td>\n",
       "      <td>2013-11</td>\n",
       "      <td>16 years</td>\n",
       "      <td>A200922</td>\n",
       "      <td>Dog</td>\n",
       "      <td>Dachshund Mix</td>\n",
       "      <td>Black/Tan</td>\n",
       "      <td>Austin (TX)</td>\n",
       "      <td>Normal</td>\n",
       "      <td>Owner Surrender</td>\n",
       "      <td>Neutered Male</td>\n",
       "      <td>1</td>\n",
       "      <td>5840</td>\n",
       "      <td>16.000000</td>\n",
       "      <td>(15.0, 17.5]</td>\n",
       "      <td>2013-10-03 15:47:00</td>\n",
       "      <td>10</td>\n",
       "      <td>2013</td>\n",
       "      <td>2013-10</td>\n",
       "      <td>Thursday</td>\n",
       "      <td>15</td>\n",
       "      <td>1.0</td>\n",
       "      <td>49 days 17:57:00.000000000</td>\n",
       "      <td>49.747917</td>\n",
       "      <td>Black</td>\n",
       "      <td>1</td>\n",
       "      <td>Tan</td>\n",
       "      <td>1</td>\n",
       "      <td>1</td>\n",
       "      <td>1</td>\n",
       "      <td>Austin</td>\n",
       "      <td>30.271129</td>\n",
       "      <td>-97.74370</td>\n",
       "      <td>Austin</td>\n",
       "      <td>Dachshund Mix</td>\n",
       "      <td>0</td>\n",
       "      <td>1</td>\n",
       "      <td>NaN</td>\n",
       "      <td>32.0</td>\n",
       "      <td>9.0</td>\n",
       "      <td>15.0</td>\n",
       "    </tr>\n",
       "    <tr>\n",
       "      <th>1</th>\n",
       "      <td>1</td>\n",
       "      <td>1</td>\n",
       "      <td>14</td>\n",
       "      <td>17 years</td>\n",
       "      <td>A210457</td>\n",
       "      <td>1999-06-01 00:00:00</td>\n",
       "      <td>Foster</td>\n",
       "      <td>Adoption</td>\n",
       "      <td>Neutered Male</td>\n",
       "      <td>6205</td>\n",
       "      <td>17.000000</td>\n",
       "      <td>(15.0, 17.5]</td>\n",
       "      <td>2016-10-07 12:34:00</td>\n",
       "      <td>10</td>\n",
       "      <td>2016</td>\n",
       "      <td>2016-10</td>\n",
       "      <td>Friday</td>\n",
       "      <td>12</td>\n",
       "      <td>1.0</td>\n",
       "      <td>1999</td>\n",
       "      <td>6</td>\n",
       "      <td>2016-10</td>\n",
       "      <td>17 years</td>\n",
       "      <td>A210457</td>\n",
       "      <td>Dog</td>\n",
       "      <td>Chihuahua Shorthair</td>\n",
       "      <td>Tan/Black</td>\n",
       "      <td>4424 S Mopac #412 in Austin (TX)</td>\n",
       "      <td>Aged</td>\n",
       "      <td>Public Assist</td>\n",
       "      <td>Neutered Male</td>\n",
       "      <td>1</td>\n",
       "      <td>6205</td>\n",
       "      <td>17.000000</td>\n",
       "      <td>(15.0, 17.5]</td>\n",
       "      <td>2016-09-28 12:05:00</td>\n",
       "      <td>9</td>\n",
       "      <td>2016</td>\n",
       "      <td>2016-09</td>\n",
       "      <td>Wednesday</td>\n",
       "      <td>12</td>\n",
       "      <td>1.0</td>\n",
       "      <td>9 days 00:29:00.000000000</td>\n",
       "      <td>9.020139</td>\n",
       "      <td>Tan</td>\n",
       "      <td>1</td>\n",
       "      <td>Black</td>\n",
       "      <td>1</td>\n",
       "      <td>1</td>\n",
       "      <td>1</td>\n",
       "      <td>Austin</td>\n",
       "      <td>30.271129</td>\n",
       "      <td>-97.74370</td>\n",
       "      <td>Austin</td>\n",
       "      <td>Chihuahua Shorthair</td>\n",
       "      <td>0</td>\n",
       "      <td>0</td>\n",
       "      <td>NaN</td>\n",
       "      <td>6.0</td>\n",
       "      <td>8.0</td>\n",
       "      <td>16.0</td>\n",
       "    </tr>\n",
       "    <tr>\n",
       "      <th>2</th>\n",
       "      <td>2</td>\n",
       "      <td>2</td>\n",
       "      <td>22</td>\n",
       "      <td>15 years</td>\n",
       "      <td>A226069</td>\n",
       "      <td>2000-06-17 00:00:00</td>\n",
       "      <td>Foster</td>\n",
       "      <td>Adoption</td>\n",
       "      <td>Neutered Male</td>\n",
       "      <td>5475</td>\n",
       "      <td>15.000000</td>\n",
       "      <td>(12.5, 15.0]</td>\n",
       "      <td>2015-10-29 15:00:00</td>\n",
       "      <td>10</td>\n",
       "      <td>2015</td>\n",
       "      <td>2015-10</td>\n",
       "      <td>Thursday</td>\n",
       "      <td>15</td>\n",
       "      <td>1.0</td>\n",
       "      <td>2000</td>\n",
       "      <td>6</td>\n",
       "      <td>2015-10</td>\n",
       "      <td>15 years</td>\n",
       "      <td>A226069</td>\n",
       "      <td>Dog</td>\n",
       "      <td>Labrador Retriever/Beagle</td>\n",
       "      <td>Sable/White</td>\n",
       "      <td>Wheless Ln And Berkman Dr in Austin (TX)</td>\n",
       "      <td>Normal</td>\n",
       "      <td>Stray</td>\n",
       "      <td>Neutered Male</td>\n",
       "      <td>1</td>\n",
       "      <td>5475</td>\n",
       "      <td>15.000000</td>\n",
       "      <td>(12.5, 15.0]</td>\n",
       "      <td>2015-10-06 12:29:00</td>\n",
       "      <td>10</td>\n",
       "      <td>2015</td>\n",
       "      <td>2015-10</td>\n",
       "      <td>Tuesday</td>\n",
       "      <td>12</td>\n",
       "      <td>1.0</td>\n",
       "      <td>23 days 02:31:00.000000000</td>\n",
       "      <td>23.104861</td>\n",
       "      <td>Sable</td>\n",
       "      <td>1</td>\n",
       "      <td>White</td>\n",
       "      <td>1</td>\n",
       "      <td>1</td>\n",
       "      <td>1</td>\n",
       "      <td>Austin</td>\n",
       "      <td>30.271129</td>\n",
       "      <td>-97.74370</td>\n",
       "      <td>Austin</td>\n",
       "      <td>Labrador Retriever</td>\n",
       "      <td>1</td>\n",
       "      <td>1</td>\n",
       "      <td>Beagle</td>\n",
       "      <td>57.5</td>\n",
       "      <td>19.5</td>\n",
       "      <td>14.5</td>\n",
       "    </tr>\n",
       "    <tr>\n",
       "      <th>3</th>\n",
       "      <td>3</td>\n",
       "      <td>3</td>\n",
       "      <td>32</td>\n",
       "      <td>15 years</td>\n",
       "      <td>A249087</td>\n",
       "      <td>2001-01-02 00:00:00</td>\n",
       "      <td>Foster</td>\n",
       "      <td>Adoption</td>\n",
       "      <td>Spayed Female</td>\n",
       "      <td>5475</td>\n",
       "      <td>15.000000</td>\n",
       "      <td>(12.5, 15.0]</td>\n",
       "      <td>2016-11-15 10:37:00</td>\n",
       "      <td>11</td>\n",
       "      <td>2016</td>\n",
       "      <td>2016-11</td>\n",
       "      <td>Tuesday</td>\n",
       "      <td>10</td>\n",
       "      <td>1.0</td>\n",
       "      <td>2001</td>\n",
       "      <td>1</td>\n",
       "      <td>2016-11</td>\n",
       "      <td>15 years</td>\n",
       "      <td>A249087</td>\n",
       "      <td>Dog</td>\n",
       "      <td>German Shepherd Mix</td>\n",
       "      <td>Black/Brown</td>\n",
       "      <td>E 6Th St And Pedernales in Austin (TX)</td>\n",
       "      <td>Normal</td>\n",
       "      <td>Stray</td>\n",
       "      <td>Spayed Female</td>\n",
       "      <td>1</td>\n",
       "      <td>5475</td>\n",
       "      <td>15.000000</td>\n",
       "      <td>(12.5, 15.0]</td>\n",
       "      <td>2016-08-17 14:05:00</td>\n",
       "      <td>8</td>\n",
       "      <td>2016</td>\n",
       "      <td>2016-08</td>\n",
       "      <td>Wednesday</td>\n",
       "      <td>14</td>\n",
       "      <td>1.0</td>\n",
       "      <td>89 days 20:32:00.000000000</td>\n",
       "      <td>89.855556</td>\n",
       "      <td>Black</td>\n",
       "      <td>1</td>\n",
       "      <td>Brown</td>\n",
       "      <td>1</td>\n",
       "      <td>0</td>\n",
       "      <td>1</td>\n",
       "      <td>Austin</td>\n",
       "      <td>30.271129</td>\n",
       "      <td>-97.74370</td>\n",
       "      <td>Austin</td>\n",
       "      <td>German Shepherd Mix</td>\n",
       "      <td>0</td>\n",
       "      <td>1</td>\n",
       "      <td>NaN</td>\n",
       "      <td>90.0</td>\n",
       "      <td>26.0</td>\n",
       "      <td>13.0</td>\n",
       "    </tr>\n",
       "    <tr>\n",
       "      <th>4</th>\n",
       "      <td>4</td>\n",
       "      <td>4</td>\n",
       "      <td>48</td>\n",
       "      <td>11 years</td>\n",
       "      <td>A274546</td>\n",
       "      <td>2002-05-25 00:00:00</td>\n",
       "      <td>NaN</td>\n",
       "      <td>Adoption</td>\n",
       "      <td>Spayed Female</td>\n",
       "      <td>4015</td>\n",
       "      <td>11.000000</td>\n",
       "      <td>(10.0, 12.5]</td>\n",
       "      <td>2013-11-16 12:24:00</td>\n",
       "      <td>11</td>\n",
       "      <td>2013</td>\n",
       "      <td>2013-11</td>\n",
       "      <td>Saturday</td>\n",
       "      <td>12</td>\n",
       "      <td>1.0</td>\n",
       "      <td>2002</td>\n",
       "      <td>5</td>\n",
       "      <td>2013-11</td>\n",
       "      <td>11 years</td>\n",
       "      <td>A274546</td>\n",
       "      <td>Dog</td>\n",
       "      <td>Pointer Mix</td>\n",
       "      <td>Tricolor</td>\n",
       "      <td>Manchaca And Slaughter in Austin (TX)</td>\n",
       "      <td>Normal</td>\n",
       "      <td>Stray</td>\n",
       "      <td>Spayed Female</td>\n",
       "      <td>1</td>\n",
       "      <td>4015</td>\n",
       "      <td>11.000000</td>\n",
       "      <td>(10.0, 12.5]</td>\n",
       "      <td>2013-11-13 18:16:00</td>\n",
       "      <td>11</td>\n",
       "      <td>2013</td>\n",
       "      <td>2013-11</td>\n",
       "      <td>Wednesday</td>\n",
       "      <td>18</td>\n",
       "      <td>1.0</td>\n",
       "      <td>2 days 18:08:00.000000000</td>\n",
       "      <td>2.755556</td>\n",
       "      <td>Tricolor</td>\n",
       "      <td>0</td>\n",
       "      <td>NaN</td>\n",
       "      <td>1</td>\n",
       "      <td>0</td>\n",
       "      <td>1</td>\n",
       "      <td>Austin</td>\n",
       "      <td>30.271129</td>\n",
       "      <td>-97.74370</td>\n",
       "      <td>Austin</td>\n",
       "      <td>Pointer Mix</td>\n",
       "      <td>0</td>\n",
       "      <td>1</td>\n",
       "      <td>NaN</td>\n",
       "      <td>75.0</td>\n",
       "      <td>28.0</td>\n",
       "      <td>17.0</td>\n",
       "    </tr>\n",
       "    <tr>\n",
       "      <th>...</th>\n",
       "      <td>...</td>\n",
       "      <td>...</td>\n",
       "      <td>...</td>\n",
       "      <td>...</td>\n",
       "      <td>...</td>\n",
       "      <td>...</td>\n",
       "      <td>...</td>\n",
       "      <td>...</td>\n",
       "      <td>...</td>\n",
       "      <td>...</td>\n",
       "      <td>...</td>\n",
       "      <td>...</td>\n",
       "      <td>...</td>\n",
       "      <td>...</td>\n",
       "      <td>...</td>\n",
       "      <td>...</td>\n",
       "      <td>...</td>\n",
       "      <td>...</td>\n",
       "      <td>...</td>\n",
       "      <td>...</td>\n",
       "      <td>...</td>\n",
       "      <td>...</td>\n",
       "      <td>...</td>\n",
       "      <td>...</td>\n",
       "      <td>...</td>\n",
       "      <td>...</td>\n",
       "      <td>...</td>\n",
       "      <td>...</td>\n",
       "      <td>...</td>\n",
       "      <td>...</td>\n",
       "      <td>...</td>\n",
       "      <td>...</td>\n",
       "      <td>...</td>\n",
       "      <td>...</td>\n",
       "      <td>...</td>\n",
       "      <td>...</td>\n",
       "      <td>...</td>\n",
       "      <td>...</td>\n",
       "      <td>...</td>\n",
       "      <td>...</td>\n",
       "      <td>...</td>\n",
       "      <td>...</td>\n",
       "      <td>...</td>\n",
       "      <td>...</td>\n",
       "      <td>...</td>\n",
       "      <td>...</td>\n",
       "      <td>...</td>\n",
       "      <td>...</td>\n",
       "      <td>...</td>\n",
       "      <td>...</td>\n",
       "      <td>...</td>\n",
       "      <td>...</td>\n",
       "      <td>...</td>\n",
       "      <td>...</td>\n",
       "      <td>...</td>\n",
       "      <td>...</td>\n",
       "      <td>...</td>\n",
       "      <td>...</td>\n",
       "      <td>...</td>\n",
       "      <td>...</td>\n",
       "      <td>...</td>\n",
       "    </tr>\n",
       "    <tr>\n",
       "      <th>20576</th>\n",
       "      <td>20576</td>\n",
       "      <td>33249</td>\n",
       "      <td>79647</td>\n",
       "      <td>7 years</td>\n",
       "      <td>A769012</td>\n",
       "      <td>2011-03-29 00:00:00</td>\n",
       "      <td>NaN</td>\n",
       "      <td>Adoption</td>\n",
       "      <td>Spayed Female</td>\n",
       "      <td>2555</td>\n",
       "      <td>7.000000</td>\n",
       "      <td>(5.0, 7.5]</td>\n",
       "      <td>2018-04-01 12:36:00</td>\n",
       "      <td>4</td>\n",
       "      <td>2018</td>\n",
       "      <td>2018-04</td>\n",
       "      <td>Sunday</td>\n",
       "      <td>12</td>\n",
       "      <td>1.0</td>\n",
       "      <td>2011</td>\n",
       "      <td>3</td>\n",
       "      <td>2018-04</td>\n",
       "      <td>7 years</td>\n",
       "      <td>A769012</td>\n",
       "      <td>Dog</td>\n",
       "      <td>Chihuahua Shorthair Mix</td>\n",
       "      <td>Tan</td>\n",
       "      <td>Springdale And Govalle in Austin (TX)</td>\n",
       "      <td>Normal</td>\n",
       "      <td>Stray</td>\n",
       "      <td>Spayed Female</td>\n",
       "      <td>1</td>\n",
       "      <td>2555</td>\n",
       "      <td>7.000000</td>\n",
       "      <td>(5.0, 7.5]</td>\n",
       "      <td>2018-03-28 17:48:00</td>\n",
       "      <td>3</td>\n",
       "      <td>2018</td>\n",
       "      <td>2018-03</td>\n",
       "      <td>Wednesday</td>\n",
       "      <td>17</td>\n",
       "      <td>1.0</td>\n",
       "      <td>3 days 18:48:00.000000000</td>\n",
       "      <td>3.783333</td>\n",
       "      <td>Tan</td>\n",
       "      <td>0</td>\n",
       "      <td>NaN</td>\n",
       "      <td>1</td>\n",
       "      <td>0</td>\n",
       "      <td>1</td>\n",
       "      <td>Austin</td>\n",
       "      <td>30.271129</td>\n",
       "      <td>-97.74370</td>\n",
       "      <td>Austin</td>\n",
       "      <td>Chihuahua Shorthair Mix</td>\n",
       "      <td>0</td>\n",
       "      <td>1</td>\n",
       "      <td>NaN</td>\n",
       "      <td>6.0</td>\n",
       "      <td>8.0</td>\n",
       "      <td>16.0</td>\n",
       "    </tr>\n",
       "    <tr>\n",
       "      <th>20577</th>\n",
       "      <td>20577</td>\n",
       "      <td>33250</td>\n",
       "      <td>79649</td>\n",
       "      <td>2 months</td>\n",
       "      <td>A769014</td>\n",
       "      <td>2018-01-28 00:00:00</td>\n",
       "      <td>NaN</td>\n",
       "      <td>Adoption</td>\n",
       "      <td>Neutered Male</td>\n",
       "      <td>60</td>\n",
       "      <td>0.164384</td>\n",
       "      <td>(-0.025, 2.5]</td>\n",
       "      <td>2018-04-02 19:05:00</td>\n",
       "      <td>4</td>\n",
       "      <td>2018</td>\n",
       "      <td>2018-04</td>\n",
       "      <td>Monday</td>\n",
       "      <td>19</td>\n",
       "      <td>1.0</td>\n",
       "      <td>2018</td>\n",
       "      <td>1</td>\n",
       "      <td>2018-04</td>\n",
       "      <td>1 month</td>\n",
       "      <td>A769014</td>\n",
       "      <td>Dog</td>\n",
       "      <td>Pit Bull Mix</td>\n",
       "      <td>Black/White</td>\n",
       "      <td>1044 Norwood Park Boulevard in Austin (TX)</td>\n",
       "      <td>Normal</td>\n",
       "      <td>Stray</td>\n",
       "      <td>Intact Male</td>\n",
       "      <td>1</td>\n",
       "      <td>30</td>\n",
       "      <td>0.082192</td>\n",
       "      <td>(-0.025, 2.5]</td>\n",
       "      <td>2018-03-28 18:08:00</td>\n",
       "      <td>3</td>\n",
       "      <td>2018</td>\n",
       "      <td>2018-03</td>\n",
       "      <td>Wednesday</td>\n",
       "      <td>18</td>\n",
       "      <td>1.0</td>\n",
       "      <td>5 days 00:57:00.000000000</td>\n",
       "      <td>5.039583</td>\n",
       "      <td>Black</td>\n",
       "      <td>1</td>\n",
       "      <td>White</td>\n",
       "      <td>1</td>\n",
       "      <td>1</td>\n",
       "      <td>1</td>\n",
       "      <td>Austin</td>\n",
       "      <td>30.271129</td>\n",
       "      <td>-97.74370</td>\n",
       "      <td>Austin</td>\n",
       "      <td>Pit Bull Mix</td>\n",
       "      <td>0</td>\n",
       "      <td>1</td>\n",
       "      <td>NaN</td>\n",
       "      <td>60.0</td>\n",
       "      <td>21.0</td>\n",
       "      <td>15.0</td>\n",
       "    </tr>\n",
       "    <tr>\n",
       "      <th>20578</th>\n",
       "      <td>20578</td>\n",
       "      <td>33251</td>\n",
       "      <td>79653</td>\n",
       "      <td>2 months</td>\n",
       "      <td>A769020</td>\n",
       "      <td>2018-01-18 00:00:00</td>\n",
       "      <td>NaN</td>\n",
       "      <td>Adoption</td>\n",
       "      <td>Neutered Male</td>\n",
       "      <td>60</td>\n",
       "      <td>0.164384</td>\n",
       "      <td>(-0.025, 2.5]</td>\n",
       "      <td>2018-04-01 17:27:00</td>\n",
       "      <td>4</td>\n",
       "      <td>2018</td>\n",
       "      <td>2018-04</td>\n",
       "      <td>Sunday</td>\n",
       "      <td>17</td>\n",
       "      <td>1.0</td>\n",
       "      <td>2018</td>\n",
       "      <td>1</td>\n",
       "      <td>2018-04</td>\n",
       "      <td>2 months</td>\n",
       "      <td>A769020</td>\n",
       "      <td>Dog</td>\n",
       "      <td>German Shepherd</td>\n",
       "      <td>Black/Tan</td>\n",
       "      <td>Austin (TX)</td>\n",
       "      <td>Normal</td>\n",
       "      <td>Stray</td>\n",
       "      <td>Intact Male</td>\n",
       "      <td>1</td>\n",
       "      <td>60</td>\n",
       "      <td>0.164384</td>\n",
       "      <td>(-0.025, 2.5]</td>\n",
       "      <td>2018-03-28 18:51:00</td>\n",
       "      <td>3</td>\n",
       "      <td>2018</td>\n",
       "      <td>2018-03</td>\n",
       "      <td>Wednesday</td>\n",
       "      <td>18</td>\n",
       "      <td>1.0</td>\n",
       "      <td>3 days 22:36:00.000000000</td>\n",
       "      <td>3.941667</td>\n",
       "      <td>Black</td>\n",
       "      <td>1</td>\n",
       "      <td>Tan</td>\n",
       "      <td>1</td>\n",
       "      <td>1</td>\n",
       "      <td>1</td>\n",
       "      <td>Austin</td>\n",
       "      <td>30.271129</td>\n",
       "      <td>-97.74370</td>\n",
       "      <td>Austin</td>\n",
       "      <td>German Shepherd</td>\n",
       "      <td>0</td>\n",
       "      <td>0</td>\n",
       "      <td>NaN</td>\n",
       "      <td>90.0</td>\n",
       "      <td>26.0</td>\n",
       "      <td>13.0</td>\n",
       "    </tr>\n",
       "    <tr>\n",
       "      <th>20579</th>\n",
       "      <td>20579</td>\n",
       "      <td>33252</td>\n",
       "      <td>79654</td>\n",
       "      <td>1 year</td>\n",
       "      <td>A769034</td>\n",
       "      <td>2017-03-29 00:00:00</td>\n",
       "      <td>NaN</td>\n",
       "      <td>Adoption</td>\n",
       "      <td>Spayed Female</td>\n",
       "      <td>365</td>\n",
       "      <td>1.000000</td>\n",
       "      <td>(-0.025, 2.5]</td>\n",
       "      <td>2018-04-03 15:23:00</td>\n",
       "      <td>4</td>\n",
       "      <td>2018</td>\n",
       "      <td>2018-04</td>\n",
       "      <td>Tuesday</td>\n",
       "      <td>15</td>\n",
       "      <td>1.0</td>\n",
       "      <td>2017</td>\n",
       "      <td>3</td>\n",
       "      <td>2018-04</td>\n",
       "      <td>1 year</td>\n",
       "      <td>A769034</td>\n",
       "      <td>Dog</td>\n",
       "      <td>Labrador Retriever/German Shepherd</td>\n",
       "      <td>Black/White</td>\n",
       "      <td>Alpine Drive And Vevey Drive in Del Valle (TX)</td>\n",
       "      <td>Normal</td>\n",
       "      <td>Stray</td>\n",
       "      <td>Spayed Female</td>\n",
       "      <td>1</td>\n",
       "      <td>365</td>\n",
       "      <td>1.000000</td>\n",
       "      <td>(-0.025, 2.5]</td>\n",
       "      <td>2018-03-29 11:44:00</td>\n",
       "      <td>3</td>\n",
       "      <td>2018</td>\n",
       "      <td>2018-03</td>\n",
       "      <td>Thursday</td>\n",
       "      <td>11</td>\n",
       "      <td>1.0</td>\n",
       "      <td>5 days 03:39:00.000000000</td>\n",
       "      <td>5.152083</td>\n",
       "      <td>Black</td>\n",
       "      <td>1</td>\n",
       "      <td>White</td>\n",
       "      <td>1</td>\n",
       "      <td>0</td>\n",
       "      <td>1</td>\n",
       "      <td>Del Valle</td>\n",
       "      <td>23.269927</td>\n",
       "      <td>-106.38944</td>\n",
       "      <td>South</td>\n",
       "      <td>Labrador Retriever</td>\n",
       "      <td>1</td>\n",
       "      <td>1</td>\n",
       "      <td>German Shepherd</td>\n",
       "      <td>85.0</td>\n",
       "      <td>25.0</td>\n",
       "      <td>13.0</td>\n",
       "    </tr>\n",
       "    <tr>\n",
       "      <th>20580</th>\n",
       "      <td>20580</td>\n",
       "      <td>33253</td>\n",
       "      <td>79655</td>\n",
       "      <td>1 year</td>\n",
       "      <td>A769036</td>\n",
       "      <td>2017-03-29 00:00:00</td>\n",
       "      <td>NaN</td>\n",
       "      <td>Adoption</td>\n",
       "      <td>Spayed Female</td>\n",
       "      <td>365</td>\n",
       "      <td>1.000000</td>\n",
       "      <td>(-0.025, 2.5]</td>\n",
       "      <td>2018-03-31 18:26:00</td>\n",
       "      <td>3</td>\n",
       "      <td>2018</td>\n",
       "      <td>2018-03</td>\n",
       "      <td>Saturday</td>\n",
       "      <td>18</td>\n",
       "      <td>1.0</td>\n",
       "      <td>2017</td>\n",
       "      <td>3</td>\n",
       "      <td>2018-03</td>\n",
       "      <td>1 year</td>\n",
       "      <td>A769036</td>\n",
       "      <td>Dog</td>\n",
       "      <td>Labrador Retriever/German Shepherd</td>\n",
       "      <td>Black/Tan</td>\n",
       "      <td>Alpine Drive And Vevey Drive in Del Valle (TX)</td>\n",
       "      <td>Normal</td>\n",
       "      <td>Stray</td>\n",
       "      <td>Spayed Female</td>\n",
       "      <td>1</td>\n",
       "      <td>365</td>\n",
       "      <td>1.000000</td>\n",
       "      <td>(-0.025, 2.5]</td>\n",
       "      <td>2018-03-29 11:44:00</td>\n",
       "      <td>3</td>\n",
       "      <td>2018</td>\n",
       "      <td>2018-03</td>\n",
       "      <td>Thursday</td>\n",
       "      <td>11</td>\n",
       "      <td>1.0</td>\n",
       "      <td>2 days 06:42:00.000000000</td>\n",
       "      <td>2.279167</td>\n",
       "      <td>Black</td>\n",
       "      <td>1</td>\n",
       "      <td>Tan</td>\n",
       "      <td>1</td>\n",
       "      <td>0</td>\n",
       "      <td>1</td>\n",
       "      <td>Del Valle</td>\n",
       "      <td>23.269927</td>\n",
       "      <td>-106.38944</td>\n",
       "      <td>South</td>\n",
       "      <td>Labrador Retriever</td>\n",
       "      <td>1</td>\n",
       "      <td>1</td>\n",
       "      <td>German Shepherd</td>\n",
       "      <td>85.0</td>\n",
       "      <td>25.0</td>\n",
       "      <td>13.0</td>\n",
       "    </tr>\n",
       "  </tbody>\n",
       "</table>\n",
       "<p>20581 rows × 61 columns</p>\n",
       "</div>"
      ],
      "text/plain": [
       "       Unnamed: 0  level_0  index age_upon_outcome animal_id_outcome  \\\n",
       "0               0        0     12         16 years           A200922   \n",
       "1               1        1     14         17 years           A210457   \n",
       "2               2        2     22         15 years           A226069   \n",
       "3               3        3     32         15 years           A249087   \n",
       "4               4        4     48         11 years           A274546   \n",
       "...           ...      ...    ...              ...               ...   \n",
       "20576       20576    33249  79647          7 years           A769012   \n",
       "20577       20577    33250  79649         2 months           A769014   \n",
       "20578       20578    33251  79653         2 months           A769020   \n",
       "20579       20579    33252  79654           1 year           A769034   \n",
       "20580       20580    33253  79655           1 year           A769036   \n",
       "\n",
       "             date_of_birth outcome_subtype outcome_type sex_upon_outcome  \\\n",
       "0      1997-10-03 00:00:00          Foster     Adoption    Neutered Male   \n",
       "1      1999-06-01 00:00:00          Foster     Adoption    Neutered Male   \n",
       "2      2000-06-17 00:00:00          Foster     Adoption    Neutered Male   \n",
       "3      2001-01-02 00:00:00          Foster     Adoption    Spayed Female   \n",
       "4      2002-05-25 00:00:00             NaN     Adoption    Spayed Female   \n",
       "...                    ...             ...          ...              ...   \n",
       "20576  2011-03-29 00:00:00             NaN     Adoption    Spayed Female   \n",
       "20577  2018-01-28 00:00:00             NaN     Adoption    Neutered Male   \n",
       "20578  2018-01-18 00:00:00             NaN     Adoption    Neutered Male   \n",
       "20579  2017-03-29 00:00:00             NaN     Adoption    Spayed Female   \n",
       "20580  2017-03-29 00:00:00             NaN     Adoption    Spayed Female   \n",
       "\n",
       "       age_upon_outcome_(days)  age_upon_outcome_(years)  \\\n",
       "0                         5840                 16.000000   \n",
       "1                         6205                 17.000000   \n",
       "2                         5475                 15.000000   \n",
       "3                         5475                 15.000000   \n",
       "4                         4015                 11.000000   \n",
       "...                        ...                       ...   \n",
       "20576                     2555                  7.000000   \n",
       "20577                       60                  0.164384   \n",
       "20578                       60                  0.164384   \n",
       "20579                      365                  1.000000   \n",
       "20580                      365                  1.000000   \n",
       "\n",
       "      age_upon_outcome_age_group     outcome_datetime  outcome_month  \\\n",
       "0                   (15.0, 17.5]  2013-11-22 09:44:00             11   \n",
       "1                   (15.0, 17.5]  2016-10-07 12:34:00             10   \n",
       "2                   (12.5, 15.0]  2015-10-29 15:00:00             10   \n",
       "3                   (12.5, 15.0]  2016-11-15 10:37:00             11   \n",
       "4                   (10.0, 12.5]  2013-11-16 12:24:00             11   \n",
       "...                          ...                  ...            ...   \n",
       "20576                 (5.0, 7.5]  2018-04-01 12:36:00              4   \n",
       "20577              (-0.025, 2.5]  2018-04-02 19:05:00              4   \n",
       "20578              (-0.025, 2.5]  2018-04-01 17:27:00              4   \n",
       "20579              (-0.025, 2.5]  2018-04-03 15:23:00              4   \n",
       "20580              (-0.025, 2.5]  2018-03-31 18:26:00              3   \n",
       "\n",
       "       outcome_year outcome_monthyear outcome_weekday  outcome_hour  \\\n",
       "0              2013           2013-11          Friday             9   \n",
       "1              2016           2016-10          Friday            12   \n",
       "2              2015           2015-10        Thursday            15   \n",
       "3              2016           2016-11         Tuesday            10   \n",
       "4              2013           2013-11        Saturday            12   \n",
       "...             ...               ...             ...           ...   \n",
       "20576          2018           2018-04          Sunday            12   \n",
       "20577          2018           2018-04          Monday            19   \n",
       "20578          2018           2018-04          Sunday            17   \n",
       "20579          2018           2018-04         Tuesday            15   \n",
       "20580          2018           2018-03        Saturday            18   \n",
       "\n",
       "       outcome_number  dob_year  dob_month dob_monthyear age_upon_intake  \\\n",
       "0                 1.0      1997         10       2013-11        16 years   \n",
       "1                 1.0      1999          6       2016-10        17 years   \n",
       "2                 1.0      2000          6       2015-10        15 years   \n",
       "3                 1.0      2001          1       2016-11        15 years   \n",
       "4                 1.0      2002          5       2013-11        11 years   \n",
       "...               ...       ...        ...           ...             ...   \n",
       "20576             1.0      2011          3       2018-04         7 years   \n",
       "20577             1.0      2018          1       2018-04         1 month   \n",
       "20578             1.0      2018          1       2018-04        2 months   \n",
       "20579             1.0      2017          3       2018-04          1 year   \n",
       "20580             1.0      2017          3       2018-03          1 year   \n",
       "\n",
       "      animal_id_intake animal_type                               breed  \\\n",
       "0              A200922         Dog                       Dachshund Mix   \n",
       "1              A210457         Dog                 Chihuahua Shorthair   \n",
       "2              A226069         Dog           Labrador Retriever/Beagle   \n",
       "3              A249087         Dog                 German Shepherd Mix   \n",
       "4              A274546         Dog                         Pointer Mix   \n",
       "...                ...         ...                                 ...   \n",
       "20576          A769012         Dog             Chihuahua Shorthair Mix   \n",
       "20577          A769014         Dog                        Pit Bull Mix   \n",
       "20578          A769020         Dog                     German Shepherd   \n",
       "20579          A769034         Dog  Labrador Retriever/German Shepherd   \n",
       "20580          A769036         Dog  Labrador Retriever/German Shepherd   \n",
       "\n",
       "             color                                  found_location  \\\n",
       "0        Black/Tan                                     Austin (TX)   \n",
       "1        Tan/Black                4424 S Mopac #412 in Austin (TX)   \n",
       "2      Sable/White        Wheless Ln And Berkman Dr in Austin (TX)   \n",
       "3      Black/Brown          E 6Th St And Pedernales in Austin (TX)   \n",
       "4         Tricolor           Manchaca And Slaughter in Austin (TX)   \n",
       "...            ...                                             ...   \n",
       "20576          Tan           Springdale And Govalle in Austin (TX)   \n",
       "20577  Black/White      1044 Norwood Park Boulevard in Austin (TX)   \n",
       "20578    Black/Tan                                     Austin (TX)   \n",
       "20579  Black/White  Alpine Drive And Vevey Drive in Del Valle (TX)   \n",
       "20580    Black/Tan  Alpine Drive And Vevey Drive in Del Valle (TX)   \n",
       "\n",
       "      intake_condition      intake_type sex_upon_intake  count  \\\n",
       "0               Normal  Owner Surrender   Neutered Male      1   \n",
       "1                 Aged    Public Assist   Neutered Male      1   \n",
       "2               Normal            Stray   Neutered Male      1   \n",
       "3               Normal            Stray   Spayed Female      1   \n",
       "4               Normal            Stray   Spayed Female      1   \n",
       "...                ...              ...             ...    ...   \n",
       "20576           Normal            Stray   Spayed Female      1   \n",
       "20577           Normal            Stray     Intact Male      1   \n",
       "20578           Normal            Stray     Intact Male      1   \n",
       "20579           Normal            Stray   Spayed Female      1   \n",
       "20580           Normal            Stray   Spayed Female      1   \n",
       "\n",
       "       age_upon_intake_days  age_upon_intake_tears age_upon_intake_age_group  \\\n",
       "0                      5840              16.000000              (15.0, 17.5]   \n",
       "1                      6205              17.000000              (15.0, 17.5]   \n",
       "2                      5475              15.000000              (12.5, 15.0]   \n",
       "3                      5475              15.000000              (12.5, 15.0]   \n",
       "4                      4015              11.000000              (10.0, 12.5]   \n",
       "...                     ...                    ...                       ...   \n",
       "20576                  2555               7.000000                (5.0, 7.5]   \n",
       "20577                    30               0.082192             (-0.025, 2.5]   \n",
       "20578                    60               0.164384             (-0.025, 2.5]   \n",
       "20579                   365               1.000000             (-0.025, 2.5]   \n",
       "20580                   365               1.000000             (-0.025, 2.5]   \n",
       "\n",
       "           intake_datetime  intake_month  intake_year intake_monthyear  \\\n",
       "0      2013-10-03 15:47:00            10         2013          2013-10   \n",
       "1      2016-09-28 12:05:00             9         2016          2016-09   \n",
       "2      2015-10-06 12:29:00            10         2015          2015-10   \n",
       "3      2016-08-17 14:05:00             8         2016          2016-08   \n",
       "4      2013-11-13 18:16:00            11         2013          2013-11   \n",
       "...                    ...           ...          ...              ...   \n",
       "20576  2018-03-28 17:48:00             3         2018          2018-03   \n",
       "20577  2018-03-28 18:08:00             3         2018          2018-03   \n",
       "20578  2018-03-28 18:51:00             3         2018          2018-03   \n",
       "20579  2018-03-29 11:44:00             3         2018          2018-03   \n",
       "20580  2018-03-29 11:44:00             3         2018          2018-03   \n",
       "\n",
       "      intake_weekday  intake_hour  intake_number             time_in_shelter  \\\n",
       "0           Thursday           15            1.0  49 days 17:57:00.000000000   \n",
       "1          Wednesday           12            1.0   9 days 00:29:00.000000000   \n",
       "2            Tuesday           12            1.0  23 days 02:31:00.000000000   \n",
       "3          Wednesday           14            1.0  89 days 20:32:00.000000000   \n",
       "4          Wednesday           18            1.0   2 days 18:08:00.000000000   \n",
       "...              ...          ...            ...                         ...   \n",
       "20576      Wednesday           17            1.0   3 days 18:48:00.000000000   \n",
       "20577      Wednesday           18            1.0   5 days 00:57:00.000000000   \n",
       "20578      Wednesday           18            1.0   3 days 22:36:00.000000000   \n",
       "20579       Thursday           11            1.0   5 days 03:39:00.000000000   \n",
       "20580       Thursday           11            1.0   2 days 06:42:00.000000000   \n",
       "\n",
       "       time_in_shelter_days    color1  has_second_color color2  is_dog  \\\n",
       "0                 49.747917     Black                 1    Tan       1   \n",
       "1                  9.020139       Tan                 1  Black       1   \n",
       "2                 23.104861     Sable                 1  White       1   \n",
       "3                 89.855556     Black                 1  Brown       1   \n",
       "4                  2.755556  Tricolor                 0    NaN       1   \n",
       "...                     ...       ...               ...    ...     ...   \n",
       "20576              3.783333       Tan                 0    NaN       1   \n",
       "20577              5.039583     Black                 1  White       1   \n",
       "20578              3.941667     Black                 1    Tan       1   \n",
       "20579              5.152083     Black                 1  White       1   \n",
       "20580              2.279167     Black                 1    Tan       1   \n",
       "\n",
       "       is_male  is_fixed found_city  found_lat  found_lon  region  \\\n",
       "0            1         1     Austin  30.271129  -97.74370  Austin   \n",
       "1            1         1     Austin  30.271129  -97.74370  Austin   \n",
       "2            1         1     Austin  30.271129  -97.74370  Austin   \n",
       "3            0         1     Austin  30.271129  -97.74370  Austin   \n",
       "4            0         1     Austin  30.271129  -97.74370  Austin   \n",
       "...        ...       ...        ...        ...        ...     ...   \n",
       "20576        0         1     Austin  30.271129  -97.74370  Austin   \n",
       "20577        1         1     Austin  30.271129  -97.74370  Austin   \n",
       "20578        1         1     Austin  30.271129  -97.74370  Austin   \n",
       "20579        0         1  Del Valle  23.269927 -106.38944   South   \n",
       "20580        0         1  Del Valle  23.269927 -106.38944   South   \n",
       "\n",
       "                        breed1  is_breed2  is_mix           breed2  \\\n",
       "0                Dachshund Mix          0       1              NaN   \n",
       "1          Chihuahua Shorthair          0       0              NaN   \n",
       "2           Labrador Retriever          1       1           Beagle   \n",
       "3          German Shepherd Mix          0       1              NaN   \n",
       "4                  Pointer Mix          0       1              NaN   \n",
       "...                        ...        ...     ...              ...   \n",
       "20576  Chihuahua Shorthair Mix          0       1              NaN   \n",
       "20577             Pit Bull Mix          0       1              NaN   \n",
       "20578          German Shepherd          0       0              NaN   \n",
       "20579       Labrador Retriever          1       1  German Shepherd   \n",
       "20580       Labrador Retriever          1       1  German Shepherd   \n",
       "\n",
       "       max_weight  max_height  max_life  \n",
       "0            32.0         9.0      15.0  \n",
       "1             6.0         8.0      16.0  \n",
       "2            57.5        19.5      14.5  \n",
       "3            90.0        26.0      13.0  \n",
       "4            75.0        28.0      17.0  \n",
       "...           ...         ...       ...  \n",
       "20576         6.0         8.0      16.0  \n",
       "20577        60.0        21.0      15.0  \n",
       "20578        90.0        26.0      13.0  \n",
       "20579        85.0        25.0      13.0  \n",
       "20580        85.0        25.0      13.0  \n",
       "\n",
       "[20581 rows x 61 columns]"
      ]
     },
     "execution_count": 30,
     "metadata": {},
     "output_type": "execute_result"
    }
   ],
   "source": [
    "df2"
   ]
  },
  {
   "cell_type": "code",
   "execution_count": 36,
   "metadata": {
    "scrolled": true
   },
   "outputs": [
    {
     "data": {
      "text/plain": [
       "Index(['age_upon_outcome', 'animal_id_outcome', 'date_of_birth',\n",
       "       'outcome_subtype', 'outcome_type', 'sex_upon_outcome',\n",
       "       'age_upon_outcome_(days)', 'age_upon_outcome_(years)',\n",
       "       'age_upon_outcome_age_group', 'outcome_datetime', 'outcome_month',\n",
       "       'outcome_year', 'outcome_monthyear', 'outcome_weekday', 'outcome_hour',\n",
       "       'outcome_number', 'dob_year', 'dob_month', 'dob_monthyear',\n",
       "       'age_upon_intake', 'animal_id_intake', 'animal_type', 'breed', 'color',\n",
       "       'found_location', 'intake_condition', 'intake_type', 'sex_upon_intake',\n",
       "       'count', 'age_upon_intake_days', 'age_upon_intake_tears',\n",
       "       'age_upon_intake_age_group', 'intake_datetime', 'intake_month',\n",
       "       'intake_year', 'intake_monthyear', 'intake_weekday', 'intake_hour',\n",
       "       'intake_number', 'time_in_shelter', 'time_in_shelter_days', 'color1',\n",
       "       'has_second_color', 'color2', 'is_dog', 'is_male', 'is_fixed',\n",
       "       'found_city', 'found_lat', 'found_lon', 'region', 'breed1', 'is_breed2',\n",
       "       'is_mix', 'breed2', 'max_weight', 'max_height', 'max_life'],\n",
       "      dtype='object')"
      ]
     },
     "execution_count": 36,
     "metadata": {},
     "output_type": "execute_result"
    }
   ],
   "source": [
    "df2.columns"
   ]
  },
  {
   "cell_type": "code",
   "execution_count": 35,
   "metadata": {},
   "outputs": [],
   "source": [
    "df2.drop(['Unnamed: 0','level_0','index'],axis=1,inplace=True)"
   ]
  },
  {
   "cell_type": "code",
   "execution_count": 161,
   "metadata": {},
   "outputs": [],
   "source": [
    "target = df['intake_month']"
   ]
  },
  {
   "cell_type": "code",
   "execution_count": 60,
   "metadata": {},
   "outputs": [],
   "source": [
    "f2=[  'age_upon_intake_tears',\n",
    "       'intake_year', 'intake_hour',\n",
    "       'intake_number', 'time_in_shelter_days',\n",
    "       'has_second_color', 'is_dog', 'is_male', 'is_fixed', 'found_lat', 'found_lon', 'is_breed2',\n",
    "       'is_mix', 'max_weight', 'max_height', 'max_life']"
   ]
  },
  {
   "cell_type": "code",
   "execution_count": 166,
   "metadata": {},
   "outputs": [
    {
     "data": {
      "text/plain": [
       "dob_year                       int64\n",
       "dob_month                      int64\n",
       "age_upon_intake                int64\n",
       "animal_id_intake               int64\n",
       "count                          int64\n",
       "age_upon_intake_days           int64\n",
       "age_upon_intake_tears        float64\n",
       "age_upon_intake_age_group      int64\n",
       "intake_year                    int64\n",
       "intake_weekday                 int64\n",
       "intake_hour                    int64\n",
       "intake_number                float64\n",
       "time_in_shelter                int64\n",
       "time_in_shelter_days         float64\n",
       "has_second_color               int64\n",
       "is_dog                         int64\n",
       "is_male                        int64\n",
       "is_fixed                       int64\n",
       "found_lat                    float64\n",
       "found_lon                    float64\n",
       "is_breed2                      int64\n",
       "is_mix                         int64\n",
       "max_weight                   float64\n",
       "max_height                   float64\n",
       "max_life                     float64\n",
       "health                         int64\n",
       "color_bin                     object\n",
       "was_owned                      int64\n",
       "season                         int64\n",
       "intake_month                   int64\n",
       "dtype: object"
      ]
     },
     "execution_count": 166,
     "metadata": {},
     "output_type": "execute_result"
    }
   ],
   "source": [
    "df[features].dtypes"
   ]
  },
  {
   "cell_type": "code",
   "execution_count": 163,
   "metadata": {},
   "outputs": [],
   "source": [
    "df_features = df[features]"
   ]
  },
  {
   "cell_type": "code",
   "execution_count": 177,
   "metadata": {},
   "outputs": [
    {
     "name": "stdout",
     "output_type": "stream",
     "text": [
      "Training set - Features:  (16345, 62) Target:  (16345,)\n",
      "Training set - Features:  (4087, 62) Target:  (4087,)\n"
     ]
    }
   ],
   "source": [
    "from sklearn.model_selection import train_test_split\n",
    "\n",
    "#call train_test_split on the data and capture the results\n",
    "X_train, X_test, y_train, y_test = train_test_split(df, target, random_state=34,test_size=0.2)\n",
    "\n",
    "#check the shape of the results\n",
    "print(\"Training set - Features: \", X_train.shape, \"Target: \", y_train.shape)\n",
    "print(\"Training set - Features: \", X_test.shape, \"Target: \",y_test.shape)"
   ]
  },
  {
   "cell_type": "code",
   "execution_count": 178,
   "metadata": {
    "scrolled": true
   },
   "outputs": [
    {
     "ename": "ValueError",
     "evalue": "could not convert string to float: '1 year'",
     "output_type": "error",
     "traceback": [
      "\u001b[0;31m---------------------------------------------------------------------------\u001b[0m",
      "\u001b[0;31mValueError\u001b[0m                                Traceback (most recent call last)",
      "\u001b[0;32m<ipython-input-178-9cfc6fbe7940>\u001b[0m in \u001b[0;36m<module>\u001b[0;34m\u001b[0m\n\u001b[1;32m      5\u001b[0m \u001b[0;34m\u001b[0m\u001b[0m\n\u001b[1;32m      6\u001b[0m \u001b[0;31m#fit the linear regression to the data\u001b[0m\u001b[0;34m\u001b[0m\u001b[0;34m\u001b[0m\u001b[0;34m\u001b[0m\u001b[0m\n\u001b[0;32m----> 7\u001b[0;31m \u001b[0mlm\u001b[0m \u001b[0;34m=\u001b[0m \u001b[0mlm\u001b[0m\u001b[0;34m.\u001b[0m\u001b[0mfit\u001b[0m\u001b[0;34m(\u001b[0m\u001b[0mX_train\u001b[0m\u001b[0;34m,\u001b[0m \u001b[0my_train\u001b[0m\u001b[0;34m)\u001b[0m\u001b[0;34m\u001b[0m\u001b[0;34m\u001b[0m\u001b[0m\n\u001b[0m\u001b[1;32m      8\u001b[0m \u001b[0;34m\u001b[0m\u001b[0m\n\u001b[1;32m      9\u001b[0m \u001b[0;34m\u001b[0m\u001b[0m\n",
      "\u001b[0;32m~/opt/anaconda3/lib/python3.7/site-packages/sklearn/linear_model/_base.py\u001b[0m in \u001b[0;36mfit\u001b[0;34m(self, X, y, sample_weight)\u001b[0m\n\u001b[1;32m    504\u001b[0m         \u001b[0mn_jobs_\u001b[0m \u001b[0;34m=\u001b[0m \u001b[0mself\u001b[0m\u001b[0;34m.\u001b[0m\u001b[0mn_jobs\u001b[0m\u001b[0;34m\u001b[0m\u001b[0;34m\u001b[0m\u001b[0m\n\u001b[1;32m    505\u001b[0m         X, y = self._validate_data(X, y, accept_sparse=['csr', 'csc', 'coo'],\n\u001b[0;32m--> 506\u001b[0;31m                                    y_numeric=True, multi_output=True)\n\u001b[0m\u001b[1;32m    507\u001b[0m \u001b[0;34m\u001b[0m\u001b[0m\n\u001b[1;32m    508\u001b[0m         \u001b[0;32mif\u001b[0m \u001b[0msample_weight\u001b[0m \u001b[0;32mis\u001b[0m \u001b[0;32mnot\u001b[0m \u001b[0;32mNone\u001b[0m\u001b[0;34m:\u001b[0m\u001b[0;34m\u001b[0m\u001b[0;34m\u001b[0m\u001b[0m\n",
      "\u001b[0;32m~/opt/anaconda3/lib/python3.7/site-packages/sklearn/base.py\u001b[0m in \u001b[0;36m_validate_data\u001b[0;34m(self, X, y, reset, validate_separately, **check_params)\u001b[0m\n\u001b[1;32m    430\u001b[0m                 \u001b[0my\u001b[0m \u001b[0;34m=\u001b[0m \u001b[0mcheck_array\u001b[0m\u001b[0;34m(\u001b[0m\u001b[0my\u001b[0m\u001b[0;34m,\u001b[0m \u001b[0;34m**\u001b[0m\u001b[0mcheck_y_params\u001b[0m\u001b[0;34m)\u001b[0m\u001b[0;34m\u001b[0m\u001b[0;34m\u001b[0m\u001b[0m\n\u001b[1;32m    431\u001b[0m             \u001b[0;32melse\u001b[0m\u001b[0;34m:\u001b[0m\u001b[0;34m\u001b[0m\u001b[0;34m\u001b[0m\u001b[0m\n\u001b[0;32m--> 432\u001b[0;31m                 \u001b[0mX\u001b[0m\u001b[0;34m,\u001b[0m \u001b[0my\u001b[0m \u001b[0;34m=\u001b[0m \u001b[0mcheck_X_y\u001b[0m\u001b[0;34m(\u001b[0m\u001b[0mX\u001b[0m\u001b[0;34m,\u001b[0m \u001b[0my\u001b[0m\u001b[0;34m,\u001b[0m \u001b[0;34m**\u001b[0m\u001b[0mcheck_params\u001b[0m\u001b[0;34m)\u001b[0m\u001b[0;34m\u001b[0m\u001b[0;34m\u001b[0m\u001b[0m\n\u001b[0m\u001b[1;32m    433\u001b[0m             \u001b[0mout\u001b[0m \u001b[0;34m=\u001b[0m \u001b[0mX\u001b[0m\u001b[0;34m,\u001b[0m \u001b[0my\u001b[0m\u001b[0;34m\u001b[0m\u001b[0;34m\u001b[0m\u001b[0m\n\u001b[1;32m    434\u001b[0m \u001b[0;34m\u001b[0m\u001b[0m\n",
      "\u001b[0;32m~/opt/anaconda3/lib/python3.7/site-packages/sklearn/utils/validation.py\u001b[0m in \u001b[0;36minner_f\u001b[0;34m(*args, **kwargs)\u001b[0m\n\u001b[1;32m     70\u001b[0m                           FutureWarning)\n\u001b[1;32m     71\u001b[0m         \u001b[0mkwargs\u001b[0m\u001b[0;34m.\u001b[0m\u001b[0mupdate\u001b[0m\u001b[0;34m(\u001b[0m\u001b[0;34m{\u001b[0m\u001b[0mk\u001b[0m\u001b[0;34m:\u001b[0m \u001b[0marg\u001b[0m \u001b[0;32mfor\u001b[0m \u001b[0mk\u001b[0m\u001b[0;34m,\u001b[0m \u001b[0marg\u001b[0m \u001b[0;32min\u001b[0m \u001b[0mzip\u001b[0m\u001b[0;34m(\u001b[0m\u001b[0msig\u001b[0m\u001b[0;34m.\u001b[0m\u001b[0mparameters\u001b[0m\u001b[0;34m,\u001b[0m \u001b[0margs\u001b[0m\u001b[0;34m)\u001b[0m\u001b[0;34m}\u001b[0m\u001b[0;34m)\u001b[0m\u001b[0;34m\u001b[0m\u001b[0;34m\u001b[0m\u001b[0m\n\u001b[0;32m---> 72\u001b[0;31m         \u001b[0;32mreturn\u001b[0m \u001b[0mf\u001b[0m\u001b[0;34m(\u001b[0m\u001b[0;34m**\u001b[0m\u001b[0mkwargs\u001b[0m\u001b[0;34m)\u001b[0m\u001b[0;34m\u001b[0m\u001b[0;34m\u001b[0m\u001b[0m\n\u001b[0m\u001b[1;32m     73\u001b[0m     \u001b[0;32mreturn\u001b[0m \u001b[0minner_f\u001b[0m\u001b[0;34m\u001b[0m\u001b[0;34m\u001b[0m\u001b[0m\n\u001b[1;32m     74\u001b[0m \u001b[0;34m\u001b[0m\u001b[0m\n",
      "\u001b[0;32m~/opt/anaconda3/lib/python3.7/site-packages/sklearn/utils/validation.py\u001b[0m in \u001b[0;36mcheck_X_y\u001b[0;34m(X, y, accept_sparse, accept_large_sparse, dtype, order, copy, force_all_finite, ensure_2d, allow_nd, multi_output, ensure_min_samples, ensure_min_features, y_numeric, estimator)\u001b[0m\n\u001b[1;32m    800\u001b[0m                     \u001b[0mensure_min_samples\u001b[0m\u001b[0;34m=\u001b[0m\u001b[0mensure_min_samples\u001b[0m\u001b[0;34m,\u001b[0m\u001b[0;34m\u001b[0m\u001b[0;34m\u001b[0m\u001b[0m\n\u001b[1;32m    801\u001b[0m                     \u001b[0mensure_min_features\u001b[0m\u001b[0;34m=\u001b[0m\u001b[0mensure_min_features\u001b[0m\u001b[0;34m,\u001b[0m\u001b[0;34m\u001b[0m\u001b[0;34m\u001b[0m\u001b[0m\n\u001b[0;32m--> 802\u001b[0;31m                     estimator=estimator)\n\u001b[0m\u001b[1;32m    803\u001b[0m     \u001b[0;32mif\u001b[0m \u001b[0mmulti_output\u001b[0m\u001b[0;34m:\u001b[0m\u001b[0;34m\u001b[0m\u001b[0;34m\u001b[0m\u001b[0m\n\u001b[1;32m    804\u001b[0m         y = check_array(y, accept_sparse='csr', force_all_finite=True,\n",
      "\u001b[0;32m~/opt/anaconda3/lib/python3.7/site-packages/sklearn/utils/validation.py\u001b[0m in \u001b[0;36minner_f\u001b[0;34m(*args, **kwargs)\u001b[0m\n\u001b[1;32m     70\u001b[0m                           FutureWarning)\n\u001b[1;32m     71\u001b[0m         \u001b[0mkwargs\u001b[0m\u001b[0;34m.\u001b[0m\u001b[0mupdate\u001b[0m\u001b[0;34m(\u001b[0m\u001b[0;34m{\u001b[0m\u001b[0mk\u001b[0m\u001b[0;34m:\u001b[0m \u001b[0marg\u001b[0m \u001b[0;32mfor\u001b[0m \u001b[0mk\u001b[0m\u001b[0;34m,\u001b[0m \u001b[0marg\u001b[0m \u001b[0;32min\u001b[0m \u001b[0mzip\u001b[0m\u001b[0;34m(\u001b[0m\u001b[0msig\u001b[0m\u001b[0;34m.\u001b[0m\u001b[0mparameters\u001b[0m\u001b[0;34m,\u001b[0m \u001b[0margs\u001b[0m\u001b[0;34m)\u001b[0m\u001b[0;34m}\u001b[0m\u001b[0;34m)\u001b[0m\u001b[0;34m\u001b[0m\u001b[0;34m\u001b[0m\u001b[0m\n\u001b[0;32m---> 72\u001b[0;31m         \u001b[0;32mreturn\u001b[0m \u001b[0mf\u001b[0m\u001b[0;34m(\u001b[0m\u001b[0;34m**\u001b[0m\u001b[0mkwargs\u001b[0m\u001b[0;34m)\u001b[0m\u001b[0;34m\u001b[0m\u001b[0;34m\u001b[0m\u001b[0m\n\u001b[0m\u001b[1;32m     73\u001b[0m     \u001b[0;32mreturn\u001b[0m \u001b[0minner_f\u001b[0m\u001b[0;34m\u001b[0m\u001b[0;34m\u001b[0m\u001b[0m\n\u001b[1;32m     74\u001b[0m \u001b[0;34m\u001b[0m\u001b[0m\n",
      "\u001b[0;32m~/opt/anaconda3/lib/python3.7/site-packages/sklearn/utils/validation.py\u001b[0m in \u001b[0;36mcheck_array\u001b[0;34m(array, accept_sparse, accept_large_sparse, dtype, order, copy, force_all_finite, ensure_2d, allow_nd, ensure_min_samples, ensure_min_features, estimator)\u001b[0m\n\u001b[1;32m    596\u001b[0m                     \u001b[0marray\u001b[0m \u001b[0;34m=\u001b[0m \u001b[0marray\u001b[0m\u001b[0;34m.\u001b[0m\u001b[0mastype\u001b[0m\u001b[0;34m(\u001b[0m\u001b[0mdtype\u001b[0m\u001b[0;34m,\u001b[0m \u001b[0mcasting\u001b[0m\u001b[0;34m=\u001b[0m\u001b[0;34m\"unsafe\"\u001b[0m\u001b[0;34m,\u001b[0m \u001b[0mcopy\u001b[0m\u001b[0;34m=\u001b[0m\u001b[0;32mFalse\u001b[0m\u001b[0;34m)\u001b[0m\u001b[0;34m\u001b[0m\u001b[0;34m\u001b[0m\u001b[0m\n\u001b[1;32m    597\u001b[0m                 \u001b[0;32melse\u001b[0m\u001b[0;34m:\u001b[0m\u001b[0;34m\u001b[0m\u001b[0;34m\u001b[0m\u001b[0m\n\u001b[0;32m--> 598\u001b[0;31m                     \u001b[0marray\u001b[0m \u001b[0;34m=\u001b[0m \u001b[0mnp\u001b[0m\u001b[0;34m.\u001b[0m\u001b[0masarray\u001b[0m\u001b[0;34m(\u001b[0m\u001b[0marray\u001b[0m\u001b[0;34m,\u001b[0m \u001b[0morder\u001b[0m\u001b[0;34m=\u001b[0m\u001b[0morder\u001b[0m\u001b[0;34m,\u001b[0m \u001b[0mdtype\u001b[0m\u001b[0;34m=\u001b[0m\u001b[0mdtype\u001b[0m\u001b[0;34m)\u001b[0m\u001b[0;34m\u001b[0m\u001b[0;34m\u001b[0m\u001b[0m\n\u001b[0m\u001b[1;32m    599\u001b[0m             \u001b[0;32mexcept\u001b[0m \u001b[0mComplexWarning\u001b[0m\u001b[0;34m:\u001b[0m\u001b[0;34m\u001b[0m\u001b[0;34m\u001b[0m\u001b[0m\n\u001b[1;32m    600\u001b[0m                 raise ValueError(\"Complex data not supported\\n\"\n",
      "\u001b[0;32m~/opt/anaconda3/lib/python3.7/site-packages/numpy/core/_asarray.py\u001b[0m in \u001b[0;36masarray\u001b[0;34m(a, dtype, order)\u001b[0m\n\u001b[1;32m     81\u001b[0m \u001b[0;34m\u001b[0m\u001b[0m\n\u001b[1;32m     82\u001b[0m     \"\"\"\n\u001b[0;32m---> 83\u001b[0;31m     \u001b[0;32mreturn\u001b[0m \u001b[0marray\u001b[0m\u001b[0;34m(\u001b[0m\u001b[0ma\u001b[0m\u001b[0;34m,\u001b[0m \u001b[0mdtype\u001b[0m\u001b[0;34m,\u001b[0m \u001b[0mcopy\u001b[0m\u001b[0;34m=\u001b[0m\u001b[0;32mFalse\u001b[0m\u001b[0;34m,\u001b[0m \u001b[0morder\u001b[0m\u001b[0;34m=\u001b[0m\u001b[0morder\u001b[0m\u001b[0;34m)\u001b[0m\u001b[0;34m\u001b[0m\u001b[0;34m\u001b[0m\u001b[0m\n\u001b[0m\u001b[1;32m     84\u001b[0m \u001b[0;34m\u001b[0m\u001b[0m\n\u001b[1;32m     85\u001b[0m \u001b[0;34m\u001b[0m\u001b[0m\n",
      "\u001b[0;31mValueError\u001b[0m: could not convert string to float: '1 year'"
     ]
    }
   ],
   "source": [
    "from sklearn import linear_model\n",
    "\n",
    "#instantiate a linear regression object\n",
    "lm = linear_model.LinearRegression()\n",
    "\n",
    "#fit the linear regression to the data\n",
    "lm = lm.fit(X_train, y_train)\n",
    "\n",
    "\n",
    "print(lm.intercept_)\n",
    "print(lm.coef_)"
   ]
  },
  {
   "cell_type": "code",
   "execution_count": 73,
   "metadata": {},
   "outputs": [
    {
     "data": {
      "text/plain": [
       "0        10\n",
       "1         9\n",
       "2        10\n",
       "3         8\n",
       "4        11\n",
       "         ..\n",
       "20576     3\n",
       "20577     3\n",
       "20578     3\n",
       "20579     3\n",
       "20580     3\n",
       "Name: intake_month, Length: 20581, dtype: int64"
      ]
     },
     "execution_count": 73,
     "metadata": {},
     "output_type": "execute_result"
    }
   ],
   "source": [
    "df2['intake_month']"
   ]
  },
  {
   "cell_type": "code",
   "execution_count": 167,
   "metadata": {},
   "outputs": [
    {
     "ename": "NotFittedError",
     "evalue": "This LinearRegression instance is not fitted yet. Call 'fit' with appropriate arguments before using this estimator.",
     "output_type": "error",
     "traceback": [
      "\u001b[0;31m---------------------------------------------------------------------------\u001b[0m",
      "\u001b[0;31mNotFittedError\u001b[0m                            Traceback (most recent call last)",
      "\u001b[0;32m<ipython-input-167-e8025f86aab1>\u001b[0m in \u001b[0;36m<module>\u001b[0;34m\u001b[0m\n\u001b[0;32m----> 1\u001b[0;31m \u001b[0my_pred\u001b[0m \u001b[0;34m=\u001b[0m \u001b[0mlm\u001b[0m\u001b[0;34m.\u001b[0m\u001b[0mpredict\u001b[0m\u001b[0;34m(\u001b[0m\u001b[0mX_test\u001b[0m\u001b[0;34m)\u001b[0m\u001b[0;34m\u001b[0m\u001b[0;34m\u001b[0m\u001b[0m\n\u001b[0m",
      "\u001b[0;32m~/opt/anaconda3/lib/python3.7/site-packages/sklearn/linear_model/_base.py\u001b[0m in \u001b[0;36mpredict\u001b[0;34m(self, X)\u001b[0m\n\u001b[1;32m    234\u001b[0m             \u001b[0mReturns\u001b[0m \u001b[0mpredicted\u001b[0m \u001b[0mvalues\u001b[0m\u001b[0;34m.\u001b[0m\u001b[0;34m\u001b[0m\u001b[0;34m\u001b[0m\u001b[0m\n\u001b[1;32m    235\u001b[0m         \"\"\"\n\u001b[0;32m--> 236\u001b[0;31m         \u001b[0;32mreturn\u001b[0m \u001b[0mself\u001b[0m\u001b[0;34m.\u001b[0m\u001b[0m_decision_function\u001b[0m\u001b[0;34m(\u001b[0m\u001b[0mX\u001b[0m\u001b[0;34m)\u001b[0m\u001b[0;34m\u001b[0m\u001b[0;34m\u001b[0m\u001b[0m\n\u001b[0m\u001b[1;32m    237\u001b[0m \u001b[0;34m\u001b[0m\u001b[0m\n\u001b[1;32m    238\u001b[0m     \u001b[0m_preprocess_data\u001b[0m \u001b[0;34m=\u001b[0m \u001b[0mstaticmethod\u001b[0m\u001b[0;34m(\u001b[0m\u001b[0m_preprocess_data\u001b[0m\u001b[0;34m)\u001b[0m\u001b[0;34m\u001b[0m\u001b[0;34m\u001b[0m\u001b[0m\n",
      "\u001b[0;32m~/opt/anaconda3/lib/python3.7/site-packages/sklearn/linear_model/_base.py\u001b[0m in \u001b[0;36m_decision_function\u001b[0;34m(self, X)\u001b[0m\n\u001b[1;32m    214\u001b[0m \u001b[0;34m\u001b[0m\u001b[0m\n\u001b[1;32m    215\u001b[0m     \u001b[0;32mdef\u001b[0m \u001b[0m_decision_function\u001b[0m\u001b[0;34m(\u001b[0m\u001b[0mself\u001b[0m\u001b[0;34m,\u001b[0m \u001b[0mX\u001b[0m\u001b[0;34m)\u001b[0m\u001b[0;34m:\u001b[0m\u001b[0;34m\u001b[0m\u001b[0;34m\u001b[0m\u001b[0m\n\u001b[0;32m--> 216\u001b[0;31m         \u001b[0mcheck_is_fitted\u001b[0m\u001b[0;34m(\u001b[0m\u001b[0mself\u001b[0m\u001b[0;34m)\u001b[0m\u001b[0;34m\u001b[0m\u001b[0;34m\u001b[0m\u001b[0m\n\u001b[0m\u001b[1;32m    217\u001b[0m \u001b[0;34m\u001b[0m\u001b[0m\n\u001b[1;32m    218\u001b[0m         \u001b[0mX\u001b[0m \u001b[0;34m=\u001b[0m \u001b[0mcheck_array\u001b[0m\u001b[0;34m(\u001b[0m\u001b[0mX\u001b[0m\u001b[0;34m,\u001b[0m \u001b[0maccept_sparse\u001b[0m\u001b[0;34m=\u001b[0m\u001b[0;34m[\u001b[0m\u001b[0;34m'csr'\u001b[0m\u001b[0;34m,\u001b[0m \u001b[0;34m'csc'\u001b[0m\u001b[0;34m,\u001b[0m \u001b[0;34m'coo'\u001b[0m\u001b[0;34m]\u001b[0m\u001b[0;34m)\u001b[0m\u001b[0;34m\u001b[0m\u001b[0;34m\u001b[0m\u001b[0m\n",
      "\u001b[0;32m~/opt/anaconda3/lib/python3.7/site-packages/sklearn/utils/validation.py\u001b[0m in \u001b[0;36minner_f\u001b[0;34m(*args, **kwargs)\u001b[0m\n\u001b[1;32m     70\u001b[0m                           FutureWarning)\n\u001b[1;32m     71\u001b[0m         \u001b[0mkwargs\u001b[0m\u001b[0;34m.\u001b[0m\u001b[0mupdate\u001b[0m\u001b[0;34m(\u001b[0m\u001b[0;34m{\u001b[0m\u001b[0mk\u001b[0m\u001b[0;34m:\u001b[0m \u001b[0marg\u001b[0m \u001b[0;32mfor\u001b[0m \u001b[0mk\u001b[0m\u001b[0;34m,\u001b[0m \u001b[0marg\u001b[0m \u001b[0;32min\u001b[0m \u001b[0mzip\u001b[0m\u001b[0;34m(\u001b[0m\u001b[0msig\u001b[0m\u001b[0;34m.\u001b[0m\u001b[0mparameters\u001b[0m\u001b[0;34m,\u001b[0m \u001b[0margs\u001b[0m\u001b[0;34m)\u001b[0m\u001b[0;34m}\u001b[0m\u001b[0;34m)\u001b[0m\u001b[0;34m\u001b[0m\u001b[0;34m\u001b[0m\u001b[0m\n\u001b[0;32m---> 72\u001b[0;31m         \u001b[0;32mreturn\u001b[0m \u001b[0mf\u001b[0m\u001b[0;34m(\u001b[0m\u001b[0;34m**\u001b[0m\u001b[0mkwargs\u001b[0m\u001b[0;34m)\u001b[0m\u001b[0;34m\u001b[0m\u001b[0;34m\u001b[0m\u001b[0m\n\u001b[0m\u001b[1;32m     73\u001b[0m     \u001b[0;32mreturn\u001b[0m \u001b[0minner_f\u001b[0m\u001b[0;34m\u001b[0m\u001b[0;34m\u001b[0m\u001b[0m\n\u001b[1;32m     74\u001b[0m \u001b[0;34m\u001b[0m\u001b[0m\n",
      "\u001b[0;32m~/opt/anaconda3/lib/python3.7/site-packages/sklearn/utils/validation.py\u001b[0m in \u001b[0;36mcheck_is_fitted\u001b[0;34m(estimator, attributes, msg, all_or_any)\u001b[0m\n\u001b[1;32m   1017\u001b[0m \u001b[0;34m\u001b[0m\u001b[0m\n\u001b[1;32m   1018\u001b[0m     \u001b[0;32mif\u001b[0m \u001b[0;32mnot\u001b[0m \u001b[0mattrs\u001b[0m\u001b[0;34m:\u001b[0m\u001b[0;34m\u001b[0m\u001b[0;34m\u001b[0m\u001b[0m\n\u001b[0;32m-> 1019\u001b[0;31m         \u001b[0;32mraise\u001b[0m \u001b[0mNotFittedError\u001b[0m\u001b[0;34m(\u001b[0m\u001b[0mmsg\u001b[0m \u001b[0;34m%\u001b[0m \u001b[0;34m{\u001b[0m\u001b[0;34m'name'\u001b[0m\u001b[0;34m:\u001b[0m \u001b[0mtype\u001b[0m\u001b[0;34m(\u001b[0m\u001b[0mestimator\u001b[0m\u001b[0;34m)\u001b[0m\u001b[0;34m.\u001b[0m\u001b[0m__name__\u001b[0m\u001b[0;34m}\u001b[0m\u001b[0;34m)\u001b[0m\u001b[0;34m\u001b[0m\u001b[0;34m\u001b[0m\u001b[0m\n\u001b[0m\u001b[1;32m   1020\u001b[0m \u001b[0;34m\u001b[0m\u001b[0m\n\u001b[1;32m   1021\u001b[0m \u001b[0;34m\u001b[0m\u001b[0m\n",
      "\u001b[0;31mNotFittedError\u001b[0m: This LinearRegression instance is not fitted yet. Call 'fit' with appropriate arguments before using this estimator."
     ]
    }
   ],
   "source": [
    "y_pred = lm.predict(X_test)"
   ]
  },
  {
   "cell_type": "code",
   "execution_count": 118,
   "metadata": {},
   "outputs": [
    {
     "ename": "AttributeError",
     "evalue": "'DataFrame' object has no attribute 'intake_month'",
     "output_type": "error",
     "traceback": [
      "\u001b[0;31m---------------------------------------------------------------------------\u001b[0m",
      "\u001b[0;31mAttributeError\u001b[0m                            Traceback (most recent call last)",
      "\u001b[0;32m<ipython-input-118-78670ccde03d>\u001b[0m in \u001b[0;36m<module>\u001b[0;34m\u001b[0m\n\u001b[0;32m----> 1\u001b[0;31m \u001b[0mdf\u001b[0m\u001b[0;34m.\u001b[0m\u001b[0mintake_month\u001b[0m\u001b[0;34m\u001b[0m\u001b[0;34m\u001b[0m\u001b[0m\n\u001b[0m",
      "\u001b[0;32m~/opt/anaconda3/lib/python3.7/site-packages/pandas/core/generic.py\u001b[0m in \u001b[0;36m__getattr__\u001b[0;34m(self, name)\u001b[0m\n\u001b[1;32m   5272\u001b[0m             \u001b[0;32mif\u001b[0m \u001b[0mself\u001b[0m\u001b[0;34m.\u001b[0m\u001b[0m_info_axis\u001b[0m\u001b[0;34m.\u001b[0m\u001b[0m_can_hold_identifiers_and_holds_name\u001b[0m\u001b[0;34m(\u001b[0m\u001b[0mname\u001b[0m\u001b[0;34m)\u001b[0m\u001b[0;34m:\u001b[0m\u001b[0;34m\u001b[0m\u001b[0;34m\u001b[0m\u001b[0m\n\u001b[1;32m   5273\u001b[0m                 \u001b[0;32mreturn\u001b[0m \u001b[0mself\u001b[0m\u001b[0;34m[\u001b[0m\u001b[0mname\u001b[0m\u001b[0;34m]\u001b[0m\u001b[0;34m\u001b[0m\u001b[0;34m\u001b[0m\u001b[0m\n\u001b[0;32m-> 5274\u001b[0;31m             \u001b[0;32mreturn\u001b[0m \u001b[0mobject\u001b[0m\u001b[0;34m.\u001b[0m\u001b[0m__getattribute__\u001b[0m\u001b[0;34m(\u001b[0m\u001b[0mself\u001b[0m\u001b[0;34m,\u001b[0m \u001b[0mname\u001b[0m\u001b[0;34m)\u001b[0m\u001b[0;34m\u001b[0m\u001b[0;34m\u001b[0m\u001b[0m\n\u001b[0m\u001b[1;32m   5275\u001b[0m \u001b[0;34m\u001b[0m\u001b[0m\n\u001b[1;32m   5276\u001b[0m     \u001b[0;32mdef\u001b[0m \u001b[0m__setattr__\u001b[0m\u001b[0;34m(\u001b[0m\u001b[0mself\u001b[0m\u001b[0;34m,\u001b[0m \u001b[0mname\u001b[0m\u001b[0;34m:\u001b[0m \u001b[0mstr\u001b[0m\u001b[0;34m,\u001b[0m \u001b[0mvalue\u001b[0m\u001b[0;34m)\u001b[0m \u001b[0;34m->\u001b[0m \u001b[0;32mNone\u001b[0m\u001b[0;34m:\u001b[0m\u001b[0;34m\u001b[0m\u001b[0;34m\u001b[0m\u001b[0m\n",
      "\u001b[0;31mAttributeError\u001b[0m: 'DataFrame' object has no attribute 'intake_month'"
     ]
    }
   ],
   "source": [
    "df.intake_month"
   ]
  },
  {
   "cell_type": "code",
   "execution_count": 176,
   "metadata": {},
   "outputs": [
    {
     "name": "stdout",
     "output_type": "stream",
     "text": [
      "0\n",
      "0\n",
      "0\n",
      "0\n",
      "0\n",
      "0\n",
      "0\n",
      "0\n",
      "0\n",
      "0\n",
      "0\n",
      "0\n",
      "0\n",
      "0\n",
      "0\n",
      "0\n",
      "0\n",
      "0\n",
      "0\n",
      "0\n",
      "0\n",
      "0\n",
      "0\n",
      "0\n",
      "0\n",
      "0\n",
      "0\n",
      "0\n",
      "0\n",
      "0\n"
     ]
    }
   ],
   "source": [
    "for i in features:\n",
    "    print(df[df[i]=='1 year'].size)"
   ]
  },
  {
   "cell_type": "code",
   "execution_count": null,
   "metadata": {},
   "outputs": [],
   "source": []
  }
 ],
 "metadata": {
  "kernelspec": {
   "display_name": "Python 3",
   "language": "python",
   "name": "python3"
  },
  "language_info": {
   "codemirror_mode": {
    "name": "ipython",
    "version": 3
   },
   "file_extension": ".py",
   "mimetype": "text/x-python",
   "name": "python",
   "nbconvert_exporter": "python",
   "pygments_lexer": "ipython3",
   "version": "3.7.6"
  }
 },
 "nbformat": 4,
 "nbformat_minor": 4
}
